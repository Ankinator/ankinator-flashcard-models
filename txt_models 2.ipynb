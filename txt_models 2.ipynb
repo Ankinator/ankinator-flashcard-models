{
 "cells": [
  {
   "cell_type": "code",
   "execution_count": 10,
   "metadata": {
    "collapsed": false,
    "jupyter": {
     "outputs_hidden": false
    },
    "tags": [],
    "ExecuteTime": {
     "end_time": "2023-06-27T16:16:20.543906Z",
     "start_time": "2023-06-27T16:16:20.534810Z"
    }
   },
   "outputs": [],
   "source": [
    "import pandas as pd"
   ]
  },
  {
   "cell_type": "code",
   "execution_count": 11,
   "metadata": {
    "collapsed": false,
    "jupyter": {
     "outputs_hidden": false
    },
    "tags": [],
    "ExecuteTime": {
     "end_time": "2023-06-27T16:16:20.916191Z",
     "start_time": "2023-06-27T16:16:20.841040Z"
    }
   },
   "outputs": [],
   "source": [
    "df = pd.read_csv('flashcards_cleaned.csv')"
   ]
  },
  {
   "cell_type": "code",
   "execution_count": 12,
   "metadata": {
    "collapsed": false,
    "jupyter": {
     "outputs_hidden": false
    },
    "tags": [],
    "ExecuteTime": {
     "end_time": "2023-06-27T16:16:21.127570Z",
     "start_time": "2023-06-27T16:16:21.109296Z"
    }
   },
   "outputs": [
    {
     "data": {
      "text/plain": "      Unnamed: 0.1  Unnamed: 0  \\\n0                0           0   \n1                1           1   \n2                2           2   \n3                3           3   \n4                4           4   \n...            ...         ...   \n4196          4985        4985   \n4197          4986        4986   \n4198          4987        4987   \n4199          4988        4988   \n4200          4989        4989   \n\n                                             nfld_Front  \\\n0                   What is the Scrum process Framework   \n1                           What are the roles in scrum   \n2                          What are the events in Scrum   \n3                       What are the artifacts in Scrum   \n4             What's the main role of the Product Owner   \n...                                                 ...   \n4196  How are cost plus and fixed fee contracts diff...   \n4197        When is quality assessed in Agile projects?   \n4198  When creating the work breakdown structure a t...   \n4199                       Agile Team Responsibilities?   \n4200        What does it mean to use the budgeted rate?   \n\n                                              nfld_Back            nid  \\\n0              \\nTransparency\\nInspection\\nAdaptation\\n  1390319421487   \n1     \\nProduct Owner (PO)\\nScrum Master (SM)\\nDevel...  1390319485342   \n2     \\nSprint Planning\\nDaily Scrum\\nSprint review\\...  1390319607681   \n3     \\nProduct Backlog\\nProduct Burn-up/down chart ...  1390319686841   \n4     Translate the business needs in the product ba...  1393853787833   \n...                                                 ...            ...   \n4196  Cost plus is good for evolving workFixed fee i...  1666621607498   \n4197  Frequently, through built-in steps throughout ...  1666621885435   \n4198  Inform them that this is known as a planning p...  1666627163918   \n4199  Product Owner - represents customers, accounta...  1666628126743   \n4200  Variances atypical - this means use the EAC fo...  1666640852028   \n\n                   cdeck                                              nflds  \n0                  Scrum  ['What is the Scrum process Framework', '<ul>\\...  \n1                  Scrum  ['What are the roles in scrum', '<ul>\\n<li>Pro...  \n2                  Scrum  ['What are the events in Scrum', '<ul>\\n<li>Sp...  \n3                  Scrum  ['What are the artifacts in Scrum', '<ul>\\n<li...  \n4                  Scrum  [\"What's the main role of the Product Owner\", ...  \n...                  ...                                                ...  \n4196  Z PMP detail areas  ['How are cost plus and fixed fee contracts di...  \n4197  Z PMP detail areas  ['When is quality assessed in Agile projects?'...  \n4198  Z PMP detail areas  ['&nbsp;<span style=\"color: rgb(51, 51, 51); f...  \n4199  Z PMP detail areas  ['Agile Team Responsibilities?', 'Product Owne...  \n4200  Z PMP detail areas  ['What does it mean to use the budgeted rate?'...  \n\n[4201 rows x 7 columns]",
      "text/html": "<div>\n<style scoped>\n    .dataframe tbody tr th:only-of-type {\n        vertical-align: middle;\n    }\n\n    .dataframe tbody tr th {\n        vertical-align: top;\n    }\n\n    .dataframe thead th {\n        text-align: right;\n    }\n</style>\n<table border=\"1\" class=\"dataframe\">\n  <thead>\n    <tr style=\"text-align: right;\">\n      <th></th>\n      <th>Unnamed: 0.1</th>\n      <th>Unnamed: 0</th>\n      <th>nfld_Front</th>\n      <th>nfld_Back</th>\n      <th>nid</th>\n      <th>cdeck</th>\n      <th>nflds</th>\n    </tr>\n  </thead>\n  <tbody>\n    <tr>\n      <th>0</th>\n      <td>0</td>\n      <td>0</td>\n      <td>What is the Scrum process Framework</td>\n      <td>\\nTransparency\\nInspection\\nAdaptation\\n</td>\n      <td>1390319421487</td>\n      <td>Scrum</td>\n      <td>['What is the Scrum process Framework', '&lt;ul&gt;\\...</td>\n    </tr>\n    <tr>\n      <th>1</th>\n      <td>1</td>\n      <td>1</td>\n      <td>What are the roles in scrum</td>\n      <td>\\nProduct Owner (PO)\\nScrum Master (SM)\\nDevel...</td>\n      <td>1390319485342</td>\n      <td>Scrum</td>\n      <td>['What are the roles in scrum', '&lt;ul&gt;\\n&lt;li&gt;Pro...</td>\n    </tr>\n    <tr>\n      <th>2</th>\n      <td>2</td>\n      <td>2</td>\n      <td>What are the events in Scrum</td>\n      <td>\\nSprint Planning\\nDaily Scrum\\nSprint review\\...</td>\n      <td>1390319607681</td>\n      <td>Scrum</td>\n      <td>['What are the events in Scrum', '&lt;ul&gt;\\n&lt;li&gt;Sp...</td>\n    </tr>\n    <tr>\n      <th>3</th>\n      <td>3</td>\n      <td>3</td>\n      <td>What are the artifacts in Scrum</td>\n      <td>\\nProduct Backlog\\nProduct Burn-up/down chart ...</td>\n      <td>1390319686841</td>\n      <td>Scrum</td>\n      <td>['What are the artifacts in Scrum', '&lt;ul&gt;\\n&lt;li...</td>\n    </tr>\n    <tr>\n      <th>4</th>\n      <td>4</td>\n      <td>4</td>\n      <td>What's the main role of the Product Owner</td>\n      <td>Translate the business needs in the product ba...</td>\n      <td>1393853787833</td>\n      <td>Scrum</td>\n      <td>[\"What's the main role of the Product Owner\", ...</td>\n    </tr>\n    <tr>\n      <th>...</th>\n      <td>...</td>\n      <td>...</td>\n      <td>...</td>\n      <td>...</td>\n      <td>...</td>\n      <td>...</td>\n      <td>...</td>\n    </tr>\n    <tr>\n      <th>4196</th>\n      <td>4985</td>\n      <td>4985</td>\n      <td>How are cost plus and fixed fee contracts diff...</td>\n      <td>Cost plus is good for evolving workFixed fee i...</td>\n      <td>1666621607498</td>\n      <td>Z PMP detail areas</td>\n      <td>['How are cost plus and fixed fee contracts di...</td>\n    </tr>\n    <tr>\n      <th>4197</th>\n      <td>4986</td>\n      <td>4986</td>\n      <td>When is quality assessed in Agile projects?</td>\n      <td>Frequently, through built-in steps throughout ...</td>\n      <td>1666621885435</td>\n      <td>Z PMP detail areas</td>\n      <td>['When is quality assessed in Agile projects?'...</td>\n    </tr>\n    <tr>\n      <th>4198</th>\n      <td>4987</td>\n      <td>4987</td>\n      <td>When creating the work breakdown structure a t...</td>\n      <td>Inform them that this is known as a planning p...</td>\n      <td>1666627163918</td>\n      <td>Z PMP detail areas</td>\n      <td>['&amp;nbsp;&lt;span style=\"color: rgb(51, 51, 51); f...</td>\n    </tr>\n    <tr>\n      <th>4199</th>\n      <td>4988</td>\n      <td>4988</td>\n      <td>Agile Team Responsibilities?</td>\n      <td>Product Owner - represents customers, accounta...</td>\n      <td>1666628126743</td>\n      <td>Z PMP detail areas</td>\n      <td>['Agile Team Responsibilities?', 'Product Owne...</td>\n    </tr>\n    <tr>\n      <th>4200</th>\n      <td>4989</td>\n      <td>4989</td>\n      <td>What does it mean to use the budgeted rate?</td>\n      <td>Variances atypical - this means use the EAC fo...</td>\n      <td>1666640852028</td>\n      <td>Z PMP detail areas</td>\n      <td>['What does it mean to use the budgeted rate?'...</td>\n    </tr>\n  </tbody>\n</table>\n<p>4201 rows × 7 columns</p>\n</div>"
     },
     "execution_count": 12,
     "metadata": {},
     "output_type": "execute_result"
    }
   ],
   "source": [
    "df"
   ]
  },
  {
   "cell_type": "code",
   "execution_count": 13,
   "metadata": {
    "collapsed": false,
    "jupyter": {
     "outputs_hidden": false
    },
    "tags": [],
    "ExecuteTime": {
     "end_time": "2023-06-27T16:16:21.728382Z",
     "start_time": "2023-06-27T16:16:21.720678Z"
    }
   },
   "outputs": [],
   "source": [
    "df.drop(columns=['Unnamed: 0','Unnamed: 0.1'],inplace=True)"
   ]
  },
  {
   "cell_type": "code",
   "execution_count": 14,
   "metadata": {
    "collapsed": false,
    "jupyter": {
     "outputs_hidden": false
    },
    "tags": [],
    "ExecuteTime": {
     "end_time": "2023-06-27T16:16:22.148179Z",
     "start_time": "2023-06-27T16:16:22.142270Z"
    }
   },
   "outputs": [
    {
     "data": {
      "text/plain": "                                             nfld_Front  \\\n4196  How are cost plus and fixed fee contracts diff...   \n4197        When is quality assessed in Agile projects?   \n4198  When creating the work breakdown structure a t...   \n4199                       Agile Team Responsibilities?   \n4200        What does it mean to use the budgeted rate?   \n\n                                              nfld_Back            nid  \\\n4196  Cost plus is good for evolving workFixed fee i...  1666621607498   \n4197  Frequently, through built-in steps throughout ...  1666621885435   \n4198  Inform them that this is known as a planning p...  1666627163918   \n4199  Product Owner - represents customers, accounta...  1666628126743   \n4200  Variances atypical - this means use the EAC fo...  1666640852028   \n\n                   cdeck                                              nflds  \n4196  Z PMP detail areas  ['How are cost plus and fixed fee contracts di...  \n4197  Z PMP detail areas  ['When is quality assessed in Agile projects?'...  \n4198  Z PMP detail areas  ['&nbsp;<span style=\"color: rgb(51, 51, 51); f...  \n4199  Z PMP detail areas  ['Agile Team Responsibilities?', 'Product Owne...  \n4200  Z PMP detail areas  ['What does it mean to use the budgeted rate?'...  ",
      "text/html": "<div>\n<style scoped>\n    .dataframe tbody tr th:only-of-type {\n        vertical-align: middle;\n    }\n\n    .dataframe tbody tr th {\n        vertical-align: top;\n    }\n\n    .dataframe thead th {\n        text-align: right;\n    }\n</style>\n<table border=\"1\" class=\"dataframe\">\n  <thead>\n    <tr style=\"text-align: right;\">\n      <th></th>\n      <th>nfld_Front</th>\n      <th>nfld_Back</th>\n      <th>nid</th>\n      <th>cdeck</th>\n      <th>nflds</th>\n    </tr>\n  </thead>\n  <tbody>\n    <tr>\n      <th>4196</th>\n      <td>How are cost plus and fixed fee contracts diff...</td>\n      <td>Cost plus is good for evolving workFixed fee i...</td>\n      <td>1666621607498</td>\n      <td>Z PMP detail areas</td>\n      <td>['How are cost plus and fixed fee contracts di...</td>\n    </tr>\n    <tr>\n      <th>4197</th>\n      <td>When is quality assessed in Agile projects?</td>\n      <td>Frequently, through built-in steps throughout ...</td>\n      <td>1666621885435</td>\n      <td>Z PMP detail areas</td>\n      <td>['When is quality assessed in Agile projects?'...</td>\n    </tr>\n    <tr>\n      <th>4198</th>\n      <td>When creating the work breakdown structure a t...</td>\n      <td>Inform them that this is known as a planning p...</td>\n      <td>1666627163918</td>\n      <td>Z PMP detail areas</td>\n      <td>['&amp;nbsp;&lt;span style=\"color: rgb(51, 51, 51); f...</td>\n    </tr>\n    <tr>\n      <th>4199</th>\n      <td>Agile Team Responsibilities?</td>\n      <td>Product Owner - represents customers, accounta...</td>\n      <td>1666628126743</td>\n      <td>Z PMP detail areas</td>\n      <td>['Agile Team Responsibilities?', 'Product Owne...</td>\n    </tr>\n    <tr>\n      <th>4200</th>\n      <td>What does it mean to use the budgeted rate?</td>\n      <td>Variances atypical - this means use the EAC fo...</td>\n      <td>1666640852028</td>\n      <td>Z PMP detail areas</td>\n      <td>['What does it mean to use the budgeted rate?'...</td>\n    </tr>\n  </tbody>\n</table>\n</div>"
     },
     "execution_count": 14,
     "metadata": {},
     "output_type": "execute_result"
    }
   ],
   "source": [
    "df.tail()"
   ]
  },
  {
   "cell_type": "code",
   "execution_count": 15,
   "metadata": {
    "collapsed": false,
    "jupyter": {
     "outputs_hidden": false
    },
    "tags": [],
    "ExecuteTime": {
     "end_time": "2023-06-27T16:16:22.774698Z",
     "start_time": "2023-06-27T16:16:22.768815Z"
    }
   },
   "outputs": [],
   "source": [
    "tx = df.query('nid == 1666621607498').nfld_Back"
   ]
  },
  {
   "cell_type": "code",
   "execution_count": 9,
   "metadata": {
    "collapsed": false,
    "jupyter": {
     "outputs_hidden": false
    },
    "tags": []
   },
   "outputs": [
    {
     "name": "stdout",
     "output_type": "stream",
     "text": [
      "Defaulting to user installation because normal site-packages is not writeable\n",
      "Collecting wandb\n",
      "  Downloading wandb-0.15.0-py3-none-any.whl (2.0 MB)\n",
      "\u001B[2K     \u001B[90m━━━━━━━━━━━━━━━━━━━━━━━━━━━━━━━━━━━━━━━━\u001B[0m \u001B[32m2.0/2.0 MB\u001B[0m \u001B[31m20.4 MB/s\u001B[0m eta \u001B[36m0:00:00\u001B[0ma \u001B[36m0:00:01\u001B[0m\n",
      "\u001B[?25hRequirement already satisfied: requests<3,>=2.0.0 in /pfs/data5/software_uc2/bwhpc/common/jupyter/tensorflow/2023-03-24/lib/python3.9/site-packages (from wandb) (2.28.2)\n",
      "Requirement already satisfied: typing-extensions in /pfs/data5/software_uc2/bwhpc/common/jupyter/tensorflow/2023-03-24/lib/python3.9/site-packages (from wandb) (4.5.0)\n",
      "Requirement already satisfied: psutil>=5.0.0 in /pfs/data5/software_uc2/bwhpc/common/jupyter/tensorflow/2023-03-24/lib/python3.9/site-packages (from wandb) (5.9.4)\n",
      "Requirement already satisfied: setuptools in /pfs/data5/software_uc2/bwhpc/common/jupyter/tensorflow/2023-03-24/lib/python3.9/site-packages (from wandb) (50.3.2)\n",
      "Collecting appdirs>=1.4.3\n",
      "  Downloading appdirs-1.4.4-py2.py3-none-any.whl (9.6 kB)\n",
      "Requirement already satisfied: PyYAML in /pfs/data5/software_uc2/bwhpc/common/jupyter/tensorflow/2023-03-24/lib/python3.9/site-packages (from wandb) (6.0)\n",
      "Collecting sentry-sdk>=1.0.0\n",
      "  Downloading sentry_sdk-1.21.0-py2.py3-none-any.whl (199 kB)\n",
      "\u001B[2K     \u001B[90m━━━━━━━━━━━━━━━━━━━━━━━━━━━━━━━━━━━━━━\u001B[0m \u001B[32m199.5/199.5 kB\u001B[0m \u001B[31m29.1 MB/s\u001B[0m eta \u001B[36m0:00:00\u001B[0m\n",
      "\u001B[?25hCollecting GitPython!=3.1.29,>=1.0.0\n",
      "  Downloading GitPython-3.1.31-py3-none-any.whl (184 kB)\n",
      "\u001B[2K     \u001B[90m━━━━━━━━━━━━━━━━━━━━━━━━━━━━━━━━━━━━━━\u001B[0m \u001B[32m184.3/184.3 kB\u001B[0m \u001B[31m29.7 MB/s\u001B[0m eta \u001B[36m0:00:00\u001B[0m\n",
      "\u001B[?25hCollecting docker-pycreds>=0.4.0\n",
      "  Downloading docker_pycreds-0.4.0-py2.py3-none-any.whl (9.0 kB)\n",
      "Collecting pathtools\n",
      "  Downloading pathtools-0.1.2.tar.gz (11 kB)\n",
      "  Preparing metadata (setup.py) ... \u001B[?25ldone\n",
      "\u001B[?25hCollecting setproctitle\n",
      "  Downloading setproctitle-1.3.2-cp39-cp39-manylinux_2_5_x86_64.manylinux1_x86_64.manylinux_2_17_x86_64.manylinux2014_x86_64.whl (30 kB)\n",
      "Requirement already satisfied: protobuf!=4.21.0,<5,>=3.15.0 in /pfs/data5/software_uc2/bwhpc/common/jupyter/tensorflow/2023-03-24/lib/python3.9/site-packages (from wandb) (4.22.1)\n",
      "Requirement already satisfied: Click!=8.0.0,>=7.0 in /pfs/data5/software_uc2/bwhpc/common/jupyter/tensorflow/2023-03-24/lib/python3.9/site-packages (from wandb) (8.1.3)\n",
      "Requirement already satisfied: six>=1.4.0 in /pfs/data5/software_uc2/bwhpc/common/jupyter/tensorflow/2023-03-24/lib/python3.9/site-packages (from docker-pycreds>=0.4.0->wandb) (1.16.0)\n",
      "Collecting gitdb<5,>=4.0.1\n",
      "  Downloading gitdb-4.0.10-py3-none-any.whl (62 kB)\n",
      "\u001B[2K     \u001B[90m━━━━━━━━━━━━━━━━━━━━━━━━━━━━━━━━━━━━━━━━\u001B[0m \u001B[32m62.7/62.7 kB\u001B[0m \u001B[31m11.0 MB/s\u001B[0m eta \u001B[36m0:00:00\u001B[0m\n",
      "\u001B[?25hRequirement already satisfied: charset-normalizer<4,>=2 in /pfs/data5/software_uc2/bwhpc/common/jupyter/tensorflow/2023-03-24/lib/python3.9/site-packages (from requests<3,>=2.0.0->wandb) (3.1.0)\n",
      "Requirement already satisfied: urllib3<1.27,>=1.21.1 in /pfs/data5/software_uc2/bwhpc/common/jupyter/tensorflow/2023-03-24/lib/python3.9/site-packages (from requests<3,>=2.0.0->wandb) (1.26.15)\n",
      "Requirement already satisfied: idna<4,>=2.5 in /pfs/data5/software_uc2/bwhpc/common/jupyter/tensorflow/2023-03-24/lib/python3.9/site-packages (from requests<3,>=2.0.0->wandb) (3.4)\n",
      "Requirement already satisfied: certifi>=2017.4.17 in /pfs/data5/software_uc2/bwhpc/common/jupyter/tensorflow/2023-03-24/lib/python3.9/site-packages (from requests<3,>=2.0.0->wandb) (2022.12.7)\n",
      "Collecting smmap<6,>=3.0.1\n",
      "  Downloading smmap-5.0.0-py3-none-any.whl (24 kB)\n",
      "Building wheels for collected packages: pathtools\n",
      "  Building wheel for pathtools (setup.py) ... \u001B[?25ldone\n",
      "\u001B[?25h  Created wheel for pathtools: filename=pathtools-0.1.2-py3-none-any.whl size=8785 sha256=c8b22f170065ad9e82c3800a8ff3fa8c03045fb671ffe80a3033ae759bb114bf\n",
      "  Stored in directory: /pfs/data5/home/ma/ma_ma/ma_ptyagi/.cache/pip/wheels/b7/0a/67/ada2a22079218c75a88361c0782855cc72aebc4d18d0289d05\n",
      "Successfully built pathtools\n",
      "Installing collected packages: pathtools, appdirs, smmap, setproctitle, sentry-sdk, docker-pycreds, gitdb, GitPython, wandb\n",
      "\u001B[33m  WARNING: The scripts wandb and wb are installed in '/home/ma/ma_ma/ma_ptyagi/.local/bin' which is not on PATH.\n",
      "  Consider adding this directory to PATH or, if you prefer to suppress this warning, use --no-warn-script-location.\u001B[0m\u001B[33m\n",
      "\u001B[0mSuccessfully installed GitPython-3.1.31 appdirs-1.4.4 docker-pycreds-0.4.0 gitdb-4.0.10 pathtools-0.1.2 sentry-sdk-1.21.0 setproctitle-1.3.2 smmap-5.0.0 wandb-0.15.0\n",
      "\n",
      "\u001B[1m[\u001B[0m\u001B[34;49mnotice\u001B[0m\u001B[1;39;49m]\u001B[0m\u001B[39;49m A new release of pip is available: \u001B[0m\u001B[31;49m23.0.1\u001B[0m\u001B[39;49m -> \u001B[0m\u001B[32;49m23.1.2\u001B[0m\n",
      "\u001B[1m[\u001B[0m\u001B[34;49mnotice\u001B[0m\u001B[1;39;49m]\u001B[0m\u001B[39;49m To update, run: \u001B[0m\u001B[32;49mpip install --upgrade pip\u001B[0m\n"
     ]
    }
   ],
   "source": [
    "!pip install wandb"
   ]
  },
  {
   "cell_type": "code",
   "execution_count": 10,
   "metadata": {
    "tags": []
   },
   "outputs": [
    {
     "name": "stdout",
     "output_type": "stream",
     "text": [
      "Defaulting to user installation because normal site-packages is not writeable\n",
      "Collecting datasets\n",
      "  Downloading datasets-2.12.0-py3-none-any.whl (474 kB)\n",
      "\u001B[2K     \u001B[90m━━━━━━━━━━━━━━━━━━━━━━━━━━━━━━━━━━━━━━\u001B[0m \u001B[32m474.6/474.6 kB\u001B[0m \u001B[31m17.4 MB/s\u001B[0m eta \u001B[36m0:00:00\u001B[0m\n",
      "\u001B[?25hCollecting responses<0.19\n",
      "  Downloading responses-0.18.0-py3-none-any.whl (38 kB)\n",
      "Collecting xxhash\n",
      "  Downloading xxhash-3.2.0-cp39-cp39-manylinux_2_17_x86_64.manylinux2014_x86_64.whl (212 kB)\n",
      "\u001B[2K     \u001B[90m━━━━━━━━━━━━━━━━━━━━━━━━━━━━━━━━━━━━━━\u001B[0m \u001B[32m212.2/212.2 kB\u001B[0m \u001B[31m36.4 MB/s\u001B[0m eta \u001B[36m0:00:00\u001B[0m\n",
      "\u001B[?25hCollecting multiprocess\n",
      "  Downloading multiprocess-0.70.14-py39-none-any.whl (132 kB)\n",
      "\u001B[2K     \u001B[90m━━━━━━━━━━━━━━━━━━━━━━━━━━━━━━━━━━━━━━\u001B[0m \u001B[32m132.9/132.9 kB\u001B[0m \u001B[31m23.7 MB/s\u001B[0m eta \u001B[36m0:00:00\u001B[0m\n",
      "\u001B[?25hRequirement already satisfied: pandas in /pfs/data5/software_uc2/bwhpc/common/jupyter/tensorflow/2023-03-24/lib/python3.9/site-packages (from datasets) (1.5.3)\n",
      "Requirement already satisfied: tqdm>=4.62.1 in /pfs/data5/software_uc2/bwhpc/common/jupyter/tensorflow/2023-03-24/lib/python3.9/site-packages (from datasets) (4.65.0)\n",
      "Requirement already satisfied: fsspec[http]>=2021.11.1 in /pfs/data5/software_uc2/bwhpc/common/jupyter/tensorflow/2023-03-24/lib/python3.9/site-packages (from datasets) (2023.3.0)\n",
      "Requirement already satisfied: huggingface-hub<1.0.0,>=0.11.0 in /pfs/data5/home/ma/ma_ma/ma_ptyagi/.local/lib/python3.9/site-packages (from datasets) (0.14.1)\n",
      "Collecting pyarrow>=8.0.0\n",
      "  Downloading pyarrow-11.0.0-cp39-cp39-manylinux_2_17_x86_64.manylinux2014_x86_64.whl (34.9 MB)\n",
      "\u001B[2K     \u001B[90m━━━━━━━━━━━━━━━━━━━━━━━━━━━━━━━━━━━━━━━━\u001B[0m \u001B[32m34.9/34.9 MB\u001B[0m \u001B[31m51.1 MB/s\u001B[0m eta \u001B[36m0:00:00\u001B[0m00:01\u001B[0m00:01\u001B[0m\n",
      "\u001B[?25hRequirement already satisfied: requests>=2.19.0 in /pfs/data5/software_uc2/bwhpc/common/jupyter/tensorflow/2023-03-24/lib/python3.9/site-packages (from datasets) (2.28.2)\n",
      "Requirement already satisfied: numpy>=1.17 in /pfs/data5/software_uc2/bwhpc/common/jupyter/tensorflow/2023-03-24/lib/python3.9/site-packages (from datasets) (1.23.5)\n",
      "Collecting dill<0.3.7,>=0.3.0\n",
      "  Downloading dill-0.3.6-py3-none-any.whl (110 kB)\n",
      "\u001B[2K     \u001B[90m━━━━━━━━━━━━━━━━━━━━━━━━━━━━━━━━━━━━━━\u001B[0m \u001B[32m110.5/110.5 kB\u001B[0m \u001B[31m18.7 MB/s\u001B[0m eta \u001B[36m0:00:00\u001B[0m\n",
      "\u001B[?25hRequirement already satisfied: aiohttp in /pfs/data5/software_uc2/bwhpc/common/jupyter/tensorflow/2023-03-24/lib/python3.9/site-packages (from datasets) (3.8.4)\n",
      "Requirement already satisfied: packaging in /pfs/data5/software_uc2/bwhpc/common/jupyter/tensorflow/2023-03-24/lib/python3.9/site-packages (from datasets) (23.0)\n",
      "Requirement already satisfied: pyyaml>=5.1 in /pfs/data5/software_uc2/bwhpc/common/jupyter/tensorflow/2023-03-24/lib/python3.9/site-packages (from datasets) (6.0)\n",
      "Requirement already satisfied: attrs>=17.3.0 in /pfs/data5/software_uc2/bwhpc/common/jupyter/tensorflow/2023-03-24/lib/python3.9/site-packages (from aiohttp->datasets) (22.2.0)\n",
      "Requirement already satisfied: yarl<2.0,>=1.0 in /pfs/data5/software_uc2/bwhpc/common/jupyter/tensorflow/2023-03-24/lib/python3.9/site-packages (from aiohttp->datasets) (1.8.2)\n",
      "Requirement already satisfied: aiosignal>=1.1.2 in /pfs/data5/software_uc2/bwhpc/common/jupyter/tensorflow/2023-03-24/lib/python3.9/site-packages (from aiohttp->datasets) (1.3.1)\n",
      "Requirement already satisfied: charset-normalizer<4.0,>=2.0 in /pfs/data5/software_uc2/bwhpc/common/jupyter/tensorflow/2023-03-24/lib/python3.9/site-packages (from aiohttp->datasets) (3.1.0)\n",
      "Requirement already satisfied: multidict<7.0,>=4.5 in /pfs/data5/software_uc2/bwhpc/common/jupyter/tensorflow/2023-03-24/lib/python3.9/site-packages (from aiohttp->datasets) (6.0.4)\n",
      "Requirement already satisfied: frozenlist>=1.1.1 in /pfs/data5/software_uc2/bwhpc/common/jupyter/tensorflow/2023-03-24/lib/python3.9/site-packages (from aiohttp->datasets) (1.3.3)\n",
      "Requirement already satisfied: async-timeout<5.0,>=4.0.0a3 in /pfs/data5/software_uc2/bwhpc/common/jupyter/tensorflow/2023-03-24/lib/python3.9/site-packages (from aiohttp->datasets) (4.0.2)\n",
      "Requirement already satisfied: typing-extensions>=3.7.4.3 in /pfs/data5/software_uc2/bwhpc/common/jupyter/tensorflow/2023-03-24/lib/python3.9/site-packages (from huggingface-hub<1.0.0,>=0.11.0->datasets) (4.5.0)\n",
      "Requirement already satisfied: filelock in /pfs/data5/software_uc2/bwhpc/common/jupyter/tensorflow/2023-03-24/lib/python3.9/site-packages (from huggingface-hub<1.0.0,>=0.11.0->datasets) (3.10.2)\n",
      "Requirement already satisfied: urllib3<1.27,>=1.21.1 in /pfs/data5/software_uc2/bwhpc/common/jupyter/tensorflow/2023-03-24/lib/python3.9/site-packages (from requests>=2.19.0->datasets) (1.26.15)\n",
      "Requirement already satisfied: certifi>=2017.4.17 in /pfs/data5/software_uc2/bwhpc/common/jupyter/tensorflow/2023-03-24/lib/python3.9/site-packages (from requests>=2.19.0->datasets) (2022.12.7)\n",
      "Requirement already satisfied: idna<4,>=2.5 in /pfs/data5/software_uc2/bwhpc/common/jupyter/tensorflow/2023-03-24/lib/python3.9/site-packages (from requests>=2.19.0->datasets) (3.4)\n",
      "Requirement already satisfied: pytz>=2020.1 in /pfs/data5/software_uc2/bwhpc/common/jupyter/tensorflow/2023-03-24/lib/python3.9/site-packages (from pandas->datasets) (2022.7.1)\n",
      "Requirement already satisfied: python-dateutil>=2.8.1 in /pfs/data5/software_uc2/bwhpc/common/jupyter/tensorflow/2023-03-24/lib/python3.9/site-packages (from pandas->datasets) (2.8.2)\n",
      "Requirement already satisfied: six>=1.5 in /pfs/data5/software_uc2/bwhpc/common/jupyter/tensorflow/2023-03-24/lib/python3.9/site-packages (from python-dateutil>=2.8.1->pandas->datasets) (1.16.0)\n",
      "Installing collected packages: xxhash, pyarrow, dill, responses, multiprocess, datasets\n",
      "\u001B[33m  WARNING: The script plasma_store is installed in '/home/ma/ma_ma/ma_ptyagi/.local/bin' which is not on PATH.\n",
      "  Consider adding this directory to PATH or, if you prefer to suppress this warning, use --no-warn-script-location.\u001B[0m\u001B[33m\n",
      "\u001B[0m\u001B[33m  WARNING: The script datasets-cli is installed in '/home/ma/ma_ma/ma_ptyagi/.local/bin' which is not on PATH.\n",
      "  Consider adding this directory to PATH or, if you prefer to suppress this warning, use --no-warn-script-location.\u001B[0m\u001B[33m\n",
      "\u001B[0mSuccessfully installed datasets-2.12.0 dill-0.3.6 multiprocess-0.70.14 pyarrow-11.0.0 responses-0.18.0 xxhash-3.2.0\n",
      "\n",
      "\u001B[1m[\u001B[0m\u001B[34;49mnotice\u001B[0m\u001B[1;39;49m]\u001B[0m\u001B[39;49m A new release of pip is available: \u001B[0m\u001B[31;49m23.0.1\u001B[0m\u001B[39;49m -> \u001B[0m\u001B[32;49m23.1.2\u001B[0m\n",
      "\u001B[1m[\u001B[0m\u001B[34;49mnotice\u001B[0m\u001B[1;39;49m]\u001B[0m\u001B[39;49m To update, run: \u001B[0m\u001B[32;49mpip install --upgrade pip\u001B[0m\n"
     ]
    }
   ],
   "source": [
    "!pip install datasets"
   ]
  },
  {
   "cell_type": "code",
   "execution_count": 1,
   "metadata": {
    "tags": [],
    "ExecuteTime": {
     "end_time": "2023-06-27T16:10:33.352573Z",
     "start_time": "2023-06-27T16:10:00.570737Z"
    }
   },
   "outputs": [
    {
     "name": "stderr",
     "output_type": "stream",
     "text": [
      "2023-06-27 21:40:14.471530: I tensorflow/core/platform/cpu_feature_guard.cc:193] This TensorFlow binary is optimized with oneAPI Deep Neural Network Library (oneDNN) to use the following CPU instructions in performance-critical operations:  SSE4.1 SSE4.2 AVX AVX2 FMA\n",
      "To enable them in other operations, rebuild TensorFlow with the appropriate compiler flags.\n",
      "/usr/local/Caskroom/miniconda/base/envs/sap_sr/lib/python3.10/site-packages/scipy/__init__.py:146: UserWarning: A NumPy version >=1.16.5 and <1.23.0 is required for this version of SciPy (detected version 1.23.5\n",
      "  warnings.warn(f\"A NumPy version >={np_minversion} and <{np_maxversion}\"\n"
     ]
    }
   ],
   "source": [
    "import torch\n",
    "\n",
    "from datasets import load_dataset, load_metric, list_metrics,Dataset, DatasetDict\n",
    "from transformers import AutoModelForSeq2SeqLM, AutoTokenizer, DataCollator, T5ForConditionalGeneration, T5TokenizerFast, T5Tokenizer, EvalPrediction, Trainer, TrainingArguments\n",
    "\n",
    "from tqdm import tqdm\n",
    "\n",
    "from typing import Dict, List, Optional\n",
    "\n",
    "import dataclasses\n",
    "from dataclasses import dataclass, field\n",
    "\n",
    "import logging\n",
    "import os\n",
    "import sys\n",
    "\n",
    "import numpy as np\n",
    "import torch\n",
    "\n",
    "from huggingface_hub import notebook_login\n",
    "\n"
   ]
  },
  {
   "cell_type": "code",
   "execution_count": 7,
   "metadata": {
    "tags": []
   },
   "outputs": [
    {
     "name": "stderr",
     "output_type": "stream",
     "text": [
      "Failed to detect the name of this notebook, you can set it manually with the WANDB_NOTEBOOK_NAME environment variable to enable code saving.\n",
      "\u001B[34m\u001B[1mwandb\u001B[0m: Currently logged in as: \u001B[33mpranav-tyagi-19\u001B[0m (\u001B[33mankinator\u001B[0m). Use \u001B[1m`wandb login --relogin`\u001B[0m to force relogin\n"
     ]
    },
    {
     "name": "stdout",
     "output_type": "stream",
     "text": [
      "env: WANDB_PROJECT=t5-e2e\n"
     ]
    }
   ],
   "source": [
    "import wandb\n",
    "wandb.login()\n",
    "\n",
    "%env WANDB_PROJECT=t5-e2e"
   ]
  },
  {
   "cell_type": "code",
   "execution_count": 8,
   "metadata": {
    "tags": []
   },
   "outputs": [
    {
     "data": {
      "application/vnd.jupyter.widget-view+json": {
       "model_id": "7b610cd97c084a60827cf9bc1dd955a9",
       "version_major": 2,
       "version_minor": 0
      },
      "text/plain": [
       "VBox(children=(HTML(value='<center> <img\\nsrc=https://huggingface.co/front/assets/huggingface_logo-noborder.sv…"
      ]
     },
     "metadata": {},
     "output_type": "display_data"
    }
   ],
   "source": [
    "notebook_login()"
   ]
  },
  {
   "cell_type": "code",
   "execution_count": 16,
   "metadata": {
    "tags": [],
    "ExecuteTime": {
     "end_time": "2023-06-27T16:16:31.386825Z",
     "start_time": "2023-06-27T16:16:31.379766Z"
    }
   },
   "outputs": [],
   "source": [
    "df1 = df[['nfld_Back','nfld_Front']]"
   ]
  },
  {
   "cell_type": "code",
   "execution_count": 17,
   "metadata": {
    "tags": [],
    "ExecuteTime": {
     "end_time": "2023-06-27T16:16:31.712296Z",
     "start_time": "2023-06-27T16:16:31.704737Z"
    }
   },
   "outputs": [
    {
     "name": "stderr",
     "output_type": "stream",
     "text": [
      "/var/folders/7j/mf5p4rjs4pv7s2ctxyh2kzyr0000gn/T/ipykernel_51269/944964238.py:1: SettingWithCopyWarning: \n",
      "A value is trying to be set on a copy of a slice from a DataFrame\n",
      "\n",
      "See the caveats in the documentation: https://pandas.pydata.org/pandas-docs/stable/user_guide/indexing.html#returning-a-view-versus-a-copy\n",
      "  df1.rename(columns={\"nfld_Back\":\"context\",\"nfld_Front\":\"questions\"},inplace=True)\n"
     ]
    }
   ],
   "source": [
    "df1.rename(columns={\"nfld_Back\":\"context\",\"nfld_Front\":\"questions\"},inplace=True)"
   ]
  },
  {
   "cell_type": "code",
   "execution_count": 18,
   "metadata": {
    "tags": [],
    "ExecuteTime": {
     "end_time": "2023-06-27T16:16:32.361445Z",
     "start_time": "2023-06-27T16:16:32.355492Z"
    }
   },
   "outputs": [
    {
     "name": "stderr",
     "output_type": "stream",
     "text": [
      "/var/folders/7j/mf5p4rjs4pv7s2ctxyh2kzyr0000gn/T/ipykernel_51269/3016100074.py:1: SettingWithCopyWarning: \n",
      "A value is trying to be set on a copy of a slice from a DataFrame\n",
      "\n",
      "See the caveats in the documentation: https://pandas.pydata.org/pandas-docs/stable/user_guide/indexing.html#returning-a-view-versus-a-copy\n",
      "  df1.dropna(inplace=True)\n"
     ]
    }
   ],
   "source": [
    "df1.dropna(inplace=True)"
   ]
  },
  {
   "cell_type": "code",
   "execution_count": 19,
   "metadata": {
    "tags": [],
    "ExecuteTime": {
     "end_time": "2023-06-27T16:16:32.987895Z",
     "start_time": "2023-06-27T16:16:32.881461Z"
    }
   },
   "outputs": [],
   "source": [
    "from sklearn.model_selection import train_test_split\n",
    "\n",
    "train, test = train_test_split(df1, test_size=0.2)\n",
    "train, valid = train_test_split(train, test_size=0.25)"
   ]
  },
  {
   "cell_type": "code",
   "execution_count": 20,
   "metadata": {
    "tags": [],
    "ExecuteTime": {
     "end_time": "2023-06-27T16:16:35.742887Z",
     "start_time": "2023-06-27T16:16:35.738001Z"
    }
   },
   "outputs": [
    {
     "data": {
      "text/plain": "                                                context  \\\n716                                      Segment table.   \n1072           Simultaneous Peripheral Operation Online   \n3186  A program he made it that provides for interac...   \n499   1. A binary semaphore's value is restricted to...   \n4136  At the beginning of the project (listing out r...   \n...                                                 ...   \n1543  {{c21::diversification of products - spreads r...   \n2871  Data created by a machine without human interv...   \n1874                                      Opportunities   \n2136                        Verify CMDB record accuracy   \n3620   A translator converts one language into another.   \n\n                                              questions  \n716   Segments for a process are defined in the proc...  \n1072  The term \"spool\" is based on the acronym _____...  \n3186                                 Scripting language  \n499   Distinguish a binary semaphore from a counting...  \n4136          When do stakeholders have most influence?  \n...                                                 ...  \n1543   What are the advantages of being a big business?  \n2871                             Machine generated data  \n1874  What represents options or possibilities to ad...  \n2136  Configuration \\ninformation is often stored an...  \n3620    What is a Translator in Information Technology?  \n\n[826 rows x 2 columns]",
      "text/html": "<div>\n<style scoped>\n    .dataframe tbody tr th:only-of-type {\n        vertical-align: middle;\n    }\n\n    .dataframe tbody tr th {\n        vertical-align: top;\n    }\n\n    .dataframe thead th {\n        text-align: right;\n    }\n</style>\n<table border=\"1\" class=\"dataframe\">\n  <thead>\n    <tr style=\"text-align: right;\">\n      <th></th>\n      <th>context</th>\n      <th>questions</th>\n    </tr>\n  </thead>\n  <tbody>\n    <tr>\n      <th>716</th>\n      <td>Segment table.</td>\n      <td>Segments for a process are defined in the proc...</td>\n    </tr>\n    <tr>\n      <th>1072</th>\n      <td>Simultaneous Peripheral Operation Online</td>\n      <td>The term \"spool\" is based on the acronym _____...</td>\n    </tr>\n    <tr>\n      <th>3186</th>\n      <td>A program he made it that provides for interac...</td>\n      <td>Scripting language</td>\n    </tr>\n    <tr>\n      <th>499</th>\n      <td>1. A binary semaphore's value is restricted to...</td>\n      <td>Distinguish a binary semaphore from a counting...</td>\n    </tr>\n    <tr>\n      <th>4136</th>\n      <td>At the beginning of the project (listing out r...</td>\n      <td>When do stakeholders have most influence?</td>\n    </tr>\n    <tr>\n      <th>...</th>\n      <td>...</td>\n      <td>...</td>\n    </tr>\n    <tr>\n      <th>1543</th>\n      <td>{{c21::diversification of products - spreads r...</td>\n      <td>What are the advantages of being a big business?</td>\n    </tr>\n    <tr>\n      <th>2871</th>\n      <td>Data created by a machine without human interv...</td>\n      <td>Machine generated data</td>\n    </tr>\n    <tr>\n      <th>1874</th>\n      <td>Opportunities</td>\n      <td>What represents options or possibilities to ad...</td>\n    </tr>\n    <tr>\n      <th>2136</th>\n      <td>Verify CMDB record accuracy</td>\n      <td>Configuration \\ninformation is often stored an...</td>\n    </tr>\n    <tr>\n      <th>3620</th>\n      <td>A translator converts one language into another.</td>\n      <td>What is a Translator in Information Technology?</td>\n    </tr>\n  </tbody>\n</table>\n<p>826 rows × 2 columns</p>\n</div>"
     },
     "execution_count": 20,
     "metadata": {},
     "output_type": "execute_result"
    }
   ],
   "source": [
    "test"
   ]
  },
  {
   "cell_type": "code",
   "execution_count": 14,
   "metadata": {
    "tags": []
   },
   "outputs": [],
   "source": [
    "raw_train = Dataset.from_pandas(train)\n",
    "raw_valid = Dataset.from_pandas(valid)"
   ]
  },
  {
   "cell_type": "code",
   "execution_count": 15,
   "metadata": {
    "tags": []
   },
   "outputs": [],
   "source": [
    "ds_dict = {'train' : raw_train\n",
    "    ,'validation' : raw_valid}\n",
    "\n",
    "raw_text = DatasetDict(ds_dict)"
   ]
  },
  {
   "cell_type": "code",
   "execution_count": 16,
   "metadata": {
    "tags": []
   },
   "outputs": [
    {
     "data": {
      "text/plain": [
       "DatasetDict({\n",
       "    train: Dataset({\n",
       "        features: ['context', 'questions', '__index_level_0__'],\n",
       "        num_rows: 2478\n",
       "    })\n",
       "    validation: Dataset({\n",
       "        features: ['context', 'questions', '__index_level_0__'],\n",
       "        num_rows: 826\n",
       "    })\n",
       "})"
      ]
     },
     "execution_count": 16,
     "metadata": {},
     "output_type": "execute_result"
    }
   ],
   "source": [
    "raw_text"
   ]
  },
  {
   "cell_type": "code",
   "execution_count": 17,
   "metadata": {},
   "outputs": [],
   "source": [
    "!git config --global user.email \"pranav.tyagi.19@gmail.com\"\n",
    "!git config --global user.name \"pranav1305\""
   ]
  },
  {
   "cell_type": "code",
   "execution_count": null,
   "metadata": {},
   "outputs": [],
   "source": []
  },
  {
   "cell_type": "code",
   "execution_count": null,
   "metadata": {},
   "outputs": [],
   "source": []
  },
  {
   "cell_type": "code",
   "execution_count": null,
   "metadata": {},
   "outputs": [],
   "source": []
  },
  {
   "cell_type": "code",
   "execution_count": 2,
   "metadata": {
    "tags": [],
    "ExecuteTime": {
     "end_time": "2023-06-27T16:13:28.331867Z",
     "start_time": "2023-06-27T16:13:23.848093Z"
    }
   },
   "outputs": [
    {
     "name": "stderr",
     "output_type": "stream",
     "text": [
      "/usr/local/Caskroom/miniconda/base/envs/sap_sr/lib/python3.10/site-packages/transformers/models/t5/tokenization_t5_fast.py:156: FutureWarning: This tokenizer was incorrectly instantiated with a model max length of 512 which will be corrected in Transformers v5.\n",
      "For now, this behavior is kept to avoid breaking backwards compatibility when padding/encoding with `truncation is True`.\n",
      "- Be aware that you SHOULD NOT rely on t5-base automatically truncating your input to 512 when padding/encoding.\n",
      "- If you want to encode/pad to sequences longer than 512 you can either instantiate this tokenizer with `model_max_length` or pass `max_length` when encoding/padding.\n",
      "- To avoid this warning, please instantiate this tokenizer with `model_max_length` set to your preferred value.\n",
      "  warnings.warn(\n"
     ]
    }
   ],
   "source": [
    "checkpoint = \"t5-base\"\n",
    "model = T5ForConditionalGeneration.from_pretrained(checkpoint)\n",
    "tokenizer = T5TokenizerFast.from_pretrained(checkpoint)"
   ]
  },
  {
   "cell_type": "code",
   "execution_count": 3,
   "metadata": {
    "tags": [],
    "ExecuteTime": {
     "end_time": "2023-06-27T16:13:28.336170Z",
     "start_time": "2023-06-27T16:13:28.330836Z"
    }
   },
   "outputs": [],
   "source": [
    "tokenizer.sep_token = '<sep>'"
   ]
  },
  {
   "cell_type": "code",
   "execution_count": 4,
   "metadata": {
    "tags": [],
    "ExecuteTime": {
     "end_time": "2023-06-27T16:13:28.669852Z",
     "start_time": "2023-06-27T16:13:28.362335Z"
    }
   },
   "outputs": [
    {
     "data": {
      "text/plain": "Embedding(32101, 768)"
     },
     "execution_count": 4,
     "metadata": {},
     "output_type": "execute_result"
    }
   ],
   "source": [
    "tokenizer.add_tokens(['<sep>'])\n",
    "model.resize_token_embeddings(len(tokenizer))"
   ]
  },
  {
   "cell_type": "code",
   "execution_count": 5,
   "metadata": {
    "tags": [],
    "ExecuteTime": {
     "end_time": "2023-06-27T16:13:31.354236Z",
     "start_time": "2023-06-27T16:13:31.347184Z"
    }
   },
   "outputs": [],
   "source": [
    "max_input_length =  512\n",
    "max_target_length = 64"
   ]
  },
  {
   "cell_type": "code",
   "execution_count": 22,
   "metadata": {
    "tags": []
   },
   "outputs": [],
   "source": [
    "# tokenize the examples\n",
    "def convert_to_features(example_batch):\n",
    "\n",
    "    input_encodings = tokenizer.batch_encode_plus(example_batch['context'], \n",
    "                                                  max_length=max_input_length, \n",
    "                                                  add_special_tokens=True,\n",
    "                                                  truncation=True, \n",
    "                                                  pad_to_max_length=True)\n",
    "    \n",
    "    target_encodings = tokenizer.batch_encode_plus(example_batch['questions'], \n",
    "                                                   max_length=max_target_length, \n",
    "                                                   add_special_tokens=True,\n",
    "                                                   truncation=True, pad_to_max_length=True)\n",
    "                                                   \n",
    "    encodings = {\n",
    "        'input_ids': input_encodings['input_ids'], \n",
    "        'attention_mask': input_encodings['attention_mask'],\n",
    "        'decoder_input_ids': target_encodings['input_ids']\n",
    "        ,'decoder_attention_mask': target_encodings['attention_mask']\n",
    "    }\n",
    "\n",
    "    return encodings\n",
    "\n",
    "def add_eos_examples(example):\n",
    "  example['context'] = example['context'] + \" </s>\"\n",
    "  example['questions'] = example['questions'] + \" </s>\"\n",
    "  return example\n",
    "\n",
    "\n",
    "def add_special_tokens(example):\n",
    "  example['questions'] = example['questions'].replace(\"{sep_token}\", '<sep>')\n",
    "  return example"
   ]
  },
  {
   "cell_type": "code",
   "execution_count": 23,
   "metadata": {
    "tags": []
   },
   "outputs": [
    {
     "data": {
      "application/vnd.jupyter.widget-view+json": {
       "model_id": "",
       "version_major": 2,
       "version_minor": 0
      },
      "text/plain": [
       "Map:   0%|          | 0/2478 [00:00<?, ? examples/s]"
      ]
     },
     "metadata": {},
     "output_type": "display_data"
    },
    {
     "data": {
      "application/vnd.jupyter.widget-view+json": {
       "model_id": "",
       "version_major": 2,
       "version_minor": 0
      },
      "text/plain": [
       "Map:   0%|          | 0/826 [00:00<?, ? examples/s]"
      ]
     },
     "metadata": {},
     "output_type": "display_data"
    },
    {
     "data": {
      "application/vnd.jupyter.widget-view+json": {
       "model_id": "",
       "version_major": 2,
       "version_minor": 0
      },
      "text/plain": [
       "Map:   0%|          | 0/2478 [00:00<?, ? examples/s]"
      ]
     },
     "metadata": {},
     "output_type": "display_data"
    },
    {
     "data": {
      "application/vnd.jupyter.widget-view+json": {
       "model_id": "",
       "version_major": 2,
       "version_minor": 0
      },
      "text/plain": [
       "Map:   0%|          | 0/826 [00:00<?, ? examples/s]"
      ]
     },
     "metadata": {},
     "output_type": "display_data"
    },
    {
     "data": {
      "application/vnd.jupyter.widget-view+json": {
       "model_id": "",
       "version_major": 2,
       "version_minor": 0
      },
      "text/plain": [
       "Map:   0%|          | 0/2478 [00:00<?, ? examples/s]"
      ]
     },
     "metadata": {},
     "output_type": "display_data"
    },
    {
     "name": "stderr",
     "output_type": "stream",
     "text": [
      "/home/ma/ma_ma/ma_ptyagi/.local/lib/python3.9/site-packages/transformers/tokenization_utils_base.py:2354: FutureWarning: The `pad_to_max_length` argument is deprecated and will be removed in a future version, use `padding=True` or `padding='longest'` to pad to the longest sequence in the batch, or use `padding='max_length'` to pad to a max length. In this case, you can give a specific length with `max_length` (e.g. `max_length=45`) or leave max_length to None to pad to the maximal input size of the model (e.g. 512 for Bert).\n",
      "  warnings.warn(\n"
     ]
    },
    {
     "data": {
      "application/vnd.jupyter.widget-view+json": {
       "model_id": "",
       "version_major": 2,
       "version_minor": 0
      },
      "text/plain": [
       "Map:   0%|          | 0/826 [00:00<?, ? examples/s]"
      ]
     },
     "metadata": {},
     "output_type": "display_data"
    }
   ],
   "source": [
    "tokenized_dataset  = raw_text.map(add_eos_examples)\n",
    "tokenized_dataset = tokenized_dataset.map(add_special_tokens)\n",
    "tokenized_dataset  = tokenized_dataset.map(convert_to_features,  batched=True)"
   ]
  },
  {
   "cell_type": "code",
   "execution_count": 24,
   "metadata": {
    "tags": []
   },
   "outputs": [
    {
     "data": {
      "text/plain": [
       "'Automated </s>'"
      ]
     },
     "execution_count": 24,
     "metadata": {},
     "output_type": "execute_result"
    }
   ],
   "source": [
    "tokenized_dataset[\"train\"][5][\"context\"]"
   ]
  },
  {
   "cell_type": "code",
   "execution_count": 25,
   "metadata": {
    "tags": []
   },
   "outputs": [],
   "source": [
    "tokenized_dataset = tokenized_dataset.remove_columns(\n",
    "    [\"context\", \"questions\"]\n",
    ")\n",
    "\n",
    "train_dataset = tokenized_dataset[\"train\"]\n",
    "valid_dataset = tokenized_dataset[\"validation\"]\n",
    "\n",
    "columns = ['input_ids', 'decoder_input_ids', 'attention_mask', 'decoder_attention_mask']\n",
    "train_dataset.set_format(type='torch', columns=columns)\n",
    "valid_dataset.set_format(type='torch', columns=columns)"
   ]
  },
  {
   "cell_type": "code",
   "execution_count": 26,
   "metadata": {
    "tags": []
   },
   "outputs": [],
   "source": [
    "torch.save(train_dataset, 'train_data.pt')\n",
    "torch.save(valid_dataset, 'valid_data.pt')"
   ]
  },
  {
   "cell_type": "code",
   "execution_count": 27,
   "metadata": {
    "tags": []
   },
   "outputs": [],
   "source": [
    "# This dataclass implementation is taken from Suraj Patil: https://github.com/patil-suraj/question_generation\n",
    "@dataclass\n",
    "class T2TDataCollator:\n",
    "  def __call__(self, batch: List) -> Dict[str, torch.Tensor]:\n",
    "    \"\"\"\n",
    "    Take a list of samples from a Dataset and collate them into a batch.\n",
    "    Returns:\n",
    "    A dictionary of tensors\n",
    "    \"\"\"\n",
    "    \n",
    "    input_ids = torch.stack([example['input_ids'] for example in batch])\n",
    "    lm_labels = torch.stack([example['decoder_input_ids'] for example in batch])\n",
    "    lm_labels[lm_labels[:, :] == 0] = -100 \n",
    "    attention_mask = torch.stack([example['attention_mask'] for example in batch])\n",
    "    decoder_attention_mask = torch.stack([example['decoder_attention_mask'] for example in batch])\n",
    "    \n",
    "    return {\n",
    "        'input_ids': input_ids, \n",
    "        'attention_mask': attention_mask,\n",
    "        'labels': lm_labels, \n",
    "        'decoder_attention_mask': decoder_attention_mask\n",
    "    }"
   ]
  },
  {
   "cell_type": "code",
   "execution_count": 28,
   "metadata": {
    "tags": []
   },
   "outputs": [
    {
     "name": "stderr",
     "output_type": "stream",
     "text": [
      "/home/ma/ma_ma/ma_ptyagi/.local/lib/python3.9/site-packages/transformers/training_args.py:1469: FutureWarning: `--push_to_hub_model_id` is deprecated and will be removed in version 5 of 🤗 Transformers. Use `--hub_model_id` instead and pass the full repo name to this argument (in this case prnv13/t5_flashcard_data).\n",
      "  warnings.warn(\n"
     ]
    }
   ],
   "source": [
    "training_args = TrainingArguments(output_dir=\"models\", \n",
    "                                  per_device_train_batch_size=4, \n",
    "                                  per_device_eval_batch_size=4,\n",
    "                                  gradient_accumulation_steps=16,\n",
    "                                  learning_rate=1e-4, \n",
    "                                  num_train_epochs=7,\n",
    "                                  logging_steps=10,\n",
    "                                  run_name=\"end2end_flashcard_data\",\n",
    "                                  evaluation_strategy=\"steps\",\n",
    "                                  save_steps=50,\n",
    "                                  report_to=\"wandb\",\n",
    "                                  push_to_hub=True,\n",
    "                                  push_to_hub_model_id=\"t5_flashcard_data\")"
   ]
  },
  {
   "cell_type": "code",
   "execution_count": 29,
   "metadata": {
    "tags": []
   },
   "outputs": [
    {
     "name": "stdout",
     "output_type": "stream",
     "text": [
      "huggingface/tokenizers: The current process just got forked, after parallelism has already been used. Disabling parallelism to avoid deadlocks...\n",
      "To disable this warning, you can either:\n",
      "\t- Avoid using `tokenizers` before the fork if possible\n",
      "\t- Explicitly set the environment variable TOKENIZERS_PARALLELISM=(true | false)\n",
      "huggingface/tokenizers: The current process just got forked, after parallelism has already been used. Disabling parallelism to avoid deadlocks...\n",
      "To disable this warning, you can either:\n",
      "\t- Avoid using `tokenizers` before the fork if possible\n",
      "\t- Explicitly set the environment variable TOKENIZERS_PARALLELISM=(true | false)\n",
      "huggingface/tokenizers: The current process just got forked, after parallelism has already been used. Disabling parallelism to avoid deadlocks...\n",
      "To disable this warning, you can either:\n",
      "\t- Avoid using `tokenizers` before the fork if possible\n",
      "\t- Explicitly set the environment variable TOKENIZERS_PARALLELISM=(true | false)\n"
     ]
    },
    {
     "name": "stderr",
     "output_type": "stream",
     "text": [
      "Cloning https://huggingface.co/prnv13/t5_flashcard_data into local empty directory.\n"
     ]
    },
    {
     "name": "stdout",
     "output_type": "stream",
     "text": [
      "huggingface/tokenizers: The current process just got forked, after parallelism has already been used. Disabling parallelism to avoid deadlocks...\n",
      "To disable this warning, you can either:\n",
      "\t- Avoid using `tokenizers` before the fork if possible\n",
      "\t- Explicitly set the environment variable TOKENIZERS_PARALLELISM=(true | false)\n",
      "huggingface/tokenizers: The current process just got forked, after parallelism has already been used. Disabling parallelism to avoid deadlocks...\n",
      "To disable this warning, you can either:\n",
      "\t- Avoid using `tokenizers` before the fork if possible\n",
      "\t- Explicitly set the environment variable TOKENIZERS_PARALLELISM=(true | false)\n",
      "huggingface/tokenizers: The current process just got forked, after parallelism has already been used. Disabling parallelism to avoid deadlocks...\n",
      "To disable this warning, you can either:\n",
      "\t- Avoid using `tokenizers` before the fork if possible\n",
      "\t- Explicitly set the environment variable TOKENIZERS_PARALLELISM=(true | false)\n",
      "huggingface/tokenizers: The current process just got forked, after parallelism has already been used. Disabling parallelism to avoid deadlocks...\n",
      "To disable this warning, you can either:\n",
      "\t- Avoid using `tokenizers` before the fork if possible\n",
      "\t- Explicitly set the environment variable TOKENIZERS_PARALLELISM=(true | false)\n",
      "huggingface/tokenizers: The current process just got forked, after parallelism has already been used. Disabling parallelism to avoid deadlocks...\n",
      "To disable this warning, you can either:\n",
      "\t- Avoid using `tokenizers` before the fork if possible\n",
      "\t- Explicitly set the environment variable TOKENIZERS_PARALLELISM=(true | false)\n",
      "huggingface/tokenizers: The current process just got forked, after parallelism has already been used. Disabling parallelism to avoid deadlocks...\n",
      "To disable this warning, you can either:\n",
      "\t- Avoid using `tokenizers` before the fork if possible\n",
      "\t- Explicitly set the environment variable TOKENIZERS_PARALLELISM=(true | false)\n",
      "huggingface/tokenizers: The current process just got forked, after parallelism has already been used. Disabling parallelism to avoid deadlocks...\n",
      "To disable this warning, you can either:\n",
      "\t- Avoid using `tokenizers` before the fork if possible\n",
      "\t- Explicitly set the environment variable TOKENIZERS_PARALLELISM=(true | false)\n"
     ]
    },
    {
     "name": "stderr",
     "output_type": "stream",
     "text": [
      "/home/ma/ma_ma/ma_ptyagi/.local/lib/python3.9/site-packages/transformers/optimization.py:391: FutureWarning: This implementation of AdamW is deprecated and will be removed in a future version. Use the PyTorch implementation torch.optim.AdamW instead, or set `no_deprecation_warning=True` to disable this warning\n",
      "  warnings.warn(\n"
     ]
    },
    {
     "data": {
      "text/html": [
       "Changes to your `wandb` environment variables will be ignored because your `wandb` session has already started. For more information on how to modify your settings with `wandb.init()` arguments, please refer to <a href='https://wandb.me/wandb-init' target=\"_blank\">the W&B docs</a>."
      ],
      "text/plain": [
       "<IPython.core.display.HTML object>"
      ]
     },
     "metadata": {},
     "output_type": "display_data"
    },
    {
     "name": "stdout",
     "output_type": "stream",
     "text": [
      "huggingface/tokenizers: The current process just got forked, after parallelism has already been used. Disabling parallelism to avoid deadlocks...\n",
      "To disable this warning, you can either:\n",
      "\t- Avoid using `tokenizers` before the fork if possible\n",
      "\t- Explicitly set the environment variable TOKENIZERS_PARALLELISM=(true | false)\n",
      "huggingface/tokenizers: The current process just got forked, after parallelism has already been used. Disabling parallelism to avoid deadlocks...\n",
      "To disable this warning, you can either:\n",
      "\t- Avoid using `tokenizers` before the fork if possible\n",
      "\t- Explicitly set the environment variable TOKENIZERS_PARALLELISM=(true | false)\n"
     ]
    },
    {
     "data": {
      "text/html": [
       "wandb version 0.15.1 is available!  To upgrade, please run:\n",
       " $ pip install wandb --upgrade"
      ],
      "text/plain": [
       "<IPython.core.display.HTML object>"
      ]
     },
     "metadata": {},
     "output_type": "display_data"
    },
    {
     "data": {
      "text/html": [
       "Tracking run with wandb version 0.15.0"
      ],
      "text/plain": [
       "<IPython.core.display.HTML object>"
      ]
     },
     "metadata": {},
     "output_type": "display_data"
    },
    {
     "data": {
      "text/html": [
       "Run data is saved locally in <code>/pfs/data5/home/ma/ma_ma/ma_ptyagi/question_generation/wandb/run-20230503_083222-scwfwsb4</code>"
      ],
      "text/plain": [
       "<IPython.core.display.HTML object>"
      ]
     },
     "metadata": {},
     "output_type": "display_data"
    },
    {
     "data": {
      "text/html": [
       "Syncing run <strong><a href='https://wandb.ai/ankinator/t5-e2e/runs/scwfwsb4' target=\"_blank\">end2end_flashcard_data</a></strong> to <a href='https://wandb.ai/ankinator/t5-e2e' target=\"_blank\">Weights & Biases</a> (<a href='https://wandb.me/run' target=\"_blank\">docs</a>)<br/>"
      ],
      "text/plain": [
       "<IPython.core.display.HTML object>"
      ]
     },
     "metadata": {},
     "output_type": "display_data"
    },
    {
     "data": {
      "text/html": [
       " View project at <a href='https://wandb.ai/ankinator/t5-e2e' target=\"_blank\">https://wandb.ai/ankinator/t5-e2e</a>"
      ],
      "text/plain": [
       "<IPython.core.display.HTML object>"
      ]
     },
     "metadata": {},
     "output_type": "display_data"
    },
    {
     "data": {
      "text/html": [
       " View run at <a href='https://wandb.ai/ankinator/t5-e2e/runs/scwfwsb4' target=\"_blank\">https://wandb.ai/ankinator/t5-e2e/runs/scwfwsb4</a>"
      ],
      "text/plain": [
       "<IPython.core.display.HTML object>"
      ]
     },
     "metadata": {},
     "output_type": "display_data"
    },
    {
     "name": "stderr",
     "output_type": "stream",
     "text": [
      "/opt/bwhpc/common/jupyter/tensorflow/2023-03-24/lib/python3.9/site-packages/torch/nn/parallel/_functions.py:68: UserWarning: Was asked to gather along dimension 0, but all input tensors were scalars; will instead unsqueeze and return a vector.\n",
      "  warnings.warn('Was asked to gather along dimension 0, but all '\n"
     ]
    },
    {
     "data": {
      "text/html": [
       "\n",
       "    <div>\n",
       "      \n",
       "      <progress value='63' max='63' style='width:300px; height:20px; vertical-align: middle;'></progress>\n",
       "      [63/63 06:26, Epoch 6/7]\n",
       "    </div>\n",
       "    <table border=\"1\" class=\"dataframe\">\n",
       "  <thead>\n",
       " <tr style=\"text-align: left;\">\n",
       "      <th>Step</th>\n",
       "      <th>Training Loss</th>\n",
       "      <th>Validation Loss</th>\n",
       "    </tr>\n",
       "  </thead>\n",
       "  <tbody>\n",
       "    <tr>\n",
       "      <td>10</td>\n",
       "      <td>4.074400</td>\n",
       "      <td>3.262558</td>\n",
       "    </tr>\n",
       "    <tr>\n",
       "      <td>20</td>\n",
       "      <td>3.312800</td>\n",
       "      <td>2.955361</td>\n",
       "    </tr>\n",
       "    <tr>\n",
       "      <td>30</td>\n",
       "      <td>3.062600</td>\n",
       "      <td>2.814604</td>\n",
       "    </tr>\n",
       "    <tr>\n",
       "      <td>40</td>\n",
       "      <td>2.909700</td>\n",
       "      <td>2.761207</td>\n",
       "    </tr>\n",
       "    <tr>\n",
       "      <td>50</td>\n",
       "      <td>2.870800</td>\n",
       "      <td>2.732137</td>\n",
       "    </tr>\n",
       "    <tr>\n",
       "      <td>60</td>\n",
       "      <td>2.829800</td>\n",
       "      <td>2.718888</td>\n",
       "    </tr>\n",
       "  </tbody>\n",
       "</table><p>"
      ],
      "text/plain": [
       "<IPython.core.display.HTML object>"
      ]
     },
     "metadata": {},
     "output_type": "display_data"
    },
    {
     "name": "stdout",
     "output_type": "stream",
     "text": [
      "huggingface/tokenizers: The current process just got forked, after parallelism has already been used. Disabling parallelism to avoid deadlocks...\n",
      "To disable this warning, you can either:\n",
      "\t- Avoid using `tokenizers` before the fork if possible\n",
      "\t- Explicitly set the environment variable TOKENIZERS_PARALLELISM=(true | false)\n",
      "huggingface/tokenizers: The current process just got forked, after parallelism has already been used. Disabling parallelism to avoid deadlocks...\n",
      "To disable this warning, you can either:\n",
      "\t- Avoid using `tokenizers` before the fork if possible\n",
      "\t- Explicitly set the environment variable TOKENIZERS_PARALLELISM=(true | false)\n",
      "huggingface/tokenizers: The current process just got forked, after parallelism has already been used. Disabling parallelism to avoid deadlocks...\n",
      "To disable this warning, you can either:\n",
      "\t- Avoid using `tokenizers` before the fork if possible\n",
      "\t- Explicitly set the environment variable TOKENIZERS_PARALLELISM=(true | false)\n",
      "huggingface/tokenizers: The current process just got forked, after parallelism has already been used. Disabling parallelism to avoid deadlocks...\n",
      "To disable this warning, you can either:\n",
      "\t- Avoid using `tokenizers` before the fork if possible\n",
      "\t- Explicitly set the environment variable TOKENIZERS_PARALLELISM=(true | false)\n",
      "huggingface/tokenizers: The current process just got forked, after parallelism has already been used. Disabling parallelism to avoid deadlocks...\n",
      "To disable this warning, you can either:\n",
      "\t- Avoid using `tokenizers` before the fork if possible\n",
      "\t- Explicitly set the environment variable TOKENIZERS_PARALLELISM=(true | false)\n",
      "huggingface/tokenizers: The current process just got forked, after parallelism has already been used. Disabling parallelism to avoid deadlocks...\n",
      "To disable this warning, you can either:\n",
      "\t- Avoid using `tokenizers` before the fork if possible\n",
      "\t- Explicitly set the environment variable TOKENIZERS_PARALLELISM=(true | false)\n",
      "huggingface/tokenizers: The current process just got forked, after parallelism has already been used. Disabling parallelism to avoid deadlocks...\n",
      "To disable this warning, you can either:\n",
      "\t- Avoid using `tokenizers` before the fork if possible\n",
      "\t- Explicitly set the environment variable TOKENIZERS_PARALLELISM=(true | false)\n",
      "huggingface/tokenizers: The current process just got forked, after parallelism has already been used. Disabling parallelism to avoid deadlocks...\n",
      "To disable this warning, you can either:\n",
      "\t- Avoid using `tokenizers` before the fork if possible\n",
      "\t- Explicitly set the environment variable TOKENIZERS_PARALLELISM=(true | false)\n",
      "huggingface/tokenizers: The current process just got forked, after parallelism has already been used. Disabling parallelism to avoid deadlocks...\n",
      "To disable this warning, you can either:\n",
      "\t- Avoid using `tokenizers` before the fork if possible\n",
      "\t- Explicitly set the environment variable TOKENIZERS_PARALLELISM=(true | false)\n",
      "huggingface/tokenizers: The current process just got forked, after parallelism has already been used. Disabling parallelism to avoid deadlocks...\n",
      "To disable this warning, you can either:\n",
      "\t- Avoid using `tokenizers` before the fork if possible\n",
      "\t- Explicitly set the environment variable TOKENIZERS_PARALLELISM=(true | false)\n",
      "huggingface/tokenizers: The current process just got forked, after parallelism has already been used. Disabling parallelism to avoid deadlocks...\n",
      "To disable this warning, you can either:\n",
      "\t- Avoid using `tokenizers` before the fork if possible\n",
      "\t- Explicitly set the environment variable TOKENIZERS_PARALLELISM=(true | false)\n",
      "huggingface/tokenizers: The current process just got forked, after parallelism has already been used. Disabling parallelism to avoid deadlocks...\n",
      "To disable this warning, you can either:\n",
      "\t- Avoid using `tokenizers` before the fork if possible\n",
      "\t- Explicitly set the environment variable TOKENIZERS_PARALLELISM=(true | false)\n",
      "huggingface/tokenizers: The current process just got forked, after parallelism has already been used. Disabling parallelism to avoid deadlocks...\n",
      "To disable this warning, you can either:\n",
      "\t- Avoid using `tokenizers` before the fork if possible\n",
      "\t- Explicitly set the environment variable TOKENIZERS_PARALLELISM=(true | false)\n",
      "huggingface/tokenizers: The current process just got forked, after parallelism has already been used. Disabling parallelism to avoid deadlocks...\n",
      "To disable this warning, you can either:\n",
      "\t- Avoid using `tokenizers` before the fork if possible\n",
      "\t- Explicitly set the environment variable TOKENIZERS_PARALLELISM=(true | false)\n",
      "huggingface/tokenizers: The current process just got forked, after parallelism has already been used. Disabling parallelism to avoid deadlocks...\n",
      "To disable this warning, you can either:\n",
      "\t- Avoid using `tokenizers` before the fork if possible\n",
      "\t- Explicitly set the environment variable TOKENIZERS_PARALLELISM=(true | false)\n",
      "huggingface/tokenizers: The current process just got forked, after parallelism has already been used. Disabling parallelism to avoid deadlocks...\n",
      "To disable this warning, you can either:\n",
      "\t- Avoid using `tokenizers` before the fork if possible\n",
      "\t- Explicitly set the environment variable TOKENIZERS_PARALLELISM=(true | false)\n",
      "huggingface/tokenizers: The current process just got forked, after parallelism has already been used. Disabling parallelism to avoid deadlocks...\n",
      "To disable this warning, you can either:\n",
      "\t- Avoid using `tokenizers` before the fork if possible\n",
      "\t- Explicitly set the environment variable TOKENIZERS_PARALLELISM=(true | false)\n",
      "huggingface/tokenizers: The current process just got forked, after parallelism has already been used. Disabling parallelism to avoid deadlocks...\n",
      "To disable this warning, you can either:\n",
      "\t- Avoid using `tokenizers` before the fork if possible\n",
      "\t- Explicitly set the environment variable TOKENIZERS_PARALLELISM=(true | false)\n",
      "huggingface/tokenizers: The current process just got forked, after parallelism has already been used. Disabling parallelism to avoid deadlocks...\n",
      "To disable this warning, you can either:\n",
      "\t- Avoid using `tokenizers` before the fork if possible\n",
      "\t- Explicitly set the environment variable TOKENIZERS_PARALLELISM=(true | false)\n"
     ]
    },
    {
     "name": "stderr",
     "output_type": "stream",
     "text": [
      "/opt/bwhpc/common/jupyter/tensorflow/2023-03-24/lib/python3.9/site-packages/torch/nn/parallel/_functions.py:68: UserWarning: Was asked to gather along dimension 0, but all input tensors were scalars; will instead unsqueeze and return a vector.\n",
      "  warnings.warn('Was asked to gather along dimension 0, but all '\n"
     ]
    },
    {
     "name": "stdout",
     "output_type": "stream",
     "text": [
      "huggingface/tokenizers: The current process just got forked, after parallelism has already been used. Disabling parallelism to avoid deadlocks...\n",
      "To disable this warning, you can either:\n",
      "\t- Avoid using `tokenizers` before the fork if possible\n",
      "\t- Explicitly set the environment variable TOKENIZERS_PARALLELISM=(true | false)\n",
      "huggingface/tokenizers: The current process just got forked, after parallelism has already been used. Disabling parallelism to avoid deadlocks...\n",
      "To disable this warning, you can either:\n",
      "\t- Avoid using `tokenizers` before the fork if possible\n",
      "\t- Explicitly set the environment variable TOKENIZERS_PARALLELISM=(true | false)\n",
      "huggingface/tokenizers: The current process just got forked, after parallelism has already been used. Disabling parallelism to avoid deadlocks...\n",
      "To disable this warning, you can either:\n",
      "\t- Avoid using `tokenizers` before the fork if possible\n",
      "\t- Explicitly set the environment variable TOKENIZERS_PARALLELISM=(true | false)\n",
      "huggingface/tokenizers: The current process just got forked, after parallelism has already been used. Disabling parallelism to avoid deadlocks...\n",
      "To disable this warning, you can either:\n",
      "\t- Avoid using `tokenizers` before the fork if possible\n",
      "\t- Explicitly set the environment variable TOKENIZERS_PARALLELISM=(true | false)\n",
      "huggingface/tokenizers: The current process just got forked, after parallelism has already been used. Disabling parallelism to avoid deadlocks...\n",
      "To disable this warning, you can either:\n",
      "\t- Avoid using `tokenizers` before the fork if possible\n",
      "\t- Explicitly set the environment variable TOKENIZERS_PARALLELISM=(true | false)\n",
      "huggingface/tokenizers: The current process just got forked, after parallelism has already been used. Disabling parallelism to avoid deadlocks...\n",
      "To disable this warning, you can either:\n",
      "\t- Avoid using `tokenizers` before the fork if possible\n",
      "\t- Explicitly set the environment variable TOKENIZERS_PARALLELISM=(true | false)\n",
      "huggingface/tokenizers: The current process just got forked, after parallelism has already been used. Disabling parallelism to avoid deadlocks...\n",
      "To disable this warning, you can either:\n",
      "\t- Avoid using `tokenizers` before the fork if possible\n",
      "\t- Explicitly set the environment variable TOKENIZERS_PARALLELISM=(true | false)\n",
      "huggingface/tokenizers: The current process just got forked, after parallelism has already been used. Disabling parallelism to avoid deadlocks...\n",
      "To disable this warning, you can either:\n",
      "\t- Avoid using `tokenizers` before the fork if possible\n",
      "\t- Explicitly set the environment variable TOKENIZERS_PARALLELISM=(true | false)\n",
      "huggingface/tokenizers: The current process just got forked, after parallelism has already been used. Disabling parallelism to avoid deadlocks...\n",
      "To disable this warning, you can either:\n",
      "\t- Avoid using `tokenizers` before the fork if possible\n",
      "\t- Explicitly set the environment variable TOKENIZERS_PARALLELISM=(true | false)\n",
      "huggingface/tokenizers: The current process just got forked, after parallelism has already been used. Disabling parallelism to avoid deadlocks...\n",
      "To disable this warning, you can either:\n",
      "\t- Avoid using `tokenizers` before the fork if possible\n",
      "\t- Explicitly set the environment variable TOKENIZERS_PARALLELISM=(true | false)\n",
      "huggingface/tokenizers: The current process just got forked, after parallelism has already been used. Disabling parallelism to avoid deadlocks...\n",
      "To disable this warning, you can either:\n",
      "\t- Avoid using `tokenizers` before the fork if possible\n",
      "\t- Explicitly set the environment variable TOKENIZERS_PARALLELISM=(true | false)\n",
      "huggingface/tokenizers: The current process just got forked, after parallelism has already been used. Disabling parallelism to avoid deadlocks...\n",
      "To disable this warning, you can either:\n",
      "\t- Avoid using `tokenizers` before the fork if possible\n",
      "\t- Explicitly set the environment variable TOKENIZERS_PARALLELISM=(true | false)\n",
      "huggingface/tokenizers: The current process just got forked, after parallelism has already been used. Disabling parallelism to avoid deadlocks...\n",
      "To disable this warning, you can either:\n",
      "\t- Avoid using `tokenizers` before the fork if possible\n",
      "\t- Explicitly set the environment variable TOKENIZERS_PARALLELISM=(true | false)\n"
     ]
    },
    {
     "name": "stderr",
     "output_type": "stream",
     "text": [
      "Several commits (2) will be pushed upstream.\n",
      "The progress bars may be unreliable.\n"
     ]
    },
    {
     "name": "stdout",
     "output_type": "stream",
     "text": [
      "huggingface/tokenizers: The current process just got forked, after parallelism has already been used. Disabling parallelism to avoid deadlocks...\n",
      "To disable this warning, you can either:\n",
      "\t- Avoid using `tokenizers` before the fork if possible\n",
      "\t- Explicitly set the environment variable TOKENIZERS_PARALLELISM=(true | false)\n",
      "huggingface/tokenizers: The current process just got forked, after parallelism has already been used. Disabling parallelism to avoid deadlocks...\n",
      "To disable this warning, you can either:\n",
      "\t- Avoid using `tokenizers` before the fork if possible\n",
      "\t- Explicitly set the environment variable TOKENIZERS_PARALLELISM=(true | false)\n"
     ]
    },
    {
     "name": "stderr",
     "output_type": "stream",
     "text": [
      "EOF\n",
      "error: failed to push some refs to 'https://huggingface.co/prnv13/t5_flashcard_data'\n",
      "\n"
     ]
    },
    {
     "ename": "OSError",
     "evalue": "EOF\nerror: failed to push some refs to 'https://huggingface.co/prnv13/t5_flashcard_data'\n",
     "output_type": "error",
     "traceback": [
      "\u001B[0;31m---------------------------------------------------------------------------\u001B[0m",
      "\u001B[0;31mCalledProcessError\u001B[0m                        Traceback (most recent call last)",
      "File \u001B[0;32m~/.local/lib/python3.9/site-packages/huggingface_hub/repository.py:1099\u001B[0m, in \u001B[0;36mRepository.git_push\u001B[0;34m(self, upstream, blocking, auto_lfs_prune)\u001B[0m\n\u001B[1;32m   1098\u001B[0m             \u001B[38;5;28;01mif\u001B[39;00m return_code:\n\u001B[0;32m-> 1099\u001B[0m                 \u001B[38;5;28;01mraise\u001B[39;00m subprocess\u001B[38;5;241m.\u001B[39mCalledProcessError(return_code, process\u001B[38;5;241m.\u001B[39margs, output\u001B[38;5;241m=\u001B[39mstdout, stderr\u001B[38;5;241m=\u001B[39mstderr)\n\u001B[1;32m   1101\u001B[0m \u001B[38;5;28;01mexcept\u001B[39;00m subprocess\u001B[38;5;241m.\u001B[39mCalledProcessError \u001B[38;5;28;01mas\u001B[39;00m exc:\n",
      "\u001B[0;31mCalledProcessError\u001B[0m: Command '['git', 'push', '--set-upstream', 'origin', 'main']' returned non-zero exit status 1.",
      "\nDuring handling of the above exception, another exception occurred:\n",
      "\u001B[0;31mOSError\u001B[0m                                   Traceback (most recent call last)",
      "Cell \u001B[0;32mIn[29], line 14\u001B[0m\n\u001B[1;32m     12\u001B[0m \u001B[38;5;66;03m# Training\u001B[39;00m\n\u001B[1;32m     13\u001B[0m trainer\u001B[38;5;241m.\u001B[39mtrain()\n\u001B[0;32m---> 14\u001B[0m \u001B[43mtrainer\u001B[49m\u001B[38;5;241;43m.\u001B[39;49m\u001B[43mpush_to_hub\u001B[49m\u001B[43m(\u001B[49m\u001B[38;5;124;43m\"\u001B[39;49m\u001B[38;5;124;43mt5_fd\u001B[39;49m\u001B[38;5;124;43m\"\u001B[39;49m\u001B[43m)\u001B[49m\n\u001B[1;32m     15\u001B[0m wandb\u001B[38;5;241m.\u001B[39mfinish()\n",
      "File \u001B[0;32m~/.local/lib/python3.9/site-packages/transformers/trainer.py:3661\u001B[0m, in \u001B[0;36mTrainer.push_to_hub\u001B[0;34m(self, commit_message, blocking, **kwargs)\u001B[0m\n\u001B[1;32m   3658\u001B[0m     \u001B[38;5;28mself\u001B[39m\u001B[38;5;241m.\u001B[39mpush_in_progress\u001B[38;5;241m.\u001B[39m_process\u001B[38;5;241m.\u001B[39mkill()\n\u001B[1;32m   3659\u001B[0m     \u001B[38;5;28mself\u001B[39m\u001B[38;5;241m.\u001B[39mpush_in_progress \u001B[38;5;241m=\u001B[39m \u001B[38;5;28;01mNone\u001B[39;00m\n\u001B[0;32m-> 3661\u001B[0m git_head_commit_url \u001B[38;5;241m=\u001B[39m \u001B[38;5;28;43mself\u001B[39;49m\u001B[38;5;241;43m.\u001B[39;49m\u001B[43mrepo\u001B[49m\u001B[38;5;241;43m.\u001B[39;49m\u001B[43mpush_to_hub\u001B[49m\u001B[43m(\u001B[49m\n\u001B[1;32m   3662\u001B[0m \u001B[43m    \u001B[49m\u001B[43mcommit_message\u001B[49m\u001B[38;5;241;43m=\u001B[39;49m\u001B[43mcommit_message\u001B[49m\u001B[43m,\u001B[49m\u001B[43m \u001B[49m\u001B[43mblocking\u001B[49m\u001B[38;5;241;43m=\u001B[39;49m\u001B[43mblocking\u001B[49m\u001B[43m,\u001B[49m\u001B[43m \u001B[49m\u001B[43mauto_lfs_prune\u001B[49m\u001B[38;5;241;43m=\u001B[39;49m\u001B[38;5;28;43;01mTrue\u001B[39;49;00m\n\u001B[1;32m   3663\u001B[0m \u001B[43m\u001B[49m\u001B[43m)\u001B[49m\n\u001B[1;32m   3664\u001B[0m \u001B[38;5;66;03m# push separately the model card to be independant from the rest of the model\u001B[39;00m\n\u001B[1;32m   3665\u001B[0m \u001B[38;5;28;01mif\u001B[39;00m \u001B[38;5;28mself\u001B[39m\u001B[38;5;241m.\u001B[39margs\u001B[38;5;241m.\u001B[39mshould_save:\n",
      "File \u001B[0;32m~/.local/lib/python3.9/site-packages/huggingface_hub/repository.py:1307\u001B[0m, in \u001B[0;36mRepository.push_to_hub\u001B[0;34m(self, commit_message, blocking, clean_ok, auto_lfs_prune)\u001B[0m\n\u001B[1;32m   1305\u001B[0m \u001B[38;5;28mself\u001B[39m\u001B[38;5;241m.\u001B[39mgit_add(auto_lfs_track\u001B[38;5;241m=\u001B[39m\u001B[38;5;28;01mTrue\u001B[39;00m)\n\u001B[1;32m   1306\u001B[0m \u001B[38;5;28mself\u001B[39m\u001B[38;5;241m.\u001B[39mgit_commit(commit_message)\n\u001B[0;32m-> 1307\u001B[0m \u001B[38;5;28;01mreturn\u001B[39;00m \u001B[38;5;28;43mself\u001B[39;49m\u001B[38;5;241;43m.\u001B[39;49m\u001B[43mgit_push\u001B[49m\u001B[43m(\u001B[49m\n\u001B[1;32m   1308\u001B[0m \u001B[43m    \u001B[49m\u001B[43mupstream\u001B[49m\u001B[38;5;241;43m=\u001B[39;49m\u001B[38;5;124;43mf\u001B[39;49m\u001B[38;5;124;43m\"\u001B[39;49m\u001B[38;5;124;43morigin \u001B[39;49m\u001B[38;5;132;43;01m{\u001B[39;49;00m\u001B[38;5;28;43mself\u001B[39;49m\u001B[38;5;241;43m.\u001B[39;49m\u001B[43mcurrent_branch\u001B[49m\u001B[38;5;132;43;01m}\u001B[39;49;00m\u001B[38;5;124;43m\"\u001B[39;49m\u001B[43m,\u001B[49m\n\u001B[1;32m   1309\u001B[0m \u001B[43m    \u001B[49m\u001B[43mblocking\u001B[49m\u001B[38;5;241;43m=\u001B[39;49m\u001B[43mblocking\u001B[49m\u001B[43m,\u001B[49m\n\u001B[1;32m   1310\u001B[0m \u001B[43m    \u001B[49m\u001B[43mauto_lfs_prune\u001B[49m\u001B[38;5;241;43m=\u001B[39;49m\u001B[43mauto_lfs_prune\u001B[49m\u001B[43m,\u001B[49m\n\u001B[1;32m   1311\u001B[0m \u001B[43m\u001B[49m\u001B[43m)\u001B[49m\n",
      "File \u001B[0;32m~/.local/lib/python3.9/site-packages/huggingface_hub/repository.py:1102\u001B[0m, in \u001B[0;36mRepository.git_push\u001B[0;34m(self, upstream, blocking, auto_lfs_prune)\u001B[0m\n\u001B[1;32m   1099\u001B[0m                 \u001B[38;5;28;01mraise\u001B[39;00m subprocess\u001B[38;5;241m.\u001B[39mCalledProcessError(return_code, process\u001B[38;5;241m.\u001B[39margs, output\u001B[38;5;241m=\u001B[39mstdout, stderr\u001B[38;5;241m=\u001B[39mstderr)\n\u001B[1;32m   1101\u001B[0m \u001B[38;5;28;01mexcept\u001B[39;00m subprocess\u001B[38;5;241m.\u001B[39mCalledProcessError \u001B[38;5;28;01mas\u001B[39;00m exc:\n\u001B[0;32m-> 1102\u001B[0m     \u001B[38;5;28;01mraise\u001B[39;00m \u001B[38;5;167;01mEnvironmentError\u001B[39;00m(exc\u001B[38;5;241m.\u001B[39mstderr)\n\u001B[1;32m   1104\u001B[0m \u001B[38;5;28;01mif\u001B[39;00m \u001B[38;5;129;01mnot\u001B[39;00m blocking:\n\u001B[1;32m   1106\u001B[0m     \u001B[38;5;28;01mdef\u001B[39;00m \u001B[38;5;21mstatus_method\u001B[39m():\n",
      "\u001B[0;31mOSError\u001B[0m: EOF\nerror: failed to push some refs to 'https://huggingface.co/prnv13/t5_flashcard_data'\n"
     ]
    }
   ],
   "source": [
    "logger = logging.getLogger(__name__)\n",
    "\n",
    "# Initialize our Trainer\n",
    "trainer = Trainer(\n",
    "    model=model,\n",
    "    args=training_args,\n",
    "    train_dataset=train_dataset,\n",
    "    eval_dataset=valid_dataset,\n",
    "    data_collator=T2TDataCollator()\n",
    ")\n",
    "\n",
    "# Training\n",
    "trainer.train()\n",
    "trainer.push_to_hub(\"t5_fd\")\n",
    "wandb.finish()"
   ]
  },
  {
   "cell_type": "code",
   "execution_count": 6,
   "metadata": {
    "ExecuteTime": {
     "end_time": "2023-06-27T16:13:55.064425Z",
     "start_time": "2023-06-27T16:13:55.047173Z"
    }
   },
   "outputs": [],
   "source": [
    "from rouge import Rouge\n"
   ]
  },
  {
   "cell_type": "code",
   "execution_count": 7,
   "metadata": {
    "tags": [],
    "ExecuteTime": {
     "end_time": "2023-06-27T16:13:55.750035Z",
     "start_time": "2023-06-27T16:13:55.745096Z"
    }
   },
   "outputs": [],
   "source": [
    "def run_model(modell,input_string, **generator_args):\n",
    "  generator_args = {\n",
    "  \"max_length\": 256,\n",
    "  \"num_beams\": 4,\n",
    "  \"length_penalty\": 1.5,\n",
    "  \"no_repeat_ngram_size\": 3,\n",
    "  \"early_stopping\": True,\n",
    "  }\n",
    "  input_string = input_string + \" </s>\"\n",
    "  input_ids = tokenizer.encode(input_string, return_tensors=\"pt\")\n",
    "  res = modell.generate(input_ids, **generator_args)\n",
    "  output = tokenizer.batch_decode(res, skip_special_tokens=True)\n",
    "  output = [item.split(\"<sep>\") for item in output]\n",
    "  return output"
   ]
  },
  {
   "cell_type": "code",
   "execution_count": 7,
   "metadata": {
    "tags": [],
    "ExecuteTime": {
     "end_time": "2023-06-27T16:13:56.256932Z",
     "start_time": "2023-06-27T16:13:56.250728Z"
    }
   },
   "outputs": [],
   "source": []
  },
  {
   "cell_type": "code",
   "execution_count": 8,
   "metadata": {
    "tags": [],
    "ExecuteTime": {
     "end_time": "2023-06-27T16:15:40.308470Z",
     "start_time": "2023-06-27T16:13:56.629457Z"
    }
   },
   "outputs": [
    {
     "data": {
      "text/plain": "Downloading:   0%|          | 0.00/892M [00:00<?, ?B/s]",
      "application/vnd.jupyter.widget-view+json": {
       "version_major": 2,
       "version_minor": 0,
       "model_id": "e294eade7f7b450dacf2578c5d0050ce"
      }
     },
     "metadata": {},
     "output_type": "display_data"
    }
   ],
   "source": [
    "hfmodel = T5ForConditionalGeneration.from_pretrained(\"prnv13/t5_flashcard_data\")"
   ]
  },
  {
   "cell_type": "code",
   "execution_count": 28,
   "metadata": {
    "tags": [],
    "ExecuteTime": {
     "end_time": "2023-06-27T16:18:16.380254Z",
     "start_time": "2023-06-27T16:18:06.108303Z"
    }
   },
   "outputs": [],
   "source": [
    "predicted = []\n",
    "for c in test[\"context\"][1:10]:\n",
    "    predicted.append(run_model(hfmodel,c))\n"
   ]
  },
  {
   "cell_type": "code",
   "execution_count": 29,
   "outputs": [
    {
     "data": {
      "text/plain": "[[['...................................... Simultaneous Peripheral Operation Online..']],\n [['A program he made it that provides for interactive modules to a website.. A program that allows for interactivity to be added to the website. A web application. A website.']],\n [[\"2. A binary semaphore's value has an unrestricted domain.\"]],\n [['At the beginning of the project (listing out requirements and whatnot)']],\n [['Identifies the rules required to maintain information security.']],\n [['What are the advantages of a fluid phase?']],\n [['Normally one cycle.']],\n [['MTBF = Mean time between failures (MTBF)']],\n [['Continuity is the key to a successful project.']]]"
     },
     "execution_count": 29,
     "metadata": {},
     "output_type": "execute_result"
    }
   ],
   "source": [
    "predicted"
   ],
   "metadata": {
    "collapsed": false,
    "ExecuteTime": {
     "end_time": "2023-06-27T16:18:18.881649Z",
     "start_time": "2023-06-27T16:18:18.864384Z"
    }
   }
  },
  {
   "cell_type": "code",
   "execution_count": 26,
   "metadata": {
    "tags": [],
    "ExecuteTime": {
     "end_time": "2023-06-27T16:17:58.015134Z",
     "start_time": "2023-06-27T16:17:58.006187Z"
    }
   },
   "outputs": [],
   "source": [
    "flat_list = [item for sublist in predicted for subsublist in sublist for item in subsublist]"
   ]
  },
  {
   "cell_type": "code",
   "execution_count": 27,
   "metadata": {
    "tags": [],
    "ExecuteTime": {
     "end_time": "2023-06-27T16:17:59.759167Z",
     "start_time": "2023-06-27T16:17:59.731212Z"
    }
   },
   "outputs": [
    {
     "ename": "AssertionError",
     "evalue": "",
     "output_type": "error",
     "traceback": [
      "\u001B[0;31m---------------------------------------------------------------------------\u001B[0m",
      "\u001B[0;31mAssertionError\u001B[0m                            Traceback (most recent call last)",
      "Cell \u001B[0;32mIn[27], line 2\u001B[0m\n\u001B[1;32m      1\u001B[0m rouge \u001B[38;5;241m=\u001B[39m Rouge()\n\u001B[0;32m----> 2\u001B[0m scores \u001B[38;5;241m=\u001B[39m \u001B[43mrouge\u001B[49m\u001B[38;5;241;43m.\u001B[39;49m\u001B[43mget_scores\u001B[49m\u001B[43m(\u001B[49m\u001B[43mflat_list\u001B[49m\u001B[43m,\u001B[49m\u001B[43m \u001B[49m\u001B[38;5;28;43mlist\u001B[39;49m\u001B[43m(\u001B[49m\u001B[43mtest\u001B[49m\u001B[43m[\u001B[49m\u001B[38;5;124;43m\"\u001B[39;49m\u001B[38;5;124;43mquestions\u001B[39;49m\u001B[38;5;124;43m\"\u001B[39;49m\u001B[43m]\u001B[49m\u001B[43m[\u001B[49m\u001B[38;5;241;43m1\u001B[39;49m\u001B[43m:\u001B[49m\u001B[38;5;241;43m100\u001B[39;49m\u001B[43m]\u001B[49m\u001B[43m)\u001B[49m\u001B[43m)\u001B[49m\n",
      "File \u001B[0;32m/usr/local/Caskroom/miniconda/base/envs/sap_sr/lib/python3.10/site-packages/rouge/rouge.py:104\u001B[0m, in \u001B[0;36mRouge.get_scores\u001B[0;34m(self, hyps, refs, avg, ignore_empty)\u001B[0m\n\u001B[1;32m    101\u001B[0m     hyps, refs \u001B[38;5;241m=\u001B[39m \u001B[38;5;28mzip\u001B[39m(\u001B[38;5;241m*\u001B[39mhyps_and_refs)\n\u001B[1;32m    103\u001B[0m \u001B[38;5;28;01massert\u001B[39;00m(\u001B[38;5;28misinstance\u001B[39m(hyps, \u001B[38;5;28mtype\u001B[39m(refs)))\n\u001B[0;32m--> 104\u001B[0m \u001B[38;5;28;01massert\u001B[39;00m(\u001B[38;5;28mlen\u001B[39m(hyps) \u001B[38;5;241m==\u001B[39m \u001B[38;5;28mlen\u001B[39m(refs))\n\u001B[1;32m    106\u001B[0m \u001B[38;5;28;01mif\u001B[39;00m \u001B[38;5;129;01mnot\u001B[39;00m avg:\n\u001B[1;32m    107\u001B[0m     \u001B[38;5;28;01mreturn\u001B[39;00m \u001B[38;5;28mself\u001B[39m\u001B[38;5;241m.\u001B[39m_get_scores(hyps, refs)\n",
      "\u001B[0;31mAssertionError\u001B[0m: "
     ]
    }
   ],
   "source": [
    "rouge = Rouge()\n",
    "scores = rouge.get_scores(flat_list, list(test[\"questions\"][1:100]))\n"
   ]
  },
  {
   "cell_type": "code",
   "execution_count": null,
   "metadata": {
    "tags": []
   },
   "outputs": [],
   "source": [
    "all_rouge_1_f1_scores = [pair_scores['rouge-1']['f'] for pair_scores in scores]\n",
    "average_rouge_1_f1_score = sum(all_rouge_1_f1_scores) / len(all_rouge_1_f1_scores)"
   ]
  },
  {
   "cell_type": "code",
   "execution_count": null,
   "metadata": {
    "tags": []
   },
   "outputs": [],
   "source": [
    "average_rouge_1_f1_score"
   ]
  },
  {
   "cell_type": "code",
   "execution_count": 24,
   "outputs": [
    {
     "data": {
      "text/plain": "[]"
     },
     "execution_count": 24,
     "metadata": {},
     "output_type": "execute_result"
    }
   ],
   "source": [
    "flat_list[20:40]"
   ],
   "metadata": {
    "collapsed": false,
    "ExecuteTime": {
     "end_time": "2023-06-27T16:17:08.605928Z",
     "start_time": "2023-06-27T16:17:08.597340Z"
    }
   }
  },
  {
   "cell_type": "code",
   "execution_count": 30,
   "outputs": [
    {
     "data": {
      "text/plain": "[\"Segments for a process are defined in the process's ________.\",\n 'The term \"spool\" is based on the acronym ________.',\n 'Scripting language',\n 'Distinguish a binary semaphore from a counting semaphore:',\n 'When do stakeholders have most influence?',\n 'Information security policy',\n 'What are the two phases in the establishement of a dominant design?',\n \"How many CPU cycles are needed to access values stored in the CPU's registers?\",\n 'What is the average time between system breakdowns?',\n 'What guiding principle is most concerned with organizing work into \\nsmaller manageable sections for greater flexibility and response to \\ncustomer and business needs?',\n 'Competitive intelligence',\n 'Augmented reality',\n 'Portability',\n 'Regarding parameters, the SQL keyword IN, OUT is used when?',\n 'What is ADR?',\n 'What is the formula for creditor days?',\n 'What two components are used to identify a socket?',\n 'Site license',\n 'Goal seeking analysis',\n 'Who is one of the main researchers of competition analysis?',\n 'Boolean data consist of which distinct values?',\n 'What is Machine Language?',\n 'What term is defined as the \\nperceived benefits, usefulness, and importance of something?',\n 'Name two methods to perform a technology protfolio analysis!',\n 'Round-robin schedulers use a ________ to periodically schedule (or preempt) processes in the system.',\n 'What should you do first if an external regulation will make an impact on how you finish your project?',\n 'When is the exact numeric data type used?',\n 'What is the major benefit of the conjoint analysis.',\n \"What is a file's group?\",\n \"List several items that might be listed as part of a file's attributes:\",\n 'What are ideal values of current ratios?',\n 'Expert system',\n \"Describe a project or research you've done\",\n 'What disc devices normally use constant linear velocity (CLV), and which normally useconstant angular velocity (CAV)?',\n 'define expenses',\n 'What can we do to increase the performance of an application?',\n 'What are some reasons for starting a business?',\n \"What's the purpose of Control Quality?\",\n 'define understandability',\n 'When spawned, what does a child process normally receive as its current directory?',\n 'Briefly describe the concept ofdynamic loading:',\n 'What are performance appraisals used for?',\n \"The logical records that a file may contain must all be ________ into a disk's physical block.\",\n \"Unix's networked file system (NFS) supports a ________ client-server model.\",\n 'Social-media monitoring',\n 'Ezine',\n 'Software engineering',\n 'What is a public limited company',\n 'What does TCPI help us with?',\n 'Multitasking',\n 'Twisted pair cable',\n 'What is Identity Theft?',\n 'Can a parity bit be used to correct errors?',\n 'Product differentiation',\n 'Example: If acceptance sampling defect attribute for the production lot is 10% for a product, what is true about this?',\n 'Example of using a control chart',\n 'The operating system image is normally loaded into memory adjacent to what?',\n 'What are advantages of Force Field Analysis? (3)',\n 'When we want to combine several columns from several tables into a result table, which operation do we use?',\n 'What kind of program is responsible for loading an executable file into memory?',\n 'What process are change requests validated through?',\n 'Briefly describe the concept of avirtual address space:',\n 'Hardware page tables were originally implemented as a set of ________.',\n 'What are the properties of current and voltage in a parallel circuit?',\n 'What should be done by the project team when planning package needs to be further broken down and scheduled?',\n 'How is paging a solution to external memory fragmentation?',\n 'What is the Intranet?',\n 'What are the different types of industrial action?',\n 'Processes normally interact with block devices through a ________ interface.',\n 'Why does a government use contractionary monetary policy?',\n 'What guiding principle?A _ approach to service management requires an understanding of how all the parts of an organization work together in an integrated way',\n 'Details of a Projectized/Project-oriented work environment?',\n 'What is a vnode?',\n 'Name the categories a referential action is made up of.',\n \"What's the length of a sprint planning?\",\n 'What are the benefits of conglomerate integration?',\n 'What are the disadvantages of venture capital? (2)',\n 'Give a formula for calculating the reach of the TLB:',\n 'Using the Win32 API, a programmer can terminate a thread using the ________ system call.',\n 'Business process patent',\n 'UNIX systems use ________ to notify a process that an event has occurred.',\n 'Give 2 reasons why it may be inappropriate for the kernel to allocate its own memory using the memory-paging system:',\n '_ incidents▪ Based on agreed classification▪ Ensure incidents with highest business impact are resolved first',\n 'If nis the number of processes in the system and qis the chosen time quantum, give a formula for the maximum wait time of a process in the ready queue:',\n 'What is the role of a trade union?',\n 'The services included with a microkernel design communicate via ________.',\n 'When is it appropriate to accept project risk?',\n \"How could we use a page table's reference bits to track a process's working set?\",\n 'Analogous',\n 'What are the different types of economies of scale?',\n 'Facilitating value creation is a specific aspect of the “?” dimension.',\n 'Active directory and LDAP provide a ________ mechanism for remote users.',\n 'How would you deal with an issue that arises on your project that may impact scope, schedule or cost?',\n 'Information security',\n 'What is a Local Area Network (LAN)?',\n 'What is the minimum RAID level that implements redundancy?',\n 'What are the usual goals for employees?',\n 'System',\n 'What are the advantages of the fishbone diagram? (3)',\n 'What is inventory / stock turnover?',\n 'When paging is used to allocate memory, what is the expected degree of internal fragmentation for each process?',\n 'What is the act of sharing awareness or transferring ownership of an issue or work item?',\n 'What is an ideal value fo debtor days?',\n 'Why are magneto-optic disks usually more resistent to head crashed compared to a magnetic hard drive?',\n 'List and describe the 2 operations used by the system to restore system state (from the write-ahead log) following a failure:',\n 'What are advantages of share capital? (2)',\n 'An atomic transaction completes successfully through a ________ operation.',\n 'What are the disadvantages of sole proprietorship? (7)',\n 'What is the formula for current ratio?',\n 'What is used to define the project and its relation to strategic goals?',\n 'What is the current ratio?',\n 'What does risk management plan establish?',\n 'Give 2 common technologies that make use of a phase-change disk design:',\n 'Three point (estimating work method)',\n 'PDCA',\n 'Give a definition for the serializability property (of concurrent transactions):',\n 'What are Nonfunctional requirements?',\n 'What are limitations of budgets? (6)',\n 'What isthrashing?',\n 'Scalability',\n 'What is included in the project benefits management plan?',\n 'An operating system that accesses some portion of a disk as a simple linear array of blocks is said to be performing ________ I/O.',\n 'Define a \"process\":',\n 'Testing phase',\n 'CPI',\n 'What is an aspect of service \\ncontinuity management and represents the point to which information used\\n by an activity must be restored to enable the activity to resume \\noperations?',\n 'What is the new paradigm of user centered Innovation?',\n 'Give an example of a high-level synchronization construct:',\n 'What are Typographical Errors?',\n 'Iteration',\n 'What are 3 common platform-level APIs used by programmers today?',\n 'What is a budget?',\n 'How is it possible for the CPU to accomplish work if the DMA controller is currently mastering the memory bus?',\n 'An operating model that outlines the key activities required to respond to demand and facilitate value creation is the definition of the what?',\n 'What are worker cooperatives?',\n 'What is one advantage to implementing a disc-scheduling algorithm in the device controller hardware instead of the operating system?',\n 'Files are known to a user by ________ and to the file system by ________.',\n 'Project scope statement',\n 'There\\n are two types of costs from the consumer’s perspective:',\n 'What cannot be tracked using the WBS?',\n 'CREATE VIEW and DROP VIEW fall under the main SQL DDL (data definition language) along with?',\n 'List the 2 basic operations supported bya character-stream interface:',\n 'Name two factores that influence the source of innovation!',\n 'What is a\\n recurring organizational activity performed at all levels to ensure \\nthat an organization’s performance continually meets stakeholder \\nexpectations?',\n 'What do we mean when we say that an operation is idempotent?',\n 'What flags are passed to ps to output only active processes?',\n 'What tertiary storage device makes use of the Kerr effect to read data?',\n 'How does security get improved by using stored procedures / functions?',\n 'What is the defining characteristic (requirement) of stable storage?',\n 'List 5 components of a process:',\n 'The file-system layer that translates logical file block addresses into physical addresses is called the ________.',\n 'What are mortgages?',\n 'These make up what Dimension?Information and knowledgeTechnologiesRelationships between the components',\n 'Roman voting (method of gaining consensus)',\n 'File systems sometimes group blocks on data into ________ to improve sequential-access characteristics of file system operations.',\n 'What is cost of quality?',\n 'Which is the purpose of the design and transition activity?',\n 'Virtualization',\n 'What value is stored in the limit register associated with a process?',\n 'What is focused on specific roles and taking advantage of \\ndifferent offerings including goods, access to resources, and service \\nactions?',\n 'Fuzzy logic',\n \"What's are other ways to describe agile projects?\",\n 'On a magnetic disk, each platter is divided into many concentric ________.',\n 'To ensure that services deliver agreed levels of accessibility to meet the needs of customers and users is what type of management?',\n 'These result in value and are outputs of the “Deliver and support” SVC activity.',\n 'Give a conceptual definition of a monitor:',\n 'What POSIX API is used to detach an existing shared memory segment?',\n 'Briefly explain the concept of file memory-mapping:',\n 'Linux more commonly refers to processes or threads as ________.',\n 'What is a path name?',\n 'Philip B. Crosby (theories / ists)',\n 'As a core type of service consumer, who are persons who authorize budgets for service consumption?',\n 'What is benchmarking?',\n 'What guiding principle is most interested in objective assessment, meaningful measurements, and applying risk management skills?',\n 'These answer what question in the continual improvement practice:Define the improvement plan',\n 'What is decision tree analysis used for?',\n 'Explain the tradeoffs in latency between RAID Level 3 and Level 4:',\n 'Planning package definition',\n 'What are the disadvantages of using social media for marketing?',\n 'List 2 applications where an I/O device would benefit from memory-mapped I/O:',\n 'Which general scheduling algorithm is especially suited to real-time systems?',\n 'What is Copyright?',\n 'What is an enduring ITIL recommendation that steers an organization in all circumstances?',\n 'Phishing expedition',\n 'Data governance',\n 'Give 3 examples of symmetric APIs (pairs) for requesting and releasing resources:',\n 'What are the advantages of job production?',\n 'Loose coupling',\n 'Gantt chart',\n 'Project stakeholder',\n 'Give 2 examples of synchronous signals:',\n 'When do use Bar Charts (Gantt Charts)?',\n 'The ________ process serves as the root parent process for all user processes.',\n 'Which SQL statement do we use to change one or more values in a specified column?',\n 'What are factors in setting budgets? (5)',\n 'What describes a type of structured document that captures, documents, \\nassesses, and prioritizes enhancement ideas to be appropriately acted \\non?',\n 'What are internal sources of finance?',\n 'When you perform a risk response, you need which project documents?',\n 'Give a general description of how a deadlock-detection algorithm determines whether or not a request is safe?',\n 'These are inputs to the whatservice value chain activity?Performance information and enhancement opportunities provided by all value chain activitiesStakeholders feedback provided by the Engage service value chain activity',\n 'Entity',\n 'In the PESTLE model what does the letter “S” stand for?',\n 'Dynamic scaling',\n 'What are the positive impacts of a trade union on the economy?',\n 'How does UNIX use the file path to locate a file on a specific device?',\n 'Describe the steps taken by the operating system to service a page fault (assume the fault was the result of a valid memory reference):',\n 'What are the advantages of gantt charts? (5)',\n 'The SQL statement DELETE is used to?',\n 'Distinguish a soft disk error from a hard disk error:',\n 'How can we use a system resource-allocation graph to detect a deadlock?',\n 'What are the tax systems?',\n 'List 4 abstract data structures than could be used to model a ready queue:',\n 'An entry in an open-file table is called a ________.',\n 'What is High Level Languages?',\n 'Network effect',\n 'A power-of-two allocator can suffer from ________ fragmentation.',\n \"Describe the relationship between a process's working-set size ([$]WSS_i[/$]) and its level of demand for frames (memory):\",\n 'Firewall',\n 'Although\\n one of the main goals of ITIL 4 is continual improvement, the framework\\n is specifically for _ in\\n the official definition.',\n 'What is the formula for sales revenue?',\n 'Regarding integrity enhancement, Name the two characteristics of data requirement.',\n 'What are the 4 ITIL General Management Practices for the exam?',\n 'Secondary storage',\n 'What guiding principle emphasizes involving people in the proper roles and working in a transparent environment?',\n 'Collaboration system',\n 'On Unix, most common commands are implemented through ________.',\n 'In SQL a package consist of which items?',\n 'How does spectral clustering work?',\n 'What is not an input of Develop Team?',\n 'MoSCoW analysis',\n 'Tactical planning',\n 'Why do businesses use market segmentation?',\n \"Setting the processor's base and limit registers is done through ________.\",\n 'Infographics (information graphics)',\n 'Describe how an operating system could use multiple interrupt handlers to coordinate a disk read for a requesting task:',\n 'What are non governmental organizations?',\n \"What information does a file's extension give the operating system?\",\n 'When our allocation strategy logically groups contiguous disk blocks for operations, we refer to these groups as ________.',\n 'Define the span of a set of vectors',\n 'What is the risk of highly uncertain projects?',\n 'List 2 abstractions that the operating system provides for hard disk access:',\n 'Threat of new entrants(Porter)',\n 'define accrual basis',\n 'What are the different types of production?',\n 'What is a description of one or more services, designed to address the needs of a target consumer group?',\n 'A segment table for a process is essentially an array of ________.',\n 'What is key to successful monitoring and event management and the process can be either active or passive?',\n 'What do organizational charts help with?',\n 'What is reviewed in Manage quality versus Control quality?',\n 'Agile Life Cycle',\n 'What are Sole Traders?',\n 'The components covered by the “organization and people” \\ndimension are formal organizational structures, culture, required \\nstaffing and competencies, and roles and responsibilities.Information \\nand knowledge assets are part of the _ dimension.',\n 'Describe a simple strategy that would support preemption for multiple, overlapping calls into the kernel:',\n 'What arefour ways to apply the principle, Start Where You Are?',\n 'Responsibility matrix',\n 'Collective intelligence',\n 'Given a bitmask for a free-list, how could we quickly find the first free block?',\n 'What are the disadvantages of a joint venture?',\n 'Establishing and maintaining thresholds for state changesImplementing processes and required automationThese are considered _ activities according to ITIL.',\n 'When using RIGHT JOIN, which table returns all rows?',\n 'What happens after after the new entrant stepped into the market?',\n 'What types of changes are these:● Authorization based on change type● Low-risk, someone who can make rapid decisions● Very major',\n 'Business process model',\n 'Customer service and support (CSS)',\n 'Spatial data (geospatial data)',\n 'Predictive analytics',\n 'Affinity grouping analysis',\n 'When creating the work breakdown structure a team member has work they want to add, but is missing detailed scheduling activities. Another member of your team says this is a bad idea, because it could lead to a misrepresentation of work and may negatively impact the project. As the PM, what should you tell them?',\n 'A hardware bus is one type of ________.',\n 'What is the formula for gross profit margin?',\n 'What are the advantages of indirect tax?',\n 'Even efficient packing of file data may still result in ________ on the block device.',\n 'What is helpful about work packages?',\n 'Internet of things (IOT)',\n 'What is normally returned by a call to open()?',\n 'Which practice makes new and changed services and features available for use?',\n 'What POSIX API is used to allocate a shared memory segment?',\n 'What are Transposition Errors?',\n 'When your project team is reviewing overall project performance on regular basis to ensure that it satisfies relevant quality standards, which process is this?',\n 'The shortest-job-first scheduler selects the next process to run according to ________.',\n 'Application programming interface (API)',\n 'What is the closing balance?',\n 'When can we say that a schedule Sis conflict-serializable?',\n 'Describe the relationship between indirect memory references and the minimum frame allocation for a process:',\n 'Horizontal privilege escalation',\n 'What are the advantages of ethical behaviour? (4)',\n 'Organizations should examine how they perform work and map all the value\\n streams they can identify as well as barriers to workflow. What term \\nbest describes these wasteful barriers?',\n 'Three types of technologies.',\n 'How could we handle file deletion when a file is pointed to by multiple links (i.e., danling links)?',\n 'Managerial level',\n 'RAID stands for ________.',\n 'What is the scope of operation of an aggregate function?',\n 'Estimate at Completion (EAC) - variance typical',\n 'Threat',\n 'A process with no child threads is considered ________, while a process with several threads is considered ________.',\n 'What data type do we use when we want to define points in time to a certain degree of accuracy?',\n 'What are types of intangible assets? (5)',\n 'Target cost contracts (agile contract)',\n 'What system call is used on Linux to map a file into virtual memory?',\n 'Smart grid',\n 'VAC',\n 'What is the assurance that a product or service meets the needs of the customer?',\n 'How do support vector machines work?',\n 'Why does a government privatise a business?',\n 'Open system',\n 'Two components that communicate over a common set of wires, using an established protocol, are said to be communicating over a ________.',\n 'define timeliness',\n 'When is a set of system processes in a deadlock state?',\n 'What is a DIV?',\n 'In order to provide continual improvement of products, \\nservices, and practices across all value chain activities and the four \\ndimensions, performance information and improvement opportunities must \\nbe input into the _ activity.',\n 'What should the PM do if they are given assumptions, preliminary scope and restrictions for a new project?',\n 'The code within a trigger is called a?',\n 'How might the operating system respond to thrashing?',\n 'Incremental delivery (agile contract)',\n \"How are computer systems used in a doctor's practice?\",\n 'The guiding principles interact with and _.',\n 'What is value added?',\n 'LO: Explain why competitive advantages are temporary along with the four key areas of a SWOT analysis.',\n 'What is the purpose of a foreign key?',\n 'Beyond\\n the consumer roles, there are usually many other stakeholders that are \\nimportant to value co-creation. By investing either directly or \\nindirectly, who will derive value financially, and through \\nassurance and stability?',\n 'Dumpster diving',\n \"The time needed to rotate a desired sector to the disc head is known as the disc's ________.\",\n 'Regarding parameters, the SQL keyword OUT is used when?',\n 'What is a primary key?',\n 'What is quantitative risk analysis?',\n 'Knowledge and information about service components to all value chain activities is an output of the _activity of the service value chain.',\n 'How can a general graph-structure file-system support efficient directory traversal?',\n 'When a process in the ready queue is selected for execution (i.e., made the new active process), we say that it has been ________.',\n 'What is used to define the project and its relation to strategic goals?',\n 'Taxonomy',\n 'When one process executes its critical section, we must require that ________.',\n 'What is the focus of Project Integration Mangement?',\n 'How can we use copy-on-write to service requests for zero-filled pages in a performant manner?',\n 'What are the disadvantages of alaissez faire system?',\n 'What are ratio analysis?',\n 'Pharming',\n 'Which SQL privileges can be restricted to specified columns?',\n 'What is the definition of the service value chain.',\n 'What options might a designer consider when implementing a message passing mechanism?',\n 'Clients access network-attached storage through a ________ interface.',\n 'What is the break even quantity?',\n 'What refers to the accurate timing of the delivery of a product of service \\nand is an aspect of the “information and technology” dimension as \\nopposed to value streams and processes?',\n 'What is the definition of IT asset management?',\n 'ITIL 4 further supports continual improvement with the what model?',\n 'Critical path',\n 'Resource leveling',\n 'What is one drawback of using a power-of-two allocator in the kernel?',\n 'What process helps organizations scale up and allows human resources to be used for more complex decision making?',\n 'What is the boot block?',\n 'Cost reimbursable (predictive contracts)',\n 'We can generally categorize a semaphore as either a ________ or a ________.',\n 'The programmer can terminate a Pthread by calling the ________ system call.',\n 'What is the formula for Total Cost?',\n 'What are communication models?',\n 'What are the properties of a perfect competition market?',\n 'Asset tracking',\n 'Cold site',\n 'What are the NZ consumer protection laws',\n 'What is a page-fault (trap)?',\n 'What term is characterized as any change of state that has significance \\nfor the management of a service or other configuration item typically \\nrecognized through various notifications?',\n \"The set of unallocated blocks on a file-system's backing disk is referred to as the file-system's ________.\",\n 'What is on-demand scheduling?',\n 'insider',\n 'What are the key questions of the demand analysis?',\n 'What are the types of data collected by market research?',\n 'Give examples of file access types that may be granted to a user or process.',\n 'What are 2 major drawbacks of contiguous allocation that is not posed by linked allocation?',\n 'In what sense is dimensionality reduction by PCA optimal?',\n 'Poisson Distribution',\n 'Loyalty program',\n 'Multi-tenancy',\n 'Productivity',\n 'This is one of the courses for the ITIL® Managing \\nProfessional (MP) career path. The other three courses are ITIL® \\nSpecialist - Create, Deliver,  Support, ITIL® Specialist - High \\nVelocity IT, and ITIL® Strategist - Direct, Plan,  Improve.',\n 'What is a p-value (in significance testing)?',\n 'With demand-paging, we view each process in memory as a sequence of ________.',\n 'Assuming we have defined a total order Fover all resource types [$]R = { R_1, R_2, \\\\dots, R_n }[/$] in a system, what 2 rules could we impose that would avoid the circular-wait requirement (for deadlocks)?',\n 'Management information system (MIS)',\n 'Emergency',\n 'Describe two common models of interprocess communication:',\n 'What is concerned with demand forecasting and resource scheduling and preparation?',\n 'What are the key concepts of creating value with services?',\n 'Briefly describe the technique of swapping:',\n 'To \\ncontinually align IT services to the changing business needs by \\nidentifying and implementing improvements to IT services that support \\nbusiness processesis the definition of the _ practice.',\n 'A _ is a configuration of resources, created by the organization that will be potentially valuable for their customers.',\n 'What if analysis',\n 'Name the two types of triggers.',\n 'Software updates / software patch',\n 'Which ITIL term describes the uncertainty of a negative or positive outcome?',\n 'In Manage Communications, a tool and technique is influenced by factors including whether the team is co-located, and how the organizational culture affects the way meetings are conducted is referred to as what?',\n 'Which SQL statement does an owner use to pass privileges to another user?',\n 'The way in which an organization carries out its work that creates shared values and attitudes, which over time, are considered the what?',\n 'Ethical computer-use policy',\n 'How can a layered approach to OS design simplify the design process?',\n 'To assure that services meet specific performance measurements in a cost-effective manner defines what type of management?',\n 'Operational CRM',\n 'When using LEFT JOIN, which table returns the matching rows?',\n 'How are modern hardware page tables normally implemented?',\n 'What are disadvantages of budgeting? (3)',\n 'Which general management practice involves supporting the provision of seamless, quality products, services, and components?',\n 'A magnetic disc storage device is built from one or more magnetic ________, each storing data.',\n 'What are the disadvantages of SWOT analysis? (4)',\n 'Virtual machines execute only in ________ mode.',\n 'In addition to the ITIL Development Group, approximately how many ITIL members help steer the development of ITIL version 4?',\n 'Volatilitememory',\n 'What does the letter “P” stand for in the PESTLE model?',\n 'What is a Compiler in Information Technology?',\n 'What are the five steps of database system development?',\n 'First of five (method of gaining consensus)',\n 'What is a Wide Area Network (WAN)?',\n 'Who ensure that Scrum is understood and enacted',\n 'What safeguards the interests of key stakeholders during a disaster scenario?',\n 'What makes a business objective important?',\n 'A schedule in which each transaction is executed atomically is called a ________.',\n 'What are the limitations of mass marketing?',\n 'How do most operating systems respond to a page-fault caused by an invalid memory reference?',\n 'Agile Life Cycle',\n 'What is the formula for contribution per unit?',\n 'What are disadvantages of share capital?',\n 'What is the maximum length of a filename on most Unix systems?',\n 'Semantic web',\n 'Describe something from your previous experience that you would do differently',\n 'Public cloud',\n 'Corporate social responsibility to society',\n 'How could a hash table speed up operations on a directory?',\n \"Processes waiting on a given device may be placed on that device's ________.\",\n 'What data structure is used extensively by the logical file-system layer?',\n 'How does the LOOK disk-scheduling algorithm differ in its behavior from SCAN?',\n 'On UNIX, new child processes are created through the ________ system call.',\n 'A memory-mapped file-access interface is normally layered on top of a ________ device driver.',\n 'What is a useful technique whereby the outputs of one part of a\\n system are used as inputs to the same part of the system?',\n 'Database',\n 'What is a competence destroying innovation?',\n 'How does Unix make it possible to mount another file-system volume as a directory inside of another file-system?',\n 'Supplier relationship management (SRM)',\n 'What are the factors that determine corporate objectives?',\n 'What factors can you not fire someone because of?',\n 'Paging alleviates what type of memory fragmentation?',\n 'Pthreads use ________ as their primary synchronization mechanism.',\n 'What 2 things must happen when a page of memory is swapped out?',\n 'Fixed price (predictive contracts)',\n 'What is double buffering?',\n 'what is regression analysis?',\n 'What is product scope by measured against, and where would these elements be listed?',\n 'Time bombs',\n 'The purpose of the _ practice is to maximize the number of successful IT changes by ensuring that risks have been properly assessed, authorizing changes to proceed, and managing the change schedule.',\n 'Kaizen',\n 'What is Assembly Language?',\n 'What is true about Lessons Learned updates?',\n 'What distinguishes a buffer from a cache?',\n 'What does the scope management plan establish?',\n 'What is a Business Plan',\n 'What is a salience model of influence?',\n 'What is the usual time limit of an innovation?',\n 'What is the definition of log loss (a.k.a. cross-entropy), and why is it used?',\n 'What is the ansoff matrix?',\n 'Dynamic process',\n 'What is the calculation for budgeted cost of work performed?',\n 'As part of what framework, environmental and legal \\nfactors such as working with the EU and being subject to data protection\\n laws like GDPR may influence the delivery of products and services?',\n 'What is a Flowchart?',\n 'What are multinational companies?',\n 'What is the purpose of a stock exchange?',\n 'What is the read-modify-write cycle?',\n 'Strategic planning',\n 'With polling, the host and device controllers operate according to a ________ relationship.',\n 'SV',\n 'Significance test for a continuous (normal-ish) variable(e.g., spend per user)',\n 'When is quality assessed in Agile projects?',\n 'Management reserves are used for what kinds of risks?',\n 'Competitive advantage',\n 'Describe the scheme followed by a \"buddy system\" allocator:',\n 'What are STREAMS?',\n 'What are the various attitues toward CSR by businesses?',\n 'Real accomplishmentInformation sharingTrustUnderstandingThese are elements of _ according to the guiding principles?',\n 'Wide area network (WAN)',\n 'What happens when we call the start() method on a Java Runnable object?',\n 'Metadata',\n 'Which guiding principle emphasizes that everything the organization does must map, directly or indirectly, to value for the stakeholders?',\n 'WBS Dictionary Components',\n 'What are the benefits of backwards vertical integration?',\n 'What is stakeholder conflict?',\n 'Describe a conflict in your previous experience, and how you handled it',\n 'When data striping is implemented on a per-byte level of granularity, the approach is known as ________.',\n 'Describe a time when you worked with others to solve a problem',\n 'What distinguishes pure demand paging?',\n 'Voice over LTE (VoLTE)',\n 'In a memory-mapped I/O polling scheme, the host controller signals commands to the device by setting and clearing the ________ bit.',\n 'What are the Characteristics of an Algorithm?',\n 'What are producer cooperatives?',\n 'A parameter can be designated by three SQL keywords, name these.',\n 'The core drivers of the information age include the differences of what four levels of organized facts?',\n 'Mechanism determines ________.',\n \"A file's owner ID and group ID is stored in its ________.\",\n 'How do you motivate a worker?',\n 'In Unix, can one file be accessed simultaneously by different processes?',\n 'The purpose of the _ practice is to protect the information needed by the organization to conduct its business.',\n 'Predictive Life Cycle',\n 'Who is profiting form innovation?',\n 'Neural network',\n 'Failing to consider the value streams and processesdimension holistically can lead to what?',\n 'Optic disks use ________ to read and write data on non-magnetic material.',\n 'What is the articles of association?',\n 'What are current liabilities?',\n 'Reliability or accuracy',\n 'What does survival costs include?',\n 'Although, providers are not a core consumer of services. Providers help their consumers to achieve what?',\n 'When is a firm highly geared?',\n 'What guiding principle?Use the other guiding principles when applying this one.● Progress iteratively with feedback● Keep it simple and practical● Focus on value● Start where you are',\n 'When the CPU wants to read from or write to an address in main memory, it places the address in the ________ of the memory device.',\n \"Windows 2000 and XP use the ________ protocol to authenticate users' requests to remote (distributed) file systems.\",\n 'PERT (Program Evaluation and Review Technique) chart',\n 'Project deliverable',\n 'What are the disadvantages of the straight line method?',\n 'Describe 2 major contributions to file-systems that came with the advent of the Berkeley Fast File System (FFS):',\n 'Copying data to and from a device one-byte-at-a-time is called ________.',\n 'What is the risk of highly uncertain projects?',\n 'What is the comprehensive framework that ITIL 4 provides to global organizations?',\n 'What does SDLC stand for?',\n 'What is monetary policy?',\n 'PESTLE',\n 'Which resources are normally shared between threads?',\n 'Switches vs Hubs',\n 'What are some methods of dealing with class imbalance?',\n 'These answer what question in the continual improvement practice, business vision, mission, goals, and objectives.',\n 'What distinguishes a turnstile from a basic wait queue?',\n \"Herzberg's 2-Factor Theory\",\n 'Hybrid ERP',\n 'AND, OR and NOT are three logical operators, in what priority are these three evaluated?',\n 'Semi passive RFID tags',\n 'What is the Internet?',\n 'Give some benefits to implementing an operating system using a higher-level language instead of assembly:',\n 'What are the benefits of external recruitment',\n 'These are common sources of a what?Inclement weatherCyber attackSupply chain failureHealth emergency',\n 'Cluster analysis',\n 'In SQL when we define an action that the database should take should an event occurs is called a?',\n 'The ITIL SVS describes how all the [?] of the organization work together as a system to enable value creation.',\n 'What is the Human Resources Department',\n 'What happens when we excecute an INNER JOIN?',\n 'Who is present at the sprint planning',\n 'Name the three types of technology!',\n 'What is variance (in a model)?',\n 'Why would we use the exec() system call after calling fork()?',\n 'The guiding principles encourage and support organizations in _ at all levels. They are universally applicable to nearly any initiative and to relationships with all stakeholder groups',\n 'An _ is a tangible or intangible deliverable of an activity',\n \"What events might result in inconsistencies in the file-system's state?\",\n 'In terms of scheduling behavior, we can place kernel designs into what 2 categories?',\n \"What is the purpose of a block's header and trailer segments?\",\n 'What are advantages of microfinance providers? (3)',\n 'What is one drawbacks of using clustering for linked allocation?',\n 'A non-blocking receive operation will yield either ________ or ________.',\n 'Describe some ways in which we could improve the I/O efficiency in our system:',\n 'What distinguishes a synchronous signal from an asynchronous signal?',\n 'These technologies support what?-workflow management-knowledge bases-communication systems-analytical tools-inventory systems-remote collaboration-mobile platforms-artificial intelligence-machine learning-cloud solutions.',\n 'How many general management practices are included in the ITIL Service Value System?',\n 'Relational database management system',\n \"What is one advantage of allocating a process page table that can represent every page in the process's logical address space?\",\n 'Switching cost',\n 'Real time communication',\n 'Where is conflict resolution documented?',\n 'Explain why the first-come, first-served (FCFS) disk-scheduling algorithm typically exhibits poorer performance than other disk-scheduling algorithms:',\n 'Describe 2 potential benefits of using a larger page size:',\n '_ practices have been adapted from technology management domains for service management purposes by expanding or shifting their focus from technology solutions to IT services.',\n 'What are types of integration in a merger of acquisition?',\n 'What is the need or desire for products and services among internal and external consumers?',\n 'Why is it not feasable to rely solely on a process page table (in main memory) when performing memory lookups?',\n 'On Unix, what is the purpose of the magic numbers included at the beginning of some files?',\n 'The purpose of the _ practice is to reduce the likelihood and impact of incidents by identifying actual and potential causes of incidents, and managing workarounds and known errors.',\n 'What is SVS in ITIL 4?',\n 'What computer system was the first to feature a modern graphical user interface?',\n 'Location-based services (LBS)',\n 'What is the Delphi Technique?',\n 'What does lowering interest rates do?',\n 'List 2 elements that are typically stored in swap space:',\n 'What is the approximate numeric data type used for?',\n 'Collective Code Ownership',\n 'What objective is accomplished by defining the improvement plan and then taking actions accordingly?',\n 'What is an Entrepreneur',\n 'To support system calls in threads, ________ threads and backed by ________ threads.',\n 'Bubble Chart',\n 'A multilevel queue scheduler uses multiple ________ to organize and schedule processes.',\n 'Distinguish an unsafe resource-allocation state from a deadlock:',\n 'Name the three parts a PL/SQL block can be made up of.',\n 'What do we mean when we say that an operation must be atomic?',\n 'Failing to consider the value streams holistically can lead to wasteful work and duplication of effortsPatterns within the value chain operation are called value streamsThey are a series of steps used to create and deliver products and services to a consumerThese statements are concerning what in ITIL 4?',\n 'What is a Variable?',\n '[?] are recommendations that guide an organization in all circumstances, regardless of changes in its goals, strategies, type of work, or management structure.',\n 'What does Crusade conflict look like?',\n 'What are the five steps of the invention process?',\n 'Where is the new market entrant pushing to?',\n 'RFID reader (RFID Interrogator)',\n 'List 4 possible classes we can classify a page with, according to the values of its reference bit and dirty bit:',\n 'How do FAT file-systems implement the free-space list?',\n 'What are tactical objectives?',\n 'Stylus',\n 'Customer facing process',\n 'Define recall (sensitivity)',\n 'What are the benefits of off the job training?',\n 'What is the definition of problem management?',\n 'What are the disadvantages of destructive pricing?',\n 'What are consistency semantics?',\n 'Information integrity',\n 'Acronym for all the risk processes?',\n 'What offers a framework for organizational resilience \\nwith the capability of producing an effective response to support and \\nprotect value-creating activities?',\n 'According to ITIL, due to the difficulty of accurately \\nmeasuring certain data, there is frequently a discrepancy between _ and _.',\n 'What is the relationship between a business strategy and stakeholders?',\n 'What is the formula of equity?',\n 'The Curse of Dimensionality says that, as dimensions increase...',\n 'As-Is process model',\n 'If you have two equally important stakeholders requesting changes and each feel their individual change is a priority, how should you respond?',\n 'Describe a linked (list) allocation scheme for a file-system:',\n 'During\\nproject execution, the forecasted remaining hours begin to exceed planned\\nremaining hours. Consequently, the project takes on a negative variance. Which\\nformula is the project manager likely to use as a measurement tool to gauge\\nthis difference?',\n 'New and changed products/services provided by Design  transitionis an input to the _service value chain activity?',\n \"What are the advantages of using a business owner's savings as investments?\",\n 'What information might be stored in each entry of a per-process open-file table?',\n 'What activity is directly responsible for delivering services to external \\nand internal customers according to service and operational level \\nagreements?',\n 'Data at rest and data in transit must be visible and\\n highly available for proper decision-making. Decisions can only be made on visible data is an aspect of the guiding principle of...',\n 'Capacity planning',\n 'What are two ways to profit from the innovation by the use of ohters?',\n 'Bar Chart',\n 'Decrypt',\n 'Which EVM metric is considered the most critical?',\n 'What is replication?',\n 'What is risk adjusted backlog?',\n 'What are joint ventures?',\n \"What's the relationship between information and data? What's the differentce between static and dynamic reports?\",\n 'What are the needs that need to be fufiled for people to be motivated as proposed by Maslow?',\n 'Which side in the Information Process benefits form Problem solving?',\n 'Sustainable or Green MIS',\n 'Give a general description of thereaders-writers problem:',\n 'What document is cost/benefit justification apart of?',\n 'How many minutes does one have to take the ITIL 4 exam if not taking it in their native or working language?',\n 'What is share capital?',\n 'What are the benefits of economic growth?',\n 'Network transmission media',\n 'Which practice provides the end-to-end visibility of the organization’s services?',\n 'What are cooperatives?',\n 'How do you evaluate clustering quality (without ground-truth labels)?',\n 'As a service provider, it is important to recognize the _ and _ for effective communication and \\nstakeholder management.',\n 'What are 2 strategies for preventing data loss in RAID storage during a power failure?',\n 'Microblogging',\n 'What does ISLC stand for?',\n 'When are risk owners assigned?',\n 'What is a file index?',\n 'What are variable costs? (B)',\n 'Social engineering',\n 'What locking rules are enforced for each transaction during the growing and shrinking phases?',\n 'Geoeconomic',\n 'What is starvation?',\n 'What are the advantages of primary research?',\n 'Page sizes are commonly ________ or ________ on most systems.',\n 'Two factor authentication',\n 'What is \"Personal Security Practices\"?',\n 'What does it mean to \"lock\" a frame of memory?',\n \"McGregor's Theory X  Y\",\n 'Wire media',\n 'An entry for an open file is normally added to what two tables?',\n 'Explain how copy-on-write relates to process creation in Unix:',\n 'This involves procurement of a product or service from more than one independent supplier.',\n 'What are the roles in scrum',\n 'What does problem-solving look like?',\n 'Capped time and materials (agile contract)',\n 'Token',\n 'The purpose of the _practice is to ensure the organization’s suppliers and their performance are managed appropriately to support the provision of seamless, quality products, services and components.',\n 'What are assets.',\n 'Messaging passing allows processes to communicate without sharing the same ________.',\n 'Multifactor authentication',\n 'What is \"Software Countermeasures\"',\n 'Data gap analysis',\n 'Technology failure',\n 'Vertical privilege escalation',\n 'What contributes to your earnings?',\n 'What distinguishes an independent process from a cooperating process?',\n 'Why does NFS not follow the Unix convention of open()-ing and close()-ing files?',\n 'In UNIX, we can use the ________ signal call to terminate a process; we can use the ________ signal call to terminate a specific thread.',\n 'Which risk analysis technique helps in creating the contingency reserve?',\n 'Give the worst-case runtime behavior of the safety algorithm:',\n 'Biometrics',\n 'There are 3 Technical Management Practices:',\n 'Give one example of a common hardware bus design:',\n 'Briefly describe the shared memory approach to interprocess communication:',\n 'What is the formula for acid test?',\n 'What operations for communication are supported by Unix streams?',\n 'Central processing unit (CPU) or Microprocessor',\n 'Wireless access point (WAP)',\n 'What is forward feature selection?',\n 'Understand the customer experience (CX)Understand and identify the service consumerUnderstand the consumer’s perspective of valueThese arekey elements of what Guiding Principle?',\n 'Which value chain activity contributes to the continual improvement \\npractice by preparing activities, methods, and techniques to assure \\ntheir relevance to the organization?',\n 'What does the referantial action NO ACTIONdo?',\n 'Under an indirect communication model, messaging are sent and received from ____.',\n 'What is eXtreme Programming (XP)?',\n 'Is the delphi analysis a linear or iterative process?',\n 'What scheduling problem can be solved with aging?',\n 'What are the diadvantages of sale and lease back as investments?',\n 'What is long-term finance?',\n 'Discovery prototyping',\n 'This\\n general management practice ensures that an organization’s suppliers \\nand their performance levels are managed appropriately.',\n 'What are the advantages of a partnership?',\n 'What are internal diseconomies of scale? (5)',\n 'Incremental delivery (agile contract)',\n 'When there is no result in matches using a LEFT or RIGHT JOIN what happens to the rows?',\n 'What helps teams go from forming to norming?',\n 'Name five types of innovation according to schumpeter.',\n 'Regarding parameters, the SQL keyword IN is used when?',\n 'Briefly explain the concept of demand sharing:',\n 'Relational Power',\n 'A file system must be ________ before it can be accessed by the operating system:',\n 'What is the Finance and Accounts department?',\n 'Business requirement',\n 'What happens in envisioning?',\n 'If an activity has an ES of 3 days, an LS of 13 days, an EF of 9 days and an LF of 19 days, what can you assume?',\n 'What is the Dark Net?',\n 'Why is the Central Limit Theorem important?',\n 'Thedining philosophers problem is a real-world metaphore for what general need in computing?',\n 'What is Archiving?',\n \"We can use a ________ register and a ________ register to describe a region of physical memory representing a process's virtual memory space.\",\n 'Transaction processing system (TPS)',\n 'What is a set of interrelated activities that transforms inputs into outputs?',\n 'What is Low Level Languages?',\n 'Methodology',\n 'Give 2 examples of events that would generate an asynchronous signal in UNIX:',\n 'Systems development life cycle (SDLC)',\n \"A Unix stream's driver end interfaces with the ________.\",\n 'When do non-blocking system return to the caller?',\n \"Give Little's formula, and explain its relevance to queue-network analysis:\",\n 'Why are budgets important?',\n 'What guiding principle?Everything the organization does should link back, directly or indirectly, to value for itself, its customers and other stakeholders.',\n 'What is the Force Field Analysis (in PMBOK)?',\n 'Why is low inflation ideal?',\n 'Which clause can be used to find a value?',\n 'When are entries added to the interrupt vector?',\n \"What are the diadvantages of using a business owner's savings as investments?\",\n 'Using technology to perform a step or series of steps with limited or no human intervention represents the definition of what?',\n 'Two components needed for the information process in innovation.',\n 'In SQL, What does a specification do in a package?',\n 'Encryption',\n 'What is the formula for debtor days?',\n 'Dimension 1: Organizations and People, the focus should be on _.',\n 'When a new process is created, it enter the ________.',\n 'Emergency notification service',\n 'What is the main difference between LU method and traditional market research?',\n 'What information must be recorded in a DMA command block?',\n 'Which practice establishes the appropriate response to potential faults?',\n 'Which term describes sets of organizational resources designed for performing work or accomplishing an objective?',\n 'What can be said about the cardinality depicted in red and blue hereafter?',\n \"The working-set model is concerned with tracking a running process's ________.\",\n 'What are purchasing economies of scale?',\n 'This general management practice protects organizations by understanding and managing risks to the CIA security triad.',\n 'Briefly, what is the \"buddy system\", and how might a kernel use it?',\n 'Describe three methods of demand analysis!',\n 'What factors should a business consider when choosing a source of finance?',\n 'Configuration Management',\n 'What is a system call?',\n 'Name the five aggregrating functions.',\n 'What is the Main difference between validation and verification?',\n \"When is a system's resource-allocation state considered safe?\",\n 'Pay per click',\n 'Big data',\n 'What are advantages of joint ventures? (6)',\n 'How could we ensure that the circular-wait condition (for deadlocks) is avoided?',\n 'What are microfinance providers?',\n 'List some possible causes of an on-disk file-system failure:',\n 'Manage Quality',\n 'External coaches Pros and Cons',\n 'What is a Source Document?',\n 'What Win32 calls are involved in spawning a child process and waiting (blocking) on the child to terminate?',\n 'What are the different types of diseconomies of scale?',\n 'Which two ISO standard mechanisms fall under domain constracts?',\n 'Podcasting',\n 'What is a socket?',\n 'What is an opening balance?',\n 'What is a common tool used to measure the performance of services from the customer’s point of view?',\n 'What are external factors that cause a change in aims and objectives?',\n 'Information',\n 'What is the first step of the continual improvement process?',\n 'What are the natural barriers to entry?',\n 'Describe power-law distributions. Why are they difficult to work with?',\n 'What is a factor that would likely influence an organization’s strategy when using suppliers?',\n 'Give a brief description of a hashed page table design:',\n 'What is indirect tax?',\n 'What are some wired transmission media?',\n \"Give the pseudo-code for a semaphore's wait() operation, using busy-waiting:\",\n \"Explain how a page's dirty bit be used to enhancea reference-bit replacement algorithm (LRU):\",\n 'Pthreads define a ________, not an ________.',\n 'What 4 registers normally comprise an I/O port?',\n 'What is a circular buffer?',\n 'What are the advantages of the reducing balance method?',\n 'What is the formula for cost of goods sold?',\n 'What are sets of interrelated \\nactivities that transforms inputs into outputs with the goal of \\naccomplishing a specific objective?',\n 'What are examples of external economies of scale? (4)',\n 'These specific outcomes do what?Competitive advantageReduced negative impactIncreased productivityReduced costs',\n 'What is a Hyperlink?',\n 'What is the benefits management plan an input to?',\n 'Information about updates to an incident should include symptoms, the impact to the business, and configuration items affected is regarding what?',\n 'Failover',\n 'Where is the risk breakdown structure documented and what is it?',\n 'What is L2 regularization and how does it work?',\n 'Whose contracts should include how they measure, report, and improve?',\n 'What is a set of interconnected activities used to \\ndeliver a valuable product or service?',\n 'Serial ports and parallel ports are examples of ________.',\n 'What is represented by the vertices in a system resource-allocation graph?',\n 'Distinguish the difference in behavior of a lock that is in read-mode vs. write-mode:',\n 'Customer segmentation',\n 'Outlier',\n 'Privacy',\n 'Resource Histogram',\n 'Which data type do we use when we want to define numbers that do not have an exact representation?',\n 'Before you determine contingency reserves for risk, what do you need to do?',\n 'What activity is performed to consume resources and receive goods?',\n 'What is a page of memory?',\n 'Distinguish a symbolic address from a relocatable address:',\n 'When assessing risk, when is earned monetary value used?',\n 'What is the functionality offered by a product or service\\n to fulfill a particular need? It is essential for a service to \\nfacilitate its desired outcomes and create value.',\n 'The purpose of the _ practice is to systematically observe a service or service component, and record and report selected changes of state identified as events.',\n 'What is indicated by a semaphore value when it is positive? Zero? Negative?',\n \"What is one disadvantage of allocating a process page table that can represent every page in the process's logical address space?\",\n 'Social networking analysis (SNA)',\n 'What are disadvantages of retained profits (3)',\n 'Asking simple open-ended questions is what type of information source?',\n 'Collaboration does not mean _ in the guiding principle of collaborate and promote visibility.',\n 'This\\n guiding principle is concerned with promoting integration and \\ntransparency as opposed to making something as effective and useful as \\nis reasonable.',\n 'What are the different types of economy?',\n \"Describe the series of steps taken by the resource-request algorithm (used by the banker's algorithm) to determine whether or not a request is safe:\",\n 'What are the advantages of being a big business?',\n 'Machine generated data',\n 'What represents options or possibilities to add value for stakeholders or otherwise improve the organization?',\n 'Configuration \\ninformation is often stored and published in a single configuration \\nmanagement database (CMDB) for the entire organization. What is this function of service configuration management?',\n 'What is a Translator in Information Technology?']"
     },
     "execution_count": 30,
     "metadata": {},
     "output_type": "execute_result"
    }
   ],
   "source": [
    "list(test[\"questions\"])"
   ],
   "metadata": {
    "collapsed": false,
    "ExecuteTime": {
     "end_time": "2023-06-27T16:25:02.507367Z",
     "start_time": "2023-06-27T16:25:02.460220Z"
    }
   }
  },
  {
   "cell_type": "code",
   "execution_count": 25,
   "outputs": [
    {
     "data": {
      "text/plain": "['Social',\n 'An EEF  it can have an effect on resource availability, how projects are selected, approved, conducted, etc., as well as PM authority and budget controls',\n 'Biotech,pharmaceuticals andchemicals',\n '1. Create2. Read3. Write4. Reposition5. Delete6. Truncate7. Append8. Rename',\n 'Restricts the use of the software to one user at a time',\n 'Success prototypes and proofs of concept',\n 'Tool and Technique of control qualityTracks repetitive activities or results',\n 'Anonymous risk identification method',\n 'Identify new configuration itemsAdd the CIs to the CMSUpdate configuration dataVerify record accuracyAudit applicationsAudit infrastructure',\n 'how changes should be handledEmergency changes are not typically included in a change schedule, and the process for assessment and authorization is expedited to ensure it can be implemented quickly. This means that sometimes the change is implemented with less testing as a result of time constraints.',\n '* Social benefits* Tax exemptions for NPOs* Tax incentives for donors* Limited liability* Public recognition and trust',\n 'They are cooperatives that join and support eachother to process or market their products. Farmercooperatives are a common example of producercooperatives.',\n 'Singular not plural.',\n 'Experts in technology who use their knowledge to break into computer and computer networks either for profit or simply for the challenge',\n 'Any tangible or non tangle output produced by a businessed that is purchased by either commercial or private customers',\n 'Vectors and matrices.',\n 'The interface to an information system',\n 'Represent the north south measurement of position',\n 'The identification of a user based on a physical characteristic such as a fingerprint iris face voice or handwriting',\n 'A pointer to another file or directory on a file-system.']"
     },
     "execution_count": 25,
     "metadata": {},
     "output_type": "execute_result"
    }
   ],
   "source": [
    "list(test[\"context\"])[20:40]"
   ],
   "metadata": {
    "collapsed": false,
    "ExecuteTime": {
     "start_time": "2023-05-03T09:50:53.434269Z",
     "end_time": "2023-05-03T09:50:53.462872Z"
    }
   }
  },
  {
   "cell_type": "code",
   "execution_count": 27,
   "metadata": {
    "ExecuteTime": {
     "start_time": "2023-05-03T10:06:47.464834Z",
     "end_time": "2023-05-03T10:08:28.422756Z"
    }
   },
   "outputs": [
    {
     "data": {
      "text/plain": "Downloading pytorch_model.bin:   0%|          | 0.00/892M [00:00<?, ?B/s]",
      "application/vnd.jupyter.widget-view+json": {
       "version_major": 2,
       "version_minor": 0,
       "model_id": "f021e46f1cd841cd9cc2dcc19413b2ce"
      }
     },
     "metadata": {},
     "output_type": "display_data"
    }
   ],
   "source": [
    "hmodel = T5ForConditionalGeneration.from_pretrained(\"prnv13/t5_qg\")"
   ]
  },
  {
   "cell_type": "code",
   "execution_count": 28,
   "metadata": {
    "ExecuteTime": {
     "start_time": "2023-05-03T10:08:57.032577Z",
     "end_time": "2023-05-03T10:09:46.602691Z"
    }
   },
   "outputs": [],
   "source": [
    "predicted = []\n",
    "for c in test[\"context\"][1:100]:\n",
    "    predicted.append(run_model(hmodel,c))"
   ]
  },
  {
   "cell_type": "code",
   "execution_count": 29,
   "outputs": [],
   "source": [
    "flat_list = [item for sublist in predicted for subsublist in sublist for item in subsublist]"
   ],
   "metadata": {
    "collapsed": false,
    "ExecuteTime": {
     "start_time": "2023-05-03T10:09:46.607011Z",
     "end_time": "2023-05-03T10:09:46.609847Z"
    }
   }
  },
  {
   "cell_type": "code",
   "execution_count": 30,
   "outputs": [],
   "source": [
    "rouge = Rouge()\n",
    "scores = rouge.get_scores(flat_list, list(test[\"questions\"][1:100]))"
   ],
   "metadata": {
    "collapsed": false,
    "ExecuteTime": {
     "start_time": "2023-05-03T10:09:46.627283Z",
     "end_time": "2023-05-03T10:09:46.636433Z"
    }
   }
  },
  {
   "cell_type": "code",
   "execution_count": 31,
   "outputs": [],
   "source": [
    "all_rouge_1_f1_scores = [pair_scores['rouge-1']['f'] for pair_scores in scores]\n",
    "average_rouge_1_f1_score = sum(all_rouge_1_f1_scores) / len(all_rouge_1_f1_scores)"
   ],
   "metadata": {
    "collapsed": false,
    "ExecuteTime": {
     "start_time": "2023-05-03T10:09:46.634234Z",
     "end_time": "2023-05-03T10:09:46.636635Z"
    }
   }
  },
  {
   "cell_type": "code",
   "execution_count": 32,
   "outputs": [
    {
     "data": {
      "text/plain": "0.2640314452593166"
     },
     "execution_count": 32,
     "metadata": {},
     "output_type": "execute_result"
    }
   ],
   "source": [
    "average_rouge_1_f1_score"
   ],
   "metadata": {
    "collapsed": false,
    "ExecuteTime": {
     "start_time": "2023-05-03T10:09:46.638559Z",
     "end_time": "2023-05-03T10:09:46.667326Z"
    }
   }
  },
  {
   "cell_type": "code",
   "execution_count": 33,
   "outputs": [
    {
     "data": {
      "text/plain": "['What is an EEF?',\n 'Biotechnology,pharmaceuticals andchemicals',\n 'What are the steps of renaming a file?',\n 'What is a limitation of use?',\n 'What are successful prototypes and proofs of concept?',\n 'What is quality management?',\n 'What is a risk identification method?',\n 'What are the functions of a CMS?',\n 'What are the disadvantages of a change schedule?',\n 'What are the disadvantages of a NPO?',\n 'What are producercooperatives?',\n 'What is the difference between a syllable and a plural?',\n 'What are computer network engineers?',\n 'What is tangle output?',\n 'What are vectors and matrices?',\n 'What is a logical interface?',\n 'What is the North-South measurement of position?',\n 'What is fingerprint identification?',\n 'What is a pointer?',\n 'What is pure demand paging?']"
     },
     "execution_count": 33,
     "metadata": {},
     "output_type": "execute_result"
    }
   ],
   "source": [
    "flat_list[20:40]"
   ],
   "metadata": {
    "collapsed": false,
    "ExecuteTime": {
     "start_time": "2023-05-03T10:09:46.661364Z",
     "end_time": "2023-05-03T10:09:46.667715Z"
    }
   }
  },
  {
   "cell_type": "code",
   "execution_count": 34,
   "outputs": [
    {
     "data": {
      "text/plain": "['In the PESTLE model what does the letter “S” stand for?',\n 'What is Organizational Culture  Structure considered?',\n 'Name three industries where patents are very effective?',\n 'List 8 common operations on files:',\n 'Single user license',\n 'How do iterative life cycles improve the product or result?',\n 'Details of a control chart',\n 'What is the Delphi Technique?',\n 'List the service configuration processes:',\n 'Emergency changes may be implemented with less testing, is describing what?',\n 'What are advantages of charities? (5)',\n 'What are producer cooperatives?',\n 'How can we best name tables and views?',\n 'Hacker',\n 'What is a Product?',\n \"What abstract data types are required to implement the banker's algorithm?\",\n 'Graphical user interface GUI',\n 'Latitude',\n 'Biometrics',\n 'What is a file-system link?']"
     },
     "execution_count": 34,
     "metadata": {},
     "output_type": "execute_result"
    }
   ],
   "source": [
    "list(test[\"questions\"])[20:40]"
   ],
   "metadata": {
    "collapsed": false,
    "ExecuteTime": {
     "start_time": "2023-05-03T10:09:46.669611Z",
     "end_time": "2023-05-03T10:09:46.729139Z"
    }
   }
  },
  {
   "cell_type": "code",
   "execution_count": 35,
   "outputs": [
    {
     "data": {
      "text/plain": "['Social',\n 'An EEF  it can have an effect on resource availability, how projects are selected, approved, conducted, etc., as well as PM authority and budget controls',\n 'Biotech,pharmaceuticals andchemicals',\n '1. Create2. Read3. Write4. Reposition5. Delete6. Truncate7. Append8. Rename',\n 'Restricts the use of the software to one user at a time',\n 'Success prototypes and proofs of concept',\n 'Tool and Technique of control qualityTracks repetitive activities or results',\n 'Anonymous risk identification method',\n 'Identify new configuration itemsAdd the CIs to the CMSUpdate configuration dataVerify record accuracyAudit applicationsAudit infrastructure',\n 'how changes should be handledEmergency changes are not typically included in a change schedule, and the process for assessment and authorization is expedited to ensure it can be implemented quickly. This means that sometimes the change is implemented with less testing as a result of time constraints.',\n '* Social benefits* Tax exemptions for NPOs* Tax incentives for donors* Limited liability* Public recognition and trust',\n 'They are cooperatives that join and support eachother to process or market their products. Farmercooperatives are a common example of producercooperatives.',\n 'Singular not plural.',\n 'Experts in technology who use their knowledge to break into computer and computer networks either for profit or simply for the challenge',\n 'Any tangible or non tangle output produced by a businessed that is purchased by either commercial or private customers',\n 'Vectors and matrices.',\n 'The interface to an information system',\n 'Represent the north south measurement of position',\n 'The identification of a user based on a physical characteristic such as a fingerprint iris face voice or handwriting',\n 'A pointer to another file or directory on a file-system.']"
     },
     "execution_count": 35,
     "metadata": {},
     "output_type": "execute_result"
    }
   ],
   "source": [
    "list(test[\"context\"])[20:40]"
   ],
   "metadata": {
    "collapsed": false,
    "ExecuteTime": {
     "start_time": "2023-05-03T10:09:46.690434Z",
     "end_time": "2023-05-03T10:09:46.743445Z"
    }
   }
  },
  {
   "cell_type": "code",
   "execution_count": null,
   "outputs": [],
   "source": [],
   "metadata": {
    "collapsed": false
   }
  }
 ],
 "metadata": {
  "kernelspec": {
   "display_name": "Python 3 (ipykernel)",
   "language": "python",
   "name": "python3"
  },
  "language_info": {
   "codemirror_mode": {
    "name": "ipython",
    "version": 3
   },
   "file_extension": ".py",
   "mimetype": "text/x-python",
   "name": "python",
   "nbconvert_exporter": "python",
   "pygments_lexer": "ipython3",
   "version": "3.9.7"
  }
 },
 "nbformat": 4,
 "nbformat_minor": 4
}
