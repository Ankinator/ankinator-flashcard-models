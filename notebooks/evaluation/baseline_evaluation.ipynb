{
 "cells": [
  {
   "cell_type": "markdown",
   "source": [
    "# Evaluation of the baseline\n",
    "\n",
    "Here's the evaluation of the baseline that uses the randomly generated questions based on the title of a slide and evaluates bases on the self-labeled data set."
   ],
   "metadata": {
    "collapsed": false
   }
  },
  {
   "cell_type": "code",
   "execution_count": 1,
   "outputs": [
    {
     "name": "stderr",
     "output_type": "stream",
     "text": [
      "[nltk_data] Downloading package wordnet to /Users/I516258/nltk_data...\n",
      "[nltk_data]   Package wordnet is already up-to-date!\n"
     ]
    },
    {
     "data": {
      "text/plain": "True"
     },
     "execution_count": 1,
     "metadata": {},
     "output_type": "execute_result"
    }
   ],
   "source": [
    "import pandas as pd\n",
    "import matplotlib.pyplot as plt\n",
    "from src.evaluation.eval_main import Metrics\n",
    "from sklearn.model_selection import train_test_split\n",
    "import nltk\n",
    "import math\n",
    "\n",
    "nltk.download('wordnet')"
   ],
   "metadata": {
    "collapsed": false
   }
  },
  {
   "cell_type": "code",
   "execution_count": null,
   "outputs": [],
   "source": [
    "df = pd.read_csv(\"./../../datasets/baseline.csv\")\n",
    "\n",
    "df_train_val, df_test = train_test_split(df, test_size=0.2, random_state=42)\n",
    "\n",
    "df_test = df_test.reset_index(drop=True)\n",
    "\n",
    "display(df_test)"
   ],
   "metadata": {
    "collapsed": false,
    "pycharm": {
     "is_executing": true
    }
   }
  },
  {
   "cell_type": "code",
   "execution_count": null,
   "outputs": [],
   "source": [
    "# create the references and baseline questions\n",
    "refs = []\n",
    "baseline_questions = []\n",
    "for i, row in df_test.iterrows():\n",
    "    refs.append((i, [row['Question 1'], '' if pd.isna(row['Question 2']) else row['Question 2'], '' if pd.isna(row['Question 3']) else row['Question 3']]))\n",
    "    baseline_questions.append((i, [row[\"Baseline Question\"]]))\n",
    "\n",
    "print(refs)\n",
    "print(baseline_questions)"
   ],
   "metadata": {
    "collapsed": false,
    "pycharm": {
     "is_executing": true
    }
   }
  },
  {
   "cell_type": "code",
   "execution_count": 6,
   "outputs": [
    {
     "name": "stdout",
     "output_type": "stream",
     "text": [
      "huggingface/tokenizers: The current process just got forked, after parallelism has already been used. Disabling parallelism to avoid deadlocks...\n",
      "To disable this warning, you can either:\n",
      "\t- Avoid using `tokenizers` before the fork if possible\n",
      "\t- Explicitly set the environment variable TOKENIZERS_PARALLELISM=(true | false)\n",
      "huggingface/tokenizers: The current process just got forked, after parallelism has already been used. Disabling parallelism to avoid deadlocks...\n",
      "To disable this warning, you can either:\n",
      "\t- Avoid using `tokenizers` before the fork if possible\n",
      "\t- Explicitly set the environment variable TOKENIZERS_PARALLELISM=(true | false)\n",
      "huggingface/tokenizers: The current process just got forked, after parallelism has already been used. Disabling parallelism to avoid deadlocks...\n",
      "To disable this warning, you can either:\n",
      "\t- Avoid using `tokenizers` before the fork if possible\n",
      "\t- Explicitly set the environment variable TOKENIZERS_PARALLELISM=(true | false)\n",
      "huggingface/tokenizers: The current process just got forked, after parallelism has already been used. Disabling parallelism to avoid deadlocks...\n",
      "To disable this warning, you can either:\n",
      "\t- Avoid using `tokenizers` before the fork if possible\n",
      "\t- Explicitly set the environment variable TOKENIZERS_PARALLELISM=(true | false)\n"
     ]
    },
    {
     "name": "stderr",
     "output_type": "stream",
     "text": [
      "[nltk_data] Downloading package stopwords to\n",
      "[nltk_data]     /Users/I516258/nltk_data...\n",
      "[nltk_data]   Package stopwords is already up-to-date!\n"
     ]
    },
    {
     "data": {
      "text/plain": "          GRAMMAR  TYPOGRAPHY  CASING  TYPOS  PUNCTUATION  rouge1_fmeasure  \\\nBaseline        7           5       5      1            1         0.399007   \n\n          rouge1_precision  rouge1_recall  rouge2_fmeasure  rouge2_precision  \\\nBaseline           0.42649       0.404978         0.200296          0.209586   \n\n          ...  min_r    avg_f1  max_f1  min_f1  avg_cos_sim  max_cos_sim  \\\nBaseline  ...    0.0  0.494884     1.0     0.0     0.682828          1.0   \n\n          min_cos_sim  avg_sem_meteor  max_sem_meteor  min_sem_meteor  \nBaseline     0.031509        0.385696        0.997685             0.0  \n\n[1 rows x 32 columns]",
      "text/html": "<div>\n<style scoped>\n    .dataframe tbody tr th:only-of-type {\n        vertical-align: middle;\n    }\n\n    .dataframe tbody tr th {\n        vertical-align: top;\n    }\n\n    .dataframe thead th {\n        text-align: right;\n    }\n</style>\n<table border=\"1\" class=\"dataframe\">\n  <thead>\n    <tr style=\"text-align: right;\">\n      <th></th>\n      <th>GRAMMAR</th>\n      <th>TYPOGRAPHY</th>\n      <th>CASING</th>\n      <th>TYPOS</th>\n      <th>PUNCTUATION</th>\n      <th>rouge1_fmeasure</th>\n      <th>rouge1_precision</th>\n      <th>rouge1_recall</th>\n      <th>rouge2_fmeasure</th>\n      <th>rouge2_precision</th>\n      <th>...</th>\n      <th>min_r</th>\n      <th>avg_f1</th>\n      <th>max_f1</th>\n      <th>min_f1</th>\n      <th>avg_cos_sim</th>\n      <th>max_cos_sim</th>\n      <th>min_cos_sim</th>\n      <th>avg_sem_meteor</th>\n      <th>max_sem_meteor</th>\n      <th>min_sem_meteor</th>\n    </tr>\n  </thead>\n  <tbody>\n    <tr>\n      <th>Baseline</th>\n      <td>7</td>\n      <td>5</td>\n      <td>5</td>\n      <td>1</td>\n      <td>1</td>\n      <td>0.399007</td>\n      <td>0.42649</td>\n      <td>0.404978</td>\n      <td>0.200296</td>\n      <td>0.209586</td>\n      <td>...</td>\n      <td>0.0</td>\n      <td>0.494884</td>\n      <td>1.0</td>\n      <td>0.0</td>\n      <td>0.682828</td>\n      <td>1.0</td>\n      <td>0.031509</td>\n      <td>0.385696</td>\n      <td>0.997685</td>\n      <td>0.0</td>\n    </tr>\n  </tbody>\n</table>\n<p>1 rows × 32 columns</p>\n</div>"
     },
     "execution_count": 6,
     "metadata": {},
     "output_type": "execute_result"
    }
   ],
   "source": [
    "metrics = Metrics(save_to_file=True)\n",
    "\n",
    "result = pd.DataFrame(\n",
    "    metrics.evaluate(model_output=baseline_questions, references=refs),\n",
    "    index=[\"Baseline\"]\n",
    ")\n",
    "result"
   ],
   "metadata": {
    "collapsed": false
   }
  }
 ],
 "metadata": {
  "kernelspec": {
   "display_name": "Python 3",
   "language": "python",
   "name": "python3"
  },
  "language_info": {
   "codemirror_mode": {
    "name": "ipython",
    "version": 2
   },
   "file_extension": ".py",
   "mimetype": "text/x-python",
   "name": "python",
   "nbconvert_exporter": "python",
   "pygments_lexer": "ipython2",
   "version": "2.7.6"
  }
 },
 "nbformat": 4,
 "nbformat_minor": 0
}
