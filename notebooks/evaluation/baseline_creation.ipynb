{
 "cells": [
  {
   "cell_type": "markdown",
   "source": [
    "# baseline creation\n",
    "This notebook is intended to create a baseline for the self-labeled dataset."
   ],
   "metadata": {
    "collapsed": false
   }
  },
  {
   "cell_type": "code",
   "execution_count": 1,
   "outputs": [],
   "source": [
    "import pandas as pd\n",
    "import random"
   ],
   "metadata": {
    "collapsed": false
   }
  },
  {
   "cell_type": "code",
   "execution_count": 2,
   "outputs": [
    {
     "name": "stdout",
     "output_type": "stream",
     "text": [
      "                                      PDF-Name                       Topic  \\\n",
      "0                             ase_combined.pdf  Agile Software Engineering   \n",
      "1                             ase_combined.pdf  Agile Software Engineering   \n",
      "2                             ase_combined.pdf  Agile Software Engineering   \n",
      "3                             ase_combined.pdf  Agile Software Engineering   \n",
      "4                             ase_combined.pdf  Agile Software Engineering   \n",
      "...                                        ...                         ...   \n",
      "5734  it-security-all-slides_no_duplicates.pdf                 IT-Security   \n",
      "5735  it-security-all-slides_no_duplicates.pdf                 IT-Security   \n",
      "5736  it-security-all-slides_no_duplicates.pdf                 IT-Security   \n",
      "5737  it-security-all-slides_no_duplicates.pdf                 IT-Security   \n",
      "5738  it-security-all-slides_no_duplicates.pdf                 IT-Security   \n",
      "\n",
      "      Page Number Marked for processing Includes Image Data Includes formula  \\\n",
      "0               1                    No                 NaN              NaN   \n",
      "1               2                    No                 NaN              NaN   \n",
      "2               3                    No                 NaN              NaN   \n",
      "3               4                    No                 NaN              NaN   \n",
      "4               5                    No                  No               No   \n",
      "...           ...                   ...                 ...              ...   \n",
      "5734          592                   Yes                 Yes               No   \n",
      "5735          593                   Yes                 Yes              Yes   \n",
      "5736          594                   Yes                 Yes              Yes   \n",
      "5737          595                   Yes                 Yes              Yes   \n",
      "5738          596                   Yes                 Yes               No   \n",
      "\n",
      "                                             Question 1 Question 2 Question 3  \\\n",
      "0                                                   NaN        NaN        NaN   \n",
      "1                                                   NaN        NaN        NaN   \n",
      "2                                                   NaN        NaN        NaN   \n",
      "3                                                   NaN        NaN        NaN   \n",
      "4                                                   NaN        NaN        NaN   \n",
      "...                                                 ...        ...        ...   \n",
      "5734     What is the intuition of Differential Privacy?        NaN        NaN   \n",
      "5735    What is the definition of Differential Privacy?        NaN        NaN   \n",
      "5736   What is the parameter 𝜖 and the composition t...        NaN        NaN   \n",
      "5737   What is the Privacy Budget? What are challenges?        NaN        NaN   \n",
      "5738     How to make Algorithms Differentially Private?        NaN        NaN   \n",
      "\n",
      "                                     Title of the slide Type of Question  \\\n",
      "0                                                   NaN              NaN   \n",
      "1                                                   NaN              NaN   \n",
      "2                                                   NaN              NaN   \n",
      "3                                                   NaN              NaN   \n",
      "4                             Cost of Software Failures              NaN   \n",
      "...                                                 ...              ...   \n",
      "5734                     Differential Privacy Intuition              NaN   \n",
      "5735  Differential Privacy Definition (Simplified Ve...              NaN   \n",
      "5736                                 On the Parameter 𝜺              NaN   \n",
      "5737                                     Privacy Budget              NaN   \n",
      "5738           Making Algorithms Differentially Private              NaN   \n",
      "\n",
      "     Comment  \n",
      "0        NaN  \n",
      "1        NaN  \n",
      "2        NaN  \n",
      "3        NaN  \n",
      "4        NaN  \n",
      "...      ...  \n",
      "5734     NaN  \n",
      "5735     NaN  \n",
      "5736     NaN  \n",
      "5737     NaN  \n",
      "5738     NaN  \n",
      "\n",
      "[5739 rows x 12 columns]\n"
     ]
    }
   ],
   "source": [
    "# load data set\n",
    "\n",
    "df = pd.read_csv('./../../datasets/baseline_creation.csv', delimiter = \";\")\n",
    "\n",
    "print(df)"
   ],
   "metadata": {
    "collapsed": false
   }
  },
  {
   "cell_type": "code",
   "execution_count": 4,
   "outputs": [
    {
     "name": "stdout",
     "output_type": "stream",
     "text": [
      "                                      PDF-Name                       Topic  \\\n",
      "5                             ase_combined.pdf  Agile Software Engineering   \n",
      "6                             ase_combined.pdf  Agile Software Engineering   \n",
      "7                             ase_combined.pdf  Agile Software Engineering   \n",
      "8                             ase_combined.pdf  Agile Software Engineering   \n",
      "9                             ase_combined.pdf  Agile Software Engineering   \n",
      "...                                        ...                         ...   \n",
      "5734  it-security-all-slides_no_duplicates.pdf                 IT-Security   \n",
      "5735  it-security-all-slides_no_duplicates.pdf                 IT-Security   \n",
      "5736  it-security-all-slides_no_duplicates.pdf                 IT-Security   \n",
      "5737  it-security-all-slides_no_duplicates.pdf                 IT-Security   \n",
      "5738  it-security-all-slides_no_duplicates.pdf                 IT-Security   \n",
      "\n",
      "      Page Number Marked for processing Includes Image Data Includes formula  \\\n",
      "5               6                   Yes                  No               No   \n",
      "6               7                   Yes                  No               No   \n",
      "7               8                   Yes                 Yes               No   \n",
      "8               9                   Yes                 Yes               No   \n",
      "9              10                   Yes                 Yes               No   \n",
      "...           ...                   ...                 ...              ...   \n",
      "5734          592                   Yes                 Yes               No   \n",
      "5735          593                   Yes                 Yes              Yes   \n",
      "5736          594                   Yes                 Yes              Yes   \n",
      "5737          595                   Yes                 Yes              Yes   \n",
      "5738          596                   Yes                 Yes               No   \n",
      "\n",
      "                                             Question 1  \\\n",
      "5     What is the definition of Verification and Val...   \n",
      "6     What are the goals of verification and validat...   \n",
      "7               What is static and what is dynamic V&V?   \n",
      "8     How the relative cost of fixing defects behave...   \n",
      "9                     What is model-driven development?   \n",
      "...                                                 ...   \n",
      "5734     What is the intuition of Differential Privacy?   \n",
      "5735    What is the definition of Differential Privacy?   \n",
      "5736   What is the parameter 𝜖 and the composition t...   \n",
      "5737   What is the Privacy Budget? What are challenges?   \n",
      "5738     How to make Algorithms Differentially Private?   \n",
      "\n",
      "                                             Question 2 Question 3  \\\n",
      "5     What are the objectives of Verification and Va...        NaN   \n",
      "6      On what does verification and validation depend?        NaN   \n",
      "7     How does static V&V differentiate from dynamic...        NaN   \n",
      "8                                                   NaN        NaN   \n",
      "9                                                   NaN        NaN   \n",
      "...                                                 ...        ...   \n",
      "5734                                                NaN        NaN   \n",
      "5735                                                NaN        NaN   \n",
      "5736                                                NaN        NaN   \n",
      "5737                                                NaN        NaN   \n",
      "5738                                                NaN        NaN   \n",
      "\n",
      "                                     Title of the slide    Type of Question  \\\n",
      "5                     Verification and Validation (V&V)  Knowledge Question   \n",
      "6                                             V&V Goals  Knowledge Question   \n",
      "7                             Static versus Dynamic V&V  Knowledge Question   \n",
      "8                       Relative Cost of Fixing Defects  Knowledge Question   \n",
      "9                              Model-Driven Development  Knowledge Question   \n",
      "...                                                 ...                 ...   \n",
      "5734                     Differential Privacy Intuition                 NaN   \n",
      "5735  Differential Privacy Definition (Simplified Ve...                 NaN   \n",
      "5736                                 On the Parameter 𝜺                 NaN   \n",
      "5737                                     Privacy Budget                 NaN   \n",
      "5738           Making Algorithms Differentially Private                 NaN   \n",
      "\n",
      "     Comment  \n",
      "5        NaN  \n",
      "6        NaN  \n",
      "7        NaN  \n",
      "8        NaN  \n",
      "9        NaN  \n",
      "...      ...  \n",
      "5734     NaN  \n",
      "5735     NaN  \n",
      "5736     NaN  \n",
      "5737     NaN  \n",
      "5738     NaN  \n",
      "\n",
      "[2181 rows x 12 columns]\n"
     ]
    }
   ],
   "source": [
    "# Boolean indexing to filter out specific values from 'feature_column'\n",
    "filtered_df = df[(df['Marked for processing'] != 'No') & (~df['Marked for processing'].isna())]\n",
    "\n",
    "\n",
    "# Display the filtered DataFrame\n",
    "print(filtered_df)"
   ],
   "metadata": {
    "collapsed": false
   }
  },
  {
   "cell_type": "code",
   "execution_count": 5,
   "outputs": [],
   "source": [
    "# create set of possible question types\n",
    "\n",
    "question_types = [\"What are {}?\", \"What is {}?\", \"How is the definition of {}?\", \"How does {} work?\", \"How is {} defined?\", \"What is the idea of {}?\", \"What do you know about {}?\"]"
   ],
   "metadata": {
    "collapsed": false
   }
  },
  {
   "cell_type": "code",
   "execution_count": 6,
   "outputs": [],
   "source": [
    "def create_baseline_question(array_of_strings, dataframe, loop_column_name):\n",
    "    \"\"\"\n",
    "    Function to add the baseline question based on the title of the slide.\n",
    "\n",
    "    Parameters:\n",
    "        - array_of_strings (list): A list of strings containing placeholders.\n",
    "        - dataframe (pd.DataFrame): The DataFrame to which the placeholder column will be added.\n",
    "        - loop_column_name (str): The name of the column in the DataFrame used for the loop.\n",
    "\n",
    "    Returns:\n",
    "        - pd.DataFrame: The DataFrame with an additional Baseline Question column.\n",
    "    \"\"\"\n",
    "    # Create an empty list to store the values for the baseline questions\n",
    "    baseline_questions = []\n",
    "\n",
    "    # Iterate through each row of the DataFrame\n",
    "    for index, row in dataframe.iterrows():\n",
    "        # Select a random placeholder string from the array\n",
    "        random_placeholder = random.choice(array_of_strings)\n",
    "\n",
    "        # Get the current value of the loop_column_name for this row\n",
    "        loop_value = row[loop_column_name]\n",
    "\n",
    "        # Combine the random placeholder string with the loop_value\n",
    "        placeholder_value = random_placeholder.format(loop_value)\n",
    "\n",
    "        # Append the placeholder_value to the list\n",
    "        baseline_questions.append(placeholder_value)\n",
    "\n",
    "    # Add the new placeholder column to the DataFrame\n",
    "    dataframe['Baseline Question'] = baseline_questions\n",
    "\n",
    "    return dataframe"
   ],
   "metadata": {
    "collapsed": false
   }
  },
  {
   "cell_type": "code",
   "execution_count": 7,
   "outputs": [
    {
     "name": "stdout",
     "output_type": "stream",
     "text": [
      "                                      PDF-Name                       Topic  \\\n",
      "5                             ase_combined.pdf  Agile Software Engineering   \n",
      "6                             ase_combined.pdf  Agile Software Engineering   \n",
      "7                             ase_combined.pdf  Agile Software Engineering   \n",
      "8                             ase_combined.pdf  Agile Software Engineering   \n",
      "9                             ase_combined.pdf  Agile Software Engineering   \n",
      "...                                        ...                         ...   \n",
      "5734  it-security-all-slides_no_duplicates.pdf                 IT-Security   \n",
      "5735  it-security-all-slides_no_duplicates.pdf                 IT-Security   \n",
      "5736  it-security-all-slides_no_duplicates.pdf                 IT-Security   \n",
      "5737  it-security-all-slides_no_duplicates.pdf                 IT-Security   \n",
      "5738  it-security-all-slides_no_duplicates.pdf                 IT-Security   \n",
      "\n",
      "      Page Number Marked for processing Includes Image Data Includes formula  \\\n",
      "5               6                   Yes                  No               No   \n",
      "6               7                   Yes                  No               No   \n",
      "7               8                   Yes                 Yes               No   \n",
      "8               9                   Yes                 Yes               No   \n",
      "9              10                   Yes                 Yes               No   \n",
      "...           ...                   ...                 ...              ...   \n",
      "5734          592                   Yes                 Yes               No   \n",
      "5735          593                   Yes                 Yes              Yes   \n",
      "5736          594                   Yes                 Yes              Yes   \n",
      "5737          595                   Yes                 Yes              Yes   \n",
      "5738          596                   Yes                 Yes               No   \n",
      "\n",
      "                                             Question 1  \\\n",
      "5     What is the definition of Verification and Val...   \n",
      "6     What are the goals of verification and validat...   \n",
      "7               What is static and what is dynamic V&V?   \n",
      "8     How the relative cost of fixing defects behave...   \n",
      "9                     What is model-driven development?   \n",
      "...                                                 ...   \n",
      "5734     What is the intuition of Differential Privacy?   \n",
      "5735    What is the definition of Differential Privacy?   \n",
      "5736   What is the parameter 𝜖 and the composition t...   \n",
      "5737   What is the Privacy Budget? What are challenges?   \n",
      "5738     How to make Algorithms Differentially Private?   \n",
      "\n",
      "                                             Question 2 Question 3  \\\n",
      "5     What are the objectives of Verification and Va...        NaN   \n",
      "6      On what does verification and validation depend?        NaN   \n",
      "7     How does static V&V differentiate from dynamic...        NaN   \n",
      "8                                                   NaN        NaN   \n",
      "9                                                   NaN        NaN   \n",
      "...                                                 ...        ...   \n",
      "5734                                                NaN        NaN   \n",
      "5735                                                NaN        NaN   \n",
      "5736                                                NaN        NaN   \n",
      "5737                                                NaN        NaN   \n",
      "5738                                                NaN        NaN   \n",
      "\n",
      "                                     Title of the slide    Type of Question  \\\n",
      "5                     Verification and Validation (V&V)  Knowledge Question   \n",
      "6                                             V&V Goals  Knowledge Question   \n",
      "7                             Static versus Dynamic V&V  Knowledge Question   \n",
      "8                       Relative Cost of Fixing Defects  Knowledge Question   \n",
      "9                              Model-Driven Development  Knowledge Question   \n",
      "...                                                 ...                 ...   \n",
      "5734                     Differential Privacy Intuition                 NaN   \n",
      "5735  Differential Privacy Definition (Simplified Ve...                 NaN   \n",
      "5736                                 On the Parameter 𝜺                 NaN   \n",
      "5737                                     Privacy Budget                 NaN   \n",
      "5738           Making Algorithms Differentially Private                 NaN   \n",
      "\n",
      "     Comment                                  Baseline Question  \n",
      "5        NaN  What is the idea of Verification and Validatio...  \n",
      "6        NaN                  What do you know about V&V Goals?  \n",
      "7        NaN  How is the definition of Static versus Dynamic...  \n",
      "8        NaN  How is the definition of Relative Cost of Fixi...  \n",
      "9        NaN           How is Model-Driven Development defined?  \n",
      "...      ...                                                ...  \n",
      "5734     NaN  What do you know about Differential Privacy In...  \n",
      "5735     NaN  How is Differential Privacy Definition (Simpli...  \n",
      "5736     NaN         What do you know about On the Parameter 𝜺?  \n",
      "5737     NaN                     How is Privacy Budget defined?  \n",
      "5738     NaN  How is Making Algorithms Differentially Privat...  \n",
      "\n",
      "[2181 rows x 13 columns]\n"
     ]
    },
    {
     "name": "stderr",
     "output_type": "stream",
     "text": [
      "/var/folders/96/q1m76wjs68d10zrlcykfyhth0000gn/T/ipykernel_45725/4251037929.py:31: SettingWithCopyWarning: \n",
      "A value is trying to be set on a copy of a slice from a DataFrame.\n",
      "Try using .loc[row_indexer,col_indexer] = value instead\n",
      "\n",
      "See the caveats in the documentation: https://pandas.pydata.org/pandas-docs/stable/user_guide/indexing.html#returning-a-view-versus-a-copy\n",
      "  dataframe['Baseline Question'] = baseline_questions\n"
     ]
    }
   ],
   "source": [
    "df_baseline = create_baseline_question(question_types, filtered_df, \"Title of the slide\")\n",
    "\n",
    "print(df_baseline)"
   ],
   "metadata": {
    "collapsed": false
   }
  },
  {
   "cell_type": "code",
   "execution_count": 8,
   "outputs": [],
   "source": [
    "# store the dataframe to a csv file\n",
    "df_baseline.to_csv(\"./../../datasets/baseline.csv\", index=False)"
   ],
   "metadata": {
    "collapsed": false
   }
  }
 ],
 "metadata": {
  "kernelspec": {
   "display_name": "Python 3",
   "language": "python",
   "name": "python3"
  },
  "language_info": {
   "codemirror_mode": {
    "name": "ipython",
    "version": 2
   },
   "file_extension": ".py",
   "mimetype": "text/x-python",
   "name": "python",
   "nbconvert_exporter": "python",
   "pygments_lexer": "ipython2",
   "version": "2.7.6"
  }
 },
 "nbformat": 4,
 "nbformat_minor": 0
}
