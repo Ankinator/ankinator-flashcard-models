{
 "cells": [
  {
   "cell_type": "markdown",
   "source": [
    "# baseline creation\n",
    "This notebook is intended to create a baseline for the self-labeled dataset."
   ],
   "metadata": {
    "collapsed": false
   }
  },
  {
   "cell_type": "code",
   "execution_count": 2,
   "outputs": [],
   "source": [
    "import pandas as pd\n",
    "import random\n",
    "from IPython.display import display"
   ],
   "metadata": {
    "collapsed": false
   }
  },
  {
   "cell_type": "code",
   "execution_count": 3,
   "outputs": [],
   "source": [
    "pd.set_option('display.max_rows', None)\n",
    "pd.set_option('display.max_columns', None)"
   ],
   "metadata": {
    "collapsed": false
   }
  },
  {
   "cell_type": "code",
   "execution_count": null,
   "outputs": [],
   "source": [
    "# load data set\n",
    "df = pd.read_csv('./../../datasets/baseline_creation.csv', delimiter = \";\")\n",
    "\n",
    "display(df)"
   ],
   "metadata": {
    "collapsed": false,
    "pycharm": {
     "is_executing": true
    }
   }
  },
  {
   "cell_type": "code",
   "execution_count": null,
   "outputs": [],
   "source": [
    "# Boolean indexing to filter out specific values from 'feature_column'\n",
    "filtered_df = df[(df['Marked for processing'] != 'No') & (~df['Marked for processing'].isna())]\n",
    "\n",
    "\n",
    "# Display the filtered DataFrame\n",
    "display(filtered_df)"
   ],
   "metadata": {
    "collapsed": false,
    "pycharm": {
     "is_executing": true
    }
   }
  },
  {
   "cell_type": "code",
   "execution_count": 6,
   "outputs": [],
   "source": [
    "# create set of possible question types\n",
    "\n",
    "question_types = [\"What are {}?\", \"What is {}?\", \"How is the definition of {}?\", \"How does {} work?\", \"How is {} defined?\", \"What is the idea of {}?\", \"What do you know about {}?\"]"
   ],
   "metadata": {
    "collapsed": false
   }
  },
  {
   "cell_type": "code",
   "execution_count": 7,
   "outputs": [],
   "source": [
    "def create_baseline_question(array_of_strings, dataframe, loop_column_name):\n",
    "    \"\"\"\n",
    "    Function to add the baseline question based on the title of the slide.\n",
    "\n",
    "    Parameters:\n",
    "        - array_of_strings (list): A list of strings containing placeholders.\n",
    "        - dataframe (pd.DataFrame): The DataFrame to which the placeholder column will be added.\n",
    "        - loop_column_name (str): The name of the column in the DataFrame used for the loop.\n",
    "\n",
    "    Returns:\n",
    "        - pd.DataFrame: The DataFrame with an additional Baseline Question column.\n",
    "    \"\"\"\n",
    "    # Create an empty list to store the values for the baseline questions\n",
    "    baseline_questions = []\n",
    "\n",
    "    # Iterate through each row of the DataFrame\n",
    "    for index, row in dataframe.iterrows():\n",
    "        # Select a random placeholder string from the array\n",
    "        random_placeholder = random.choice(array_of_strings)\n",
    "\n",
    "        # Get the current value of the loop_column_name for this row\n",
    "        loop_value = row[loop_column_name]\n",
    "\n",
    "        # Combine the random placeholder string with the loop_value\n",
    "        placeholder_value = random_placeholder.format(loop_value)\n",
    "\n",
    "        # Append the placeholder_value to the list\n",
    "        baseline_questions.append(placeholder_value)\n",
    "\n",
    "    # Add the new placeholder column to the DataFrame\n",
    "    dataframe['Baseline Question'] = baseline_questions\n",
    "\n",
    "    return dataframe"
   ],
   "metadata": {
    "collapsed": false
   }
  },
  {
   "cell_type": "code",
   "execution_count": null,
   "outputs": [],
   "source": [
    "df_baseline = create_baseline_question(question_types, filtered_df, \"Title of the slide\")\n",
    "\n",
    "display(df_baseline)"
   ],
   "metadata": {
    "collapsed": false,
    "pycharm": {
     "is_executing": true
    }
   }
  },
  {
   "cell_type": "code",
   "execution_count": 9,
   "outputs": [],
   "source": [
    "# store the dataframe to a csv file\n",
    "df_baseline.to_csv(\"./../../datasets/baseline.csv\", index=False)"
   ],
   "metadata": {
    "collapsed": false
   }
  }
 ],
 "metadata": {
  "kernelspec": {
   "display_name": "Python 3",
   "language": "python",
   "name": "python3"
  },
  "language_info": {
   "codemirror_mode": {
    "name": "ipython",
    "version": 2
   },
   "file_extension": ".py",
   "mimetype": "text/x-python",
   "name": "python",
   "nbconvert_exporter": "python",
   "pygments_lexer": "ipython2",
   "version": "2.7.6"
  }
 },
 "nbformat": 4,
 "nbformat_minor": 0
}
