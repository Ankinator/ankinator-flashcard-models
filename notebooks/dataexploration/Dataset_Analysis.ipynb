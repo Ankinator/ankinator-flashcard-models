{
 "cells": [
  {
   "cell_type": "code",
   "execution_count": 1,
   "metadata": {
    "collapsed": true,
    "pycharm": {
     "name": "#%%\n"
    }
   },
   "outputs": [
    {
     "name": "stdout",
     "output_type": "stream",
     "text": [
      "/Users/I516998/Documents/uni - mannheim/ankinator/ankinator-flashcard-models\n"
     ]
    }
   ],
   "source": [
    "import re\n",
    "import sys\n",
    "sys.path.append(\"../../\")\n",
    "%cd ../../"
   ]
  },
  {
   "cell_type": "markdown",
   "source": [
    "# Dataset Analysis of the current Data we collected"
   ],
   "metadata": {
    "collapsed": false,
    "pycharm": {
     "name": "#%% md\n"
    }
   }
  },
  {
   "cell_type": "code",
   "execution_count": 22,
   "outputs": [],
   "source": [
    "from ankipandas import Collection\n",
    "import matplotlib.pyplot as plt\n",
    "import regex as re\n",
    "import pandas as dp"
   ],
   "metadata": {
    "collapsed": false,
    "pycharm": {
     "name": "#%%\n"
    }
   }
  },
  {
   "cell_type": "code",
   "execution_count": 3,
   "outputs": [
    {
     "name": "stderr",
     "output_type": "stream",
     "text": [
      "\u001B[32mINFO: Searching for database. This might take some time. You can speed this up by specifying a search path or directly entering the path to your database.\u001B[0m\n",
      "\u001B[33mWARNING: The search will stop at the first hit, so please verify that the result is correct (for example in case there might be more than one Anki installation)\u001B[0m\n"
     ]
    },
    {
     "name": "stdout",
     "output_type": "stream",
     "text": [
      "We currently have  75 Decks in the Dataset, with a total of  1740 flashcards\n"
     ]
    },
    {
     "data": {
      "text/plain": "array(['PLUs O&G A', 'PLUs O&G B', 'PLUs O&G C', 'PLUs O&G E-G',\n       'PLUs O&G U-Z', 'PLUs O&G H-K', 'PLUs O&G L-P', 'PLUs O&G Q-T',\n       'PLUs Backwaren A-D', 'PLUs Backwaren I-P', 'PLUs Backwaren Q-T',\n       'PLUs Backwaren E-H', 'PLUs Backwaren U-Z', 'Formeln I&F',\n       'FiBu Buchungssätze', 'Personal', 'Standortanalyse', 'VWL Makro',\n       'Orga und PM', 'Default', 'DB II', 'IT-Sicherheit', 'Arbeitsrecht',\n       'Handelsrecht', 'Handelsgeschäfte', 'Gesellschaftsrecht',\n       'Beendigung AV und Kündigung', 'Kundenzufriedenheit',\n       'Preismanagement', 'Infosysteme', 'Komm. Pol.',\n       'Key Account Management', 'Revision & Corporate Governance',\n       'Vertriebsmanagement', 'LSDM', 'CS 500 ASE\\x1f02_Testing',\n       'MAN 645 L&M\\x1f01_Introduction', 'Information Retrieval',\n       'MAN 645 L&M\\x1f02_Trait approach',\n       'MAN 645 L&M\\x1f03_Skills approach',\n       'CS 500 ASE\\x1f03_Graph Coverage',\n       'MAN 645 L&M\\x1f04_Behavioral approach',\n       'MAN 645 L&M\\x1f05_Situational approach',\n       'MAN 645 L&M\\x1f06_Work motivation',\n       'MAN 645 L&M\\x1f07_Path-goal theory', 'MAN 645 L&M\\x1f08_LMX',\n       'MAN 645 L&M\\x1f09_Goal-setting theory',\n       'MAN 645 L&M\\x1f10_Self-determination theory',\n       'MAN 645 L&M\\x1f11_Transformational leadership',\n       'MAN 645 L&M\\x1f12. Positive Leadership',\n       'MAN 645 L&M\\x1f13_Gender', 'MAN 645 L&M\\x1f14_Culture',\n       'Advanced SE', 'CS 500 ASE\\x1f04_Logic Coverage',\n       'CS 500 ASE\\x1f05_Input Coverage',\n       'CS 500 ASE\\x1f06_Syntactic Coverage',\n       'CS 500 ASE\\x1f08_KobrA Specifications',\n       'CS 500 ASE\\x1f09_Specification-based Testing',\n       'IE 560 Decision Support\\x1f1_Rational_Agents',\n       'IE 560 Decision Support\\x1f2_Probability',\n       'IE 560 Decision Support\\x1f3_1_Graphical_Models-Bayesian_Networks',\n       'IE 560 Decision Support\\x1f3_4_Graphical_Models-Hidden_Markov_Models',\n       'IE 560 Decision Support\\x1f3_2_Graphical_Models-Sampling/Approximation',\n       'IE 560 Decision Support\\x1f3_3_Graphical_Models-Markov_Chain_Monte_Carlo',\n       'IE 560 Decision Support\\x1f4_Decision_Theory',\n       'IE 560 Decision Support\\x1f5_Markov_Decision_Processes',\n       'IE 560 Decision Support\\x1f6_Q-Learning',\n       'IE 560 Decision Support\\x1f7_Game_Theory',\n       'IE 560 Decision Support\\x1f3_5_Graphical_Models-SPNs',\n       'IE 560 Decision Support\\x1f8_AI_Safety', 'Data Security',\n       'Mitarbeiterführung', 'Arbeitssicherheit', 'Category Management',\n       'Einkauf'], dtype=object)"
     },
     "execution_count": 3,
     "metadata": {},
     "output_type": "execute_result"
    }
   ],
   "source": [
    "col = Collection()\n",
    "print(\"We currently have \", len(col.cards.cdeck.unique()), \"Decks in the Dataset, with a total of \", len(col.notes), \"flashcards\")\n",
    "col.cards.cdeck.unique()"
   ],
   "metadata": {
    "collapsed": false,
    "pycharm": {
     "name": "#%%\n"
    }
   }
  },
  {
   "cell_type": "code",
   "execution_count": 32,
   "outputs": [
    {
     "data": {
      "text/plain": "36"
     },
     "execution_count": 32,
     "metadata": {},
     "output_type": "execute_result"
    }
   ],
   "source": [
    "col.cards.cdeck[col.cards.cdeck.str.match(r\"(CS 500|LSDM|MAN 645|IE 560|Data Security|Information Retrieval).*\") == True].nunique()"
   ],
   "metadata": {
    "collapsed": false,
    "pycharm": {
     "name": "#%%\n"
    }
   }
  },
  {
   "cell_type": "markdown",
   "source": [
    "36 of these Decks are in English, the others are German."
   ],
   "metadata": {
    "collapsed": false,
    "pycharm": {
     "name": "#%% md\n"
    }
   }
  },
  {
   "cell_type": "code",
   "execution_count": 5,
   "outputs": [
    {
     "name": "stderr",
     "output_type": "stream",
     "text": [
      "/var/folders/xm/s6jjw11s1vx4n32w6313vgy80000gn/T/ipykernel_28688/1711595266.py:12: UserWarning: Matplotlib is currently using module://matplotlib_inline.backend_inline, which is a non-GUI backend, so cannot show the figure.\n",
      "  fig.show()\n"
     ]
    },
    {
     "data": {
      "text/plain": "<Figure size 864x864 with 2 Axes>",
      "image/png": "[encoded data removed]"
     },
     "metadata": {},
     "output_type": "display_data"
    }
   ],
   "source": [
    "X_decks = [(36 / 74)*100, 100-((36 / 74)*100)]\n",
    "labels = [\"English\", \"German\"]\n",
    "\n",
    "n_english_cards = col.cards.cdeck[col.cards.cdeck.str.match(r\"(CS 500|LSDM|MAN 645|IE 560|Data Security|Information Retrieval|Advanced SE).*\") == True].count()\n",
    "X_cards = [(n_english_cards / len(col.notes)) * 100, 100 - ((n_english_cards / len(col.notes)) * 100)]\n",
    "\n",
    "fig, ax = plt.subplots(ncols=2,figsize=(12,12))\n",
    "ax[0].set_title(\"Fraction of Decks per language in the current Dataset\")\n",
    "ax[1].set_title(\"Fraction of Cards per language in the current Dataset\")\n",
    "ax[0].pie(X_decks, labels=labels, autopct='%1.1f%%')\n",
    "ax[1].pie(X_cards, labels=labels, autopct='%1.1f%%')\n",
    "fig.show()"
   ],
   "metadata": {
    "collapsed": false,
    "pycharm": {
     "name": "#%%\n"
    }
   }
  },
  {
   "cell_type": "code",
   "execution_count": 6,
   "outputs": [
    {
     "name": "stdout",
     "output_type": "stream",
     "text": [
      "Help for column 'nflds'\n",
      "-----------------------\n",
      "Name in raw Anki database: flds\n",
      "Information from table: notes\n",
      "Present by default: True\n",
      "\n",
      "Description: Fields of the card as list. In the raw anki database the fields are encoded as a string joined by ‘\\x1f’ characters.\n"
     ]
    }
   ],
   "source": [
    "col.notes.help_col(column=\"nflds\")"
   ],
   "metadata": {
    "collapsed": false,
    "pycharm": {
     "name": "#%%\n"
    }
   }
  },
  {
   "cell_type": "code",
   "execution_count": 16,
   "outputs": [
    {
     "data": {
      "text/plain": "               nguid        nmod  nusn ntags  \\\nnid                                            \n1602000315721  OC}<1  1602000342    -1    []   \n1602000342440  @e6AP  1602000365    -1    []   \n1602000391625  {]}%I  1602000443    -1    []   \n1602000443718  Q%8GO  1602000460    -1    []   \n1602000460567   Dkmc  1602000479    -1    []   \n...              ...         ...   ...   ...   \n1677937216242  C4J?7  1677938427    -1    []   \n1677938427446  w!Jw8  1677939124    -1    []   \n1677939124208  U:G#5  1677939220    -1    []   \n1677939220992  -u^ML  1677939386    -1    []   \n1677939386924  }H@9D  1677939879    -1    []   \n\n                                                           nflds    nmodel  \nnid                                                                         \n1602000315721                                      [Ananas, 620]  Standard  \n1602000342440                             [Apfel grün, lose, 11]  Standard  \n1602000391625                [Apfel rot, süß-säuerlich lose, 58]  Standard  \n1602000443718                              [Aprikosen, lose, 40]  Standard  \n1602000460567                              [Avocado, Stück, 621]  Standard  \n...                                                          ...       ...  \n1677937216242  [Nennen sie die 2 Strategien der Beurteilung v...  Standard  \n1677938427446  [Berufskrankheit, Liegt vor, wenn eine versich...  Standard  \n1677939124208  [Aufgaben der Berufsgenossenschsften, Präventi...  Standard  \n1677939220992  [Definition Arbeitsunfall, Wenn eine versicher...  Standard  \n1677939386924  [Stab-Linie Modell, <img src=\"img5018538578624...  Standard  \n\n[1740 rows x 6 columns]",
      "text/html": "<div>\n<style scoped>\n    .dataframe tbody tr th:only-of-type {\n        vertical-align: middle;\n    }\n\n    .dataframe tbody tr th {\n        vertical-align: top;\n    }\n\n    .dataframe thead th {\n        text-align: right;\n    }\n</style>\n<table border=\"1\" class=\"dataframe\">\n  <thead>\n    <tr style=\"text-align: right;\">\n      <th></th>\n      <th>nguid</th>\n      <th>nmod</th>\n      <th>nusn</th>\n      <th>ntags</th>\n      <th>nflds</th>\n      <th>nmodel</th>\n    </tr>\n    <tr>\n      <th>nid</th>\n      <th></th>\n      <th></th>\n      <th></th>\n      <th></th>\n      <th></th>\n      <th></th>\n    </tr>\n  </thead>\n  <tbody>\n    <tr>\n      <th>1602000315721</th>\n      <td>OC}&lt;1</td>\n      <td>1602000342</td>\n      <td>-1</td>\n      <td>[]</td>\n      <td>[Ananas, 620]</td>\n      <td>Standard</td>\n    </tr>\n    <tr>\n      <th>1602000342440</th>\n      <td>@e6AP</td>\n      <td>1602000365</td>\n      <td>-1</td>\n      <td>[]</td>\n      <td>[Apfel grün, lose, 11]</td>\n      <td>Standard</td>\n    </tr>\n    <tr>\n      <th>1602000391625</th>\n      <td>{]}%I</td>\n      <td>1602000443</td>\n      <td>-1</td>\n      <td>[]</td>\n      <td>[Apfel rot, süß-säuerlich lose, 58]</td>\n      <td>Standard</td>\n    </tr>\n    <tr>\n      <th>1602000443718</th>\n      <td>Q%8GO</td>\n      <td>1602000460</td>\n      <td>-1</td>\n      <td>[]</td>\n      <td>[Aprikosen, lose, 40]</td>\n      <td>Standard</td>\n    </tr>\n    <tr>\n      <th>1602000460567</th>\n      <td>Dkmc</td>\n      <td>1602000479</td>\n      <td>-1</td>\n      <td>[]</td>\n      <td>[Avocado, Stück, 621]</td>\n      <td>Standard</td>\n    </tr>\n    <tr>\n      <th>...</th>\n      <td>...</td>\n      <td>...</td>\n      <td>...</td>\n      <td>...</td>\n      <td>...</td>\n      <td>...</td>\n    </tr>\n    <tr>\n      <th>1677937216242</th>\n      <td>C4J?7</td>\n      <td>1677938427</td>\n      <td>-1</td>\n      <td>[]</td>\n      <td>[Nennen sie die 2 Strategien der Beurteilung v...</td>\n      <td>Standard</td>\n    </tr>\n    <tr>\n      <th>1677938427446</th>\n      <td>w!Jw8</td>\n      <td>1677939124</td>\n      <td>-1</td>\n      <td>[]</td>\n      <td>[Berufskrankheit, Liegt vor, wenn eine versich...</td>\n      <td>Standard</td>\n    </tr>\n    <tr>\n      <th>1677939124208</th>\n      <td>U:G#5</td>\n      <td>1677939220</td>\n      <td>-1</td>\n      <td>[]</td>\n      <td>[Aufgaben der Berufsgenossenschsften, Präventi...</td>\n      <td>Standard</td>\n    </tr>\n    <tr>\n      <th>1677939220992</th>\n      <td>-u^ML</td>\n      <td>1677939386</td>\n      <td>-1</td>\n      <td>[]</td>\n      <td>[Definition Arbeitsunfall, Wenn eine versicher...</td>\n      <td>Standard</td>\n    </tr>\n    <tr>\n      <th>1677939386924</th>\n      <td>}H@9D</td>\n      <td>1677939879</td>\n      <td>-1</td>\n      <td>[]</td>\n      <td>[Stab-Linie Modell, &lt;img src=\"img5018538578624...</td>\n      <td>Standard</td>\n    </tr>\n  </tbody>\n</table>\n<p>1740 rows × 6 columns</p>\n</div>"
     },
     "execution_count": 16,
     "metadata": {},
     "output_type": "execute_result"
    }
   ],
   "source": [
    "col.notes"
   ],
   "metadata": {
    "collapsed": false,
    "pycharm": {
     "name": "#%%\n"
    }
   }
  },
  {
   "cell_type": "markdown",
   "source": [
    "The content of the card is included in the nflds column. Which includes a list of strings. The First string is the front of the Flashcard which equates to the Question we'd want to generate. However, we should also look through the Data and delete unnecessary decks as one deck is completely composed of IDs for the Cash register at the supermarket for fruits, that type of data will create unnecessary noise and is not beneficial for our goal. In addition to that, the Text includes HTML tags like \\<br\\> or \\<image\\> tags that should also be removed for some models to reduce noise. We also have to remove all cards that only include images as the solution, as the llms won't have any way to extract the content of the image and in theory would learn to generate some form of text ot a random img number string."
   ],
   "metadata": {
    "collapsed": false,
    "pycharm": {
     "name": "#%% md\n"
    }
   }
  },
  {
   "cell_type": "code",
   "execution_count": 7,
   "outputs": [
    {
     "data": {
      "text/plain": "False    1206\nTrue      534\nName: nflds, dtype: int64"
     },
     "execution_count": 7,
     "metadata": {},
     "output_type": "execute_result"
    }
   ],
   "source": [
    "col.notes.nflds.apply(lambda x: bool(re.match(r\".*[?]\" ,x[0]))).value_counts()"
   ],
   "metadata": {
    "collapsed": false,
    "pycharm": {
     "name": "#%%\n"
    }
   }
  },
  {
   "cell_type": "code",
   "execution_count": 19,
   "outputs": [
    {
     "data": {
      "text/plain": "False    69.310345\nTrue     30.689655\nName: nflds, dtype: float64"
     },
     "execution_count": 19,
     "metadata": {},
     "output_type": "execute_result"
    }
   ],
   "source": [
    "(col.notes.nflds.apply(lambda x: bool(re.match(r\".*[?]\" ,x[0]))).value_counts() / len(col.notes))*100"
   ],
   "metadata": {
    "collapsed": false,
    "pycharm": {
     "name": "#%%\n"
    }
   }
  },
  {
   "cell_type": "markdown",
   "source": [
    "Also as shown above, with some very simple and trivial grammatical classification for Questions, only 30.94% of cards actually have a Question at the Front of the card. The rest is composed of either Key Words or actual exercise assignments where the user wanted to learn a specific equation that is used for calculating the answer. Thus overall the dataset resembles more like a key message / Topic summary task / Topic prediction task, comparable to school exercises where a part of a story or scientific text had to be summarised in a paragraph title."
   ],
   "metadata": {
    "collapsed": false,
    "pycharm": {
     "name": "#%% md\n"
    }
   }
  },
  {
   "cell_type": "markdown",
   "source": [
    "## Textual Data\n",
    "The textual Data is comprised of many different forms of Data. We have:\n",
    "- Bullet points\n",
    "- Images, through image tags with a source reference\n",
    "- Formulas\n",
    "- Structured Tags from HTML, e.g. \\<br> for Line breaks\n",
    "- Data can contain Typos\n",
    "- Data can include scientific errors / incorrect answers -> shouldn't be a concern as we only predict the topic / the overall key message\n",
    "\n",
    "Not everything of that can be efficiently processed by one model, e.g. Images can't be processed by an NLP model as it basically defines a completely different task. Structured Content in theory is no problem but it can be noisy for a model to include it depending on a models pretraining -> See IR Project. Also the result from the Extractor won't be structured. It will include \"bullet points\" in markdown notation through utf-8 characters but no line breaks through html tags or similar stuff. Formulas are not written in Latex in Anki, they are just written in plain text (show example in the report)."
   ],
   "metadata": {
    "collapsed": false,
    "pycharm": {
     "name": "#%% md\n"
    }
   }
  },
  {
   "cell_type": "markdown",
   "source": [
    "## Check how many image pastes we have"
   ],
   "metadata": {
    "collapsed": false,
    "pycharm": {
     "name": "#%% md\n"
    }
   }
  },
  {
   "cell_type": "code",
   "execution_count": 17,
   "outputs": [
    {
     "data": {
      "text/plain": "False    1377\nTrue      363\nName: nflds, dtype: int64"
     },
     "execution_count": 17,
     "metadata": {},
     "output_type": "execute_result"
    }
   ],
   "source": [
    "col.notes.nflds.apply(lambda x: bool(re.match(r\"<img.*\" ,x[1]))).value_counts()"
   ],
   "metadata": {
    "collapsed": false,
    "pycharm": {
     "name": "#%%\n"
    }
   }
  },
  {
   "cell_type": "code",
   "execution_count": 20,
   "outputs": [
    {
     "data": {
      "text/plain": "False    79.137931\nTrue     20.862069\nName: nflds, dtype: float64"
     },
     "execution_count": 20,
     "metadata": {},
     "output_type": "execute_result"
    }
   ],
   "source": [
    "(col.notes.nflds.apply(lambda x: bool(re.match(r\"<img.*\" ,x[1]))).value_counts() / len(col.notes))*100"
   ],
   "metadata": {
    "collapsed": false,
    "pycharm": {
     "name": "#%%\n"
    }
   }
  },
  {
   "cell_type": "markdown",
   "source": [
    "-> We have around 21% of image data in the result field"
   ],
   "metadata": {
    "collapsed": false,
    "pycharm": {
     "name": "#%% md\n"
    }
   }
  },
  {
   "cell_type": "code",
   "execution_count": 21,
   "outputs": [
    {
     "data": {
      "text/plain": "False    99.367816\nTrue      0.632184\nName: nflds, dtype: float64"
     },
     "execution_count": 21,
     "metadata": {},
     "output_type": "execute_result"
    }
   ],
   "source": [
    "(col.notes.nflds.apply(lambda x: bool(re.match(r\"<img.*\" ,x[0]))).value_counts() / len(col.notes))*100"
   ],
   "metadata": {
    "collapsed": false,
    "pycharm": {
     "name": "#%%\n"
    }
   }
  },
  {
   "cell_type": "markdown",
   "source": [
    "-> Less then 1% of Questions are composed of Images"
   ],
   "metadata": {
    "collapsed": false,
    "pycharm": {
     "name": "#%% md\n"
    }
   }
  },
  {
   "cell_type": "markdown",
   "source": [
    "## Topic Distributions\n",
    "TODO"
   ],
   "metadata": {
    "collapsed": false,
    "pycharm": {
     "name": "#%% md\n"
    }
   }
  },
  {
   "cell_type": "markdown",
   "source": [
    "## CSV for Topic Tagging"
   ],
   "metadata": {
    "collapsed": false,
    "pycharm": {
     "name": "#%% md\n"
    }
   }
  },
  {
   "cell_type": "code",
   "execution_count": 14,
   "outputs": [],
   "source": [
    "pd.Series(col.cards.cdeck.unique()).sort_values().to_csv(\"datasets/deck_names.csv\",encoding='utf-8')"
   ],
   "metadata": {
    "collapsed": false,
    "pycharm": {
     "name": "#%%\n"
    }
   }
  },
  {
   "cell_type": "code",
   "execution_count": 30,
   "outputs": [
    {
     "data": {
      "text/plain": "                          Deck_Name                             Topic\nID                                                                   \n52                      Advanced SE                  Computer Science\n22                     Arbeitsrecht   Business Economics / Management\n72                Arbeitssicherheit   Business Economics / Management\n26      Beendigung AV und Kündigung   Business Economics / Management\n35            CS 500 ASE\u001F02_Testing                  Computer Science\n..                              ...                               ...\n28                  Preismanagement   Business Economics / Management\n32  Revision & Corporate Governance   Business Economics / Management\n16                  Standortanalyse   Business Economics / Management\n17                        VWL Makro   Business Economics / Management\n33              Vertriebsmanagement   Business Economics / Management\n\n[75 rows x 2 columns]",
      "text/html": "<div>\n<style scoped>\n    .dataframe tbody tr th:only-of-type {\n        vertical-align: middle;\n    }\n\n    .dataframe tbody tr th {\n        vertical-align: top;\n    }\n\n    .dataframe thead th {\n        text-align: right;\n    }\n</style>\n<table border=\"1\" class=\"dataframe\">\n  <thead>\n    <tr style=\"text-align: right;\">\n      <th></th>\n      <th>Deck_Name</th>\n      <th>Topic</th>\n    </tr>\n    <tr>\n      <th>ID</th>\n      <th></th>\n      <th></th>\n    </tr>\n  </thead>\n  <tbody>\n    <tr>\n      <th>52</th>\n      <td>Advanced SE</td>\n      <td>Computer Science</td>\n    </tr>\n    <tr>\n      <th>22</th>\n      <td>Arbeitsrecht</td>\n      <td>Business Economics / Management</td>\n    </tr>\n    <tr>\n      <th>72</th>\n      <td>Arbeitssicherheit</td>\n      <td>Business Economics / Management</td>\n    </tr>\n    <tr>\n      <th>26</th>\n      <td>Beendigung AV und Kündigung</td>\n      <td>Business Economics / Management</td>\n    </tr>\n    <tr>\n      <th>35</th>\n      <td>CS 500 ASE\u001F02_Testing</td>\n      <td>Computer Science</td>\n    </tr>\n    <tr>\n      <th>...</th>\n      <td>...</td>\n      <td>...</td>\n    </tr>\n    <tr>\n      <th>28</th>\n      <td>Preismanagement</td>\n      <td>Business Economics / Management</td>\n    </tr>\n    <tr>\n      <th>32</th>\n      <td>Revision &amp; Corporate Governance</td>\n      <td>Business Economics / Management</td>\n    </tr>\n    <tr>\n      <th>16</th>\n      <td>Standortanalyse</td>\n      <td>Business Economics / Management</td>\n    </tr>\n    <tr>\n      <th>17</th>\n      <td>VWL Makro</td>\n      <td>Business Economics / Management</td>\n    </tr>\n    <tr>\n      <th>33</th>\n      <td>Vertriebsmanagement</td>\n      <td>Business Economics / Management</td>\n    </tr>\n  </tbody>\n</table>\n<p>75 rows × 2 columns</p>\n</div>"
     },
     "execution_count": 30,
     "metadata": {},
     "output_type": "execute_result"
    }
   ],
   "source": [
    "tagged = pd.read_csv(\"datasets/deck_names_tagged.csv\", encoding='utf-8', delimiter=';', index_col='ID').drop(['Unnamed: 3'], axis=1)\n",
    "tagged"
   ],
   "metadata": {
    "collapsed": false,
    "pycharm": {
     "name": "#%%\n"
    }
   }
  },
  {
   "cell_type": "code",
   "execution_count": 29,
   "outputs": [
    {
     "data": {
      "text/plain": "                         nid  cord        cmod  cusn     ctype cqueue  cdue  \\\ncid                                                                           \n1602000342408  1602000315721     0  1678209718    -1  learning    new   559   \n1602000365845  1602000342440     0  1678209718    -1  learning    new   560   \n1602000443666  1602000391625     0  1678209718    -1  learning    new   561   \n1602000460521  1602000443718     0  1678209718    -1  learning    new   562   \n1602000479703  1602000460567     0  1678209718    -1  learning    new   563   \n...                      ...   ...         ...   ...       ...    ...   ...   \n1677938427431  1677937216242     0  1678209718    -1  learning    new  1035   \n1677939124198  1677938427446     0  1678209718    -1  learning    new  1036   \n1677939220981  1677939124208     0  1678209718    -1  learning    new  1037   \n1677939386913  1677939220992     0  1678209718    -1  learning    new  1038   \n1677939879058  1677939386924     0  1678209718    -1  learning    new  1039   \n\n               civl  cfactor  creps  clapses  cleft  codue              cdeck  \\\ncid                                                                             \n1602000342408     0     2500      0        0   1001      0         PLUs O&G A   \n1602000365845     0     2500      0        0   1001      0         PLUs O&G A   \n1602000443666     0     2500      0        0   1001      0         PLUs O&G A   \n1602000460521     0     2500      0        0   1001      0         PLUs O&G A   \n1602000479703     0     2500      0        0   1001      0         PLUs O&G A   \n...             ...      ...    ...      ...    ...    ...                ...   \n1677938427431     0     2500      0        0   1001      0  Arbeitssicherheit   \n1677939124198     0     2500      0        0   1001      0  Arbeitssicherheit   \n1677939220981     0     2500      0        0   1001      0  Arbeitssicherheit   \n1677939386913     0     2500      0        0   1001      0  Arbeitssicherheit   \n1677939879058     0     2500      0        0   1001      0  Arbeitssicherheit   \n\n              codeck  \ncid                   \n1602000342408         \n1602000365845         \n1602000443666         \n1602000460521         \n1602000479703         \n...              ...  \n1677938427431         \n1677939124198         \n1677939220981         \n1677939386913         \n1677939879058         \n\n[1740 rows x 15 columns]",
      "text/html": "<div>\n<style scoped>\n    .dataframe tbody tr th:only-of-type {\n        vertical-align: middle;\n    }\n\n    .dataframe tbody tr th {\n        vertical-align: top;\n    }\n\n    .dataframe thead th {\n        text-align: right;\n    }\n</style>\n<table border=\"1\" class=\"dataframe\">\n  <thead>\n    <tr style=\"text-align: right;\">\n      <th></th>\n      <th>nid</th>\n      <th>cord</th>\n      <th>cmod</th>\n      <th>cusn</th>\n      <th>ctype</th>\n      <th>cqueue</th>\n      <th>cdue</th>\n      <th>civl</th>\n      <th>cfactor</th>\n      <th>creps</th>\n      <th>clapses</th>\n      <th>cleft</th>\n      <th>codue</th>\n      <th>cdeck</th>\n      <th>codeck</th>\n    </tr>\n    <tr>\n      <th>cid</th>\n      <th></th>\n      <th></th>\n      <th></th>\n      <th></th>\n      <th></th>\n      <th></th>\n      <th></th>\n      <th></th>\n      <th></th>\n      <th></th>\n      <th></th>\n      <th></th>\n      <th></th>\n      <th></th>\n      <th></th>\n    </tr>\n  </thead>\n  <tbody>\n    <tr>\n      <th>1602000342408</th>\n      <td>1602000315721</td>\n      <td>0</td>\n      <td>1678209718</td>\n      <td>-1</td>\n      <td>learning</td>\n      <td>new</td>\n      <td>559</td>\n      <td>0</td>\n      <td>2500</td>\n      <td>0</td>\n      <td>0</td>\n      <td>1001</td>\n      <td>0</td>\n      <td>PLUs O&amp;G A</td>\n      <td></td>\n    </tr>\n    <tr>\n      <th>1602000365845</th>\n      <td>1602000342440</td>\n      <td>0</td>\n      <td>1678209718</td>\n      <td>-1</td>\n      <td>learning</td>\n      <td>new</td>\n      <td>560</td>\n      <td>0</td>\n      <td>2500</td>\n      <td>0</td>\n      <td>0</td>\n      <td>1001</td>\n      <td>0</td>\n      <td>PLUs O&amp;G A</td>\n      <td></td>\n    </tr>\n    <tr>\n      <th>1602000443666</th>\n      <td>1602000391625</td>\n      <td>0</td>\n      <td>1678209718</td>\n      <td>-1</td>\n      <td>learning</td>\n      <td>new</td>\n      <td>561</td>\n      <td>0</td>\n      <td>2500</td>\n      <td>0</td>\n      <td>0</td>\n      <td>1001</td>\n      <td>0</td>\n      <td>PLUs O&amp;G A</td>\n      <td></td>\n    </tr>\n    <tr>\n      <th>1602000460521</th>\n      <td>1602000443718</td>\n      <td>0</td>\n      <td>1678209718</td>\n      <td>-1</td>\n      <td>learning</td>\n      <td>new</td>\n      <td>562</td>\n      <td>0</td>\n      <td>2500</td>\n      <td>0</td>\n      <td>0</td>\n      <td>1001</td>\n      <td>0</td>\n      <td>PLUs O&amp;G A</td>\n      <td></td>\n    </tr>\n    <tr>\n      <th>1602000479703</th>\n      <td>1602000460567</td>\n      <td>0</td>\n      <td>1678209718</td>\n      <td>-1</td>\n      <td>learning</td>\n      <td>new</td>\n      <td>563</td>\n      <td>0</td>\n      <td>2500</td>\n      <td>0</td>\n      <td>0</td>\n      <td>1001</td>\n      <td>0</td>\n      <td>PLUs O&amp;G A</td>\n      <td></td>\n    </tr>\n    <tr>\n      <th>...</th>\n      <td>...</td>\n      <td>...</td>\n      <td>...</td>\n      <td>...</td>\n      <td>...</td>\n      <td>...</td>\n      <td>...</td>\n      <td>...</td>\n      <td>...</td>\n      <td>...</td>\n      <td>...</td>\n      <td>...</td>\n      <td>...</td>\n      <td>...</td>\n      <td>...</td>\n    </tr>\n    <tr>\n      <th>1677938427431</th>\n      <td>1677937216242</td>\n      <td>0</td>\n      <td>1678209718</td>\n      <td>-1</td>\n      <td>learning</td>\n      <td>new</td>\n      <td>1035</td>\n      <td>0</td>\n      <td>2500</td>\n      <td>0</td>\n      <td>0</td>\n      <td>1001</td>\n      <td>0</td>\n      <td>Arbeitssicherheit</td>\n      <td></td>\n    </tr>\n    <tr>\n      <th>1677939124198</th>\n      <td>1677938427446</td>\n      <td>0</td>\n      <td>1678209718</td>\n      <td>-1</td>\n      <td>learning</td>\n      <td>new</td>\n      <td>1036</td>\n      <td>0</td>\n      <td>2500</td>\n      <td>0</td>\n      <td>0</td>\n      <td>1001</td>\n      <td>0</td>\n      <td>Arbeitssicherheit</td>\n      <td></td>\n    </tr>\n    <tr>\n      <th>1677939220981</th>\n      <td>1677939124208</td>\n      <td>0</td>\n      <td>1678209718</td>\n      <td>-1</td>\n      <td>learning</td>\n      <td>new</td>\n      <td>1037</td>\n      <td>0</td>\n      <td>2500</td>\n      <td>0</td>\n      <td>0</td>\n      <td>1001</td>\n      <td>0</td>\n      <td>Arbeitssicherheit</td>\n      <td></td>\n    </tr>\n    <tr>\n      <th>1677939386913</th>\n      <td>1677939220992</td>\n      <td>0</td>\n      <td>1678209718</td>\n      <td>-1</td>\n      <td>learning</td>\n      <td>new</td>\n      <td>1038</td>\n      <td>0</td>\n      <td>2500</td>\n      <td>0</td>\n      <td>0</td>\n      <td>1001</td>\n      <td>0</td>\n      <td>Arbeitssicherheit</td>\n      <td></td>\n    </tr>\n    <tr>\n      <th>1677939879058</th>\n      <td>1677939386924</td>\n      <td>0</td>\n      <td>1678209718</td>\n      <td>-1</td>\n      <td>learning</td>\n      <td>new</td>\n      <td>1039</td>\n      <td>0</td>\n      <td>2500</td>\n      <td>0</td>\n      <td>0</td>\n      <td>1001</td>\n      <td>0</td>\n      <td>Arbeitssicherheit</td>\n      <td></td>\n    </tr>\n  </tbody>\n</table>\n<p>1740 rows × 15 columns</p>\n</div>"
     },
     "execution_count": 29,
     "metadata": {},
     "output_type": "execute_result"
    }
   ],
   "source": [
    "cards_cdecks = col.cards\n",
    "cards_cdecks"
   ],
   "metadata": {
    "collapsed": false,
    "pycharm": {
     "name": "#%%\n"
    }
   }
  },
  {
   "cell_type": "code",
   "execution_count": 32,
   "outputs": [
    {
     "data": {
      "text/plain": "                nid  cord        cmod  cusn     ctype cqueue  cdue  civl  \\\n0     1602000315721     0  1678209718    -1  learning    new   559     0   \n1     1602000342440     0  1678209718    -1  learning    new   560     0   \n2     1602000391625     0  1678209718    -1  learning    new   561     0   \n3     1602000443718     0  1678209718    -1  learning    new   562     0   \n4     1602000460567     0  1678209718    -1  learning    new   563     0   \n...             ...   ...         ...   ...       ...    ...   ...   ...   \n1735  1677865211394     0  1678209718    -1  learning    new  1027     0   \n1736  1677865806998     0  1677870513    -1  learning    new   555     0   \n1737  1677870513808     0  1677872175    -1  learning    new   556     0   \n1738  1677872175641     0  1677873066    -1  learning    new   557     0   \n1739  1677875923203     0  1677877901    -1  learning    new   558     0   \n\n      cfactor  creps  clapses  cleft  codue       cdeck codeck   Deck_Name  \\\n0        2500      0        0   1001      0  PLUs O&G A         PLUs O&G A   \n1        2500      0        0   1001      0  PLUs O&G A         PLUs O&G A   \n2        2500      0        0   1001      0  PLUs O&G A         PLUs O&G A   \n3        2500      0        0   1001      0  PLUs O&G A         PLUs O&G A   \n4        2500      0        0   1001      0  PLUs O&G A         PLUs O&G A   \n...       ...    ...      ...    ...    ...         ...    ...         ...   \n1735     2500      0        0   1001      0     Einkauf            Einkauf   \n1736        0      0        0      0      0     Einkauf            Einkauf   \n1737        0      0        0      0      0     Einkauf            Einkauf   \n1738        0      0        0      0      0     Einkauf            Einkauf   \n1739        0      0        0      0      0     Einkauf            Einkauf   \n\n                                 Topic  \n0                                Noise  \n1                                Noise  \n2                                Noise  \n3                                Noise  \n4                                Noise  \n...                                ...  \n1735   Business Economics / Management  \n1736   Business Economics / Management  \n1737   Business Economics / Management  \n1738   Business Economics / Management  \n1739   Business Economics / Management  \n\n[1740 rows x 17 columns]",
      "text/html": "<div>\n<style scoped>\n    .dataframe tbody tr th:only-of-type {\n        vertical-align: middle;\n    }\n\n    .dataframe tbody tr th {\n        vertical-align: top;\n    }\n\n    .dataframe thead th {\n        text-align: right;\n    }\n</style>\n<table border=\"1\" class=\"dataframe\">\n  <thead>\n    <tr style=\"text-align: right;\">\n      <th></th>\n      <th>nid</th>\n      <th>cord</th>\n      <th>cmod</th>\n      <th>cusn</th>\n      <th>ctype</th>\n      <th>cqueue</th>\n      <th>cdue</th>\n      <th>civl</th>\n      <th>cfactor</th>\n      <th>creps</th>\n      <th>clapses</th>\n      <th>cleft</th>\n      <th>codue</th>\n      <th>cdeck</th>\n      <th>codeck</th>\n      <th>Deck_Name</th>\n      <th>Topic</th>\n    </tr>\n  </thead>\n  <tbody>\n    <tr>\n      <th>0</th>\n      <td>1602000315721</td>\n      <td>0</td>\n      <td>1678209718</td>\n      <td>-1</td>\n      <td>learning</td>\n      <td>new</td>\n      <td>559</td>\n      <td>0</td>\n      <td>2500</td>\n      <td>0</td>\n      <td>0</td>\n      <td>1001</td>\n      <td>0</td>\n      <td>PLUs O&amp;G A</td>\n      <td></td>\n      <td>PLUs O&amp;G A</td>\n      <td>Noise</td>\n    </tr>\n    <tr>\n      <th>1</th>\n      <td>1602000342440</td>\n      <td>0</td>\n      <td>1678209718</td>\n      <td>-1</td>\n      <td>learning</td>\n      <td>new</td>\n      <td>560</td>\n      <td>0</td>\n      <td>2500</td>\n      <td>0</td>\n      <td>0</td>\n      <td>1001</td>\n      <td>0</td>\n      <td>PLUs O&amp;G A</td>\n      <td></td>\n      <td>PLUs O&amp;G A</td>\n      <td>Noise</td>\n    </tr>\n    <tr>\n      <th>2</th>\n      <td>1602000391625</td>\n      <td>0</td>\n      <td>1678209718</td>\n      <td>-1</td>\n      <td>learning</td>\n      <td>new</td>\n      <td>561</td>\n      <td>0</td>\n      <td>2500</td>\n      <td>0</td>\n      <td>0</td>\n      <td>1001</td>\n      <td>0</td>\n      <td>PLUs O&amp;G A</td>\n      <td></td>\n      <td>PLUs O&amp;G A</td>\n      <td>Noise</td>\n    </tr>\n    <tr>\n      <th>3</th>\n      <td>1602000443718</td>\n      <td>0</td>\n      <td>1678209718</td>\n      <td>-1</td>\n      <td>learning</td>\n      <td>new</td>\n      <td>562</td>\n      <td>0</td>\n      <td>2500</td>\n      <td>0</td>\n      <td>0</td>\n      <td>1001</td>\n      <td>0</td>\n      <td>PLUs O&amp;G A</td>\n      <td></td>\n      <td>PLUs O&amp;G A</td>\n      <td>Noise</td>\n    </tr>\n    <tr>\n      <th>4</th>\n      <td>1602000460567</td>\n      <td>0</td>\n      <td>1678209718</td>\n      <td>-1</td>\n      <td>learning</td>\n      <td>new</td>\n      <td>563</td>\n      <td>0</td>\n      <td>2500</td>\n      <td>0</td>\n      <td>0</td>\n      <td>1001</td>\n      <td>0</td>\n      <td>PLUs O&amp;G A</td>\n      <td></td>\n      <td>PLUs O&amp;G A</td>\n      <td>Noise</td>\n    </tr>\n    <tr>\n      <th>...</th>\n      <td>...</td>\n      <td>...</td>\n      <td>...</td>\n      <td>...</td>\n      <td>...</td>\n      <td>...</td>\n      <td>...</td>\n      <td>...</td>\n      <td>...</td>\n      <td>...</td>\n      <td>...</td>\n      <td>...</td>\n      <td>...</td>\n      <td>...</td>\n      <td>...</td>\n      <td>...</td>\n      <td>...</td>\n    </tr>\n    <tr>\n      <th>1735</th>\n      <td>1677865211394</td>\n      <td>0</td>\n      <td>1678209718</td>\n      <td>-1</td>\n      <td>learning</td>\n      <td>new</td>\n      <td>1027</td>\n      <td>0</td>\n      <td>2500</td>\n      <td>0</td>\n      <td>0</td>\n      <td>1001</td>\n      <td>0</td>\n      <td>Einkauf</td>\n      <td></td>\n      <td>Einkauf</td>\n      <td>Business Economics / Management</td>\n    </tr>\n    <tr>\n      <th>1736</th>\n      <td>1677865806998</td>\n      <td>0</td>\n      <td>1677870513</td>\n      <td>-1</td>\n      <td>learning</td>\n      <td>new</td>\n      <td>555</td>\n      <td>0</td>\n      <td>0</td>\n      <td>0</td>\n      <td>0</td>\n      <td>0</td>\n      <td>0</td>\n      <td>Einkauf</td>\n      <td></td>\n      <td>Einkauf</td>\n      <td>Business Economics / Management</td>\n    </tr>\n    <tr>\n      <th>1737</th>\n      <td>1677870513808</td>\n      <td>0</td>\n      <td>1677872175</td>\n      <td>-1</td>\n      <td>learning</td>\n      <td>new</td>\n      <td>556</td>\n      <td>0</td>\n      <td>0</td>\n      <td>0</td>\n      <td>0</td>\n      <td>0</td>\n      <td>0</td>\n      <td>Einkauf</td>\n      <td></td>\n      <td>Einkauf</td>\n      <td>Business Economics / Management</td>\n    </tr>\n    <tr>\n      <th>1738</th>\n      <td>1677872175641</td>\n      <td>0</td>\n      <td>1677873066</td>\n      <td>-1</td>\n      <td>learning</td>\n      <td>new</td>\n      <td>557</td>\n      <td>0</td>\n      <td>0</td>\n      <td>0</td>\n      <td>0</td>\n      <td>0</td>\n      <td>0</td>\n      <td>Einkauf</td>\n      <td></td>\n      <td>Einkauf</td>\n      <td>Business Economics / Management</td>\n    </tr>\n    <tr>\n      <th>1739</th>\n      <td>1677875923203</td>\n      <td>0</td>\n      <td>1677877901</td>\n      <td>-1</td>\n      <td>learning</td>\n      <td>new</td>\n      <td>558</td>\n      <td>0</td>\n      <td>0</td>\n      <td>0</td>\n      <td>0</td>\n      <td>0</td>\n      <td>0</td>\n      <td>Einkauf</td>\n      <td></td>\n      <td>Einkauf</td>\n      <td>Business Economics / Management</td>\n    </tr>\n  </tbody>\n</table>\n<p>1740 rows × 17 columns</p>\n</div>"
     },
     "execution_count": 32,
     "metadata": {},
     "output_type": "execute_result"
    }
   ],
   "source": [
    "cards_cdecks_tagged = pd.merge(cards_cdecks, tagged, left_on='cdeck', right_on='Deck_Name')\n",
    "cards_cdecks_tagged"
   ],
   "metadata": {
    "collapsed": false,
    "pycharm": {
     "name": "#%%\n"
    }
   }
  },
  {
   "cell_type": "code",
   "execution_count": 36,
   "outputs": [
    {
     "data": {
      "text/plain": "                                   nid  cord  cmod  cusn  ctype  cqueue  cdue  \\\nTopic                                                                           \n Business Economics / Management   541   541   541   541    541     541   541   \n Noise                             148   148   148   148    148     148   148   \nComputer Science                  1051  1051  1051  1051   1051    1051  1051   \n\n                                  civl  cfactor  creps  clapses  cleft  codue  \\\nTopic                                                                           \n Business Economics / Management   541      541    541      541    541    541   \n Noise                             148      148    148      148    148    148   \nComputer Science                  1051     1051   1051     1051   1051   1051   \n\n                                  cdeck  codeck  Deck_Name  \nTopic                                                       \n Business Economics / Management    541     541        541  \n Noise                              148     148        148  \nComputer Science                   1051    1051       1051  ",
      "text/html": "<div>\n<style scoped>\n    .dataframe tbody tr th:only-of-type {\n        vertical-align: middle;\n    }\n\n    .dataframe tbody tr th {\n        vertical-align: top;\n    }\n\n    .dataframe thead th {\n        text-align: right;\n    }\n</style>\n<table border=\"1\" class=\"dataframe\">\n  <thead>\n    <tr style=\"text-align: right;\">\n      <th></th>\n      <th>nid</th>\n      <th>cord</th>\n      <th>cmod</th>\n      <th>cusn</th>\n      <th>ctype</th>\n      <th>cqueue</th>\n      <th>cdue</th>\n      <th>civl</th>\n      <th>cfactor</th>\n      <th>creps</th>\n      <th>clapses</th>\n      <th>cleft</th>\n      <th>codue</th>\n      <th>cdeck</th>\n      <th>codeck</th>\n      <th>Deck_Name</th>\n    </tr>\n    <tr>\n      <th>Topic</th>\n      <th></th>\n      <th></th>\n      <th></th>\n      <th></th>\n      <th></th>\n      <th></th>\n      <th></th>\n      <th></th>\n      <th></th>\n      <th></th>\n      <th></th>\n      <th></th>\n      <th></th>\n      <th></th>\n      <th></th>\n      <th></th>\n    </tr>\n  </thead>\n  <tbody>\n    <tr>\n      <th>Business Economics / Management</th>\n      <td>541</td>\n      <td>541</td>\n      <td>541</td>\n      <td>541</td>\n      <td>541</td>\n      <td>541</td>\n      <td>541</td>\n      <td>541</td>\n      <td>541</td>\n      <td>541</td>\n      <td>541</td>\n      <td>541</td>\n      <td>541</td>\n      <td>541</td>\n      <td>541</td>\n      <td>541</td>\n    </tr>\n    <tr>\n      <th>Noise</th>\n      <td>148</td>\n      <td>148</td>\n      <td>148</td>\n      <td>148</td>\n      <td>148</td>\n      <td>148</td>\n      <td>148</td>\n      <td>148</td>\n      <td>148</td>\n      <td>148</td>\n      <td>148</td>\n      <td>148</td>\n      <td>148</td>\n      <td>148</td>\n      <td>148</td>\n      <td>148</td>\n    </tr>\n    <tr>\n      <th>Computer Science</th>\n      <td>1051</td>\n      <td>1051</td>\n      <td>1051</td>\n      <td>1051</td>\n      <td>1051</td>\n      <td>1051</td>\n      <td>1051</td>\n      <td>1051</td>\n      <td>1051</td>\n      <td>1051</td>\n      <td>1051</td>\n      <td>1051</td>\n      <td>1051</td>\n      <td>1051</td>\n      <td>1051</td>\n      <td>1051</td>\n    </tr>\n  </tbody>\n</table>\n</div>"
     },
     "execution_count": 36,
     "metadata": {},
     "output_type": "execute_result"
    }
   ],
   "source": [
    "topic_counts = cards_cdecks_tagged.groupby('Topic').count()\n",
    "topic_counts"
   ],
   "metadata": {
    "collapsed": false,
    "pycharm": {
     "name": "#%%\n"
    }
   }
  },
  {
   "cell_type": "code",
   "execution_count": 38,
   "outputs": [
    {
     "data": {
      "text/plain": "<AxesSubplot:title={'center':'Topic distribution in the Collected Data'}, ylabel='nid'>"
     },
     "execution_count": 38,
     "metadata": {},
     "output_type": "execute_result"
    },
    {
     "data": {
      "text/plain": "<Figure size 360x360 with 1 Axes>",
      "image/png": "[encoded data removed]"
     },
     "metadata": {},
     "output_type": "display_data"
    }
   ],
   "source": [
    "topic_counts.plot.pie(y='nid', figsize=(5,5), legend=False, autopct='%1.1f%%', title=\"Topic distribution in the Collected Data\")"
   ],
   "metadata": {
    "collapsed": false,
    "pycharm": {
     "name": "#%%\n"
    }
   }
  },
  {
   "cell_type": "markdown",
   "source": [
    "## Model Goal\n",
    "<div>\n",
    "<img src=\"./images/Model-Goal.png\" width=\"1500\"/>\n",
    "</div>"
   ],
   "metadata": {
    "collapsed": false,
    "pycharm": {
     "name": "#%% md\n"
    }
   }
  }
 ],
 "metadata": {
  "kernelspec": {
   "display_name": "Python 3",
   "language": "python",
   "name": "python3"
  },
  "language_info": {
   "codemirror_mode": {
    "name": "ipython",
    "version": 2
   },
   "file_extension": ".py",
   "mimetype": "text/x-python",
   "name": "python",
   "nbconvert_exporter": "python",
   "pygments_lexer": "ipython2",
   "version": "2.7.6"
  }
 },
 "nbformat": 4,
 "nbformat_minor": 0
}