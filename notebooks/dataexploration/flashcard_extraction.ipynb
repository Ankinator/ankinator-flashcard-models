{
 "cells": [
  {
   "cell_type": "code",
   "execution_count": null,
   "outputs": [],
   "source": [
    "import sys\n",
    "sys.path.append(\"../../\")\n",
    "%cd ../../"
   ],
   "metadata": {
    "collapsed": false
   }
  },
  {
   "cell_type": "markdown",
   "source": [
    "# Extraction of Anki flashcards as csv\n",
    "This notebook will extract all Anki flashcards into a csv file for further preprocessing and ultimately training of the model."
   ],
   "metadata": {
    "collapsed": false
   }
  },
  {
   "cell_type": "code",
   "execution_count": null,
   "outputs": [],
   "source": [
    "#Imports\n",
    "from ankipandas import Collection\n",
    "import pandas as pd\n",
    "import os"
   ],
   "metadata": {
    "collapsed": false
   }
  },
  {
   "cell_type": "code",
   "execution_count": null,
   "outputs": [],
   "source": [
    "col = Collection(\"/Users/I516258/Library/Application Support\")\n",
    "\n",
    "all_notes = pd.DataFrame(col.notes.fields_as_columns())\n",
    "\n",
    "all_notes"
   ],
   "metadata": {
    "collapsed": false
   }
  },
  {
   "cell_type": "code",
   "execution_count": null,
   "outputs": [],
   "source": [
    "flashcards_set = all_notes[[\"nfld_Vorderseite\",\"nfld_Front\",\"nfld_Rückseite\",\"nfld_Back\"]]\n",
    "flashcards_set[\"Front\"] = flashcards_set[flashcards_set.columns[0:2]].apply(lambda x: ''.join(x.dropna().astype(str)), axis=1)\n",
    "flashcards_set[\"Back\"] = flashcards_set[flashcards_set.columns[2:4]].apply(lambda x: ''.join(x.dropna().astype(str)), axis=1)\n",
    "\n",
    "flashcards_set = flashcards_set[[\"Front\", \"Back\"]]\n",
    "flashcards_set"
   ],
   "metadata": {
    "collapsed": false
   }
  },
  {
   "cell_type": "markdown",
   "source": [
    "Now we will add the deck name to the dataframe"
   ],
   "metadata": {
    "collapsed": false
   }
  },
  {
   "cell_type": "code",
   "execution_count": null,
   "outputs": [],
   "source": [
    "all_cards = pd.DataFrame(col.cards['cdeck'])\n",
    "all_cards"
   ],
   "metadata": {
    "collapsed": false
   }
  },
  {
   "cell_type": "code",
   "execution_count": null,
   "outputs": [],
   "source": [
    "flashcards_set = pd.merge(flashcards_set, all_cards, left_on=flashcards_set.index, right_on=all_cards.index)\n",
    "flashcards_set"
   ],
   "metadata": {
    "collapsed": false
   }
  },
  {
   "cell_type": "markdown",
   "source": [
    "The following line changes the working directory in oder export the csv file in the respective folder (has to be updated for each user)"
   ],
   "metadata": {
    "collapsed": false
   }
  },
  {
   "cell_type": "code",
   "execution_count": null,
   "outputs": [],
   "source": [
    "#os.chdir(\"./GitHub/ankinator-flashcard-models/datasets\")"
   ],
   "metadata": {
    "collapsed": false
   }
  },
  {
   "cell_type": "markdown",
   "source": [
    "Now the flashcards are stored as a csv file."
   ],
   "metadata": {
    "collapsed": false
   }
  },
  {
   "cell_type": "code",
   "execution_count": null,
   "outputs": [],
   "source": [
    "flashcards_set.to_csv('./datasets/flashcards.csv', encoding='utf-8')"
   ],
   "metadata": {
    "collapsed": false
   }
  }
 ],
 "metadata": {
  "kernelspec": {
   "display_name": "Python 3",
   "language": "python",
   "name": "python3"
  },
  "language_info": {
   "codemirror_mode": {
    "name": "ipython",
    "version": 2
   },
   "file_extension": ".py",
   "mimetype": "text/x-python",
   "name": "python",
   "nbconvert_exporter": "python",
   "pygments_lexer": "ipython2",
   "version": "2.7.6"
  }
 },
 "nbformat": 4,
 "nbformat_minor": 0
}
