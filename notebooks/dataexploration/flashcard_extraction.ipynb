{
 "cells": [
  {
   "cell_type": "code",
   "execution_count": 1,
   "outputs": [
    {
     "name": "stdout",
     "output_type": "stream",
     "text": [
      "/Users/I516258/Documents/GitHub/ankinator-flashcard-models\n"
     ]
    }
   ],
   "source": [
    "import sys\n",
    "sys.path.append(\"../../\")\n",
    "%cd ../../"
   ],
   "metadata": {
    "collapsed": false
   }
  },
  {
   "cell_type": "markdown",
   "source": [
    "# Extraction of Anki flashcards as csv\n",
    "This notebook will extract all Anki flashcards into a csv file for further preprocessing and ultimately training of the model."
   ],
   "metadata": {
    "collapsed": false
   }
  },
  {
   "cell_type": "code",
   "execution_count": 2,
   "outputs": [],
   "source": [
    "#Imports\n",
    "from ankipandas import Collection\n",
    "import pandas as pd\n",
    "import os"
   ],
   "metadata": {
    "collapsed": false
   }
  },
  {
   "cell_type": "code",
   "execution_count": 3,
   "outputs": [
    {
     "name": "stderr",
     "output_type": "stream",
     "text": [
      "\u001B[32mINFO: Database found at '/Users/I516258/Library/Application Support/Anki2/Ankinator/collection.anki2'.\u001B[0m\n"
     ]
    },
    {
     "data": {
      "text/plain": "                    nguid        nmod  nusn ntags       nmodel  \\\nnid                                                              \n1390319421487  w6UeuV)f!s  1390319485    -1    []  Basic-ba62a   \n1390319485342  t]x%*09S]s  1390319607    -1    []  Basic-ba62a   \n1390319607681  oZ.OF7`R;T  1390319686    -1    []  Basic-ba62a   \n1390319686841  bL%$,R~,%g  1390319816    -1    []  Basic-ba62a   \n1393853787833  FpwIY7^`(z  1393853821    -1    []  Basic-ba62a   \n...                   ...         ...   ...   ...          ...   \n1666621607498  f_S+Ff7T0w  1666621607    -1    []  Basic-081d0   \n1666621885435  NShvEu7:9|  1666621885    -1    []  Basic-081d0   \n1666627163918  i6O!MACKh9  1666627163    -1    []  Basic-081d0   \n1666628126743  le/?Eq|Za;  1666628126    -1    []  Basic-081d0   \n1666640852028  D4;|5D[I6x  1666640852    -1    []  Basic-081d0   \n\n                                                      nfld_Front  \\\nnid                                                                \n1390319421487                What is the Scrum process Framework   \n1390319485342                        What are the roles in scrum   \n1390319607681                       What are the events in Scrum   \n1390319686841                    What are the artifacts in Scrum   \n1393853787833          What's the main role of the Product Owner   \n...                                                          ...   \n1666621607498  How are cost plus and fixed fee contracts diff...   \n1666621885435        When is quality assessed in Agile projects?   \n1666627163918  &nbsp;<span style=\"color: rgb(51, 51, 51); fon...   \n1666628126743                       Agile Team Responsibilities?   \n1666640852028        What does it mean to use the budgeted rate?   \n\n                                                       nfld_Back nfld_Text  \\\nnid                                                                          \n1390319421487  <ul>\\n<li>Transparency</li>\\n<li>Inspection</l...             \n1390319485342  <ul>\\n<li>Product Owner (PO)</li>\\n<li>Scrum M...             \n1390319607681  <ul>\\n<li>Sprint Planning</li>\\n<li>Daily Scru...             \n1390319686841  <ul>\\n<li>Product Backlog</li>\\n<li>Product Bu...             \n1393853787833  Translate the business needs in the product ba...             \n...                                                          ...       ...   \n1666621607498  Cost plus is good for evolving work<div><br></...             \n1666621885435  Frequently, through built-in steps throughout ...             \n1666627163918  <div>Inform them that this is known as a plann...             \n1666628126743  Product Owner - represents customers, accounta...             \n1666640852028  Variances atypical - this means use the EAC fo...             \n\n              nfld_Extra nfld_Ref nfld_Credit nfld_extra nfld_Add Reverse  \\\nnid                                                                         \n1390319421487                                                               \n1390319485342                                                               \n1390319607681                                                               \n1390319686841                                                               \n1393853787833                                                               \n...                  ...      ...         ...        ...              ...   \n1666621607498                                                               \n1666621885435                                                               \n1666627163918                                                               \n1666628126743                                                               \n1666640852028                                                               \n\n              nfld_Back Extra  \nnid                            \n1390319421487                  \n1390319485342                  \n1390319607681                  \n1390319686841                  \n1393853787833                  \n...                       ...  \n1666621607498                  \n1666621885435                  \n1666627163918                  \n1666628126743                  \n1666640852028                  \n\n[4632 rows x 14 columns]",
      "text/html": "<div>\n<style scoped>\n    .dataframe tbody tr th:only-of-type {\n        vertical-align: middle;\n    }\n\n    .dataframe tbody tr th {\n        vertical-align: top;\n    }\n\n    .dataframe thead th {\n        text-align: right;\n    }\n</style>\n<table border=\"1\" class=\"dataframe\">\n  <thead>\n    <tr style=\"text-align: right;\">\n      <th></th>\n      <th>nguid</th>\n      <th>nmod</th>\n      <th>nusn</th>\n      <th>ntags</th>\n      <th>nmodel</th>\n      <th>nfld_Front</th>\n      <th>nfld_Back</th>\n      <th>nfld_Text</th>\n      <th>nfld_Extra</th>\n      <th>nfld_Ref</th>\n      <th>nfld_Credit</th>\n      <th>nfld_extra</th>\n      <th>nfld_Add Reverse</th>\n      <th>nfld_Back Extra</th>\n    </tr>\n    <tr>\n      <th>nid</th>\n      <th></th>\n      <th></th>\n      <th></th>\n      <th></th>\n      <th></th>\n      <th></th>\n      <th></th>\n      <th></th>\n      <th></th>\n      <th></th>\n      <th></th>\n      <th></th>\n      <th></th>\n      <th></th>\n    </tr>\n  </thead>\n  <tbody>\n    <tr>\n      <th>1390319421487</th>\n      <td>w6UeuV)f!s</td>\n      <td>1390319485</td>\n      <td>-1</td>\n      <td>[]</td>\n      <td>Basic-ba62a</td>\n      <td>What is the Scrum process Framework</td>\n      <td>&lt;ul&gt;\\n&lt;li&gt;Transparency&lt;/li&gt;\\n&lt;li&gt;Inspection&lt;/l...</td>\n      <td></td>\n      <td></td>\n      <td></td>\n      <td></td>\n      <td></td>\n      <td></td>\n      <td></td>\n    </tr>\n    <tr>\n      <th>1390319485342</th>\n      <td>t]x%*09S]s</td>\n      <td>1390319607</td>\n      <td>-1</td>\n      <td>[]</td>\n      <td>Basic-ba62a</td>\n      <td>What are the roles in scrum</td>\n      <td>&lt;ul&gt;\\n&lt;li&gt;Product Owner (PO)&lt;/li&gt;\\n&lt;li&gt;Scrum M...</td>\n      <td></td>\n      <td></td>\n      <td></td>\n      <td></td>\n      <td></td>\n      <td></td>\n      <td></td>\n    </tr>\n    <tr>\n      <th>1390319607681</th>\n      <td>oZ.OF7`R;T</td>\n      <td>1390319686</td>\n      <td>-1</td>\n      <td>[]</td>\n      <td>Basic-ba62a</td>\n      <td>What are the events in Scrum</td>\n      <td>&lt;ul&gt;\\n&lt;li&gt;Sprint Planning&lt;/li&gt;\\n&lt;li&gt;Daily Scru...</td>\n      <td></td>\n      <td></td>\n      <td></td>\n      <td></td>\n      <td></td>\n      <td></td>\n      <td></td>\n    </tr>\n    <tr>\n      <th>1390319686841</th>\n      <td>bL%$,R~,%g</td>\n      <td>1390319816</td>\n      <td>-1</td>\n      <td>[]</td>\n      <td>Basic-ba62a</td>\n      <td>What are the artifacts in Scrum</td>\n      <td>&lt;ul&gt;\\n&lt;li&gt;Product Backlog&lt;/li&gt;\\n&lt;li&gt;Product Bu...</td>\n      <td></td>\n      <td></td>\n      <td></td>\n      <td></td>\n      <td></td>\n      <td></td>\n      <td></td>\n    </tr>\n    <tr>\n      <th>1393853787833</th>\n      <td>FpwIY7^`(z</td>\n      <td>1393853821</td>\n      <td>-1</td>\n      <td>[]</td>\n      <td>Basic-ba62a</td>\n      <td>What's the main role of the Product Owner</td>\n      <td>Translate the business needs in the product ba...</td>\n      <td></td>\n      <td></td>\n      <td></td>\n      <td></td>\n      <td></td>\n      <td></td>\n      <td></td>\n    </tr>\n    <tr>\n      <th>...</th>\n      <td>...</td>\n      <td>...</td>\n      <td>...</td>\n      <td>...</td>\n      <td>...</td>\n      <td>...</td>\n      <td>...</td>\n      <td>...</td>\n      <td>...</td>\n      <td>...</td>\n      <td>...</td>\n      <td>...</td>\n      <td>...</td>\n      <td>...</td>\n    </tr>\n    <tr>\n      <th>1666621607498</th>\n      <td>f_S+Ff7T0w</td>\n      <td>1666621607</td>\n      <td>-1</td>\n      <td>[]</td>\n      <td>Basic-081d0</td>\n      <td>How are cost plus and fixed fee contracts diff...</td>\n      <td>Cost plus is good for evolving work&lt;div&gt;&lt;br&gt;&lt;/...</td>\n      <td></td>\n      <td></td>\n      <td></td>\n      <td></td>\n      <td></td>\n      <td></td>\n      <td></td>\n    </tr>\n    <tr>\n      <th>1666621885435</th>\n      <td>NShvEu7:9|</td>\n      <td>1666621885</td>\n      <td>-1</td>\n      <td>[]</td>\n      <td>Basic-081d0</td>\n      <td>When is quality assessed in Agile projects?</td>\n      <td>Frequently, through built-in steps throughout ...</td>\n      <td></td>\n      <td></td>\n      <td></td>\n      <td></td>\n      <td></td>\n      <td></td>\n      <td></td>\n    </tr>\n    <tr>\n      <th>1666627163918</th>\n      <td>i6O!MACKh9</td>\n      <td>1666627163</td>\n      <td>-1</td>\n      <td>[]</td>\n      <td>Basic-081d0</td>\n      <td>&amp;nbsp;&lt;span style=\"color: rgb(51, 51, 51); fon...</td>\n      <td>&lt;div&gt;Inform them that this is known as a plann...</td>\n      <td></td>\n      <td></td>\n      <td></td>\n      <td></td>\n      <td></td>\n      <td></td>\n      <td></td>\n    </tr>\n    <tr>\n      <th>1666628126743</th>\n      <td>le/?Eq|Za;</td>\n      <td>1666628126</td>\n      <td>-1</td>\n      <td>[]</td>\n      <td>Basic-081d0</td>\n      <td>Agile Team Responsibilities?</td>\n      <td>Product Owner - represents customers, accounta...</td>\n      <td></td>\n      <td></td>\n      <td></td>\n      <td></td>\n      <td></td>\n      <td></td>\n      <td></td>\n    </tr>\n    <tr>\n      <th>1666640852028</th>\n      <td>D4;|5D[I6x</td>\n      <td>1666640852</td>\n      <td>-1</td>\n      <td>[]</td>\n      <td>Basic-081d0</td>\n      <td>What does it mean to use the budgeted rate?</td>\n      <td>Variances atypical - this means use the EAC fo...</td>\n      <td></td>\n      <td></td>\n      <td></td>\n      <td></td>\n      <td></td>\n      <td></td>\n      <td></td>\n    </tr>\n  </tbody>\n</table>\n<p>4632 rows × 14 columns</p>\n</div>"
     },
     "execution_count": 3,
     "metadata": {},
     "output_type": "execute_result"
    }
   ],
   "source": [
    "col = Collection(\"/Users/I516258/Library/Application Support/Anki2/Ankinator\")\n",
    "\n",
    "all_notes = pd.DataFrame(col.notes.fields_as_columns())\n",
    "\n",
    "all_notes"
   ],
   "metadata": {
    "collapsed": false
   }
  },
  {
   "cell_type": "code",
   "execution_count": 4,
   "outputs": [
    {
     "data": {
      "text/plain": "                                                      nfld_Front  \\\nnid                                                                \n1390319421487                What is the Scrum process Framework   \n1390319485342                        What are the roles in scrum   \n1390319607681                       What are the events in Scrum   \n1390319686841                    What are the artifacts in Scrum   \n1393853787833          What's the main role of the Product Owner   \n...                                                          ...   \n1666621607498  How are cost plus and fixed fee contracts diff...   \n1666621885435        When is quality assessed in Agile projects?   \n1666627163918  &nbsp;<span style=\"color: rgb(51, 51, 51); fon...   \n1666628126743                       Agile Team Responsibilities?   \n1666640852028        What does it mean to use the budgeted rate?   \n\n                                                       nfld_Back  \nnid                                                               \n1390319421487  <ul>\\n<li>Transparency</li>\\n<li>Inspection</l...  \n1390319485342  <ul>\\n<li>Product Owner (PO)</li>\\n<li>Scrum M...  \n1390319607681  <ul>\\n<li>Sprint Planning</li>\\n<li>Daily Scru...  \n1390319686841  <ul>\\n<li>Product Backlog</li>\\n<li>Product Bu...  \n1393853787833  Translate the business needs in the product ba...  \n...                                                          ...  \n1666621607498  Cost plus is good for evolving work<div><br></...  \n1666621885435  Frequently, through built-in steps throughout ...  \n1666627163918  <div>Inform them that this is known as a plann...  \n1666628126743  Product Owner - represents customers, accounta...  \n1666640852028  Variances atypical - this means use the EAC fo...  \n\n[4632 rows x 2 columns]",
      "text/html": "<div>\n<style scoped>\n    .dataframe tbody tr th:only-of-type {\n        vertical-align: middle;\n    }\n\n    .dataframe tbody tr th {\n        vertical-align: top;\n    }\n\n    .dataframe thead th {\n        text-align: right;\n    }\n</style>\n<table border=\"1\" class=\"dataframe\">\n  <thead>\n    <tr style=\"text-align: right;\">\n      <th></th>\n      <th>nfld_Front</th>\n      <th>nfld_Back</th>\n    </tr>\n    <tr>\n      <th>nid</th>\n      <th></th>\n      <th></th>\n    </tr>\n  </thead>\n  <tbody>\n    <tr>\n      <th>1390319421487</th>\n      <td>What is the Scrum process Framework</td>\n      <td>&lt;ul&gt;\\n&lt;li&gt;Transparency&lt;/li&gt;\\n&lt;li&gt;Inspection&lt;/l...</td>\n    </tr>\n    <tr>\n      <th>1390319485342</th>\n      <td>What are the roles in scrum</td>\n      <td>&lt;ul&gt;\\n&lt;li&gt;Product Owner (PO)&lt;/li&gt;\\n&lt;li&gt;Scrum M...</td>\n    </tr>\n    <tr>\n      <th>1390319607681</th>\n      <td>What are the events in Scrum</td>\n      <td>&lt;ul&gt;\\n&lt;li&gt;Sprint Planning&lt;/li&gt;\\n&lt;li&gt;Daily Scru...</td>\n    </tr>\n    <tr>\n      <th>1390319686841</th>\n      <td>What are the artifacts in Scrum</td>\n      <td>&lt;ul&gt;\\n&lt;li&gt;Product Backlog&lt;/li&gt;\\n&lt;li&gt;Product Bu...</td>\n    </tr>\n    <tr>\n      <th>1393853787833</th>\n      <td>What's the main role of the Product Owner</td>\n      <td>Translate the business needs in the product ba...</td>\n    </tr>\n    <tr>\n      <th>...</th>\n      <td>...</td>\n      <td>...</td>\n    </tr>\n    <tr>\n      <th>1666621607498</th>\n      <td>How are cost plus and fixed fee contracts diff...</td>\n      <td>Cost plus is good for evolving work&lt;div&gt;&lt;br&gt;&lt;/...</td>\n    </tr>\n    <tr>\n      <th>1666621885435</th>\n      <td>When is quality assessed in Agile projects?</td>\n      <td>Frequently, through built-in steps throughout ...</td>\n    </tr>\n    <tr>\n      <th>1666627163918</th>\n      <td>&amp;nbsp;&lt;span style=\"color: rgb(51, 51, 51); fon...</td>\n      <td>&lt;div&gt;Inform them that this is known as a plann...</td>\n    </tr>\n    <tr>\n      <th>1666628126743</th>\n      <td>Agile Team Responsibilities?</td>\n      <td>Product Owner - represents customers, accounta...</td>\n    </tr>\n    <tr>\n      <th>1666640852028</th>\n      <td>What does it mean to use the budgeted rate?</td>\n      <td>Variances atypical - this means use the EAC fo...</td>\n    </tr>\n  </tbody>\n</table>\n<p>4632 rows × 2 columns</p>\n</div>"
     },
     "execution_count": 4,
     "metadata": {},
     "output_type": "execute_result"
    }
   ],
   "source": [
    "flashcards_set = all_notes[[\"nfld_Front\",\"nfld_Back\"]]\n",
    "#flashcards_set[\"Front\"] = flashcards_set[flashcards_set.columns[0:2]].apply(lambda x: ''.join(x.dropna().astype(str)), axis=1)\n",
    "#flashcards_set[\"Back\"] = flashcards_set[flashcards_set.columns[2:4]].apply(lambda x: ''.join(x.dropna().astype(str)), axis=1)\n",
    "\n",
    "#flashcards_set = flashcards_set[[\"Front\", \"Back\"]]\n",
    "flashcards_set"
   ],
   "metadata": {
    "collapsed": false
   }
  },
  {
   "cell_type": "markdown",
   "source": [
    "Now we will add the deck name to the dataframe"
   ],
   "metadata": {
    "collapsed": false
   }
  },
  {
   "cell_type": "code",
   "execution_count": 5,
   "outputs": [
    {
     "data": {
      "text/plain": "                         nid  cord        cmod  cusn     ctype cqueue  cdue  \\\ncid                                                                           \n1390319485042  1390319421487     0  1422960098    -1  learning    new     1   \n1390319607671  1390319485342     0  1422960098    -1  learning    new     2   \n1390319686841  1390319607681     0  1422960098    -1  learning    new     3   \n1390319816542  1390319686841     0  1422960098    -1  learning    new     4   \n1393853821791  1393853787833     0  1422960098    -1  learning    new     5   \n...                      ...   ...         ...   ...       ...    ...   ...   \n1666621607498  1666621607498     0  1666621607    -1  learning    new   467   \n1666621885435  1666621885435     0  1666621885    -1  learning    new   468   \n1666627163918  1666627163918     0  1666627163    -1  learning    new   469   \n1666628126743  1666628126743     0  1666628126    -1  learning    new   470   \n1666640852028  1666640852028     0  1666640852    -1  learning    new   471   \n\n               civl  cfactor  creps  clapses  cleft  codue  \\\ncid                                                          \n1390319485042     0     2500      0        0   1001      0   \n1390319607671     0     2500      0        0   1001      0   \n1390319686841     0     2500      0        0   1001      0   \n1390319816542     0     2500      0        0   1001      0   \n1393853821791     0     2500      0        0   1001      0   \n...             ...      ...    ...      ...    ...    ...   \n1666621607498     0        0      0        0      0      0   \n1666621885435     0        0      0        0      0      0   \n1666627163918     0        0      0        0      0      0   \n1666628126743     0        0      0        0      0      0   \n1666640852028     0        0      0        0      0      0   \n\n                            cdeck codeck  \ncid                                       \n1390319485042               Scrum         \n1390319607671               Scrum         \n1390319686841               Scrum         \n1390319816542               Scrum         \n1393853821791               Scrum         \n...                           ...    ...  \n1666621607498  Z PMP detail areas         \n1666621885435  Z PMP detail areas         \n1666627163918  Z PMP detail areas         \n1666628126743  Z PMP detail areas         \n1666640852028  Z PMP detail areas         \n\n[4990 rows x 15 columns]",
      "text/html": "<div>\n<style scoped>\n    .dataframe tbody tr th:only-of-type {\n        vertical-align: middle;\n    }\n\n    .dataframe tbody tr th {\n        vertical-align: top;\n    }\n\n    .dataframe thead th {\n        text-align: right;\n    }\n</style>\n<table border=\"1\" class=\"dataframe\">\n  <thead>\n    <tr style=\"text-align: right;\">\n      <th></th>\n      <th>nid</th>\n      <th>cord</th>\n      <th>cmod</th>\n      <th>cusn</th>\n      <th>ctype</th>\n      <th>cqueue</th>\n      <th>cdue</th>\n      <th>civl</th>\n      <th>cfactor</th>\n      <th>creps</th>\n      <th>clapses</th>\n      <th>cleft</th>\n      <th>codue</th>\n      <th>cdeck</th>\n      <th>codeck</th>\n    </tr>\n    <tr>\n      <th>cid</th>\n      <th></th>\n      <th></th>\n      <th></th>\n      <th></th>\n      <th></th>\n      <th></th>\n      <th></th>\n      <th></th>\n      <th></th>\n      <th></th>\n      <th></th>\n      <th></th>\n      <th></th>\n      <th></th>\n      <th></th>\n    </tr>\n  </thead>\n  <tbody>\n    <tr>\n      <th>1390319485042</th>\n      <td>1390319421487</td>\n      <td>0</td>\n      <td>1422960098</td>\n      <td>-1</td>\n      <td>learning</td>\n      <td>new</td>\n      <td>1</td>\n      <td>0</td>\n      <td>2500</td>\n      <td>0</td>\n      <td>0</td>\n      <td>1001</td>\n      <td>0</td>\n      <td>Scrum</td>\n      <td></td>\n    </tr>\n    <tr>\n      <th>1390319607671</th>\n      <td>1390319485342</td>\n      <td>0</td>\n      <td>1422960098</td>\n      <td>-1</td>\n      <td>learning</td>\n      <td>new</td>\n      <td>2</td>\n      <td>0</td>\n      <td>2500</td>\n      <td>0</td>\n      <td>0</td>\n      <td>1001</td>\n      <td>0</td>\n      <td>Scrum</td>\n      <td></td>\n    </tr>\n    <tr>\n      <th>1390319686841</th>\n      <td>1390319607681</td>\n      <td>0</td>\n      <td>1422960098</td>\n      <td>-1</td>\n      <td>learning</td>\n      <td>new</td>\n      <td>3</td>\n      <td>0</td>\n      <td>2500</td>\n      <td>0</td>\n      <td>0</td>\n      <td>1001</td>\n      <td>0</td>\n      <td>Scrum</td>\n      <td></td>\n    </tr>\n    <tr>\n      <th>1390319816542</th>\n      <td>1390319686841</td>\n      <td>0</td>\n      <td>1422960098</td>\n      <td>-1</td>\n      <td>learning</td>\n      <td>new</td>\n      <td>4</td>\n      <td>0</td>\n      <td>2500</td>\n      <td>0</td>\n      <td>0</td>\n      <td>1001</td>\n      <td>0</td>\n      <td>Scrum</td>\n      <td></td>\n    </tr>\n    <tr>\n      <th>1393853821791</th>\n      <td>1393853787833</td>\n      <td>0</td>\n      <td>1422960098</td>\n      <td>-1</td>\n      <td>learning</td>\n      <td>new</td>\n      <td>5</td>\n      <td>0</td>\n      <td>2500</td>\n      <td>0</td>\n      <td>0</td>\n      <td>1001</td>\n      <td>0</td>\n      <td>Scrum</td>\n      <td></td>\n    </tr>\n    <tr>\n      <th>...</th>\n      <td>...</td>\n      <td>...</td>\n      <td>...</td>\n      <td>...</td>\n      <td>...</td>\n      <td>...</td>\n      <td>...</td>\n      <td>...</td>\n      <td>...</td>\n      <td>...</td>\n      <td>...</td>\n      <td>...</td>\n      <td>...</td>\n      <td>...</td>\n      <td>...</td>\n    </tr>\n    <tr>\n      <th>1666621607498</th>\n      <td>1666621607498</td>\n      <td>0</td>\n      <td>1666621607</td>\n      <td>-1</td>\n      <td>learning</td>\n      <td>new</td>\n      <td>467</td>\n      <td>0</td>\n      <td>0</td>\n      <td>0</td>\n      <td>0</td>\n      <td>0</td>\n      <td>0</td>\n      <td>Z PMP detail areas</td>\n      <td></td>\n    </tr>\n    <tr>\n      <th>1666621885435</th>\n      <td>1666621885435</td>\n      <td>0</td>\n      <td>1666621885</td>\n      <td>-1</td>\n      <td>learning</td>\n      <td>new</td>\n      <td>468</td>\n      <td>0</td>\n      <td>0</td>\n      <td>0</td>\n      <td>0</td>\n      <td>0</td>\n      <td>0</td>\n      <td>Z PMP detail areas</td>\n      <td></td>\n    </tr>\n    <tr>\n      <th>1666627163918</th>\n      <td>1666627163918</td>\n      <td>0</td>\n      <td>1666627163</td>\n      <td>-1</td>\n      <td>learning</td>\n      <td>new</td>\n      <td>469</td>\n      <td>0</td>\n      <td>0</td>\n      <td>0</td>\n      <td>0</td>\n      <td>0</td>\n      <td>0</td>\n      <td>Z PMP detail areas</td>\n      <td></td>\n    </tr>\n    <tr>\n      <th>1666628126743</th>\n      <td>1666628126743</td>\n      <td>0</td>\n      <td>1666628126</td>\n      <td>-1</td>\n      <td>learning</td>\n      <td>new</td>\n      <td>470</td>\n      <td>0</td>\n      <td>0</td>\n      <td>0</td>\n      <td>0</td>\n      <td>0</td>\n      <td>0</td>\n      <td>Z PMP detail areas</td>\n      <td></td>\n    </tr>\n    <tr>\n      <th>1666640852028</th>\n      <td>1666640852028</td>\n      <td>0</td>\n      <td>1666640852</td>\n      <td>-1</td>\n      <td>learning</td>\n      <td>new</td>\n      <td>471</td>\n      <td>0</td>\n      <td>0</td>\n      <td>0</td>\n      <td>0</td>\n      <td>0</td>\n      <td>0</td>\n      <td>Z PMP detail areas</td>\n      <td></td>\n    </tr>\n  </tbody>\n</table>\n<p>4990 rows × 15 columns</p>\n</div>"
     },
     "execution_count": 5,
     "metadata": {},
     "output_type": "execute_result"
    }
   ],
   "source": [
    "col.cards"
   ],
   "metadata": {
    "collapsed": false
   }
  },
  {
   "cell_type": "code",
   "execution_count": 6,
   "outputs": [
    {
     "data": {
      "text/plain": "                         nid               cdeck\ncid                                             \n1390319485042  1390319421487               Scrum\n1390319607671  1390319485342               Scrum\n1390319686841  1390319607681               Scrum\n1390319816542  1390319686841               Scrum\n1393853821791  1393853787833               Scrum\n...                      ...                 ...\n1666621607498  1666621607498  Z PMP detail areas\n1666621885435  1666621885435  Z PMP detail areas\n1666627163918  1666627163918  Z PMP detail areas\n1666628126743  1666628126743  Z PMP detail areas\n1666640852028  1666640852028  Z PMP detail areas\n\n[4990 rows x 2 columns]",
      "text/html": "<div>\n<style scoped>\n    .dataframe tbody tr th:only-of-type {\n        vertical-align: middle;\n    }\n\n    .dataframe tbody tr th {\n        vertical-align: top;\n    }\n\n    .dataframe thead th {\n        text-align: right;\n    }\n</style>\n<table border=\"1\" class=\"dataframe\">\n  <thead>\n    <tr style=\"text-align: right;\">\n      <th></th>\n      <th>nid</th>\n      <th>cdeck</th>\n    </tr>\n    <tr>\n      <th>cid</th>\n      <th></th>\n      <th></th>\n    </tr>\n  </thead>\n  <tbody>\n    <tr>\n      <th>1390319485042</th>\n      <td>1390319421487</td>\n      <td>Scrum</td>\n    </tr>\n    <tr>\n      <th>1390319607671</th>\n      <td>1390319485342</td>\n      <td>Scrum</td>\n    </tr>\n    <tr>\n      <th>1390319686841</th>\n      <td>1390319607681</td>\n      <td>Scrum</td>\n    </tr>\n    <tr>\n      <th>1390319816542</th>\n      <td>1390319686841</td>\n      <td>Scrum</td>\n    </tr>\n    <tr>\n      <th>1393853821791</th>\n      <td>1393853787833</td>\n      <td>Scrum</td>\n    </tr>\n    <tr>\n      <th>...</th>\n      <td>...</td>\n      <td>...</td>\n    </tr>\n    <tr>\n      <th>1666621607498</th>\n      <td>1666621607498</td>\n      <td>Z PMP detail areas</td>\n    </tr>\n    <tr>\n      <th>1666621885435</th>\n      <td>1666621885435</td>\n      <td>Z PMP detail areas</td>\n    </tr>\n    <tr>\n      <th>1666627163918</th>\n      <td>1666627163918</td>\n      <td>Z PMP detail areas</td>\n    </tr>\n    <tr>\n      <th>1666628126743</th>\n      <td>1666628126743</td>\n      <td>Z PMP detail areas</td>\n    </tr>\n    <tr>\n      <th>1666640852028</th>\n      <td>1666640852028</td>\n      <td>Z PMP detail areas</td>\n    </tr>\n  </tbody>\n</table>\n<p>4990 rows × 2 columns</p>\n</div>"
     },
     "execution_count": 6,
     "metadata": {},
     "output_type": "execute_result"
    }
   ],
   "source": [
    "all_cards = pd.DataFrame(col.cards[['nid','cdeck']])\n",
    "all_cards"
   ],
   "metadata": {
    "collapsed": false
   }
  },
  {
   "cell_type": "code",
   "execution_count": 7,
   "outputs": [
    {
     "data": {
      "text/plain": "                                             nfld_Front  \\\n0                   What is the Scrum process Framework   \n1                           What are the roles in scrum   \n2                          What are the events in Scrum   \n3                       What are the artifacts in Scrum   \n4             What's the main role of the Product Owner   \n...                                                 ...   \n4985  How are cost plus and fixed fee contracts diff...   \n4986        When is quality assessed in Agile projects?   \n4987  &nbsp;<span style=\"color: rgb(51, 51, 51); fon...   \n4988                       Agile Team Responsibilities?   \n4989        What does it mean to use the budgeted rate?   \n\n                                              nfld_Back            nid  \\\n0     <ul>\\n<li>Transparency</li>\\n<li>Inspection</l...  1390319421487   \n1     <ul>\\n<li>Product Owner (PO)</li>\\n<li>Scrum M...  1390319485342   \n2     <ul>\\n<li>Sprint Planning</li>\\n<li>Daily Scru...  1390319607681   \n3     <ul>\\n<li>Product Backlog</li>\\n<li>Product Bu...  1390319686841   \n4     Translate the business needs in the product ba...  1393853787833   \n...                                                 ...            ...   \n4985  Cost plus is good for evolving work<div><br></...  1666621607498   \n4986  Frequently, through built-in steps throughout ...  1666621885435   \n4987  <div>Inform them that this is known as a plann...  1666627163918   \n4988  Product Owner - represents customers, accounta...  1666628126743   \n4989  Variances atypical - this means use the EAC fo...  1666640852028   \n\n                   cdeck  \n0                  Scrum  \n1                  Scrum  \n2                  Scrum  \n3                  Scrum  \n4                  Scrum  \n...                  ...  \n4985  Z PMP detail areas  \n4986  Z PMP detail areas  \n4987  Z PMP detail areas  \n4988  Z PMP detail areas  \n4989  Z PMP detail areas  \n\n[4990 rows x 4 columns]",
      "text/html": "<div>\n<style scoped>\n    .dataframe tbody tr th:only-of-type {\n        vertical-align: middle;\n    }\n\n    .dataframe tbody tr th {\n        vertical-align: top;\n    }\n\n    .dataframe thead th {\n        text-align: right;\n    }\n</style>\n<table border=\"1\" class=\"dataframe\">\n  <thead>\n    <tr style=\"text-align: right;\">\n      <th></th>\n      <th>nfld_Front</th>\n      <th>nfld_Back</th>\n      <th>nid</th>\n      <th>cdeck</th>\n    </tr>\n  </thead>\n  <tbody>\n    <tr>\n      <th>0</th>\n      <td>What is the Scrum process Framework</td>\n      <td>&lt;ul&gt;\\n&lt;li&gt;Transparency&lt;/li&gt;\\n&lt;li&gt;Inspection&lt;/l...</td>\n      <td>1390319421487</td>\n      <td>Scrum</td>\n    </tr>\n    <tr>\n      <th>1</th>\n      <td>What are the roles in scrum</td>\n      <td>&lt;ul&gt;\\n&lt;li&gt;Product Owner (PO)&lt;/li&gt;\\n&lt;li&gt;Scrum M...</td>\n      <td>1390319485342</td>\n      <td>Scrum</td>\n    </tr>\n    <tr>\n      <th>2</th>\n      <td>What are the events in Scrum</td>\n      <td>&lt;ul&gt;\\n&lt;li&gt;Sprint Planning&lt;/li&gt;\\n&lt;li&gt;Daily Scru...</td>\n      <td>1390319607681</td>\n      <td>Scrum</td>\n    </tr>\n    <tr>\n      <th>3</th>\n      <td>What are the artifacts in Scrum</td>\n      <td>&lt;ul&gt;\\n&lt;li&gt;Product Backlog&lt;/li&gt;\\n&lt;li&gt;Product Bu...</td>\n      <td>1390319686841</td>\n      <td>Scrum</td>\n    </tr>\n    <tr>\n      <th>4</th>\n      <td>What's the main role of the Product Owner</td>\n      <td>Translate the business needs in the product ba...</td>\n      <td>1393853787833</td>\n      <td>Scrum</td>\n    </tr>\n    <tr>\n      <th>...</th>\n      <td>...</td>\n      <td>...</td>\n      <td>...</td>\n      <td>...</td>\n    </tr>\n    <tr>\n      <th>4985</th>\n      <td>How are cost plus and fixed fee contracts diff...</td>\n      <td>Cost plus is good for evolving work&lt;div&gt;&lt;br&gt;&lt;/...</td>\n      <td>1666621607498</td>\n      <td>Z PMP detail areas</td>\n    </tr>\n    <tr>\n      <th>4986</th>\n      <td>When is quality assessed in Agile projects?</td>\n      <td>Frequently, through built-in steps throughout ...</td>\n      <td>1666621885435</td>\n      <td>Z PMP detail areas</td>\n    </tr>\n    <tr>\n      <th>4987</th>\n      <td>&amp;nbsp;&lt;span style=\"color: rgb(51, 51, 51); fon...</td>\n      <td>&lt;div&gt;Inform them that this is known as a plann...</td>\n      <td>1666627163918</td>\n      <td>Z PMP detail areas</td>\n    </tr>\n    <tr>\n      <th>4988</th>\n      <td>Agile Team Responsibilities?</td>\n      <td>Product Owner - represents customers, accounta...</td>\n      <td>1666628126743</td>\n      <td>Z PMP detail areas</td>\n    </tr>\n    <tr>\n      <th>4989</th>\n      <td>What does it mean to use the budgeted rate?</td>\n      <td>Variances atypical - this means use the EAC fo...</td>\n      <td>1666640852028</td>\n      <td>Z PMP detail areas</td>\n    </tr>\n  </tbody>\n</table>\n<p>4990 rows × 4 columns</p>\n</div>"
     },
     "execution_count": 7,
     "metadata": {},
     "output_type": "execute_result"
    }
   ],
   "source": [
    "flashcards_set = pd.merge(flashcards_set, all_cards, left_on=flashcards_set.index, right_on=\"nid\")\n",
    "flashcards_set"
   ],
   "metadata": {
    "collapsed": false
   }
  },
  {
   "cell_type": "markdown",
   "source": [
    "The following line changes the working directory in oder export the csv file in the respective folder (has to be updated for each user)"
   ],
   "metadata": {
    "collapsed": false
   }
  },
  {
   "cell_type": "code",
   "execution_count": 8,
   "outputs": [],
   "source": [
    "#os.chdir(\"./GitHub/ankinator-flashcard-models/datasets\")"
   ],
   "metadata": {
    "collapsed": false
   }
  },
  {
   "cell_type": "markdown",
   "source": [
    "Now the flashcards are stored as a csv file."
   ],
   "metadata": {
    "collapsed": false
   }
  },
  {
   "cell_type": "code",
   "execution_count": 9,
   "outputs": [],
   "source": [
    "flashcards_set.to_csv('./datasets/flashcards.csv', encoding='utf-8')"
   ],
   "metadata": {
    "collapsed": false
   }
  }
 ],
 "metadata": {
  "kernelspec": {
   "display_name": "Python 3",
   "language": "python",
   "name": "python3"
  },
  "language_info": {
   "codemirror_mode": {
    "name": "ipython",
    "version": 2
   },
   "file_extension": ".py",
   "mimetype": "text/x-python",
   "name": "python",
   "nbconvert_exporter": "python",
   "pygments_lexer": "ipython2",
   "version": "2.7.6"
  }
 },
 "nbformat": 4,
 "nbformat_minor": 0
}
