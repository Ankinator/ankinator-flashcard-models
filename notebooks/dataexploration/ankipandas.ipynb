{
 "cells": [
  {
   "cell_type": "code",
   "execution_count": 1,
   "outputs": [
    {
     "name": "stdout",
     "output_type": "stream",
     "text": [
      "/Users/I516258/Documents/GitHub/ankinator-flashcard-models\n"
     ]
    }
   ],
   "source": [
    "import sys\n",
    "sys.path.append(\"../../\")\n",
    "%cd ../../"
   ],
   "metadata": {
    "collapsed": false
   }
  },
  {
   "cell_type": "markdown",
   "source": [
    "# Ankipandas Playground"
   ],
   "metadata": {
    "collapsed": false
   }
  },
  {
   "cell_type": "code",
   "execution_count": 2,
   "metadata": {
    "collapsed": true
   },
   "outputs": [],
   "source": [
    "from ankipandas import Collection"
   ]
  },
  {
   "cell_type": "markdown",
   "source": [
    "In order to use Anki pandas, **_Anki has to be installed on the system_**, as the library connects to the Anki database and can't load an exported anki collection directly"
   ],
   "metadata": {
    "collapsed": false
   }
  },
  {
   "cell_type": "code",
   "execution_count": 3,
   "outputs": [
    {
     "name": "stderr",
     "output_type": "stream",
     "text": [
      "\u001B[32mINFO: Searching for database. This might take some time. You can speed this up by specifying a search path or directly entering the path to your database.\u001B[0m\n",
      "\u001B[33mWARNING: The search will stop at the first hit, so please verify that the result is correct (for example in case there might be more than one Anki installation)\u001B[0m\n"
     ]
    },
    {
     "data": {
      "text/plain": "       AnkiColumn  Table                                        Description  \\\nColumn                                                                        \nnflds        flds  notes  Fields of the card as list. In the raw anki da...   \nnguid        guid  notes  Globally Unique Id, almost certainly used for ...   \nnmod          mod  notes              Modification timestamp, epoch seconds   \nnmodel        NaN  notes                                  Name of the model   \nntags        tags  notes  Tags of the note as list. In the raw anki data...   \nnusn          usn  notes  This column (update sequence number) is used t...   \n\n        Native  Default  \nColumn                   \nnflds     True     True  \nnguid     True     True  \nnmod      True     True  \nnmodel   False     True  \nntags     True     True  \nnusn      True     True  ",
      "text/html": "<div>\n<style scoped>\n    .dataframe tbody tr th:only-of-type {\n        vertical-align: middle;\n    }\n\n    .dataframe tbody tr th {\n        vertical-align: top;\n    }\n\n    .dataframe thead th {\n        text-align: right;\n    }\n</style>\n<table border=\"1\" class=\"dataframe\">\n  <thead>\n    <tr style=\"text-align: right;\">\n      <th></th>\n      <th>AnkiColumn</th>\n      <th>Table</th>\n      <th>Description</th>\n      <th>Native</th>\n      <th>Default</th>\n    </tr>\n    <tr>\n      <th>Column</th>\n      <th></th>\n      <th></th>\n      <th></th>\n      <th></th>\n      <th></th>\n    </tr>\n  </thead>\n  <tbody>\n    <tr>\n      <th>nflds</th>\n      <td>flds</td>\n      <td>notes</td>\n      <td>Fields of the card as list. In the raw anki da...</td>\n      <td>True</td>\n      <td>True</td>\n    </tr>\n    <tr>\n      <th>nguid</th>\n      <td>guid</td>\n      <td>notes</td>\n      <td>Globally Unique Id, almost certainly used for ...</td>\n      <td>True</td>\n      <td>True</td>\n    </tr>\n    <tr>\n      <th>nmod</th>\n      <td>mod</td>\n      <td>notes</td>\n      <td>Modification timestamp, epoch seconds</td>\n      <td>True</td>\n      <td>True</td>\n    </tr>\n    <tr>\n      <th>nmodel</th>\n      <td>NaN</td>\n      <td>notes</td>\n      <td>Name of the model</td>\n      <td>False</td>\n      <td>True</td>\n    </tr>\n    <tr>\n      <th>ntags</th>\n      <td>tags</td>\n      <td>notes</td>\n      <td>Tags of the note as list. In the raw anki data...</td>\n      <td>True</td>\n      <td>True</td>\n    </tr>\n    <tr>\n      <th>nusn</th>\n      <td>usn</td>\n      <td>notes</td>\n      <td>This column (update sequence number) is used t...</td>\n      <td>True</td>\n      <td>True</td>\n    </tr>\n  </tbody>\n</table>\n</div>"
     },
     "execution_count": 3,
     "metadata": {},
     "output_type": "execute_result"
    }
   ],
   "source": [
    "col = Collection()\n",
    "col.notes.help_cols()"
   ],
   "metadata": {
    "collapsed": false
   }
  },
  {
   "cell_type": "markdown",
   "source": [
    "Output of the below column is cleared to prevent data leakage."
   ],
   "metadata": {
    "collapsed": false
   }
  },
  {
   "cell_type": "code",
   "execution_count": 4,
   "outputs": [
    {
     "data": {
      "text/plain": "                    nguid        nmod  nusn  \\\nnid                                           \n1555579337683  F%8*#<wQ]2  1557047990    -1   \n1555579352896  peP`=tAzD@  1557047985    -1   \n1557223191575  E6|k?dR,us  1557223395    -1   \n1557223232204  D}XJ#;r+Wl  1557223378    -1   \n1557223241471  s#g6r,H5:F  1557223412    -1   \n1557223253254  Ow8u8k%.;V  1557223415    -1   \n1557223477417  K$H{Z(GciL  1557223492    -1   \n\n                                             ntags  \\\nnid                                                  \n1555579337683                     [other_test_tag]   \n1555579352896                      [some_test_tag]   \n1557223191575   [adjective, english, german, noun]   \n1557223232204              [english, german, noun]   \n1557223241471  [adjective, color, english, german]   \n1557223253254  [adjective, color, english, german]   \n1557223477417                                   []   \n\n                                                           nflds  \\\nnid                                                                \n1555579337683                        [Basic: Front, Basic: Back]   \n1555579352896  [Basic with reversed card: Front, Basic with r...   \n1557223191575                                        [Car, Auto]   \n1557223232204                                       [Tree, Baum]   \n1557223241471                                      [White, Weiß]   \n1557223253254                                      [Green, Grün]   \n1557223477417                        [No tag front, No tag back]   \n\n                                  nmodel  \nnid                                       \n1555579337683                      Basic  \n1555579352896  Basic (and reversed card)  \n1557223191575  Basic (and reversed card)  \n1557223232204  Basic (and reversed card)  \n1557223241471  Basic (and reversed card)  \n1557223253254  Basic (and reversed card)  \n1557223477417                      Basic  ",
      "text/html": "<div>\n<style scoped>\n    .dataframe tbody tr th:only-of-type {\n        vertical-align: middle;\n    }\n\n    .dataframe tbody tr th {\n        vertical-align: top;\n    }\n\n    .dataframe thead th {\n        text-align: right;\n    }\n</style>\n<table border=\"1\" class=\"dataframe\">\n  <thead>\n    <tr style=\"text-align: right;\">\n      <th></th>\n      <th>nguid</th>\n      <th>nmod</th>\n      <th>nusn</th>\n      <th>ntags</th>\n      <th>nflds</th>\n      <th>nmodel</th>\n    </tr>\n    <tr>\n      <th>nid</th>\n      <th></th>\n      <th></th>\n      <th></th>\n      <th></th>\n      <th></th>\n      <th></th>\n    </tr>\n  </thead>\n  <tbody>\n    <tr>\n      <th>1555579337683</th>\n      <td>F%8*#&lt;wQ]2</td>\n      <td>1557047990</td>\n      <td>-1</td>\n      <td>[other_test_tag]</td>\n      <td>[Basic: Front, Basic: Back]</td>\n      <td>Basic</td>\n    </tr>\n    <tr>\n      <th>1555579352896</th>\n      <td>peP`=tAzD@</td>\n      <td>1557047985</td>\n      <td>-1</td>\n      <td>[some_test_tag]</td>\n      <td>[Basic with reversed card: Front, Basic with r...</td>\n      <td>Basic (and reversed card)</td>\n    </tr>\n    <tr>\n      <th>1557223191575</th>\n      <td>E6|k?dR,us</td>\n      <td>1557223395</td>\n      <td>-1</td>\n      <td>[adjective, english, german, noun]</td>\n      <td>[Car, Auto]</td>\n      <td>Basic (and reversed card)</td>\n    </tr>\n    <tr>\n      <th>1557223232204</th>\n      <td>D}XJ#;r+Wl</td>\n      <td>1557223378</td>\n      <td>-1</td>\n      <td>[english, german, noun]</td>\n      <td>[Tree, Baum]</td>\n      <td>Basic (and reversed card)</td>\n    </tr>\n    <tr>\n      <th>1557223241471</th>\n      <td>s#g6r,H5:F</td>\n      <td>1557223412</td>\n      <td>-1</td>\n      <td>[adjective, color, english, german]</td>\n      <td>[White, Weiß]</td>\n      <td>Basic (and reversed card)</td>\n    </tr>\n    <tr>\n      <th>1557223253254</th>\n      <td>Ow8u8k%.;V</td>\n      <td>1557223415</td>\n      <td>-1</td>\n      <td>[adjective, color, english, german]</td>\n      <td>[Green, Grün]</td>\n      <td>Basic (and reversed card)</td>\n    </tr>\n    <tr>\n      <th>1557223477417</th>\n      <td>K$H{Z(GciL</td>\n      <td>1557223492</td>\n      <td>-1</td>\n      <td>[]</td>\n      <td>[No tag front, No tag back]</td>\n      <td>Basic</td>\n    </tr>\n  </tbody>\n</table>\n</div>"
     },
     "execution_count": 4,
     "metadata": {},
     "output_type": "execute_result"
    }
   ],
   "source": [
    "col.notes"
   ],
   "metadata": {
    "collapsed": false
   }
  },
  {
   "cell_type": "code",
   "execution_count": 5,
   "outputs": [
    {
     "data": {
      "text/plain": "        AnkiColumn  Table                                        Description  \\\nColumn                                                                         \ncdeck          NaN  cards                           Name of the current deck   \ncdue           due  cards  Due is used differently for different card typ...   \ncfactor     factor  cards  The new ease factor of the card in permille (p...   \ncivl           ivl  cards  The new interval that the card was pushed to a...   \nclapses     lapses  cards  The number of times the card went from a \"was ...   \ncleft         left  cards  Of the form ``a*1000+b``, with: ``b`` the numb...   \ncmod           mod  cards                  Modification time [epoch seconds]   \ncodeck         NaN  cards  Original deck: only used when the card is curr...   \ncodue         odue  cards  Original due: only used when the card is curre...   \ncord           ord  cards  Identifies which of the card templates the car...   \ncqueue       queue  cards  Can take the value ‘sched buried’, ‘user burie...   \ncreps         reps  cards                                  Number of reviews   \nctype         type  cards  Can take the values ‘learning’, ‘review’, ‘rel...   \ncusn           usn  cards  This column (update sequence number) is used t...   \nnid             id  notes  ID of the note (this corresponds to a epoch mi...   \nnid            nid  cards  ID of the note (this corresponds to a epoch mi...   \n\n         Native  Default  \nColumn                    \ncdeck     False     True  \ncdue       True     True  \ncfactor    True     True  \ncivl       True     True  \nclapses    True     True  \ncleft      True     True  \ncmod       True     True  \ncodeck    False     True  \ncodue      True     True  \ncord       True     True  \ncqueue     True     True  \ncreps      True     True  \nctype      True     True  \ncusn       True     True  \nnid        True     True  \nnid        True     True  ",
      "text/html": "<div>\n<style scoped>\n    .dataframe tbody tr th:only-of-type {\n        vertical-align: middle;\n    }\n\n    .dataframe tbody tr th {\n        vertical-align: top;\n    }\n\n    .dataframe thead th {\n        text-align: right;\n    }\n</style>\n<table border=\"1\" class=\"dataframe\">\n  <thead>\n    <tr style=\"text-align: right;\">\n      <th></th>\n      <th>AnkiColumn</th>\n      <th>Table</th>\n      <th>Description</th>\n      <th>Native</th>\n      <th>Default</th>\n    </tr>\n    <tr>\n      <th>Column</th>\n      <th></th>\n      <th></th>\n      <th></th>\n      <th></th>\n      <th></th>\n    </tr>\n  </thead>\n  <tbody>\n    <tr>\n      <th>cdeck</th>\n      <td>NaN</td>\n      <td>cards</td>\n      <td>Name of the current deck</td>\n      <td>False</td>\n      <td>True</td>\n    </tr>\n    <tr>\n      <th>cdue</th>\n      <td>due</td>\n      <td>cards</td>\n      <td>Due is used differently for different card typ...</td>\n      <td>True</td>\n      <td>True</td>\n    </tr>\n    <tr>\n      <th>cfactor</th>\n      <td>factor</td>\n      <td>cards</td>\n      <td>The new ease factor of the card in permille (p...</td>\n      <td>True</td>\n      <td>True</td>\n    </tr>\n    <tr>\n      <th>civl</th>\n      <td>ivl</td>\n      <td>cards</td>\n      <td>The new interval that the card was pushed to a...</td>\n      <td>True</td>\n      <td>True</td>\n    </tr>\n    <tr>\n      <th>clapses</th>\n      <td>lapses</td>\n      <td>cards</td>\n      <td>The number of times the card went from a \"was ...</td>\n      <td>True</td>\n      <td>True</td>\n    </tr>\n    <tr>\n      <th>cleft</th>\n      <td>left</td>\n      <td>cards</td>\n      <td>Of the form ``a*1000+b``, with: ``b`` the numb...</td>\n      <td>True</td>\n      <td>True</td>\n    </tr>\n    <tr>\n      <th>cmod</th>\n      <td>mod</td>\n      <td>cards</td>\n      <td>Modification time [epoch seconds]</td>\n      <td>True</td>\n      <td>True</td>\n    </tr>\n    <tr>\n      <th>codeck</th>\n      <td>NaN</td>\n      <td>cards</td>\n      <td>Original deck: only used when the card is curr...</td>\n      <td>False</td>\n      <td>True</td>\n    </tr>\n    <tr>\n      <th>codue</th>\n      <td>odue</td>\n      <td>cards</td>\n      <td>Original due: only used when the card is curre...</td>\n      <td>True</td>\n      <td>True</td>\n    </tr>\n    <tr>\n      <th>cord</th>\n      <td>ord</td>\n      <td>cards</td>\n      <td>Identifies which of the card templates the car...</td>\n      <td>True</td>\n      <td>True</td>\n    </tr>\n    <tr>\n      <th>cqueue</th>\n      <td>queue</td>\n      <td>cards</td>\n      <td>Can take the value ‘sched buried’, ‘user burie...</td>\n      <td>True</td>\n      <td>True</td>\n    </tr>\n    <tr>\n      <th>creps</th>\n      <td>reps</td>\n      <td>cards</td>\n      <td>Number of reviews</td>\n      <td>True</td>\n      <td>True</td>\n    </tr>\n    <tr>\n      <th>ctype</th>\n      <td>type</td>\n      <td>cards</td>\n      <td>Can take the values ‘learning’, ‘review’, ‘rel...</td>\n      <td>True</td>\n      <td>True</td>\n    </tr>\n    <tr>\n      <th>cusn</th>\n      <td>usn</td>\n      <td>cards</td>\n      <td>This column (update sequence number) is used t...</td>\n      <td>True</td>\n      <td>True</td>\n    </tr>\n    <tr>\n      <th>nid</th>\n      <td>id</td>\n      <td>notes</td>\n      <td>ID of the note (this corresponds to a epoch mi...</td>\n      <td>True</td>\n      <td>True</td>\n    </tr>\n    <tr>\n      <th>nid</th>\n      <td>nid</td>\n      <td>cards</td>\n      <td>ID of the note (this corresponds to a epoch mi...</td>\n      <td>True</td>\n      <td>True</td>\n    </tr>\n  </tbody>\n</table>\n</div>"
     },
     "execution_count": 5,
     "metadata": {},
     "output_type": "execute_result"
    }
   ],
   "source": [
    "col.cards.help_cols()"
   ],
   "metadata": {
    "collapsed": false
   }
  },
  {
   "cell_type": "code",
   "execution_count": 6,
   "outputs": [
    {
     "data": {
      "text/plain": "                         nid  cord        cmod  cusn     ctype cqueue  cdue  \\\ncid                                                                           \n1555579345401  1555579337683     0  1556706368    -1   relearn    due    17   \n1555579360345  1555579352896     0  1556706369    -1   relearn    due    16   \n1555579360346  1555579352896     1  1556706365    -1   relearn    due    18   \n1557223232194  1557223191575     0  1557223306    -1  learning    new     3   \n1557223232196  1557223191575     1  1557223306    -1  learning    new     3   \n1557223241467  1557223232204     0  1557223306    -1  learning    new     4   \n1557223241468  1557223232204     1  1557223306    -1  learning    new     4   \n1557223253246  1557223241471     0  1557223306    -1  learning    new     5   \n1557223253247  1557223241471     1  1557223306    -1  learning    new     5   \n1557223259714  1557223253254     0  1557223306    -1  learning    new     6   \n1557223259715  1557223253254     1  1557223306    -1  learning    new     6   \n1557223492715  1557223477417     0  1557223492    -1  learning    new     7   \n\n               civl  cfactor  creps  clapses  cleft  codue          cdeck  \\\ncid                                                                         \n1555579345401     4     2500      2        0   1001      0        Testing   \n1555579360345     3     2500      3        0   1001      0        Testing   \n1555579360346     5     2500      1        0   2002      0        Testing   \n1557223232194     0        0      0        0      0      0  EnglishGerman   \n1557223232196     0        0      0        0      0      0  EnglishGerman   \n1557223241467     0        0      0        0      0      0  EnglishGerman   \n1557223241468     0        0      0        0      0      0  EnglishGerman   \n1557223253246     0        0      0        0      0      0  EnglishGerman   \n1557223253247     0        0      0        0      0      0  EnglishGerman   \n1557223259714     0        0      0        0      0      0  EnglishGerman   \n1557223259715     0        0      0        0      0      0  EnglishGerman   \n1557223492715     0        0      0        0      0      0        Testing   \n\n              codeck  \ncid                   \n1555579345401         \n1555579360345         \n1555579360346         \n1557223232194         \n1557223232196         \n1557223241467         \n1557223241468         \n1557223253246         \n1557223253247         \n1557223259714         \n1557223259715         \n1557223492715         ",
      "text/html": "<div>\n<style scoped>\n    .dataframe tbody tr th:only-of-type {\n        vertical-align: middle;\n    }\n\n    .dataframe tbody tr th {\n        vertical-align: top;\n    }\n\n    .dataframe thead th {\n        text-align: right;\n    }\n</style>\n<table border=\"1\" class=\"dataframe\">\n  <thead>\n    <tr style=\"text-align: right;\">\n      <th></th>\n      <th>nid</th>\n      <th>cord</th>\n      <th>cmod</th>\n      <th>cusn</th>\n      <th>ctype</th>\n      <th>cqueue</th>\n      <th>cdue</th>\n      <th>civl</th>\n      <th>cfactor</th>\n      <th>creps</th>\n      <th>clapses</th>\n      <th>cleft</th>\n      <th>codue</th>\n      <th>cdeck</th>\n      <th>codeck</th>\n    </tr>\n    <tr>\n      <th>cid</th>\n      <th></th>\n      <th></th>\n      <th></th>\n      <th></th>\n      <th></th>\n      <th></th>\n      <th></th>\n      <th></th>\n      <th></th>\n      <th></th>\n      <th></th>\n      <th></th>\n      <th></th>\n      <th></th>\n      <th></th>\n    </tr>\n  </thead>\n  <tbody>\n    <tr>\n      <th>1555579345401</th>\n      <td>1555579337683</td>\n      <td>0</td>\n      <td>1556706368</td>\n      <td>-1</td>\n      <td>relearn</td>\n      <td>due</td>\n      <td>17</td>\n      <td>4</td>\n      <td>2500</td>\n      <td>2</td>\n      <td>0</td>\n      <td>1001</td>\n      <td>0</td>\n      <td>Testing</td>\n      <td></td>\n    </tr>\n    <tr>\n      <th>1555579360345</th>\n      <td>1555579352896</td>\n      <td>0</td>\n      <td>1556706369</td>\n      <td>-1</td>\n      <td>relearn</td>\n      <td>due</td>\n      <td>16</td>\n      <td>3</td>\n      <td>2500</td>\n      <td>3</td>\n      <td>0</td>\n      <td>1001</td>\n      <td>0</td>\n      <td>Testing</td>\n      <td></td>\n    </tr>\n    <tr>\n      <th>1555579360346</th>\n      <td>1555579352896</td>\n      <td>1</td>\n      <td>1556706365</td>\n      <td>-1</td>\n      <td>relearn</td>\n      <td>due</td>\n      <td>18</td>\n      <td>5</td>\n      <td>2500</td>\n      <td>1</td>\n      <td>0</td>\n      <td>2002</td>\n      <td>0</td>\n      <td>Testing</td>\n      <td></td>\n    </tr>\n    <tr>\n      <th>1557223232194</th>\n      <td>1557223191575</td>\n      <td>0</td>\n      <td>1557223306</td>\n      <td>-1</td>\n      <td>learning</td>\n      <td>new</td>\n      <td>3</td>\n      <td>0</td>\n      <td>0</td>\n      <td>0</td>\n      <td>0</td>\n      <td>0</td>\n      <td>0</td>\n      <td>EnglishGerman</td>\n      <td></td>\n    </tr>\n    <tr>\n      <th>1557223232196</th>\n      <td>1557223191575</td>\n      <td>1</td>\n      <td>1557223306</td>\n      <td>-1</td>\n      <td>learning</td>\n      <td>new</td>\n      <td>3</td>\n      <td>0</td>\n      <td>0</td>\n      <td>0</td>\n      <td>0</td>\n      <td>0</td>\n      <td>0</td>\n      <td>EnglishGerman</td>\n      <td></td>\n    </tr>\n    <tr>\n      <th>1557223241467</th>\n      <td>1557223232204</td>\n      <td>0</td>\n      <td>1557223306</td>\n      <td>-1</td>\n      <td>learning</td>\n      <td>new</td>\n      <td>4</td>\n      <td>0</td>\n      <td>0</td>\n      <td>0</td>\n      <td>0</td>\n      <td>0</td>\n      <td>0</td>\n      <td>EnglishGerman</td>\n      <td></td>\n    </tr>\n    <tr>\n      <th>1557223241468</th>\n      <td>1557223232204</td>\n      <td>1</td>\n      <td>1557223306</td>\n      <td>-1</td>\n      <td>learning</td>\n      <td>new</td>\n      <td>4</td>\n      <td>0</td>\n      <td>0</td>\n      <td>0</td>\n      <td>0</td>\n      <td>0</td>\n      <td>0</td>\n      <td>EnglishGerman</td>\n      <td></td>\n    </tr>\n    <tr>\n      <th>1557223253246</th>\n      <td>1557223241471</td>\n      <td>0</td>\n      <td>1557223306</td>\n      <td>-1</td>\n      <td>learning</td>\n      <td>new</td>\n      <td>5</td>\n      <td>0</td>\n      <td>0</td>\n      <td>0</td>\n      <td>0</td>\n      <td>0</td>\n      <td>0</td>\n      <td>EnglishGerman</td>\n      <td></td>\n    </tr>\n    <tr>\n      <th>1557223253247</th>\n      <td>1557223241471</td>\n      <td>1</td>\n      <td>1557223306</td>\n      <td>-1</td>\n      <td>learning</td>\n      <td>new</td>\n      <td>5</td>\n      <td>0</td>\n      <td>0</td>\n      <td>0</td>\n      <td>0</td>\n      <td>0</td>\n      <td>0</td>\n      <td>EnglishGerman</td>\n      <td></td>\n    </tr>\n    <tr>\n      <th>1557223259714</th>\n      <td>1557223253254</td>\n      <td>0</td>\n      <td>1557223306</td>\n      <td>-1</td>\n      <td>learning</td>\n      <td>new</td>\n      <td>6</td>\n      <td>0</td>\n      <td>0</td>\n      <td>0</td>\n      <td>0</td>\n      <td>0</td>\n      <td>0</td>\n      <td>EnglishGerman</td>\n      <td></td>\n    </tr>\n    <tr>\n      <th>1557223259715</th>\n      <td>1557223253254</td>\n      <td>1</td>\n      <td>1557223306</td>\n      <td>-1</td>\n      <td>learning</td>\n      <td>new</td>\n      <td>6</td>\n      <td>0</td>\n      <td>0</td>\n      <td>0</td>\n      <td>0</td>\n      <td>0</td>\n      <td>0</td>\n      <td>EnglishGerman</td>\n      <td></td>\n    </tr>\n    <tr>\n      <th>1557223492715</th>\n      <td>1557223477417</td>\n      <td>0</td>\n      <td>1557223492</td>\n      <td>-1</td>\n      <td>learning</td>\n      <td>new</td>\n      <td>7</td>\n      <td>0</td>\n      <td>0</td>\n      <td>0</td>\n      <td>0</td>\n      <td>0</td>\n      <td>0</td>\n      <td>Testing</td>\n      <td></td>\n    </tr>\n  </tbody>\n</table>\n</div>"
     },
     "execution_count": 6,
     "metadata": {},
     "output_type": "execute_result"
    }
   ],
   "source": [
    "col.cards"
   ],
   "metadata": {
    "collapsed": false
   }
  },
  {
   "cell_type": "code",
   "execution_count": 7,
   "outputs": [
    {
     "data": {
      "text/plain": "         AnkiColumn  Table                                        Description  \\\nColumn                                                                          \ncid             cid   revs  ID of the card (this corresponds to a epoch mi...   \ncid              id  cards  ID of the card (this corresponds to a epoch mi...   \nrease          ease   revs  Which button you pushed to score your recall: ...   \nrfactor      factor   revs  The new ease factor of the card in permille (p...   \nrivl            ivl   revs  The new interval that the card was pushed to a...   \nrlastIvl    lastIvl   revs                                      Last interval   \nrtime          time   revs  How many milliseconds your review took, up to ...   \nrtype          type   revs  Values: ‘learning’, ‘review’, ‘relearn’, ‘cram...   \nrusn            usn   revs  This column (update sequence number) is used t...   \n\n          Native  Default  \nColumn                     \ncid         True     True  \ncid         True     True  \nrease       True     True  \nrfactor     True     True  \nrivl        True     True  \nrlastIvl    True     True  \nrtime       True     True  \nrtype       True     True  \nrusn        True     True  ",
      "text/html": "<div>\n<style scoped>\n    .dataframe tbody tr th:only-of-type {\n        vertical-align: middle;\n    }\n\n    .dataframe tbody tr th {\n        vertical-align: top;\n    }\n\n    .dataframe thead th {\n        text-align: right;\n    }\n</style>\n<table border=\"1\" class=\"dataframe\">\n  <thead>\n    <tr style=\"text-align: right;\">\n      <th></th>\n      <th>AnkiColumn</th>\n      <th>Table</th>\n      <th>Description</th>\n      <th>Native</th>\n      <th>Default</th>\n    </tr>\n    <tr>\n      <th>Column</th>\n      <th></th>\n      <th></th>\n      <th></th>\n      <th></th>\n      <th></th>\n    </tr>\n  </thead>\n  <tbody>\n    <tr>\n      <th>cid</th>\n      <td>cid</td>\n      <td>revs</td>\n      <td>ID of the card (this corresponds to a epoch mi...</td>\n      <td>True</td>\n      <td>True</td>\n    </tr>\n    <tr>\n      <th>cid</th>\n      <td>id</td>\n      <td>cards</td>\n      <td>ID of the card (this corresponds to a epoch mi...</td>\n      <td>True</td>\n      <td>True</td>\n    </tr>\n    <tr>\n      <th>rease</th>\n      <td>ease</td>\n      <td>revs</td>\n      <td>Which button you pushed to score your recall: ...</td>\n      <td>True</td>\n      <td>True</td>\n    </tr>\n    <tr>\n      <th>rfactor</th>\n      <td>factor</td>\n      <td>revs</td>\n      <td>The new ease factor of the card in permille (p...</td>\n      <td>True</td>\n      <td>True</td>\n    </tr>\n    <tr>\n      <th>rivl</th>\n      <td>ivl</td>\n      <td>revs</td>\n      <td>The new interval that the card was pushed to a...</td>\n      <td>True</td>\n      <td>True</td>\n    </tr>\n    <tr>\n      <th>rlastIvl</th>\n      <td>lastIvl</td>\n      <td>revs</td>\n      <td>Last interval</td>\n      <td>True</td>\n      <td>True</td>\n    </tr>\n    <tr>\n      <th>rtime</th>\n      <td>time</td>\n      <td>revs</td>\n      <td>How many milliseconds your review took, up to ...</td>\n      <td>True</td>\n      <td>True</td>\n    </tr>\n    <tr>\n      <th>rtype</th>\n      <td>type</td>\n      <td>revs</td>\n      <td>Values: ‘learning’, ‘review’, ‘relearn’, ‘cram...</td>\n      <td>True</td>\n      <td>True</td>\n    </tr>\n    <tr>\n      <th>rusn</th>\n      <td>usn</td>\n      <td>revs</td>\n      <td>This column (update sequence number) is used t...</td>\n      <td>True</td>\n      <td>True</td>\n    </tr>\n  </tbody>\n</table>\n</div>"
     },
     "execution_count": 7,
     "metadata": {},
     "output_type": "execute_result"
    }
   ],
   "source": [
    "col.revs.help_cols()"
   ],
   "metadata": {
    "collapsed": false
   }
  },
  {
   "cell_type": "code",
   "execution_count": 8,
   "outputs": [
    {
     "data": {
      "text/plain": "                         cid  rusn  rease  rivl  rlastIvl  rfactor  rtime  \\\nrid                                                                         \n1556706362847  1555579345401    -1      2  -600       -60        0   2766   \n1556706364311  1555579360345    -1      1   -60       -60        0   1461   \n1556706365853  1555579360346    -1      3     5       -60     2500   1539   \n1556706367587  1555579360345    -1      2  -600       -60        0   1731   \n1556706368375  1555579345401    -1      3     4      -600     2500    785   \n1556706369382  1555579360345    -1      3     3      -600     2500   1004   \n\n                  rtype  \nrid                      \n1556706362847  learning  \n1556706364311  learning  \n1556706365853  learning  \n1556706367587  learning  \n1556706368375  learning  \n1556706369382  learning  ",
      "text/html": "<div>\n<style scoped>\n    .dataframe tbody tr th:only-of-type {\n        vertical-align: middle;\n    }\n\n    .dataframe tbody tr th {\n        vertical-align: top;\n    }\n\n    .dataframe thead th {\n        text-align: right;\n    }\n</style>\n<table border=\"1\" class=\"dataframe\">\n  <thead>\n    <tr style=\"text-align: right;\">\n      <th></th>\n      <th>cid</th>\n      <th>rusn</th>\n      <th>rease</th>\n      <th>rivl</th>\n      <th>rlastIvl</th>\n      <th>rfactor</th>\n      <th>rtime</th>\n      <th>rtype</th>\n    </tr>\n    <tr>\n      <th>rid</th>\n      <th></th>\n      <th></th>\n      <th></th>\n      <th></th>\n      <th></th>\n      <th></th>\n      <th></th>\n      <th></th>\n    </tr>\n  </thead>\n  <tbody>\n    <tr>\n      <th>1556706362847</th>\n      <td>1555579345401</td>\n      <td>-1</td>\n      <td>2</td>\n      <td>-600</td>\n      <td>-60</td>\n      <td>0</td>\n      <td>2766</td>\n      <td>learning</td>\n    </tr>\n    <tr>\n      <th>1556706364311</th>\n      <td>1555579360345</td>\n      <td>-1</td>\n      <td>1</td>\n      <td>-60</td>\n      <td>-60</td>\n      <td>0</td>\n      <td>1461</td>\n      <td>learning</td>\n    </tr>\n    <tr>\n      <th>1556706365853</th>\n      <td>1555579360346</td>\n      <td>-1</td>\n      <td>3</td>\n      <td>5</td>\n      <td>-60</td>\n      <td>2500</td>\n      <td>1539</td>\n      <td>learning</td>\n    </tr>\n    <tr>\n      <th>1556706367587</th>\n      <td>1555579360345</td>\n      <td>-1</td>\n      <td>2</td>\n      <td>-600</td>\n      <td>-60</td>\n      <td>0</td>\n      <td>1731</td>\n      <td>learning</td>\n    </tr>\n    <tr>\n      <th>1556706368375</th>\n      <td>1555579345401</td>\n      <td>-1</td>\n      <td>3</td>\n      <td>4</td>\n      <td>-600</td>\n      <td>2500</td>\n      <td>785</td>\n      <td>learning</td>\n    </tr>\n    <tr>\n      <th>1556706369382</th>\n      <td>1555579360345</td>\n      <td>-1</td>\n      <td>3</td>\n      <td>3</td>\n      <td>-600</td>\n      <td>2500</td>\n      <td>1004</td>\n      <td>learning</td>\n    </tr>\n  </tbody>\n</table>\n</div>"
     },
     "execution_count": 8,
     "metadata": {},
     "output_type": "execute_result"
    }
   ],
   "source": [
    "col.revs"
   ],
   "metadata": {
    "collapsed": false
   }
  }
 ],
 "metadata": {
  "kernelspec": {
   "display_name": "Python 3",
   "language": "python",
   "name": "python3"
  },
  "language_info": {
   "codemirror_mode": {
    "name": "ipython",
    "version": 2
   },
   "file_extension": ".py",
   "mimetype": "text/x-python",
   "name": "python",
   "nbconvert_exporter": "python",
   "pygments_lexer": "ipython2",
   "version": "2.7.6"
  }
 },
 "nbformat": 4,
 "nbformat_minor": 0
}
