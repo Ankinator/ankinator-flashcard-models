{
 "cells": [
  {
   "cell_type": "code",
   "execution_count": 3,
   "outputs": [],
   "source": [
    "import sys\n",
    "sys.path.append(\"../../\")\n",
    "%cd ../../"
   ],
   "metadata": {
    "collapsed": false,
    "pycharm": {
     "name": "#%%\n"
    }
   }
  },
  {
   "cell_type": "markdown",
   "source": [
    "# Ankipandas Playground"
   ],
   "metadata": {
    "collapsed": false,
    "pycharm": {
     "name": "#%% md\n"
    }
   }
  },
  {
   "cell_type": "code",
   "execution_count": 2,
   "metadata": {
    "collapsed": true,
    "pycharm": {
     "name": "#%%\n"
    }
   },
   "outputs": [],
   "source": [
    "from ankipandas import Collection"
   ]
  },
  {
   "cell_type": "markdown",
   "source": [
    "In order to use Anki pandas, **_Anki has to be installed on the system_**, as the library connects to the Anki database and can't load an exported anki collection directly"
   ],
   "metadata": {
    "collapsed": false,
    "pycharm": {
     "name": "#%% md\n"
    }
   }
  },
  {
   "cell_type": "code",
   "execution_count": 11,
   "outputs": [
    {
     "data": {
      "text/plain": "       AnkiColumn  Table                                        Description  \\\nColumn                                                                        \nnflds        flds  notes  Fields of the card as list. In the raw anki da...   \nnguid        guid  notes  Globally Unique Id, almost certainly used for ...   \nnmod          mod  notes              Modification timestamp, epoch seconds   \nnmodel        NaN  notes                                  Name of the model   \nntags        tags  notes  Tags of the note as list. In the raw anki data...   \nnusn          usn  notes  This column (update sequence number) is used t...   \n\n        Native  Default  \nColumn                   \nnflds     True     True  \nnguid     True     True  \nnmod      True     True  \nnmodel   False     True  \nntags     True     True  \nnusn      True     True  ",
      "text/html": "<div>\n<style scoped>\n    .dataframe tbody tr th:only-of-type {\n        vertical-align: middle;\n    }\n\n    .dataframe tbody tr th {\n        vertical-align: top;\n    }\n\n    .dataframe thead th {\n        text-align: right;\n    }\n</style>\n<table border=\"1\" class=\"dataframe\">\n  <thead>\n    <tr style=\"text-align: right;\">\n      <th></th>\n      <th>AnkiColumn</th>\n      <th>Table</th>\n      <th>Description</th>\n      <th>Native</th>\n      <th>Default</th>\n    </tr>\n    <tr>\n      <th>Column</th>\n      <th></th>\n      <th></th>\n      <th></th>\n      <th></th>\n      <th></th>\n    </tr>\n  </thead>\n  <tbody>\n    <tr>\n      <th>nflds</th>\n      <td>flds</td>\n      <td>notes</td>\n      <td>Fields of the card as list. In the raw anki da...</td>\n      <td>True</td>\n      <td>True</td>\n    </tr>\n    <tr>\n      <th>nguid</th>\n      <td>guid</td>\n      <td>notes</td>\n      <td>Globally Unique Id, almost certainly used for ...</td>\n      <td>True</td>\n      <td>True</td>\n    </tr>\n    <tr>\n      <th>nmod</th>\n      <td>mod</td>\n      <td>notes</td>\n      <td>Modification timestamp, epoch seconds</td>\n      <td>True</td>\n      <td>True</td>\n    </tr>\n    <tr>\n      <th>nmodel</th>\n      <td>NaN</td>\n      <td>notes</td>\n      <td>Name of the model</td>\n      <td>False</td>\n      <td>True</td>\n    </tr>\n    <tr>\n      <th>ntags</th>\n      <td>tags</td>\n      <td>notes</td>\n      <td>Tags of the note as list. In the raw anki data...</td>\n      <td>True</td>\n      <td>True</td>\n    </tr>\n    <tr>\n      <th>nusn</th>\n      <td>usn</td>\n      <td>notes</td>\n      <td>This column (update sequence number) is used t...</td>\n      <td>True</td>\n      <td>True</td>\n    </tr>\n  </tbody>\n</table>\n</div>"
     },
     "execution_count": 11,
     "metadata": {},
     "output_type": "execute_result"
    }
   ],
   "source": [
    "col = Collection()\n",
    "col.notes.help_cols()"
   ],
   "metadata": {
    "collapsed": false,
    "pycharm": {
     "name": "#%%\n"
    }
   }
  },
  {
   "cell_type": "markdown",
   "source": [
    "Output of the below column is cleared to prevent data leakage."
   ],
   "metadata": {
    "collapsed": false,
    "pycharm": {
     "name": "#%% md\n"
    }
   }
  },
  {
   "cell_type": "code",
   "execution_count": null,
   "outputs": [],
   "source": [
    "col.notes"
   ],
   "metadata": {
    "collapsed": false,
    "pycharm": {
     "name": "#%%\n",
     "is_executing": true
    }
   }
  },
  {
   "cell_type": "code",
   "execution_count": 12,
   "outputs": [
    {
     "data": {
      "text/plain": "        AnkiColumn  Table                                        Description  \\\nColumn                                                                         \ncdeck          NaN  cards                           Name of the current deck   \ncdue           due  cards  Due is used differently for different card typ...   \ncfactor     factor  cards  The new ease factor of the card in permille (p...   \ncivl           ivl  cards  The new interval that the card was pushed to a...   \nclapses     lapses  cards  The number of times the card went from a \"was ...   \ncleft         left  cards  Of the form ``a*1000+b``, with: ``b`` the numb...   \ncmod           mod  cards                  Modification time [epoch seconds]   \ncodeck         NaN  cards  Original deck: only used when the card is curr...   \ncodue         odue  cards  Original due: only used when the card is curre...   \ncord           ord  cards  Identifies which of the card templates the car...   \ncqueue       queue  cards  Can take the value ‘sched buried’, ‘user burie...   \ncreps         reps  cards                                  Number of reviews   \nctype         type  cards  Can take the values ‘learning’, ‘review’, ‘rel...   \ncusn           usn  cards  This column (update sequence number) is used t...   \nnid             id  notes  ID of the note (this corresponds to a epoch mi...   \nnid            nid  cards  ID of the note (this corresponds to a epoch mi...   \n\n         Native  Default  \nColumn                    \ncdeck     False     True  \ncdue       True     True  \ncfactor    True     True  \ncivl       True     True  \nclapses    True     True  \ncleft      True     True  \ncmod       True     True  \ncodeck    False     True  \ncodue      True     True  \ncord       True     True  \ncqueue     True     True  \ncreps      True     True  \nctype      True     True  \ncusn       True     True  \nnid        True     True  \nnid        True     True  ",
      "text/html": "<div>\n<style scoped>\n    .dataframe tbody tr th:only-of-type {\n        vertical-align: middle;\n    }\n\n    .dataframe tbody tr th {\n        vertical-align: top;\n    }\n\n    .dataframe thead th {\n        text-align: right;\n    }\n</style>\n<table border=\"1\" class=\"dataframe\">\n  <thead>\n    <tr style=\"text-align: right;\">\n      <th></th>\n      <th>AnkiColumn</th>\n      <th>Table</th>\n      <th>Description</th>\n      <th>Native</th>\n      <th>Default</th>\n    </tr>\n    <tr>\n      <th>Column</th>\n      <th></th>\n      <th></th>\n      <th></th>\n      <th></th>\n      <th></th>\n    </tr>\n  </thead>\n  <tbody>\n    <tr>\n      <th>cdeck</th>\n      <td>NaN</td>\n      <td>cards</td>\n      <td>Name of the current deck</td>\n      <td>False</td>\n      <td>True</td>\n    </tr>\n    <tr>\n      <th>cdue</th>\n      <td>due</td>\n      <td>cards</td>\n      <td>Due is used differently for different card typ...</td>\n      <td>True</td>\n      <td>True</td>\n    </tr>\n    <tr>\n      <th>cfactor</th>\n      <td>factor</td>\n      <td>cards</td>\n      <td>The new ease factor of the card in permille (p...</td>\n      <td>True</td>\n      <td>True</td>\n    </tr>\n    <tr>\n      <th>civl</th>\n      <td>ivl</td>\n      <td>cards</td>\n      <td>The new interval that the card was pushed to a...</td>\n      <td>True</td>\n      <td>True</td>\n    </tr>\n    <tr>\n      <th>clapses</th>\n      <td>lapses</td>\n      <td>cards</td>\n      <td>The number of times the card went from a \"was ...</td>\n      <td>True</td>\n      <td>True</td>\n    </tr>\n    <tr>\n      <th>cleft</th>\n      <td>left</td>\n      <td>cards</td>\n      <td>Of the form ``a*1000+b``, with: ``b`` the numb...</td>\n      <td>True</td>\n      <td>True</td>\n    </tr>\n    <tr>\n      <th>cmod</th>\n      <td>mod</td>\n      <td>cards</td>\n      <td>Modification time [epoch seconds]</td>\n      <td>True</td>\n      <td>True</td>\n    </tr>\n    <tr>\n      <th>codeck</th>\n      <td>NaN</td>\n      <td>cards</td>\n      <td>Original deck: only used when the card is curr...</td>\n      <td>False</td>\n      <td>True</td>\n    </tr>\n    <tr>\n      <th>codue</th>\n      <td>odue</td>\n      <td>cards</td>\n      <td>Original due: only used when the card is curre...</td>\n      <td>True</td>\n      <td>True</td>\n    </tr>\n    <tr>\n      <th>cord</th>\n      <td>ord</td>\n      <td>cards</td>\n      <td>Identifies which of the card templates the car...</td>\n      <td>True</td>\n      <td>True</td>\n    </tr>\n    <tr>\n      <th>cqueue</th>\n      <td>queue</td>\n      <td>cards</td>\n      <td>Can take the value ‘sched buried’, ‘user burie...</td>\n      <td>True</td>\n      <td>True</td>\n    </tr>\n    <tr>\n      <th>creps</th>\n      <td>reps</td>\n      <td>cards</td>\n      <td>Number of reviews</td>\n      <td>True</td>\n      <td>True</td>\n    </tr>\n    <tr>\n      <th>ctype</th>\n      <td>type</td>\n      <td>cards</td>\n      <td>Can take the values ‘learning’, ‘review’, ‘rel...</td>\n      <td>True</td>\n      <td>True</td>\n    </tr>\n    <tr>\n      <th>cusn</th>\n      <td>usn</td>\n      <td>cards</td>\n      <td>This column (update sequence number) is used t...</td>\n      <td>True</td>\n      <td>True</td>\n    </tr>\n    <tr>\n      <th>nid</th>\n      <td>id</td>\n      <td>notes</td>\n      <td>ID of the note (this corresponds to a epoch mi...</td>\n      <td>True</td>\n      <td>True</td>\n    </tr>\n    <tr>\n      <th>nid</th>\n      <td>nid</td>\n      <td>cards</td>\n      <td>ID of the note (this corresponds to a epoch mi...</td>\n      <td>True</td>\n      <td>True</td>\n    </tr>\n  </tbody>\n</table>\n</div>"
     },
     "execution_count": 12,
     "metadata": {},
     "output_type": "execute_result"
    }
   ],
   "source": [
    "col.cards.help_cols()"
   ],
   "metadata": {
    "collapsed": false,
    "pycharm": {
     "name": "#%%\n"
    }
   }
  },
  {
   "cell_type": "code",
   "execution_count": 14,
   "outputs": [
    {
     "data": {
      "text/plain": "                         nid  cord        cmod  cusn     ctype cqueue  cdue  \\\ncid                                                                           \n1649256959292  1649256959290     0  1677426112    -1  learning    new   380   \n1649257080066  1649257080066     0  1677426112    -1  learning    new   381   \n1649257209250  1649257209250     0  1677426112    -1  learning    new   382   \n1649257369771  1649257369771     0  1677426112    -1  learning    new   383   \n1649257453747  1649257453747     0  1677426112    -1  learning    new   384   \n...                      ...   ...         ...   ...       ...    ...   ...   \n1676649613450  1676649613450     0  1677426104    -1  learning    new   375   \n1676649726046  1676649726046     0  1677426104    -1  learning    new   376   \n1676650241828  1676650241828     0  1677426104    -1  learning    new   377   \n1676650918318  1676650918317     0  1677426104    -1  learning    new   378   \n1676651314227  1676651314227     0  1677426104    -1  learning    new   379   \n\n               civl  cfactor  creps  clapses  cleft  codue          cdeck  \\\ncid                                                                         \n1649256959292     0        0     11        1   1001      0          DB II   \n1649257080066     0        0      7        0   1001      0          DB II   \n1649257209250     0        0     14        1   1001      0          DB II   \n1649257369771     0        0     11        0   1001      0          DB II   \n1649257453747     0        0      8        0   1001      0          DB II   \n...             ...      ...    ...      ...    ...    ...            ...   \n1676649613450     0        0      0        0      0      0  Data Security   \n1676649726046     0        0      0        0      0      0  Data Security   \n1676650241828     0        0      0        0      0      0  Data Security   \n1676650918318     0        0      0        0      0      0  Data Security   \n1676651314227     0        0      0        0      0      0  Data Security   \n\n              codeck  \ncid                   \n1649256959292         \n1649257080066         \n1649257209250         \n1649257369771         \n1649257453747         \n...              ...  \n1676649613450         \n1676649726046         \n1676650241828         \n1676650918318         \n1676651314227         \n\n[747 rows x 15 columns]",
      "text/html": "<div>\n<style scoped>\n    .dataframe tbody tr th:only-of-type {\n        vertical-align: middle;\n    }\n\n    .dataframe tbody tr th {\n        vertical-align: top;\n    }\n\n    .dataframe thead th {\n        text-align: right;\n    }\n</style>\n<table border=\"1\" class=\"dataframe\">\n  <thead>\n    <tr style=\"text-align: right;\">\n      <th></th>\n      <th>nid</th>\n      <th>cord</th>\n      <th>cmod</th>\n      <th>cusn</th>\n      <th>ctype</th>\n      <th>cqueue</th>\n      <th>cdue</th>\n      <th>civl</th>\n      <th>cfactor</th>\n      <th>creps</th>\n      <th>clapses</th>\n      <th>cleft</th>\n      <th>codue</th>\n      <th>cdeck</th>\n      <th>codeck</th>\n    </tr>\n    <tr>\n      <th>cid</th>\n      <th></th>\n      <th></th>\n      <th></th>\n      <th></th>\n      <th></th>\n      <th></th>\n      <th></th>\n      <th></th>\n      <th></th>\n      <th></th>\n      <th></th>\n      <th></th>\n      <th></th>\n      <th></th>\n      <th></th>\n    </tr>\n  </thead>\n  <tbody>\n    <tr>\n      <th>1649256959292</th>\n      <td>1649256959290</td>\n      <td>0</td>\n      <td>1677426112</td>\n      <td>-1</td>\n      <td>learning</td>\n      <td>new</td>\n      <td>380</td>\n      <td>0</td>\n      <td>0</td>\n      <td>11</td>\n      <td>1</td>\n      <td>1001</td>\n      <td>0</td>\n      <td>DB II</td>\n      <td></td>\n    </tr>\n    <tr>\n      <th>1649257080066</th>\n      <td>1649257080066</td>\n      <td>0</td>\n      <td>1677426112</td>\n      <td>-1</td>\n      <td>learning</td>\n      <td>new</td>\n      <td>381</td>\n      <td>0</td>\n      <td>0</td>\n      <td>7</td>\n      <td>0</td>\n      <td>1001</td>\n      <td>0</td>\n      <td>DB II</td>\n      <td></td>\n    </tr>\n    <tr>\n      <th>1649257209250</th>\n      <td>1649257209250</td>\n      <td>0</td>\n      <td>1677426112</td>\n      <td>-1</td>\n      <td>learning</td>\n      <td>new</td>\n      <td>382</td>\n      <td>0</td>\n      <td>0</td>\n      <td>14</td>\n      <td>1</td>\n      <td>1001</td>\n      <td>0</td>\n      <td>DB II</td>\n      <td></td>\n    </tr>\n    <tr>\n      <th>1649257369771</th>\n      <td>1649257369771</td>\n      <td>0</td>\n      <td>1677426112</td>\n      <td>-1</td>\n      <td>learning</td>\n      <td>new</td>\n      <td>383</td>\n      <td>0</td>\n      <td>0</td>\n      <td>11</td>\n      <td>0</td>\n      <td>1001</td>\n      <td>0</td>\n      <td>DB II</td>\n      <td></td>\n    </tr>\n    <tr>\n      <th>1649257453747</th>\n      <td>1649257453747</td>\n      <td>0</td>\n      <td>1677426112</td>\n      <td>-1</td>\n      <td>learning</td>\n      <td>new</td>\n      <td>384</td>\n      <td>0</td>\n      <td>0</td>\n      <td>8</td>\n      <td>0</td>\n      <td>1001</td>\n      <td>0</td>\n      <td>DB II</td>\n      <td></td>\n    </tr>\n    <tr>\n      <th>...</th>\n      <td>...</td>\n      <td>...</td>\n      <td>...</td>\n      <td>...</td>\n      <td>...</td>\n      <td>...</td>\n      <td>...</td>\n      <td>...</td>\n      <td>...</td>\n      <td>...</td>\n      <td>...</td>\n      <td>...</td>\n      <td>...</td>\n      <td>...</td>\n      <td>...</td>\n    </tr>\n    <tr>\n      <th>1676649613450</th>\n      <td>1676649613450</td>\n      <td>0</td>\n      <td>1677426104</td>\n      <td>-1</td>\n      <td>learning</td>\n      <td>new</td>\n      <td>375</td>\n      <td>0</td>\n      <td>0</td>\n      <td>0</td>\n      <td>0</td>\n      <td>0</td>\n      <td>0</td>\n      <td>Data Security</td>\n      <td></td>\n    </tr>\n    <tr>\n      <th>1676649726046</th>\n      <td>1676649726046</td>\n      <td>0</td>\n      <td>1677426104</td>\n      <td>-1</td>\n      <td>learning</td>\n      <td>new</td>\n      <td>376</td>\n      <td>0</td>\n      <td>0</td>\n      <td>0</td>\n      <td>0</td>\n      <td>0</td>\n      <td>0</td>\n      <td>Data Security</td>\n      <td></td>\n    </tr>\n    <tr>\n      <th>1676650241828</th>\n      <td>1676650241828</td>\n      <td>0</td>\n      <td>1677426104</td>\n      <td>-1</td>\n      <td>learning</td>\n      <td>new</td>\n      <td>377</td>\n      <td>0</td>\n      <td>0</td>\n      <td>0</td>\n      <td>0</td>\n      <td>0</td>\n      <td>0</td>\n      <td>Data Security</td>\n      <td></td>\n    </tr>\n    <tr>\n      <th>1676650918318</th>\n      <td>1676650918317</td>\n      <td>0</td>\n      <td>1677426104</td>\n      <td>-1</td>\n      <td>learning</td>\n      <td>new</td>\n      <td>378</td>\n      <td>0</td>\n      <td>0</td>\n      <td>0</td>\n      <td>0</td>\n      <td>0</td>\n      <td>0</td>\n      <td>Data Security</td>\n      <td></td>\n    </tr>\n    <tr>\n      <th>1676651314227</th>\n      <td>1676651314227</td>\n      <td>0</td>\n      <td>1677426104</td>\n      <td>-1</td>\n      <td>learning</td>\n      <td>new</td>\n      <td>379</td>\n      <td>0</td>\n      <td>0</td>\n      <td>0</td>\n      <td>0</td>\n      <td>0</td>\n      <td>0</td>\n      <td>Data Security</td>\n      <td></td>\n    </tr>\n  </tbody>\n</table>\n<p>747 rows × 15 columns</p>\n</div>"
     },
     "execution_count": 14,
     "metadata": {},
     "output_type": "execute_result"
    }
   ],
   "source": [
    "col.cards"
   ],
   "metadata": {
    "collapsed": false,
    "pycharm": {
     "name": "#%%\n"
    }
   }
  },
  {
   "cell_type": "code",
   "execution_count": 13,
   "outputs": [
    {
     "data": {
      "text/plain": "         AnkiColumn  Table                                        Description  \\\nColumn                                                                          \ncid             cid   revs  ID of the card (this corresponds to a epoch mi...   \ncid              id  cards  ID of the card (this corresponds to a epoch mi...   \nrease          ease   revs  Which button you pushed to score your recall: ...   \nrfactor      factor   revs  The new ease factor of the card in permille (p...   \nrivl            ivl   revs  The new interval that the card was pushed to a...   \nrlastIvl    lastIvl   revs                                      Last interval   \nrtime          time   revs  How many milliseconds your review took, up to ...   \nrtype          type   revs  Values: ‘learning’, ‘review’, ‘relearn’, ‘cram...   \nrusn            usn   revs  This column (update sequence number) is used t...   \n\n          Native  Default  \nColumn                     \ncid         True     True  \ncid         True     True  \nrease       True     True  \nrfactor     True     True  \nrivl        True     True  \nrlastIvl    True     True  \nrtime       True     True  \nrtype       True     True  \nrusn        True     True  ",
      "text/html": "<div>\n<style scoped>\n    .dataframe tbody tr th:only-of-type {\n        vertical-align: middle;\n    }\n\n    .dataframe tbody tr th {\n        vertical-align: top;\n    }\n\n    .dataframe thead th {\n        text-align: right;\n    }\n</style>\n<table border=\"1\" class=\"dataframe\">\n  <thead>\n    <tr style=\"text-align: right;\">\n      <th></th>\n      <th>AnkiColumn</th>\n      <th>Table</th>\n      <th>Description</th>\n      <th>Native</th>\n      <th>Default</th>\n    </tr>\n    <tr>\n      <th>Column</th>\n      <th></th>\n      <th></th>\n      <th></th>\n      <th></th>\n      <th></th>\n    </tr>\n  </thead>\n  <tbody>\n    <tr>\n      <th>cid</th>\n      <td>cid</td>\n      <td>revs</td>\n      <td>ID of the card (this corresponds to a epoch mi...</td>\n      <td>True</td>\n      <td>True</td>\n    </tr>\n    <tr>\n      <th>cid</th>\n      <td>id</td>\n      <td>cards</td>\n      <td>ID of the card (this corresponds to a epoch mi...</td>\n      <td>True</td>\n      <td>True</td>\n    </tr>\n    <tr>\n      <th>rease</th>\n      <td>ease</td>\n      <td>revs</td>\n      <td>Which button you pushed to score your recall: ...</td>\n      <td>True</td>\n      <td>True</td>\n    </tr>\n    <tr>\n      <th>rfactor</th>\n      <td>factor</td>\n      <td>revs</td>\n      <td>The new ease factor of the card in permille (p...</td>\n      <td>True</td>\n      <td>True</td>\n    </tr>\n    <tr>\n      <th>rivl</th>\n      <td>ivl</td>\n      <td>revs</td>\n      <td>The new interval that the card was pushed to a...</td>\n      <td>True</td>\n      <td>True</td>\n    </tr>\n    <tr>\n      <th>rlastIvl</th>\n      <td>lastIvl</td>\n      <td>revs</td>\n      <td>Last interval</td>\n      <td>True</td>\n      <td>True</td>\n    </tr>\n    <tr>\n      <th>rtime</th>\n      <td>time</td>\n      <td>revs</td>\n      <td>How many milliseconds your review took, up to ...</td>\n      <td>True</td>\n      <td>True</td>\n    </tr>\n    <tr>\n      <th>rtype</th>\n      <td>type</td>\n      <td>revs</td>\n      <td>Values: ‘learning’, ‘review’, ‘relearn’, ‘cram...</td>\n      <td>True</td>\n      <td>True</td>\n    </tr>\n    <tr>\n      <th>rusn</th>\n      <td>usn</td>\n      <td>revs</td>\n      <td>This column (update sequence number) is used t...</td>\n      <td>True</td>\n      <td>True</td>\n    </tr>\n  </tbody>\n</table>\n</div>"
     },
     "execution_count": 13,
     "metadata": {},
     "output_type": "execute_result"
    }
   ],
   "source": [
    "col.revs.help_cols()"
   ],
   "metadata": {
    "collapsed": false,
    "pycharm": {
     "name": "#%%\n"
    }
   }
  },
  {
   "cell_type": "code",
   "execution_count": 16,
   "outputs": [
    {
     "data": {
      "text/plain": "                         cid  rusn  rease  rivl  rlastIvl  rfactor  rtime  \\\nrid                                                                         \n1648548304526  1648490988288     0      1   -60       -60        0  26026   \n1648548495483  1648491044794     0      3  -600       -60        0  34672   \n1648569071860  1648490988288     0      2   -60       -60        0  60000   \n1648569080517  1648491044794     0      4     4      -600     2500   8623   \n1648569093084  1648491081393     0      1   -60       -60        0  12540   \n...                      ...   ...    ...   ...       ...      ...    ...   \n1677426131559  1668354563685    -1      0     0         0        0      0   \n1677426131560  1668354736243    -1      0     0         0        0      0   \n1677426131561  1668354951154    -1      0     0         0        0      0   \n1677426131562  1668355123895    -1      0     0         0        0      0   \n1677426131563  1668355195156    -1      0     0         0        0      0   \n\n                  rtype  \nrid                      \n1648548304526  learning  \n1648548495483  learning  \n1648569071860  learning  \n1648569080517  learning  \n1648569093084  learning  \n...                 ...  \n1677426131559       NaN  \n1677426131560       NaN  \n1677426131561       NaN  \n1677426131562       NaN  \n1677426131563       NaN  \n\n[4222 rows x 8 columns]",
      "text/html": "<div>\n<style scoped>\n    .dataframe tbody tr th:only-of-type {\n        vertical-align: middle;\n    }\n\n    .dataframe tbody tr th {\n        vertical-align: top;\n    }\n\n    .dataframe thead th {\n        text-align: right;\n    }\n</style>\n<table border=\"1\" class=\"dataframe\">\n  <thead>\n    <tr style=\"text-align: right;\">\n      <th></th>\n      <th>cid</th>\n      <th>rusn</th>\n      <th>rease</th>\n      <th>rivl</th>\n      <th>rlastIvl</th>\n      <th>rfactor</th>\n      <th>rtime</th>\n      <th>rtype</th>\n    </tr>\n    <tr>\n      <th>rid</th>\n      <th></th>\n      <th></th>\n      <th></th>\n      <th></th>\n      <th></th>\n      <th></th>\n      <th></th>\n      <th></th>\n    </tr>\n  </thead>\n  <tbody>\n    <tr>\n      <th>1648548304526</th>\n      <td>1648490988288</td>\n      <td>0</td>\n      <td>1</td>\n      <td>-60</td>\n      <td>-60</td>\n      <td>0</td>\n      <td>26026</td>\n      <td>learning</td>\n    </tr>\n    <tr>\n      <th>1648548495483</th>\n      <td>1648491044794</td>\n      <td>0</td>\n      <td>3</td>\n      <td>-600</td>\n      <td>-60</td>\n      <td>0</td>\n      <td>34672</td>\n      <td>learning</td>\n    </tr>\n    <tr>\n      <th>1648569071860</th>\n      <td>1648490988288</td>\n      <td>0</td>\n      <td>2</td>\n      <td>-60</td>\n      <td>-60</td>\n      <td>0</td>\n      <td>60000</td>\n      <td>learning</td>\n    </tr>\n    <tr>\n      <th>1648569080517</th>\n      <td>1648491044794</td>\n      <td>0</td>\n      <td>4</td>\n      <td>4</td>\n      <td>-600</td>\n      <td>2500</td>\n      <td>8623</td>\n      <td>learning</td>\n    </tr>\n    <tr>\n      <th>1648569093084</th>\n      <td>1648491081393</td>\n      <td>0</td>\n      <td>1</td>\n      <td>-60</td>\n      <td>-60</td>\n      <td>0</td>\n      <td>12540</td>\n      <td>learning</td>\n    </tr>\n    <tr>\n      <th>...</th>\n      <td>...</td>\n      <td>...</td>\n      <td>...</td>\n      <td>...</td>\n      <td>...</td>\n      <td>...</td>\n      <td>...</td>\n      <td>...</td>\n    </tr>\n    <tr>\n      <th>1677426131559</th>\n      <td>1668354563685</td>\n      <td>-1</td>\n      <td>0</td>\n      <td>0</td>\n      <td>0</td>\n      <td>0</td>\n      <td>0</td>\n      <td>NaN</td>\n    </tr>\n    <tr>\n      <th>1677426131560</th>\n      <td>1668354736243</td>\n      <td>-1</td>\n      <td>0</td>\n      <td>0</td>\n      <td>0</td>\n      <td>0</td>\n      <td>0</td>\n      <td>NaN</td>\n    </tr>\n    <tr>\n      <th>1677426131561</th>\n      <td>1668354951154</td>\n      <td>-1</td>\n      <td>0</td>\n      <td>0</td>\n      <td>0</td>\n      <td>0</td>\n      <td>0</td>\n      <td>NaN</td>\n    </tr>\n    <tr>\n      <th>1677426131562</th>\n      <td>1668355123895</td>\n      <td>-1</td>\n      <td>0</td>\n      <td>0</td>\n      <td>0</td>\n      <td>0</td>\n      <td>0</td>\n      <td>NaN</td>\n    </tr>\n    <tr>\n      <th>1677426131563</th>\n      <td>1668355195156</td>\n      <td>-1</td>\n      <td>0</td>\n      <td>0</td>\n      <td>0</td>\n      <td>0</td>\n      <td>0</td>\n      <td>NaN</td>\n    </tr>\n  </tbody>\n</table>\n<p>4222 rows × 8 columns</p>\n</div>"
     },
     "execution_count": 16,
     "metadata": {},
     "output_type": "execute_result"
    }
   ],
   "source": [
    "col.revs"
   ],
   "metadata": {
    "collapsed": false,
    "pycharm": {
     "name": "#%%\n"
    }
   }
  }
 ],
 "metadata": {
  "kernelspec": {
   "display_name": "Python 3",
   "language": "python",
   "name": "python3"
  },
  "language_info": {
   "codemirror_mode": {
    "name": "ipython",
    "version": 2
   },
   "file_extension": ".py",
   "mimetype": "text/x-python",
   "name": "python",
   "nbconvert_exporter": "python",
   "pygments_lexer": "ipython2",
   "version": "2.7.6"
  }
 },
 "nbformat": 4,
 "nbformat_minor": 0
}