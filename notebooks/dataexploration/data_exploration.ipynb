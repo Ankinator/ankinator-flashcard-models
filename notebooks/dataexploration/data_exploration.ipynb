{
 "cells": [
  {
   "cell_type": "code",
   "execution_count": 1,
   "metadata": {
    "collapsed": true,
    "ExecuteTime": {
     "start_time": "2023-04-24T11:04:18.382038Z",
     "end_time": "2023-04-24T11:04:23.491663Z"
    }
   },
   "outputs": [],
   "source": [
    "import regex as re\n",
    "import matplotlib.pyplot as plt\n",
    "import pandas as pd"
   ]
  },
  {
   "cell_type": "code",
   "execution_count": 2,
   "outputs": [],
   "source": [
    "df = pd.read_csv(\"flashcards.csv\")"
   ],
   "metadata": {
    "collapsed": false,
    "ExecuteTime": {
     "start_time": "2023-04-24T11:04:23.493331Z",
     "end_time": "2023-04-24T11:04:23.555587Z"
    }
   }
  },
  {
   "cell_type": "code",
   "execution_count": 3,
   "outputs": [
    {
     "name": "stdout",
     "output_type": "stream",
     "text": [
      "<class 'pandas.core.frame.DataFrame'>\n",
      "RangeIndex: 4990 entries, 0 to 4989\n",
      "Data columns (total 5 columns):\n",
      " #   Column      Non-Null Count  Dtype \n",
      "---  ------      --------------  ----- \n",
      " 0   Unnamed: 0  4990 non-null   int64 \n",
      " 1   nfld_Front  4211 non-null   object\n",
      " 2   nfld_Back   4201 non-null   object\n",
      " 3   nid         4990 non-null   int64 \n",
      " 4   cdeck       4990 non-null   object\n",
      "dtypes: int64(2), object(3)\n",
      "memory usage: 195.0+ KB\n"
     ]
    }
   ],
   "source": [
    "df.info()"
   ],
   "metadata": {
    "collapsed": false,
    "ExecuteTime": {
     "start_time": "2023-04-24T11:04:23.563895Z",
     "end_time": "2023-04-24T11:04:23.566406Z"
    }
   }
  },
  {
   "cell_type": "code",
   "execution_count": 4,
   "outputs": [],
   "source": [
    "df.dropna(inplace=True)"
   ],
   "metadata": {
    "collapsed": false,
    "ExecuteTime": {
     "start_time": "2023-04-24T11:04:23.571012Z",
     "end_time": "2023-04-24T11:04:23.574774Z"
    }
   }
  },
  {
   "cell_type": "code",
   "execution_count": 5,
   "outputs": [
    {
     "name": "stdout",
     "output_type": "stream",
     "text": [
      "<class 'pandas.core.frame.DataFrame'>\n",
      "Int64Index: 4201 entries, 0 to 4989\n",
      "Data columns (total 5 columns):\n",
      " #   Column      Non-Null Count  Dtype \n",
      "---  ------      --------------  ----- \n",
      " 0   Unnamed: 0  4201 non-null   int64 \n",
      " 1   nfld_Front  4201 non-null   object\n",
      " 2   nfld_Back   4201 non-null   object\n",
      " 3   nid         4201 non-null   int64 \n",
      " 4   cdeck       4201 non-null   object\n",
      "dtypes: int64(2), object(3)\n",
      "memory usage: 196.9+ KB\n"
     ]
    }
   ],
   "source": [
    "df.info()"
   ],
   "metadata": {
    "collapsed": false,
    "ExecuteTime": {
     "start_time": "2023-04-24T11:04:23.577950Z",
     "end_time": "2023-04-24T11:04:23.613600Z"
    }
   }
  },
  {
   "cell_type": "code",
   "execution_count": 6,
   "outputs": [
    {
     "data": {
      "text/plain": "    Unnamed: 0                                       nfld_Front  \\\n0            0              What is the Scrum process Framework   \n1            1                      What are the roles in scrum   \n2            2                     What are the events in Scrum   \n3            3                  What are the artifacts in Scrum   \n4            4        What's the main role of the Product Owner   \n5            5       Who is responsible for the Product Backlog   \n6            6                    Who order the Product Backlog   \n7            7          What's the role of the Development Team   \n8            8            How is the Development Team organized   \n9            9       What are the title in the development team   \n10          10  Who ensure that Scrum is understood and enacted   \n11          11     What are the main duties of the Scrum master   \n12          12                          Who can cancel a sprint   \n13          13                         When is a sprint canceld   \n14          14                When is the sprint planning done?   \n15          15            Who is present at the sprint planning   \n16          16          What's the length of a sprint planning?   \n17          17           What's done during the sprint planning   \n18          18             When does the Daily Scrum take place   \n19          19            Where does the Daily Scrum take place   \n\n                                            nfld_Back            nid  cdeck  \n0   <ul>\\n<li>Transparency</li>\\n<li>Inspection</l...  1390319421487  Scrum  \n1   <ul>\\n<li>Product Owner (PO)</li>\\n<li>Scrum M...  1390319485342  Scrum  \n2   <ul>\\n<li>Sprint Planning</li>\\n<li>Daily Scru...  1390319607681  Scrum  \n3   <ul>\\n<li>Product Backlog</li>\\n<li>Product Bu...  1390319686841  Scrum  \n4   Translate the business needs in the product ba...  1393853787833  Scrum  \n5                                   The Product Owner  1393853821858  Scrum  \n6                                   The Product Owner  1393853875956  Scrum  \n7   Deliver potentially releasable increment of \"D...  1393853902116  Scrum  \n8                                      Self-organized  1393853966944  Scrum  \n9                                Developer (no other)  1393853987939  Scrum  \n10                                   The Scrum Master  1393854043217  Scrum  \n11  •<span class=\"Apple-tab-span\" style=\"white-spa...  1393854071229  Scrum  \n12                                      Product Owner  1393854116990  Scrum  \n13                     When the goal becomes obsolete  1393854194778  Scrum  \n14                    At the beginning of each sprint  1393854223937  Scrum  \n15                            Scrum Team (PO, SM, DT)  1393854268295  Scrum  \n16                        max 8hrs for 1 month sprint  1393854302852  Scrum  \n17  •<span class=\"Apple-tab-span\" style=\"white-spa...  1393854337960  Scrum  \n18                         Each days at the same time  1393854492533  Scrum  \n19                        Every day at the same place  1393854578555  Scrum  ",
      "text/html": "<div>\n<style scoped>\n    .dataframe tbody tr th:only-of-type {\n        vertical-align: middle;\n    }\n\n    .dataframe tbody tr th {\n        vertical-align: top;\n    }\n\n    .dataframe thead th {\n        text-align: right;\n    }\n</style>\n<table border=\"1\" class=\"dataframe\">\n  <thead>\n    <tr style=\"text-align: right;\">\n      <th></th>\n      <th>Unnamed: 0</th>\n      <th>nfld_Front</th>\n      <th>nfld_Back</th>\n      <th>nid</th>\n      <th>cdeck</th>\n    </tr>\n  </thead>\n  <tbody>\n    <tr>\n      <th>0</th>\n      <td>0</td>\n      <td>What is the Scrum process Framework</td>\n      <td>&lt;ul&gt;\\n&lt;li&gt;Transparency&lt;/li&gt;\\n&lt;li&gt;Inspection&lt;/l...</td>\n      <td>1390319421487</td>\n      <td>Scrum</td>\n    </tr>\n    <tr>\n      <th>1</th>\n      <td>1</td>\n      <td>What are the roles in scrum</td>\n      <td>&lt;ul&gt;\\n&lt;li&gt;Product Owner (PO)&lt;/li&gt;\\n&lt;li&gt;Scrum M...</td>\n      <td>1390319485342</td>\n      <td>Scrum</td>\n    </tr>\n    <tr>\n      <th>2</th>\n      <td>2</td>\n      <td>What are the events in Scrum</td>\n      <td>&lt;ul&gt;\\n&lt;li&gt;Sprint Planning&lt;/li&gt;\\n&lt;li&gt;Daily Scru...</td>\n      <td>1390319607681</td>\n      <td>Scrum</td>\n    </tr>\n    <tr>\n      <th>3</th>\n      <td>3</td>\n      <td>What are the artifacts in Scrum</td>\n      <td>&lt;ul&gt;\\n&lt;li&gt;Product Backlog&lt;/li&gt;\\n&lt;li&gt;Product Bu...</td>\n      <td>1390319686841</td>\n      <td>Scrum</td>\n    </tr>\n    <tr>\n      <th>4</th>\n      <td>4</td>\n      <td>What's the main role of the Product Owner</td>\n      <td>Translate the business needs in the product ba...</td>\n      <td>1393853787833</td>\n      <td>Scrum</td>\n    </tr>\n    <tr>\n      <th>5</th>\n      <td>5</td>\n      <td>Who is responsible for the Product Backlog</td>\n      <td>The Product Owner</td>\n      <td>1393853821858</td>\n      <td>Scrum</td>\n    </tr>\n    <tr>\n      <th>6</th>\n      <td>6</td>\n      <td>Who order the Product Backlog</td>\n      <td>The Product Owner</td>\n      <td>1393853875956</td>\n      <td>Scrum</td>\n    </tr>\n    <tr>\n      <th>7</th>\n      <td>7</td>\n      <td>What's the role of the Development Team</td>\n      <td>Deliver potentially releasable increment of \"D...</td>\n      <td>1393853902116</td>\n      <td>Scrum</td>\n    </tr>\n    <tr>\n      <th>8</th>\n      <td>8</td>\n      <td>How is the Development Team organized</td>\n      <td>Self-organized</td>\n      <td>1393853966944</td>\n      <td>Scrum</td>\n    </tr>\n    <tr>\n      <th>9</th>\n      <td>9</td>\n      <td>What are the title in the development team</td>\n      <td>Developer (no other)</td>\n      <td>1393853987939</td>\n      <td>Scrum</td>\n    </tr>\n    <tr>\n      <th>10</th>\n      <td>10</td>\n      <td>Who ensure that Scrum is understood and enacted</td>\n      <td>The Scrum Master</td>\n      <td>1393854043217</td>\n      <td>Scrum</td>\n    </tr>\n    <tr>\n      <th>11</th>\n      <td>11</td>\n      <td>What are the main duties of the Scrum master</td>\n      <td>•&lt;span class=\"Apple-tab-span\" style=\"white-spa...</td>\n      <td>1393854071229</td>\n      <td>Scrum</td>\n    </tr>\n    <tr>\n      <th>12</th>\n      <td>12</td>\n      <td>Who can cancel a sprint</td>\n      <td>Product Owner</td>\n      <td>1393854116990</td>\n      <td>Scrum</td>\n    </tr>\n    <tr>\n      <th>13</th>\n      <td>13</td>\n      <td>When is a sprint canceld</td>\n      <td>When the goal becomes obsolete</td>\n      <td>1393854194778</td>\n      <td>Scrum</td>\n    </tr>\n    <tr>\n      <th>14</th>\n      <td>14</td>\n      <td>When is the sprint planning done?</td>\n      <td>At the beginning of each sprint</td>\n      <td>1393854223937</td>\n      <td>Scrum</td>\n    </tr>\n    <tr>\n      <th>15</th>\n      <td>15</td>\n      <td>Who is present at the sprint planning</td>\n      <td>Scrum Team (PO, SM, DT)</td>\n      <td>1393854268295</td>\n      <td>Scrum</td>\n    </tr>\n    <tr>\n      <th>16</th>\n      <td>16</td>\n      <td>What's the length of a sprint planning?</td>\n      <td>max 8hrs for 1 month sprint</td>\n      <td>1393854302852</td>\n      <td>Scrum</td>\n    </tr>\n    <tr>\n      <th>17</th>\n      <td>17</td>\n      <td>What's done during the sprint planning</td>\n      <td>•&lt;span class=\"Apple-tab-span\" style=\"white-spa...</td>\n      <td>1393854337960</td>\n      <td>Scrum</td>\n    </tr>\n    <tr>\n      <th>18</th>\n      <td>18</td>\n      <td>When does the Daily Scrum take place</td>\n      <td>Each days at the same time</td>\n      <td>1393854492533</td>\n      <td>Scrum</td>\n    </tr>\n    <tr>\n      <th>19</th>\n      <td>19</td>\n      <td>Where does the Daily Scrum take place</td>\n      <td>Every day at the same place</td>\n      <td>1393854578555</td>\n      <td>Scrum</td>\n    </tr>\n  </tbody>\n</table>\n</div>"
     },
     "execution_count": 6,
     "metadata": {},
     "output_type": "execute_result"
    }
   ],
   "source": [
    "df.head(20)"
   ],
   "metadata": {
    "collapsed": false,
    "ExecuteTime": {
     "start_time": "2023-04-24T11:04:23.585036Z",
     "end_time": "2023-04-24T11:04:23.628906Z"
    }
   }
  },
  {
   "cell_type": "code",
   "execution_count": 7,
   "outputs": [
    {
     "data": {
      "text/plain": "array(['Scrum', 'Database 2', 'Data Science Interviews\\x1fstats',\n       'Data Science Interviews\\x1fsupervised', 'Data Science Interviews',\n       'Data Science Interviews\\x1fclustering',\n       'Data Science Interviews\\x1fstats\\x1fhypothesis-testing',\n       'Data Science Interviews\\x1fmetrics',\n       'Data Science Interviews\\x1flinear-algebra',\n       'Data Science Interviews\\x1fstats\\x1fdistributions',\n       'Data Science Interviews\\x1ffeature-engineering',\n       'Data Science Interviews\\x1fsoft-skills',\n       'Operating System Concepts',\n       'Technologie und Innovationsmanagement by Carolin Häussler',\n       '.1 Master\\x1f.2 School\\x1fEconomics\\x1fSemester 1 economics\\x1f.1 Term 2\\x1f4 - Pricing stratagies',\n       '.1 Master\\x1f.2 School\\x1fEconomics\\x1fSemester 1 economics\\x1f.1 Term 2\\x1f5 - Production and productivity',\n       '.1 Master\\x1f.2 School\\x1fEconomics\\x1fSemester 1 economics\\x1f.1 Term 1\\x1f1 - The Economic Problem',\n       '.1 Master\\x1f.2 School\\x1fEconomics\\x1fSemester 1 economics\\x1f.1 Term 1\\x1f2 - Demand',\n       '.1 Master\\x1f.2 School\\x1fEconomics\\x1fSemester 1 economics\\x1f.1 Term 1\\x1f3 - Supply',\n       '.1 Master\\x1f.2 School\\x1fEconomics\\x1fSemester 1 economics\\x1f.1 Term 1\\x1f5 - Market failures',\n       '.1 Master\\x1f.2 School\\x1fEconomics\\x1fSemester 1 economics\\x1f.1 Term 1\\x1f7 - Labour market',\n       '.1 Master\\x1f.2 School\\x1fEconomics\\x1fSemester 1 economics\\x1f.1 Term 1\\x1f8 - Trade union',\n       '.1 Master\\x1f.2 School\\x1fEconomics\\x1fSemester 1 economics\\x1f.1 Term 2\\x1f1 - Company structures',\n       '.1 Master\\x1f.2 School\\x1fEconomics\\x1fSemester 1 economics\\x1f.1 Term 2\\x1f2 - Stock market',\n       '.1 Master\\x1f.2 School\\x1fEconomics\\x1fSemester 1 economics\\x1f.1 Term 2\\x1f3 - Market structure',\n       '.1 Master\\x1f.2 School\\x1fEconomics\\x1fSemester 1 economics\\x1f.1 Term 1\\x1f6 - Money',\n       '.1 Master\\x1f.2 School\\x1fEconomics\\x1fSemester 1 economics\\x1f.1 Term 2\\x1f6 - Business aims and objectives',\n       '.1 Master\\x1f.2 School\\x1fEconomics\\x1fSemester 1 economics\\x1f.1 Term 2\\x1f7 - Business size and economies of scale',\n       '.1 Master\\x1f.2 School\\x1fEconomics\\x1fSemester 1 economics\\x1f.1 Term 2\\x1f8 - Macroeconomic policy',\n       '.1 Master\\x1f.2 School\\x1fBusiness studies\\x1fSemester 1 business studies\\x1fTerm 1\\x1f1 - Business activity',\n       '.1 Master\\x1f.2 School\\x1fBusiness studies\\x1fSemester 1 business studies\\x1fTerm 1\\x1f2 - People in business',\n       '.1 Master\\x1f.2 School\\x1fBusiness studies\\x1fSemester 1 business studies\\x1fTerm 2\\x1f1 - Marketing',\n       '.1 Master\\x1f.2 School\\x1fBusiness studies\\x1fSemester 1 business studies\\x1fTerm 2\\x1f2 - Operations management',\n       'ITIL',\n       '.1 Master\\x1f.2 School\\x1fBusiness studies\\x1fSemester 2 business studies\\x1fTerm 3\\x1fFinancial informations and deciscions\\x1fBusiness finance, needs and sources',\n       '.1 Master\\x1f.2 School\\x1fEconomics\\x1fSemester 2 economics\\x1f.1 Term 3\\x1f1 - GDP and economic gowth',\n       '.1 Master\\x1f.2 School\\x1fEconomics\\x1fSemester 2 economics\\x1f.1 Term 3\\x1f2 - Poverty',\n       \".1 Master\\x1f.2 School\\x1fEconomics\\x1fSemester 2 economics\\x1f.1 Term 3\\x1f3 - MEDC's and LEDC's\",\n       '.1 Master\\x1f.2 School\\x1fEconomics\\x1fSemester 2 economics\\x1f.1 Term 3\\x1f5 - Employment and Unemployment',\n       '.1 Master\\x1f.2 School\\x1fEconomics\\x1fSemester 2 economics\\x1f.1 Term 3\\x1f4 - Population',\n       '.1 Master\\x1f.2 School\\x1fEconomics\\x1fSemester 2 economics\\x1f.1 Term 3\\x1f6 - Inflation',\n       '.1 Master\\x1f.2 School\\x1fPhysics\\x1fElectricity',\n       '.1 Master\\x1f.2 School\\x1fBusiness studies\\x1fSemester 2 business studies\\x1fTerm 3\\x1fFinancial informations and deciscions\\x1fFinancial forecasts',\n       '.1 Master\\x1f.2 School\\x1fEconomics\\x1fSemester 2 economics\\x1f.1 Term 3\\x1f7 - Business and the international economy',\n       'Accounting unit 1\\x1fdefinitions test',\n       '02 Business Management\\x1f01 Business Organisations and Environment\\x1f02 Types of Organisations',\n       '02 Business Management\\x1f01 Business Organisations and Environment\\x1f01 Introduction to Business Management',\n       '02 Business Management\\x1f01 Business Organisations and Environment\\x1f03 Organisational Objectives',\n       '02 Business Management\\x1f01 Business Organisations and Environment\\x1f04 Stakeholders',\n       '02 Business Management\\x1f01 Business Organisations and Environment\\x1f05 External Environment',\n       '02 Business Management\\x1f01 Business Organisations and Environment\\x1f06 Growth and Evolution',\n       '02 Business Management\\x1f01 Business Organisations and Environment\\x1f07 Organisational Planning Tools',\n       '02 Business Management\\x1f03 Finance and Accounts\\x1f01 Sources of Finance',\n       '02 Business Management\\x1f03 Finance and Accounts\\x1f02 Cost and Revenues',\n       '02 Business Management\\x1f03 Finance and Accounts\\x1f03 Break-Even Analysis',\n       '02 Business Management\\x1f03 Finance and Accounts\\x1f04 Final Accounts',\n       '02 Business Management\\x1f03 Finance and Accounts\\x1f05 Profitability and LIquidity Ratio',\n       '02 Business Management\\x1f03 Finance and Accounts\\x1f06 Efficiency Ratio Analysis',\n       '02 Business Management\\x1f03 Finance and Accounts\\x1f07 Cash Flow',\n       '02 Business Management\\x1f03 Finance and Accounts\\x1f08 Investment Appriasal',\n       '02 Business Management\\x1f03 Finance and Accounts\\x1f09 Budgets',\n       'Default',\n       'C954 Information Technology Management\\x1fSection 2 (12%) Information Systems Terminology\\x1fSection 2 Vocab',\n       'C954 Information Technology Management\\x1fSection 3 (21%) Delivering Value with Systems and Applications\\x1fSection 3 Vocab',\n       'C954 Information Technology Management\\x1fSection 4 (29%) Development Methodologies and Product Delivery\\x1fSection 4 Vocab',\n       'C954 Information Technology Management\\x1fSection 5 (10%) Information Security\\x1fSection 5 Vocab',\n       'C954 Information Technology Management\\x1fSection 6 (16%) Ethical Behaviors and Regulatory Compliance\\x1fSection 6 Vocab',\n       'C954 Information Technology Management\\x1fSection 2 (12%) Information Systems Terminology\\x1fBDT Chapter 06 Valuing and Storing Organizational Information - Databases',\n       'C954 Information Technology Management\\x1fSection 2 (12%) Information Systems Terminology\\x1fBDT Chapter 08 Understanding Big Data and Its Impact on Business',\n       'C954 Information Technology Management\\x1fSection 2 (12%) Information Systems Terminology\\x1fBDT Chapter 16 Integrating Wireless Technology in Business',\n       'C954 Information Technology Management\\x1fSection 3 (21%) Delivering Value with Systems and Applications\\x1fBDT Chapter 15 Creating Collaborative Partnerships',\n       'C954 Information Technology Management\\x1fSection 4 (29%) Development Methodologies and Product Delivery\\x1fBDT Chapter 02 Identifying Competitive Advantages',\n       'C954 Information Technology Management\\x1fSection 4 (29%) Development Methodologies and Product Delivery\\x1fBDT Chapter 17 Developing Software to Streamline Operations',\n       'C954 Information Technology Management\\x1fSection 4 (29%) Development Methodologies and Product Delivery\\x1fBDT Chapter 18 Methodologies for Supporting Agile Organizations',\n       'C954 Information Technology Management\\x1fSection 4 (29%) Development Methodologies and Product Delivery\\x1fBDT Chapter 19 Managing Organizational Projects',\n       'C954 Information Technology Management\\x1fSection 6 (16%) Ethical Behaviors and Regulatory Compliance\\x1fBDT Plug-In B11 Global Information Systems',\n       'Naparima College [2018- 2025]\\x1fCSEC (2023)\\x1fInformation Technology',\n       'Naparima College [2018- 2025]\\x1fCSEC (2023)\\x1fInformation Technology\\x1fIT - Major Components of Computers',\n       'Naparima College [2018- 2025]\\x1fCSEC (2023)\\x1fInformation Technology\\x1fIT - Secondary Storage',\n       'Naparima College [2018- 2025]\\x1fCSEC (2023)\\x1fInformation Technology\\x1fIT - Cloud Storage',\n       'Naparima College [2018- 2025]\\x1fCSEC (2023)\\x1fInformation Technology\\x1fIT - Input and Output Devices',\n       'Naparima College [2018- 2025]\\x1fCSEC (2023)\\x1fInformation Technology\\x1fIT - Software',\n       'Naparima College [2018- 2025]\\x1fCSEC (2023)\\x1fInformation Technology\\x1fIT - User Interfaces',\n       'Naparima College [2018- 2025]\\x1fCSEC (2023)\\x1fInformation Technology\\x1fIT - Computer Specifications',\n       'Naparima College [2018- 2025]\\x1fCSEC (2023)\\x1fInformation Technology\\x1fIT - Information Processing',\n       'Naparima College [2018- 2025]\\x1fCSEC (2023)\\x1fInformation Technology\\x1fIT - Validation and Verification',\n       'Naparima College [2018- 2025]\\x1fCSEC (2023)\\x1fInformation Technology\\x1fIT - File Access Methods',\n       'Naparima College [2018- 2025]\\x1fCSEC (2023)\\x1fInformation Technology\\x1fIT - Table Creation',\n       'Naparima College [2018- 2025]\\x1fCSEC (2023)\\x1fInformation Technology\\x1fIT - Mail Merge',\n       'Naparima College [2018- 2025]\\x1fCSEC (2023)\\x1fInformation Technology\\x1fIT - Reasons for Creating a Website',\n       \"Naparima College [2018- 2025]\\x1fCSEC (2023)\\x1fInformation Technology\\x1fIT - Evaluating a Website's Accuracy\",\n       'Naparima College [2018- 2025]\\x1fCSEC (2023)\\x1fInformation Technology\\x1fIT - Computer Netowrks, Web Technologies',\n       'Naparima College [2018- 2025]\\x1fCSEC (2023)\\x1fInformation Technology\\x1fIT - Computer Security, Misuse and Countermeasures',\n       'Naparima College [2018- 2025]\\x1fCSEC (2023)\\x1fInformation Technology\\x1fIT - Problem Solving',\n       'Naparima College [2018- 2025]\\x1fCSEC (2023)\\x1fInformation Technology\\x1fIT - Variables Constants Data Types',\n       'Naparima College [2018- 2025]\\x1fCSEC (2023)\\x1fInformation Technology\\x1fIT - Operations',\n       'Naparima College [2018- 2025]\\x1fCSEC (2023)\\x1fInformation Technology\\x1fIT - ProgramLifecycle, Errors and LanguageLevels',\n       'Z PMP detail areas', 'Z PMP Equations', 'Z PMP Equation Concepts',\n       'Z Agile concepts', 'Z Project Chart Types',\n       'Z PMP Process Concepts', 'Z PMP Practice concepts'], dtype=object)"
     },
     "execution_count": 7,
     "metadata": {},
     "output_type": "execute_result"
    }
   ],
   "source": [
    "df.cdeck.unique()"
   ],
   "metadata": {
    "collapsed": false,
    "ExecuteTime": {
     "start_time": "2023-04-24T11:04:23.623062Z",
     "end_time": "2023-04-24T11:04:23.648368Z"
    }
   }
  },
  {
   "cell_type": "markdown",
   "source": [
    "Image pastes in the data"
   ],
   "metadata": {
    "collapsed": false
   }
  },
  {
   "cell_type": "code",
   "execution_count": 8,
   "outputs": [
    {
     "data": {
      "text/plain": "False    98.262318\nTrue      1.737682\nName: nfld_Back, dtype: float64"
     },
     "execution_count": 8,
     "metadata": {},
     "output_type": "execute_result"
    }
   ],
   "source": [
    "# flashcard back\n",
    "df.nfld_Back.apply(lambda x: bool(re.match(r\"<img.*\" ,x))).value_counts()/len(df.nfld_Back)*100"
   ],
   "metadata": {
    "collapsed": false,
    "ExecuteTime": {
     "start_time": "2023-04-24T11:04:23.631377Z",
     "end_time": "2023-04-24T11:04:23.844967Z"
    }
   }
  },
  {
   "cell_type": "markdown",
   "source": [],
   "metadata": {
    "collapsed": false
   }
  },
  {
   "cell_type": "code",
   "execution_count": 9,
   "outputs": [
    {
     "data": {
      "text/plain": "False    99.571531\nTrue      0.428469\nName: nfld_Front, dtype: float64"
     },
     "execution_count": 9,
     "metadata": {},
     "output_type": "execute_result"
    }
   ],
   "source": [
    "df.nfld_Front.apply(lambda x: bool(re.match(r\"<img.*\" ,x))).value_counts()/len(df.nfld_Front)*100\n"
   ],
   "metadata": {
    "collapsed": false,
    "ExecuteTime": {
     "start_time": "2023-04-24T11:04:23.662065Z",
     "end_time": "2023-04-24T11:04:23.894244Z"
    }
   }
  },
  {
   "cell_type": "markdown",
   "source": [
    "only 1.7% of the flashcards have image pastes in them"
   ],
   "metadata": {
    "collapsed": false
   }
  },
  {
   "cell_type": "markdown",
   "source": [
    "data with actual question marks at end on the front of card"
   ],
   "metadata": {
    "collapsed": false
   }
  },
  {
   "cell_type": "code",
   "execution_count": 10,
   "outputs": [
    {
     "data": {
      "text/plain": "True     2274\nFalse    1927\nName: nfld_Front, dtype: int64"
     },
     "execution_count": 10,
     "metadata": {},
     "output_type": "execute_result"
    }
   ],
   "source": [
    "df.nfld_Front.apply(lambda x: bool(re.match(r\".*[?]\" ,x))).value_counts()\n"
   ],
   "metadata": {
    "collapsed": false,
    "ExecuteTime": {
     "start_time": "2023-04-24T11:04:23.698438Z",
     "end_time": "2023-04-24T11:04:23.894555Z"
    }
   }
  },
  {
   "cell_type": "code",
   "execution_count": 11,
   "outputs": [
    {
     "data": {
      "text/plain": "True     54.129969\nFalse    45.870031\nName: nfld_Front, dtype: float64"
     },
     "execution_count": 11,
     "metadata": {},
     "output_type": "execute_result"
    }
   ],
   "source": [
    "df.nfld_Front.apply(lambda x: bool(re.match(r\".*[?]\" ,x))).value_counts()/len(df.nfld_Front)*100"
   ],
   "metadata": {
    "collapsed": false,
    "ExecuteTime": {
     "start_time": "2023-04-24T11:04:23.736735Z",
     "end_time": "2023-04-24T11:04:23.895164Z"
    }
   }
  },
  {
   "cell_type": "markdown",
   "source": [
    "Cells with obvious question starting words"
   ],
   "metadata": {
    "collapsed": false
   }
  },
  {
   "cell_type": "code",
   "execution_count": 12,
   "outputs": [
    {
     "data": {
      "text/plain": "False    2129\nTrue     2072\nName: nfld_Front, dtype: int64"
     },
     "execution_count": 12,
     "metadata": {},
     "output_type": "execute_result"
    }
   ],
   "source": [
    "df.nfld_Front.apply(lambda x: bool(re.match(\"([hH]ow|[wW]hy|[wW]hat|[wW]ho|[wW]here|[wW]hen).*\",x))).value_counts()"
   ],
   "metadata": {
    "collapsed": false,
    "ExecuteTime": {
     "start_time": "2023-04-24T11:04:23.767949Z",
     "end_time": "2023-04-24T11:04:23.895810Z"
    }
   }
  },
  {
   "cell_type": "code",
   "execution_count": 13,
   "outputs": [
    {
     "data": {
      "text/plain": "False    50.67841\nTrue     49.32159\nName: nfld_Front, dtype: float64"
     },
     "execution_count": 13,
     "metadata": {},
     "output_type": "execute_result"
    }
   ],
   "source": [
    "df.nfld_Front.apply(lambda x: bool(re.match(\"([hH]ow|[wW]hy|[wW]hat|[wW]ho|[wW]here|[wW]hen).*\",x))).value_counts()/len(df.nfld_Front)*100\n"
   ],
   "metadata": {
    "collapsed": false,
    "ExecuteTime": {
     "start_time": "2023-04-24T11:04:23.798475Z",
     "end_time": "2023-04-24T11:04:23.896150Z"
    }
   }
  },
  {
   "cell_type": "markdown",
   "source": [
    "About 54% of cards are questions in the most basic form i.e. with a question mark at the end. Also, about 50% start with the obvious words which usually occur in front of a question (although not exclusive)."
   ],
   "metadata": {
    "collapsed": false
   }
  },
  {
   "cell_type": "markdown",
   "source": [
    "data formatting for Img to text"
   ],
   "metadata": {
    "collapsed": false
   }
  },
  {
   "cell_type": "code",
   "execution_count": 14,
   "outputs": [],
   "source": [
    "df['nflds']= df[[\"nfld_Front\",\"nfld_Back\"]].values.tolist()"
   ],
   "metadata": {
    "collapsed": false,
    "ExecuteTime": {
     "start_time": "2023-04-24T11:04:23.833214Z",
     "end_time": "2023-04-24T11:04:23.896293Z"
    }
   }
  },
  {
   "cell_type": "code",
   "execution_count": 15,
   "outputs": [
    {
     "data": {
      "text/plain": "   Unnamed: 0                                 nfld_Front  \\\n0           0        What is the Scrum process Framework   \n1           1                What are the roles in scrum   \n2           2               What are the events in Scrum   \n3           3            What are the artifacts in Scrum   \n4           4  What's the main role of the Product Owner   \n\n                                           nfld_Back            nid  cdeck  \\\n0  <ul>\\n<li>Transparency</li>\\n<li>Inspection</l...  1390319421487  Scrum   \n1  <ul>\\n<li>Product Owner (PO)</li>\\n<li>Scrum M...  1390319485342  Scrum   \n2  <ul>\\n<li>Sprint Planning</li>\\n<li>Daily Scru...  1390319607681  Scrum   \n3  <ul>\\n<li>Product Backlog</li>\\n<li>Product Bu...  1390319686841  Scrum   \n4  Translate the business needs in the product ba...  1393853787833  Scrum   \n\n                                               nflds  \n0  [What is the Scrum process Framework, <ul>\\n<l...  \n1  [What are the roles in scrum, <ul>\\n<li>Produc...  \n2  [What are the events in Scrum, <ul>\\n<li>Sprin...  \n3  [What are the artifacts in Scrum, <ul>\\n<li>Pr...  \n4  [What's the main role of the Product Owner, Tr...  ",
      "text/html": "<div>\n<style scoped>\n    .dataframe tbody tr th:only-of-type {\n        vertical-align: middle;\n    }\n\n    .dataframe tbody tr th {\n        vertical-align: top;\n    }\n\n    .dataframe thead th {\n        text-align: right;\n    }\n</style>\n<table border=\"1\" class=\"dataframe\">\n  <thead>\n    <tr style=\"text-align: right;\">\n      <th></th>\n      <th>Unnamed: 0</th>\n      <th>nfld_Front</th>\n      <th>nfld_Back</th>\n      <th>nid</th>\n      <th>cdeck</th>\n      <th>nflds</th>\n    </tr>\n  </thead>\n  <tbody>\n    <tr>\n      <th>0</th>\n      <td>0</td>\n      <td>What is the Scrum process Framework</td>\n      <td>&lt;ul&gt;\\n&lt;li&gt;Transparency&lt;/li&gt;\\n&lt;li&gt;Inspection&lt;/l...</td>\n      <td>1390319421487</td>\n      <td>Scrum</td>\n      <td>[What is the Scrum process Framework, &lt;ul&gt;\\n&lt;l...</td>\n    </tr>\n    <tr>\n      <th>1</th>\n      <td>1</td>\n      <td>What are the roles in scrum</td>\n      <td>&lt;ul&gt;\\n&lt;li&gt;Product Owner (PO)&lt;/li&gt;\\n&lt;li&gt;Scrum M...</td>\n      <td>1390319485342</td>\n      <td>Scrum</td>\n      <td>[What are the roles in scrum, &lt;ul&gt;\\n&lt;li&gt;Produc...</td>\n    </tr>\n    <tr>\n      <th>2</th>\n      <td>2</td>\n      <td>What are the events in Scrum</td>\n      <td>&lt;ul&gt;\\n&lt;li&gt;Sprint Planning&lt;/li&gt;\\n&lt;li&gt;Daily Scru...</td>\n      <td>1390319607681</td>\n      <td>Scrum</td>\n      <td>[What are the events in Scrum, &lt;ul&gt;\\n&lt;li&gt;Sprin...</td>\n    </tr>\n    <tr>\n      <th>3</th>\n      <td>3</td>\n      <td>What are the artifacts in Scrum</td>\n      <td>&lt;ul&gt;\\n&lt;li&gt;Product Backlog&lt;/li&gt;\\n&lt;li&gt;Product Bu...</td>\n      <td>1390319686841</td>\n      <td>Scrum</td>\n      <td>[What are the artifacts in Scrum, &lt;ul&gt;\\n&lt;li&gt;Pr...</td>\n    </tr>\n    <tr>\n      <th>4</th>\n      <td>4</td>\n      <td>What's the main role of the Product Owner</td>\n      <td>Translate the business needs in the product ba...</td>\n      <td>1393853787833</td>\n      <td>Scrum</td>\n      <td>[What's the main role of the Product Owner, Tr...</td>\n    </tr>\n  </tbody>\n</table>\n</div>"
     },
     "execution_count": 15,
     "metadata": {},
     "output_type": "execute_result"
    }
   ],
   "source": [
    "df.head()"
   ],
   "metadata": {
    "collapsed": false,
    "ExecuteTime": {
     "start_time": "2023-04-24T11:04:23.839712Z",
     "end_time": "2023-04-24T11:04:23.896556Z"
    }
   }
  },
  {
   "cell_type": "code",
   "execution_count": 16,
   "outputs": [],
   "source": [
    "df.to_csv(\"flashcards_img_format.csv\")"
   ],
   "metadata": {
    "collapsed": false,
    "ExecuteTime": {
     "start_time": "2023-04-24T11:04:41.438890Z",
     "end_time": "2023-04-24T11:04:41.506717Z"
    }
   }
  },
  {
   "cell_type": "code",
   "execution_count": 17,
   "outputs": [
    {
     "data": {
      "text/plain": "      Unnamed: 0.1  Unnamed: 0  \\\n0                0           0   \n1                1           1   \n2                2           2   \n3                3           3   \n4                4           4   \n...            ...         ...   \n4196          4985        4985   \n4197          4986        4986   \n4198          4987        4987   \n4199          4988        4988   \n4200          4989        4989   \n\n                                             nfld_Front  \\\n0                   What is the Scrum process Framework   \n1                           What are the roles in scrum   \n2                          What are the events in Scrum   \n3                       What are the artifacts in Scrum   \n4             What's the main role of the Product Owner   \n...                                                 ...   \n4196  How are cost plus and fixed fee contracts diff...   \n4197        When is quality assessed in Agile projects?   \n4198  &nbsp;<span style=\"color: rgb(51, 51, 51); fon...   \n4199                       Agile Team Responsibilities?   \n4200        What does it mean to use the budgeted rate?   \n\n                                              nfld_Back            nid  \\\n0     <ul>\\n<li>Transparency</li>\\n<li>Inspection</l...  1390319421487   \n1     <ul>\\n<li>Product Owner (PO)</li>\\n<li>Scrum M...  1390319485342   \n2     <ul>\\n<li>Sprint Planning</li>\\n<li>Daily Scru...  1390319607681   \n3     <ul>\\n<li>Product Backlog</li>\\n<li>Product Bu...  1390319686841   \n4     Translate the business needs in the product ba...  1393853787833   \n...                                                 ...            ...   \n4196  Cost plus is good for evolving work<div><br></...  1666621607498   \n4197  Frequently, through built-in steps throughout ...  1666621885435   \n4198  <div>Inform them that this is known as a plann...  1666627163918   \n4199  Product Owner - represents customers, accounta...  1666628126743   \n4200  Variances atypical - this means use the EAC fo...  1666640852028   \n\n                   cdeck                                              nflds  \n0                  Scrum  ['What is the Scrum process Framework', '<ul>\\...  \n1                  Scrum  ['What are the roles in scrum', '<ul>\\n<li>Pro...  \n2                  Scrum  ['What are the events in Scrum', '<ul>\\n<li>Sp...  \n3                  Scrum  ['What are the artifacts in Scrum', '<ul>\\n<li...  \n4                  Scrum  [\"What's the main role of the Product Owner\", ...  \n...                  ...                                                ...  \n4196  Z PMP detail areas  ['How are cost plus and fixed fee contracts di...  \n4197  Z PMP detail areas  ['When is quality assessed in Agile projects?'...  \n4198  Z PMP detail areas  ['&nbsp;<span style=\"color: rgb(51, 51, 51); f...  \n4199  Z PMP detail areas  ['Agile Team Responsibilities?', 'Product Owne...  \n4200  Z PMP detail areas  ['What does it mean to use the budgeted rate?'...  \n\n[4201 rows x 7 columns]",
      "text/html": "<div>\n<style scoped>\n    .dataframe tbody tr th:only-of-type {\n        vertical-align: middle;\n    }\n\n    .dataframe tbody tr th {\n        vertical-align: top;\n    }\n\n    .dataframe thead th {\n        text-align: right;\n    }\n</style>\n<table border=\"1\" class=\"dataframe\">\n  <thead>\n    <tr style=\"text-align: right;\">\n      <th></th>\n      <th>Unnamed: 0.1</th>\n      <th>Unnamed: 0</th>\n      <th>nfld_Front</th>\n      <th>nfld_Back</th>\n      <th>nid</th>\n      <th>cdeck</th>\n      <th>nflds</th>\n    </tr>\n  </thead>\n  <tbody>\n    <tr>\n      <th>0</th>\n      <td>0</td>\n      <td>0</td>\n      <td>What is the Scrum process Framework</td>\n      <td>&lt;ul&gt;\\n&lt;li&gt;Transparency&lt;/li&gt;\\n&lt;li&gt;Inspection&lt;/l...</td>\n      <td>1390319421487</td>\n      <td>Scrum</td>\n      <td>['What is the Scrum process Framework', '&lt;ul&gt;\\...</td>\n    </tr>\n    <tr>\n      <th>1</th>\n      <td>1</td>\n      <td>1</td>\n      <td>What are the roles in scrum</td>\n      <td>&lt;ul&gt;\\n&lt;li&gt;Product Owner (PO)&lt;/li&gt;\\n&lt;li&gt;Scrum M...</td>\n      <td>1390319485342</td>\n      <td>Scrum</td>\n      <td>['What are the roles in scrum', '&lt;ul&gt;\\n&lt;li&gt;Pro...</td>\n    </tr>\n    <tr>\n      <th>2</th>\n      <td>2</td>\n      <td>2</td>\n      <td>What are the events in Scrum</td>\n      <td>&lt;ul&gt;\\n&lt;li&gt;Sprint Planning&lt;/li&gt;\\n&lt;li&gt;Daily Scru...</td>\n      <td>1390319607681</td>\n      <td>Scrum</td>\n      <td>['What are the events in Scrum', '&lt;ul&gt;\\n&lt;li&gt;Sp...</td>\n    </tr>\n    <tr>\n      <th>3</th>\n      <td>3</td>\n      <td>3</td>\n      <td>What are the artifacts in Scrum</td>\n      <td>&lt;ul&gt;\\n&lt;li&gt;Product Backlog&lt;/li&gt;\\n&lt;li&gt;Product Bu...</td>\n      <td>1390319686841</td>\n      <td>Scrum</td>\n      <td>['What are the artifacts in Scrum', '&lt;ul&gt;\\n&lt;li...</td>\n    </tr>\n    <tr>\n      <th>4</th>\n      <td>4</td>\n      <td>4</td>\n      <td>What's the main role of the Product Owner</td>\n      <td>Translate the business needs in the product ba...</td>\n      <td>1393853787833</td>\n      <td>Scrum</td>\n      <td>[\"What's the main role of the Product Owner\", ...</td>\n    </tr>\n    <tr>\n      <th>...</th>\n      <td>...</td>\n      <td>...</td>\n      <td>...</td>\n      <td>...</td>\n      <td>...</td>\n      <td>...</td>\n      <td>...</td>\n    </tr>\n    <tr>\n      <th>4196</th>\n      <td>4985</td>\n      <td>4985</td>\n      <td>How are cost plus and fixed fee contracts diff...</td>\n      <td>Cost plus is good for evolving work&lt;div&gt;&lt;br&gt;&lt;/...</td>\n      <td>1666621607498</td>\n      <td>Z PMP detail areas</td>\n      <td>['How are cost plus and fixed fee contracts di...</td>\n    </tr>\n    <tr>\n      <th>4197</th>\n      <td>4986</td>\n      <td>4986</td>\n      <td>When is quality assessed in Agile projects?</td>\n      <td>Frequently, through built-in steps throughout ...</td>\n      <td>1666621885435</td>\n      <td>Z PMP detail areas</td>\n      <td>['When is quality assessed in Agile projects?'...</td>\n    </tr>\n    <tr>\n      <th>4198</th>\n      <td>4987</td>\n      <td>4987</td>\n      <td>&amp;nbsp;&lt;span style=\"color: rgb(51, 51, 51); fon...</td>\n      <td>&lt;div&gt;Inform them that this is known as a plann...</td>\n      <td>1666627163918</td>\n      <td>Z PMP detail areas</td>\n      <td>['&amp;nbsp;&lt;span style=\"color: rgb(51, 51, 51); f...</td>\n    </tr>\n    <tr>\n      <th>4199</th>\n      <td>4988</td>\n      <td>4988</td>\n      <td>Agile Team Responsibilities?</td>\n      <td>Product Owner - represents customers, accounta...</td>\n      <td>1666628126743</td>\n      <td>Z PMP detail areas</td>\n      <td>['Agile Team Responsibilities?', 'Product Owne...</td>\n    </tr>\n    <tr>\n      <th>4200</th>\n      <td>4989</td>\n      <td>4989</td>\n      <td>What does it mean to use the budgeted rate?</td>\n      <td>Variances atypical - this means use the EAC fo...</td>\n      <td>1666640852028</td>\n      <td>Z PMP detail areas</td>\n      <td>['What does it mean to use the budgeted rate?'...</td>\n    </tr>\n  </tbody>\n</table>\n<p>4201 rows × 7 columns</p>\n</div>"
     },
     "execution_count": 17,
     "metadata": {},
     "output_type": "execute_result"
    }
   ],
   "source": [
    "pd.read_csv(\"flashcards_img_format.csv\")"
   ],
   "metadata": {
    "collapsed": false,
    "ExecuteTime": {
     "start_time": "2023-04-24T11:07:49.357509Z",
     "end_time": "2023-04-24T11:07:49.407473Z"
    }
   }
  },
  {
   "cell_type": "markdown",
   "source": [
    "Cleaning data for text to text models"
   ],
   "metadata": {
    "collapsed": false
   }
  },
  {
   "cell_type": "code",
   "execution_count": 18,
   "outputs": [],
   "source": [
    "CLEANR = re.compile('<.*?>|&([a-z0-9]+|#[0-9]{1,6}|#x[0-9a-f]{1,6});')\n",
    "\n",
    "def cleanhtml(raw_html):\n",
    "  cleantext = re.sub(CLEANR, '', raw_html)\n",
    "  return cleantext"
   ],
   "metadata": {
    "collapsed": false,
    "ExecuteTime": {
     "start_time": "2023-04-24T11:08:14.057489Z",
     "end_time": "2023-04-24T11:08:14.065729Z"
    }
   }
  },
  {
   "cell_type": "code",
   "execution_count": 19,
   "outputs": [],
   "source": [
    "df[\"nfld_Back\"]=df.nfld_Back.apply(lambda x: cleanhtml(x))\n",
    "df[\"nfld_Front\"]=df.nfld_Front.apply(lambda x: cleanhtml(x))\n"
   ],
   "metadata": {
    "collapsed": false,
    "ExecuteTime": {
     "start_time": "2023-04-24T11:08:14.340185Z",
     "end_time": "2023-04-24T11:08:14.421695Z"
    }
   }
  },
  {
   "cell_type": "code",
   "execution_count": 20,
   "outputs": [
    {
     "data": {
      "text/plain": "      Unnamed: 0                                         nfld_Front  \\\n0              0                What is the Scrum process Framework   \n1              1                        What are the roles in scrum   \n2              2                       What are the events in Scrum   \n3              3                    What are the artifacts in Scrum   \n4              4          What's the main role of the Product Owner   \n...          ...                                                ...   \n4985        4985  How are cost plus and fixed fee contracts diff...   \n4986        4986        When is quality assessed in Agile projects?   \n4987        4987  When creating the work breakdown structure a t...   \n4988        4988                       Agile Team Responsibilities?   \n4989        4989        What does it mean to use the budgeted rate?   \n\n                                              nfld_Back            nid  \\\n0              \\nTransparency\\nInspection\\nAdaptation\\n  1390319421487   \n1     \\nProduct Owner (PO)\\nScrum Master (SM)\\nDevel...  1390319485342   \n2     \\nSprint Planning\\nDaily Scrum\\nSprint review\\...  1390319607681   \n3     \\nProduct Backlog\\nProduct Burn-up/down chart ...  1390319686841   \n4     Translate the business needs in the product ba...  1393853787833   \n...                                                 ...            ...   \n4985  Cost plus is good for evolving workFixed fee i...  1666621607498   \n4986  Frequently, through built-in steps throughout ...  1666621885435   \n4987  Inform them that this is known as a planning p...  1666627163918   \n4988  Product Owner - represents customers, accounta...  1666628126743   \n4989  Variances atypical - this means use the EAC fo...  1666640852028   \n\n                   cdeck                                              nflds  \n0                  Scrum  [What is the Scrum process Framework, <ul>\\n<l...  \n1                  Scrum  [What are the roles in scrum, <ul>\\n<li>Produc...  \n2                  Scrum  [What are the events in Scrum, <ul>\\n<li>Sprin...  \n3                  Scrum  [What are the artifacts in Scrum, <ul>\\n<li>Pr...  \n4                  Scrum  [What's the main role of the Product Owner, Tr...  \n...                  ...                                                ...  \n4985  Z PMP detail areas  [How are cost plus and fixed fee contracts dif...  \n4986  Z PMP detail areas  [When is quality assessed in Agile projects?, ...  \n4987  Z PMP detail areas  [&nbsp;<span style=\"color: rgb(51, 51, 51); fo...  \n4988  Z PMP detail areas  [Agile Team Responsibilities?, Product Owner -...  \n4989  Z PMP detail areas  [What does it mean to use the budgeted rate?, ...  \n\n[4201 rows x 6 columns]",
      "text/html": "<div>\n<style scoped>\n    .dataframe tbody tr th:only-of-type {\n        vertical-align: middle;\n    }\n\n    .dataframe tbody tr th {\n        vertical-align: top;\n    }\n\n    .dataframe thead th {\n        text-align: right;\n    }\n</style>\n<table border=\"1\" class=\"dataframe\">\n  <thead>\n    <tr style=\"text-align: right;\">\n      <th></th>\n      <th>Unnamed: 0</th>\n      <th>nfld_Front</th>\n      <th>nfld_Back</th>\n      <th>nid</th>\n      <th>cdeck</th>\n      <th>nflds</th>\n    </tr>\n  </thead>\n  <tbody>\n    <tr>\n      <th>0</th>\n      <td>0</td>\n      <td>What is the Scrum process Framework</td>\n      <td>\\nTransparency\\nInspection\\nAdaptation\\n</td>\n      <td>1390319421487</td>\n      <td>Scrum</td>\n      <td>[What is the Scrum process Framework, &lt;ul&gt;\\n&lt;l...</td>\n    </tr>\n    <tr>\n      <th>1</th>\n      <td>1</td>\n      <td>What are the roles in scrum</td>\n      <td>\\nProduct Owner (PO)\\nScrum Master (SM)\\nDevel...</td>\n      <td>1390319485342</td>\n      <td>Scrum</td>\n      <td>[What are the roles in scrum, &lt;ul&gt;\\n&lt;li&gt;Produc...</td>\n    </tr>\n    <tr>\n      <th>2</th>\n      <td>2</td>\n      <td>What are the events in Scrum</td>\n      <td>\\nSprint Planning\\nDaily Scrum\\nSprint review\\...</td>\n      <td>1390319607681</td>\n      <td>Scrum</td>\n      <td>[What are the events in Scrum, &lt;ul&gt;\\n&lt;li&gt;Sprin...</td>\n    </tr>\n    <tr>\n      <th>3</th>\n      <td>3</td>\n      <td>What are the artifacts in Scrum</td>\n      <td>\\nProduct Backlog\\nProduct Burn-up/down chart ...</td>\n      <td>1390319686841</td>\n      <td>Scrum</td>\n      <td>[What are the artifacts in Scrum, &lt;ul&gt;\\n&lt;li&gt;Pr...</td>\n    </tr>\n    <tr>\n      <th>4</th>\n      <td>4</td>\n      <td>What's the main role of the Product Owner</td>\n      <td>Translate the business needs in the product ba...</td>\n      <td>1393853787833</td>\n      <td>Scrum</td>\n      <td>[What's the main role of the Product Owner, Tr...</td>\n    </tr>\n    <tr>\n      <th>...</th>\n      <td>...</td>\n      <td>...</td>\n      <td>...</td>\n      <td>...</td>\n      <td>...</td>\n      <td>...</td>\n    </tr>\n    <tr>\n      <th>4985</th>\n      <td>4985</td>\n      <td>How are cost plus and fixed fee contracts diff...</td>\n      <td>Cost plus is good for evolving workFixed fee i...</td>\n      <td>1666621607498</td>\n      <td>Z PMP detail areas</td>\n      <td>[How are cost plus and fixed fee contracts dif...</td>\n    </tr>\n    <tr>\n      <th>4986</th>\n      <td>4986</td>\n      <td>When is quality assessed in Agile projects?</td>\n      <td>Frequently, through built-in steps throughout ...</td>\n      <td>1666621885435</td>\n      <td>Z PMP detail areas</td>\n      <td>[When is quality assessed in Agile projects?, ...</td>\n    </tr>\n    <tr>\n      <th>4987</th>\n      <td>4987</td>\n      <td>When creating the work breakdown structure a t...</td>\n      <td>Inform them that this is known as a planning p...</td>\n      <td>1666627163918</td>\n      <td>Z PMP detail areas</td>\n      <td>[&amp;nbsp;&lt;span style=\"color: rgb(51, 51, 51); fo...</td>\n    </tr>\n    <tr>\n      <th>4988</th>\n      <td>4988</td>\n      <td>Agile Team Responsibilities?</td>\n      <td>Product Owner - represents customers, accounta...</td>\n      <td>1666628126743</td>\n      <td>Z PMP detail areas</td>\n      <td>[Agile Team Responsibilities?, Product Owner -...</td>\n    </tr>\n    <tr>\n      <th>4989</th>\n      <td>4989</td>\n      <td>What does it mean to use the budgeted rate?</td>\n      <td>Variances atypical - this means use the EAC fo...</td>\n      <td>1666640852028</td>\n      <td>Z PMP detail areas</td>\n      <td>[What does it mean to use the budgeted rate?, ...</td>\n    </tr>\n  </tbody>\n</table>\n<p>4201 rows × 6 columns</p>\n</div>"
     },
     "execution_count": 20,
     "metadata": {},
     "output_type": "execute_result"
    }
   ],
   "source": [
    "df"
   ],
   "metadata": {
    "collapsed": false,
    "ExecuteTime": {
     "start_time": "2023-04-24T11:08:14.686358Z",
     "end_time": "2023-04-24T11:08:14.690299Z"
    }
   }
  },
  {
   "cell_type": "code",
   "execution_count": 21,
   "outputs": [],
   "source": [
    "df.to_csv('flashcards_cleaned.csv')"
   ],
   "metadata": {
    "collapsed": false,
    "ExecuteTime": {
     "start_time": "2023-04-24T11:08:43.242324Z",
     "end_time": "2023-04-24T11:08:43.305945Z"
    }
   }
  },
  {
   "cell_type": "code",
   "execution_count": null,
   "outputs": [],
   "source": [],
   "metadata": {
    "collapsed": false
   }
  }
 ],
 "metadata": {
  "kernelspec": {
   "display_name": "Python 3",
   "language": "python",
   "name": "python3"
  },
  "language_info": {
   "codemirror_mode": {
    "name": "ipython",
    "version": 2
   },
   "file_extension": ".py",
   "mimetype": "text/x-python",
   "name": "python",
   "nbconvert_exporter": "python",
   "pygments_lexer": "ipython2",
   "version": "2.7.6"
  }
 },
 "nbformat": 4,
 "nbformat_minor": 0
}
