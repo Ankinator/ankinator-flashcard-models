{
 "cells": [
  {
   "cell_type": "code",
   "execution_count": 1,
   "metadata": {
    "collapsed": false,
    "jupyter": {
     "outputs_hidden": false
    },
    "pycharm": {
     "name": "#%%\n"
    },
    "tags": []
   },
   "outputs": [],
   "source": [
    "from PIL import Image\n",
    "import os\n",
    "\n",
    "import torch\n",
    "from torch.utils.data import Dataset\n",
    "import torch.optim as optim\n",
    "import torch.nn as nn\n",
    "from torchvision import transforms\n",
    "\n",
    "from sklearn.metrics import classification_report, fbeta_score, matthews_corrcoef\n",
    "from tqdm import tqdm\n",
    "import torch.nn.functional as F"
   ]
  },
  {
   "cell_type": "code",
   "execution_count": 2,
   "metadata": {
    "collapsed": false,
    "jupyter": {
     "outputs_hidden": false
    },
    "pycharm": {
     "name": "#%%\n"
    },
    "tags": []
   },
   "outputs": [],
   "source": [
    "# Define hyperparameters\n",
    "BATCH_SIZE = 32\n",
    "LEARNING_RATE = 0.0001"
   ]
  },
  {
   "cell_type": "code",
   "execution_count": 3,
   "metadata": {
    "collapsed": false,
    "jupyter": {
     "outputs_hidden": false
    },
    "pycharm": {
     "name": "#%%\n"
    },
    "tags": []
   },
   "outputs": [
    {
     "name": "stdout",
     "output_type": "stream",
     "text": [
      "cuda\n"
     ]
    }
   ],
   "source": [
    "# Set the device\n",
    "device = \"cpu\"\n",
    "if torch.cuda.is_available():\n",
    "    device =  \"cuda\"\n",
    "elif torch.backends.mps.is_available():\n",
    "    device = \"mps\" # Use M1 Mac GPU\n",
    "print(device)"
   ]
  },
  {
   "cell_type": "markdown",
   "source": [
    "# Extractor classifier dataset"
   ],
   "metadata": {
    "collapsed": false,
    "pycharm": {
     "name": "#%% md\n"
    }
   }
  },
  {
   "cell_type": "code",
   "execution_count": 4,
   "metadata": {
    "collapsed": false,
    "jupyter": {
     "outputs_hidden": false
    },
    "pycharm": {
     "name": "#%%\n"
    },
    "tags": []
   },
   "outputs": [
    {
     "name": "stderr",
     "output_type": "stream",
     "text": [
      "100%|██████████| 2437/2437 [00:23<00:00, 102.14it/s]\n",
      "100%|██████████| 348/348 [00:03<00:00, 99.92it/s] \n",
      "100%|██████████| 697/697 [00:06<00:00, 111.10it/s]\n"
     ]
    }
   ],
   "source": [
    "class ExtractorClassifierDataset(Dataset):\n",
    "    def __init__(self, data, resize_shape=(256, 256)):\n",
    "        self.data = data\n",
    "        self.to_tensor = transforms.ToTensor()\n",
    "        self.resize_image = transforms.Resize(resize_shape, antialias=True)\n",
    "        self.image_tensors = []\n",
    "        self.label_tensors = []\n",
    "\n",
    "        for image, label in tqdm(self.data):\n",
    "            # Apply transformations to the image and convert to tensor\n",
    "            image_tensor = self.to_tensor(image)\n",
    "            image_tensor = self.resize_image(image_tensor)\n",
    "            image_tensor = image_tensor/255\n",
    "            self.image_tensors.append(image_tensor)\n",
    "\n",
    "            # Create one-hot encoded tensor for the label\n",
    "            label_tensor = torch.zeros(2)\n",
    "            label_tensor[label] = 1\n",
    "            self.label_tensors.append(label_tensor)\n",
    "\n",
    "    def __len__(self):\n",
    "        return len(self.data)\n",
    "\n",
    "    def __getitem__(self, idx):\n",
    "        return self.image_tensors[idx], self.label_tensors[idx]\n",
    "\n",
    "data_dir = \"../../../datasets/extractor_classifier\"\n",
    "\n",
    "train_list = []\n",
    "validation_list = []\n",
    "test_list = []\n",
    "\n",
    "for class_name in (\"relevant\", \"not_relevant\"):\n",
    "    if class_name == \"relevant\":\n",
    "        label = 0\n",
    "    else:\n",
    "        label = 1\n",
    "\n",
    "    for image in os.listdir(f\"{data_dir}/train/{class_name}\"):\n",
    "        if image != \".ipynb_checkpoints\":\n",
    "            src_path = f\"{data_dir}/train/{class_name}/{image}\"\n",
    "            train_list.append((Image.open(src_path), label))\n",
    "            \n",
    "# Uncomment this part to add augmented data\n",
    "    #for image in os.listdir(f\"{data_dir}/train_data_augmentation/{class_name}\"):\n",
    "        #if image != \".ipynb_checkpoints\":\n",
    "            #src_path = f\"{data_dir}/train_data_augmentation/{class_name}/{image}\"\n",
    "            #train_list.append((Image.open(src_path), label))\n",
    "\n",
    "    for image in os.listdir(f\"{data_dir}/validation/{class_name}\"):\n",
    "        if image != \".ipynb_checkpoints\":\n",
    "            src_path = f\"{data_dir}/validation/{class_name}/{image}\"\n",
    "            validation_list.append((Image.open(src_path), label))\n",
    "\n",
    "    for image in os.listdir(f\"{data_dir}/test/{class_name}\"):\n",
    "        if image != \".ipynb_checkpoints\":\n",
    "            src_path = f\"{data_dir}/test/{class_name}/{image}\"\n",
    "            test_list.append((Image.open(src_path), label))\n",
    "\n",
    "# Define the train/validation/test datasets\n",
    "train_data = ExtractorClassifierDataset(train_list)\n",
    "validation_data = ExtractorClassifierDataset(validation_list)\n",
    "test_data = ExtractorClassifierDataset(test_list)"
   ]
  },
  {
   "cell_type": "code",
   "execution_count": 5,
   "metadata": {
    "collapsed": false,
    "jupyter": {
     "outputs_hidden": false
    },
    "pycharm": {
     "name": "#%%\n"
    },
    "tags": []
   },
   "outputs": [],
   "source": [
    "# Define the dataloaders for each dataset\n",
    "train_loader = torch.utils.data.DataLoader(train_data, batch_size=BATCH_SIZE, shuffle=True, pin_memory=False)\n",
    "validation_loader = torch.utils.data.DataLoader(validation_data, batch_size=BATCH_SIZE, shuffle=True, pin_memory=False)\n",
    "test_loader = torch.utils.data.DataLoader(test_data, batch_size=BATCH_SIZE, shuffle=True, pin_memory=False)"
   ]
  },
  {
   "cell_type": "markdown",
   "source": [
    "# Model implementations"
   ],
   "metadata": {
    "collapsed": false,
    "pycharm": {
     "name": "#%% md\n"
    }
   }
  },
  {
   "cell_type": "code",
   "execution_count": 6,
   "metadata": {
    "collapsed": false,
    "jupyter": {
     "outputs_hidden": false
    },
    "pycharm": {
     "name": "#%%\n"
    },
    "tags": []
   },
   "outputs": [],
   "source": [
    "from torchvision.models import resnet50\n",
    "\n",
    "class Resnet50Model(nn.Module):\n",
    "    def __init__(self, pretrained=False):\n",
    "        super(Resnet50Model, self).__init__()\n",
    "        self.resnet_model = resnet50(pretrained=pretrained)\n",
    "        num_features = self.resnet_model.fc.in_features\n",
    "        self.resnet_model.fc = nn.Linear(num_features, 2)\n",
    "        \n",
    "    def forward(self, x):\n",
    "        x = self.resnet_model(x)\n",
    "        return x"
   ]
  },
  {
   "cell_type": "code",
   "execution_count": 6,
   "metadata": {
    "tags": [],
    "pycharm": {
     "name": "#%%\n"
    }
   },
   "outputs": [],
   "source": [
    "from torchvision.models import convnext_base\n",
    "\n",
    "class ConvNeXtBaseModel(nn.Module):\n",
    "    def __init__(self, pretrained=False):\n",
    "        super(ConvNeXtBaseModel, self).__init__()\n",
    "        self.convnext_model = convnext_base(pretrained=pretrained)\n",
    "        num_features = self.convnext_model.classifier[2].in_features\n",
    "        new_classifier_layer = torch.nn.Linear(num_features, 2)\n",
    "        self.convnext_model.classifier[2] = new_classifier_layer\n",
    "        \n",
    "    def forward(self, x):\n",
    "        x = self.convnext_model(x)\n",
    "        return x"
   ]
  },
  {
   "cell_type": "code",
   "execution_count": 6,
   "metadata": {
    "tags": [],
    "pycharm": {
     "name": "#%%\n"
    }
   },
   "outputs": [],
   "source": [
    "from torchvision.models import efficientnet_v2_m\n",
    "\n",
    "class EfficientNetModel(nn.Module):\n",
    "    def __init__(self, pretrained=False):\n",
    "        super(EfficientNetModel, self).__init__()\n",
    "        self.efficientnet_model = efficientnet_v2_m(pretrained=pretrained)\n",
    "        num_features = self.efficientnet_model.classifier[1].in_features\n",
    "        new_classifier_layer = torch.nn.Linear(num_features, 2)\n",
    "        self.efficientnet_model.classifier[1] = new_classifier_layer\n",
    "        \n",
    "    def forward(self, x):\n",
    "        x = self.efficientnet_model(x)\n",
    "        return x"
   ]
  },
  {
   "cell_type": "markdown",
   "source": [
    "# Train and validation"
   ],
   "metadata": {
    "collapsed": false,
    "pycharm": {
     "name": "#%% md\n"
    }
   }
  },
  {
   "cell_type": "code",
   "execution_count": 12,
   "metadata": {
    "collapsed": false,
    "jupyter": {
     "outputs_hidden": false
    },
    "pycharm": {
     "name": "#%%\n"
    },
    "tags": []
   },
   "outputs": [],
   "source": [
    "def train(model, model_path, train_loader, validation_loader, test_loader, criterion, optimizer, epochs, gradient_accumulation=1):\n",
    "    model.to(device)\n",
    "\n",
    "    # Define variables to track the model performance\n",
    "    best_valid_f_beta = 0.0\n",
    "    train_loss_values = []\n",
    "    validation_loss_values = []\n",
    "    train_f_beta_values = []\n",
    "    validation_f_beta_values = []\n",
    "\n",
    "    train_true_labels = []\n",
    "    train_predicted_labels = []\n",
    "\n",
    "    for epoch in range(epochs):\n",
    "        train_loss = 0.0\n",
    "        model.train()\n",
    "        for i, (images, labels) in enumerate(tqdm(train_loader)):\n",
    "            images, labels = images.to(device), labels.to(device)\n",
    "\n",
    "            outputs = model(images)\n",
    "            loss = criterion(outputs, labels)\n",
    "            train_loss += loss.item() * images.size(0)\n",
    "            loss.backward()\n",
    "\n",
    "            # Use gradient accumulation because large batch sizes lead to out of memory\n",
    "            if (i + 1) % gradient_accumulation == 0 or (i + 1) == len(train_loader):\n",
    "                optimizer.step()\n",
    "                optimizer.zero_grad()\n",
    "            \n",
    "            outputs = F.softmax(outputs, dim=1)\n",
    "            _, predicted = torch.max(outputs.data, 1)\n",
    "            _, labels = torch.max(labels.data, 1)\n",
    "\n",
    "            train_predicted_labels.extend(predicted.detach().cpu())\n",
    "            train_true_labels.extend(labels.detach().cpu())\n",
    "\n",
    "        train_loss = train_loss / len(train_loader.dataset)\n",
    "        train_loss_values.append(train_loss)\n",
    "\n",
    "        train_f_beta = fbeta_score(train_true_labels, train_predicted_labels, average=\"binary\", beta=0.5)\n",
    "        train_f_beta_values.append(train_f_beta)\n",
    "\n",
    "        print(f\"Epoch {epoch+1}/{epochs} - \"\n",
    "              f\"Train Loss: {train_loss:.4f} - Train Fbeta: {train_f_beta:.4f}\")\n",
    "\n",
    "        # Evaluate the model on the validation set\n",
    "        validation_loss, validation_f_beta = validate_model(model, validation_loader, criterion)\n",
    "        validation_loss_values.append(validation_loss)\n",
    "        validation_f_beta_values.append(validation_f_beta)\n",
    "\n",
    "        # Save the model state if the current validation f beta score is better than the previous best\n",
    "        if validation_f_beta > best_valid_f_beta:\n",
    "            best_valid_f_beta = validation_f_beta\n",
    "            print(f\"Updated best model: epoch {epoch+1}\")\n",
    "            torch.save(model.state_dict(), model_path)\n",
    "\n",
    "    # Load the best model state and evaluate on the test set\n",
    "    model.load_state_dict(torch.load(model_path, map_location=torch.device(device)))\n",
    "    print(\"Test model:\")\n",
    "    test_loss, test_f_beta = validate_model(model, test_loader, criterion)\n",
    "    print(f\"Test Loss: {test_loss:.4f} - Test Fbeta: {test_f_beta:.4f}\")\n",
    "\n",
    "    return model, train_loss_values, train_f_beta_values, validation_loss_values, validation_f_beta_values\n",
    "\n",
    "def validate_model(model, data_loader, criterion):\n",
    "    model.to(device)\n",
    "    model.eval()\n",
    "\n",
    "    valid_loss = 0.0\n",
    "    valid_true_labels = []\n",
    "    valid_predicted_labels = []\n",
    "\n",
    "    with torch.no_grad():\n",
    "        for images, labels in data_loader:\n",
    "            images, labels = images.to(device), labels.to(device)\n",
    "            outputs = model(images)\n",
    "\n",
    "            loss = criterion(outputs, labels)\n",
    "            valid_loss += loss.item() * images.size(0)\n",
    "\n",
    "            outputs = F.softmax(outputs, dim=1)\n",
    "            _, predicted = torch.max(outputs.data, 1)\n",
    "            _, labels = torch.max(labels.data, 1)\n",
    "\n",
    "            valid_predicted_labels.extend(predicted.detach().cpu())\n",
    "            valid_true_labels.extend(labels.detach().cpu())\n",
    "\n",
    "    f_beta_score = fbeta_score(valid_true_labels, valid_predicted_labels, average=\"binary\", beta=0.5)\n",
    "    mcc_score = matthews_corrcoef(valid_true_labels, valid_predicted_labels)\n",
    "    valid_loss = valid_loss / len(data_loader.dataset)\n",
    "\n",
    "    print(f\"Valid Loss: {valid_loss:.4f} - Valid Fbeta: {f_beta_score:.4f} - Valid MCC: {mcc_score}\")\n",
    "    print(classification_report(valid_true_labels, valid_predicted_labels))\n",
    "    return valid_loss, f_beta_score"
   ]
  },
  {
   "cell_type": "markdown",
   "source": [
    "# ResNet50"
   ],
   "metadata": {
    "collapsed": false,
    "pycharm": {
     "name": "#%% md\n"
    }
   }
  },
  {
   "cell_type": "code",
   "execution_count": 24,
   "metadata": {
    "collapsed": false,
    "jupyter": {
     "outputs_hidden": false
    },
    "pycharm": {
     "is_executing": true,
     "name": "#%%\n"
    },
    "tags": []
   },
   "outputs": [
    {
     "name": "stderr",
     "output_type": "stream",
     "text": [
      "/home/ma/ma_ma/ma_nikemper/.local/lib/python3.9/site-packages/torchvision/models/_utils.py:208: UserWarning: The parameter 'pretrained' is deprecated since 0.13 and may be removed in the future, please use 'weights' instead.\n",
      "  warnings.warn(\n",
      "/home/ma/ma_ma/ma_nikemper/.local/lib/python3.9/site-packages/torchvision/models/_utils.py:223: UserWarning: Arguments other than a weight enum or `None` for 'weights' are deprecated since 0.13 and may be removed in the future. The current behavior is equivalent to passing `weights=None`.\n",
      "  warnings.warn(msg)\n"
     ]
    },
    {
     "name": "stdout",
     "output_type": "stream",
     "text": [
      "Train model\n"
     ]
    },
    {
     "name": "stderr",
     "output_type": "stream",
     "text": [
      "100%|██████████| 77/77 [00:09<00:00,  7.90it/s]\n"
     ]
    },
    {
     "name": "stdout",
     "output_type": "stream",
     "text": [
      "Epoch 1/50 - Train Loss: 0.6004 - Train Fbeta: 0.5850\n",
      "Valid Loss: 0.7401 - Valid Fbeta: 0.3645 - Valid MCC: -0.2090896788810389\n",
      "              precision    recall  f1-score   support\n",
      "\n",
      "           0       0.42      0.12      0.19       218\n",
      "           1       0.33      0.71      0.45       130\n",
      "\n",
      "    accuracy                           0.34       348\n",
      "   macro avg       0.37      0.42      0.32       348\n",
      "weighted avg       0.38      0.34      0.29       348\n",
      "\n",
      "Updated best model: epoch 1\n"
     ]
    },
    {
     "name": "stderr",
     "output_type": "stream",
     "text": [
      "100%|██████████| 77/77 [00:09<00:00,  7.95it/s]\n"
     ]
    },
    {
     "name": "stdout",
     "output_type": "stream",
     "text": [
      "Epoch 2/50 - Train Loss: 0.4987 - Train Fbeta: 0.6451\n",
      "Valid Loss: 0.6277 - Valid Fbeta: 0.5800 - Valid MCC: 0.3765796412474364\n",
      "              precision    recall  f1-score   support\n",
      "\n",
      "           0       0.68      1.00      0.81       218\n",
      "           1       0.97      0.22      0.36       130\n",
      "\n",
      "    accuracy                           0.71       348\n",
      "   macro avg       0.82      0.61      0.59       348\n",
      "weighted avg       0.79      0.71      0.64       348\n",
      "\n",
      "Updated best model: epoch 2\n"
     ]
    },
    {
     "name": "stderr",
     "output_type": "stream",
     "text": [
      "100%|██████████| 77/77 [00:09<00:00,  7.95it/s]\n"
     ]
    },
    {
     "name": "stdout",
     "output_type": "stream",
     "text": [
      "Epoch 3/50 - Train Loss: 0.4425 - Train Fbeta: 0.6829\n",
      "Valid Loss: 0.7086 - Valid Fbeta: 0.6918 - Valid MCC: 0.4595683685997253\n",
      "              precision    recall  f1-score   support\n",
      "\n",
      "           0       0.71      0.99      0.83       218\n",
      "           1       0.94      0.34      0.50       130\n",
      "\n",
      "    accuracy                           0.74       348\n",
      "   macro avg       0.83      0.66      0.66       348\n",
      "weighted avg       0.80      0.74      0.70       348\n",
      "\n",
      "Updated best model: epoch 3\n"
     ]
    },
    {
     "name": "stderr",
     "output_type": "stream",
     "text": [
      "100%|██████████| 77/77 [00:09<00:00,  7.95it/s]\n"
     ]
    },
    {
     "name": "stdout",
     "output_type": "stream",
     "text": [
      "Epoch 4/50 - Train Loss: 0.3958 - Train Fbeta: 0.7112\n",
      "Valid Loss: 0.6166 - Valid Fbeta: 0.5835 - Valid MCC: 0.3697803637211067\n",
      "              precision    recall  f1-score   support\n",
      "\n",
      "           0       0.80      0.65      0.72       218\n",
      "           1       0.56      0.73      0.63       130\n",
      "\n",
      "    accuracy                           0.68       348\n",
      "   macro avg       0.68      0.69      0.68       348\n",
      "weighted avg       0.71      0.68      0.69       348\n",
      "\n"
     ]
    },
    {
     "name": "stderr",
     "output_type": "stream",
     "text": [
      "100%|██████████| 77/77 [00:09<00:00,  7.94it/s]\n"
     ]
    },
    {
     "name": "stdout",
     "output_type": "stream",
     "text": [
      "Epoch 5/50 - Train Loss: 0.3557 - Train Fbeta: 0.7338\n",
      "Valid Loss: 0.9845 - Valid Fbeta: 0.4565 - Valid MCC: 0.2682506940144342\n",
      "              precision    recall  f1-score   support\n",
      "\n",
      "           0       0.66      0.98      0.79       218\n",
      "           1       0.84      0.16      0.27       130\n",
      "\n",
      "    accuracy                           0.68       348\n",
      "   macro avg       0.75      0.57      0.53       348\n",
      "weighted avg       0.73      0.68      0.60       348\n",
      "\n"
     ]
    },
    {
     "name": "stderr",
     "output_type": "stream",
     "text": [
      "100%|██████████| 77/77 [00:09<00:00,  7.92it/s]\n"
     ]
    },
    {
     "name": "stdout",
     "output_type": "stream",
     "text": [
      "Epoch 6/50 - Train Loss: 0.3430 - Train Fbeta: 0.7490\n",
      "Valid Loss: 0.5602 - Valid Fbeta: 0.6650 - Valid MCC: 0.4494370351376059\n",
      "              precision    recall  f1-score   support\n",
      "\n",
      "           0       0.78      0.83      0.80       218\n",
      "           1       0.68      0.61      0.64       130\n",
      "\n",
      "    accuracy                           0.75       348\n",
      "   macro avg       0.73      0.72      0.72       348\n",
      "weighted avg       0.74      0.75      0.74       348\n",
      "\n"
     ]
    },
    {
     "name": "stderr",
     "output_type": "stream",
     "text": [
      "100%|██████████| 77/77 [00:09<00:00,  7.80it/s]\n"
     ]
    },
    {
     "name": "stdout",
     "output_type": "stream",
     "text": [
      "Epoch 7/50 - Train Loss: 0.2641 - Train Fbeta: 0.7682\n",
      "Valid Loss: 0.6482 - Valid Fbeta: 0.6667 - Valid MCC: 0.48093536800773307\n",
      "              precision    recall  f1-score   support\n",
      "\n",
      "           0       0.82      0.78      0.80       218\n",
      "           1       0.66      0.71      0.68       130\n",
      "\n",
      "    accuracy                           0.75       348\n",
      "   macro avg       0.74      0.74      0.74       348\n",
      "weighted avg       0.76      0.75      0.75       348\n",
      "\n"
     ]
    },
    {
     "name": "stderr",
     "output_type": "stream",
     "text": [
      "100%|██████████| 77/77 [00:09<00:00,  7.95it/s]\n"
     ]
    },
    {
     "name": "stdout",
     "output_type": "stream",
     "text": [
      "Epoch 8/50 - Train Loss: 0.2266 - Train Fbeta: 0.7846\n",
      "Valid Loss: 0.8882 - Valid Fbeta: 0.5429 - Valid MCC: 0.3523535193845005\n",
      "              precision    recall  f1-score   support\n",
      "\n",
      "           0       0.86      0.47      0.61       218\n",
      "           1       0.50      0.88      0.63       130\n",
      "\n",
      "    accuracy                           0.62       348\n",
      "   macro avg       0.68      0.67      0.62       348\n",
      "weighted avg       0.73      0.62      0.62       348\n",
      "\n"
     ]
    },
    {
     "name": "stderr",
     "output_type": "stream",
     "text": [
      "100%|██████████| 77/77 [00:09<00:00,  7.94it/s]\n"
     ]
    },
    {
     "name": "stdout",
     "output_type": "stream",
     "text": [
      "Epoch 9/50 - Train Loss: 0.2608 - Train Fbeta: 0.7929\n",
      "Valid Loss: 1.1056 - Valid Fbeta: 0.5512 - Valid MCC: 0.34239690872462314\n",
      "              precision    recall  f1-score   support\n",
      "\n",
      "           0       0.68      0.99      0.80       218\n",
      "           1       0.90      0.22      0.35       130\n",
      "\n",
      "    accuracy                           0.70       348\n",
      "   macro avg       0.79      0.60      0.58       348\n",
      "weighted avg       0.76      0.70      0.63       348\n",
      "\n"
     ]
    },
    {
     "name": "stderr",
     "output_type": "stream",
     "text": [
      "100%|██████████| 77/77 [00:09<00:00,  7.95it/s]\n"
     ]
    },
    {
     "name": "stdout",
     "output_type": "stream",
     "text": [
      "Epoch 10/50 - Train Loss: 0.2346 - Train Fbeta: 0.8026\n",
      "Valid Loss: 0.9031 - Valid Fbeta: 0.7436 - Valid MCC: 0.5139208822769398\n",
      "              precision    recall  f1-score   support\n",
      "\n",
      "           0       0.75      0.97      0.84       218\n",
      "           1       0.89      0.45      0.59       130\n",
      "\n",
      "    accuracy                           0.77       348\n",
      "   macro avg       0.82      0.71      0.72       348\n",
      "weighted avg       0.80      0.77      0.75       348\n",
      "\n",
      "Updated best model: epoch 10\n"
     ]
    },
    {
     "name": "stderr",
     "output_type": "stream",
     "text": [
      "100%|██████████| 77/77 [00:09<00:00,  7.93it/s]\n"
     ]
    },
    {
     "name": "stdout",
     "output_type": "stream",
     "text": [
      "Epoch 11/50 - Train Loss: 0.1575 - Train Fbeta: 0.8132\n",
      "Valid Loss: 0.6435 - Valid Fbeta: 0.7380 - Valid MCC: 0.5403389438842514\n",
      "              precision    recall  f1-score   support\n",
      "\n",
      "           0       0.80      0.89      0.84       218\n",
      "           1       0.78      0.62      0.69       130\n",
      "\n",
      "    accuracy                           0.79       348\n",
      "   macro avg       0.79      0.75      0.76       348\n",
      "weighted avg       0.79      0.79      0.78       348\n",
      "\n"
     ]
    },
    {
     "name": "stderr",
     "output_type": "stream",
     "text": [
      "100%|██████████| 77/77 [00:09<00:00,  7.92it/s]\n"
     ]
    },
    {
     "name": "stdout",
     "output_type": "stream",
     "text": [
      "Epoch 12/50 - Train Loss: 0.1790 - Train Fbeta: 0.8213\n",
      "Valid Loss: 1.1072 - Valid Fbeta: 0.5425 - Valid MCC: 0.3743882473134946\n",
      "              precision    recall  f1-score   support\n",
      "\n",
      "           0       0.90      0.43      0.58       218\n",
      "           1       0.49      0.92      0.64       130\n",
      "\n",
      "    accuracy                           0.61       348\n",
      "   macro avg       0.70      0.68      0.61       348\n",
      "weighted avg       0.75      0.61      0.61       348\n",
      "\n"
     ]
    },
    {
     "name": "stderr",
     "output_type": "stream",
     "text": [
      "100%|██████████| 77/77 [00:09<00:00,  7.95it/s]\n"
     ]
    },
    {
     "name": "stdout",
     "output_type": "stream",
     "text": [
      "Epoch 13/50 - Train Loss: 0.1633 - Train Fbeta: 0.8288\n",
      "Valid Loss: 0.6451 - Valid Fbeta: 0.6566 - Valid MCC: 0.5183068973387996\n",
      "              precision    recall  f1-score   support\n",
      "\n",
      "           0       0.88      0.70      0.78       218\n",
      "           1       0.62      0.84      0.71       130\n",
      "\n",
      "    accuracy                           0.75       348\n",
      "   macro avg       0.75      0.77      0.75       348\n",
      "weighted avg       0.78      0.75      0.75       348\n",
      "\n"
     ]
    },
    {
     "name": "stderr",
     "output_type": "stream",
     "text": [
      "100%|██████████| 77/77 [00:09<00:00,  7.94it/s]\n"
     ]
    },
    {
     "name": "stdout",
     "output_type": "stream",
     "text": [
      "Epoch 14/50 - Train Loss: 0.1477 - Train Fbeta: 0.8367\n",
      "Valid Loss: 0.8753 - Valid Fbeta: 0.7286 - Valid MCC: 0.49673454223856456\n",
      "              precision    recall  f1-score   support\n",
      "\n",
      "           0       0.74      0.96      0.84       218\n",
      "           1       0.87      0.45      0.59       130\n",
      "\n",
      "    accuracy                           0.77       348\n",
      "   macro avg       0.80      0.70      0.71       348\n",
      "weighted avg       0.79      0.77      0.74       348\n",
      "\n"
     ]
    },
    {
     "name": "stderr",
     "output_type": "stream",
     "text": [
      "100%|██████████| 77/77 [00:09<00:00,  7.95it/s]\n"
     ]
    },
    {
     "name": "stdout",
     "output_type": "stream",
     "text": [
      "Epoch 15/50 - Train Loss: 0.1054 - Train Fbeta: 0.8447\n",
      "Valid Loss: 1.0715 - Valid Fbeta: 0.7511 - Valid MCC: 0.5316034191783743\n",
      "              precision    recall  f1-score   support\n",
      "\n",
      "           0       0.77      0.94      0.85       218\n",
      "           1       0.85      0.52      0.64       130\n",
      "\n",
      "    accuracy                           0.78       348\n",
      "   macro avg       0.81      0.73      0.74       348\n",
      "weighted avg       0.80      0.78      0.77       348\n",
      "\n",
      "Updated best model: epoch 15\n"
     ]
    },
    {
     "name": "stderr",
     "output_type": "stream",
     "text": [
      "100%|██████████| 77/77 [00:09<00:00,  7.95it/s]\n"
     ]
    },
    {
     "name": "stdout",
     "output_type": "stream",
     "text": [
      "Epoch 16/50 - Train Loss: 0.1015 - Train Fbeta: 0.8518\n",
      "Valid Loss: 0.6244 - Valid Fbeta: 0.7492 - Valid MCC: 0.5837258063198888\n",
      "              precision    recall  f1-score   support\n",
      "\n",
      "           0       0.83      0.87      0.85       218\n",
      "           1       0.76      0.71      0.73       130\n",
      "\n",
      "    accuracy                           0.81       348\n",
      "   macro avg       0.80      0.79      0.79       348\n",
      "weighted avg       0.81      0.81      0.81       348\n",
      "\n"
     ]
    },
    {
     "name": "stderr",
     "output_type": "stream",
     "text": [
      "100%|██████████| 77/77 [00:09<00:00,  7.91it/s]\n"
     ]
    },
    {
     "name": "stdout",
     "output_type": "stream",
     "text": [
      "Epoch 17/50 - Train Loss: 0.1172 - Train Fbeta: 0.8574\n",
      "Valid Loss: 0.7424 - Valid Fbeta: 0.6919 - Valid MCC: 0.5557352041201797\n",
      "              precision    recall  f1-score   support\n",
      "\n",
      "           0       0.87      0.76      0.81       218\n",
      "           1       0.67      0.82      0.73       130\n",
      "\n",
      "    accuracy                           0.78       348\n",
      "   macro avg       0.77      0.79      0.77       348\n",
      "weighted avg       0.80      0.78      0.78       348\n",
      "\n"
     ]
    },
    {
     "name": "stderr",
     "output_type": "stream",
     "text": [
      "100%|██████████| 77/77 [00:09<00:00,  7.95it/s]\n"
     ]
    },
    {
     "name": "stdout",
     "output_type": "stream",
     "text": [
      "Epoch 18/50 - Train Loss: 0.1395 - Train Fbeta: 0.8610\n",
      "Valid Loss: 0.7847 - Valid Fbeta: 0.6130 - Valid MCC: 0.47595555322426086\n",
      "              precision    recall  f1-score   support\n",
      "\n",
      "           0       0.90      0.60      0.72       218\n",
      "           1       0.57      0.88      0.69       130\n",
      "\n",
      "    accuracy                           0.71       348\n",
      "   macro avg       0.73      0.74      0.71       348\n",
      "weighted avg       0.77      0.71      0.71       348\n",
      "\n"
     ]
    },
    {
     "name": "stderr",
     "output_type": "stream",
     "text": [
      "100%|██████████| 77/77 [00:09<00:00,  7.94it/s]\n"
     ]
    },
    {
     "name": "stdout",
     "output_type": "stream",
     "text": [
      "Epoch 19/50 - Train Loss: 0.1034 - Train Fbeta: 0.8657\n",
      "Valid Loss: 0.8535 - Valid Fbeta: 0.7872 - Valid MCC: 0.5841026254848936\n",
      "              precision    recall  f1-score   support\n",
      "\n",
      "           0       0.79      0.95      0.86       218\n",
      "           1       0.87      0.57      0.69       130\n",
      "\n",
      "    accuracy                           0.81       348\n",
      "   macro avg       0.83      0.76      0.77       348\n",
      "weighted avg       0.82      0.81      0.80       348\n",
      "\n",
      "Updated best model: epoch 19\n"
     ]
    },
    {
     "name": "stderr",
     "output_type": "stream",
     "text": [
      "100%|██████████| 77/77 [00:09<00:00,  7.95it/s]\n"
     ]
    },
    {
     "name": "stdout",
     "output_type": "stream",
     "text": [
      "Epoch 20/50 - Train Loss: 0.0774 - Train Fbeta: 0.8708\n",
      "Valid Loss: 0.6344 - Valid Fbeta: 0.7740 - Valid MCC: 0.637204583671474\n",
      "              precision    recall  f1-score   support\n",
      "\n",
      "           0       0.86      0.87      0.86       218\n",
      "           1       0.78      0.77      0.77       130\n",
      "\n",
      "    accuracy                           0.83       348\n",
      "   macro avg       0.82      0.82      0.82       348\n",
      "weighted avg       0.83      0.83      0.83       348\n",
      "\n"
     ]
    },
    {
     "name": "stderr",
     "output_type": "stream",
     "text": [
      "100%|██████████| 77/77 [00:09<00:00,  7.95it/s]\n"
     ]
    },
    {
     "name": "stdout",
     "output_type": "stream",
     "text": [
      "Epoch 21/50 - Train Loss: 0.0522 - Train Fbeta: 0.8761\n",
      "Valid Loss: 0.6438 - Valid Fbeta: 0.7375 - Valid MCC: 0.5935973380189451\n",
      "              precision    recall  f1-score   support\n",
      "\n",
      "           0       0.86      0.83      0.84       218\n",
      "           1       0.73      0.77      0.75       130\n",
      "\n",
      "    accuracy                           0.81       348\n",
      "   macro avg       0.79      0.80      0.80       348\n",
      "weighted avg       0.81      0.81      0.81       348\n",
      "\n"
     ]
    },
    {
     "name": "stderr",
     "output_type": "stream",
     "text": [
      "100%|██████████| 77/77 [00:09<00:00,  7.93it/s]\n"
     ]
    },
    {
     "name": "stdout",
     "output_type": "stream",
     "text": [
      "Epoch 22/50 - Train Loss: 0.0467 - Train Fbeta: 0.8809\n",
      "Valid Loss: 1.0251 - Valid Fbeta: 0.8068 - Valid MCC: 0.6209554392127434\n",
      "              precision    recall  f1-score   support\n",
      "\n",
      "           0       0.81      0.94      0.87       218\n",
      "           1       0.87      0.62      0.73       130\n",
      "\n",
      "    accuracy                           0.82       348\n",
      "   macro avg       0.84      0.78      0.80       348\n",
      "weighted avg       0.83      0.82      0.82       348\n",
      "\n",
      "Updated best model: epoch 22\n"
     ]
    },
    {
     "name": "stderr",
     "output_type": "stream",
     "text": [
      "100%|██████████| 77/77 [00:09<00:00,  7.96it/s]\n"
     ]
    },
    {
     "name": "stdout",
     "output_type": "stream",
     "text": [
      "Epoch 23/50 - Train Loss: 0.0326 - Train Fbeta: 0.8854\n",
      "Valid Loss: 0.8378 - Valid Fbeta: 0.7432 - Valid MCC: 0.5974567053091757\n",
      "              precision    recall  f1-score   support\n",
      "\n",
      "           0       0.86      0.84      0.85       218\n",
      "           1       0.74      0.76      0.75       130\n",
      "\n",
      "    accuracy                           0.81       348\n",
      "   macro avg       0.80      0.80      0.80       348\n",
      "weighted avg       0.81      0.81      0.81       348\n",
      "\n"
     ]
    },
    {
     "name": "stderr",
     "output_type": "stream",
     "text": [
      "100%|██████████| 77/77 [00:09<00:00,  7.95it/s]\n"
     ]
    },
    {
     "name": "stdout",
     "output_type": "stream",
     "text": [
      "Epoch 24/50 - Train Loss: 0.0581 - Train Fbeta: 0.8894\n",
      "Valid Loss: 0.9511 - Valid Fbeta: 0.7929 - Valid MCC: 0.6526585108424142\n",
      "              precision    recall  f1-score   support\n",
      "\n",
      "           0       0.86      0.89      0.87       218\n",
      "           1       0.80      0.75      0.78       130\n",
      "\n",
      "    accuracy                           0.84       348\n",
      "   macro avg       0.83      0.82      0.83       348\n",
      "weighted avg       0.84      0.84      0.84       348\n",
      "\n"
     ]
    },
    {
     "name": "stderr",
     "output_type": "stream",
     "text": [
      "100%|██████████| 77/77 [00:09<00:00,  7.95it/s]\n"
     ]
    },
    {
     "name": "stdout",
     "output_type": "stream",
     "text": [
      "Epoch 25/50 - Train Loss: 0.1142 - Train Fbeta: 0.8916\n",
      "Valid Loss: 0.9320 - Valid Fbeta: 0.6612 - Valid MCC: 0.5112601375819663\n",
      "              precision    recall  f1-score   support\n",
      "\n",
      "           0       0.86      0.72      0.79       218\n",
      "           1       0.63      0.81      0.71       130\n",
      "\n",
      "    accuracy                           0.75       348\n",
      "   macro avg       0.75      0.76      0.75       348\n",
      "weighted avg       0.78      0.75      0.76       348\n",
      "\n"
     ]
    },
    {
     "name": "stderr",
     "output_type": "stream",
     "text": [
      "100%|██████████| 77/77 [00:09<00:00,  7.91it/s]\n"
     ]
    },
    {
     "name": "stdout",
     "output_type": "stream",
     "text": [
      "Epoch 26/50 - Train Loss: 0.0951 - Train Fbeta: 0.8941\n",
      "Valid Loss: 0.7561 - Valid Fbeta: 0.6739 - Valid MCC: 0.5127606618179954\n",
      "              precision    recall  f1-score   support\n",
      "\n",
      "           0       0.85      0.76      0.80       218\n",
      "           1       0.65      0.77      0.71       130\n",
      "\n",
      "    accuracy                           0.76       348\n",
      "   macro avg       0.75      0.76      0.75       348\n",
      "weighted avg       0.77      0.76      0.76       348\n",
      "\n"
     ]
    },
    {
     "name": "stderr",
     "output_type": "stream",
     "text": [
      "100%|██████████| 77/77 [00:09<00:00,  7.95it/s]\n"
     ]
    },
    {
     "name": "stdout",
     "output_type": "stream",
     "text": [
      "Epoch 27/50 - Train Loss: 0.0651 - Train Fbeta: 0.8970\n",
      "Valid Loss: 0.7083 - Valid Fbeta: 0.7571 - Valid MCC: 0.6047863195972583\n",
      "              precision    recall  f1-score   support\n",
      "\n",
      "           0       0.85      0.86      0.85       218\n",
      "           1       0.76      0.74      0.75       130\n",
      "\n",
      "    accuracy                           0.82       348\n",
      "   macro avg       0.80      0.80      0.80       348\n",
      "weighted avg       0.82      0.82      0.82       348\n",
      "\n"
     ]
    },
    {
     "name": "stderr",
     "output_type": "stream",
     "text": [
      "100%|██████████| 77/77 [00:09<00:00,  7.94it/s]\n"
     ]
    },
    {
     "name": "stdout",
     "output_type": "stream",
     "text": [
      "Epoch 28/50 - Train Loss: 0.0352 - Train Fbeta: 0.9003\n",
      "Valid Loss: 1.0040 - Valid Fbeta: 0.7932 - Valid MCC: 0.6011925118410592\n",
      "              precision    recall  f1-score   support\n",
      "\n",
      "           0       0.80      0.94      0.86       218\n",
      "           1       0.86      0.61      0.71       130\n",
      "\n",
      "    accuracy                           0.82       348\n",
      "   macro avg       0.83      0.77      0.79       348\n",
      "weighted avg       0.82      0.82      0.81       348\n",
      "\n"
     ]
    },
    {
     "name": "stderr",
     "output_type": "stream",
     "text": [
      "100%|██████████| 77/77 [00:09<00:00,  7.96it/s]\n"
     ]
    },
    {
     "name": "stdout",
     "output_type": "stream",
     "text": [
      "Epoch 29/50 - Train Loss: 0.0396 - Train Fbeta: 0.9033\n",
      "Valid Loss: 0.7097 - Valid Fbeta: 0.7462 - Valid MCC: 0.5947776993648554\n",
      "              precision    recall  f1-score   support\n",
      "\n",
      "           0       0.85      0.85      0.85       218\n",
      "           1       0.75      0.75      0.75       130\n",
      "\n",
      "    accuracy                           0.81       348\n",
      "   macro avg       0.80      0.80      0.80       348\n",
      "weighted avg       0.81      0.81      0.81       348\n",
      "\n"
     ]
    },
    {
     "name": "stderr",
     "output_type": "stream",
     "text": [
      "100%|██████████| 77/77 [00:09<00:00,  7.94it/s]\n"
     ]
    },
    {
     "name": "stdout",
     "output_type": "stream",
     "text": [
      "Epoch 30/50 - Train Loss: 0.0400 - Train Fbeta: 0.9061\n",
      "Valid Loss: 1.1847 - Valid Fbeta: 0.7625 - Valid MCC: 0.5665505289725996\n",
      "              precision    recall  f1-score   support\n",
      "\n",
      "           0       0.80      0.92      0.85       218\n",
      "           1       0.81      0.61      0.70       130\n",
      "\n",
      "    accuracy                           0.80       348\n",
      "   macro avg       0.81      0.76      0.77       348\n",
      "weighted avg       0.80      0.80      0.79       348\n",
      "\n"
     ]
    },
    {
     "name": "stderr",
     "output_type": "stream",
     "text": [
      "100%|██████████| 77/77 [00:09<00:00,  7.94it/s]\n"
     ]
    },
    {
     "name": "stdout",
     "output_type": "stream",
     "text": [
      "Epoch 31/50 - Train Loss: 0.0496 - Train Fbeta: 0.9085\n",
      "Valid Loss: 0.7373 - Valid Fbeta: 0.7655 - Valid MCC: 0.6086719662854201\n",
      "              precision    recall  f1-score   support\n",
      "\n",
      "           0       0.84      0.88      0.86       218\n",
      "           1       0.78      0.72      0.75       130\n",
      "\n",
      "    accuracy                           0.82       348\n",
      "   macro avg       0.81      0.80      0.80       348\n",
      "weighted avg       0.82      0.82      0.82       348\n",
      "\n"
     ]
    },
    {
     "name": "stderr",
     "output_type": "stream",
     "text": [
      "100%|██████████| 77/77 [00:09<00:00,  7.95it/s]\n"
     ]
    },
    {
     "name": "stdout",
     "output_type": "stream",
     "text": [
      "Epoch 32/50 - Train Loss: 0.0472 - Train Fbeta: 0.9107\n",
      "Valid Loss: 0.8788 - Valid Fbeta: 0.7860 - Valid MCC: 0.6323955943757573\n",
      "              precision    recall  f1-score   support\n",
      "\n",
      "           0       0.84      0.89      0.87       218\n",
      "           1       0.80      0.72      0.76       130\n",
      "\n",
      "    accuracy                           0.83       348\n",
      "   macro avg       0.82      0.81      0.81       348\n",
      "weighted avg       0.83      0.83      0.83       348\n",
      "\n"
     ]
    },
    {
     "name": "stderr",
     "output_type": "stream",
     "text": [
      "100%|██████████| 77/77 [00:09<00:00,  7.96it/s]\n"
     ]
    },
    {
     "name": "stdout",
     "output_type": "stream",
     "text": [
      "Epoch 33/50 - Train Loss: 0.0544 - Train Fbeta: 0.9128\n",
      "Valid Loss: 0.7687 - Valid Fbeta: 0.7907 - Valid MCC: 0.6533938973324865\n",
      "              precision    recall  f1-score   support\n",
      "\n",
      "           0       0.86      0.89      0.87       218\n",
      "           1       0.80      0.76      0.78       130\n",
      "\n",
      "    accuracy                           0.84       348\n",
      "   macro avg       0.83      0.82      0.83       348\n",
      "weighted avg       0.84      0.84      0.84       348\n",
      "\n"
     ]
    },
    {
     "name": "stderr",
     "output_type": "stream",
     "text": [
      "100%|██████████| 77/77 [00:09<00:00,  7.96it/s]\n"
     ]
    },
    {
     "name": "stdout",
     "output_type": "stream",
     "text": [
      "Epoch 34/50 - Train Loss: 0.0598 - Train Fbeta: 0.9145\n",
      "Valid Loss: 1.2109 - Valid Fbeta: 0.7618 - Valid MCC: 0.5499962714390126\n",
      "              precision    recall  f1-score   support\n",
      "\n",
      "           0       0.78      0.94      0.85       218\n",
      "           1       0.85      0.55      0.66       130\n",
      "\n",
      "    accuracy                           0.79       348\n",
      "   macro avg       0.81      0.74      0.76       348\n",
      "weighted avg       0.80      0.79      0.78       348\n",
      "\n"
     ]
    },
    {
     "name": "stderr",
     "output_type": "stream",
     "text": [
      "100%|██████████| 77/77 [00:09<00:00,  7.93it/s]\n"
     ]
    },
    {
     "name": "stdout",
     "output_type": "stream",
     "text": [
      "Epoch 35/50 - Train Loss: 0.0594 - Train Fbeta: 0.9160\n",
      "Valid Loss: 0.7815 - Valid Fbeta: 0.7492 - Valid MCC: 0.5754474188210468\n",
      "              precision    recall  f1-score   support\n",
      "\n",
      "           0       0.82      0.88      0.85       218\n",
      "           1       0.77      0.68      0.72       130\n",
      "\n",
      "    accuracy                           0.80       348\n",
      "   macro avg       0.80      0.78      0.79       348\n",
      "weighted avg       0.80      0.80      0.80       348\n",
      "\n"
     ]
    },
    {
     "name": "stderr",
     "output_type": "stream",
     "text": [
      "100%|██████████| 77/77 [00:09<00:00,  7.97it/s]\n"
     ]
    },
    {
     "name": "stdout",
     "output_type": "stream",
     "text": [
      "Epoch 36/50 - Train Loss: 0.0563 - Train Fbeta: 0.9176\n",
      "Valid Loss: 0.8589 - Valid Fbeta: 0.7744 - Valid MCC: 0.6132505339260791\n",
      "              precision    recall  f1-score   support\n",
      "\n",
      "           0       0.84      0.89      0.86       218\n",
      "           1       0.79      0.71      0.75       130\n",
      "\n",
      "    accuracy                           0.82       348\n",
      "   macro avg       0.81      0.80      0.81       348\n",
      "weighted avg       0.82      0.82      0.82       348\n",
      "\n"
     ]
    },
    {
     "name": "stderr",
     "output_type": "stream",
     "text": [
      "100%|██████████| 77/77 [00:09<00:00,  7.95it/s]\n"
     ]
    },
    {
     "name": "stdout",
     "output_type": "stream",
     "text": [
      "Epoch 37/50 - Train Loss: 0.0361 - Train Fbeta: 0.9194\n",
      "Valid Loss: 0.8563 - Valid Fbeta: 0.6986 - Valid MCC: 0.5513574508434099\n",
      "              precision    recall  f1-score   support\n",
      "\n",
      "           0       0.86      0.78      0.82       218\n",
      "           1       0.68      0.78      0.73       130\n",
      "\n",
      "    accuracy                           0.78       348\n",
      "   macro avg       0.77      0.78      0.77       348\n",
      "weighted avg       0.79      0.78      0.78       348\n",
      "\n"
     ]
    },
    {
     "name": "stderr",
     "output_type": "stream",
     "text": [
      "100%|██████████| 77/77 [00:09<00:00,  7.95it/s]\n"
     ]
    },
    {
     "name": "stdout",
     "output_type": "stream",
     "text": [
      "Epoch 38/50 - Train Loss: 0.0285 - Train Fbeta: 0.9213\n",
      "Valid Loss: 0.9150 - Valid Fbeta: 0.7585 - Valid MCC: 0.6126070024049546\n",
      "              precision    recall  f1-score   support\n",
      "\n",
      "           0       0.85      0.86      0.86       218\n",
      "           1       0.76      0.75      0.76       130\n",
      "\n",
      "    accuracy                           0.82       348\n",
      "   macro avg       0.81      0.81      0.81       348\n",
      "weighted avg       0.82      0.82      0.82       348\n",
      "\n"
     ]
    },
    {
     "name": "stderr",
     "output_type": "stream",
     "text": [
      "100%|██████████| 77/77 [00:09<00:00,  7.92it/s]\n"
     ]
    },
    {
     "name": "stdout",
     "output_type": "stream",
     "text": [
      "Epoch 39/50 - Train Loss: 0.0234 - Train Fbeta: 0.9231\n",
      "Valid Loss: 0.8966 - Valid Fbeta: 0.6925 - Valid MCC: 0.5372344008576128\n",
      "              precision    recall  f1-score   support\n",
      "\n",
      "           0       0.85      0.78      0.81       218\n",
      "           1       0.68      0.77      0.72       130\n",
      "\n",
      "    accuracy                           0.78       348\n",
      "   macro avg       0.76      0.77      0.77       348\n",
      "weighted avg       0.78      0.78      0.78       348\n",
      "\n"
     ]
    },
    {
     "name": "stderr",
     "output_type": "stream",
     "text": [
      "100%|██████████| 77/77 [00:09<00:00,  7.95it/s]\n"
     ]
    },
    {
     "name": "stdout",
     "output_type": "stream",
     "text": [
      "Epoch 40/50 - Train Loss: 0.0196 - Train Fbeta: 0.9248\n",
      "Valid Loss: 0.7867 - Valid Fbeta: 0.7890 - Valid MCC: 0.6389382279465154\n",
      "              precision    recall  f1-score   support\n",
      "\n",
      "           0       0.85      0.89      0.87       218\n",
      "           1       0.81      0.73      0.77       130\n",
      "\n",
      "    accuracy                           0.83       348\n",
      "   macro avg       0.83      0.81      0.82       348\n",
      "weighted avg       0.83      0.83      0.83       348\n",
      "\n"
     ]
    },
    {
     "name": "stderr",
     "output_type": "stream",
     "text": [
      "100%|██████████| 77/77 [00:09<00:00,  7.95it/s]\n"
     ]
    },
    {
     "name": "stdout",
     "output_type": "stream",
     "text": [
      "Epoch 41/50 - Train Loss: 0.0260 - Train Fbeta: 0.9264\n",
      "Valid Loss: 0.8480 - Valid Fbeta: 0.8027 - Valid MCC: 0.6575439964832609\n",
      "              precision    recall  f1-score   support\n",
      "\n",
      "           0       0.85      0.90      0.88       218\n",
      "           1       0.82      0.74      0.78       130\n",
      "\n",
      "    accuracy                           0.84       348\n",
      "   macro avg       0.84      0.82      0.83       348\n",
      "weighted avg       0.84      0.84      0.84       348\n",
      "\n"
     ]
    },
    {
     "name": "stderr",
     "output_type": "stream",
     "text": [
      "100%|██████████| 77/77 [00:09<00:00,  7.94it/s]\n"
     ]
    },
    {
     "name": "stdout",
     "output_type": "stream",
     "text": [
      "Epoch 42/50 - Train Loss: 0.0213 - Train Fbeta: 0.9280\n",
      "Valid Loss: 0.8743 - Valid Fbeta: 0.8027 - Valid MCC: 0.6575439964832609\n",
      "              precision    recall  f1-score   support\n",
      "\n",
      "           0       0.85      0.90      0.88       218\n",
      "           1       0.82      0.74      0.78       130\n",
      "\n",
      "    accuracy                           0.84       348\n",
      "   macro avg       0.84      0.82      0.83       348\n",
      "weighted avg       0.84      0.84      0.84       348\n",
      "\n"
     ]
    },
    {
     "name": "stderr",
     "output_type": "stream",
     "text": [
      "100%|██████████| 77/77 [00:09<00:00,  7.93it/s]\n"
     ]
    },
    {
     "name": "stdout",
     "output_type": "stream",
     "text": [
      "Epoch 43/50 - Train Loss: 0.0387 - Train Fbeta: 0.9292\n",
      "Valid Loss: 1.0022 - Valid Fbeta: 0.7975 - Valid MCC: 0.6311456663201523\n",
      "              precision    recall  f1-score   support\n",
      "\n",
      "           0       0.83      0.92      0.87       218\n",
      "           1       0.83      0.68      0.75       130\n",
      "\n",
      "    accuracy                           0.83       348\n",
      "   macro avg       0.83      0.80      0.81       348\n",
      "weighted avg       0.83      0.83      0.83       348\n",
      "\n"
     ]
    },
    {
     "name": "stderr",
     "output_type": "stream",
     "text": [
      "100%|██████████| 77/77 [00:09<00:00,  7.94it/s]\n"
     ]
    },
    {
     "name": "stdout",
     "output_type": "stream",
     "text": [
      "Epoch 44/50 - Train Loss: 0.0678 - Train Fbeta: 0.9302\n",
      "Valid Loss: 0.9674 - Valid Fbeta: 0.6926 - Valid MCC: 0.5533092550587373\n",
      "              precision    recall  f1-score   support\n",
      "\n",
      "           0       0.87      0.76      0.81       218\n",
      "           1       0.67      0.81      0.73       130\n",
      "\n",
      "    accuracy                           0.78       348\n",
      "   macro avg       0.77      0.78      0.77       348\n",
      "weighted avg       0.79      0.78      0.78       348\n",
      "\n"
     ]
    },
    {
     "name": "stderr",
     "output_type": "stream",
     "text": [
      "100%|██████████| 77/77 [00:09<00:00,  7.96it/s]\n"
     ]
    },
    {
     "name": "stdout",
     "output_type": "stream",
     "text": [
      "Epoch 45/50 - Train Loss: 0.0690 - Train Fbeta: 0.9310\n",
      "Valid Loss: 0.8983 - Valid Fbeta: 0.7474 - Valid MCC: 0.5681481489538616\n",
      "              precision    recall  f1-score   support\n",
      "\n",
      "           0       0.82      0.88      0.85       218\n",
      "           1       0.77      0.67      0.72       130\n",
      "\n",
      "    accuracy                           0.80       348\n",
      "   macro avg       0.79      0.77      0.78       348\n",
      "weighted avg       0.80      0.80      0.80       348\n",
      "\n"
     ]
    },
    {
     "name": "stderr",
     "output_type": "stream",
     "text": [
      "100%|██████████| 77/77 [00:09<00:00,  7.91it/s]\n"
     ]
    },
    {
     "name": "stdout",
     "output_type": "stream",
     "text": [
      "Epoch 46/50 - Train Loss: 0.0392 - Train Fbeta: 0.9322\n",
      "Valid Loss: 1.0593 - Valid Fbeta: 0.7732 - Valid MCC: 0.6062045243874451\n",
      "              precision    recall  f1-score   support\n",
      "\n",
      "           0       0.83      0.89      0.86       218\n",
      "           1       0.80      0.69      0.74       130\n",
      "\n",
      "    accuracy                           0.82       348\n",
      "   macro avg       0.81      0.79      0.80       348\n",
      "weighted avg       0.82      0.82      0.82       348\n",
      "\n"
     ]
    },
    {
     "name": "stderr",
     "output_type": "stream",
     "text": [
      "100%|██████████| 77/77 [00:09<00:00,  7.96it/s]\n"
     ]
    },
    {
     "name": "stdout",
     "output_type": "stream",
     "text": [
      "Epoch 47/50 - Train Loss: 0.0471 - Train Fbeta: 0.9331\n",
      "Valid Loss: 1.0755 - Valid Fbeta: 0.7712 - Valid MCC: 0.606676981453716\n",
      "              precision    recall  f1-score   support\n",
      "\n",
      "           0       0.83      0.89      0.86       218\n",
      "           1       0.79      0.70      0.74       130\n",
      "\n",
      "    accuracy                           0.82       348\n",
      "   macro avg       0.81      0.79      0.80       348\n",
      "weighted avg       0.82      0.82      0.82       348\n",
      "\n"
     ]
    },
    {
     "name": "stderr",
     "output_type": "stream",
     "text": [
      "100%|██████████| 77/77 [00:09<00:00,  7.94it/s]\n"
     ]
    },
    {
     "name": "stdout",
     "output_type": "stream",
     "text": [
      "Epoch 48/50 - Train Loss: 0.0360 - Train Fbeta: 0.9342\n",
      "Valid Loss: 1.1838 - Valid Fbeta: 0.7642 - Valid MCC: 0.5728947271789466\n",
      "              precision    recall  f1-score   support\n",
      "\n",
      "           0       0.80      0.91      0.85       218\n",
      "           1       0.81      0.62      0.70       130\n",
      "\n",
      "    accuracy                           0.80       348\n",
      "   macro avg       0.81      0.77      0.78       348\n",
      "weighted avg       0.81      0.80      0.80       348\n",
      "\n"
     ]
    },
    {
     "name": "stderr",
     "output_type": "stream",
     "text": [
      "100%|██████████| 77/77 [00:09<00:00,  7.96it/s]\n"
     ]
    },
    {
     "name": "stdout",
     "output_type": "stream",
     "text": [
      "Epoch 49/50 - Train Loss: 0.0515 - Train Fbeta: 0.9350\n",
      "Valid Loss: 0.7236 - Valid Fbeta: 0.7388 - Valid MCC: 0.5920814958926555\n",
      "              precision    recall  f1-score   support\n",
      "\n",
      "           0       0.85      0.83      0.84       218\n",
      "           1       0.73      0.76      0.75       130\n",
      "\n",
      "    accuracy                           0.81       348\n",
      "   macro avg       0.79      0.80      0.80       348\n",
      "weighted avg       0.81      0.81      0.81       348\n",
      "\n"
     ]
    },
    {
     "name": "stderr",
     "output_type": "stream",
     "text": [
      "100%|██████████| 77/77 [00:09<00:00,  7.92it/s]\n"
     ]
    },
    {
     "name": "stdout",
     "output_type": "stream",
     "text": [
      "Epoch 50/50 - Train Loss: 0.0537 - Train Fbeta: 0.9357\n",
      "Valid Loss: 0.7876 - Valid Fbeta: 0.8014 - Valid MCC: 0.6440676460736462\n",
      "              precision    recall  f1-score   support\n",
      "\n",
      "           0       0.84      0.91      0.87       218\n",
      "           1       0.83      0.71      0.76       130\n",
      "\n",
      "    accuracy                           0.84       348\n",
      "   macro avg       0.83      0.81      0.82       348\n",
      "weighted avg       0.84      0.84      0.83       348\n",
      "\n",
      "Test model:\n",
      "Valid Loss: 0.9274 - Valid Fbeta: 0.8206 - Valid MCC: 0.6339411726828715\n",
      "              precision    recall  f1-score   support\n",
      "\n",
      "           0       0.81      0.96      0.88       436\n",
      "           1       0.89      0.62      0.73       261\n",
      "\n",
      "    accuracy                           0.83       697\n",
      "   macro avg       0.85      0.79      0.80       697\n",
      "weighted avg       0.84      0.83      0.82       697\n",
      "\n",
      "Test Loss: 0.9274 - Test Fbeta: 0.8206\n"
     ]
    }
   ],
   "source": [
    "resnet_model = Resnet50Model()\n",
    "criterion = nn.CrossEntropyLoss()\n",
    "optimizer = optim.Adam(resnet_model.parameters(), lr=LEARNING_RATE)\n",
    "model_path = \"model_results/resnet50_model_50.pt\"\n",
    "\n",
    "if os.path.isfile(model_path):\n",
    "    print(\"Evaluate model\")\n",
    "    resnet_model.load_state_dict(torch.load(model_path, map_location=torch.device(device)))\n",
    "    print(\"Validation data:\")\n",
    "    validate_model(resnet_model, validation_loader, criterion)\n",
    "    print(\"Test data:\")\n",
    "    validate_model(resnet_model, test_loader, criterion)\n",
    "else:\n",
    "    print(\"Train model\")\n",
    "    model, train_loss_values, train_f_beta_values, validation_loss_values, validation_f_beta_values = train(resnet_model, model_path, train_loader, validation_loader, test_loader, criterion, optimizer, 50, 4)\n",
    "    np.save(\"model_results/resnet50_model_50_train_loss\", train_loss_values)\n",
    "    np.save(\"model_results/resnet50_model_50_train_f_beta\", train_f_beta_values)\n",
    "    np.save(\"model_results/resnet50_model_50_valid_loss\", validation_loss_values)\n",
    "    np.save(\"model_results/resnet50_model_50_valid_f_beta\", validation_f_beta_values)"
   ]
  },
  {
   "cell_type": "code",
   "execution_count": 25,
   "metadata": {
    "pycharm": {
     "name": "#%%\n"
    }
   },
   "outputs": [
    {
     "name": "stderr",
     "output_type": "stream",
     "text": [
      "/home/ma/ma_ma/ma_nikemper/.local/lib/python3.9/site-packages/torchvision/models/_utils.py:208: UserWarning: The parameter 'pretrained' is deprecated since 0.13 and may be removed in the future, please use 'weights' instead.\n",
      "  warnings.warn(\n",
      "/home/ma/ma_ma/ma_nikemper/.local/lib/python3.9/site-packages/torchvision/models/_utils.py:223: UserWarning: Arguments other than a weight enum or `None` for 'weights' are deprecated since 0.13 and may be removed in the future. The current behavior is equivalent to passing `weights=None`.\n",
      "  warnings.warn(msg)\n"
     ]
    },
    {
     "name": "stdout",
     "output_type": "stream",
     "text": [
      "Train model\n"
     ]
    },
    {
     "name": "stderr",
     "output_type": "stream",
     "text": [
      "100%|██████████| 77/77 [00:19<00:00,  3.97it/s]\n"
     ]
    },
    {
     "name": "stdout",
     "output_type": "stream",
     "text": [
      "Epoch 1/50 - Train Loss: 0.6872 - Train Fbeta: 0.3805\n"
     ]
    },
    {
     "name": "stderr",
     "output_type": "stream",
     "text": [
      "/opt/bwhpc/common/jupyter/tensorflow/2023-03-24/lib/python3.9/site-packages/sklearn/metrics/_classification.py:1344: UndefinedMetricWarning: Precision and F-score are ill-defined and being set to 0.0 in labels with no predicted samples. Use `zero_division` parameter to control this behavior.\n",
      "  _warn_prf(average, modifier, msg_start, len(result))\n",
      "/opt/bwhpc/common/jupyter/tensorflow/2023-03-24/lib/python3.9/site-packages/sklearn/metrics/_classification.py:1344: UndefinedMetricWarning: Precision and F-score are ill-defined and being set to 0.0 in labels with no predicted samples. Use `zero_division` parameter to control this behavior.\n",
      "  _warn_prf(average, modifier, msg_start, len(result))\n",
      "/opt/bwhpc/common/jupyter/tensorflow/2023-03-24/lib/python3.9/site-packages/sklearn/metrics/_classification.py:1344: UndefinedMetricWarning: Precision and F-score are ill-defined and being set to 0.0 in labels with no predicted samples. Use `zero_division` parameter to control this behavior.\n",
      "  _warn_prf(average, modifier, msg_start, len(result))\n"
     ]
    },
    {
     "name": "stdout",
     "output_type": "stream",
     "text": [
      "Valid Loss: 0.6621 - Valid Fbeta: 0.0000 - Valid MCC: 0.0\n",
      "              precision    recall  f1-score   support\n",
      "\n",
      "           0       0.63      1.00      0.77       218\n",
      "           1       0.00      0.00      0.00       130\n",
      "\n",
      "    accuracy                           0.63       348\n",
      "   macro avg       0.31      0.50      0.39       348\n",
      "weighted avg       0.39      0.63      0.48       348\n",
      "\n"
     ]
    },
    {
     "name": "stderr",
     "output_type": "stream",
     "text": [
      "100%|██████████| 77/77 [00:19<00:00,  3.99it/s]\n"
     ]
    },
    {
     "name": "stdout",
     "output_type": "stream",
     "text": [
      "Epoch 2/50 - Train Loss: 0.6511 - Train Fbeta: 0.4160\n",
      "Valid Loss: 0.6481 - Valid Fbeta: 0.3947 - Valid MCC: 0.16603245264492336\n",
      "              precision    recall  f1-score   support\n",
      "\n",
      "           0       0.65      0.94      0.77       218\n",
      "           1       0.62      0.16      0.26       130\n",
      "\n",
      "    accuracy                           0.65       348\n",
      "   macro avg       0.64      0.55      0.51       348\n",
      "weighted avg       0.64      0.65      0.58       348\n",
      "\n",
      "Updated best model: epoch 2\n"
     ]
    },
    {
     "name": "stderr",
     "output_type": "stream",
     "text": [
      "100%|██████████| 77/77 [00:19<00:00,  3.98it/s]\n"
     ]
    },
    {
     "name": "stdout",
     "output_type": "stream",
     "text": [
      "Epoch 3/50 - Train Loss: 0.6440 - Train Fbeta: 0.4267\n",
      "Valid Loss: 0.6529 - Valid Fbeta: 0.5151 - Valid MCC: 0.24061796982411904\n",
      "              precision    recall  f1-score   support\n",
      "\n",
      "           0       0.68      0.88      0.77       218\n",
      "           1       0.61      0.32      0.42       130\n",
      "\n",
      "    accuracy                           0.67       348\n",
      "   macro avg       0.65      0.60      0.59       348\n",
      "weighted avg       0.66      0.67      0.64       348\n",
      "\n",
      "Updated best model: epoch 3\n"
     ]
    },
    {
     "name": "stderr",
     "output_type": "stream",
     "text": [
      "100%|██████████| 77/77 [00:19<00:00,  3.95it/s]\n"
     ]
    },
    {
     "name": "stdout",
     "output_type": "stream",
     "text": [
      "Epoch 4/50 - Train Loss: 0.6369 - Train Fbeta: 0.4440\n",
      "Valid Loss: 0.6051 - Valid Fbeta: 0.5484 - Valid MCC: 0.3043118852793074\n",
      "              precision    recall  f1-score   support\n",
      "\n",
      "           0       0.68      0.95      0.79       218\n",
      "           1       0.76      0.26      0.39       130\n",
      "\n",
      "    accuracy                           0.69       348\n",
      "   macro avg       0.72      0.61      0.59       348\n",
      "weighted avg       0.71      0.69      0.64       348\n",
      "\n",
      "Updated best model: epoch 4\n"
     ]
    },
    {
     "name": "stderr",
     "output_type": "stream",
     "text": [
      "100%|██████████| 77/77 [00:19<00:00,  3.99it/s]\n"
     ]
    },
    {
     "name": "stdout",
     "output_type": "stream",
     "text": [
      "Epoch 5/50 - Train Loss: 0.6219 - Train Fbeta: 0.4567\n",
      "Valid Loss: 0.6345 - Valid Fbeta: 0.5346 - Valid MCC: 0.28576942024860114\n",
      "              precision    recall  f1-score   support\n",
      "\n",
      "           0       0.68      0.94      0.79       218\n",
      "           1       0.72      0.26      0.38       130\n",
      "\n",
      "    accuracy                           0.69       348\n",
      "   macro avg       0.70      0.60      0.59       348\n",
      "weighted avg       0.70      0.69      0.64       348\n",
      "\n"
     ]
    },
    {
     "name": "stderr",
     "output_type": "stream",
     "text": [
      "100%|██████████| 77/77 [00:19<00:00,  3.99it/s]\n"
     ]
    },
    {
     "name": "stdout",
     "output_type": "stream",
     "text": [
      "Epoch 6/50 - Train Loss: 0.6187 - Train Fbeta: 0.4658\n",
      "Valid Loss: 0.6038 - Valid Fbeta: 0.5075 - Valid MCC: 0.2860725361361284\n",
      "              precision    recall  f1-score   support\n",
      "\n",
      "           0       0.67      0.97      0.79       218\n",
      "           1       0.79      0.21      0.33       130\n",
      "\n",
      "    accuracy                           0.68       348\n",
      "   macro avg       0.73      0.59      0.56       348\n",
      "weighted avg       0.72      0.68      0.62       348\n",
      "\n"
     ]
    },
    {
     "name": "stderr",
     "output_type": "stream",
     "text": [
      "100%|██████████| 77/77 [00:19<00:00,  3.98it/s]\n"
     ]
    },
    {
     "name": "stdout",
     "output_type": "stream",
     "text": [
      "Epoch 7/50 - Train Loss: 0.5959 - Train Fbeta: 0.4803\n",
      "Valid Loss: 0.5974 - Valid Fbeta: 0.5917 - Valid MCC: 0.34281954328961667\n",
      "              precision    recall  f1-score   support\n",
      "\n",
      "           0       0.70      0.94      0.80       218\n",
      "           1       0.77      0.31      0.44       130\n",
      "\n",
      "    accuracy                           0.71       348\n",
      "   macro avg       0.73      0.63      0.62       348\n",
      "weighted avg       0.72      0.71      0.67       348\n",
      "\n",
      "Updated best model: epoch 7\n"
     ]
    },
    {
     "name": "stderr",
     "output_type": "stream",
     "text": [
      "100%|██████████| 77/77 [00:19<00:00,  3.99it/s]\n"
     ]
    },
    {
     "name": "stdout",
     "output_type": "stream",
     "text": [
      "Epoch 8/50 - Train Loss: 0.5577 - Train Fbeta: 0.5083\n",
      "Valid Loss: 0.5626 - Valid Fbeta: 0.6124 - Valid MCC: 0.3587337239082498\n",
      "              precision    recall  f1-score   support\n",
      "\n",
      "           0       0.73      0.86      0.79       218\n",
      "           1       0.66      0.47      0.55       130\n",
      "\n",
      "    accuracy                           0.71       348\n",
      "   macro avg       0.70      0.66      0.67       348\n",
      "weighted avg       0.71      0.71      0.70       348\n",
      "\n",
      "Updated best model: epoch 8\n"
     ]
    },
    {
     "name": "stderr",
     "output_type": "stream",
     "text": [
      "100%|██████████| 77/77 [00:19<00:00,  3.99it/s]\n"
     ]
    },
    {
     "name": "stdout",
     "output_type": "stream",
     "text": [
      "Epoch 9/50 - Train Loss: 0.4912 - Train Fbeta: 0.5421\n",
      "Valid Loss: 0.5885 - Valid Fbeta: 0.6199 - Valid MCC: 0.41701782596948445\n",
      "              precision    recall  f1-score   support\n",
      "\n",
      "           0       0.81      0.72      0.76       218\n",
      "           1       0.60      0.71      0.65       130\n",
      "\n",
      "    accuracy                           0.72       348\n",
      "   macro avg       0.70      0.71      0.71       348\n",
      "weighted avg       0.73      0.72      0.72       348\n",
      "\n",
      "Updated best model: epoch 9\n"
     ]
    },
    {
     "name": "stderr",
     "output_type": "stream",
     "text": [
      "100%|██████████| 77/77 [00:19<00:00,  3.99it/s]\n"
     ]
    },
    {
     "name": "stdout",
     "output_type": "stream",
     "text": [
      "Epoch 10/50 - Train Loss: 0.4576 - Train Fbeta: 0.5730\n",
      "Valid Loss: 0.6339 - Valid Fbeta: 0.6098 - Valid MCC: 0.3978396658707511\n",
      "              precision    recall  f1-score   support\n",
      "\n",
      "           0       0.80      0.72      0.75       218\n",
      "           1       0.59      0.69      0.64       130\n",
      "\n",
      "    accuracy                           0.71       348\n",
      "   macro avg       0.69      0.70      0.70       348\n",
      "weighted avg       0.72      0.71      0.71       348\n",
      "\n"
     ]
    },
    {
     "name": "stderr",
     "output_type": "stream",
     "text": [
      "100%|██████████| 77/77 [00:19<00:00,  3.98it/s]\n"
     ]
    },
    {
     "name": "stdout",
     "output_type": "stream",
     "text": [
      "Epoch 11/50 - Train Loss: 0.4403 - Train Fbeta: 0.5985\n",
      "Valid Loss: 0.6276 - Valid Fbeta: 0.6872 - Valid MCC: 0.44834515383926027\n",
      "              precision    recall  f1-score   support\n",
      "\n",
      "           0       0.74      0.93      0.82       218\n",
      "           1       0.79      0.45      0.57       130\n",
      "\n",
      "    accuracy                           0.75       348\n",
      "   macro avg       0.77      0.69      0.70       348\n",
      "weighted avg       0.76      0.75      0.73       348\n",
      "\n",
      "Updated best model: epoch 11\n"
     ]
    },
    {
     "name": "stderr",
     "output_type": "stream",
     "text": [
      "100%|██████████| 77/77 [00:19<00:00,  3.99it/s]\n"
     ]
    },
    {
     "name": "stdout",
     "output_type": "stream",
     "text": [
      "Epoch 12/50 - Train Loss: 0.4159 - Train Fbeta: 0.6183\n",
      "Valid Loss: 0.4675 - Valid Fbeta: 0.7741 - Valid MCC: 0.5693083291620262\n",
      "              precision    recall  f1-score   support\n",
      "\n",
      "           0       0.79      0.94      0.86       218\n",
      "           1       0.85      0.57      0.68       130\n",
      "\n",
      "    accuracy                           0.80       348\n",
      "   macro avg       0.82      0.75      0.77       348\n",
      "weighted avg       0.81      0.80      0.79       348\n",
      "\n",
      "Updated best model: epoch 12\n"
     ]
    },
    {
     "name": "stderr",
     "output_type": "stream",
     "text": [
      "100%|██████████| 77/77 [00:19<00:00,  3.99it/s]\n"
     ]
    },
    {
     "name": "stdout",
     "output_type": "stream",
     "text": [
      "Epoch 13/50 - Train Loss: 0.3750 - Train Fbeta: 0.6385\n",
      "Valid Loss: 0.5339 - Valid Fbeta: 0.7287 - Valid MCC: 0.5137375823388601\n",
      "              precision    recall  f1-score   support\n",
      "\n",
      "           0       0.77      0.91      0.84       218\n",
      "           1       0.79      0.55      0.65       130\n",
      "\n",
      "    accuracy                           0.78       348\n",
      "   macro avg       0.78      0.73      0.74       348\n",
      "weighted avg       0.78      0.78      0.77       348\n",
      "\n"
     ]
    },
    {
     "name": "stderr",
     "output_type": "stream",
     "text": [
      "100%|██████████| 77/77 [00:19<00:00,  3.98it/s]\n"
     ]
    },
    {
     "name": "stdout",
     "output_type": "stream",
     "text": [
      "Epoch 14/50 - Train Loss: 0.3521 - Train Fbeta: 0.6569\n",
      "Valid Loss: 0.5091 - Valid Fbeta: 0.7456 - Valid MCC: 0.5609686745368193\n",
      "              precision    recall  f1-score   support\n",
      "\n",
      "           0       0.81      0.89      0.85       218\n",
      "           1       0.77      0.65      0.71       130\n",
      "\n",
      "    accuracy                           0.80       348\n",
      "   macro avg       0.79      0.77      0.78       348\n",
      "weighted avg       0.80      0.80      0.79       348\n",
      "\n"
     ]
    },
    {
     "name": "stderr",
     "output_type": "stream",
     "text": [
      "100%|██████████| 77/77 [00:19<00:00,  3.99it/s]\n"
     ]
    },
    {
     "name": "stdout",
     "output_type": "stream",
     "text": [
      "Epoch 15/50 - Train Loss: 0.2983 - Train Fbeta: 0.6739\n",
      "Valid Loss: 0.4571 - Valid Fbeta: 0.7840 - Valid MCC: 0.6185774219369887\n",
      "              precision    recall  f1-score   support\n",
      "\n",
      "           0       0.83      0.90      0.87       218\n",
      "           1       0.81      0.69      0.75       130\n",
      "\n",
      "    accuracy                           0.82       348\n",
      "   macro avg       0.82      0.80      0.81       348\n",
      "weighted avg       0.82      0.82      0.82       348\n",
      "\n",
      "Updated best model: epoch 15\n"
     ]
    },
    {
     "name": "stderr",
     "output_type": "stream",
     "text": [
      "100%|██████████| 77/77 [00:19<00:00,  3.99it/s]\n"
     ]
    },
    {
     "name": "stdout",
     "output_type": "stream",
     "text": [
      "Epoch 16/50 - Train Loss: 0.2697 - Train Fbeta: 0.6899\n",
      "Valid Loss: 0.4872 - Valid Fbeta: 0.8025 - Valid MCC: 0.609333930135963\n",
      "              precision    recall  f1-score   support\n",
      "\n",
      "           0       0.80      0.95      0.87       218\n",
      "           1       0.88      0.60      0.71       130\n",
      "\n",
      "    accuracy                           0.82       348\n",
      "   macro avg       0.84      0.77      0.79       348\n",
      "weighted avg       0.83      0.82      0.81       348\n",
      "\n",
      "Updated best model: epoch 16\n"
     ]
    },
    {
     "name": "stderr",
     "output_type": "stream",
     "text": [
      "100%|██████████| 77/77 [00:19<00:00,  3.99it/s]\n"
     ]
    },
    {
     "name": "stdout",
     "output_type": "stream",
     "text": [
      "Epoch 17/50 - Train Loss: 0.2180 - Train Fbeta: 0.7063\n",
      "Valid Loss: 0.5603 - Valid Fbeta: 0.8096 - Valid MCC: 0.6504076193863041\n",
      "              precision    recall  f1-score   support\n",
      "\n",
      "           0       0.84      0.92      0.88       218\n",
      "           1       0.84      0.70      0.76       130\n",
      "\n",
      "    accuracy                           0.84       348\n",
      "   macro avg       0.84      0.81      0.82       348\n",
      "weighted avg       0.84      0.84      0.84       348\n",
      "\n",
      "Updated best model: epoch 17\n"
     ]
    },
    {
     "name": "stderr",
     "output_type": "stream",
     "text": [
      "100%|██████████| 77/77 [00:19<00:00,  3.99it/s]\n"
     ]
    },
    {
     "name": "stdout",
     "output_type": "stream",
     "text": [
      "Epoch 18/50 - Train Loss: 0.2068 - Train Fbeta: 0.7205\n",
      "Valid Loss: 0.5458 - Valid Fbeta: 0.7909 - Valid MCC: 0.6182869312158946\n",
      "              precision    recall  f1-score   support\n",
      "\n",
      "           0       0.82      0.92      0.87       218\n",
      "           1       0.83      0.67      0.74       130\n",
      "\n",
      "    accuracy                           0.82       348\n",
      "   macro avg       0.83      0.79      0.80       348\n",
      "weighted avg       0.83      0.82      0.82       348\n",
      "\n"
     ]
    },
    {
     "name": "stderr",
     "output_type": "stream",
     "text": [
      "100%|██████████| 77/77 [00:22<00:00,  3.40it/s]\n"
     ]
    },
    {
     "name": "stdout",
     "output_type": "stream",
     "text": [
      "Epoch 19/50 - Train Loss: 0.1777 - Train Fbeta: 0.7339\n",
      "Valid Loss: 0.6986 - Valid Fbeta: 0.7657 - Valid MCC: 0.5793779651586568\n",
      "              precision    recall  f1-score   support\n",
      "\n",
      "           0       0.81      0.91      0.86       218\n",
      "           1       0.81      0.64      0.71       130\n",
      "\n",
      "    accuracy                           0.81       348\n",
      "   macro avg       0.81      0.77      0.78       348\n",
      "weighted avg       0.81      0.81      0.80       348\n",
      "\n"
     ]
    },
    {
     "name": "stderr",
     "output_type": "stream",
     "text": [
      "100%|██████████| 77/77 [00:20<00:00,  3.70it/s]\n"
     ]
    },
    {
     "name": "stdout",
     "output_type": "stream",
     "text": [
      "Epoch 20/50 - Train Loss: 0.1681 - Train Fbeta: 0.7460\n",
      "Valid Loss: 0.6931 - Valid Fbeta: 0.8136 - Valid MCC: 0.669819579116682\n",
      "              precision    recall  f1-score   support\n",
      "\n",
      "           0       0.85      0.91      0.88       218\n",
      "           1       0.83      0.74      0.78       130\n",
      "\n",
      "    accuracy                           0.85       348\n",
      "   macro avg       0.84      0.83      0.83       348\n",
      "weighted avg       0.85      0.85      0.85       348\n",
      "\n",
      "Updated best model: epoch 20\n"
     ]
    },
    {
     "name": "stderr",
     "output_type": "stream",
     "text": [
      "100%|██████████| 77/77 [00:20<00:00,  3.80it/s]\n"
     ]
    },
    {
     "name": "stdout",
     "output_type": "stream",
     "text": [
      "Epoch 21/50 - Train Loss: 0.1504 - Train Fbeta: 0.7569\n",
      "Valid Loss: 0.5966 - Valid Fbeta: 0.8045 - Valid MCC: 0.6505080118562419\n",
      "              precision    recall  f1-score   support\n",
      "\n",
      "           0       0.84      0.91      0.88       218\n",
      "           1       0.83      0.72      0.77       130\n",
      "\n",
      "    accuracy                           0.84       348\n",
      "   macro avg       0.84      0.81      0.82       348\n",
      "weighted avg       0.84      0.84      0.84       348\n",
      "\n"
     ]
    },
    {
     "name": "stderr",
     "output_type": "stream",
     "text": [
      "100%|██████████| 77/77 [00:19<00:00,  3.90it/s]\n"
     ]
    },
    {
     "name": "stdout",
     "output_type": "stream",
     "text": [
      "Epoch 22/50 - Train Loss: 0.1321 - Train Fbeta: 0.7677\n",
      "Valid Loss: 0.5608 - Valid Fbeta: 0.8110 - Valid MCC: 0.6701181975370126\n",
      "              precision    recall  f1-score   support\n",
      "\n",
      "           0       0.86      0.91      0.88       218\n",
      "           1       0.83      0.75      0.79       130\n",
      "\n",
      "    accuracy                           0.85       348\n",
      "   macro avg       0.84      0.83      0.83       348\n",
      "weighted avg       0.85      0.85      0.85       348\n",
      "\n"
     ]
    },
    {
     "name": "stderr",
     "output_type": "stream",
     "text": [
      "100%|██████████| 77/77 [00:19<00:00,  3.96it/s]\n"
     ]
    },
    {
     "name": "stdout",
     "output_type": "stream",
     "text": [
      "Epoch 23/50 - Train Loss: 0.1133 - Train Fbeta: 0.7775\n",
      "Valid Loss: 0.6743 - Valid Fbeta: 0.7788 - Valid MCC: 0.642835120668926\n",
      "              precision    recall  f1-score   support\n",
      "\n",
      "           0       0.86      0.87      0.87       218\n",
      "           1       0.78      0.77      0.78       130\n",
      "\n",
      "    accuracy                           0.83       348\n",
      "   macro avg       0.82      0.82      0.82       348\n",
      "weighted avg       0.83      0.83      0.83       348\n",
      "\n"
     ]
    },
    {
     "name": "stderr",
     "output_type": "stream",
     "text": [
      "100%|██████████| 77/77 [00:19<00:00,  3.96it/s]\n"
     ]
    },
    {
     "name": "stdout",
     "output_type": "stream",
     "text": [
      "Epoch 24/50 - Train Loss: 0.1298 - Train Fbeta: 0.7860\n",
      "Valid Loss: 0.6041 - Valid Fbeta: 0.8423 - Valid MCC: 0.6955105391016003\n",
      "              precision    recall  f1-score   support\n",
      "\n",
      "           0       0.85      0.94      0.89       218\n",
      "           1       0.88      0.72      0.79       130\n",
      "\n",
      "    accuracy                           0.86       348\n",
      "   macro avg       0.86      0.83      0.84       348\n",
      "weighted avg       0.86      0.86      0.86       348\n",
      "\n",
      "Updated best model: epoch 24\n"
     ]
    },
    {
     "name": "stderr",
     "output_type": "stream",
     "text": [
      "100%|██████████| 77/77 [00:19<00:00,  3.92it/s]\n"
     ]
    },
    {
     "name": "stdout",
     "output_type": "stream",
     "text": [
      "Epoch 25/50 - Train Loss: 0.0839 - Train Fbeta: 0.7946\n",
      "Valid Loss: 0.6234 - Valid Fbeta: 0.8516 - Valid MCC: 0.7026864673680769\n",
      "              precision    recall  f1-score   support\n",
      "\n",
      "           0       0.85      0.95      0.90       218\n",
      "           1       0.89      0.72      0.79       130\n",
      "\n",
      "    accuracy                           0.86       348\n",
      "   macro avg       0.87      0.83      0.85       348\n",
      "weighted avg       0.87      0.86      0.86       348\n",
      "\n",
      "Updated best model: epoch 25\n"
     ]
    },
    {
     "name": "stderr",
     "output_type": "stream",
     "text": [
      "100%|██████████| 77/77 [00:19<00:00,  3.91it/s]\n"
     ]
    },
    {
     "name": "stdout",
     "output_type": "stream",
     "text": [
      "Epoch 26/50 - Train Loss: 0.1008 - Train Fbeta: 0.8021\n",
      "Valid Loss: 0.7540 - Valid Fbeta: 0.7447 - Valid MCC: 0.596076744708863\n",
      "              precision    recall  f1-score   support\n",
      "\n",
      "           0       0.85      0.84      0.85       218\n",
      "           1       0.74      0.75      0.75       130\n",
      "\n",
      "    accuracy                           0.81       348\n",
      "   macro avg       0.80      0.80      0.80       348\n",
      "weighted avg       0.81      0.81      0.81       348\n",
      "\n"
     ]
    },
    {
     "name": "stderr",
     "output_type": "stream",
     "text": [
      "100%|██████████| 77/77 [00:19<00:00,  3.94it/s]\n"
     ]
    },
    {
     "name": "stdout",
     "output_type": "stream",
     "text": [
      "Epoch 27/50 - Train Loss: 0.1118 - Train Fbeta: 0.8088\n",
      "Valid Loss: 0.5572 - Valid Fbeta: 0.8165 - Valid MCC: 0.6762557257677995\n",
      "              precision    recall  f1-score   support\n",
      "\n",
      "           0       0.86      0.91      0.88       218\n",
      "           1       0.84      0.75      0.79       130\n",
      "\n",
      "    accuracy                           0.85       348\n",
      "   macro avg       0.85      0.83      0.84       348\n",
      "weighted avg       0.85      0.85      0.85       348\n",
      "\n"
     ]
    },
    {
     "name": "stderr",
     "output_type": "stream",
     "text": [
      "100%|██████████| 77/77 [00:19<00:00,  3.97it/s]\n"
     ]
    },
    {
     "name": "stdout",
     "output_type": "stream",
     "text": [
      "Epoch 28/50 - Train Loss: 0.0968 - Train Fbeta: 0.8149\n",
      "Valid Loss: 0.6097 - Valid Fbeta: 0.8185 - Valid MCC: 0.6632475247383823\n",
      "              precision    recall  f1-score   support\n",
      "\n",
      "           0       0.84      0.93      0.88       218\n",
      "           1       0.85      0.71      0.77       130\n",
      "\n",
      "    accuracy                           0.84       348\n",
      "   macro avg       0.85      0.82      0.83       348\n",
      "weighted avg       0.85      0.84      0.84       348\n",
      "\n"
     ]
    },
    {
     "name": "stderr",
     "output_type": "stream",
     "text": [
      "100%|██████████| 77/77 [00:19<00:00,  3.94it/s]\n"
     ]
    },
    {
     "name": "stdout",
     "output_type": "stream",
     "text": [
      "Epoch 29/50 - Train Loss: 0.0760 - Train Fbeta: 0.8212\n",
      "Valid Loss: 0.6423 - Valid Fbeta: 0.7935 - Valid MCC: 0.6380700225792966\n",
      "              precision    recall  f1-score   support\n",
      "\n",
      "           0       0.84      0.90      0.87       218\n",
      "           1       0.82      0.72      0.76       130\n",
      "\n",
      "    accuracy                           0.83       348\n",
      "   macro avg       0.83      0.81      0.82       348\n",
      "weighted avg       0.83      0.83      0.83       348\n",
      "\n"
     ]
    },
    {
     "name": "stderr",
     "output_type": "stream",
     "text": [
      "100%|██████████| 77/77 [00:19<00:00,  3.98it/s]\n"
     ]
    },
    {
     "name": "stdout",
     "output_type": "stream",
     "text": [
      "Epoch 30/50 - Train Loss: 0.0705 - Train Fbeta: 0.8269\n",
      "Valid Loss: 0.6947 - Valid Fbeta: 0.7751 - Valid MCC: 0.645046222319506\n",
      "              precision    recall  f1-score   support\n",
      "\n",
      "           0       0.87      0.86      0.87       218\n",
      "           1       0.77      0.78      0.78       130\n",
      "\n",
      "    accuracy                           0.83       348\n",
      "   macro avg       0.82      0.82      0.82       348\n",
      "weighted avg       0.83      0.83      0.83       348\n",
      "\n"
     ]
    },
    {
     "name": "stderr",
     "output_type": "stream",
     "text": [
      "100%|██████████| 77/77 [00:19<00:00,  3.99it/s]\n"
     ]
    },
    {
     "name": "stdout",
     "output_type": "stream",
     "text": [
      "Epoch 31/50 - Train Loss: 0.0630 - Train Fbeta: 0.8326\n",
      "Valid Loss: 0.6784 - Valid Fbeta: 0.8039 - Valid MCC: 0.6439857979224177\n",
      "              precision    recall  f1-score   support\n",
      "\n",
      "           0       0.84      0.92      0.88       218\n",
      "           1       0.83      0.70      0.76       130\n",
      "\n",
      "    accuracy                           0.84       348\n",
      "   macro avg       0.84      0.81      0.82       348\n",
      "weighted avg       0.84      0.84      0.83       348\n",
      "\n"
     ]
    },
    {
     "name": "stderr",
     "output_type": "stream",
     "text": [
      "100%|██████████| 77/77 [00:19<00:00,  3.99it/s]\n"
     ]
    },
    {
     "name": "stdout",
     "output_type": "stream",
     "text": [
      "Epoch 32/50 - Train Loss: 0.0615 - Train Fbeta: 0.8378\n",
      "Valid Loss: 0.6405 - Valid Fbeta: 0.7848 - Valid MCC: 0.6402092035757424\n",
      "              precision    recall  f1-score   support\n",
      "\n",
      "           0       0.85      0.89      0.87       218\n",
      "           1       0.80      0.75      0.77       130\n",
      "\n",
      "    accuracy                           0.83       348\n",
      "   macro avg       0.82      0.82      0.82       348\n",
      "weighted avg       0.83      0.83      0.83       348\n",
      "\n"
     ]
    },
    {
     "name": "stderr",
     "output_type": "stream",
     "text": [
      "100%|██████████| 77/77 [00:19<00:00,  3.99it/s]\n"
     ]
    },
    {
     "name": "stdout",
     "output_type": "stream",
     "text": [
      "Epoch 33/50 - Train Loss: 0.0630 - Train Fbeta: 0.8424\n",
      "Valid Loss: 0.8162 - Valid Fbeta: 0.8333 - Valid MCC: 0.6887285559103881\n",
      "              precision    recall  f1-score   support\n",
      "\n",
      "           0       0.85      0.93      0.89       218\n",
      "           1       0.86      0.73      0.79       130\n",
      "\n",
      "    accuracy                           0.86       348\n",
      "   macro avg       0.86      0.83      0.84       348\n",
      "weighted avg       0.86      0.86      0.85       348\n",
      "\n"
     ]
    },
    {
     "name": "stderr",
     "output_type": "stream",
     "text": [
      "100%|██████████| 77/77 [00:19<00:00,  3.99it/s]\n"
     ]
    },
    {
     "name": "stdout",
     "output_type": "stream",
     "text": [
      "Epoch 34/50 - Train Loss: 0.0742 - Train Fbeta: 0.8467\n",
      "Valid Loss: 0.7949 - Valid Fbeta: 0.8246 - Valid MCC: 0.6759525677730313\n",
      "              precision    recall  f1-score   support\n",
      "\n",
      "           0       0.85      0.93      0.89       218\n",
      "           1       0.85      0.72      0.78       130\n",
      "\n",
      "    accuracy                           0.85       348\n",
      "   macro avg       0.85      0.82      0.83       348\n",
      "weighted avg       0.85      0.85      0.85       348\n",
      "\n"
     ]
    },
    {
     "name": "stderr",
     "output_type": "stream",
     "text": [
      "100%|██████████| 77/77 [00:19<00:00,  3.99it/s]\n"
     ]
    },
    {
     "name": "stdout",
     "output_type": "stream",
     "text": [
      "Epoch 35/50 - Train Loss: 0.0605 - Train Fbeta: 0.8509\n",
      "Valid Loss: 0.7463 - Valid Fbeta: 0.8425 - Valid MCC: 0.6897096635767327\n",
      "              precision    recall  f1-score   support\n",
      "\n",
      "           0       0.84      0.94      0.89       218\n",
      "           1       0.88      0.71      0.79       130\n",
      "\n",
      "    accuracy                           0.86       348\n",
      "   macro avg       0.86      0.83      0.84       348\n",
      "weighted avg       0.86      0.86      0.85       348\n",
      "\n"
     ]
    },
    {
     "name": "stderr",
     "output_type": "stream",
     "text": [
      "100%|██████████| 77/77 [00:19<00:00,  3.99it/s]\n"
     ]
    },
    {
     "name": "stdout",
     "output_type": "stream",
     "text": [
      "Epoch 36/50 - Train Loss: 0.0421 - Train Fbeta: 0.8551\n",
      "Valid Loss: 0.7040 - Valid Fbeta: 0.8223 - Valid MCC: 0.6891302151531492\n",
      "              precision    recall  f1-score   support\n",
      "\n",
      "           0       0.87      0.91      0.89       218\n",
      "           1       0.84      0.76      0.80       130\n",
      "\n",
      "    accuracy                           0.86       348\n",
      "   macro avg       0.85      0.84      0.84       348\n",
      "weighted avg       0.86      0.86      0.85       348\n",
      "\n"
     ]
    },
    {
     "name": "stderr",
     "output_type": "stream",
     "text": [
      "100%|██████████| 77/77 [00:19<00:00,  3.99it/s]\n"
     ]
    },
    {
     "name": "stdout",
     "output_type": "stream",
     "text": [
      "Epoch 37/50 - Train Loss: 0.0622 - Train Fbeta: 0.8587\n",
      "Valid Loss: 0.6791 - Valid Fbeta: 0.8333 - Valid MCC: 0.708092201592411\n",
      "              precision    recall  f1-score   support\n",
      "\n",
      "           0       0.87      0.92      0.89       218\n",
      "           1       0.85      0.78      0.81       130\n",
      "\n",
      "    accuracy                           0.86       348\n",
      "   macro avg       0.86      0.85      0.85       348\n",
      "weighted avg       0.86      0.86      0.86       348\n",
      "\n"
     ]
    },
    {
     "name": "stderr",
     "output_type": "stream",
     "text": [
      "100%|██████████| 77/77 [00:19<00:00,  3.99it/s]\n"
     ]
    },
    {
     "name": "stdout",
     "output_type": "stream",
     "text": [
      "Epoch 38/50 - Train Loss: 0.0610 - Train Fbeta: 0.8622\n",
      "Valid Loss: 0.6624 - Valid Fbeta: 0.8363 - Valid MCC: 0.6889273354425386\n",
      "              precision    recall  f1-score   support\n",
      "\n",
      "           0       0.85      0.94      0.89       218\n",
      "           1       0.87      0.72      0.79       130\n",
      "\n",
      "    accuracy                           0.86       348\n",
      "   macro avg       0.86      0.83      0.84       348\n",
      "weighted avg       0.86      0.86      0.85       348\n",
      "\n"
     ]
    },
    {
     "name": "stderr",
     "output_type": "stream",
     "text": [
      "100%|██████████| 77/77 [00:19<00:00,  3.99it/s]\n"
     ]
    },
    {
     "name": "stdout",
     "output_type": "stream",
     "text": [
      "Epoch 39/50 - Train Loss: 0.0393 - Train Fbeta: 0.8658\n",
      "Valid Loss: 0.7145 - Valid Fbeta: 0.8513 - Valid MCC: 0.7083835136578899\n",
      "              precision    recall  f1-score   support\n",
      "\n",
      "           0       0.85      0.94      0.90       218\n",
      "           1       0.89      0.73      0.80       130\n",
      "\n",
      "    accuracy                           0.86       348\n",
      "   macro avg       0.87      0.84      0.85       348\n",
      "weighted avg       0.87      0.86      0.86       348\n",
      "\n"
     ]
    },
    {
     "name": "stderr",
     "output_type": "stream",
     "text": [
      "100%|██████████| 77/77 [00:19<00:00,  3.99it/s]\n"
     ]
    },
    {
     "name": "stdout",
     "output_type": "stream",
     "text": [
      "Epoch 40/50 - Train Loss: 0.0604 - Train Fbeta: 0.8689\n",
      "Valid Loss: 0.7116 - Valid Fbeta: 0.8223 - Valid MCC: 0.6891302151531492\n",
      "              precision    recall  f1-score   support\n",
      "\n",
      "           0       0.87      0.91      0.89       218\n",
      "           1       0.84      0.76      0.80       130\n",
      "\n",
      "    accuracy                           0.86       348\n",
      "   macro avg       0.85      0.84      0.84       348\n",
      "weighted avg       0.86      0.86      0.85       348\n",
      "\n"
     ]
    },
    {
     "name": "stderr",
     "output_type": "stream",
     "text": [
      "100%|██████████| 77/77 [00:19<00:00,  3.99it/s]\n"
     ]
    },
    {
     "name": "stdout",
     "output_type": "stream",
     "text": [
      "Epoch 41/50 - Train Loss: 0.0421 - Train Fbeta: 0.8720\n",
      "Valid Loss: 0.7575 - Valid Fbeta: 0.8010 - Valid MCC: 0.665107818109086\n",
      "              precision    recall  f1-score   support\n",
      "\n",
      "           0       0.86      0.89      0.88       218\n",
      "           1       0.81      0.76      0.79       130\n",
      "\n",
      "    accuracy                           0.84       348\n",
      "   macro avg       0.84      0.83      0.83       348\n",
      "weighted avg       0.84      0.84      0.84       348\n",
      "\n"
     ]
    },
    {
     "name": "stderr",
     "output_type": "stream",
     "text": [
      "100%|██████████| 77/77 [00:19<00:00,  3.98it/s]\n"
     ]
    },
    {
     "name": "stdout",
     "output_type": "stream",
     "text": [
      "Epoch 42/50 - Train Loss: 0.0434 - Train Fbeta: 0.8748\n",
      "Valid Loss: 0.8093 - Valid Fbeta: 0.7751 - Valid MCC: 0.645046222319506\n",
      "              precision    recall  f1-score   support\n",
      "\n",
      "           0       0.87      0.86      0.87       218\n",
      "           1       0.77      0.78      0.78       130\n",
      "\n",
      "    accuracy                           0.83       348\n",
      "   macro avg       0.82      0.82      0.82       348\n",
      "weighted avg       0.83      0.83      0.83       348\n",
      "\n"
     ]
    },
    {
     "name": "stderr",
     "output_type": "stream",
     "text": [
      "100%|██████████| 77/77 [00:19<00:00,  3.99it/s]\n"
     ]
    },
    {
     "name": "stdout",
     "output_type": "stream",
     "text": [
      "Epoch 43/50 - Train Loss: 0.0272 - Train Fbeta: 0.8777\n",
      "Valid Loss: 0.7502 - Valid Fbeta: 0.8452 - Valid MCC: 0.7017672407946168\n",
      "              precision    recall  f1-score   support\n",
      "\n",
      "           0       0.85      0.94      0.90       218\n",
      "           1       0.88      0.73      0.80       130\n",
      "\n",
      "    accuracy                           0.86       348\n",
      "   macro avg       0.87      0.84      0.85       348\n",
      "weighted avg       0.86      0.86      0.86       348\n",
      "\n"
     ]
    },
    {
     "name": "stderr",
     "output_type": "stream",
     "text": [
      "100%|██████████| 77/77 [00:19<00:00,  3.94it/s]\n"
     ]
    },
    {
     "name": "stdout",
     "output_type": "stream",
     "text": [
      "Epoch 44/50 - Train Loss: 0.0364 - Train Fbeta: 0.8805\n",
      "Valid Loss: 0.7677 - Valid Fbeta: 0.8191 - Valid MCC: 0.6760399897232081\n",
      "              precision    recall  f1-score   support\n",
      "\n",
      "           0       0.85      0.92      0.88       218\n",
      "           1       0.84      0.74      0.79       130\n",
      "\n",
      "    accuracy                           0.85       348\n",
      "   macro avg       0.85      0.83      0.84       348\n",
      "weighted avg       0.85      0.85      0.85       348\n",
      "\n"
     ]
    },
    {
     "name": "stderr",
     "output_type": "stream",
     "text": [
      "100%|██████████| 77/77 [00:19<00:00,  3.98it/s]\n"
     ]
    },
    {
     "name": "stdout",
     "output_type": "stream",
     "text": [
      "Epoch 45/50 - Train Loss: 0.0406 - Train Fbeta: 0.8830\n",
      "Valid Loss: 0.7423 - Valid Fbeta: 0.8086 - Valid MCC: 0.6705249560154989\n",
      "              precision    recall  f1-score   support\n",
      "\n",
      "           0       0.86      0.90      0.88       218\n",
      "           1       0.82      0.75      0.79       130\n",
      "\n",
      "    accuracy                           0.85       348\n",
      "   macro avg       0.84      0.83      0.83       348\n",
      "weighted avg       0.85      0.85      0.85       348\n",
      "\n"
     ]
    },
    {
     "name": "stderr",
     "output_type": "stream",
     "text": [
      "100%|██████████| 77/77 [00:19<00:00,  3.99it/s]\n"
     ]
    },
    {
     "name": "stdout",
     "output_type": "stream",
     "text": [
      "Epoch 46/50 - Train Loss: 0.0248 - Train Fbeta: 0.8854\n",
      "Valid Loss: 0.7668 - Valid Fbeta: 0.7929 - Valid MCC: 0.6526585108424142\n",
      "              precision    recall  f1-score   support\n",
      "\n",
      "           0       0.86      0.89      0.87       218\n",
      "           1       0.80      0.75      0.78       130\n",
      "\n",
      "    accuracy                           0.84       348\n",
      "   macro avg       0.83      0.82      0.83       348\n",
      "weighted avg       0.84      0.84      0.84       348\n",
      "\n"
     ]
    },
    {
     "name": "stderr",
     "output_type": "stream",
     "text": [
      "100%|██████████| 77/77 [00:19<00:00,  3.99it/s]\n"
     ]
    },
    {
     "name": "stdout",
     "output_type": "stream",
     "text": [
      "Epoch 47/50 - Train Loss: 0.0302 - Train Fbeta: 0.8878\n",
      "Valid Loss: 0.9266 - Valid Fbeta: 0.7951 - Valid MCC: 0.6520219324369835\n",
      "              precision    recall  f1-score   support\n",
      "\n",
      "           0       0.86      0.89      0.87       218\n",
      "           1       0.81      0.75      0.78       130\n",
      "\n",
      "    accuracy                           0.84       348\n",
      "   macro avg       0.83      0.82      0.83       348\n",
      "weighted avg       0.84      0.84      0.84       348\n",
      "\n"
     ]
    },
    {
     "name": "stderr",
     "output_type": "stream",
     "text": [
      "100%|██████████| 77/77 [00:19<00:00,  3.98it/s]\n"
     ]
    },
    {
     "name": "stdout",
     "output_type": "stream",
     "text": [
      "Epoch 48/50 - Train Loss: 0.0354 - Train Fbeta: 0.8900\n",
      "Valid Loss: 0.8271 - Valid Fbeta: 0.8246 - Valid MCC: 0.6759525677730313\n",
      "              precision    recall  f1-score   support\n",
      "\n",
      "           0       0.85      0.93      0.89       218\n",
      "           1       0.85      0.72      0.78       130\n",
      "\n",
      "    accuracy                           0.85       348\n",
      "   macro avg       0.85      0.82      0.83       348\n",
      "weighted avg       0.85      0.85      0.85       348\n",
      "\n"
     ]
    },
    {
     "name": "stderr",
     "output_type": "stream",
     "text": [
      "100%|██████████| 77/77 [00:19<00:00,  3.99it/s]\n"
     ]
    },
    {
     "name": "stdout",
     "output_type": "stream",
     "text": [
      "Epoch 49/50 - Train Loss: 0.0256 - Train Fbeta: 0.8922\n",
      "Valid Loss: 0.7878 - Valid Fbeta: 0.8305 - Valid MCC: 0.6950766181818684\n",
      "              precision    recall  f1-score   support\n",
      "\n",
      "           0       0.86      0.92      0.89       218\n",
      "           1       0.85      0.75      0.80       130\n",
      "\n",
      "    accuracy                           0.86       348\n",
      "   macro avg       0.86      0.84      0.85       348\n",
      "weighted avg       0.86      0.86      0.86       348\n",
      "\n"
     ]
    },
    {
     "name": "stderr",
     "output_type": "stream",
     "text": [
      "100%|██████████| 77/77 [00:19<00:00,  3.99it/s]\n"
     ]
    },
    {
     "name": "stdout",
     "output_type": "stream",
     "text": [
      "Epoch 50/50 - Train Loss: 0.0415 - Train Fbeta: 0.8942\n",
      "Valid Loss: 0.9316 - Valid Fbeta: 0.8273 - Valid MCC: 0.6700525638546848\n",
      "              precision    recall  f1-score   support\n",
      "\n",
      "           0       0.84      0.94      0.89       218\n",
      "           1       0.87      0.70      0.77       130\n",
      "\n",
      "    accuracy                           0.85       348\n",
      "   macro avg       0.85      0.82      0.83       348\n",
      "weighted avg       0.85      0.85      0.84       348\n",
      "\n",
      "Test model:\n",
      "Valid Loss: 0.4913 - Valid Fbeta: 0.8326 - Valid MCC: 0.668829888509247\n",
      "              precision    recall  f1-score   support\n",
      "\n",
      "           0       0.83      0.94      0.89       436\n",
      "           1       0.88      0.68      0.77       261\n",
      "\n",
      "    accuracy                           0.85       697\n",
      "   macro avg       0.86      0.81      0.83       697\n",
      "weighted avg       0.85      0.85      0.84       697\n",
      "\n",
      "Test Loss: 0.4913 - Test Fbeta: 0.8326\n"
     ]
    }
   ],
   "source": [
    "efficient_net_model = EfficientNetModel()\n",
    "criterion = nn.CrossEntropyLoss()\n",
    "optimizer = optim.Adam(efficient_net_model.parameters(), lr=LEARNING_RATE)\n",
    "model_path = \"model_results/efficient_net50_model_50.pt\"\n",
    "\n",
    "if os.path.isfile(model_path):\n",
    "    print(\"Evaluate model\")\n",
    "    efficient_net_model.load_state_dict(torch.load(model_path, map_location=torch.device(device)))\n",
    "    print(\"Validation data:\")\n",
    "    validate_model(efficient_net_model, validation_loader, criterion)\n",
    "    print(\"Test data:\")\n",
    "    validate_model(efficient_net_model, test_loader, criterion)\n",
    "else:\n",
    "    print(\"Train model\")\n",
    "    model, train_loss_values, train_f_beta_values, validation_loss_values, validation_f_beta_values = train(efficient_net_model, model_path, train_loader, validation_loader, test_loader, criterion, optimizer, 50, 4)\n",
    "    np.save(\"model_results/efficient_net50_model_50_train_loss\", train_loss_values)\n",
    "    np.save(\"model_results/efficient_net50_model_50_train_f_beta\", train_f_beta_values)\n",
    "    np.save(\"model_results/efficient_net50_model_50_valid_loss\", validation_loss_values)\n",
    "    np.save(\"model_results/efficient_net50_model_50_valid_f_beta\", validation_f_beta_values)"
   ]
  },
  {
   "cell_type": "markdown",
   "source": [
    "# ConvNeXt model training"
   ],
   "metadata": {
    "collapsed": false,
    "pycharm": {
     "name": "#%% md\n"
    }
   }
  },
  {
   "cell_type": "code",
   "execution_count": 9,
   "metadata": {
    "tags": [],
    "pycharm": {
     "name": "#%%\n"
    }
   },
   "outputs": [
    {
     "name": "stderr",
     "output_type": "stream",
     "text": [
      "/home/ma/ma_ma/ma_nikemper/.local/lib/python3.9/site-packages/torchvision/models/_utils.py:208: UserWarning: The parameter 'pretrained' is deprecated since 0.13 and may be removed in the future, please use 'weights' instead.\n",
      "  warnings.warn(\n",
      "/home/ma/ma_ma/ma_nikemper/.local/lib/python3.9/site-packages/torchvision/models/_utils.py:223: UserWarning: Arguments other than a weight enum or `None` for 'weights' are deprecated since 0.13 and may be removed in the future. The current behavior is equivalent to passing `weights=None`.\n",
      "  warnings.warn(msg)\n"
     ]
    },
    {
     "name": "stdout",
     "output_type": "stream",
     "text": [
      "Train model\n"
     ]
    },
    {
     "name": "stderr",
     "output_type": "stream",
     "text": [
      "100%|██████████| 77/77 [00:47<00:00,  1.62it/s]\n"
     ]
    },
    {
     "name": "stdout",
     "output_type": "stream",
     "text": [
      "Epoch 1/50 - Train Loss: 1.0076 - Train Fbeta: 0.3704\n"
     ]
    },
    {
     "name": "stderr",
     "output_type": "stream",
     "text": [
      "/opt/bwhpc/common/jupyter/tensorflow/2023-03-24/lib/python3.9/site-packages/sklearn/metrics/_classification.py:1344: UndefinedMetricWarning: Precision and F-score are ill-defined and being set to 0.0 in labels with no predicted samples. Use `zero_division` parameter to control this behavior.\n",
      "  _warn_prf(average, modifier, msg_start, len(result))\n",
      "/opt/bwhpc/common/jupyter/tensorflow/2023-03-24/lib/python3.9/site-packages/sklearn/metrics/_classification.py:1344: UndefinedMetricWarning: Precision and F-score are ill-defined and being set to 0.0 in labels with no predicted samples. Use `zero_division` parameter to control this behavior.\n",
      "  _warn_prf(average, modifier, msg_start, len(result))\n",
      "/opt/bwhpc/common/jupyter/tensorflow/2023-03-24/lib/python3.9/site-packages/sklearn/metrics/_classification.py:1344: UndefinedMetricWarning: Precision and F-score are ill-defined and being set to 0.0 in labels with no predicted samples. Use `zero_division` parameter to control this behavior.\n",
      "  _warn_prf(average, modifier, msg_start, len(result))\n"
     ]
    },
    {
     "name": "stdout",
     "output_type": "stream",
     "text": [
      "Valid Loss: 0.6546 - Valid Fbeta: 0.0000 - Valid MCC: 0.0\n",
      "              precision    recall  f1-score   support\n",
      "\n",
      "           0       0.63      1.00      0.77       218\n",
      "           1       0.00      0.00      0.00       130\n",
      "\n",
      "    accuracy                           0.63       348\n",
      "   macro avg       0.31      0.50      0.39       348\n",
      "weighted avg       0.39      0.63      0.48       348\n",
      "\n"
     ]
    },
    {
     "name": "stderr",
     "output_type": "stream",
     "text": [
      "100%|██████████| 77/77 [00:46<00:00,  1.65it/s]\n"
     ]
    },
    {
     "name": "stdout",
     "output_type": "stream",
     "text": [
      "Epoch 2/50 - Train Loss: 0.6852 - Train Fbeta: 0.3590\n",
      "Valid Loss: 0.6656 - Valid Fbeta: 0.1370 - Valid MCC: 0.13963919774052402\n",
      "              precision    recall  f1-score   support\n",
      "\n",
      "           0       0.63      1.00      0.78       218\n",
      "           1       1.00      0.03      0.06       130\n",
      "\n",
      "    accuracy                           0.64       348\n",
      "   macro avg       0.82      0.52      0.42       348\n",
      "weighted avg       0.77      0.64      0.51       348\n",
      "\n",
      "Updated best model: epoch 2\n"
     ]
    },
    {
     "name": "stderr",
     "output_type": "stream",
     "text": [
      "100%|██████████| 77/77 [00:46<00:00,  1.65it/s]\n"
     ]
    },
    {
     "name": "stdout",
     "output_type": "stream",
     "text": [
      "Epoch 3/50 - Train Loss: 0.6541 - Train Fbeta: 0.3310\n",
      "Valid Loss: 0.6547 - Valid Fbeta: 0.1056 - Valid MCC: 0.120755702968146\n",
      "              precision    recall  f1-score   support\n",
      "\n",
      "           0       0.63      1.00      0.77       218\n",
      "           1       1.00      0.02      0.05       130\n",
      "\n",
      "    accuracy                           0.64       348\n",
      "   macro avg       0.82      0.51      0.41       348\n",
      "weighted avg       0.77      0.64      0.50       348\n",
      "\n"
     ]
    },
    {
     "name": "stderr",
     "output_type": "stream",
     "text": [
      "100%|██████████| 77/77 [00:46<00:00,  1.64it/s]\n"
     ]
    },
    {
     "name": "stdout",
     "output_type": "stream",
     "text": [
      "Epoch 4/50 - Train Loss: 0.6506 - Train Fbeta: 0.3077\n",
      "Valid Loss: 0.6428 - Valid Fbeta: 0.1056 - Valid MCC: 0.120755702968146\n",
      "              precision    recall  f1-score   support\n",
      "\n",
      "           0       0.63      1.00      0.77       218\n",
      "           1       1.00      0.02      0.05       130\n",
      "\n",
      "    accuracy                           0.64       348\n",
      "   macro avg       0.82      0.51      0.41       348\n",
      "weighted avg       0.77      0.64      0.50       348\n",
      "\n"
     ]
    },
    {
     "name": "stderr",
     "output_type": "stream",
     "text": [
      "100%|██████████| 77/77 [00:46<00:00,  1.64it/s]\n"
     ]
    },
    {
     "name": "stdout",
     "output_type": "stream",
     "text": [
      "Epoch 5/50 - Train Loss: 0.6429 - Train Fbeta: 0.3117\n",
      "Valid Loss: 0.6364 - Valid Fbeta: 0.2469 - Valid MCC: 0.19863789561576772\n",
      "              precision    recall  f1-score   support\n",
      "\n",
      "           0       0.64      1.00      0.78       218\n",
      "           1       1.00      0.06      0.12       130\n",
      "\n",
      "    accuracy                           0.65       348\n",
      "   macro avg       0.82      0.53      0.45       348\n",
      "weighted avg       0.78      0.65      0.53       348\n",
      "\n",
      "Updated best model: epoch 5\n"
     ]
    },
    {
     "name": "stderr",
     "output_type": "stream",
     "text": [
      "100%|██████████| 77/77 [00:46<00:00,  1.64it/s]\n"
     ]
    },
    {
     "name": "stdout",
     "output_type": "stream",
     "text": [
      "Epoch 6/50 - Train Loss: 0.6352 - Train Fbeta: 0.3330\n",
      "Valid Loss: 0.6246 - Valid Fbeta: 0.4425 - Valid MCC: 0.2586742362322582\n",
      "              precision    recall  f1-score   support\n",
      "\n",
      "           0       0.66      0.98      0.79       218\n",
      "           1       0.83      0.15      0.26       130\n",
      "\n",
      "    accuracy                           0.67       348\n",
      "   macro avg       0.75      0.57      0.52       348\n",
      "weighted avg       0.73      0.67      0.59       348\n",
      "\n",
      "Updated best model: epoch 6\n"
     ]
    },
    {
     "name": "stderr",
     "output_type": "stream",
     "text": [
      "100%|██████████| 77/77 [00:46<00:00,  1.64it/s]\n"
     ]
    },
    {
     "name": "stdout",
     "output_type": "stream",
     "text": [
      "Epoch 7/50 - Train Loss: 0.6432 - Train Fbeta: 0.3548\n",
      "Valid Loss: 0.6509 - Valid Fbeta: 0.5405 - Valid MCC: 0.2618421272862209\n",
      "              precision    recall  f1-score   support\n",
      "\n",
      "           0       0.71      0.81      0.75       218\n",
      "           1       0.58      0.43      0.49       130\n",
      "\n",
      "    accuracy                           0.67       348\n",
      "   macro avg       0.64      0.62      0.62       348\n",
      "weighted avg       0.66      0.67      0.66       348\n",
      "\n",
      "Updated best model: epoch 7\n"
     ]
    },
    {
     "name": "stderr",
     "output_type": "stream",
     "text": [
      "100%|██████████| 77/77 [00:46<00:00,  1.64it/s]\n"
     ]
    },
    {
     "name": "stdout",
     "output_type": "stream",
     "text": [
      "Epoch 8/50 - Train Loss: 0.6416 - Train Fbeta: 0.3726\n",
      "Valid Loss: 0.6426 - Valid Fbeta: 0.5579 - Valid MCC: 0.2862469715583373\n",
      "              precision    recall  f1-score   support\n",
      "\n",
      "           0       0.70      0.85      0.77       218\n",
      "           1       0.62      0.40      0.49       130\n",
      "\n",
      "    accuracy                           0.68       348\n",
      "   macro avg       0.66      0.63      0.63       348\n",
      "weighted avg       0.67      0.68      0.67       348\n",
      "\n",
      "Updated best model: epoch 8\n"
     ]
    },
    {
     "name": "stderr",
     "output_type": "stream",
     "text": [
      "100%|██████████| 77/77 [00:46<00:00,  1.64it/s]\n"
     ]
    },
    {
     "name": "stdout",
     "output_type": "stream",
     "text": [
      "Epoch 9/50 - Train Loss: 0.6267 - Train Fbeta: 0.3894\n",
      "Valid Loss: 0.6177 - Valid Fbeta: 0.5055 - Valid MCC: 0.2368259639137287\n",
      "              precision    recall  f1-score   support\n",
      "\n",
      "           0       0.68      0.90      0.77       218\n",
      "           1       0.63      0.28      0.39       130\n",
      "\n",
      "    accuracy                           0.67       348\n",
      "   macro avg       0.65      0.59      0.58       348\n",
      "weighted avg       0.66      0.67      0.63       348\n",
      "\n"
     ]
    },
    {
     "name": "stderr",
     "output_type": "stream",
     "text": [
      "100%|██████████| 77/77 [00:46<00:00,  1.64it/s]\n"
     ]
    },
    {
     "name": "stdout",
     "output_type": "stream",
     "text": [
      "Epoch 10/50 - Train Loss: 0.6297 - Train Fbeta: 0.4037\n",
      "Valid Loss: 0.6143 - Valid Fbeta: 0.5263 - Valid MCC: 0.26784047455579096\n",
      "              precision    recall  f1-score   support\n",
      "\n",
      "           0       0.68      0.92      0.78       218\n",
      "           1       0.68      0.28      0.39       130\n",
      "\n",
      "    accuracy                           0.68       348\n",
      "   macro avg       0.68      0.60      0.59       348\n",
      "weighted avg       0.68      0.68      0.64       348\n",
      "\n"
     ]
    },
    {
     "name": "stderr",
     "output_type": "stream",
     "text": [
      "100%|██████████| 77/77 [00:46<00:00,  1.64it/s]\n"
     ]
    },
    {
     "name": "stdout",
     "output_type": "stream",
     "text": [
      "Epoch 11/50 - Train Loss: 0.6210 - Train Fbeta: 0.4127\n",
      "Valid Loss: 0.6259 - Valid Fbeta: 0.5319 - Valid MCC: 0.30101637491423394\n",
      "              precision    recall  f1-score   support\n",
      "\n",
      "           0       0.68      0.96      0.80       218\n",
      "           1       0.79      0.23      0.36       130\n",
      "\n",
      "    accuracy                           0.69       348\n",
      "   macro avg       0.73      0.60      0.58       348\n",
      "weighted avg       0.72      0.69      0.63       348\n",
      "\n"
     ]
    },
    {
     "name": "stderr",
     "output_type": "stream",
     "text": [
      "100%|██████████| 77/77 [00:46<00:00,  1.64it/s]\n"
     ]
    },
    {
     "name": "stdout",
     "output_type": "stream",
     "text": [
      "Epoch 12/50 - Train Loss: 0.6451 - Train Fbeta: 0.4228\n",
      "Valid Loss: 0.6558 - Valid Fbeta: 0.4124 - Valid MCC: 0.28428079423731123\n",
      "              precision    recall  f1-score   support\n",
      "\n",
      "           0       0.66      1.00      0.79       218\n",
      "           1       1.00      0.12      0.22       130\n",
      "\n",
      "    accuracy                           0.67       348\n",
      "   macro avg       0.83      0.56      0.51       348\n",
      "weighted avg       0.78      0.67      0.58       348\n",
      "\n"
     ]
    },
    {
     "name": "stderr",
     "output_type": "stream",
     "text": [
      "100%|██████████| 77/77 [00:46<00:00,  1.64it/s]\n"
     ]
    },
    {
     "name": "stdout",
     "output_type": "stream",
     "text": [
      "Epoch 13/50 - Train Loss: 0.6278 - Train Fbeta: 0.4283\n",
      "Valid Loss: 0.6112 - Valid Fbeta: 0.5581 - Valid MCC: 0.2886840624383061\n",
      "              precision    recall  f1-score   support\n",
      "\n",
      "           0       0.70      0.88      0.78       218\n",
      "           1       0.64      0.37      0.47       130\n",
      "\n",
      "    accuracy                           0.69       348\n",
      "   macro avg       0.67      0.62      0.62       348\n",
      "weighted avg       0.68      0.69      0.66       348\n",
      "\n",
      "Updated best model: epoch 13\n"
     ]
    },
    {
     "name": "stderr",
     "output_type": "stream",
     "text": [
      "100%|██████████| 77/77 [00:46<00:00,  1.64it/s]\n"
     ]
    },
    {
     "name": "stdout",
     "output_type": "stream",
     "text": [
      "Epoch 14/50 - Train Loss: 0.6073 - Train Fbeta: 0.4338\n",
      "Valid Loss: 0.5982 - Valid Fbeta: 0.5307 - Valid MCC: 0.26815826197536613\n",
      "              precision    recall  f1-score   support\n",
      "\n",
      "           0       0.68      0.91      0.78       218\n",
      "           1       0.67      0.29      0.41       130\n",
      "\n",
      "    accuracy                           0.68       348\n",
      "   macro avg       0.68      0.60      0.59       348\n",
      "weighted avg       0.68      0.68      0.64       348\n",
      "\n"
     ]
    },
    {
     "name": "stderr",
     "output_type": "stream",
     "text": [
      "100%|██████████| 77/77 [00:46<00:00,  1.64it/s]\n"
     ]
    },
    {
     "name": "stdout",
     "output_type": "stream",
     "text": [
      "Epoch 15/50 - Train Loss: 0.6005 - Train Fbeta: 0.4404\n",
      "Valid Loss: 0.5895 - Valid Fbeta: 0.5229 - Valid MCC: 0.27817340251396705\n",
      "              precision    recall  f1-score   support\n",
      "\n",
      "           0       0.68      0.94      0.79       218\n",
      "           1       0.73      0.25      0.37       130\n",
      "\n",
      "    accuracy                           0.68       348\n",
      "   macro avg       0.70      0.60      0.58       348\n",
      "weighted avg       0.70      0.68      0.63       348\n",
      "\n"
     ]
    },
    {
     "name": "stderr",
     "output_type": "stream",
     "text": [
      "100%|██████████| 77/77 [00:46<00:00,  1.64it/s]\n"
     ]
    },
    {
     "name": "stdout",
     "output_type": "stream",
     "text": [
      "Epoch 16/50 - Train Loss: 0.5868 - Train Fbeta: 0.4482\n",
      "Valid Loss: 0.5946 - Valid Fbeta: 0.5191 - Valid MCC: 0.25265681974199944\n",
      "              precision    recall  f1-score   support\n",
      "\n",
      "           0       0.68      0.90      0.78       218\n",
      "           1       0.64      0.29      0.40       130\n",
      "\n",
      "    accuracy                           0.68       348\n",
      "   macro avg       0.66      0.60      0.59       348\n",
      "weighted avg       0.67      0.68      0.64       348\n",
      "\n"
     ]
    },
    {
     "name": "stderr",
     "output_type": "stream",
     "text": [
      "100%|██████████| 77/77 [00:46<00:00,  1.64it/s]\n"
     ]
    },
    {
     "name": "stdout",
     "output_type": "stream",
     "text": [
      "Epoch 17/50 - Train Loss: 0.5788 - Train Fbeta: 0.4557\n",
      "Valid Loss: 0.6784 - Valid Fbeta: 0.4719 - Valid MCC: 0.1711389665256554\n",
      "              precision    recall  f1-score   support\n",
      "\n",
      "           0       0.75      0.36      0.49       218\n",
      "           1       0.43      0.80      0.56       130\n",
      "\n",
      "    accuracy                           0.53       348\n",
      "   macro avg       0.59      0.58      0.52       348\n",
      "weighted avg       0.63      0.53      0.51       348\n",
      "\n"
     ]
    },
    {
     "name": "stderr",
     "output_type": "stream",
     "text": [
      "100%|██████████| 77/77 [00:46<00:00,  1.64it/s]\n"
     ]
    },
    {
     "name": "stdout",
     "output_type": "stream",
     "text": [
      "Epoch 18/50 - Train Loss: 0.6153 - Train Fbeta: 0.4600\n",
      "Valid Loss: 0.6309 - Valid Fbeta: 0.5365 - Valid MCC: 0.2609577125034408\n",
      "              precision    recall  f1-score   support\n",
      "\n",
      "           0       0.69      0.86      0.77       218\n",
      "           1       0.61      0.36      0.45       130\n",
      "\n",
      "    accuracy                           0.68       348\n",
      "   macro avg       0.65      0.61      0.61       348\n",
      "weighted avg       0.66      0.68      0.65       348\n",
      "\n"
     ]
    },
    {
     "name": "stderr",
     "output_type": "stream",
     "text": [
      "100%|██████████| 77/77 [00:46<00:00,  1.64it/s]\n"
     ]
    },
    {
     "name": "stdout",
     "output_type": "stream",
     "text": [
      "Epoch 19/50 - Train Loss: 0.6075 - Train Fbeta: 0.4643\n",
      "Valid Loss: 0.5920 - Valid Fbeta: 0.5323 - Valid MCC: 0.2866086863362785\n",
      "              precision    recall  f1-score   support\n",
      "\n",
      "           0       0.68      0.94      0.79       218\n",
      "           1       0.73      0.25      0.38       130\n",
      "\n",
      "    accuracy                           0.69       348\n",
      "   macro avg       0.71      0.60      0.58       348\n",
      "weighted avg       0.70      0.69      0.64       348\n",
      "\n"
     ]
    },
    {
     "name": "stderr",
     "output_type": "stream",
     "text": [
      "100%|██████████| 77/77 [00:46<00:00,  1.64it/s]\n"
     ]
    },
    {
     "name": "stdout",
     "output_type": "stream",
     "text": [
      "Epoch 20/50 - Train Loss: 0.5617 - Train Fbeta: 0.4739\n",
      "Valid Loss: 0.5651 - Valid Fbeta: 0.6161 - Valid MCC: 0.36080590928938416\n",
      "              precision    recall  f1-score   support\n",
      "\n",
      "           0       0.72      0.90      0.80       218\n",
      "           1       0.71      0.40      0.51       130\n",
      "\n",
      "    accuracy                           0.72       348\n",
      "   macro avg       0.71      0.65      0.66       348\n",
      "weighted avg       0.71      0.72      0.69       348\n",
      "\n",
      "Updated best model: epoch 20\n"
     ]
    },
    {
     "name": "stderr",
     "output_type": "stream",
     "text": [
      "100%|██████████| 77/77 [00:46<00:00,  1.64it/s]\n"
     ]
    },
    {
     "name": "stdout",
     "output_type": "stream",
     "text": [
      "Epoch 21/50 - Train Loss: 0.5367 - Train Fbeta: 0.4874\n",
      "Valid Loss: 0.5525 - Valid Fbeta: 0.6132 - Valid MCC: 0.3628685327535862\n",
      "              precision    recall  f1-score   support\n",
      "\n",
      "           0       0.74      0.84      0.79       218\n",
      "           1       0.65      0.50      0.57       130\n",
      "\n",
      "    accuracy                           0.71       348\n",
      "   macro avg       0.69      0.67      0.68       348\n",
      "weighted avg       0.71      0.71      0.70       348\n",
      "\n"
     ]
    },
    {
     "name": "stderr",
     "output_type": "stream",
     "text": [
      "100%|██████████| 77/77 [00:46<00:00,  1.64it/s]\n"
     ]
    },
    {
     "name": "stdout",
     "output_type": "stream",
     "text": [
      "Epoch 22/50 - Train Loss: 0.5105 - Train Fbeta: 0.5007\n",
      "Valid Loss: 0.6203 - Valid Fbeta: 0.5617 - Valid MCC: 0.3267283216325984\n",
      "              precision    recall  f1-score   support\n",
      "\n",
      "           0       0.78      0.64      0.70       218\n",
      "           1       0.54      0.70      0.61       130\n",
      "\n",
      "    accuracy                           0.66       348\n",
      "   macro avg       0.66      0.67      0.65       348\n",
      "weighted avg       0.69      0.66      0.67       348\n",
      "\n"
     ]
    },
    {
     "name": "stderr",
     "output_type": "stream",
     "text": [
      "100%|██████████| 77/77 [00:46<00:00,  1.64it/s]\n"
     ]
    },
    {
     "name": "stdout",
     "output_type": "stream",
     "text": [
      "Epoch 23/50 - Train Loss: 0.4914 - Train Fbeta: 0.5155\n",
      "Valid Loss: 0.5306 - Valid Fbeta: 0.6702 - Valid MCC: 0.4320182253790459\n",
      "              precision    recall  f1-score   support\n",
      "\n",
      "           0       0.75      0.90      0.81       218\n",
      "           1       0.74      0.48      0.59       130\n",
      "\n",
      "    accuracy                           0.74       348\n",
      "   macro avg       0.74      0.69      0.70       348\n",
      "weighted avg       0.74      0.74      0.73       348\n",
      "\n",
      "Updated best model: epoch 23\n"
     ]
    },
    {
     "name": "stderr",
     "output_type": "stream",
     "text": [
      "100%|██████████| 77/77 [00:46<00:00,  1.64it/s]\n"
     ]
    },
    {
     "name": "stdout",
     "output_type": "stream",
     "text": [
      "Epoch 24/50 - Train Loss: 0.4600 - Train Fbeta: 0.5299\n",
      "Valid Loss: 0.5451 - Valid Fbeta: 0.6659 - Valid MCC: 0.425055007745711\n",
      "              precision    recall  f1-score   support\n",
      "\n",
      "           0       0.74      0.90      0.81       218\n",
      "           1       0.74      0.47      0.58       130\n",
      "\n",
      "    accuracy                           0.74       348\n",
      "   macro avg       0.74      0.69      0.69       348\n",
      "weighted avg       0.74      0.74      0.72       348\n",
      "\n"
     ]
    },
    {
     "name": "stderr",
     "output_type": "stream",
     "text": [
      "100%|██████████| 77/77 [00:46<00:00,  1.64it/s]\n"
     ]
    },
    {
     "name": "stdout",
     "output_type": "stream",
     "text": [
      "Epoch 25/50 - Train Loss: 0.4764 - Train Fbeta: 0.5418\n",
      "Valid Loss: 0.5389 - Valid Fbeta: 0.6938 - Valid MCC: 0.460233420137859\n",
      "              precision    recall  f1-score   support\n",
      "\n",
      "           0       0.75      0.92      0.82       218\n",
      "           1       0.78      0.48      0.60       130\n",
      "\n",
      "    accuracy                           0.76       348\n",
      "   macro avg       0.76      0.70      0.71       348\n",
      "weighted avg       0.76      0.76      0.74       348\n",
      "\n",
      "Updated best model: epoch 25\n"
     ]
    },
    {
     "name": "stderr",
     "output_type": "stream",
     "text": [
      "100%|██████████| 77/77 [00:46<00:00,  1.64it/s]\n"
     ]
    },
    {
     "name": "stdout",
     "output_type": "stream",
     "text": [
      "Epoch 26/50 - Train Loss: 0.4454 - Train Fbeta: 0.5538\n",
      "Valid Loss: 0.5016 - Valid Fbeta: 0.6857 - Valid MCC: 0.4527164029058088\n",
      "              precision    recall  f1-score   support\n",
      "\n",
      "           0       0.75      0.90      0.82       218\n",
      "           1       0.76      0.50      0.60       130\n",
      "\n",
      "    accuracy                           0.75       348\n",
      "   macro avg       0.75      0.70      0.71       348\n",
      "weighted avg       0.75      0.75      0.74       348\n",
      "\n"
     ]
    },
    {
     "name": "stderr",
     "output_type": "stream",
     "text": [
      "100%|██████████| 77/77 [00:46<00:00,  1.64it/s]\n"
     ]
    },
    {
     "name": "stdout",
     "output_type": "stream",
     "text": [
      "Epoch 27/50 - Train Loss: 0.4756 - Train Fbeta: 0.5624\n",
      "Valid Loss: 0.6242 - Valid Fbeta: 0.5733 - Valid MCC: 0.33581926470780404\n",
      "              precision    recall  f1-score   support\n",
      "\n",
      "           0       0.77      0.68      0.73       218\n",
      "           1       0.55      0.66      0.60       130\n",
      "\n",
      "    accuracy                           0.68       348\n",
      "   macro avg       0.66      0.67      0.66       348\n",
      "weighted avg       0.69      0.68      0.68       348\n",
      "\n"
     ]
    },
    {
     "name": "stderr",
     "output_type": "stream",
     "text": [
      "100%|██████████| 77/77 [00:46<00:00,  1.64it/s]\n"
     ]
    },
    {
     "name": "stdout",
     "output_type": "stream",
     "text": [
      "Epoch 28/50 - Train Loss: 0.4523 - Train Fbeta: 0.5715\n",
      "Valid Loss: 0.5104 - Valid Fbeta: 0.6887 - Valid MCC: 0.4678816299662664\n",
      "              precision    recall  f1-score   support\n",
      "\n",
      "           0       0.77      0.88      0.82       218\n",
      "           1       0.73      0.56      0.63       130\n",
      "\n",
      "    accuracy                           0.76       348\n",
      "   macro avg       0.75      0.72      0.73       348\n",
      "weighted avg       0.76      0.76      0.75       348\n",
      "\n"
     ]
    },
    {
     "name": "stderr",
     "output_type": "stream",
     "text": [
      "100%|██████████| 77/77 [00:46<00:00,  1.64it/s]\n"
     ]
    },
    {
     "name": "stdout",
     "output_type": "stream",
     "text": [
      "Epoch 29/50 - Train Loss: 0.4092 - Train Fbeta: 0.5818\n",
      "Valid Loss: 0.4892 - Valid Fbeta: 0.7143 - Valid MCC: 0.5080344104979134\n",
      "              precision    recall  f1-score   support\n",
      "\n",
      "           0       0.79      0.88      0.83       218\n",
      "           1       0.75      0.60      0.67       130\n",
      "\n",
      "    accuracy                           0.78       348\n",
      "   macro avg       0.77      0.74      0.75       348\n",
      "weighted avg       0.77      0.78      0.77       348\n",
      "\n",
      "Updated best model: epoch 29\n"
     ]
    },
    {
     "name": "stderr",
     "output_type": "stream",
     "text": [
      "100%|██████████| 77/77 [00:46<00:00,  1.64it/s]\n"
     ]
    },
    {
     "name": "stdout",
     "output_type": "stream",
     "text": [
      "Epoch 30/50 - Train Loss: 0.4164 - Train Fbeta: 0.5911\n",
      "Valid Loss: 0.5128 - Valid Fbeta: 0.7511 - Valid MCC: 0.5361147293400297\n",
      "              precision    recall  f1-score   support\n",
      "\n",
      "           0       0.77      0.94      0.85       218\n",
      "           1       0.83      0.54      0.65       130\n",
      "\n",
      "    accuracy                           0.79       348\n",
      "   macro avg       0.80      0.74      0.75       348\n",
      "weighted avg       0.80      0.79      0.77       348\n",
      "\n",
      "Updated best model: epoch 30\n"
     ]
    },
    {
     "name": "stderr",
     "output_type": "stream",
     "text": [
      "100%|██████████| 77/77 [00:46<00:00,  1.64it/s]\n"
     ]
    },
    {
     "name": "stdout",
     "output_type": "stream",
     "text": [
      "Epoch 31/50 - Train Loss: 0.4040 - Train Fbeta: 0.5996\n",
      "Valid Loss: 0.4875 - Valid Fbeta: 0.7393 - Valid MCC: 0.5334557694594309\n",
      "              precision    recall  f1-score   support\n",
      "\n",
      "           0       0.79      0.91      0.84       218\n",
      "           1       0.79      0.58      0.67       130\n",
      "\n",
      "    accuracy                           0.79       348\n",
      "   macro avg       0.79      0.75      0.76       348\n",
      "weighted avg       0.79      0.79      0.78       348\n",
      "\n"
     ]
    },
    {
     "name": "stderr",
     "output_type": "stream",
     "text": [
      "100%|██████████| 77/77 [00:46<00:00,  1.64it/s]\n"
     ]
    },
    {
     "name": "stdout",
     "output_type": "stream",
     "text": [
      "Epoch 32/50 - Train Loss: 0.3996 - Train Fbeta: 0.6078\n",
      "Valid Loss: 0.5219 - Valid Fbeta: 0.7028 - Valid MCC: 0.4963287551613662\n",
      "              precision    recall  f1-score   support\n",
      "\n",
      "           0       0.79      0.87      0.83       218\n",
      "           1       0.73      0.61      0.66       130\n",
      "\n",
      "    accuracy                           0.77       348\n",
      "   macro avg       0.76      0.74      0.74       348\n",
      "weighted avg       0.77      0.77      0.77       348\n",
      "\n"
     ]
    },
    {
     "name": "stderr",
     "output_type": "stream",
     "text": [
      "100%|██████████| 77/77 [00:46<00:00,  1.64it/s]\n"
     ]
    },
    {
     "name": "stdout",
     "output_type": "stream",
     "text": [
      "Epoch 33/50 - Train Loss: 0.4032 - Train Fbeta: 0.6150\n",
      "Valid Loss: 0.5269 - Valid Fbeta: 0.6308 - Valid MCC: 0.4087808355443149\n",
      "              precision    recall  f1-score   support\n",
      "\n",
      "           0       0.78      0.78      0.78       218\n",
      "           1       0.63      0.62      0.63       130\n",
      "\n",
      "    accuracy                           0.72       348\n",
      "   macro avg       0.71      0.70      0.70       348\n",
      "weighted avg       0.72      0.72      0.72       348\n",
      "\n"
     ]
    },
    {
     "name": "stderr",
     "output_type": "stream",
     "text": [
      "100%|██████████| 77/77 [00:46<00:00,  1.64it/s]\n"
     ]
    },
    {
     "name": "stdout",
     "output_type": "stream",
     "text": [
      "Epoch 34/50 - Train Loss: 0.3884 - Train Fbeta: 0.6218\n",
      "Valid Loss: 0.4722 - Valid Fbeta: 0.7375 - Valid MCC: 0.5334316540753024\n",
      "              precision    recall  f1-score   support\n",
      "\n",
      "           0       0.79      0.90      0.84       218\n",
      "           1       0.79      0.59      0.68       130\n",
      "\n",
      "    accuracy                           0.79       348\n",
      "   macro avg       0.79      0.75      0.76       348\n",
      "weighted avg       0.79      0.79      0.78       348\n",
      "\n"
     ]
    },
    {
     "name": "stderr",
     "output_type": "stream",
     "text": [
      "100%|██████████| 77/77 [00:46<00:00,  1.64it/s]\n"
     ]
    },
    {
     "name": "stdout",
     "output_type": "stream",
     "text": [
      "Epoch 35/50 - Train Loss: 0.3634 - Train Fbeta: 0.6292\n",
      "Valid Loss: 0.4729 - Valid Fbeta: 0.7143 - Valid MCC: 0.5471072670982198\n",
      "              precision    recall  f1-score   support\n",
      "\n",
      "           0       0.83      0.83      0.83       218\n",
      "           1       0.71      0.72      0.72       130\n",
      "\n",
      "    accuracy                           0.79       348\n",
      "   macro avg       0.77      0.77      0.77       348\n",
      "weighted avg       0.79      0.79      0.79       348\n",
      "\n"
     ]
    },
    {
     "name": "stderr",
     "output_type": "stream",
     "text": [
      "100%|██████████| 77/77 [00:46<00:00,  1.64it/s]\n"
     ]
    },
    {
     "name": "stdout",
     "output_type": "stream",
     "text": [
      "Epoch 36/50 - Train Loss: 0.3541 - Train Fbeta: 0.6364\n",
      "Valid Loss: 0.5073 - Valid Fbeta: 0.6873 - Valid MCC: 0.5050722476665949\n",
      "              precision    recall  f1-score   support\n",
      "\n",
      "           0       0.82      0.81      0.81       218\n",
      "           1       0.68      0.70      0.69       130\n",
      "\n",
      "    accuracy                           0.77       348\n",
      "   macro avg       0.75      0.75      0.75       348\n",
      "weighted avg       0.77      0.77      0.77       348\n",
      "\n"
     ]
    },
    {
     "name": "stderr",
     "output_type": "stream",
     "text": [
      "100%|██████████| 77/77 [00:46<00:00,  1.64it/s]\n"
     ]
    },
    {
     "name": "stdout",
     "output_type": "stream",
     "text": [
      "Epoch 37/50 - Train Loss: 0.3460 - Train Fbeta: 0.6434\n",
      "Valid Loss: 0.4706 - Valid Fbeta: 0.7445 - Valid MCC: 0.5868134747891307\n",
      "              precision    recall  f1-score   support\n",
      "\n",
      "           0       0.84      0.85      0.85       218\n",
      "           1       0.75      0.73      0.74       130\n",
      "\n",
      "    accuracy                           0.81       348\n",
      "   macro avg       0.79      0.79      0.79       348\n",
      "weighted avg       0.81      0.81      0.81       348\n",
      "\n"
     ]
    },
    {
     "name": "stderr",
     "output_type": "stream",
     "text": [
      "100%|██████████| 77/77 [00:46<00:00,  1.64it/s]\n"
     ]
    },
    {
     "name": "stdout",
     "output_type": "stream",
     "text": [
      "Epoch 38/50 - Train Loss: 0.3230 - Train Fbeta: 0.6503\n",
      "Valid Loss: 0.5818 - Valid Fbeta: 0.6620 - Valid MCC: 0.5059155771388807\n",
      "              precision    recall  f1-score   support\n",
      "\n",
      "           0       0.85      0.73      0.79       218\n",
      "           1       0.64      0.79      0.71       130\n",
      "\n",
      "    accuracy                           0.75       348\n",
      "   macro avg       0.75      0.76      0.75       348\n",
      "weighted avg       0.77      0.75      0.76       348\n",
      "\n"
     ]
    },
    {
     "name": "stderr",
     "output_type": "stream",
     "text": [
      "100%|██████████| 77/77 [00:46<00:00,  1.65it/s]\n"
     ]
    },
    {
     "name": "stdout",
     "output_type": "stream",
     "text": [
      "Epoch 39/50 - Train Loss: 0.3309 - Train Fbeta: 0.6565\n",
      "Valid Loss: 0.5165 - Valid Fbeta: 0.6889 - Valid MCC: 0.501917886705617\n",
      "              precision    recall  f1-score   support\n",
      "\n",
      "           0       0.81      0.82      0.81       218\n",
      "           1       0.69      0.68      0.69       130\n",
      "\n",
      "    accuracy                           0.77       348\n",
      "   macro avg       0.75      0.75      0.75       348\n",
      "weighted avg       0.77      0.77      0.77       348\n",
      "\n"
     ]
    },
    {
     "name": "stderr",
     "output_type": "stream",
     "text": [
      "100%|██████████| 77/77 [00:46<00:00,  1.64it/s]\n"
     ]
    },
    {
     "name": "stdout",
     "output_type": "stream",
     "text": [
      "Epoch 40/50 - Train Loss: 0.2932 - Train Fbeta: 0.6632\n",
      "Valid Loss: 0.4779 - Valid Fbeta: 0.7458 - Valid MCC: 0.5687914228559364\n",
      "              precision    recall  f1-score   support\n",
      "\n",
      "           0       0.82      0.88      0.85       218\n",
      "           1       0.77      0.68      0.72       130\n",
      "\n",
      "    accuracy                           0.80       348\n",
      "   macro avg       0.79      0.78      0.78       348\n",
      "weighted avg       0.80      0.80      0.80       348\n",
      "\n"
     ]
    },
    {
     "name": "stderr",
     "output_type": "stream",
     "text": [
      "100%|██████████| 77/77 [00:46<00:00,  1.64it/s]\n"
     ]
    },
    {
     "name": "stdout",
     "output_type": "stream",
     "text": [
      "Epoch 41/50 - Train Loss: 0.2890 - Train Fbeta: 0.6702\n",
      "Valid Loss: 0.5084 - Valid Fbeta: 0.7100 - Valid MCC: 0.5417460149891657\n",
      "              precision    recall  f1-score   support\n",
      "\n",
      "           0       0.83      0.82      0.83       218\n",
      "           1       0.71      0.72      0.71       130\n",
      "\n",
      "    accuracy                           0.78       348\n",
      "   macro avg       0.77      0.77      0.77       348\n",
      "weighted avg       0.79      0.78      0.78       348\n",
      "\n"
     ]
    },
    {
     "name": "stderr",
     "output_type": "stream",
     "text": [
      "100%|██████████| 77/77 [00:46<00:00,  1.64it/s]\n"
     ]
    },
    {
     "name": "stdout",
     "output_type": "stream",
     "text": [
      "Epoch 42/50 - Train Loss: 0.2773 - Train Fbeta: 0.6763\n",
      "Valid Loss: 0.5357 - Valid Fbeta: 0.7009 - Valid MCC: 0.5196486548138676\n",
      "              precision    recall  f1-score   support\n",
      "\n",
      "           0       0.82      0.83      0.82       218\n",
      "           1       0.70      0.69      0.70       130\n",
      "\n",
      "    accuracy                           0.78       348\n",
      "   macro avg       0.76      0.76      0.76       348\n",
      "weighted avg       0.78      0.78      0.78       348\n",
      "\n"
     ]
    },
    {
     "name": "stderr",
     "output_type": "stream",
     "text": [
      "100%|██████████| 77/77 [00:46<00:00,  1.64it/s]\n"
     ]
    },
    {
     "name": "stdout",
     "output_type": "stream",
     "text": [
      "Epoch 43/50 - Train Loss: 0.2510 - Train Fbeta: 0.6826\n",
      "Valid Loss: 0.5811 - Valid Fbeta: 0.7309 - Valid MCC: 0.5511022503349065\n",
      "              precision    recall  f1-score   support\n",
      "\n",
      "           0       0.82      0.86      0.84       218\n",
      "           1       0.75      0.68      0.71       130\n",
      "\n",
      "    accuracy                           0.79       348\n",
      "   macro avg       0.78      0.77      0.77       348\n",
      "weighted avg       0.79      0.79      0.79       348\n",
      "\n"
     ]
    },
    {
     "name": "stderr",
     "output_type": "stream",
     "text": [
      "100%|██████████| 77/77 [00:46<00:00,  1.64it/s]\n"
     ]
    },
    {
     "name": "stdout",
     "output_type": "stream",
     "text": [
      "Epoch 44/50 - Train Loss: 0.2452 - Train Fbeta: 0.6886\n",
      "Valid Loss: 0.6175 - Valid Fbeta: 0.7100 - Valid MCC: 0.5417460149891657\n",
      "              precision    recall  f1-score   support\n",
      "\n",
      "           0       0.83      0.82      0.83       218\n",
      "           1       0.71      0.72      0.71       130\n",
      "\n",
      "    accuracy                           0.78       348\n",
      "   macro avg       0.77      0.77      0.77       348\n",
      "weighted avg       0.79      0.78      0.78       348\n",
      "\n"
     ]
    },
    {
     "name": "stderr",
     "output_type": "stream",
     "text": [
      "100%|██████████| 77/77 [00:46<00:00,  1.64it/s]\n"
     ]
    },
    {
     "name": "stdout",
     "output_type": "stream",
     "text": [
      "Epoch 45/50 - Train Loss: 0.2119 - Train Fbeta: 0.6948\n",
      "Valid Loss: 0.5883 - Valid Fbeta: 0.7441 - Valid MCC: 0.5695245891069984\n",
      "              precision    recall  f1-score   support\n",
      "\n",
      "           0       0.82      0.87      0.85       218\n",
      "           1       0.76      0.68      0.72       130\n",
      "\n",
      "    accuracy                           0.80       348\n",
      "   macro avg       0.79      0.78      0.78       348\n",
      "weighted avg       0.80      0.80      0.80       348\n",
      "\n"
     ]
    },
    {
     "name": "stderr",
     "output_type": "stream",
     "text": [
      "100%|██████████| 77/77 [00:46<00:00,  1.64it/s]\n"
     ]
    },
    {
     "name": "stdout",
     "output_type": "stream",
     "text": [
      "Epoch 46/50 - Train Loss: 0.2259 - Train Fbeta: 0.7005\n",
      "Valid Loss: 0.5404 - Valid Fbeta: 0.7441 - Valid MCC: 0.5695245891069984\n",
      "              precision    recall  f1-score   support\n",
      "\n",
      "           0       0.82      0.87      0.85       218\n",
      "           1       0.76      0.68      0.72       130\n",
      "\n",
      "    accuracy                           0.80       348\n",
      "   macro avg       0.79      0.78      0.78       348\n",
      "weighted avg       0.80      0.80      0.80       348\n",
      "\n"
     ]
    },
    {
     "name": "stderr",
     "output_type": "stream",
     "text": [
      "100%|██████████| 77/77 [00:46<00:00,  1.64it/s]\n"
     ]
    },
    {
     "name": "stdout",
     "output_type": "stream",
     "text": [
      "Epoch 47/50 - Train Loss: 0.2036 - Train Fbeta: 0.7063\n",
      "Valid Loss: 0.7099 - Valid Fbeta: 0.7477 - Valid MCC: 0.602868960526784\n",
      "              precision    recall  f1-score   support\n",
      "\n",
      "           0       0.86      0.84      0.85       218\n",
      "           1       0.74      0.76      0.75       130\n",
      "\n",
      "    accuracy                           0.81       348\n",
      "   macro avg       0.80      0.80      0.80       348\n",
      "weighted avg       0.81      0.81      0.81       348\n",
      "\n"
     ]
    },
    {
     "name": "stderr",
     "output_type": "stream",
     "text": [
      "100%|██████████| 77/77 [00:46<00:00,  1.64it/s]\n"
     ]
    },
    {
     "name": "stdout",
     "output_type": "stream",
     "text": [
      "Epoch 48/50 - Train Loss: 0.2087 - Train Fbeta: 0.7117\n",
      "Valid Loss: 0.6410 - Valid Fbeta: 0.7852 - Valid MCC: 0.6118121668440281\n",
      "              precision    recall  f1-score   support\n",
      "\n",
      "           0       0.82      0.91      0.87       218\n",
      "           1       0.82      0.67      0.74       130\n",
      "\n",
      "    accuracy                           0.82       348\n",
      "   macro avg       0.82      0.79      0.80       348\n",
      "weighted avg       0.82      0.82      0.82       348\n",
      "\n",
      "Updated best model: epoch 48\n"
     ]
    },
    {
     "name": "stderr",
     "output_type": "stream",
     "text": [
      "100%|██████████| 77/77 [00:46<00:00,  1.64it/s]\n"
     ]
    },
    {
     "name": "stdout",
     "output_type": "stream",
     "text": [
      "Epoch 49/50 - Train Loss: 0.1669 - Train Fbeta: 0.7175\n",
      "Valid Loss: 0.6163 - Valid Fbeta: 0.7852 - Valid MCC: 0.6118121668440281\n",
      "              precision    recall  f1-score   support\n",
      "\n",
      "           0       0.82      0.91      0.87       218\n",
      "           1       0.82      0.67      0.74       130\n",
      "\n",
      "    accuracy                           0.82       348\n",
      "   macro avg       0.82      0.79      0.80       348\n",
      "weighted avg       0.82      0.82      0.82       348\n",
      "\n"
     ]
    },
    {
     "name": "stderr",
     "output_type": "stream",
     "text": [
      "100%|██████████| 77/77 [00:46<00:00,  1.65it/s]\n"
     ]
    },
    {
     "name": "stdout",
     "output_type": "stream",
     "text": [
      "Epoch 50/50 - Train Loss: 0.1725 - Train Fbeta: 0.7230\n",
      "Valid Loss: 0.6389 - Valid Fbeta: 0.7765 - Valid MCC: 0.6127567111500221\n",
      "              precision    recall  f1-score   support\n",
      "\n",
      "           0       0.83      0.89      0.86       218\n",
      "           1       0.80      0.70      0.75       130\n",
      "\n",
      "    accuracy                           0.82       348\n",
      "   macro avg       0.82      0.80      0.80       348\n",
      "weighted avg       0.82      0.82      0.82       348\n",
      "\n",
      "Test model:\n",
      "Valid Loss: 0.6288 - Valid Fbeta: 0.7484 - Valid MCC: 0.5617267269212847\n",
      "              precision    recall  f1-score   support\n",
      "\n",
      "           0       0.81      0.89      0.85       436\n",
      "           1       0.78      0.65      0.71       261\n",
      "\n",
      "    accuracy                           0.80       697\n",
      "   macro avg       0.79      0.77      0.78       697\n",
      "weighted avg       0.80      0.80      0.79       697\n",
      "\n",
      "Test Loss: 0.6288 - Test Fbeta: 0.7484\n"
     ]
    }
   ],
   "source": [
    "convnext_model = ConvNeXtBaseModel()\n",
    "criterion = nn.CrossEntropyLoss()\n",
    "optimizer = optim.AdamW(convnext_model.parameters(), lr=LEARNING_RATE)\n",
    "model_path = \"model_results/convnext_model_50.pt\"\n",
    "\n",
    "if os.path.isfile(model_path):\n",
    "    print(\"Evaluate model\")\n",
    "    convnext_model.load_state_dict(torch.load(model_path, map_location=torch.device(device)))\n",
    "    print(\"Validation data:\")\n",
    "    validate_model(convnext_model, validation_loader, criterion)\n",
    "    print(\"Test data:\")\n",
    "    validate_model(convnext_model, test_loader, criterion)\n",
    "else:\n",
    "    print(\"Train model\")\n",
    "    model, train_loss_values, train_f_beta_values, validation_loss_values, validation_f_beta_values = train(convnext_model, model_path, train_loader, validation_loader, test_loader, criterion, optimizer, 50, 4)\n",
    "    np.save(\"model_results/convnext_model_50_train_loss\", train_loss_values)\n",
    "    np.save(\"model_results/convnext_model_50_train_f_beta\", train_f_beta_values)\n",
    "    np.save(\"model_results/convnext_model_50_valid_loss\", validation_loss_values)\n",
    "    np.save(\"model_results/convnext_model_50_valid_f_beta\", validation_f_beta_values)"
   ]
  },
  {
   "cell_type": "markdown",
   "source": [
    "# Train with augmented data"
   ],
   "metadata": {
    "collapsed": false,
    "pycharm": {
     "name": "#%% md\n"
    }
   }
  },
  {
   "cell_type": "code",
   "execution_count": 14,
   "outputs": [
    {
     "name": "stderr",
     "output_type": "stream",
     "text": [
      "/home/ma/ma_ma/ma_nikemper/.local/lib/python3.9/site-packages/torchvision/models/_utils.py:208: UserWarning: The parameter 'pretrained' is deprecated since 0.13 and may be removed in the future, please use 'weights' instead.\n",
      "  warnings.warn(\n",
      "/home/ma/ma_ma/ma_nikemper/.local/lib/python3.9/site-packages/torchvision/models/_utils.py:223: UserWarning: Arguments other than a weight enum or `None` for 'weights' are deprecated since 0.13 and may be removed in the future. The current behavior is equivalent to passing `weights=None`.\n",
      "  warnings.warn(msg)\n"
     ]
    },
    {
     "name": "stdout",
     "output_type": "stream",
     "text": [
      "Train model\n"
     ]
    },
    {
     "name": "stderr",
     "output_type": "stream",
     "text": [
      "100%|██████████| 229/229 [00:59<00:00,  3.86it/s]\n"
     ]
    },
    {
     "name": "stdout",
     "output_type": "stream",
     "text": [
      "Epoch 1/50 - Train Loss: 0.6820 - Train Fbeta: 0.2309\n"
     ]
    },
    {
     "name": "stderr",
     "output_type": "stream",
     "text": [
      "/opt/bwhpc/common/jupyter/tensorflow/2023-03-24/lib/python3.9/site-packages/sklearn/metrics/_classification.py:1344: UndefinedMetricWarning: Precision and F-score are ill-defined and being set to 0.0 in labels with no predicted samples. Use `zero_division` parameter to control this behavior.\n",
      "  _warn_prf(average, modifier, msg_start, len(result))\n",
      "/opt/bwhpc/common/jupyter/tensorflow/2023-03-24/lib/python3.9/site-packages/sklearn/metrics/_classification.py:1344: UndefinedMetricWarning: Precision and F-score are ill-defined and being set to 0.0 in labels with no predicted samples. Use `zero_division` parameter to control this behavior.\n",
      "  _warn_prf(average, modifier, msg_start, len(result))\n",
      "/opt/bwhpc/common/jupyter/tensorflow/2023-03-24/lib/python3.9/site-packages/sklearn/metrics/_classification.py:1344: UndefinedMetricWarning: Precision and F-score are ill-defined and being set to 0.0 in labels with no predicted samples. Use `zero_division` parameter to control this behavior.\n",
      "  _warn_prf(average, modifier, msg_start, len(result))\n"
     ]
    },
    {
     "name": "stdout",
     "output_type": "stream",
     "text": [
      "Valid Loss: 0.6623 - Valid Fbeta: 0.0000 - Valid MCC: 0.0\n",
      "              precision    recall  f1-score   support\n",
      "\n",
      "           0       0.63      1.00      0.77       218\n",
      "           1       0.00      0.00      0.00       130\n",
      "\n",
      "    accuracy                           0.63       348\n",
      "   macro avg       0.31      0.50      0.39       348\n",
      "weighted avg       0.39      0.63      0.48       348\n",
      "\n"
     ]
    },
    {
     "name": "stderr",
     "output_type": "stream",
     "text": [
      "100%|██████████| 229/229 [00:57<00:00,  3.98it/s]\n"
     ]
    },
    {
     "name": "stdout",
     "output_type": "stream",
     "text": [
      "Epoch 2/50 - Train Loss: 0.6698 - Train Fbeta: 0.1836\n",
      "Valid Loss: 0.6381 - Valid Fbeta: 0.3846 - Valid MCC: 0.1872322788590306\n",
      "              precision    recall  f1-score   support\n",
      "\n",
      "           0       0.65      0.96      0.78       218\n",
      "           1       0.69      0.14      0.23       130\n",
      "\n",
      "    accuracy                           0.66       348\n",
      "   macro avg       0.67      0.55      0.50       348\n",
      "weighted avg       0.67      0.66      0.57       348\n",
      "\n",
      "Updated best model: epoch 2\n"
     ]
    },
    {
     "name": "stderr",
     "output_type": "stream",
     "text": [
      "100%|██████████| 229/229 [00:57<00:00,  3.97it/s]\n"
     ]
    },
    {
     "name": "stdout",
     "output_type": "stream",
     "text": [
      "Epoch 3/50 - Train Loss: 0.6270 - Train Fbeta: 0.3593\n",
      "Valid Loss: 0.5385 - Valid Fbeta: 0.7016 - Valid MCC: 0.4800784172890473\n",
      "              precision    recall  f1-score   support\n",
      "\n",
      "           0       0.77      0.89      0.83       218\n",
      "           1       0.76      0.55      0.63       130\n",
      "\n",
      "    accuracy                           0.76       348\n",
      "   macro avg       0.76      0.72      0.73       348\n",
      "weighted avg       0.76      0.76      0.75       348\n",
      "\n",
      "Updated best model: epoch 3\n"
     ]
    },
    {
     "name": "stderr",
     "output_type": "stream",
     "text": [
      "100%|██████████| 229/229 [00:57<00:00,  3.96it/s]\n"
     ]
    },
    {
     "name": "stdout",
     "output_type": "stream",
     "text": [
      "Epoch 4/50 - Train Loss: 0.5709 - Train Fbeta: 0.4578\n",
      "Valid Loss: 0.4988 - Valid Fbeta: 0.7329 - Valid MCC: 0.520372915863456\n",
      "              precision    recall  f1-score   support\n",
      "\n",
      "           0       0.78      0.91      0.84       218\n",
      "           1       0.79      0.56      0.66       130\n",
      "\n",
      "    accuracy                           0.78       348\n",
      "   macro avg       0.79      0.74      0.75       348\n",
      "weighted avg       0.78      0.78      0.77       348\n",
      "\n",
      "Updated best model: epoch 4\n"
     ]
    },
    {
     "name": "stderr",
     "output_type": "stream",
     "text": [
      "100%|██████████| 229/229 [00:57<00:00,  3.96it/s]\n"
     ]
    },
    {
     "name": "stdout",
     "output_type": "stream",
     "text": [
      "Epoch 5/50 - Train Loss: 0.5218 - Train Fbeta: 0.5186\n",
      "Valid Loss: 0.4649 - Valid Fbeta: 0.7701 - Valid MCC: 0.5504742724807825\n",
      "              precision    recall  f1-score   support\n",
      "\n",
      "           0       0.76      0.96      0.85       218\n",
      "           1       0.89      0.50      0.64       130\n",
      "\n",
      "    accuracy                           0.79       348\n",
      "   macro avg       0.83      0.73      0.75       348\n",
      "weighted avg       0.81      0.79      0.77       348\n",
      "\n",
      "Updated best model: epoch 5\n"
     ]
    },
    {
     "name": "stderr",
     "output_type": "stream",
     "text": [
      "100%|██████████| 229/229 [00:58<00:00,  3.94it/s]\n"
     ]
    },
    {
     "name": "stdout",
     "output_type": "stream",
     "text": [
      "Epoch 6/50 - Train Loss: 0.4866 - Train Fbeta: 0.5620\n",
      "Valid Loss: 0.4572 - Valid Fbeta: 0.7725 - Valid MCC: 0.5638778135379955\n",
      "              precision    recall  f1-score   support\n",
      "\n",
      "           0       0.78      0.94      0.85       218\n",
      "           1       0.86      0.55      0.67       130\n",
      "\n",
      "    accuracy                           0.80       348\n",
      "   macro avg       0.82      0.75      0.76       348\n",
      "weighted avg       0.81      0.80      0.79       348\n",
      "\n",
      "Updated best model: epoch 6\n"
     ]
    },
    {
     "name": "stderr",
     "output_type": "stream",
     "text": [
      "100%|██████████| 229/229 [00:57<00:00,  3.96it/s]\n"
     ]
    },
    {
     "name": "stdout",
     "output_type": "stream",
     "text": [
      "Epoch 7/50 - Train Loss: 0.4277 - Train Fbeta: 0.5993\n",
      "Valid Loss: 0.4596 - Valid Fbeta: 0.8225 - Valid MCC: 0.6271542686894077\n",
      "              precision    recall  f1-score   support\n",
      "\n",
      "           0       0.80      0.97      0.87       218\n",
      "           1       0.92      0.58      0.71       130\n",
      "\n",
      "    accuracy                           0.82       348\n",
      "   macro avg       0.86      0.78      0.79       348\n",
      "weighted avg       0.84      0.82      0.81       348\n",
      "\n",
      "Updated best model: epoch 7\n"
     ]
    },
    {
     "name": "stderr",
     "output_type": "stream",
     "text": [
      "100%|██████████| 229/229 [00:57<00:00,  3.96it/s]\n"
     ]
    },
    {
     "name": "stdout",
     "output_type": "stream",
     "text": [
      "Epoch 8/50 - Train Loss: 0.3619 - Train Fbeta: 0.6336\n",
      "Valid Loss: 0.4414 - Valid Fbeta: 0.7508 - Valid MCC: 0.6003082117716948\n",
      "              precision    recall  f1-score   support\n",
      "\n",
      "           0       0.85      0.85      0.85       218\n",
      "           1       0.75      0.75      0.75       130\n",
      "\n",
      "    accuracy                           0.81       348\n",
      "   macro avg       0.80      0.80      0.80       348\n",
      "weighted avg       0.81      0.81      0.81       348\n",
      "\n"
     ]
    },
    {
     "name": "stderr",
     "output_type": "stream",
     "text": [
      "100%|██████████| 229/229 [00:57<00:00,  3.96it/s]\n"
     ]
    },
    {
     "name": "stdout",
     "output_type": "stream",
     "text": [
      "Epoch 9/50 - Train Loss: 0.2988 - Train Fbeta: 0.6638\n",
      "Valid Loss: 0.4330 - Valid Fbeta: 0.8010 - Valid MCC: 0.665107818109086\n",
      "              precision    recall  f1-score   support\n",
      "\n",
      "           0       0.86      0.89      0.88       218\n",
      "           1       0.81      0.76      0.79       130\n",
      "\n",
      "    accuracy                           0.84       348\n",
      "   macro avg       0.84      0.83      0.83       348\n",
      "weighted avg       0.84      0.84      0.84       348\n",
      "\n"
     ]
    },
    {
     "name": "stderr",
     "output_type": "stream",
     "text": [
      "100%|██████████| 229/229 [00:57<00:00,  3.95it/s]\n"
     ]
    },
    {
     "name": "stdout",
     "output_type": "stream",
     "text": [
      "Epoch 10/50 - Train Loss: 0.2410 - Train Fbeta: 0.6902\n",
      "Valid Loss: 0.5110 - Valid Fbeta: 0.7645 - Valid MCC: 0.6260686972766799\n",
      "              precision    recall  f1-score   support\n",
      "\n",
      "           0       0.86      0.86      0.86       218\n",
      "           1       0.76      0.77      0.77       130\n",
      "\n",
      "    accuracy                           0.82       348\n",
      "   macro avg       0.81      0.81      0.81       348\n",
      "weighted avg       0.82      0.82      0.82       348\n",
      "\n"
     ]
    },
    {
     "name": "stderr",
     "output_type": "stream",
     "text": [
      "100%|██████████| 229/229 [00:57<00:00,  3.96it/s]\n"
     ]
    },
    {
     "name": "stdout",
     "output_type": "stream",
     "text": [
      "Epoch 11/50 - Train Loss: 0.2046 - Train Fbeta: 0.7132\n",
      "Valid Loss: 0.6692 - Valid Fbeta: 0.7353 - Valid MCC: 0.6073967670507283\n",
      "              precision    recall  f1-score   support\n",
      "\n",
      "           0       0.88      0.81      0.84       218\n",
      "           1       0.72      0.81      0.76       130\n",
      "\n",
      "    accuracy                           0.81       348\n",
      "   macro avg       0.80      0.81      0.80       348\n",
      "weighted avg       0.82      0.81      0.81       348\n",
      "\n"
     ]
    },
    {
     "name": "stderr",
     "output_type": "stream",
     "text": [
      "100%|██████████| 229/229 [00:58<00:00,  3.95it/s]\n"
     ]
    },
    {
     "name": "stdout",
     "output_type": "stream",
     "text": [
      "Epoch 12/50 - Train Loss: 0.1626 - Train Fbeta: 0.7345\n",
      "Valid Loss: 0.5578 - Valid Fbeta: 0.7507 - Valid MCC: 0.6194477926240392\n",
      "              precision    recall  f1-score   support\n",
      "\n",
      "           0       0.87      0.83      0.85       218\n",
      "           1       0.74      0.79      0.77       130\n",
      "\n",
      "    accuracy                           0.82       348\n",
      "   macro avg       0.81      0.81      0.81       348\n",
      "weighted avg       0.82      0.82      0.82       348\n",
      "\n"
     ]
    },
    {
     "name": "stderr",
     "output_type": "stream",
     "text": [
      "100%|██████████| 229/229 [00:58<00:00,  3.95it/s]\n"
     ]
    },
    {
     "name": "stdout",
     "output_type": "stream",
     "text": [
      "Epoch 13/50 - Train Loss: 0.1270 - Train Fbeta: 0.7534\n",
      "Valid Loss: 0.5881 - Valid Fbeta: 0.8062 - Valid MCC: 0.6710373661992483\n",
      "              precision    recall  f1-score   support\n",
      "\n",
      "           0       0.86      0.90      0.88       218\n",
      "           1       0.82      0.76      0.79       130\n",
      "\n",
      "    accuracy                           0.85       348\n",
      "   macro avg       0.84      0.83      0.83       348\n",
      "weighted avg       0.85      0.85      0.85       348\n",
      "\n"
     ]
    },
    {
     "name": "stderr",
     "output_type": "stream",
     "text": [
      "100%|██████████| 229/229 [00:58<00:00,  3.95it/s]\n"
     ]
    },
    {
     "name": "stdout",
     "output_type": "stream",
     "text": [
      "Epoch 14/50 - Train Loss: 0.1163 - Train Fbeta: 0.7697\n",
      "Valid Loss: 0.5896 - Valid Fbeta: 0.8115 - Valid MCC: 0.6770168247577667\n",
      "              precision    recall  f1-score   support\n",
      "\n",
      "           0       0.86      0.90      0.88       218\n",
      "           1       0.82      0.76      0.79       130\n",
      "\n",
      "    accuracy                           0.85       348\n",
      "   macro avg       0.84      0.83      0.84       348\n",
      "weighted avg       0.85      0.85      0.85       348\n",
      "\n"
     ]
    },
    {
     "name": "stderr",
     "output_type": "stream",
     "text": [
      "100%|██████████| 229/229 [00:57<00:00,  3.96it/s]\n"
     ]
    },
    {
     "name": "stdout",
     "output_type": "stream",
     "text": [
      "Epoch 15/50 - Train Loss: 0.0986 - Train Fbeta: 0.7842\n",
      "Valid Loss: 0.5699 - Valid Fbeta: 0.8095 - Valid MCC: 0.6847517021206263\n",
      "              precision    recall  f1-score   support\n",
      "\n",
      "           0       0.87      0.89      0.88       218\n",
      "           1       0.82      0.78      0.80       130\n",
      "\n",
      "    accuracy                           0.85       348\n",
      "   macro avg       0.85      0.84      0.84       348\n",
      "weighted avg       0.85      0.85      0.85       348\n",
      "\n"
     ]
    },
    {
     "name": "stderr",
     "output_type": "stream",
     "text": [
      "100%|██████████| 229/229 [00:57<00:00,  3.96it/s]\n"
     ]
    },
    {
     "name": "stdout",
     "output_type": "stream",
     "text": [
      "Epoch 16/50 - Train Loss: 0.0940 - Train Fbeta: 0.7965\n",
      "Valid Loss: 0.7106 - Valid Fbeta: 0.8039 - Valid MCC: 0.6716531529725727\n",
      "              precision    recall  f1-score   support\n",
      "\n",
      "           0       0.87      0.89      0.88       218\n",
      "           1       0.81      0.77      0.79       130\n",
      "\n",
      "    accuracy                           0.85       348\n",
      "   macro avg       0.84      0.83      0.84       348\n",
      "weighted avg       0.85      0.85      0.85       348\n",
      "\n"
     ]
    },
    {
     "name": "stderr",
     "output_type": "stream",
     "text": [
      "100%|██████████| 229/229 [00:57<00:00,  3.96it/s]\n"
     ]
    },
    {
     "name": "stdout",
     "output_type": "stream",
     "text": [
      "Epoch 17/50 - Train Loss: 0.0720 - Train Fbeta: 0.8080\n",
      "Valid Loss: 0.7040 - Valid Fbeta: 0.7886 - Valid MCC: 0.6542262160548212\n",
      "              precision    recall  f1-score   support\n",
      "\n",
      "           0       0.86      0.88      0.87       218\n",
      "           1       0.79      0.77      0.78       130\n",
      "\n",
      "    accuracy                           0.84       348\n",
      "   macro avg       0.83      0.82      0.83       348\n",
      "weighted avg       0.84      0.84      0.84       348\n",
      "\n"
     ]
    },
    {
     "name": "stderr",
     "output_type": "stream",
     "text": [
      "100%|██████████| 229/229 [00:58<00:00,  3.94it/s]\n"
     ]
    },
    {
     "name": "stdout",
     "output_type": "stream",
     "text": [
      "Epoch 18/50 - Train Loss: 0.0679 - Train Fbeta: 0.8181\n",
      "Valid Loss: 0.7169 - Valid Fbeta: 0.8254 - Valid MCC: 0.7095146234900515\n",
      "              precision    recall  f1-score   support\n",
      "\n",
      "           0       0.88      0.90      0.89       218\n",
      "           1       0.83      0.80      0.82       130\n",
      "\n",
      "    accuracy                           0.86       348\n",
      "   macro avg       0.86      0.85      0.85       348\n",
      "weighted avg       0.86      0.86      0.86       348\n",
      "\n",
      "Updated best model: epoch 18\n"
     ]
    },
    {
     "name": "stderr",
     "output_type": "stream",
     "text": [
      "100%|██████████| 229/229 [00:58<00:00,  3.93it/s]\n"
     ]
    },
    {
     "name": "stdout",
     "output_type": "stream",
     "text": [
      "Epoch 19/50 - Train Loss: 0.0623 - Train Fbeta: 0.8273\n",
      "Valid Loss: 0.8775 - Valid Fbeta: 0.8119 - Valid MCC: 0.6840792719111403\n",
      "              precision    recall  f1-score   support\n",
      "\n",
      "           0       0.87      0.90      0.88       218\n",
      "           1       0.82      0.78      0.80       130\n",
      "\n",
      "    accuracy                           0.85       348\n",
      "   macro avg       0.85      0.84      0.84       348\n",
      "weighted avg       0.85      0.85      0.85       348\n",
      "\n"
     ]
    },
    {
     "name": "stderr",
     "output_type": "stream",
     "text": [
      "100%|██████████| 229/229 [00:57<00:00,  3.95it/s]\n"
     ]
    },
    {
     "name": "stdout",
     "output_type": "stream",
     "text": [
      "Epoch 20/50 - Train Loss: 0.0469 - Train Fbeta: 0.8359\n",
      "Valid Loss: 0.8168 - Valid Fbeta: 0.8251 - Valid MCC: 0.695569786400107\n",
      "              precision    recall  f1-score   support\n",
      "\n",
      "           0       0.87      0.91      0.89       218\n",
      "           1       0.84      0.77      0.80       130\n",
      "\n",
      "    accuracy                           0.86       348\n",
      "   macro avg       0.85      0.84      0.85       348\n",
      "weighted avg       0.86      0.86      0.86       348\n",
      "\n"
     ]
    },
    {
     "name": "stderr",
     "output_type": "stream",
     "text": [
      "100%|██████████| 229/229 [00:57<00:00,  3.95it/s]\n"
     ]
    },
    {
     "name": "stdout",
     "output_type": "stream",
     "text": [
      "Epoch 21/50 - Train Loss: 0.0431 - Train Fbeta: 0.8435\n",
      "Valid Loss: 0.7459 - Valid Fbeta: 0.8306 - Valid MCC: 0.7016782119548076\n",
      "              precision    recall  f1-score   support\n",
      "\n",
      "           0       0.87      0.92      0.89       218\n",
      "           1       0.85      0.77      0.81       130\n",
      "\n",
      "    accuracy                           0.86       348\n",
      "   macro avg       0.86      0.84      0.85       348\n",
      "weighted avg       0.86      0.86      0.86       348\n",
      "\n",
      "Updated best model: epoch 21\n"
     ]
    },
    {
     "name": "stderr",
     "output_type": "stream",
     "text": [
      "100%|██████████| 229/229 [00:57<00:00,  3.95it/s]\n"
     ]
    },
    {
     "name": "stdout",
     "output_type": "stream",
     "text": [
      "Epoch 22/50 - Train Loss: 0.0556 - Train Fbeta: 0.8502\n",
      "Valid Loss: 0.8123 - Valid Fbeta: 0.8022 - Valid MCC: 0.6797910604254436\n",
      "              precision    recall  f1-score   support\n",
      "\n",
      "           0       0.88      0.89      0.88       218\n",
      "           1       0.80      0.79      0.80       130\n",
      "\n",
      "    accuracy                           0.85       348\n",
      "   macro avg       0.84      0.84      0.84       348\n",
      "weighted avg       0.85      0.85      0.85       348\n",
      "\n"
     ]
    },
    {
     "name": "stderr",
     "output_type": "stream",
     "text": [
      "100%|██████████| 229/229 [00:57<00:00,  3.95it/s]\n"
     ]
    },
    {
     "name": "stdout",
     "output_type": "stream",
     "text": [
      "Epoch 23/50 - Train Loss: 0.0432 - Train Fbeta: 0.8565\n",
      "Valid Loss: 0.8733 - Valid Fbeta: 0.7754 - Valid MCC: 0.662643722162363\n",
      "              precision    recall  f1-score   support\n",
      "\n",
      "           0       0.89      0.85      0.87       218\n",
      "           1       0.76      0.82      0.79       130\n",
      "\n",
      "    accuracy                           0.84       348\n",
      "   macro avg       0.83      0.84      0.83       348\n",
      "weighted avg       0.84      0.84      0.84       348\n",
      "\n"
     ]
    },
    {
     "name": "stderr",
     "output_type": "stream",
     "text": [
      "100%|██████████| 229/229 [00:57<00:00,  3.95it/s]\n"
     ]
    },
    {
     "name": "stdout",
     "output_type": "stream",
     "text": [
      "Epoch 24/50 - Train Loss: 0.0438 - Train Fbeta: 0.8621\n",
      "Valid Loss: 0.9487 - Valid Fbeta: 0.7895 - Valid MCC: 0.6618021649379935\n",
      "              precision    recall  f1-score   support\n",
      "\n",
      "           0       0.87      0.88      0.87       218\n",
      "           1       0.79      0.78      0.79       130\n",
      "\n",
      "    accuracy                           0.84       348\n",
      "   macro avg       0.83      0.83      0.83       348\n",
      "weighted avg       0.84      0.84      0.84       348\n",
      "\n"
     ]
    },
    {
     "name": "stderr",
     "output_type": "stream",
     "text": [
      "100%|██████████| 229/229 [00:57<00:00,  3.95it/s]\n"
     ]
    },
    {
     "name": "stdout",
     "output_type": "stream",
     "text": [
      "Epoch 25/50 - Train Loss: 0.0416 - Train Fbeta: 0.8674\n",
      "Valid Loss: 0.8801 - Valid Fbeta: 0.7808 - Valid MCC: 0.6584932639774452\n",
      "              precision    recall  f1-score   support\n",
      "\n",
      "           0       0.88      0.86      0.87       218\n",
      "           1       0.78      0.80      0.79       130\n",
      "\n",
      "    accuracy                           0.84       348\n",
      "   macro avg       0.83      0.83      0.83       348\n",
      "weighted avg       0.84      0.84      0.84       348\n",
      "\n"
     ]
    },
    {
     "name": "stderr",
     "output_type": "stream",
     "text": [
      "100%|██████████| 229/229 [00:57<00:00,  3.95it/s]\n"
     ]
    },
    {
     "name": "stdout",
     "output_type": "stream",
     "text": [
      "Epoch 26/50 - Train Loss: 0.0431 - Train Fbeta: 0.8721\n",
      "Valid Loss: 0.7420 - Valid Fbeta: 0.7944 - Valid MCC: 0.6674724138399377\n",
      "              precision    recall  f1-score   support\n",
      "\n",
      "           0       0.87      0.88      0.88       218\n",
      "           1       0.80      0.78      0.79       130\n",
      "\n",
      "    accuracy                           0.84       348\n",
      "   macro avg       0.83      0.83      0.83       348\n",
      "weighted avg       0.84      0.84      0.84       348\n",
      "\n"
     ]
    },
    {
     "name": "stderr",
     "output_type": "stream",
     "text": [
      "100%|██████████| 229/229 [00:57<00:00,  3.95it/s]\n"
     ]
    },
    {
     "name": "stdout",
     "output_type": "stream",
     "text": [
      "Epoch 27/50 - Train Loss: 0.0400 - Train Fbeta: 0.8765\n",
      "Valid Loss: 0.8141 - Valid Fbeta: 0.8172 - Valid MCC: 0.6900064326424296\n",
      "              precision    recall  f1-score   support\n",
      "\n",
      "           0       0.87      0.90      0.89       218\n",
      "           1       0.83      0.78      0.80       130\n",
      "\n",
      "    accuracy                           0.86       348\n",
      "   macro avg       0.85      0.84      0.84       348\n",
      "weighted avg       0.86      0.86      0.86       348\n",
      "\n"
     ]
    },
    {
     "name": "stderr",
     "output_type": "stream",
     "text": [
      "100%|██████████| 229/229 [00:58<00:00,  3.94it/s]\n"
     ]
    },
    {
     "name": "stdout",
     "output_type": "stream",
     "text": [
      "Epoch 28/50 - Train Loss: 0.0300 - Train Fbeta: 0.8808\n",
      "Valid Loss: 1.0044 - Valid Fbeta: 0.7687 - Valid MCC: 0.6408436212199882\n",
      "              precision    recall  f1-score   support\n",
      "\n",
      "           0       0.87      0.85      0.86       218\n",
      "           1       0.76      0.79      0.78       130\n",
      "\n",
      "    accuracy                           0.83       348\n",
      "   macro avg       0.82      0.82      0.82       348\n",
      "weighted avg       0.83      0.83      0.83       348\n",
      "\n"
     ]
    },
    {
     "name": "stderr",
     "output_type": "stream",
     "text": [
      "100%|██████████| 229/229 [00:57<00:00,  3.95it/s]\n"
     ]
    },
    {
     "name": "stdout",
     "output_type": "stream",
     "text": [
      "Epoch 29/50 - Train Loss: 0.0322 - Train Fbeta: 0.8846\n",
      "Valid Loss: 0.8743 - Valid Fbeta: 0.8388 - Valid MCC: 0.7209296861303109\n",
      "              precision    recall  f1-score   support\n",
      "\n",
      "           0       0.88      0.92      0.90       218\n",
      "           1       0.85      0.79      0.82       130\n",
      "\n",
      "    accuracy                           0.87       348\n",
      "   macro avg       0.87      0.85      0.86       348\n",
      "weighted avg       0.87      0.87      0.87       348\n",
      "\n",
      "Updated best model: epoch 29\n"
     ]
    },
    {
     "name": "stderr",
     "output_type": "stream",
     "text": [
      "100%|██████████| 229/229 [00:57<00:00,  3.96it/s]\n"
     ]
    },
    {
     "name": "stdout",
     "output_type": "stream",
     "text": [
      "Epoch 30/50 - Train Loss: 0.0289 - Train Fbeta: 0.8883\n",
      "Valid Loss: 0.9947 - Valid Fbeta: 0.7875 - Valid MCC: 0.6628506736389114\n",
      "              precision    recall  f1-score   support\n",
      "\n",
      "           0       0.88      0.87      0.87       218\n",
      "           1       0.79      0.79      0.79       130\n",
      "\n",
      "    accuracy                           0.84       348\n",
      "   macro avg       0.83      0.83      0.83       348\n",
      "weighted avg       0.84      0.84      0.84       348\n",
      "\n"
     ]
    },
    {
     "name": "stderr",
     "output_type": "stream",
     "text": [
      "100%|██████████| 229/229 [00:57<00:00,  3.96it/s]\n"
     ]
    },
    {
     "name": "stdout",
     "output_type": "stream",
     "text": [
      "Epoch 31/50 - Train Loss: 0.0249 - Train Fbeta: 0.8918\n",
      "Valid Loss: 0.8454 - Valid Fbeta: 0.7951 - Valid MCC: 0.6751113324263218\n",
      "              precision    recall  f1-score   support\n",
      "\n",
      "           0       0.88      0.88      0.88       218\n",
      "           1       0.79      0.80      0.80       130\n",
      "\n",
      "    accuracy                           0.85       348\n",
      "   macro avg       0.84      0.84      0.84       348\n",
      "weighted avg       0.85      0.85      0.85       348\n",
      "\n"
     ]
    },
    {
     "name": "stderr",
     "output_type": "stream",
     "text": [
      "100%|██████████| 229/229 [00:57<00:00,  3.96it/s]\n"
     ]
    },
    {
     "name": "stdout",
     "output_type": "stream",
     "text": [
      "Epoch 32/50 - Train Loss: 0.0326 - Train Fbeta: 0.8950\n",
      "Valid Loss: 0.9100 - Valid Fbeta: 0.8050 - Valid MCC: 0.6863997462045129\n",
      "              precision    recall  f1-score   support\n",
      "\n",
      "           0       0.88      0.89      0.88       218\n",
      "           1       0.81      0.80      0.80       130\n",
      "\n",
      "    accuracy                           0.85       348\n",
      "   macro avg       0.84      0.84      0.84       348\n",
      "weighted avg       0.85      0.85      0.85       348\n",
      "\n"
     ]
    },
    {
     "name": "stderr",
     "output_type": "stream",
     "text": [
      "100%|██████████| 229/229 [00:57<00:00,  3.96it/s]\n"
     ]
    },
    {
     "name": "stdout",
     "output_type": "stream",
     "text": [
      "Epoch 33/50 - Train Loss: 0.0297 - Train Fbeta: 0.8980\n",
      "Valid Loss: 0.9318 - Valid Fbeta: 0.7918 - Valid MCC: 0.6854579407783986\n",
      "              precision    recall  f1-score   support\n",
      "\n",
      "           0       0.90      0.86      0.88       218\n",
      "           1       0.78      0.83      0.81       130\n",
      "\n",
      "    accuracy                           0.85       348\n",
      "   macro avg       0.84      0.85      0.84       348\n",
      "weighted avg       0.85      0.85      0.85       348\n",
      "\n"
     ]
    },
    {
     "name": "stderr",
     "output_type": "stream",
     "text": [
      "100%|██████████| 229/229 [00:57<00:00,  3.96it/s]\n"
     ]
    },
    {
     "name": "stdout",
     "output_type": "stream",
     "text": [
      "Epoch 34/50 - Train Loss: 0.0297 - Train Fbeta: 0.9007\n",
      "Valid Loss: 0.9181 - Valid Fbeta: 0.7771 - Valid MCC: 0.6611717095229636\n",
      "              precision    recall  f1-score   support\n",
      "\n",
      "           0       0.89      0.85      0.87       218\n",
      "           1       0.77      0.82      0.79       130\n",
      "\n",
      "    accuracy                           0.84       348\n",
      "   macro avg       0.83      0.83      0.83       348\n",
      "weighted avg       0.84      0.84      0.84       348\n",
      "\n"
     ]
    },
    {
     "name": "stderr",
     "output_type": "stream",
     "text": [
      "100%|██████████| 229/229 [00:58<00:00,  3.93it/s]\n"
     ]
    },
    {
     "name": "stdout",
     "output_type": "stream",
     "text": [
      "Epoch 35/50 - Train Loss: 0.0255 - Train Fbeta: 0.9034\n",
      "Valid Loss: 1.0431 - Valid Fbeta: 0.7895 - Valid MCC: 0.6618021649379935\n",
      "              precision    recall  f1-score   support\n",
      "\n",
      "           0       0.87      0.88      0.87       218\n",
      "           1       0.79      0.78      0.79       130\n",
      "\n",
      "    accuracy                           0.84       348\n",
      "   macro avg       0.83      0.83      0.83       348\n",
      "weighted avg       0.84      0.84      0.84       348\n",
      "\n"
     ]
    },
    {
     "name": "stderr",
     "output_type": "stream",
     "text": [
      "100%|██████████| 229/229 [00:58<00:00,  3.93it/s]\n"
     ]
    },
    {
     "name": "stdout",
     "output_type": "stream",
     "text": [
      "Epoch 36/50 - Train Loss: 0.0261 - Train Fbeta: 0.9059\n",
      "Valid Loss: 1.0026 - Valid Fbeta: 0.8016 - Valid MCC: 0.6723702414359137\n",
      "              precision    recall  f1-score   support\n",
      "\n",
      "           0       0.87      0.89      0.88       218\n",
      "           1       0.81      0.78      0.79       130\n",
      "\n",
      "    accuracy                           0.85       348\n",
      "   macro avg       0.84      0.83      0.84       348\n",
      "weighted avg       0.85      0.85      0.85       348\n",
      "\n"
     ]
    },
    {
     "name": "stderr",
     "output_type": "stream",
     "text": [
      "100%|██████████| 229/229 [00:58<00:00,  3.94it/s]\n"
     ]
    },
    {
     "name": "stdout",
     "output_type": "stream",
     "text": [
      "Epoch 37/50 - Train Loss: 0.0238 - Train Fbeta: 0.9083\n",
      "Valid Loss: 0.8963 - Valid Fbeta: 0.7985 - Valid MCC: 0.6896057465473208\n",
      "              precision    recall  f1-score   support\n",
      "\n",
      "           0       0.89      0.87      0.88       218\n",
      "           1       0.79      0.82      0.81       130\n",
      "\n",
      "    accuracy                           0.85       348\n",
      "   macro avg       0.84      0.85      0.84       348\n",
      "weighted avg       0.85      0.85      0.85       348\n",
      "\n"
     ]
    },
    {
     "name": "stderr",
     "output_type": "stream",
     "text": [
      "100%|██████████| 229/229 [00:58<00:00,  3.91it/s]\n"
     ]
    },
    {
     "name": "stdout",
     "output_type": "stream",
     "text": [
      "Epoch 38/50 - Train Loss: 0.0269 - Train Fbeta: 0.9105\n",
      "Valid Loss: 0.8978 - Valid Fbeta: 0.7910 - Valid MCC: 0.6774152152154876\n",
      "              precision    recall  f1-score   support\n",
      "\n",
      "           0       0.89      0.87      0.88       218\n",
      "           1       0.79      0.82      0.80       130\n",
      "\n",
      "    accuracy                           0.85       348\n",
      "   macro avg       0.84      0.84      0.84       348\n",
      "weighted avg       0.85      0.85      0.85       348\n",
      "\n"
     ]
    },
    {
     "name": "stderr",
     "output_type": "stream",
     "text": [
      "100%|██████████| 229/229 [00:58<00:00,  3.94it/s]\n"
     ]
    },
    {
     "name": "stdout",
     "output_type": "stream",
     "text": [
      "Epoch 39/50 - Train Loss: 0.0194 - Train Fbeta: 0.9127\n",
      "Valid Loss: 0.9307 - Valid Fbeta: 0.8231 - Valid MCC: 0.7175723359209598\n",
      "              precision    recall  f1-score   support\n",
      "\n",
      "           0       0.89      0.89      0.89       218\n",
      "           1       0.82      0.82      0.82       130\n",
      "\n",
      "    accuracy                           0.87       348\n",
      "   macro avg       0.86      0.86      0.86       348\n",
      "weighted avg       0.87      0.87      0.87       348\n",
      "\n"
     ]
    },
    {
     "name": "stderr",
     "output_type": "stream",
     "text": [
      "100%|██████████| 229/229 [00:58<00:00,  3.91it/s]\n"
     ]
    },
    {
     "name": "stdout",
     "output_type": "stream",
     "text": [
      "Epoch 40/50 - Train Loss: 0.0227 - Train Fbeta: 0.9147\n",
      "Valid Loss: 0.9165 - Valid Fbeta: 0.7866 - Valid MCC: 0.6551537672544319\n",
      "              precision    recall  f1-score   support\n",
      "\n",
      "           0       0.87      0.88      0.87       218\n",
      "           1       0.79      0.78      0.78       130\n",
      "\n",
      "    accuracy                           0.84       348\n",
      "   macro avg       0.83      0.83      0.83       348\n",
      "weighted avg       0.84      0.84      0.84       348\n",
      "\n"
     ]
    },
    {
     "name": "stderr",
     "output_type": "stream",
     "text": [
      "100%|██████████| 229/229 [00:58<00:00,  3.94it/s]\n"
     ]
    },
    {
     "name": "stdout",
     "output_type": "stream",
     "text": [
      "Epoch 41/50 - Train Loss: 0.0198 - Train Fbeta: 0.9166\n",
      "Valid Loss: 1.0589 - Valid Fbeta: 0.8067 - Valid MCC: 0.6782009097993974\n",
      "              precision    recall  f1-score   support\n",
      "\n",
      "           0       0.87      0.89      0.88       218\n",
      "           1       0.81      0.78      0.80       130\n",
      "\n",
      "    accuracy                           0.85       348\n",
      "   macro avg       0.84      0.84      0.84       348\n",
      "weighted avg       0.85      0.85      0.85       348\n",
      "\n"
     ]
    },
    {
     "name": "stderr",
     "output_type": "stream",
     "text": [
      "100%|██████████| 229/229 [00:58<00:00,  3.92it/s]\n"
     ]
    },
    {
     "name": "stdout",
     "output_type": "stream",
     "text": [
      "Epoch 42/50 - Train Loss: 0.0332 - Train Fbeta: 0.9184\n",
      "Valid Loss: 0.9330 - Valid Fbeta: 0.8389 - Valid MCC: 0.714226208756466\n",
      "              precision    recall  f1-score   support\n",
      "\n",
      "           0       0.87      0.92      0.90       218\n",
      "           1       0.86      0.78      0.81       130\n",
      "\n",
      "    accuracy                           0.87       348\n",
      "   macro avg       0.86      0.85      0.86       348\n",
      "weighted avg       0.87      0.87      0.87       348\n",
      "\n",
      "Updated best model: epoch 42\n"
     ]
    },
    {
     "name": "stderr",
     "output_type": "stream",
     "text": [
      "100%|██████████| 229/229 [00:58<00:00,  3.92it/s]\n"
     ]
    },
    {
     "name": "stdout",
     "output_type": "stream",
     "text": [
      "Epoch 43/50 - Train Loss: 0.0264 - Train Fbeta: 0.9201\n",
      "Valid Loss: 0.8818 - Valid Fbeta: 0.7773 - Valid MCC: 0.6796202550690609\n",
      "              precision    recall  f1-score   support\n",
      "\n",
      "           0       0.91      0.84      0.87       218\n",
      "           1       0.76      0.85      0.80       130\n",
      "\n",
      "    accuracy                           0.84       348\n",
      "   macro avg       0.83      0.85      0.84       348\n",
      "weighted avg       0.85      0.84      0.85       348\n",
      "\n"
     ]
    },
    {
     "name": "stderr",
     "output_type": "stream",
     "text": [
      "100%|██████████| 229/229 [00:58<00:00,  3.91it/s]\n"
     ]
    },
    {
     "name": "stdout",
     "output_type": "stream",
     "text": [
      "Epoch 44/50 - Train Loss: 0.0238 - Train Fbeta: 0.9218\n",
      "Valid Loss: 0.7856 - Valid Fbeta: 0.8175 - Valid MCC: 0.6971331628053389\n",
      "              precision    recall  f1-score   support\n",
      "\n",
      "           0       0.88      0.90      0.89       218\n",
      "           1       0.82      0.79      0.81       130\n",
      "\n",
      "    accuracy                           0.86       348\n",
      "   macro avg       0.85      0.85      0.85       348\n",
      "weighted avg       0.86      0.86      0.86       348\n",
      "\n"
     ]
    },
    {
     "name": "stderr",
     "output_type": "stream",
     "text": [
      "100%|██████████| 229/229 [00:58<00:00,  3.93it/s]\n"
     ]
    },
    {
     "name": "stdout",
     "output_type": "stream",
     "text": [
      "Epoch 45/50 - Train Loss: 0.0166 - Train Fbeta: 0.9234\n",
      "Valid Loss: 0.9638 - Valid Fbeta: 0.8022 - Valid MCC: 0.6797910604254436\n",
      "              precision    recall  f1-score   support\n",
      "\n",
      "           0       0.88      0.89      0.88       218\n",
      "           1       0.80      0.79      0.80       130\n",
      "\n",
      "    accuracy                           0.85       348\n",
      "   macro avg       0.84      0.84      0.84       348\n",
      "weighted avg       0.85      0.85      0.85       348\n",
      "\n"
     ]
    },
    {
     "name": "stderr",
     "output_type": "stream",
     "text": [
      "100%|██████████| 229/229 [00:57<00:00,  3.95it/s]\n"
     ]
    },
    {
     "name": "stdout",
     "output_type": "stream",
     "text": [
      "Epoch 46/50 - Train Loss: 0.0191 - Train Fbeta: 0.9250\n",
      "Valid Loss: 0.9110 - Valid Fbeta: 0.7769 - Valid MCC: 0.6438955539872971\n",
      "              precision    recall  f1-score   support\n",
      "\n",
      "           0       0.87      0.87      0.87       218\n",
      "           1       0.78      0.78      0.78       130\n",
      "\n",
      "    accuracy                           0.83       348\n",
      "   macro avg       0.82      0.82      0.82       348\n",
      "weighted avg       0.83      0.83      0.83       348\n",
      "\n"
     ]
    },
    {
     "name": "stderr",
     "output_type": "stream",
     "text": [
      "100%|██████████| 229/229 [00:57<00:00,  3.95it/s]\n"
     ]
    },
    {
     "name": "stdout",
     "output_type": "stream",
     "text": [
      "Epoch 47/50 - Train Loss: 0.0168 - Train Fbeta: 0.9265\n",
      "Valid Loss: 0.9536 - Valid Fbeta: 0.8175 - Valid MCC: 0.6971331628053389\n",
      "              precision    recall  f1-score   support\n",
      "\n",
      "           0       0.88      0.90      0.89       218\n",
      "           1       0.82      0.79      0.81       130\n",
      "\n",
      "    accuracy                           0.86       348\n",
      "   macro avg       0.85      0.85      0.85       348\n",
      "weighted avg       0.86      0.86      0.86       348\n",
      "\n"
     ]
    },
    {
     "name": "stderr",
     "output_type": "stream",
     "text": [
      "100%|██████████| 229/229 [00:58<00:00,  3.92it/s]\n"
     ]
    },
    {
     "name": "stdout",
     "output_type": "stream",
     "text": [
      "Epoch 48/50 - Train Loss: 0.0218 - Train Fbeta: 0.9279\n",
      "Valid Loss: 0.8954 - Valid Fbeta: 0.8247 - Valid MCC: 0.6823172752546119\n",
      "              precision    recall  f1-score   support\n",
      "\n",
      "           0       0.86      0.92      0.89       218\n",
      "           1       0.85      0.74      0.79       130\n",
      "\n",
      "    accuracy                           0.85       348\n",
      "   macro avg       0.85      0.83      0.84       348\n",
      "weighted avg       0.85      0.85      0.85       348\n",
      "\n"
     ]
    },
    {
     "name": "stderr",
     "output_type": "stream",
     "text": [
      "100%|██████████| 229/229 [00:58<00:00,  3.91it/s]\n"
     ]
    },
    {
     "name": "stdout",
     "output_type": "stream",
     "text": [
      "Epoch 49/50 - Train Loss: 0.0190 - Train Fbeta: 0.9292\n",
      "Valid Loss: 1.0488 - Valid Fbeta: 0.7788 - Valid MCC: 0.642835120668926\n",
      "              precision    recall  f1-score   support\n",
      "\n",
      "           0       0.86      0.87      0.87       218\n",
      "           1       0.78      0.77      0.78       130\n",
      "\n",
      "    accuracy                           0.83       348\n",
      "   macro avg       0.82      0.82      0.82       348\n",
      "weighted avg       0.83      0.83      0.83       348\n",
      "\n"
     ]
    },
    {
     "name": "stderr",
     "output_type": "stream",
     "text": [
      "100%|██████████| 229/229 [00:58<00:00,  3.94it/s]\n"
     ]
    },
    {
     "name": "stdout",
     "output_type": "stream",
     "text": [
      "Epoch 50/50 - Train Loss: 0.0192 - Train Fbeta: 0.9305\n",
      "Valid Loss: 1.1413 - Valid Fbeta: 0.7740 - Valid MCC: 0.637204583671474\n",
      "              precision    recall  f1-score   support\n",
      "\n",
      "           0       0.86      0.87      0.86       218\n",
      "           1       0.78      0.77      0.77       130\n",
      "\n",
      "    accuracy                           0.83       348\n",
      "   macro avg       0.82      0.82      0.82       348\n",
      "weighted avg       0.83      0.83      0.83       348\n",
      "\n",
      "Test model:\n",
      "Valid Loss: 0.9996 - Valid Fbeta: 0.7979 - Valid MCC: 0.6386634151183261\n",
      "              precision    recall  f1-score   support\n",
      "\n",
      "           0       0.84      0.91      0.87       436\n",
      "           1       0.83      0.70      0.76       261\n",
      "\n",
      "    accuracy                           0.83       697\n",
      "   macro avg       0.83      0.81      0.82       697\n",
      "weighted avg       0.83      0.83      0.83       697\n",
      "\n",
      "Test Loss: 0.9996 - Test Fbeta: 0.7979\n"
     ]
    }
   ],
   "source": [
    "efficient_net_model_augmented_data = EfficientNetModel()\n",
    "criterion = nn.CrossEntropyLoss()\n",
    "optimizer = optim.Adam(efficient_net_model_augmented_data.parameters(), lr=LEARNING_RATE)\n",
    "model_path = \"model_results/efficient_net_augmented_model_50.pt\"\n",
    "\n",
    "if os.path.isfile(model_path):\n",
    "    print(\"Evaluate model\")\n",
    "    efficient_net_model_augmented_data.load_state_dict(torch.load(model_path, map_location=torch.device(device)))\n",
    "    print(\"Validation data:\")\n",
    "    validate_model(efficient_net_model_augmented_data, validation_loader, criterion)\n",
    "    print(\"Test data:\")\n",
    "    validate_model(efficient_net_model_augmented_data, test_loader, criterion)\n",
    "else:\n",
    "    print(\"Train model\")\n",
    "    model, train_loss_values, train_f_beta_values, validation_loss_values, validation_f_beta_values = train(efficient_net_model_augmented_data, model_path, train_loader, validation_loader, test_loader, criterion, optimizer, 50, 4)\n",
    "    np.save(\"model_results/efficient_net_augmented_model_50_train_loss\", train_loss_values)\n",
    "    np.save(\"model_results/efficient_net_augmented_model_50_train_f_beta\", train_f_beta_values)\n",
    "    np.save(\"model_results/efficient_net_augmented_model_50_valid_loss\", validation_loss_values)\n",
    "    np.save(\"model_results/efficient_net_augmented_model_50_valid_f_beta\", validation_f_beta_values)"
   ],
   "metadata": {
    "collapsed": false,
    "pycharm": {
     "name": "#%%\n"
    }
   }
  }
 ],
 "metadata": {
  "kernelspec": {
   "display_name": "Python 3 (ipykernel)",
   "language": "python",
   "name": "python3"
  },
  "language_info": {
   "codemirror_mode": {
    "name": "ipython",
    "version": 3
   },
   "file_extension": ".py",
   "mimetype": "text/x-python",
   "name": "python",
   "nbconvert_exporter": "python",
   "pygments_lexer": "ipython3",
   "version": "3.9.7"
  }
 },
 "nbformat": 4,
 "nbformat_minor": 4
}