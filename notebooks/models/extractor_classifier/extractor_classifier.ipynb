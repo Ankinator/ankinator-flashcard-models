{
 "cells": [
  {
   "cell_type": "code",
   "execution_count": 3,
   "metadata": {
    "collapsed": false,
    "jupyter": {
     "outputs_hidden": false
    },
    "pycharm": {
     "name": "#%%\n"
    },
    "tags": []
   },
   "outputs": [],
   "source": [
    "from PIL import Image\n",
    "import matplotlib.pyplot as plt\n",
    "import matplotlib.image as mpimg\n",
    "import numpy as np\n",
    "import os\n",
    "\n",
    "import torch\n",
    "from torch.utils.data import Dataset\n",
    "import torch.optim as optim\n",
    "import torch.nn as nn\n",
    "from torchvision import transforms\n",
    "\n",
    "from sklearn.metrics import classification_report, fbeta_score, matthews_corrcoef\n",
    "from tqdm import tqdm\n",
    "import torch.nn.functional as F"
   ]
  },
  {
   "cell_type": "code",
   "execution_count": 4,
   "metadata": {
    "collapsed": false,
    "jupyter": {
     "outputs_hidden": false
    },
    "pycharm": {
     "name": "#%%\n"
    },
    "tags": []
   },
   "outputs": [],
   "source": [
    "# Define hyperparameters\n",
    "BATCH_SIZE = 86\n",
    "LEARNING_RATE = 0.0001"
   ]
  },
  {
   "cell_type": "code",
   "execution_count": 5,
   "metadata": {
    "collapsed": false,
    "jupyter": {
     "outputs_hidden": false
    },
    "pycharm": {
     "name": "#%%\n"
    },
    "tags": []
   },
   "outputs": [
    {
     "name": "stdout",
     "output_type": "stream",
     "text": [
      "cpu\n"
     ]
    }
   ],
   "source": [
    "# Set the device\n",
    "device = \"cpu\"\n",
    "if torch.cuda.is_available():\n",
    "    device =  \"cuda\"\n",
    "elif torch.backends.mps.is_available():\n",
    "    device = \"mps\" # Use M1 Mac GPU\n",
    "    device=\"cpu\"\n",
    "print(device)"
   ]
  },
  {
   "cell_type": "code",
   "execution_count": 6,
   "metadata": {
    "collapsed": false,
    "jupyter": {
     "outputs_hidden": false
    },
    "pycharm": {
     "name": "#%%\n"
    },
    "tags": []
   },
   "outputs": [
    {
     "name": "stderr",
     "output_type": "stream",
     "text": [
      "100%|██████████| 7308/7308 [00:51<00:00, 141.56it/s]\n",
      "100%|██████████| 348/348 [00:02<00:00, 154.84it/s]\n",
      "100%|██████████| 698/698 [00:04<00:00, 146.72it/s]\n"
     ]
    }
   ],
   "source": [
    "class ExtractorClassifierDataset(Dataset):\n",
    "    def __init__(self, data, resize_shape=(256, 256)):\n",
    "        self.data = data\n",
    "        self.to_tensor = transforms.ToTensor()\n",
    "        self.resize_image = transforms.Resize(resize_shape, antialias=True)\n",
    "        self.image_tensors = []\n",
    "        self.label_tensors = []\n",
    "\n",
    "        for image, label in tqdm(self.data):\n",
    "            # Apply transformations to the image and convert to tensor\n",
    "            image_tensor = self.to_tensor(image)\n",
    "            image_tensor = self.resize_image(image_tensor)\n",
    "            image_tensor = image_tensor/255\n",
    "            self.image_tensors.append(image_tensor.to(device))\n",
    "\n",
    "            # Create one-hot encoded tensor for the label\n",
    "            label_tensor = torch.zeros(2)\n",
    "            label_tensor[label] = 1\n",
    "            self.label_tensors.append(label_tensor.to(device))\n",
    "\n",
    "    def __len__(self):\n",
    "        return len(self.data)\n",
    "\n",
    "    def __getitem__(self, idx):\n",
    "        return self.image_tensors[idx], self.label_tensors[idx]\n",
    "\n",
    "data_dir = \"../../../datasets/extractor_classifier\"\n",
    "\n",
    "train_list = []\n",
    "validation_list = []\n",
    "test_list = []\n",
    "\n",
    "for class_name in (\"relevant\", \"not_relevant\"):\n",
    "    if class_name == \"relevant\":\n",
    "        label = 0\n",
    "    else:\n",
    "        label = 1\n",
    "\n",
    "    for image in os.listdir(f\"{data_dir}/train/{class_name}\"):\n",
    "        if image != \".ipynb_checkpoints\":\n",
    "            src_path = f\"{data_dir}/train/{class_name}/{image}\"\n",
    "            train_list.append((Image.open(src_path), label))\n",
    "\n",
    "# Uncomment this part to add augmented data\n",
    "    for image in os.listdir(f\"{data_dir}/train_data_augmentation/{class_name}\"):\n",
    "        if image != \".ipynb_checkpoints\":\n",
    "            src_path = f\"{data_dir}/train_data_augmentation/{class_name}/{image}\"\n",
    "            train_list.append((Image.open(src_path), label))\n",
    "\n",
    "    for image in os.listdir(f\"{data_dir}/validation/{class_name}\"):\n",
    "        if image != \".ipynb_checkpoints\":\n",
    "            src_path = f\"{data_dir}/validation/{class_name}/{image}\"\n",
    "            validation_list.append((Image.open(src_path), label))\n",
    "\n",
    "    for image in os.listdir(f\"{data_dir}/test/{class_name}\"):\n",
    "        if image != \".ipynb_checkpoints\":\n",
    "            src_path = f\"{data_dir}/test/{class_name}/{image}\"\n",
    "            test_list.append((Image.open(src_path), label))\n",
    "\n",
    "# Define the train/validation/test datasets\n",
    "train_data = ExtractorClassifierDataset(train_list)\n",
    "validation_data = ExtractorClassifierDataset(validation_list)\n",
    "test_data = ExtractorClassifierDataset(test_list)"
   ]
  },
  {
   "cell_type": "code",
   "execution_count": 7,
   "outputs": [
    {
     "data": {
      "text/plain": "433"
     },
     "execution_count": 7,
     "metadata": {},
     "output_type": "execute_result"
    }
   ],
   "source": [
    "import gc\n",
    "del train_list\n",
    "del validation_list\n",
    "del test_list\n",
    "gc.collect()"
   ],
   "metadata": {
    "collapsed": false,
    "pycharm": {
     "name": "#%%\n"
    }
   }
  },
  {
   "cell_type": "code",
   "execution_count": 7,
   "metadata": {
    "collapsed": false,
    "jupyter": {
     "outputs_hidden": false
    },
    "pycharm": {
     "name": "#%%\n"
    },
    "tags": []
   },
   "outputs": [],
   "source": [
    "# Define the dataloaders for each dataset\n",
    "train_loader = torch.utils.data.DataLoader(train_data, batch_size=BATCH_SIZE, shuffle=True, pin_memory=False )\n",
    "validation_loader = torch.utils.data.DataLoader(validation_data, batch_size=BATCH_SIZE, shuffle=True, pin_memory=False)\n",
    "test_loader = torch.utils.data.DataLoader(test_data, batch_size=BATCH_SIZE, shuffle=True, pin_memory=False)"
   ]
  },
  {
   "cell_type": "code",
   "execution_count": 7,
   "metadata": {
    "collapsed": false,
    "jupyter": {
     "outputs_hidden": false
    },
    "pycharm": {
     "name": "#%%\n"
    },
    "tags": []
   },
   "outputs": [],
   "source": [
    "from torchvision.models import resnet50\n",
    "\n",
    "class Resnet50Model(nn.Module):\n",
    "    def __init__(self, pretrained=False):\n",
    "        super(Resnet50Model, self).__init__()\n",
    "        self.resnet_model = resnet50(pretrained=pretrained)\n",
    "        num_features = self.resnet_model.fc.in_features\n",
    "        self.resnet_model.fc = nn.Linear(num_features, 2)\n",
    "        \n",
    "    def forward(self, x):\n",
    "        x = self.resnet_model(x)\n",
    "        return x"
   ]
  },
  {
   "cell_type": "code",
   "execution_count": 9,
   "metadata": {
    "tags": [],
    "pycharm": {
     "name": "#%%\n"
    }
   },
   "outputs": [],
   "source": [
    "from torchvision.models import convnext_base\n",
    "\n",
    "class ConvNeXtBaseModel(nn.Module):\n",
    "    def __init__(self, pretrained=False):\n",
    "        super(ConvNeXtBaseModel, self).__init__()\n",
    "        self.convnext_model = convnext_base(pretrained=pretrained)\n",
    "        num_features = self.convnext_model.classifier[2].in_features\n",
    "        new_classifier_layer = torch.nn.Linear(num_features, 2)\n",
    "        self.convnext_model.classifier[2] = new_classifier_layer\n",
    "        \n",
    "    def forward(self, x):\n",
    "        x = self.convnext_model(x)\n",
    "        return x"
   ]
  },
  {
   "cell_type": "code",
   "execution_count": 8,
   "metadata": {
    "tags": [],
    "pycharm": {
     "name": "#%%\n"
    }
   },
   "outputs": [],
   "source": [
    "from torchvision.models import efficientnet_v2_m\n",
    "\n",
    "class EfficientNetModel(nn.Module):\n",
    "    def __init__(self, pretrained=False):\n",
    "        super(EfficientNetModel, self).__init__()\n",
    "        self.efficientnet_model = efficientnet_v2_m(pretrained=pretrained)\n",
    "        num_features = self.efficientnet_model.classifier[1].in_features\n",
    "        new_classifier_layer = torch.nn.Linear(num_features, 2)\n",
    "        self.efficientnet_model.classifier[1] = new_classifier_layer\n",
    "        \n",
    "    def forward(self, x):\n",
    "        x = self.efficientnet_model(x)\n",
    "        return x"
   ]
  },
  {
   "cell_type": "code",
   "execution_count": 9,
   "metadata": {
    "collapsed": false,
    "jupyter": {
     "outputs_hidden": false
    },
    "pycharm": {
     "name": "#%%\n"
    },
    "tags": []
   },
   "outputs": [],
   "source": [
    "def train(model, model_path, train_loader, validation_loader, test_loader, criterion, optimizer, epochs):\n",
    "    # Move the model to the device\n",
    "    model.to(device)\n",
    "\n",
    "    # Define variables to track the best validation accuracy and the corresponding model state\n",
    "    best_valid_f_beta = 0.0\n",
    "    train_loss_values = []\n",
    "    validation_loss_values = []\n",
    "    train_f_beta_values = []\n",
    "    validation_f_beta_values = []\n",
    "\n",
    "    train_true_labels = []\n",
    "    train_predicted_labels = []\n",
    "\n",
    "    for epoch in range(epochs):\n",
    "        # Train the model for one epoch\n",
    "        train_loss = 0.0\n",
    "        model.train()\n",
    "        for i, (images, labels) in enumerate(tqdm(train_loader)):\n",
    "            images, labels = images.to(device), labels.to(device)\n",
    "\n",
    "            outputs = model(images)\n",
    "            loss = criterion(outputs, labels)\n",
    "            train_loss += loss.item() * images.size(0)\n",
    "            loss.backward()\n",
    "\n",
    "            #if (i + 1) % 2 == 0 or (i + 1) == len(train_loader):\n",
    "            optimizer.step()\n",
    "            optimizer.zero_grad()\n",
    "\n",
    "            outputs = F.softmax(outputs, dim=1)\n",
    "            _, predicted = torch.max(outputs.data, 1)\n",
    "            _, labels = torch.max(labels.data, 1)\n",
    "\n",
    "            train_predicted_labels.extend(predicted.detach().cpu())\n",
    "            train_true_labels.extend(labels.detach().cpu())\n",
    "\n",
    "        train_loss = train_loss / len(train_loader.dataset)\n",
    "        train_loss_values.append(train_loss)\n",
    "\n",
    "        train_f_beta = fbeta_score(train_true_labels, train_predicted_labels, average=\"binary\", beta=0.5)\n",
    "        train_f_beta_values.append(train_f_beta)\n",
    "\n",
    "        print(f\"Epoch {epoch+1}/{epochs} - \"\n",
    "              f\"Train Loss: {train_loss:.4f} - Train Fbeta: {train_f_beta:.4f}\")\n",
    "\n",
    "        # Evaluate the model on the validation set\n",
    "        validation_loss, validation_f_beta = validate_model(model, validation_loader)\n",
    "        validation_loss_values.append(validation_loss)\n",
    "        validation_f_beta_values.append(validation_f_beta)\n",
    "\n",
    "        # Save the model state if the current validation accuracy is better than the previous best\n",
    "        if validation_f_beta > best_valid_f_beta:\n",
    "            best_valid_f_beta = validation_f_beta\n",
    "            print(f\"Updated best model: epoch {epoch+1}\")\n",
    "            torch.save(model.state_dict(), model_path)\n",
    "\n",
    "    # Load the best model state and evaluate on the test set\n",
    "    model.load_state_dict(torch.load(model_path, map_location=torch.device(device)))\n",
    "    print(\"Test model:\")\n",
    "    test_loss, test_f_beta = validate_model(model, test_loader)\n",
    "    print(f\"Test Loss: {test_loss:.4f} - Test Fbeta: {test_f_beta:.4f}\")\n",
    "\n",
    "    return model, train_loss_values, train_f_beta_values, validation_loss_values, validation_f_beta_values\n",
    "\n",
    "def validate_model(model, data_loader):\n",
    "    model.to(device)\n",
    "    model.eval()\n",
    "\n",
    "    valid_loss = 0.0\n",
    "    valid_true_labels = []\n",
    "    valid_predicted_labels = []\n",
    "\n",
    "    with torch.no_grad():\n",
    "        for images, labels in data_loader:\n",
    "            images, labels = images.to(device), labels.to(device)\n",
    "            outputs = model(images)\n",
    "\n",
    "            loss = criterion(outputs, labels)\n",
    "            valid_loss += loss.item() * images.size(0)\n",
    "\n",
    "            outputs = F.softmax(outputs, dim=1)\n",
    "            _, predicted = torch.max(outputs.data, 1)\n",
    "            _, labels = torch.max(labels.data, 1)\n",
    "\n",
    "            valid_predicted_labels.extend(predicted.detach().cpu())\n",
    "            valid_true_labels.extend(labels.detach().cpu())\n",
    "\n",
    "    f_beta_score = fbeta_score(valid_true_labels, valid_predicted_labels, average=\"binary\", beta=0.5)\n",
    "    mcc_score = matthews_corrcoef(valid_true_labels, valid_predicted_labels)\n",
    "    valid_loss = valid_loss / len(data_loader.dataset)\n",
    "\n",
    "    print(f\"Valid Loss: {valid_loss:.4f} - Valid Fbeta: {f_beta_score:.4f} - Valid MCC: {mcc_score}\")\n",
    "    print(classification_report(valid_true_labels, valid_predicted_labels))\n",
    "    return valid_loss, f_beta_score"
   ]
  },
  {
   "cell_type": "code",
   "execution_count": 25,
   "outputs": [
    {
     "data": {
      "text/plain": "25067"
     },
     "execution_count": 25,
     "metadata": {},
     "output_type": "execute_result"
    }
   ],
   "source": [
    "import gc\n",
    "del train_loader\n",
    "del validation_loader\n",
    "del test_loader\n",
    "gc.collect()"
   ],
   "metadata": {
    "collapsed": false,
    "pycharm": {
     "name": "#%%\n"
    }
   }
  },
  {
   "cell_type": "code",
   "execution_count": 10,
   "outputs": [
    {
     "name": "stderr",
     "output_type": "stream",
     "text": [
      "/Users/I518152/opt/miniconda3/envs/ankinator/lib/python3.10/site-packages/torchvision/models/_utils.py:208: UserWarning: The parameter 'pretrained' is deprecated since 0.13 and may be removed in the future, please use 'weights' instead.\n",
      "  warnings.warn(\n",
      "/Users/I518152/opt/miniconda3/envs/ankinator/lib/python3.10/site-packages/torchvision/models/_utils.py:223: UserWarning: Arguments other than a weight enum or `None` for 'weights' are deprecated since 0.13 and may be removed in the future. The current behavior is equivalent to passing `weights=None`.\n",
      "  warnings.warn(msg)\n"
     ]
    },
    {
     "name": "stdout",
     "output_type": "stream",
     "text": [
      "Train model\n"
     ]
    },
    {
     "name": "stderr",
     "output_type": "stream",
     "text": [
      "  0%|          | 0/85 [03:45<?, ?it/s]\n"
     ]
    },
    {
     "ename": "KeyboardInterrupt",
     "evalue": "",
     "output_type": "error",
     "traceback": [
      "\u001B[0;31m---------------------------------------------------------------------------\u001B[0m",
      "\u001B[0;31mKeyboardInterrupt\u001B[0m                         Traceback (most recent call last)",
      "Cell \u001B[0;32mIn[10], line 15\u001B[0m\n\u001B[1;32m     13\u001B[0m \u001B[38;5;28;01melse\u001B[39;00m:\n\u001B[1;32m     14\u001B[0m     \u001B[38;5;28mprint\u001B[39m(\u001B[38;5;124m\"\u001B[39m\u001B[38;5;124mTrain model\u001B[39m\u001B[38;5;124m\"\u001B[39m)\n\u001B[0;32m---> 15\u001B[0m     model, train_loss_values, train_f_beta_values, validation_loss_values, validation_f_beta_values \u001B[38;5;241m=\u001B[39m \u001B[43mtrain\u001B[49m\u001B[43m(\u001B[49m\u001B[43mefficient_net_model_augmented_data\u001B[49m\u001B[43m,\u001B[49m\u001B[43m \u001B[49m\u001B[43mmodel_path\u001B[49m\u001B[43m,\u001B[49m\u001B[43m \u001B[49m\u001B[43mtrain_loader\u001B[49m\u001B[43m,\u001B[49m\u001B[43m \u001B[49m\u001B[43mvalidation_loader\u001B[49m\u001B[43m,\u001B[49m\u001B[43m \u001B[49m\u001B[43mtest_loader\u001B[49m\u001B[43m,\u001B[49m\u001B[43m \u001B[49m\u001B[43mcriterion\u001B[49m\u001B[43m,\u001B[49m\u001B[43m \u001B[49m\u001B[43moptimizer\u001B[49m\u001B[43m,\u001B[49m\u001B[43m \u001B[49m\u001B[38;5;241;43m50\u001B[39;49m\u001B[43m)\u001B[49m\n\u001B[1;32m     16\u001B[0m     np\u001B[38;5;241m.\u001B[39msave(\u001B[38;5;124m\"\u001B[39m\u001B[38;5;124mmodel_results/efficient_net_augmented_model_50_train_loss\u001B[39m\u001B[38;5;124m\"\u001B[39m, train_loss_values)\n\u001B[1;32m     17\u001B[0m     np\u001B[38;5;241m.\u001B[39msave(\u001B[38;5;124m\"\u001B[39m\u001B[38;5;124mmodel_results/efficient_net_augmented_model_50_train_f_beta\u001B[39m\u001B[38;5;124m\"\u001B[39m, train_f_beta_values)\n",
      "Cell \u001B[0;32mIn[9], line 25\u001B[0m, in \u001B[0;36mtrain\u001B[0;34m(model, model_path, train_loader, validation_loader, test_loader, criterion, optimizer, epochs)\u001B[0m\n\u001B[1;32m     23\u001B[0m loss \u001B[38;5;241m=\u001B[39m criterion(outputs, labels)\n\u001B[1;32m     24\u001B[0m train_loss \u001B[38;5;241m+\u001B[39m\u001B[38;5;241m=\u001B[39m loss\u001B[38;5;241m.\u001B[39mitem() \u001B[38;5;241m*\u001B[39m images\u001B[38;5;241m.\u001B[39msize(\u001B[38;5;241m0\u001B[39m)\n\u001B[0;32m---> 25\u001B[0m \u001B[43mloss\u001B[49m\u001B[38;5;241;43m.\u001B[39;49m\u001B[43mbackward\u001B[49m\u001B[43m(\u001B[49m\u001B[43m)\u001B[49m\n\u001B[1;32m     27\u001B[0m \u001B[38;5;66;03m#if (i + 1) % 2 == 0 or (i + 1) == len(train_loader):\u001B[39;00m\n\u001B[1;32m     28\u001B[0m optimizer\u001B[38;5;241m.\u001B[39mstep()\n",
      "File \u001B[0;32m~/opt/miniconda3/envs/ankinator/lib/python3.10/site-packages/torch/_tensor.py:487\u001B[0m, in \u001B[0;36mTensor.backward\u001B[0;34m(self, gradient, retain_graph, create_graph, inputs)\u001B[0m\n\u001B[1;32m    477\u001B[0m \u001B[38;5;28;01mif\u001B[39;00m has_torch_function_unary(\u001B[38;5;28mself\u001B[39m):\n\u001B[1;32m    478\u001B[0m     \u001B[38;5;28;01mreturn\u001B[39;00m handle_torch_function(\n\u001B[1;32m    479\u001B[0m         Tensor\u001B[38;5;241m.\u001B[39mbackward,\n\u001B[1;32m    480\u001B[0m         (\u001B[38;5;28mself\u001B[39m,),\n\u001B[0;32m   (...)\u001B[0m\n\u001B[1;32m    485\u001B[0m         inputs\u001B[38;5;241m=\u001B[39minputs,\n\u001B[1;32m    486\u001B[0m     )\n\u001B[0;32m--> 487\u001B[0m \u001B[43mtorch\u001B[49m\u001B[38;5;241;43m.\u001B[39;49m\u001B[43mautograd\u001B[49m\u001B[38;5;241;43m.\u001B[39;49m\u001B[43mbackward\u001B[49m\u001B[43m(\u001B[49m\n\u001B[1;32m    488\u001B[0m \u001B[43m    \u001B[49m\u001B[38;5;28;43mself\u001B[39;49m\u001B[43m,\u001B[49m\u001B[43m \u001B[49m\u001B[43mgradient\u001B[49m\u001B[43m,\u001B[49m\u001B[43m \u001B[49m\u001B[43mretain_graph\u001B[49m\u001B[43m,\u001B[49m\u001B[43m \u001B[49m\u001B[43mcreate_graph\u001B[49m\u001B[43m,\u001B[49m\u001B[43m \u001B[49m\u001B[43minputs\u001B[49m\u001B[38;5;241;43m=\u001B[39;49m\u001B[43minputs\u001B[49m\n\u001B[1;32m    489\u001B[0m \u001B[43m\u001B[49m\u001B[43m)\u001B[49m\n",
      "File \u001B[0;32m~/opt/miniconda3/envs/ankinator/lib/python3.10/site-packages/torch/autograd/__init__.py:200\u001B[0m, in \u001B[0;36mbackward\u001B[0;34m(tensors, grad_tensors, retain_graph, create_graph, grad_variables, inputs)\u001B[0m\n\u001B[1;32m    195\u001B[0m     retain_graph \u001B[38;5;241m=\u001B[39m create_graph\n\u001B[1;32m    197\u001B[0m \u001B[38;5;66;03m# The reason we repeat same the comment below is that\u001B[39;00m\n\u001B[1;32m    198\u001B[0m \u001B[38;5;66;03m# some Python versions print out the first line of a multi-line function\u001B[39;00m\n\u001B[1;32m    199\u001B[0m \u001B[38;5;66;03m# calls in the traceback and some print out the last line\u001B[39;00m\n\u001B[0;32m--> 200\u001B[0m \u001B[43mVariable\u001B[49m\u001B[38;5;241;43m.\u001B[39;49m\u001B[43m_execution_engine\u001B[49m\u001B[38;5;241;43m.\u001B[39;49m\u001B[43mrun_backward\u001B[49m\u001B[43m(\u001B[49m\u001B[43m  \u001B[49m\u001B[38;5;66;43;03m# Calls into the C++ engine to run the backward pass\u001B[39;49;00m\n\u001B[1;32m    201\u001B[0m \u001B[43m    \u001B[49m\u001B[43mtensors\u001B[49m\u001B[43m,\u001B[49m\u001B[43m \u001B[49m\u001B[43mgrad_tensors_\u001B[49m\u001B[43m,\u001B[49m\u001B[43m \u001B[49m\u001B[43mretain_graph\u001B[49m\u001B[43m,\u001B[49m\u001B[43m \u001B[49m\u001B[43mcreate_graph\u001B[49m\u001B[43m,\u001B[49m\u001B[43m \u001B[49m\u001B[43minputs\u001B[49m\u001B[43m,\u001B[49m\n\u001B[1;32m    202\u001B[0m \u001B[43m    \u001B[49m\u001B[43mallow_unreachable\u001B[49m\u001B[38;5;241;43m=\u001B[39;49m\u001B[38;5;28;43;01mTrue\u001B[39;49;00m\u001B[43m,\u001B[49m\u001B[43m \u001B[49m\u001B[43maccumulate_grad\u001B[49m\u001B[38;5;241;43m=\u001B[39;49m\u001B[38;5;28;43;01mTrue\u001B[39;49;00m\u001B[43m)\u001B[49m\n",
      "\u001B[0;31mKeyboardInterrupt\u001B[0m: "
     ]
    }
   ],
   "source": [
    "efficient_net_model_augmented_data = EfficientNetModel()\n",
    "criterion = nn.CrossEntropyLoss()\n",
    "optimizer = optim.Adam(efficient_net_model_augmented_data.parameters(), lr=LEARNING_RATE)\n",
    "model_path = \"model_results/efficient_net_augmented_model_50.pt\"\n",
    "\n",
    "if os.path.isfile(model_path):\n",
    "    print(\"Evaluate model\")\n",
    "    efficient_net_model_augmented_data.load_state_dict(torch.load(model_path, map_location=torch.device(device)))\n",
    "    print(\"Validation data:\")\n",
    "    validate_model(efficient_net_model_augmented_data, validation_loader)\n",
    "    print(\"Test data:\")\n",
    "    validate_model(efficient_net_model_augmented_data, test_loader)\n",
    "else:\n",
    "    print(\"Train model\")\n",
    "    model, train_loss_values, train_f_beta_values, validation_loss_values, validation_f_beta_values = train(efficient_net_model_augmented_data, model_path, train_loader, validation_loader, test_loader, criterion, optimizer, 50)\n",
    "    np.save(\"model_results/efficient_net_augmented_model_50_train_loss\", train_loss_values)\n",
    "    np.save(\"model_results/efficient_net_augmented_model_50_train_f_beta\", train_f_beta_values)\n",
    "    np.save(\"model_results/efficient_net_augmented_model_50_valid_loss\", validation_loss_values)\n",
    "    np.save(\"model_results/efficient_net_augmented_model_50_valid_f_beta\", validation_f_beta_values)"
   ],
   "metadata": {
    "collapsed": false,
    "pycharm": {
     "name": "#%%\n"
    }
   }
  },
  {
   "cell_type": "code",
   "execution_count": 11,
   "metadata": {
    "collapsed": false,
    "jupyter": {
     "outputs_hidden": false
    },
    "pycharm": {
     "name": "#%%\n"
    },
    "tags": []
   },
   "outputs": [
    {
     "name": "stderr",
     "output_type": "stream",
     "text": [
      "/home/ma/ma_ma/ma_nikemper/.local/lib/python3.9/site-packages/torchvision/models/_utils.py:208: UserWarning: The parameter 'pretrained' is deprecated since 0.13 and may be removed in the future, please use 'weights' instead.\n",
      "  warnings.warn(\n",
      "/home/ma/ma_ma/ma_nikemper/.local/lib/python3.9/site-packages/torchvision/models/_utils.py:223: UserWarning: Arguments other than a weight enum or `None` for 'weights' are deprecated since 0.13 and may be removed in the future. The current behavior is equivalent to passing `weights=None`.\n",
      "  warnings.warn(msg)\n"
     ]
    },
    {
     "name": "stdout",
     "output_type": "stream",
     "text": [
      "Train model\n"
     ]
    },
    {
     "name": "stderr",
     "output_type": "stream",
     "text": [
      "100%|██████████| 29/29 [00:13<00:00,  2.15it/s]\n"
     ]
    },
    {
     "name": "stdout",
     "output_type": "stream",
     "text": [
      "Epoch 1/50 - Train Loss: 0.5801 - Train Fbeta: 0.5963\n"
     ]
    },
    {
     "name": "stderr",
     "output_type": "stream",
     "text": [
      "/opt/bwhpc/common/jupyter/tensorflow/2023-03-24/lib/python3.9/site-packages/sklearn/metrics/_classification.py:1344: UndefinedMetricWarning: Precision and F-score are ill-defined and being set to 0.0 in labels with no predicted samples. Use `zero_division` parameter to control this behavior.\n",
      "  _warn_prf(average, modifier, msg_start, len(result))\n",
      "/opt/bwhpc/common/jupyter/tensorflow/2023-03-24/lib/python3.9/site-packages/sklearn/metrics/_classification.py:1344: UndefinedMetricWarning: Precision and F-score are ill-defined and being set to 0.0 in labels with no predicted samples. Use `zero_division` parameter to control this behavior.\n",
      "  _warn_prf(average, modifier, msg_start, len(result))\n",
      "/opt/bwhpc/common/jupyter/tensorflow/2023-03-24/lib/python3.9/site-packages/sklearn/metrics/_classification.py:1344: UndefinedMetricWarning: Precision and F-score are ill-defined and being set to 0.0 in labels with no predicted samples. Use `zero_division` parameter to control this behavior.\n",
      "  _warn_prf(average, modifier, msg_start, len(result))\n"
     ]
    },
    {
     "name": "stdout",
     "output_type": "stream",
     "text": [
      "Valid Loss: 2.7899 - Valid Fbeta: 0.4271 - Valid MCC: 0.0\n",
      "              precision    recall  f1-score   support\n",
      "\n",
      "           0       0.00      0.00      0.00       218\n",
      "           1       0.37      1.00      0.54       130\n",
      "\n",
      "    accuracy                           0.37       348\n",
      "   macro avg       0.19      0.50      0.27       348\n",
      "weighted avg       0.14      0.37      0.20       348\n",
      "\n",
      "Updated best model: epoch 1\n"
     ]
    },
    {
     "name": "stderr",
     "output_type": "stream",
     "text": [
      "100%|██████████| 29/29 [00:10<00:00,  2.89it/s]\n"
     ]
    },
    {
     "name": "stdout",
     "output_type": "stream",
     "text": [
      "Epoch 2/50 - Train Loss: 0.4604 - Train Fbeta: 0.6759\n"
     ]
    },
    {
     "name": "stderr",
     "output_type": "stream",
     "text": [
      "/opt/bwhpc/common/jupyter/tensorflow/2023-03-24/lib/python3.9/site-packages/sklearn/metrics/_classification.py:1344: UndefinedMetricWarning: Precision and F-score are ill-defined and being set to 0.0 in labels with no predicted samples. Use `zero_division` parameter to control this behavior.\n",
      "  _warn_prf(average, modifier, msg_start, len(result))\n",
      "/opt/bwhpc/common/jupyter/tensorflow/2023-03-24/lib/python3.9/site-packages/sklearn/metrics/_classification.py:1344: UndefinedMetricWarning: Precision and F-score are ill-defined and being set to 0.0 in labels with no predicted samples. Use `zero_division` parameter to control this behavior.\n",
      "  _warn_prf(average, modifier, msg_start, len(result))\n",
      "/opt/bwhpc/common/jupyter/tensorflow/2023-03-24/lib/python3.9/site-packages/sklearn/metrics/_classification.py:1344: UndefinedMetricWarning: Precision and F-score are ill-defined and being set to 0.0 in labels with no predicted samples. Use `zero_division` parameter to control this behavior.\n",
      "  _warn_prf(average, modifier, msg_start, len(result))\n"
     ]
    },
    {
     "name": "stdout",
     "output_type": "stream",
     "text": [
      "Valid Loss: 3.7730 - Valid Fbeta: 0.4271 - Valid MCC: 0.0\n",
      "              precision    recall  f1-score   support\n",
      "\n",
      "           0       0.00      0.00      0.00       218\n",
      "           1       0.37      1.00      0.54       130\n",
      "\n",
      "    accuracy                           0.37       348\n",
      "   macro avg       0.19      0.50      0.27       348\n",
      "weighted avg       0.14      0.37      0.20       348\n",
      "\n"
     ]
    },
    {
     "name": "stderr",
     "output_type": "stream",
     "text": [
      "100%|██████████| 29/29 [00:10<00:00,  2.89it/s]\n"
     ]
    },
    {
     "name": "stdout",
     "output_type": "stream",
     "text": [
      "Epoch 3/50 - Train Loss: 0.4045 - Train Fbeta: 0.7127\n"
     ]
    },
    {
     "name": "stderr",
     "output_type": "stream",
     "text": [
      "/opt/bwhpc/common/jupyter/tensorflow/2023-03-24/lib/python3.9/site-packages/sklearn/metrics/_classification.py:1344: UndefinedMetricWarning: Precision and F-score are ill-defined and being set to 0.0 in labels with no predicted samples. Use `zero_division` parameter to control this behavior.\n",
      "  _warn_prf(average, modifier, msg_start, len(result))\n",
      "/opt/bwhpc/common/jupyter/tensorflow/2023-03-24/lib/python3.9/site-packages/sklearn/metrics/_classification.py:1344: UndefinedMetricWarning: Precision and F-score are ill-defined and being set to 0.0 in labels with no predicted samples. Use `zero_division` parameter to control this behavior.\n",
      "  _warn_prf(average, modifier, msg_start, len(result))\n",
      "/opt/bwhpc/common/jupyter/tensorflow/2023-03-24/lib/python3.9/site-packages/sklearn/metrics/_classification.py:1344: UndefinedMetricWarning: Precision and F-score are ill-defined and being set to 0.0 in labels with no predicted samples. Use `zero_division` parameter to control this behavior.\n",
      "  _warn_prf(average, modifier, msg_start, len(result))\n"
     ]
    },
    {
     "name": "stdout",
     "output_type": "stream",
     "text": [
      "Valid Loss: 2.2905 - Valid Fbeta: 0.4271 - Valid MCC: 0.0\n",
      "              precision    recall  f1-score   support\n",
      "\n",
      "           0       0.00      0.00      0.00       218\n",
      "           1       0.37      1.00      0.54       130\n",
      "\n",
      "    accuracy                           0.37       348\n",
      "   macro avg       0.19      0.50      0.27       348\n",
      "weighted avg       0.14      0.37      0.20       348\n",
      "\n"
     ]
    },
    {
     "name": "stderr",
     "output_type": "stream",
     "text": [
      "100%|██████████| 29/29 [00:10<00:00,  2.89it/s]\n"
     ]
    },
    {
     "name": "stdout",
     "output_type": "stream",
     "text": [
      "Epoch 4/50 - Train Loss: 0.3529 - Train Fbeta: 0.7424\n",
      "Valid Loss: 1.0820 - Valid Fbeta: 0.4955 - Valid MCC: 0.32058205832704334\n",
      "              precision    recall  f1-score   support\n",
      "\n",
      "           0       0.67      1.00      0.80       218\n",
      "           1       0.96      0.17      0.29       130\n",
      "\n",
      "    accuracy                           0.69       348\n",
      "   macro avg       0.81      0.58      0.54       348\n",
      "weighted avg       0.78      0.69      0.61       348\n",
      "\n",
      "Updated best model: epoch 4\n"
     ]
    },
    {
     "name": "stderr",
     "output_type": "stream",
     "text": [
      "100%|██████████| 29/29 [00:10<00:00,  2.89it/s]\n"
     ]
    },
    {
     "name": "stdout",
     "output_type": "stream",
     "text": [
      "Epoch 5/50 - Train Loss: 0.2965 - Train Fbeta: 0.7639\n",
      "Valid Loss: 0.7904 - Valid Fbeta: 0.5645 - Valid MCC: 0.3220150842223363\n",
      "              precision    recall  f1-score   support\n",
      "\n",
      "           0       0.69      0.95      0.80       218\n",
      "           1       0.78      0.27      0.40       130\n",
      "\n",
      "    accuracy                           0.70       348\n",
      "   macro avg       0.73      0.61      0.60       348\n",
      "weighted avg       0.72      0.70      0.65       348\n",
      "\n",
      "Updated best model: epoch 5\n"
     ]
    },
    {
     "name": "stderr",
     "output_type": "stream",
     "text": [
      "100%|██████████| 29/29 [00:10<00:00,  2.89it/s]\n"
     ]
    },
    {
     "name": "stdout",
     "output_type": "stream",
     "text": [
      "Epoch 6/50 - Train Loss: 0.2246 - Train Fbeta: 0.7845\n",
      "Valid Loss: 0.8429 - Valid Fbeta: 0.6470 - Valid MCC: 0.4301307851302884\n",
      "              precision    recall  f1-score   support\n",
      "\n",
      "           0       0.78      0.80      0.79       218\n",
      "           1       0.65      0.62      0.64       130\n",
      "\n",
      "    accuracy                           0.74       348\n",
      "   macro avg       0.72      0.71      0.71       348\n",
      "weighted avg       0.73      0.74      0.73       348\n",
      "\n",
      "Updated best model: epoch 6\n"
     ]
    },
    {
     "name": "stderr",
     "output_type": "stream",
     "text": [
      "100%|██████████| 29/29 [00:10<00:00,  2.88it/s]\n"
     ]
    },
    {
     "name": "stdout",
     "output_type": "stream",
     "text": [
      "Epoch 7/50 - Train Loss: 0.2282 - Train Fbeta: 0.8005\n",
      "Valid Loss: 1.0223 - Valid Fbeta: 0.5287 - Valid MCC: 0.29396868758630984\n",
      "              precision    recall  f1-score   support\n",
      "\n",
      "           0       0.80      0.50      0.62       218\n",
      "           1       0.49      0.79      0.60       130\n",
      "\n",
      "    accuracy                           0.61       348\n",
      "   macro avg       0.65      0.65      0.61       348\n",
      "weighted avg       0.69      0.61      0.61       348\n",
      "\n"
     ]
    },
    {
     "name": "stderr",
     "output_type": "stream",
     "text": [
      "100%|██████████| 29/29 [00:10<00:00,  2.88it/s]\n"
     ]
    },
    {
     "name": "stdout",
     "output_type": "stream",
     "text": [
      "Epoch 8/50 - Train Loss: 0.2045 - Train Fbeta: 0.8140\n",
      "Valid Loss: 1.8174 - Valid Fbeta: 0.3738 - Valid MCC: 0.20343653232468653\n",
      "              precision    recall  f1-score   support\n",
      "\n",
      "           0       0.65      0.98      0.78       218\n",
      "           1       0.76      0.12      0.21       130\n",
      "\n",
      "    accuracy                           0.66       348\n",
      "   macro avg       0.71      0.55      0.50       348\n",
      "weighted avg       0.69      0.66      0.57       348\n",
      "\n"
     ]
    },
    {
     "name": "stderr",
     "output_type": "stream",
     "text": [
      "100%|██████████| 29/29 [00:10<00:00,  2.89it/s]\n"
     ]
    },
    {
     "name": "stdout",
     "output_type": "stream",
     "text": [
      "Epoch 9/50 - Train Loss: 0.1836 - Train Fbeta: 0.8244\n",
      "Valid Loss: 0.7986 - Valid Fbeta: 0.7741 - Valid MCC: 0.5507131059890218\n",
      "              precision    recall  f1-score   support\n",
      "\n",
      "           0       0.76      0.98      0.85       218\n",
      "           1       0.92      0.47      0.62       130\n",
      "\n",
      "    accuracy                           0.79       348\n",
      "   macro avg       0.84      0.72      0.74       348\n",
      "weighted avg       0.82      0.79      0.77       348\n",
      "\n",
      "Updated best model: epoch 9\n"
     ]
    },
    {
     "name": "stderr",
     "output_type": "stream",
     "text": [
      "100%|██████████| 29/29 [00:10<00:00,  2.88it/s]\n"
     ]
    },
    {
     "name": "stdout",
     "output_type": "stream",
     "text": [
      "Epoch 10/50 - Train Loss: 0.1077 - Train Fbeta: 0.8374\n",
      "Valid Loss: 0.9664 - Valid Fbeta: 0.7667 - Valid MCC: 0.5522168152386769\n",
      "              precision    recall  f1-score   support\n",
      "\n",
      "           0       0.77      0.95      0.85       218\n",
      "           1       0.86      0.53      0.66       130\n",
      "\n",
      "    accuracy                           0.79       348\n",
      "   macro avg       0.82      0.74      0.75       348\n",
      "weighted avg       0.81      0.79      0.78       348\n",
      "\n"
     ]
    },
    {
     "name": "stderr",
     "output_type": "stream",
     "text": [
      "100%|██████████| 29/29 [00:10<00:00,  2.89it/s]\n"
     ]
    },
    {
     "name": "stdout",
     "output_type": "stream",
     "text": [
      "Epoch 11/50 - Train Loss: 0.1826 - Train Fbeta: 0.8435\n",
      "Valid Loss: 0.7622 - Valid Fbeta: 0.7326 - Valid MCC: 0.5053839194886307\n",
      "              precision    recall  f1-score   support\n",
      "\n",
      "           0       0.75      0.94      0.84       218\n",
      "           1       0.84      0.48      0.61       130\n",
      "\n",
      "    accuracy                           0.77       348\n",
      "   macro avg       0.80      0.71      0.73       348\n",
      "weighted avg       0.79      0.77      0.76       348\n",
      "\n"
     ]
    },
    {
     "name": "stderr",
     "output_type": "stream",
     "text": [
      "100%|██████████| 29/29 [00:10<00:00,  2.88it/s]\n"
     ]
    },
    {
     "name": "stdout",
     "output_type": "stream",
     "text": [
      "Epoch 12/50 - Train Loss: 0.1277 - Train Fbeta: 0.8520\n",
      "Valid Loss: 1.6353 - Valid Fbeta: 0.6522 - Valid MCC: 0.41462501445420574\n",
      "              precision    recall  f1-score   support\n",
      "\n",
      "           0       0.71      0.97      0.82       218\n",
      "           1       0.88      0.32      0.47       130\n",
      "\n",
      "    accuracy                           0.73       348\n",
      "   macro avg       0.79      0.65      0.65       348\n",
      "weighted avg       0.77      0.73      0.69       348\n",
      "\n"
     ]
    },
    {
     "name": "stderr",
     "output_type": "stream",
     "text": [
      "100%|██████████| 29/29 [00:10<00:00,  2.88it/s]\n"
     ]
    },
    {
     "name": "stdout",
     "output_type": "stream",
     "text": [
      "Epoch 13/50 - Train Loss: 0.1083 - Train Fbeta: 0.8598\n",
      "Valid Loss: 1.0422 - Valid Fbeta: 0.7277 - Valid MCC: 0.4987637047228007\n",
      "              precision    recall  f1-score   support\n",
      "\n",
      "           0       0.75      0.94      0.84       218\n",
      "           1       0.84      0.48      0.61       130\n",
      "\n",
      "    accuracy                           0.77       348\n",
      "   macro avg       0.79      0.71      0.72       348\n",
      "weighted avg       0.78      0.77      0.75       348\n",
      "\n"
     ]
    },
    {
     "name": "stderr",
     "output_type": "stream",
     "text": [
      "100%|██████████| 29/29 [00:10<00:00,  2.89it/s]\n"
     ]
    },
    {
     "name": "stdout",
     "output_type": "stream",
     "text": [
      "Epoch 14/50 - Train Loss: 0.0850 - Train Fbeta: 0.8675\n",
      "Valid Loss: 0.9383 - Valid Fbeta: 0.7759 - Valid MCC: 0.5862586932381382\n",
      "              precision    recall  f1-score   support\n",
      "\n",
      "           0       0.80      0.92      0.86       218\n",
      "           1       0.83      0.62      0.71       130\n",
      "\n",
      "    accuracy                           0.81       348\n",
      "   macro avg       0.82      0.77      0.78       348\n",
      "weighted avg       0.81      0.81      0.80       348\n",
      "\n",
      "Updated best model: epoch 14\n"
     ]
    },
    {
     "name": "stderr",
     "output_type": "stream",
     "text": [
      "100%|██████████| 29/29 [00:10<00:00,  2.88it/s]\n"
     ]
    },
    {
     "name": "stdout",
     "output_type": "stream",
     "text": [
      "Epoch 15/50 - Train Loss: 0.0633 - Train Fbeta: 0.8743\n",
      "Valid Loss: 0.7434 - Valid Fbeta: 0.7551 - Valid MCC: 0.5477811841001434\n",
      "              precision    recall  f1-score   support\n",
      "\n",
      "           0       0.78      0.93      0.85       218\n",
      "           1       0.82      0.57      0.67       130\n",
      "\n",
      "    accuracy                           0.79       348\n",
      "   macro avg       0.80      0.75      0.76       348\n",
      "weighted avg       0.80      0.79      0.78       348\n",
      "\n"
     ]
    },
    {
     "name": "stderr",
     "output_type": "stream",
     "text": [
      "100%|██████████| 29/29 [00:10<00:00,  2.89it/s]\n"
     ]
    },
    {
     "name": "stdout",
     "output_type": "stream",
     "text": [
      "Epoch 16/50 - Train Loss: 0.0959 - Train Fbeta: 0.8800\n",
      "Valid Loss: 0.8380 - Valid Fbeta: 0.6848 - Valid MCC: 0.5463171026846079\n",
      "              precision    recall  f1-score   support\n",
      "\n",
      "           0       0.87      0.75      0.80       218\n",
      "           1       0.66      0.82      0.73       130\n",
      "\n",
      "    accuracy                           0.77       348\n",
      "   macro avg       0.77      0.78      0.77       348\n",
      "weighted avg       0.79      0.77      0.78       348\n",
      "\n"
     ]
    },
    {
     "name": "stderr",
     "output_type": "stream",
     "text": [
      "100%|██████████| 29/29 [00:10<00:00,  2.89it/s]\n"
     ]
    },
    {
     "name": "stdout",
     "output_type": "stream",
     "text": [
      "Epoch 17/50 - Train Loss: 0.0599 - Train Fbeta: 0.8856\n",
      "Valid Loss: 1.7824 - Valid Fbeta: 0.6902 - Valid MCC: 0.45591318992380025\n",
      "              precision    recall  f1-score   support\n",
      "\n",
      "           0       0.72      0.98      0.83       218\n",
      "           1       0.92      0.35      0.50       130\n",
      "\n",
      "    accuracy                           0.74       348\n",
      "   macro avg       0.82      0.66      0.67       348\n",
      "weighted avg       0.79      0.74      0.71       348\n",
      "\n"
     ]
    },
    {
     "name": "stderr",
     "output_type": "stream",
     "text": [
      "100%|██████████| 29/29 [00:10<00:00,  2.88it/s]\n"
     ]
    },
    {
     "name": "stdout",
     "output_type": "stream",
     "text": [
      "Epoch 18/50 - Train Loss: 0.0718 - Train Fbeta: 0.8907\n",
      "Valid Loss: 0.7730 - Valid Fbeta: 0.7163 - Valid MCC: 0.5675110823746576\n",
      "              precision    recall  f1-score   support\n",
      "\n",
      "           0       0.85      0.81      0.83       218\n",
      "           1       0.70      0.77      0.74       130\n",
      "\n",
      "    accuracy                           0.79       348\n",
      "   macro avg       0.78      0.79      0.78       348\n",
      "weighted avg       0.80      0.79      0.79       348\n",
      "\n"
     ]
    },
    {
     "name": "stderr",
     "output_type": "stream",
     "text": [
      "100%|██████████| 29/29 [00:10<00:00,  2.89it/s]\n"
     ]
    },
    {
     "name": "stdout",
     "output_type": "stream",
     "text": [
      "Epoch 19/50 - Train Loss: 0.0512 - Train Fbeta: 0.8955\n",
      "Valid Loss: 0.7831 - Valid Fbeta: 0.7445 - Valid MCC: 0.5868134747891307\n",
      "              precision    recall  f1-score   support\n",
      "\n",
      "           0       0.84      0.85      0.85       218\n",
      "           1       0.75      0.73      0.74       130\n",
      "\n",
      "    accuracy                           0.81       348\n",
      "   macro avg       0.79      0.79      0.79       348\n",
      "weighted avg       0.81      0.81      0.81       348\n",
      "\n"
     ]
    },
    {
     "name": "stderr",
     "output_type": "stream",
     "text": [
      "100%|██████████| 29/29 [00:10<00:00,  2.88it/s]\n"
     ]
    },
    {
     "name": "stdout",
     "output_type": "stream",
     "text": [
      "Epoch 20/50 - Train Loss: 0.0397 - Train Fbeta: 0.9002\n",
      "Valid Loss: 0.9138 - Valid Fbeta: 0.7397 - Valid MCC: 0.5401393729408951\n",
      "              precision    recall  f1-score   support\n",
      "\n",
      "           0       0.79      0.90      0.84       218\n",
      "           1       0.78      0.61      0.68       130\n",
      "\n",
      "    accuracy                           0.79       348\n",
      "   macro avg       0.79      0.75      0.76       348\n",
      "weighted avg       0.79      0.79      0.78       348\n",
      "\n"
     ]
    },
    {
     "name": "stderr",
     "output_type": "stream",
     "text": [
      "100%|██████████| 29/29 [00:10<00:00,  2.89it/s]\n"
     ]
    },
    {
     "name": "stdout",
     "output_type": "stream",
     "text": [
      "Epoch 21/50 - Train Loss: 0.0381 - Train Fbeta: 0.9041\n",
      "Valid Loss: 0.8902 - Valid Fbeta: 0.7254 - Valid MCC: 0.5883878158124556\n",
      "              precision    recall  f1-score   support\n",
      "\n",
      "           0       0.87      0.81      0.84       218\n",
      "           1       0.71      0.79      0.75       130\n",
      "\n",
      "    accuracy                           0.80       348\n",
      "   macro avg       0.79      0.80      0.79       348\n",
      "weighted avg       0.81      0.80      0.80       348\n",
      "\n"
     ]
    },
    {
     "name": "stderr",
     "output_type": "stream",
     "text": [
      "100%|██████████| 29/29 [00:10<00:00,  2.88it/s]\n"
     ]
    },
    {
     "name": "stdout",
     "output_type": "stream",
     "text": [
      "Epoch 22/50 - Train Loss: 0.0362 - Train Fbeta: 0.9078\n",
      "Valid Loss: 1.1461 - Valid Fbeta: 0.6015 - Valid MCC: 0.43687051630926477\n",
      "              precision    recall  f1-score   support\n",
      "\n",
      "           0       0.86      0.61      0.72       218\n",
      "           1       0.56      0.84      0.67       130\n",
      "\n",
      "    accuracy                           0.70       348\n",
      "   macro avg       0.71      0.72      0.69       348\n",
      "weighted avg       0.75      0.70      0.70       348\n",
      "\n"
     ]
    },
    {
     "name": "stderr",
     "output_type": "stream",
     "text": [
      "100%|██████████| 29/29 [00:10<00:00,  2.88it/s]\n"
     ]
    },
    {
     "name": "stdout",
     "output_type": "stream",
     "text": [
      "Epoch 23/50 - Train Loss: 0.0373 - Train Fbeta: 0.9112\n",
      "Valid Loss: 0.8496 - Valid Fbeta: 0.7008 - Valid MCC: 0.5606320797422509\n",
      "              precision    recall  f1-score   support\n",
      "\n",
      "           0       0.87      0.78      0.82       218\n",
      "           1       0.68      0.80      0.73       130\n",
      "\n",
      "    accuracy                           0.78       348\n",
      "   macro avg       0.77      0.79      0.78       348\n",
      "weighted avg       0.80      0.78      0.79       348\n",
      "\n"
     ]
    },
    {
     "name": "stderr",
     "output_type": "stream",
     "text": [
      "100%|██████████| 29/29 [00:10<00:00,  2.89it/s]\n"
     ]
    },
    {
     "name": "stdout",
     "output_type": "stream",
     "text": [
      "Epoch 24/50 - Train Loss: 0.0269 - Train Fbeta: 0.9144\n",
      "Valid Loss: 1.0660 - Valid Fbeta: 0.7762 - Valid MCC: 0.5989053631302961\n",
      "              precision    recall  f1-score   support\n",
      "\n",
      "           0       0.82      0.91      0.86       218\n",
      "           1       0.81      0.66      0.73       130\n",
      "\n",
      "    accuracy                           0.82       348\n",
      "   macro avg       0.81      0.78      0.79       348\n",
      "weighted avg       0.82      0.82      0.81       348\n",
      "\n",
      "Updated best model: epoch 24\n"
     ]
    },
    {
     "name": "stderr",
     "output_type": "stream",
     "text": [
      "100%|██████████| 29/29 [00:10<00:00,  2.89it/s]\n"
     ]
    },
    {
     "name": "stdout",
     "output_type": "stream",
     "text": [
      "Epoch 25/50 - Train Loss: 0.0384 - Train Fbeta: 0.9173\n",
      "Valid Loss: 1.4421 - Valid Fbeta: 0.7379 - Valid MCC: 0.5164599359208939\n",
      "              precision    recall  f1-score   support\n",
      "\n",
      "           0       0.76      0.94      0.84       218\n",
      "           1       0.83      0.52      0.64       130\n",
      "\n",
      "    accuracy                           0.78       348\n",
      "   macro avg       0.80      0.73      0.74       348\n",
      "weighted avg       0.79      0.78      0.76       348\n",
      "\n"
     ]
    },
    {
     "name": "stderr",
     "output_type": "stream",
     "text": [
      "100%|██████████| 29/29 [00:10<00:00,  2.89it/s]\n"
     ]
    },
    {
     "name": "stdout",
     "output_type": "stream",
     "text": [
      "Epoch 26/50 - Train Loss: 0.0653 - Train Fbeta: 0.9194\n",
      "Valid Loss: 1.0176 - Valid Fbeta: 0.6264 - Valid MCC: 0.47825854897255116\n",
      "              precision    recall  f1-score   support\n",
      "\n",
      "           0       0.88      0.65      0.74       218\n",
      "           1       0.59      0.85      0.69       130\n",
      "\n",
      "    accuracy                           0.72       348\n",
      "   macro avg       0.73      0.75      0.72       348\n",
      "weighted avg       0.77      0.72      0.73       348\n",
      "\n"
     ]
    },
    {
     "name": "stderr",
     "output_type": "stream",
     "text": [
      "100%|██████████| 29/29 [00:10<00:00,  2.88it/s]\n"
     ]
    },
    {
     "name": "stdout",
     "output_type": "stream",
     "text": [
      "Epoch 27/50 - Train Loss: 0.0680 - Train Fbeta: 0.9213\n",
      "Valid Loss: 0.8427 - Valid Fbeta: 0.7558 - Valid MCC: 0.5887462407398817\n",
      "              precision    recall  f1-score   support\n",
      "\n",
      "           0       0.83      0.88      0.85       218\n",
      "           1       0.77      0.70      0.73       130\n",
      "\n",
      "    accuracy                           0.81       348\n",
      "   macro avg       0.80      0.79      0.79       348\n",
      "weighted avg       0.81      0.81      0.81       348\n",
      "\n"
     ]
    },
    {
     "name": "stderr",
     "output_type": "stream",
     "text": [
      "100%|██████████| 29/29 [00:10<00:00,  2.89it/s]\n"
     ]
    },
    {
     "name": "stdout",
     "output_type": "stream",
     "text": [
      "Epoch 28/50 - Train Loss: 0.0381 - Train Fbeta: 0.9235\n",
      "Valid Loss: 0.8450 - Valid Fbeta: 0.7378 - Valid MCC: 0.603770664381949\n",
      "              precision    recall  f1-score   support\n",
      "\n",
      "           0       0.87      0.82      0.84       218\n",
      "           1       0.73      0.79      0.76       130\n",
      "\n",
      "    accuracy                           0.81       348\n",
      "   macro avg       0.80      0.81      0.80       348\n",
      "weighted avg       0.82      0.81      0.81       348\n",
      "\n"
     ]
    },
    {
     "name": "stderr",
     "output_type": "stream",
     "text": [
      "100%|██████████| 29/29 [00:10<00:00,  2.88it/s]\n"
     ]
    },
    {
     "name": "stdout",
     "output_type": "stream",
     "text": [
      "Epoch 29/50 - Train Loss: 0.0491 - Train Fbeta: 0.9254\n",
      "Valid Loss: 0.9402 - Valid Fbeta: 0.7932 - Valid MCC: 0.6011925118410592\n",
      "              precision    recall  f1-score   support\n",
      "\n",
      "           0       0.80      0.94      0.86       218\n",
      "           1       0.86      0.61      0.71       130\n",
      "\n",
      "    accuracy                           0.82       348\n",
      "   macro avg       0.83      0.77      0.79       348\n",
      "weighted avg       0.82      0.82      0.81       348\n",
      "\n",
      "Updated best model: epoch 29\n"
     ]
    },
    {
     "name": "stderr",
     "output_type": "stream",
     "text": [
      "100%|██████████| 29/29 [00:10<00:00,  2.89it/s]\n"
     ]
    },
    {
     "name": "stdout",
     "output_type": "stream",
     "text": [
      "Epoch 30/50 - Train Loss: 0.0724 - Train Fbeta: 0.9267\n",
      "Valid Loss: 0.9925 - Valid Fbeta: 0.7925 - Valid MCC: 0.6122746386337018\n",
      "              precision    recall  f1-score   support\n",
      "\n",
      "           0       0.81      0.93      0.87       218\n",
      "           1       0.84      0.65      0.73       130\n",
      "\n",
      "    accuracy                           0.82       348\n",
      "   macro avg       0.83      0.79      0.80       348\n",
      "weighted avg       0.82      0.82      0.82       348\n",
      "\n"
     ]
    },
    {
     "name": "stderr",
     "output_type": "stream",
     "text": [
      "100%|██████████| 29/29 [00:10<00:00,  2.88it/s]\n"
     ]
    },
    {
     "name": "stdout",
     "output_type": "stream",
     "text": [
      "Epoch 31/50 - Train Loss: 0.0472 - Train Fbeta: 0.9284\n",
      "Valid Loss: 1.0095 - Valid Fbeta: 0.7053 - Valid MCC: 0.5251182816693067\n",
      "              precision    recall  f1-score   support\n",
      "\n",
      "           0       0.82      0.83      0.82       218\n",
      "           1       0.71      0.69      0.70       130\n",
      "\n",
      "    accuracy                           0.78       348\n",
      "   macro avg       0.76      0.76      0.76       348\n",
      "weighted avg       0.78      0.78      0.78       348\n",
      "\n"
     ]
    },
    {
     "name": "stderr",
     "output_type": "stream",
     "text": [
      "100%|██████████| 29/29 [00:10<00:00,  2.88it/s]\n"
     ]
    },
    {
     "name": "stdout",
     "output_type": "stream",
     "text": [
      "Epoch 32/50 - Train Loss: 0.0247 - Train Fbeta: 0.9302\n",
      "Valid Loss: 0.9540 - Valid Fbeta: 0.6323 - Valid MCC: 0.4801782707134225\n",
      "              precision    recall  f1-score   support\n",
      "\n",
      "           0       0.87      0.67      0.75       218\n",
      "           1       0.60      0.83      0.69       130\n",
      "\n",
      "    accuracy                           0.73       348\n",
      "   macro avg       0.73      0.75      0.72       348\n",
      "weighted avg       0.77      0.73      0.73       348\n",
      "\n"
     ]
    },
    {
     "name": "stderr",
     "output_type": "stream",
     "text": [
      "100%|██████████| 29/29 [00:10<00:00,  2.88it/s]\n"
     ]
    },
    {
     "name": "stdout",
     "output_type": "stream",
     "text": [
      "Epoch 33/50 - Train Loss: 0.0269 - Train Fbeta: 0.9320\n",
      "Valid Loss: 1.1003 - Valid Fbeta: 0.7621 - Valid MCC: 0.5728515431209227\n",
      "              precision    recall  f1-score   support\n",
      "\n",
      "           0       0.80      0.91      0.85       218\n",
      "           1       0.80      0.63      0.71       130\n",
      "\n",
      "    accuracy                           0.80       348\n",
      "   macro avg       0.80      0.77      0.78       348\n",
      "weighted avg       0.80      0.80      0.80       348\n",
      "\n"
     ]
    },
    {
     "name": "stderr",
     "output_type": "stream",
     "text": [
      "100%|██████████| 29/29 [00:10<00:00,  2.89it/s]\n"
     ]
    },
    {
     "name": "stdout",
     "output_type": "stream",
     "text": [
      "Epoch 34/50 - Train Loss: 0.0243 - Train Fbeta: 0.9337\n",
      "Valid Loss: 0.8719 - Valid Fbeta: 0.7712 - Valid MCC: 0.606676981453716\n",
      "              precision    recall  f1-score   support\n",
      "\n",
      "           0       0.83      0.89      0.86       218\n",
      "           1       0.79      0.70      0.74       130\n",
      "\n",
      "    accuracy                           0.82       348\n",
      "   macro avg       0.81      0.79      0.80       348\n",
      "weighted avg       0.82      0.82      0.82       348\n",
      "\n"
     ]
    },
    {
     "name": "stderr",
     "output_type": "stream",
     "text": [
      "100%|██████████| 29/29 [00:10<00:00,  2.89it/s]\n"
     ]
    },
    {
     "name": "stdout",
     "output_type": "stream",
     "text": [
      "Epoch 35/50 - Train Loss: 0.0153 - Train Fbeta: 0.9355\n",
      "Valid Loss: 1.0003 - Valid Fbeta: 0.7692 - Valid MCC: 0.6316160903316866\n",
      "              precision    recall  f1-score   support\n",
      "\n",
      "           0       0.86      0.86      0.86       218\n",
      "           1       0.77      0.77      0.77       130\n",
      "\n",
      "    accuracy                           0.83       348\n",
      "   macro avg       0.82      0.82      0.82       348\n",
      "weighted avg       0.83      0.83      0.83       348\n",
      "\n"
     ]
    },
    {
     "name": "stderr",
     "output_type": "stream",
     "text": [
      "100%|██████████| 29/29 [00:10<00:00,  2.88it/s]\n"
     ]
    },
    {
     "name": "stdout",
     "output_type": "stream",
     "text": [
      "Epoch 36/50 - Train Loss: 0.0091 - Train Fbeta: 0.9373\n",
      "Valid Loss: 1.0235 - Valid Fbeta: 0.7478 - Valid MCC: 0.6125992470120936\n",
      "              precision    recall  f1-score   support\n",
      "\n",
      "           0       0.87      0.83      0.85       218\n",
      "           1       0.74      0.78      0.76       130\n",
      "\n",
      "    accuracy                           0.82       348\n",
      "   macro avg       0.80      0.81      0.81       348\n",
      "weighted avg       0.82      0.82      0.82       348\n",
      "\n"
     ]
    },
    {
     "name": "stderr",
     "output_type": "stream",
     "text": [
      "100%|██████████| 29/29 [00:10<00:00,  2.89it/s]\n"
     ]
    },
    {
     "name": "stdout",
     "output_type": "stream",
     "text": [
      "Epoch 37/50 - Train Loss: 0.0080 - Train Fbeta: 0.9389\n",
      "Valid Loss: 1.2156 - Valid Fbeta: 0.7795 - Valid MCC: 0.5927081900998996\n",
      "              precision    recall  f1-score   support\n",
      "\n",
      "           0       0.81      0.92      0.86       218\n",
      "           1       0.83      0.63      0.72       130\n",
      "\n",
      "    accuracy                           0.81       348\n",
      "   macro avg       0.82      0.78      0.79       348\n",
      "weighted avg       0.82      0.81      0.81       348\n",
      "\n"
     ]
    },
    {
     "name": "stderr",
     "output_type": "stream",
     "text": [
      "100%|██████████| 29/29 [00:10<00:00,  2.89it/s]\n"
     ]
    },
    {
     "name": "stdout",
     "output_type": "stream",
     "text": [
      "Epoch 38/50 - Train Loss: 0.0165 - Train Fbeta: 0.9403\n",
      "Valid Loss: 1.0233 - Valid Fbeta: 0.7492 - Valid MCC: 0.5924263454828674\n",
      "              precision    recall  f1-score   support\n",
      "\n",
      "           0       0.84      0.86      0.85       218\n",
      "           1       0.75      0.73      0.74       130\n",
      "\n",
      "    accuracy                           0.81       348\n",
      "   macro avg       0.80      0.79      0.80       348\n",
      "weighted avg       0.81      0.81      0.81       348\n",
      "\n"
     ]
    },
    {
     "name": "stderr",
     "output_type": "stream",
     "text": [
      "100%|██████████| 29/29 [00:10<00:00,  2.89it/s]\n"
     ]
    },
    {
     "name": "stdout",
     "output_type": "stream",
     "text": [
      "Epoch 39/50 - Train Loss: 0.0104 - Train Fbeta: 0.9418\n",
      "Valid Loss: 1.4285 - Valid Fbeta: 0.8233 - Valid MCC: 0.6416023098298607\n",
      "              precision    recall  f1-score   support\n",
      "\n",
      "           0       0.81      0.95      0.88       218\n",
      "           1       0.89      0.63      0.74       130\n",
      "\n",
      "    accuracy                           0.83       348\n",
      "   macro avg       0.85      0.79      0.81       348\n",
      "weighted avg       0.84      0.83      0.83       348\n",
      "\n",
      "Updated best model: epoch 39\n"
     ]
    },
    {
     "name": "stderr",
     "output_type": "stream",
     "text": [
      "100%|██████████| 29/29 [00:10<00:00,  2.88it/s]\n"
     ]
    },
    {
     "name": "stdout",
     "output_type": "stream",
     "text": [
      "Epoch 40/50 - Train Loss: 0.0150 - Train Fbeta: 0.9431\n",
      "Valid Loss: 1.6215 - Valid Fbeta: 0.8260 - Valid MCC: 0.6289129674869637\n",
      "              precision    recall  f1-score   support\n",
      "\n",
      "           0       0.79      0.97      0.87       218\n",
      "           1       0.93      0.58      0.71       130\n",
      "\n",
      "    accuracy                           0.82       348\n",
      "   macro avg       0.86      0.77      0.79       348\n",
      "weighted avg       0.84      0.82      0.81       348\n",
      "\n",
      "Updated best model: epoch 40\n"
     ]
    },
    {
     "name": "stderr",
     "output_type": "stream",
     "text": [
      "100%|██████████| 29/29 [00:10<00:00,  2.89it/s]\n"
     ]
    },
    {
     "name": "stdout",
     "output_type": "stream",
     "text": [
      "Epoch 41/50 - Train Loss: 0.0128 - Train Fbeta: 0.9443\n",
      "Valid Loss: 1.0451 - Valid Fbeta: 0.7975 - Valid MCC: 0.6311456663201523\n",
      "              precision    recall  f1-score   support\n",
      "\n",
      "           0       0.83      0.92      0.87       218\n",
      "           1       0.83      0.68      0.75       130\n",
      "\n",
      "    accuracy                           0.83       348\n",
      "   macro avg       0.83      0.80      0.81       348\n",
      "weighted avg       0.83      0.83      0.83       348\n",
      "\n"
     ]
    },
    {
     "name": "stderr",
     "output_type": "stream",
     "text": [
      "100%|██████████| 29/29 [00:10<00:00,  2.89it/s]\n"
     ]
    },
    {
     "name": "stdout",
     "output_type": "stream",
     "text": [
      "Epoch 42/50 - Train Loss: 0.0084 - Train Fbeta: 0.9456\n",
      "Valid Loss: 1.4865 - Valid Fbeta: 0.8097 - Valid MCC: 0.6218765078818351\n",
      "              precision    recall  f1-score   support\n",
      "\n",
      "           0       0.81      0.95      0.87       218\n",
      "           1       0.88      0.62      0.72       130\n",
      "\n",
      "    accuracy                           0.82       348\n",
      "   macro avg       0.84      0.78      0.80       348\n",
      "weighted avg       0.83      0.82      0.82       348\n",
      "\n"
     ]
    },
    {
     "name": "stderr",
     "output_type": "stream",
     "text": [
      "100%|██████████| 29/29 [00:10<00:00,  2.89it/s]\n"
     ]
    },
    {
     "name": "stdout",
     "output_type": "stream",
     "text": [
      "Epoch 43/50 - Train Loss: 0.0101 - Train Fbeta: 0.9468\n",
      "Valid Loss: 1.0336 - Valid Fbeta: 0.7492 - Valid MCC: 0.5924263454828674\n",
      "              precision    recall  f1-score   support\n",
      "\n",
      "           0       0.84      0.86      0.85       218\n",
      "           1       0.75      0.73      0.74       130\n",
      "\n",
      "    accuracy                           0.81       348\n",
      "   macro avg       0.80      0.79      0.80       348\n",
      "weighted avg       0.81      0.81      0.81       348\n",
      "\n"
     ]
    },
    {
     "name": "stderr",
     "output_type": "stream",
     "text": [
      "100%|██████████| 29/29 [00:10<00:00,  2.89it/s]\n"
     ]
    },
    {
     "name": "stdout",
     "output_type": "stream",
     "text": [
      "Epoch 44/50 - Train Loss: 0.0081 - Train Fbeta: 0.9479\n",
      "Valid Loss: 1.1391 - Valid Fbeta: 0.7571 - Valid MCC: 0.6047863195972583\n",
      "              precision    recall  f1-score   support\n",
      "\n",
      "           0       0.85      0.86      0.85       218\n",
      "           1       0.76      0.74      0.75       130\n",
      "\n",
      "    accuracy                           0.82       348\n",
      "   macro avg       0.80      0.80      0.80       348\n",
      "weighted avg       0.82      0.82      0.82       348\n",
      "\n"
     ]
    },
    {
     "name": "stderr",
     "output_type": "stream",
     "text": [
      "100%|██████████| 29/29 [00:10<00:00,  2.88it/s]\n"
     ]
    },
    {
     "name": "stdout",
     "output_type": "stream",
     "text": [
      "Epoch 45/50 - Train Loss: 0.0222 - Train Fbeta: 0.9489\n",
      "Valid Loss: 1.7613 - Valid Fbeta: 0.7442 - Valid MCC: 0.5198305766253191\n",
      "              precision    recall  f1-score   support\n",
      "\n",
      "           0       0.76      0.95      0.84       218\n",
      "           1       0.85      0.49      0.62       130\n",
      "\n",
      "    accuracy                           0.78       348\n",
      "   macro avg       0.81      0.72      0.73       348\n",
      "weighted avg       0.79      0.78      0.76       348\n",
      "\n"
     ]
    },
    {
     "name": "stderr",
     "output_type": "stream",
     "text": [
      "100%|██████████| 29/29 [00:10<00:00,  2.89it/s]\n"
     ]
    },
    {
     "name": "stdout",
     "output_type": "stream",
     "text": [
      "Epoch 46/50 - Train Loss: 0.0077 - Train Fbeta: 0.9500\n",
      "Valid Loss: 1.3056 - Valid Fbeta: 0.7915 - Valid MCC: 0.6062951031056054\n",
      "              precision    recall  f1-score   support\n",
      "\n",
      "           0       0.81      0.93      0.87       218\n",
      "           1       0.85      0.63      0.72       130\n",
      "\n",
      "    accuracy                           0.82       348\n",
      "   macro avg       0.83      0.78      0.79       348\n",
      "weighted avg       0.82      0.82      0.81       348\n",
      "\n"
     ]
    },
    {
     "name": "stderr",
     "output_type": "stream",
     "text": [
      "100%|██████████| 29/29 [00:10<00:00,  2.88it/s]\n"
     ]
    },
    {
     "name": "stdout",
     "output_type": "stream",
     "text": [
      "Epoch 47/50 - Train Loss: 0.0092 - Train Fbeta: 0.9509\n",
      "Valid Loss: 1.1107 - Valid Fbeta: 0.7655 - Valid MCC: 0.6086719662854201\n",
      "              precision    recall  f1-score   support\n",
      "\n",
      "           0       0.84      0.88      0.86       218\n",
      "           1       0.78      0.72      0.75       130\n",
      "\n",
      "    accuracy                           0.82       348\n",
      "   macro avg       0.81      0.80      0.80       348\n",
      "weighted avg       0.82      0.82      0.82       348\n",
      "\n"
     ]
    },
    {
     "name": "stderr",
     "output_type": "stream",
     "text": [
      "100%|██████████| 29/29 [00:10<00:00,  2.89it/s]\n"
     ]
    },
    {
     "name": "stdout",
     "output_type": "stream",
     "text": [
      "Epoch 48/50 - Train Loss: 0.0168 - Train Fbeta: 0.9518\n",
      "Valid Loss: 1.4202 - Valid Fbeta: 0.8039 - Valid MCC: 0.6201797046499385\n",
      "              precision    recall  f1-score   support\n",
      "\n",
      "           0       0.81      0.94      0.87       218\n",
      "           1       0.86      0.63      0.73       130\n",
      "\n",
      "    accuracy                           0.82       348\n",
      "   macro avg       0.84      0.79      0.80       348\n",
      "weighted avg       0.83      0.82      0.82       348\n",
      "\n"
     ]
    },
    {
     "name": "stderr",
     "output_type": "stream",
     "text": [
      "100%|██████████| 29/29 [00:10<00:00,  2.88it/s]\n"
     ]
    },
    {
     "name": "stdout",
     "output_type": "stream",
     "text": [
      "Epoch 49/50 - Train Loss: 0.0132 - Train Fbeta: 0.9528\n",
      "Valid Loss: 1.1211 - Valid Fbeta: 0.7235 - Valid MCC: 0.5473919635868973\n",
      "              precision    recall  f1-score   support\n",
      "\n",
      "           0       0.82      0.85      0.84       218\n",
      "           1       0.73      0.69      0.71       130\n",
      "\n",
      "    accuracy                           0.79       348\n",
      "   macro avg       0.78      0.77      0.77       348\n",
      "weighted avg       0.79      0.79      0.79       348\n",
      "\n"
     ]
    },
    {
     "name": "stderr",
     "output_type": "stream",
     "text": [
      "100%|██████████| 29/29 [00:10<00:00,  2.89it/s]\n"
     ]
    },
    {
     "name": "stdout",
     "output_type": "stream",
     "text": [
      "Epoch 50/50 - Train Loss: 0.0333 - Train Fbeta: 0.9535\n",
      "Valid Loss: 1.9468 - Valid Fbeta: 0.5648 - Valid MCC: 0.39637158366839337\n",
      "              precision    recall  f1-score   support\n",
      "\n",
      "           0       0.88      0.51      0.65       218\n",
      "           1       0.52      0.88      0.65       130\n",
      "\n",
      "    accuracy                           0.65       348\n",
      "   macro avg       0.70      0.70      0.65       348\n",
      "weighted avg       0.75      0.65      0.65       348\n",
      "\n",
      "Test model:\n",
      "Valid Loss: 1.5313 - Valid Fbeta: 0.8054 - Valid MCC: 0.6043441825539875\n",
      "              precision    recall  f1-score   support\n",
      "\n",
      "           0       0.79      0.96      0.87       436\n",
      "           1       0.90      0.57      0.70       261\n",
      "\n",
      "    accuracy                           0.81       697\n",
      "   macro avg       0.84      0.77      0.78       697\n",
      "weighted avg       0.83      0.81      0.80       697\n",
      "\n",
      "Test Loss: 1.5313 - Test Fbeta: 0.8054\n"
     ]
    }
   ],
   "source": [
    "resnet_model = Resnet50Model()\n",
    "criterion = nn.CrossEntropyLoss()\n",
    "optimizer = optim.Adam(resnet_model.parameters(), lr=LEARNING_RATE)\n",
    "model_path = \"model_results/resnet50_model_50.pt\"\n",
    "\n",
    "if os.path.isfile(model_path):\n",
    "    print(\"Evaluate model\")\n",
    "    resnet_model.load_state_dict(torch.load(model_path, map_location=torch.device(device)))\n",
    "    print(\"Validation data:\")\n",
    "    validate_model(resnet_model, validation_loader)\n",
    "    print(\"Test data:\")\n",
    "    validate_model(resnet_model, test_loader)\n",
    "else:\n",
    "    print(\"Train model\")\n",
    "    model, train_loss_values, train_f_beta_values, validation_loss_values, validation_f_beta_values = train(resnet_model, model_path, train_loader, validation_loader, test_loader, criterion, optimizer, 50)\n",
    "    np.save(\"model_results/resnet50_model_50_train_loss\", train_loss_values)\n",
    "    np.save(\"model_results/resnet50_model_50_train_f_beta\", train_f_beta_values)\n",
    "    np.save(\"model_results/resnet50_model_50_valid_loss\", validation_loss_values)\n",
    "    np.save(\"model_results/resnet50_model_50_valid_f_beta\", validation_f_beta_values)"
   ]
  },
  {
   "cell_type": "code",
   "execution_count": 15,
   "metadata": {
    "pycharm": {
     "name": "#%%\n"
    }
   },
   "outputs": [
    {
     "name": "stdout",
     "output_type": "stream",
     "text": [
      "Train model\n"
     ]
    },
    {
     "name": "stderr",
     "output_type": "stream",
     "text": [
      "100%|██████████| 29/29 [00:38<00:00,  1.32s/it]\n"
     ]
    },
    {
     "name": "stdout",
     "output_type": "stream",
     "text": [
      "Epoch 1/50 - Train Loss: 0.6851 - Train Fbeta: 0.3632\n"
     ]
    },
    {
     "name": "stderr",
     "output_type": "stream",
     "text": [
      "/opt/bwhpc/common/jupyter/tensorflow/2023-03-24/lib/python3.9/site-packages/sklearn/metrics/_classification.py:1344: UndefinedMetricWarning: Precision and F-score are ill-defined and being set to 0.0 in labels with no predicted samples. Use `zero_division` parameter to control this behavior.\n",
      "  _warn_prf(average, modifier, msg_start, len(result))\n",
      "/opt/bwhpc/common/jupyter/tensorflow/2023-03-24/lib/python3.9/site-packages/sklearn/metrics/_classification.py:1344: UndefinedMetricWarning: Precision and F-score are ill-defined and being set to 0.0 in labels with no predicted samples. Use `zero_division` parameter to control this behavior.\n",
      "  _warn_prf(average, modifier, msg_start, len(result))\n",
      "/opt/bwhpc/common/jupyter/tensorflow/2023-03-24/lib/python3.9/site-packages/sklearn/metrics/_classification.py:1344: UndefinedMetricWarning: Precision and F-score are ill-defined and being set to 0.0 in labels with no predicted samples. Use `zero_division` parameter to control this behavior.\n",
      "  _warn_prf(average, modifier, msg_start, len(result))\n"
     ]
    },
    {
     "name": "stdout",
     "output_type": "stream",
     "text": [
      "Valid Loss: 0.6808 - Valid Fbeta: 0.0000 - Valid MCC: 0.0\n",
      "              precision    recall  f1-score   support\n",
      "\n",
      "           0       0.63      1.00      0.77       218\n",
      "           1       0.00      0.00      0.00       130\n",
      "\n",
      "    accuracy                           0.63       348\n",
      "   macro avg       0.31      0.50      0.39       348\n",
      "weighted avg       0.39      0.63      0.48       348\n",
      "\n"
     ]
    },
    {
     "name": "stderr",
     "output_type": "stream",
     "text": [
      "100%|██████████| 29/29 [00:18<00:00,  1.57it/s]\n"
     ]
    },
    {
     "name": "stdout",
     "output_type": "stream",
     "text": [
      "Epoch 2/50 - Train Loss: 0.6712 - Train Fbeta: 0.4317\n"
     ]
    },
    {
     "name": "stderr",
     "output_type": "stream",
     "text": [
      "/opt/bwhpc/common/jupyter/tensorflow/2023-03-24/lib/python3.9/site-packages/sklearn/metrics/_classification.py:1344: UndefinedMetricWarning: Precision and F-score are ill-defined and being set to 0.0 in labels with no predicted samples. Use `zero_division` parameter to control this behavior.\n",
      "  _warn_prf(average, modifier, msg_start, len(result))\n",
      "/opt/bwhpc/common/jupyter/tensorflow/2023-03-24/lib/python3.9/site-packages/sklearn/metrics/_classification.py:1344: UndefinedMetricWarning: Precision and F-score are ill-defined and being set to 0.0 in labels with no predicted samples. Use `zero_division` parameter to control this behavior.\n",
      "  _warn_prf(average, modifier, msg_start, len(result))\n",
      "/opt/bwhpc/common/jupyter/tensorflow/2023-03-24/lib/python3.9/site-packages/sklearn/metrics/_classification.py:1344: UndefinedMetricWarning: Precision and F-score are ill-defined and being set to 0.0 in labels with no predicted samples. Use `zero_division` parameter to control this behavior.\n",
      "  _warn_prf(average, modifier, msg_start, len(result))\n"
     ]
    },
    {
     "name": "stdout",
     "output_type": "stream",
     "text": [
      "Valid Loss: 0.6678 - Valid Fbeta: 0.0000 - Valid MCC: 0.0\n",
      "              precision    recall  f1-score   support\n",
      "\n",
      "           0       0.63      1.00      0.77       218\n",
      "           1       0.00      0.00      0.00       130\n",
      "\n",
      "    accuracy                           0.63       348\n",
      "   macro avg       0.31      0.50      0.39       348\n",
      "weighted avg       0.39      0.63      0.48       348\n",
      "\n"
     ]
    },
    {
     "name": "stderr",
     "output_type": "stream",
     "text": [
      "100%|██████████| 29/29 [00:18<00:00,  1.57it/s]\n"
     ]
    },
    {
     "name": "stdout",
     "output_type": "stream",
     "text": [
      "Epoch 3/50 - Train Loss: 0.6369 - Train Fbeta: 0.4578\n",
      "Valid Loss: 0.6106 - Valid Fbeta: 0.3960 - Valid MCC: 0.24879427386081487\n",
      "              precision    recall  f1-score   support\n",
      "\n",
      "           0       0.65      0.99      0.79       218\n",
      "           1       0.89      0.12      0.22       130\n",
      "\n",
      "    accuracy                           0.67       348\n",
      "   macro avg       0.77      0.56      0.50       348\n",
      "weighted avg       0.74      0.67      0.57       348\n",
      "\n",
      "Updated best model: epoch 3\n"
     ]
    },
    {
     "name": "stderr",
     "output_type": "stream",
     "text": [
      "100%|██████████| 29/29 [00:18<00:00,  1.57it/s]\n"
     ]
    },
    {
     "name": "stdout",
     "output_type": "stream",
     "text": [
      "Epoch 4/50 - Train Loss: 0.6163 - Train Fbeta: 0.4707\n",
      "Valid Loss: 0.6904 - Valid Fbeta: 0.5590 - Valid MCC: 0.31126577016332924\n",
      "              precision    recall  f1-score   support\n",
      "\n",
      "           0       0.69      0.94      0.80       218\n",
      "           1       0.75      0.28      0.40       130\n",
      "\n",
      "    accuracy                           0.70       348\n",
      "   macro avg       0.72      0.61      0.60       348\n",
      "weighted avg       0.71      0.70      0.65       348\n",
      "\n",
      "Updated best model: epoch 4\n"
     ]
    },
    {
     "name": "stderr",
     "output_type": "stream",
     "text": [
      "100%|██████████| 29/29 [00:18<00:00,  1.57it/s]\n"
     ]
    },
    {
     "name": "stdout",
     "output_type": "stream",
     "text": [
      "Epoch 5/50 - Train Loss: 0.5979 - Train Fbeta: 0.4990\n",
      "Valid Loss: 0.8916 - Valid Fbeta: 0.5994 - Valid MCC: 0.3505014227159677\n",
      "              precision    recall  f1-score   support\n",
      "\n",
      "           0       0.70      0.94      0.80       218\n",
      "           1       0.77      0.32      0.45       130\n",
      "\n",
      "    accuracy                           0.71       348\n",
      "   macro avg       0.74      0.63      0.63       348\n",
      "weighted avg       0.73      0.71      0.67       348\n",
      "\n",
      "Updated best model: epoch 5\n"
     ]
    },
    {
     "name": "stderr",
     "output_type": "stream",
     "text": [
      "100%|██████████| 29/29 [00:18<00:00,  1.56it/s]\n"
     ]
    },
    {
     "name": "stdout",
     "output_type": "stream",
     "text": [
      "Epoch 6/50 - Train Loss: 0.5334 - Train Fbeta: 0.5407\n",
      "Valid Loss: 0.6631 - Valid Fbeta: 0.6143 - Valid MCC: 0.36564389703544564\n",
      "              precision    recall  f1-score   support\n",
      "\n",
      "           0       0.70      0.94      0.81       218\n",
      "           1       0.78      0.33      0.46       130\n",
      "\n",
      "    accuracy                           0.72       348\n",
      "   macro avg       0.74      0.64      0.64       348\n",
      "weighted avg       0.73      0.72      0.68       348\n",
      "\n",
      "Updated best model: epoch 6\n"
     ]
    },
    {
     "name": "stderr",
     "output_type": "stream",
     "text": [
      "100%|██████████| 29/29 [00:18<00:00,  1.56it/s]\n"
     ]
    },
    {
     "name": "stdout",
     "output_type": "stream",
     "text": [
      "Epoch 7/50 - Train Loss: 0.5210 - Train Fbeta: 0.5731\n",
      "Valid Loss: 0.5098 - Valid Fbeta: 0.7296 - Valid MCC: 0.5083516451420639\n",
      "              precision    recall  f1-score   support\n",
      "\n",
      "           0       0.77      0.93      0.84       218\n",
      "           1       0.81      0.52      0.64       130\n",
      "\n",
      "    accuracy                           0.78       348\n",
      "   macro avg       0.79      0.72      0.74       348\n",
      "weighted avg       0.78      0.78      0.76       348\n",
      "\n",
      "Updated best model: epoch 7\n"
     ]
    },
    {
     "name": "stderr",
     "output_type": "stream",
     "text": [
      "100%|██████████| 29/29 [00:18<00:00,  1.56it/s]\n"
     ]
    },
    {
     "name": "stdout",
     "output_type": "stream",
     "text": [
      "Epoch 8/50 - Train Loss: 0.4474 - Train Fbeta: 0.6071\n",
      "Valid Loss: 0.4878 - Valid Fbeta: 0.7451 - Valid MCC: 0.540176292855235\n",
      "              precision    recall  f1-score   support\n",
      "\n",
      "           0       0.79      0.91      0.85       218\n",
      "           1       0.80      0.58      0.68       130\n",
      "\n",
      "    accuracy                           0.79       348\n",
      "   macro avg       0.79      0.75      0.76       348\n",
      "weighted avg       0.79      0.79      0.78       348\n",
      "\n",
      "Updated best model: epoch 8\n"
     ]
    },
    {
     "name": "stderr",
     "output_type": "stream",
     "text": [
      "100%|██████████| 29/29 [00:18<00:00,  1.56it/s]\n"
     ]
    },
    {
     "name": "stdout",
     "output_type": "stream",
     "text": [
      "Epoch 9/50 - Train Loss: 0.4020 - Train Fbeta: 0.6356\n",
      "Valid Loss: 0.4448 - Valid Fbeta: 0.7797 - Valid MCC: 0.6193055009863092\n",
      "              precision    recall  f1-score   support\n",
      "\n",
      "           0       0.84      0.89      0.86       218\n",
      "           1       0.80      0.71      0.75       130\n",
      "\n",
      "    accuracy                           0.82       348\n",
      "   macro avg       0.82      0.80      0.81       348\n",
      "weighted avg       0.82      0.82      0.82       348\n",
      "\n",
      "Updated best model: epoch 9\n"
     ]
    },
    {
     "name": "stderr",
     "output_type": "stream",
     "text": [
      "100%|██████████| 29/29 [00:18<00:00,  1.56it/s]\n"
     ]
    },
    {
     "name": "stdout",
     "output_type": "stream",
     "text": [
      "Epoch 10/50 - Train Loss: 0.3942 - Train Fbeta: 0.6573\n",
      "Valid Loss: 0.4930 - Valid Fbeta: 0.7015 - Valid MCC: 0.5311288392334897\n",
      "              precision    recall  f1-score   support\n",
      "\n",
      "           0       0.83      0.81      0.82       218\n",
      "           1       0.70      0.72      0.71       130\n",
      "\n",
      "    accuracy                           0.78       348\n",
      "   macro avg       0.76      0.77      0.77       348\n",
      "weighted avg       0.78      0.78      0.78       348\n",
      "\n"
     ]
    },
    {
     "name": "stderr",
     "output_type": "stream",
     "text": [
      "100%|██████████| 29/29 [00:18<00:00,  1.56it/s]\n"
     ]
    },
    {
     "name": "stdout",
     "output_type": "stream",
     "text": [
      "Epoch 11/50 - Train Loss: 0.3589 - Train Fbeta: 0.6776\n",
      "Valid Loss: 0.4732 - Valid Fbeta: 0.7565 - Valid MCC: 0.5663649580671883\n",
      "              precision    recall  f1-score   support\n",
      "\n",
      "           0       0.80      0.90      0.85       218\n",
      "           1       0.80      0.63      0.70       130\n",
      "\n",
      "    accuracy                           0.80       348\n",
      "   macro avg       0.80      0.77      0.78       348\n",
      "weighted avg       0.80      0.80      0.80       348\n",
      "\n"
     ]
    },
    {
     "name": "stderr",
     "output_type": "stream",
     "text": [
      "100%|██████████| 29/29 [00:18<00:00,  1.56it/s]\n"
     ]
    },
    {
     "name": "stdout",
     "output_type": "stream",
     "text": [
      "Epoch 12/50 - Train Loss: 0.3166 - Train Fbeta: 0.6971\n",
      "Valid Loss: 0.4582 - Valid Fbeta: 0.7714 - Valid MCC: 0.5859015782745022\n",
      "              precision    recall  f1-score   support\n",
      "\n",
      "           0       0.81      0.91      0.86       218\n",
      "           1       0.81      0.64      0.72       130\n",
      "\n",
      "    accuracy                           0.81       348\n",
      "   macro avg       0.81      0.78      0.79       348\n",
      "weighted avg       0.81      0.81      0.80       348\n",
      "\n"
     ]
    },
    {
     "name": "stderr",
     "output_type": "stream",
     "text": [
      "100%|██████████| 29/29 [00:18<00:00,  1.56it/s]\n"
     ]
    },
    {
     "name": "stdout",
     "output_type": "stream",
     "text": [
      "Epoch 13/50 - Train Loss: 0.2839 - Train Fbeta: 0.7136\n",
      "Valid Loss: 0.4708 - Valid Fbeta: 0.7317 - Valid MCC: 0.5421067495270164\n",
      "              precision    recall  f1-score   support\n",
      "\n",
      "           0       0.81      0.88      0.84       218\n",
      "           1       0.76      0.65      0.70       130\n",
      "\n",
      "    accuracy                           0.79       348\n",
      "   macro avg       0.78      0.76      0.77       348\n",
      "weighted avg       0.79      0.79      0.79       348\n",
      "\n"
     ]
    },
    {
     "name": "stderr",
     "output_type": "stream",
     "text": [
      "100%|██████████| 29/29 [00:18<00:00,  1.55it/s]\n"
     ]
    },
    {
     "name": "stdout",
     "output_type": "stream",
     "text": [
      "Epoch 14/50 - Train Loss: 0.2466 - Train Fbeta: 0.7297\n",
      "Valid Loss: 0.5669 - Valid Fbeta: 0.7288 - Valid MCC: 0.5621353975412011\n",
      "              precision    recall  f1-score   support\n",
      "\n",
      "           0       0.83      0.84      0.84       218\n",
      "           1       0.73      0.72      0.72       130\n",
      "\n",
      "    accuracy                           0.80       348\n",
      "   macro avg       0.78      0.78      0.78       348\n",
      "weighted avg       0.80      0.80      0.80       348\n",
      "\n"
     ]
    },
    {
     "name": "stderr",
     "output_type": "stream",
     "text": [
      "100%|██████████| 29/29 [00:18<00:00,  1.56it/s]\n"
     ]
    },
    {
     "name": "stdout",
     "output_type": "stream",
     "text": [
      "Epoch 15/50 - Train Loss: 0.2175 - Train Fbeta: 0.7441\n",
      "Valid Loss: 0.5394 - Valid Fbeta: 0.7576 - Valid MCC: 0.5880484571893909\n",
      "              precision    recall  f1-score   support\n",
      "\n",
      "           0       0.83      0.88      0.85       218\n",
      "           1       0.78      0.69      0.73       130\n",
      "\n",
      "    accuracy                           0.81       348\n",
      "   macro avg       0.80      0.79      0.79       348\n",
      "weighted avg       0.81      0.81      0.81       348\n",
      "\n"
     ]
    },
    {
     "name": "stderr",
     "output_type": "stream",
     "text": [
      "100%|██████████| 29/29 [00:18<00:00,  1.56it/s]\n"
     ]
    },
    {
     "name": "stdout",
     "output_type": "stream",
     "text": [
      "Epoch 16/50 - Train Loss: 0.1987 - Train Fbeta: 0.7572\n",
      "Valid Loss: 0.6541 - Valid Fbeta: 0.7609 - Valid MCC: 0.594672991214502\n",
      "              precision    recall  f1-score   support\n",
      "\n",
      "           0       0.83      0.88      0.86       218\n",
      "           1       0.78      0.70      0.74       130\n",
      "\n",
      "    accuracy                           0.81       348\n",
      "   macro avg       0.80      0.79      0.80       348\n",
      "weighted avg       0.81      0.81      0.81       348\n",
      "\n"
     ]
    },
    {
     "name": "stderr",
     "output_type": "stream",
     "text": [
      "100%|██████████| 29/29 [00:18<00:00,  1.56it/s]\n"
     ]
    },
    {
     "name": "stdout",
     "output_type": "stream",
     "text": [
      "Epoch 17/50 - Train Loss: 0.1882 - Train Fbeta: 0.7686\n",
      "Valid Loss: 0.5631 - Valid Fbeta: 0.7295 - Valid MCC: 0.5715920059035414\n",
      "              precision    recall  f1-score   support\n",
      "\n",
      "           0       0.84      0.83      0.84       218\n",
      "           1       0.73      0.74      0.73       130\n",
      "\n",
      "    accuracy                           0.80       348\n",
      "   macro avg       0.78      0.79      0.79       348\n",
      "weighted avg       0.80      0.80      0.80       348\n",
      "\n"
     ]
    },
    {
     "name": "stderr",
     "output_type": "stream",
     "text": [
      "100%|██████████| 29/29 [00:18<00:00,  1.56it/s]\n"
     ]
    },
    {
     "name": "stdout",
     "output_type": "stream",
     "text": [
      "Epoch 18/50 - Train Loss: 0.1287 - Train Fbeta: 0.7802\n",
      "Valid Loss: 0.6270 - Valid Fbeta: 0.7776 - Valid MCC: 0.6198213933220056\n",
      "              precision    recall  f1-score   support\n",
      "\n",
      "           0       0.84      0.89      0.86       218\n",
      "           1       0.79      0.72      0.75       130\n",
      "\n",
      "    accuracy                           0.82       348\n",
      "   macro avg       0.82      0.80      0.81       348\n",
      "weighted avg       0.82      0.82      0.82       348\n",
      "\n"
     ]
    },
    {
     "name": "stderr",
     "output_type": "stream",
     "text": [
      "100%|██████████| 29/29 [00:18<00:00,  1.56it/s]\n"
     ]
    },
    {
     "name": "stdout",
     "output_type": "stream",
     "text": [
      "Epoch 19/50 - Train Loss: 0.1514 - Train Fbeta: 0.7896\n",
      "Valid Loss: 0.6145 - Valid Fbeta: 0.7951 - Valid MCC: 0.6520219324369835\n",
      "              precision    recall  f1-score   support\n",
      "\n",
      "           0       0.86      0.89      0.87       218\n",
      "           1       0.81      0.75      0.78       130\n",
      "\n",
      "    accuracy                           0.84       348\n",
      "   macro avg       0.83      0.82      0.83       348\n",
      "weighted avg       0.84      0.84      0.84       348\n",
      "\n",
      "Updated best model: epoch 19\n"
     ]
    },
    {
     "name": "stderr",
     "output_type": "stream",
     "text": [
      "100%|██████████| 29/29 [00:18<00:00,  1.56it/s]\n"
     ]
    },
    {
     "name": "stdout",
     "output_type": "stream",
     "text": [
      "Epoch 20/50 - Train Loss: 0.1169 - Train Fbeta: 0.7993\n",
      "Valid Loss: 0.6980 - Valid Fbeta: 0.7632 - Valid MCC: 0.586520650811533\n",
      "              precision    recall  f1-score   support\n",
      "\n",
      "           0       0.82      0.89      0.86       218\n",
      "           1       0.79      0.67      0.72       130\n",
      "\n",
      "    accuracy                           0.81       348\n",
      "   macro avg       0.81      0.78      0.79       348\n",
      "weighted avg       0.81      0.81      0.81       348\n",
      "\n"
     ]
    },
    {
     "name": "stderr",
     "output_type": "stream",
     "text": [
      "100%|██████████| 29/29 [00:18<00:00,  1.56it/s]\n"
     ]
    },
    {
     "name": "stdout",
     "output_type": "stream",
     "text": [
      "Epoch 21/50 - Train Loss: 0.1068 - Train Fbeta: 0.8083\n",
      "Valid Loss: 0.5690 - Valid Fbeta: 0.7524 - Valid MCC: 0.5904119745090552\n",
      "              precision    recall  f1-score   support\n",
      "\n",
      "           0       0.84      0.87      0.85       218\n",
      "           1       0.76      0.72      0.74       130\n",
      "\n",
      "    accuracy                           0.81       348\n",
      "   macro avg       0.80      0.79      0.79       348\n",
      "weighted avg       0.81      0.81      0.81       348\n",
      "\n"
     ]
    },
    {
     "name": "stderr",
     "output_type": "stream",
     "text": [
      "100%|██████████| 29/29 [00:18<00:00,  1.56it/s]\n"
     ]
    },
    {
     "name": "stdout",
     "output_type": "stream",
     "text": [
      "Epoch 22/50 - Train Loss: 0.0946 - Train Fbeta: 0.8164\n",
      "Valid Loss: 0.6021 - Valid Fbeta: 0.7680 - Valid MCC: 0.6238305906610252\n",
      "              precision    recall  f1-score   support\n",
      "\n",
      "           0       0.86      0.87      0.86       218\n",
      "           1       0.77      0.75      0.76       130\n",
      "\n",
      "    accuracy                           0.82       348\n",
      "   macro avg       0.81      0.81      0.81       348\n",
      "weighted avg       0.82      0.82      0.82       348\n",
      "\n"
     ]
    },
    {
     "name": "stderr",
     "output_type": "stream",
     "text": [
      "100%|██████████| 29/29 [00:18<00:00,  1.56it/s]\n"
     ]
    },
    {
     "name": "stdout",
     "output_type": "stream",
     "text": [
      "Epoch 23/50 - Train Loss: 0.0905 - Train Fbeta: 0.8239\n",
      "Valid Loss: 0.7211 - Valid Fbeta: 0.7623 - Valid MCC: 0.6020321477954169\n",
      "              precision    recall  f1-score   support\n",
      "\n",
      "           0       0.84      0.88      0.86       218\n",
      "           1       0.78      0.72      0.74       130\n",
      "\n",
      "    accuracy                           0.82       348\n",
      "   macro avg       0.81      0.80      0.80       348\n",
      "weighted avg       0.81      0.82      0.81       348\n",
      "\n"
     ]
    },
    {
     "name": "stderr",
     "output_type": "stream",
     "text": [
      "100%|██████████| 29/29 [00:18<00:00,  1.56it/s]\n"
     ]
    },
    {
     "name": "stdout",
     "output_type": "stream",
     "text": [
      "Epoch 24/50 - Train Loss: 0.0839 - Train Fbeta: 0.8310\n",
      "Valid Loss: 0.6271 - Valid Fbeta: 0.7477 - Valid MCC: 0.5935605343269026\n",
      "              precision    recall  f1-score   support\n",
      "\n",
      "           0       0.85      0.85      0.85       218\n",
      "           1       0.75      0.74      0.74       130\n",
      "\n",
      "    accuracy                           0.81       348\n",
      "   macro avg       0.80      0.80      0.80       348\n",
      "weighted avg       0.81      0.81      0.81       348\n",
      "\n"
     ]
    },
    {
     "name": "stderr",
     "output_type": "stream",
     "text": [
      "100%|██████████| 29/29 [00:18<00:00,  1.56it/s]\n"
     ]
    },
    {
     "name": "stdout",
     "output_type": "stream",
     "text": [
      "Epoch 25/50 - Train Loss: 0.0622 - Train Fbeta: 0.8376\n",
      "Valid Loss: 0.8093 - Valid Fbeta: 0.7538 - Valid MCC: 0.6070571630204658\n",
      "              precision    recall  f1-score   support\n",
      "\n",
      "           0       0.85      0.85      0.85       218\n",
      "           1       0.75      0.75      0.75       130\n",
      "\n",
      "    accuracy                           0.82       348\n",
      "   macro avg       0.80      0.80      0.80       348\n",
      "weighted avg       0.82      0.82      0.82       348\n",
      "\n"
     ]
    },
    {
     "name": "stderr",
     "output_type": "stream",
     "text": [
      "100%|██████████| 29/29 [00:18<00:00,  1.56it/s]\n"
     ]
    },
    {
     "name": "stdout",
     "output_type": "stream",
     "text": [
      "Epoch 26/50 - Train Loss: 0.0652 - Train Fbeta: 0.8437\n",
      "Valid Loss: 0.7449 - Valid Fbeta: 0.7807 - Valid MCC: 0.6120726270862468\n",
      "              precision    recall  f1-score   support\n",
      "\n",
      "           0       0.83      0.90      0.86       218\n",
      "           1       0.81      0.68      0.74       130\n",
      "\n",
      "    accuracy                           0.82       348\n",
      "   macro avg       0.82      0.79      0.80       348\n",
      "weighted avg       0.82      0.82      0.82       348\n",
      "\n"
     ]
    },
    {
     "name": "stderr",
     "output_type": "stream",
     "text": [
      "100%|██████████| 29/29 [00:18<00:00,  1.56it/s]\n"
     ]
    },
    {
     "name": "stdout",
     "output_type": "stream",
     "text": [
      "Epoch 27/50 - Train Loss: 0.0756 - Train Fbeta: 0.8491\n",
      "Valid Loss: 0.7047 - Valid Fbeta: 0.7462 - Valid MCC: 0.5947776993648554\n",
      "              precision    recall  f1-score   support\n",
      "\n",
      "           0       0.85      0.85      0.85       218\n",
      "           1       0.75      0.75      0.75       130\n",
      "\n",
      "    accuracy                           0.81       348\n",
      "   macro avg       0.80      0.80      0.80       348\n",
      "weighted avg       0.81      0.81      0.81       348\n",
      "\n"
     ]
    },
    {
     "name": "stderr",
     "output_type": "stream",
     "text": [
      "100%|██████████| 29/29 [00:18<00:00,  1.56it/s]\n"
     ]
    },
    {
     "name": "stdout",
     "output_type": "stream",
     "text": [
      "Epoch 28/50 - Train Loss: 0.0663 - Train Fbeta: 0.8544\n",
      "Valid Loss: 0.7202 - Valid Fbeta: 0.7289 - Valid MCC: 0.5830629892314716\n",
      "              precision    recall  f1-score   support\n",
      "\n",
      "           0       0.86      0.82      0.84       218\n",
      "           1       0.72      0.77      0.74       130\n",
      "\n",
      "    accuracy                           0.80       348\n",
      "   macro avg       0.79      0.80      0.79       348\n",
      "weighted avg       0.81      0.80      0.80       348\n",
      "\n"
     ]
    },
    {
     "name": "stderr",
     "output_type": "stream",
     "text": [
      "100%|██████████| 29/29 [00:18<00:00,  1.56it/s]\n"
     ]
    },
    {
     "name": "stdout",
     "output_type": "stream",
     "text": [
      "Epoch 29/50 - Train Loss: 0.0655 - Train Fbeta: 0.8592\n",
      "Valid Loss: 0.7032 - Valid Fbeta: 0.7807 - Valid MCC: 0.626390231144857\n",
      "              precision    recall  f1-score   support\n",
      "\n",
      "           0       0.84      0.89      0.87       218\n",
      "           1       0.80      0.72      0.76       130\n",
      "\n",
      "    accuracy                           0.83       348\n",
      "   macro avg       0.82      0.81      0.81       348\n",
      "weighted avg       0.83      0.83      0.83       348\n",
      "\n"
     ]
    },
    {
     "name": "stderr",
     "output_type": "stream",
     "text": [
      "100%|██████████| 29/29 [00:18<00:00,  1.56it/s]\n"
     ]
    },
    {
     "name": "stdout",
     "output_type": "stream",
     "text": [
      "Epoch 30/50 - Train Loss: 0.0542 - Train Fbeta: 0.8637\n",
      "Valid Loss: 0.7522 - Valid Fbeta: 0.7907 - Valid MCC: 0.6533938973324865\n",
      "              precision    recall  f1-score   support\n",
      "\n",
      "           0       0.86      0.89      0.87       218\n",
      "           1       0.80      0.76      0.78       130\n",
      "\n",
      "    accuracy                           0.84       348\n",
      "   macro avg       0.83      0.82      0.83       348\n",
      "weighted avg       0.84      0.84      0.84       348\n",
      "\n"
     ]
    },
    {
     "name": "stderr",
     "output_type": "stream",
     "text": [
      "100%|██████████| 29/29 [00:18<00:00,  1.56it/s]\n"
     ]
    },
    {
     "name": "stdout",
     "output_type": "stream",
     "text": [
      "Epoch 31/50 - Train Loss: 0.0459 - Train Fbeta: 0.8680\n",
      "Valid Loss: 0.7346 - Valid Fbeta: 0.7907 - Valid MCC: 0.6533938973324865\n",
      "              precision    recall  f1-score   support\n",
      "\n",
      "           0       0.86      0.89      0.87       218\n",
      "           1       0.80      0.76      0.78       130\n",
      "\n",
      "    accuracy                           0.84       348\n",
      "   macro avg       0.83      0.82      0.83       348\n",
      "weighted avg       0.84      0.84      0.84       348\n",
      "\n"
     ]
    },
    {
     "name": "stderr",
     "output_type": "stream",
     "text": [
      "100%|██████████| 29/29 [00:18<00:00,  1.56it/s]\n"
     ]
    },
    {
     "name": "stdout",
     "output_type": "stream",
     "text": [
      "Epoch 32/50 - Train Loss: 0.0500 - Train Fbeta: 0.8719\n",
      "Valid Loss: 0.7218 - Valid Fbeta: 0.7872 - Valid MCC: 0.6250781322644678\n",
      "              precision    recall  f1-score   support\n",
      "\n",
      "           0       0.83      0.90      0.87       218\n",
      "           1       0.81      0.70      0.75       130\n",
      "\n",
      "    accuracy                           0.83       348\n",
      "   macro avg       0.82      0.80      0.81       348\n",
      "weighted avg       0.83      0.83      0.82       348\n",
      "\n"
     ]
    },
    {
     "name": "stderr",
     "output_type": "stream",
     "text": [
      "100%|██████████| 29/29 [00:18<00:00,  1.56it/s]\n"
     ]
    },
    {
     "name": "stdout",
     "output_type": "stream",
     "text": [
      "Epoch 33/50 - Train Loss: 0.0458 - Train Fbeta: 0.8756\n",
      "Valid Loss: 0.7071 - Valid Fbeta: 0.7776 - Valid MCC: 0.6198213933220056\n",
      "              precision    recall  f1-score   support\n",
      "\n",
      "           0       0.84      0.89      0.86       218\n",
      "           1       0.79      0.72      0.75       130\n",
      "\n",
      "    accuracy                           0.82       348\n",
      "   macro avg       0.82      0.80      0.81       348\n",
      "weighted avg       0.82      0.82      0.82       348\n",
      "\n"
     ]
    },
    {
     "name": "stderr",
     "output_type": "stream",
     "text": [
      "100%|██████████| 29/29 [00:18<00:00,  1.56it/s]\n"
     ]
    },
    {
     "name": "stdout",
     "output_type": "stream",
     "text": [
      "Epoch 34/50 - Train Loss: 0.0788 - Train Fbeta: 0.8788\n",
      "Valid Loss: 0.8252 - Valid Fbeta: 0.7890 - Valid MCC: 0.6058744386735473\n",
      "              precision    recall  f1-score   support\n",
      "\n",
      "           0       0.81      0.93      0.87       218\n",
      "           1       0.84      0.64      0.72       130\n",
      "\n",
      "    accuracy                           0.82       348\n",
      "   macro avg       0.82      0.78      0.79       348\n",
      "weighted avg       0.82      0.82      0.81       348\n",
      "\n"
     ]
    },
    {
     "name": "stderr",
     "output_type": "stream",
     "text": [
      "100%|██████████| 29/29 [00:18<00:00,  1.56it/s]\n"
     ]
    },
    {
     "name": "stdout",
     "output_type": "stream",
     "text": [
      "Epoch 35/50 - Train Loss: 0.0608 - Train Fbeta: 0.8820\n",
      "Valid Loss: 0.8156 - Valid Fbeta: 0.8302 - Valid MCC: 0.6647811872400419\n",
      "              precision    recall  f1-score   support\n",
      "\n",
      "           0       0.83      0.94      0.88       218\n",
      "           1       0.88      0.68      0.77       130\n",
      "\n",
      "    accuracy                           0.84       348\n",
      "   macro avg       0.86      0.81      0.82       348\n",
      "weighted avg       0.85      0.84      0.84       348\n",
      "\n",
      "Updated best model: epoch 35\n"
     ]
    },
    {
     "name": "stderr",
     "output_type": "stream",
     "text": [
      "100%|██████████| 29/29 [00:18<00:00,  1.56it/s]\n"
     ]
    },
    {
     "name": "stdout",
     "output_type": "stream",
     "text": [
      "Epoch 36/50 - Train Loss: 0.0502 - Train Fbeta: 0.8850\n",
      "Valid Loss: 0.7428 - Valid Fbeta: 0.7797 - Valid MCC: 0.6343747961568701\n",
      "              precision    recall  f1-score   support\n",
      "\n",
      "           0       0.85      0.88      0.87       218\n",
      "           1       0.79      0.75      0.77       130\n",
      "\n",
      "    accuracy                           0.83       348\n",
      "   macro avg       0.82      0.81      0.82       348\n",
      "weighted avg       0.83      0.83      0.83       348\n",
      "\n"
     ]
    },
    {
     "name": "stderr",
     "output_type": "stream",
     "text": [
      "100%|██████████| 29/29 [00:18<00:00,  1.56it/s]\n"
     ]
    },
    {
     "name": "stdout",
     "output_type": "stream",
     "text": [
      "Epoch 37/50 - Train Loss: 0.0559 - Train Fbeta: 0.8877\n",
      "Valid Loss: 0.6690 - Valid Fbeta: 0.7778 - Valid MCC: 0.6352258593817761\n",
      "              precision    recall  f1-score   support\n",
      "\n",
      "           0       0.86      0.88      0.87       218\n",
      "           1       0.78      0.75      0.77       130\n",
      "\n",
      "    accuracy                           0.83       348\n",
      "   macro avg       0.82      0.81      0.82       348\n",
      "weighted avg       0.83      0.83      0.83       348\n",
      "\n"
     ]
    },
    {
     "name": "stderr",
     "output_type": "stream",
     "text": [
      "100%|██████████| 29/29 [00:18<00:00,  1.56it/s]\n"
     ]
    },
    {
     "name": "stdout",
     "output_type": "stream",
     "text": [
      "Epoch 38/50 - Train Loss: 0.0471 - Train Fbeta: 0.8905\n",
      "Valid Loss: 0.6277 - Valid Fbeta: 0.7778 - Valid MCC: 0.6352258593817761\n",
      "              precision    recall  f1-score   support\n",
      "\n",
      "           0       0.86      0.88      0.87       218\n",
      "           1       0.78      0.75      0.77       130\n",
      "\n",
      "    accuracy                           0.83       348\n",
      "   macro avg       0.82      0.81      0.82       348\n",
      "weighted avg       0.83      0.83      0.83       348\n",
      "\n"
     ]
    },
    {
     "name": "stderr",
     "output_type": "stream",
     "text": [
      "100%|██████████| 29/29 [00:18<00:00,  1.56it/s]\n"
     ]
    },
    {
     "name": "stdout",
     "output_type": "stream",
     "text": [
      "Epoch 39/50 - Train Loss: 0.0295 - Train Fbeta: 0.8933\n",
      "Valid Loss: 0.7008 - Valid Fbeta: 0.7875 - Valid MCC: 0.6628506736389114\n",
      "              precision    recall  f1-score   support\n",
      "\n",
      "           0       0.88      0.87      0.87       218\n",
      "           1       0.79      0.79      0.79       130\n",
      "\n",
      "    accuracy                           0.84       348\n",
      "   macro avg       0.83      0.83      0.83       348\n",
      "weighted avg       0.84      0.84      0.84       348\n",
      "\n"
     ]
    },
    {
     "name": "stderr",
     "output_type": "stream",
     "text": [
      "100%|██████████| 29/29 [00:18<00:00,  1.56it/s]\n"
     ]
    },
    {
     "name": "stdout",
     "output_type": "stream",
     "text": [
      "Epoch 40/50 - Train Loss: 0.0353 - Train Fbeta: 0.8957\n",
      "Valid Loss: 0.7914 - Valid Fbeta: 0.7776 - Valid MCC: 0.6198213933220056\n",
      "              precision    recall  f1-score   support\n",
      "\n",
      "           0       0.84      0.89      0.86       218\n",
      "           1       0.79      0.72      0.75       130\n",
      "\n",
      "    accuracy                           0.82       348\n",
      "   macro avg       0.82      0.80      0.81       348\n",
      "weighted avg       0.82      0.82      0.82       348\n",
      "\n"
     ]
    },
    {
     "name": "stderr",
     "output_type": "stream",
     "text": [
      "100%|██████████| 29/29 [00:18<00:00,  1.56it/s]\n"
     ]
    },
    {
     "name": "stdout",
     "output_type": "stream",
     "text": [
      "Epoch 41/50 - Train Loss: 0.0494 - Train Fbeta: 0.8980\n",
      "Valid Loss: 0.8156 - Valid Fbeta: 0.8065 - Valid MCC: 0.6440186408764419\n",
      "              precision    recall  f1-score   support\n",
      "\n",
      "           0       0.83      0.92      0.88       218\n",
      "           1       0.84      0.69      0.76       130\n",
      "\n",
      "    accuracy                           0.84       348\n",
      "   macro avg       0.84      0.81      0.82       348\n",
      "weighted avg       0.84      0.84      0.83       348\n",
      "\n"
     ]
    },
    {
     "name": "stderr",
     "output_type": "stream",
     "text": [
      "100%|██████████| 29/29 [00:18<00:00,  1.56it/s]\n"
     ]
    },
    {
     "name": "stdout",
     "output_type": "stream",
     "text": [
      "Epoch 42/50 - Train Loss: 0.0336 - Train Fbeta: 0.9002\n",
      "Valid Loss: 0.7186 - Valid Fbeta: 0.7899 - Valid MCC: 0.646091206233717\n",
      "              precision    recall  f1-score   support\n",
      "\n",
      "           0       0.85      0.89      0.87       218\n",
      "           1       0.80      0.75      0.77       130\n",
      "\n",
      "    accuracy                           0.84       348\n",
      "   macro avg       0.83      0.82      0.82       348\n",
      "weighted avg       0.83      0.84      0.83       348\n",
      "\n"
     ]
    },
    {
     "name": "stderr",
     "output_type": "stream",
     "text": [
      "100%|██████████| 29/29 [00:18<00:00,  1.56it/s]\n"
     ]
    },
    {
     "name": "stdout",
     "output_type": "stream",
     "text": [
      "Epoch 43/50 - Train Loss: 0.0403 - Train Fbeta: 0.9024\n",
      "Valid Loss: 0.7618 - Valid Fbeta: 0.7907 - Valid MCC: 0.6533938973324865\n",
      "              precision    recall  f1-score   support\n",
      "\n",
      "           0       0.86      0.89      0.87       218\n",
      "           1       0.80      0.76      0.78       130\n",
      "\n",
      "    accuracy                           0.84       348\n",
      "   macro avg       0.83      0.82      0.83       348\n",
      "weighted avg       0.84      0.84      0.84       348\n",
      "\n"
     ]
    },
    {
     "name": "stderr",
     "output_type": "stream",
     "text": [
      "100%|██████████| 29/29 [00:18<00:00,  1.56it/s]\n"
     ]
    },
    {
     "name": "stdout",
     "output_type": "stream",
     "text": [
      "Epoch 44/50 - Train Loss: 0.0457 - Train Fbeta: 0.9043\n",
      "Valid Loss: 0.6475 - Valid Fbeta: 0.7912 - Valid MCC: 0.6384526106627673\n",
      "              precision    recall  f1-score   support\n",
      "\n",
      "           0       0.84      0.90      0.87       218\n",
      "           1       0.81      0.72      0.76       130\n",
      "\n",
      "    accuracy                           0.83       348\n",
      "   macro avg       0.83      0.81      0.82       348\n",
      "weighted avg       0.83      0.83      0.83       348\n",
      "\n"
     ]
    },
    {
     "name": "stderr",
     "output_type": "stream",
     "text": [
      "100%|██████████| 29/29 [00:18<00:00,  1.56it/s]\n"
     ]
    },
    {
     "name": "stdout",
     "output_type": "stream",
     "text": [
      "Epoch 45/50 - Train Loss: 0.0256 - Train Fbeta: 0.9064\n",
      "Valid Loss: 0.8115 - Valid Fbeta: 0.8158 - Valid MCC: 0.6631765796356743\n",
      "              precision    recall  f1-score   support\n",
      "\n",
      "           0       0.84      0.92      0.88       218\n",
      "           1       0.85      0.72      0.78       130\n",
      "\n",
      "    accuracy                           0.84       348\n",
      "   macro avg       0.84      0.82      0.83       348\n",
      "weighted avg       0.84      0.84      0.84       348\n",
      "\n"
     ]
    },
    {
     "name": "stderr",
     "output_type": "stream",
     "text": [
      "100%|██████████| 29/29 [00:18<00:00,  1.56it/s]\n"
     ]
    },
    {
     "name": "stdout",
     "output_type": "stream",
     "text": [
      "Epoch 46/50 - Train Loss: 0.0253 - Train Fbeta: 0.9083\n",
      "Valid Loss: 0.7739 - Valid Fbeta: 0.7860 - Valid MCC: 0.6323955943757573\n",
      "              precision    recall  f1-score   support\n",
      "\n",
      "           0       0.84      0.89      0.87       218\n",
      "           1       0.80      0.72      0.76       130\n",
      "\n",
      "    accuracy                           0.83       348\n",
      "   macro avg       0.82      0.81      0.81       348\n",
      "weighted avg       0.83      0.83      0.83       348\n",
      "\n"
     ]
    },
    {
     "name": "stderr",
     "output_type": "stream",
     "text": [
      "100%|██████████| 29/29 [00:18<00:00,  1.56it/s]\n"
     ]
    },
    {
     "name": "stdout",
     "output_type": "stream",
     "text": [
      "Epoch 47/50 - Train Loss: 0.0209 - Train Fbeta: 0.9102\n",
      "Valid Loss: 0.8711 - Valid Fbeta: 0.7787 - Valid MCC: 0.6270270401162003\n",
      "              precision    recall  f1-score   support\n",
      "\n",
      "           0       0.85      0.89      0.87       218\n",
      "           1       0.79      0.73      0.76       130\n",
      "\n",
      "    accuracy                           0.83       348\n",
      "   macro avg       0.82      0.81      0.81       348\n",
      "weighted avg       0.83      0.83      0.83       348\n",
      "\n"
     ]
    },
    {
     "name": "stderr",
     "output_type": "stream",
     "text": [
      "100%|██████████| 29/29 [00:18<00:00,  1.56it/s]\n"
     ]
    },
    {
     "name": "stdout",
     "output_type": "stream",
     "text": [
      "Epoch 48/50 - Train Loss: 0.0354 - Train Fbeta: 0.9119\n",
      "Valid Loss: 0.7657 - Valid Fbeta: 0.7778 - Valid MCC: 0.6352258593817761\n",
      "              precision    recall  f1-score   support\n",
      "\n",
      "           0       0.86      0.88      0.87       218\n",
      "           1       0.78      0.75      0.77       130\n",
      "\n",
      "    accuracy                           0.83       348\n",
      "   macro avg       0.82      0.81      0.82       348\n",
      "weighted avg       0.83      0.83      0.83       348\n",
      "\n"
     ]
    },
    {
     "name": "stderr",
     "output_type": "stream",
     "text": [
      "100%|██████████| 29/29 [00:18<00:00,  1.56it/s]\n"
     ]
    },
    {
     "name": "stdout",
     "output_type": "stream",
     "text": [
      "Epoch 49/50 - Train Loss: 0.0168 - Train Fbeta: 0.9137\n",
      "Valid Loss: 0.9510 - Valid Fbeta: 0.7673 - Valid MCC: 0.6079128800539787\n",
      "              precision    recall  f1-score   support\n",
      "\n",
      "           0       0.84      0.88      0.86       218\n",
      "           1       0.78      0.72      0.75       130\n",
      "\n",
      "    accuracy                           0.82       348\n",
      "   macro avg       0.81      0.80      0.80       348\n",
      "weighted avg       0.82      0.82      0.82       348\n",
      "\n"
     ]
    },
    {
     "name": "stderr",
     "output_type": "stream",
     "text": [
      "100%|██████████| 29/29 [00:18<00:00,  1.56it/s]\n"
     ]
    },
    {
     "name": "stdout",
     "output_type": "stream",
     "text": [
      "Epoch 50/50 - Train Loss: 0.0232 - Train Fbeta: 0.9154\n",
      "Valid Loss: 0.7513 - Valid Fbeta: 0.7980 - Valid MCC: 0.6585642862164827\n",
      "              precision    recall  f1-score   support\n",
      "\n",
      "           0       0.86      0.89      0.88       218\n",
      "           1       0.81      0.75      0.78       130\n",
      "\n",
      "    accuracy                           0.84       348\n",
      "   macro avg       0.83      0.82      0.83       348\n",
      "weighted avg       0.84      0.84      0.84       348\n",
      "\n",
      "Test model:\n",
      "Valid Loss: 0.7006 - Valid Fbeta: 0.8163 - Valid MCC: 0.6376924519454447\n",
      "              precision    recall  f1-score   support\n",
      "\n",
      "           0       0.82      0.94      0.88       436\n",
      "           1       0.88      0.64      0.74       261\n",
      "\n",
      "    accuracy                           0.83       697\n",
      "   macro avg       0.85      0.79      0.81       697\n",
      "weighted avg       0.84      0.83      0.83       697\n",
      "\n",
      "Test Loss: 0.7006 - Test Fbeta: 0.8163\n"
     ]
    }
   ],
   "source": [
    "efficient_net_model = EfficientNetModel()\n",
    "criterion = nn.CrossEntropyLoss()\n",
    "optimizer = optim.Adam(efficient_net_model.parameters(), lr=LEARNING_RATE)\n",
    "model_path = \"model_results/efficient_net50_model_50.pt\"\n",
    "\n",
    "if os.path.isfile(model_path):\n",
    "    print(\"Evaluate model\")\n",
    "    efficient_net_model.load_state_dict(torch.load(model_path, map_location=torch.device(device)))\n",
    "    print(\"Validation data:\")\n",
    "    validate_model(efficient_net_model, validation_loader)\n",
    "    print(\"Test data:\")\n",
    "    validate_model(efficient_net_model, test_loader)\n",
    "else:\n",
    "    print(\"Train model\")\n",
    "    model, train_loss_values, train_f_beta_values, validation_loss_values, validation_f_beta_values = train(efficient_net_model, model_path, train_loader, validation_loader, test_loader, criterion, optimizer, 50)\n",
    "    np.save(\"model_results/efficient_net50_model_50_train_loss\", train_loss_values)\n",
    "    np.save(\"model_results/efficient_net50_model_50_train_f_beta\", train_f_beta_values)\n",
    "    np.save(\"model_results/efficient_net50_model_50_valid_loss\", validation_loss_values)\n",
    "    np.save(\"model_results/efficient_net50_model_50_valid_f_beta\", validation_f_beta_values)"
   ]
  },
  {
   "cell_type": "code",
   "execution_count": 8,
   "metadata": {
    "tags": [],
    "pycharm": {
     "name": "#%%\n"
    }
   },
   "outputs": [
    {
     "name": "stderr",
     "output_type": "stream",
     "text": [
      "/home/ma/ma_ma/ma_nikemper/.local/lib/python3.9/site-packages/torchvision/models/_utils.py:208: UserWarning: The parameter 'pretrained' is deprecated since 0.13 and may be removed in the future, please use 'weights' instead.\n",
      "  warnings.warn(\n",
      "/home/ma/ma_ma/ma_nikemper/.local/lib/python3.9/site-packages/torchvision/models/_utils.py:223: UserWarning: Arguments other than a weight enum or `None` for 'weights' are deprecated since 0.13 and may be removed in the future. The current behavior is equivalent to passing `weights=None`.\n",
      "  warnings.warn(msg)\n"
     ]
    },
    {
     "name": "stdout",
     "output_type": "stream",
     "text": [
      "Train model\n"
     ]
    },
    {
     "name": "stderr",
     "output_type": "stream",
     "text": [
      "100%|██████████| 29/29 [00:56<00:00,  1.94s/it]\n"
     ]
    },
    {
     "name": "stdout",
     "output_type": "stream",
     "text": [
      "Epoch 1/50 - Train Loss: 0.8413 - Train Fbeta: 0.3498\n",
      "Valid Loss: 0.6880 - Valid Fbeta: 0.5025 - Valid MCC: 0.22555228909385755\n",
      "              precision    recall  f1-score   support\n",
      "\n",
      "           0       0.68      0.88      0.77       218\n",
      "           1       0.60      0.31      0.41       130\n",
      "\n",
      "    accuracy                           0.66       348\n",
      "   macro avg       0.64      0.59      0.59       348\n",
      "weighted avg       0.65      0.66      0.63       348\n",
      "\n",
      "Updated best model: epoch 1\n"
     ]
    },
    {
     "name": "stderr",
     "output_type": "stream",
     "text": [
      "100%|██████████| 29/29 [00:54<00:00,  1.89s/it]\n"
     ]
    },
    {
     "name": "stdout",
     "output_type": "stream",
     "text": [
      "Epoch 2/50 - Train Loss: 0.6696 - Train Fbeta: 0.3059\n"
     ]
    },
    {
     "name": "stderr",
     "output_type": "stream",
     "text": [
      "/opt/bwhpc/common/jupyter/tensorflow/2023-03-24/lib/python3.9/site-packages/sklearn/metrics/_classification.py:1344: UndefinedMetricWarning: Precision and F-score are ill-defined and being set to 0.0 in labels with no predicted samples. Use `zero_division` parameter to control this behavior.\n",
      "  _warn_prf(average, modifier, msg_start, len(result))\n",
      "/opt/bwhpc/common/jupyter/tensorflow/2023-03-24/lib/python3.9/site-packages/sklearn/metrics/_classification.py:1344: UndefinedMetricWarning: Precision and F-score are ill-defined and being set to 0.0 in labels with no predicted samples. Use `zero_division` parameter to control this behavior.\n",
      "  _warn_prf(average, modifier, msg_start, len(result))\n",
      "/opt/bwhpc/common/jupyter/tensorflow/2023-03-24/lib/python3.9/site-packages/sklearn/metrics/_classification.py:1344: UndefinedMetricWarning: Precision and F-score are ill-defined and being set to 0.0 in labels with no predicted samples. Use `zero_division` parameter to control this behavior.\n",
      "  _warn_prf(average, modifier, msg_start, len(result))\n"
     ]
    },
    {
     "name": "stdout",
     "output_type": "stream",
     "text": [
      "Valid Loss: 0.6558 - Valid Fbeta: 0.0000 - Valid MCC: 0.0\n",
      "              precision    recall  f1-score   support\n",
      "\n",
      "           0       0.63      1.00      0.77       218\n",
      "           1       0.00      0.00      0.00       130\n",
      "\n",
      "    accuracy                           0.63       348\n",
      "   macro avg       0.31      0.50      0.39       348\n",
      "weighted avg       0.39      0.63      0.48       348\n",
      "\n"
     ]
    },
    {
     "name": "stderr",
     "output_type": "stream",
     "text": [
      "100%|██████████| 29/29 [00:54<00:00,  1.89s/it]\n"
     ]
    },
    {
     "name": "stdout",
     "output_type": "stream",
     "text": [
      "Epoch 3/50 - Train Loss: 0.6594 - Train Fbeta: 0.2581\n"
     ]
    },
    {
     "name": "stderr",
     "output_type": "stream",
     "text": [
      "/opt/bwhpc/common/jupyter/tensorflow/2023-03-24/lib/python3.9/site-packages/sklearn/metrics/_classification.py:1344: UndefinedMetricWarning: Precision and F-score are ill-defined and being set to 0.0 in labels with no predicted samples. Use `zero_division` parameter to control this behavior.\n",
      "  _warn_prf(average, modifier, msg_start, len(result))\n",
      "/opt/bwhpc/common/jupyter/tensorflow/2023-03-24/lib/python3.9/site-packages/sklearn/metrics/_classification.py:1344: UndefinedMetricWarning: Precision and F-score are ill-defined and being set to 0.0 in labels with no predicted samples. Use `zero_division` parameter to control this behavior.\n",
      "  _warn_prf(average, modifier, msg_start, len(result))\n",
      "/opt/bwhpc/common/jupyter/tensorflow/2023-03-24/lib/python3.9/site-packages/sklearn/metrics/_classification.py:1344: UndefinedMetricWarning: Precision and F-score are ill-defined and being set to 0.0 in labels with no predicted samples. Use `zero_division` parameter to control this behavior.\n",
      "  _warn_prf(average, modifier, msg_start, len(result))\n"
     ]
    },
    {
     "name": "stdout",
     "output_type": "stream",
     "text": [
      "Valid Loss: 0.6644 - Valid Fbeta: 0.0000 - Valid MCC: 0.0\n",
      "              precision    recall  f1-score   support\n",
      "\n",
      "           0       0.63      1.00      0.77       218\n",
      "           1       0.00      0.00      0.00       130\n",
      "\n",
      "    accuracy                           0.63       348\n",
      "   macro avg       0.31      0.50      0.39       348\n",
      "weighted avg       0.39      0.63      0.48       348\n",
      "\n"
     ]
    },
    {
     "name": "stderr",
     "output_type": "stream",
     "text": [
      "100%|██████████| 29/29 [00:54<00:00,  1.89s/it]\n"
     ]
    },
    {
     "name": "stdout",
     "output_type": "stream",
     "text": [
      "Epoch 4/50 - Train Loss: 0.6569 - Train Fbeta: 0.2563\n",
      "Valid Loss: 0.6507 - Valid Fbeta: 0.5442 - Valid MCC: 0.3074085854004641\n",
      "              precision    recall  f1-score   support\n",
      "\n",
      "           0       0.68      0.96      0.80       218\n",
      "           1       0.78      0.25      0.37       130\n",
      "\n",
      "    accuracy                           0.69       348\n",
      "   macro avg       0.73      0.60      0.59       348\n",
      "weighted avg       0.72      0.69      0.64       348\n",
      "\n",
      "Updated best model: epoch 4\n"
     ]
    },
    {
     "name": "stderr",
     "output_type": "stream",
     "text": [
      "100%|██████████| 29/29 [00:54<00:00,  1.90s/it]\n"
     ]
    },
    {
     "name": "stdout",
     "output_type": "stream",
     "text": [
      "Epoch 5/50 - Train Loss: 0.6508 - Train Fbeta: 0.2803\n",
      "Valid Loss: 0.6424 - Valid Fbeta: 0.5164 - Valid MCC: 0.23745090392122628\n",
      "              precision    recall  f1-score   support\n",
      "\n",
      "           0       0.69      0.86      0.76       218\n",
      "           1       0.59      0.34      0.43       130\n",
      "\n",
      "    accuracy                           0.67       348\n",
      "   macro avg       0.64      0.60      0.60       348\n",
      "weighted avg       0.65      0.67      0.64       348\n",
      "\n"
     ]
    },
    {
     "name": "stderr",
     "output_type": "stream",
     "text": [
      "100%|██████████| 29/29 [00:55<00:00,  1.90s/it]\n"
     ]
    },
    {
     "name": "stdout",
     "output_type": "stream",
     "text": [
      "Epoch 6/50 - Train Loss: 0.6364 - Train Fbeta: 0.3192\n",
      "Valid Loss: 0.6182 - Valid Fbeta: 0.4972 - Valid MCC: 0.2284617641955976\n",
      "              precision    recall  f1-score   support\n",
      "\n",
      "           0       0.68      0.90      0.77       218\n",
      "           1       0.62      0.28      0.38       130\n",
      "\n",
      "    accuracy                           0.67       348\n",
      "   macro avg       0.65      0.59      0.58       348\n",
      "weighted avg       0.66      0.67      0.63       348\n",
      "\n"
     ]
    },
    {
     "name": "stderr",
     "output_type": "stream",
     "text": [
      "100%|██████████| 29/29 [00:55<00:00,  1.90s/it]\n"
     ]
    },
    {
     "name": "stdout",
     "output_type": "stream",
     "text": [
      "Epoch 7/50 - Train Loss: 0.6298 - Train Fbeta: 0.3493\n",
      "Valid Loss: 0.6497 - Valid Fbeta: 0.5150 - Valid MCC: 0.2260296359403133\n",
      "              precision    recall  f1-score   support\n",
      "\n",
      "           0       0.70      0.79      0.74       218\n",
      "           1       0.54      0.42      0.48       130\n",
      "\n",
      "    accuracy                           0.65       348\n",
      "   macro avg       0.62      0.61      0.61       348\n",
      "weighted avg       0.64      0.65      0.64       348\n",
      "\n"
     ]
    },
    {
     "name": "stderr",
     "output_type": "stream",
     "text": [
      "100%|██████████| 29/29 [00:55<00:00,  1.90s/it]\n"
     ]
    },
    {
     "name": "stdout",
     "output_type": "stream",
     "text": [
      "Epoch 8/50 - Train Loss: 0.6248 - Train Fbeta: 0.3725\n",
      "Valid Loss: 0.6119 - Valid Fbeta: 0.5000 - Valid MCC: 0.23537097544001684\n",
      "              precision    recall  f1-score   support\n",
      "\n",
      "           0       0.68      0.91      0.77       218\n",
      "           1       0.64      0.27      0.38       130\n",
      "\n",
      "    accuracy                           0.67       348\n",
      "   macro avg       0.66      0.59      0.58       348\n",
      "weighted avg       0.66      0.67      0.63       348\n",
      "\n"
     ]
    },
    {
     "name": "stderr",
     "output_type": "stream",
     "text": [
      "100%|██████████| 29/29 [00:55<00:00,  1.91s/it]\n"
     ]
    },
    {
     "name": "stdout",
     "output_type": "stream",
     "text": [
      "Epoch 9/50 - Train Loss: 0.6377 - Train Fbeta: 0.3864\n",
      "Valid Loss: 0.6276 - Valid Fbeta: 0.5105 - Valid MCC: 0.2385893564471477\n",
      "              precision    recall  f1-score   support\n",
      "\n",
      "           0       0.68      0.89      0.77       218\n",
      "           1       0.62      0.30      0.40       130\n",
      "\n",
      "    accuracy                           0.67       348\n",
      "   macro avg       0.65      0.59      0.59       348\n",
      "weighted avg       0.66      0.67      0.63       348\n",
      "\n"
     ]
    },
    {
     "name": "stderr",
     "output_type": "stream",
     "text": [
      "100%|██████████| 29/29 [00:55<00:00,  1.90s/it]\n"
     ]
    },
    {
     "name": "stdout",
     "output_type": "stream",
     "text": [
      "Epoch 10/50 - Train Loss: 0.6217 - Train Fbeta: 0.3995\n",
      "Valid Loss: 0.6320 - Valid Fbeta: 0.4124 - Valid MCC: 0.28428079423731123\n",
      "              precision    recall  f1-score   support\n",
      "\n",
      "           0       0.66      1.00      0.79       218\n",
      "           1       1.00      0.12      0.22       130\n",
      "\n",
      "    accuracy                           0.67       348\n",
      "   macro avg       0.83      0.56      0.51       348\n",
      "weighted avg       0.78      0.67      0.58       348\n",
      "\n"
     ]
    },
    {
     "name": "stderr",
     "output_type": "stream",
     "text": [
      "100%|██████████| 29/29 [00:55<00:00,  1.90s/it]\n"
     ]
    },
    {
     "name": "stdout",
     "output_type": "stream",
     "text": [
      "Epoch 11/50 - Train Loss: 0.6140 - Train Fbeta: 0.4093\n",
      "Valid Loss: 0.5927 - Valid Fbeta: 0.5117 - Valid MCC: 0.2513082849237556\n",
      "              precision    recall  f1-score   support\n",
      "\n",
      "           0       0.68      0.92      0.78       218\n",
      "           1       0.66      0.27      0.38       130\n",
      "\n",
      "    accuracy                           0.68       348\n",
      "   macro avg       0.67      0.59      0.58       348\n",
      "weighted avg       0.67      0.68      0.63       348\n",
      "\n"
     ]
    },
    {
     "name": "stderr",
     "output_type": "stream",
     "text": [
      "100%|██████████| 29/29 [00:55<00:00,  1.90s/it]\n"
     ]
    },
    {
     "name": "stdout",
     "output_type": "stream",
     "text": [
      "Epoch 12/50 - Train Loss: 0.6019 - Train Fbeta: 0.4183\n",
      "Valid Loss: 0.5928 - Valid Fbeta: 0.5272 - Valid MCC: 0.2889831310912389\n",
      "              precision    recall  f1-score   support\n",
      "\n",
      "           0       0.68      0.95      0.79       218\n",
      "           1       0.76      0.24      0.36       130\n",
      "\n",
      "    accuracy                           0.69       348\n",
      "   macro avg       0.72      0.60      0.58       348\n",
      "weighted avg       0.71      0.69      0.63       348\n",
      "\n"
     ]
    },
    {
     "name": "stderr",
     "output_type": "stream",
     "text": [
      "100%|██████████| 29/29 [00:55<00:00,  1.90s/it]\n"
     ]
    },
    {
     "name": "stdout",
     "output_type": "stream",
     "text": [
      "Epoch 13/50 - Train Loss: 0.5867 - Train Fbeta: 0.4308\n",
      "Valid Loss: 0.7335 - Valid Fbeta: 0.4899 - Valid MCC: 0.18546346069880948\n",
      "              precision    recall  f1-score   support\n",
      "\n",
      "           0       0.70      0.67      0.68       218\n",
      "           1       0.48      0.52      0.50       130\n",
      "\n",
      "    accuracy                           0.61       348\n",
      "   macro avg       0.59      0.59      0.59       348\n",
      "weighted avg       0.62      0.61      0.61       348\n",
      "\n"
     ]
    },
    {
     "name": "stderr",
     "output_type": "stream",
     "text": [
      "100%|██████████| 29/29 [00:55<00:00,  1.90s/it]\n"
     ]
    },
    {
     "name": "stdout",
     "output_type": "stream",
     "text": [
      "Epoch 14/50 - Train Loss: 0.6305 - Train Fbeta: 0.4354\n",
      "Valid Loss: 0.6238 - Valid Fbeta: 0.5105 - Valid MCC: 0.2385893564471477\n",
      "              precision    recall  f1-score   support\n",
      "\n",
      "           0       0.68      0.89      0.77       218\n",
      "           1       0.62      0.30      0.40       130\n",
      "\n",
      "    accuracy                           0.67       348\n",
      "   macro avg       0.65      0.59      0.59       348\n",
      "weighted avg       0.66      0.67      0.63       348\n",
      "\n"
     ]
    },
    {
     "name": "stderr",
     "output_type": "stream",
     "text": [
      "100%|██████████| 29/29 [00:55<00:00,  1.90s/it]\n"
     ]
    },
    {
     "name": "stdout",
     "output_type": "stream",
     "text": [
      "Epoch 15/50 - Train Loss: 0.6055 - Train Fbeta: 0.4427\n",
      "Valid Loss: 0.5963 - Valid Fbeta: 0.5000 - Valid MCC: 0.22433123905083396\n",
      "              precision    recall  f1-score   support\n",
      "\n",
      "           0       0.68      0.88      0.77       218\n",
      "           1       0.60      0.30      0.40       130\n",
      "\n",
      "    accuracy                           0.66       348\n",
      "   macro avg       0.64      0.59      0.58       348\n",
      "weighted avg       0.65      0.66      0.63       348\n",
      "\n"
     ]
    },
    {
     "name": "stderr",
     "output_type": "stream",
     "text": [
      "100%|██████████| 29/29 [00:55<00:00,  1.90s/it]\n"
     ]
    },
    {
     "name": "stdout",
     "output_type": "stream",
     "text": [
      "Epoch 16/50 - Train Loss: 0.5625 - Train Fbeta: 0.4568\n",
      "Valid Loss: 0.5837 - Valid Fbeta: 0.5658 - Valid MCC: 0.29617682362458203\n",
      "              precision    recall  f1-score   support\n",
      "\n",
      "           0       0.71      0.84      0.77       218\n",
      "           1       0.62      0.42      0.50       130\n",
      "\n",
      "    accuracy                           0.69       348\n",
      "   macro avg       0.66      0.63      0.64       348\n",
      "weighted avg       0.68      0.69      0.67       348\n",
      "\n",
      "Updated best model: epoch 16\n"
     ]
    },
    {
     "name": "stderr",
     "output_type": "stream",
     "text": [
      "100%|██████████| 29/29 [00:55<00:00,  1.90s/it]\n"
     ]
    },
    {
     "name": "stdout",
     "output_type": "stream",
     "text": [
      "Epoch 17/50 - Train Loss: 0.5603 - Train Fbeta: 0.4687\n",
      "Valid Loss: 0.5772 - Valid Fbeta: 0.5645 - Valid MCC: 0.2963119112665602\n",
      "              precision    recall  f1-score   support\n",
      "\n",
      "           0       0.70      0.88      0.78       218\n",
      "           1       0.64      0.38      0.48       130\n",
      "\n",
      "    accuracy                           0.69       348\n",
      "   macro avg       0.67      0.63      0.63       348\n",
      "weighted avg       0.68      0.69      0.67       348\n",
      "\n"
     ]
    },
    {
     "name": "stderr",
     "output_type": "stream",
     "text": [
      "100%|██████████| 29/29 [00:55<00:00,  1.90s/it]\n"
     ]
    },
    {
     "name": "stdout",
     "output_type": "stream",
     "text": [
      "Epoch 18/50 - Train Loss: 0.5273 - Train Fbeta: 0.4852\n",
      "Valid Loss: 0.5572 - Valid Fbeta: 0.6643 - Valid MCC: 0.41976350026354964\n",
      "              precision    recall  f1-score   support\n",
      "\n",
      "           0       0.73      0.93      0.82       218\n",
      "           1       0.77      0.42      0.55       130\n",
      "\n",
      "    accuracy                           0.74       348\n",
      "   macro avg       0.75      0.67      0.68       348\n",
      "weighted avg       0.75      0.74      0.72       348\n",
      "\n",
      "Updated best model: epoch 18\n"
     ]
    },
    {
     "name": "stderr",
     "output_type": "stream",
     "text": [
      "100%|██████████| 29/29 [00:55<00:00,  1.90s/it]\n"
     ]
    },
    {
     "name": "stdout",
     "output_type": "stream",
     "text": [
      "Epoch 19/50 - Train Loss: 0.4998 - Train Fbeta: 0.5029\n",
      "Valid Loss: 0.5191 - Valid Fbeta: 0.6702 - Valid MCC: 0.4320182253790459\n",
      "              precision    recall  f1-score   support\n",
      "\n",
      "           0       0.75      0.90      0.81       218\n",
      "           1       0.74      0.48      0.59       130\n",
      "\n",
      "    accuracy                           0.74       348\n",
      "   macro avg       0.74      0.69      0.70       348\n",
      "weighted avg       0.74      0.74      0.73       348\n",
      "\n",
      "Updated best model: epoch 19\n"
     ]
    },
    {
     "name": "stderr",
     "output_type": "stream",
     "text": [
      "100%|██████████| 29/29 [00:55<00:00,  1.90s/it]\n"
     ]
    },
    {
     "name": "stdout",
     "output_type": "stream",
     "text": [
      "Epoch 20/50 - Train Loss: 0.4692 - Train Fbeta: 0.5214\n",
      "Valid Loss: 0.5278 - Valid Fbeta: 0.6627 - Valid MCC: 0.4260833872229191\n",
      "              precision    recall  f1-score   support\n",
      "\n",
      "           0       0.75      0.88      0.81       218\n",
      "           1       0.72      0.51      0.59       130\n",
      "\n",
      "    accuracy                           0.74       348\n",
      "   macro avg       0.73      0.69      0.70       348\n",
      "weighted avg       0.74      0.74      0.73       348\n",
      "\n"
     ]
    },
    {
     "name": "stderr",
     "output_type": "stream",
     "text": [
      "100%|██████████| 29/29 [00:54<00:00,  1.90s/it]\n"
     ]
    },
    {
     "name": "stdout",
     "output_type": "stream",
     "text": [
      "Epoch 21/50 - Train Loss: 0.4713 - Train Fbeta: 0.5378\n",
      "Valid Loss: 0.5337 - Valid Fbeta: 0.6268 - Valid MCC: 0.4112207574151256\n",
      "              precision    recall  f1-score   support\n",
      "\n",
      "           0       0.79      0.76      0.77       218\n",
      "           1       0.62      0.65      0.64       130\n",
      "\n",
      "    accuracy                           0.72       348\n",
      "   macro avg       0.70      0.71      0.71       348\n",
      "weighted avg       0.72      0.72      0.72       348\n",
      "\n"
     ]
    },
    {
     "name": "stderr",
     "output_type": "stream",
     "text": [
      "100%|██████████| 29/29 [00:55<00:00,  1.90s/it]\n"
     ]
    },
    {
     "name": "stdout",
     "output_type": "stream",
     "text": [
      "Epoch 22/50 - Train Loss: 0.4528 - Train Fbeta: 0.5521\n",
      "Valid Loss: 0.5689 - Valid Fbeta: 0.7277 - Valid MCC: 0.4987637047228007\n",
      "              precision    recall  f1-score   support\n",
      "\n",
      "           0       0.75      0.94      0.84       218\n",
      "           1       0.84      0.48      0.61       130\n",
      "\n",
      "    accuracy                           0.77       348\n",
      "   macro avg       0.79      0.71      0.72       348\n",
      "weighted avg       0.78      0.77      0.75       348\n",
      "\n",
      "Updated best model: epoch 22\n"
     ]
    },
    {
     "name": "stderr",
     "output_type": "stream",
     "text": [
      "100%|██████████| 29/29 [00:55<00:00,  1.90s/it]\n"
     ]
    },
    {
     "name": "stdout",
     "output_type": "stream",
     "text": [
      "Epoch 23/50 - Train Loss: 0.4427 - Train Fbeta: 0.5651\n",
      "Valid Loss: 0.5137 - Valid Fbeta: 0.7034 - Valid MCC: 0.48737820151071787\n",
      "              precision    recall  f1-score   support\n",
      "\n",
      "           0       0.78      0.89      0.83       218\n",
      "           1       0.75      0.57      0.65       130\n",
      "\n",
      "    accuracy                           0.77       348\n",
      "   macro avg       0.76      0.73      0.74       348\n",
      "weighted avg       0.76      0.77      0.76       348\n",
      "\n"
     ]
    },
    {
     "name": "stderr",
     "output_type": "stream",
     "text": [
      "100%|██████████| 29/29 [00:55<00:00,  1.90s/it]\n"
     ]
    },
    {
     "name": "stdout",
     "output_type": "stream",
     "text": [
      "Epoch 24/50 - Train Loss: 0.4237 - Train Fbeta: 0.5769\n",
      "Valid Loss: 0.5066 - Valid Fbeta: 0.7468 - Valid MCC: 0.5295844769837367\n",
      "              precision    recall  f1-score   support\n",
      "\n",
      "           0       0.77      0.94      0.84       218\n",
      "           1       0.83      0.53      0.65       130\n",
      "\n",
      "    accuracy                           0.78       348\n",
      "   macro avg       0.80      0.73      0.75       348\n",
      "weighted avg       0.79      0.78      0.77       348\n",
      "\n",
      "Updated best model: epoch 24\n"
     ]
    },
    {
     "name": "stderr",
     "output_type": "stream",
     "text": [
      "100%|██████████| 29/29 [00:55<00:00,  1.90s/it]\n"
     ]
    },
    {
     "name": "stdout",
     "output_type": "stream",
     "text": [
      "Epoch 25/50 - Train Loss: 0.4061 - Train Fbeta: 0.5887\n",
      "Valid Loss: 0.4845 - Valid Fbeta: 0.7167 - Valid MCC: 0.5241601211475616\n",
      "              precision    recall  f1-score   support\n",
      "\n",
      "           0       0.80      0.86      0.83       218\n",
      "           1       0.74      0.65      0.69       130\n",
      "\n",
      "    accuracy                           0.78       348\n",
      "   macro avg       0.77      0.75      0.76       348\n",
      "weighted avg       0.78      0.78      0.78       348\n",
      "\n"
     ]
    },
    {
     "name": "stderr",
     "output_type": "stream",
     "text": [
      "100%|██████████| 29/29 [00:55<00:00,  1.90s/it]\n"
     ]
    },
    {
     "name": "stdout",
     "output_type": "stream",
     "text": [
      "Epoch 26/50 - Train Loss: 0.3853 - Train Fbeta: 0.5998\n",
      "Valid Loss: 0.4700 - Valid Fbeta: 0.7380 - Valid MCC: 0.5403389438842514\n",
      "              precision    recall  f1-score   support\n",
      "\n",
      "           0       0.80      0.89      0.84       218\n",
      "           1       0.78      0.62      0.69       130\n",
      "\n",
      "    accuracy                           0.79       348\n",
      "   macro avg       0.79      0.75      0.76       348\n",
      "weighted avg       0.79      0.79      0.78       348\n",
      "\n"
     ]
    },
    {
     "name": "stderr",
     "output_type": "stream",
     "text": [
      "100%|██████████| 29/29 [00:54<00:00,  1.90s/it]\n"
     ]
    },
    {
     "name": "stdout",
     "output_type": "stream",
     "text": [
      "Epoch 27/50 - Train Loss: 0.3679 - Train Fbeta: 0.6107\n",
      "Valid Loss: 0.4871 - Valid Fbeta: 0.7186 - Valid MCC: 0.5002202166459883\n",
      "              precision    recall  f1-score   support\n",
      "\n",
      "           0       0.77      0.91      0.83       218\n",
      "           1       0.78      0.55      0.64       130\n",
      "\n",
      "    accuracy                           0.77       348\n",
      "   macro avg       0.78      0.73      0.74       348\n",
      "weighted avg       0.77      0.77      0.76       348\n",
      "\n"
     ]
    },
    {
     "name": "stderr",
     "output_type": "stream",
     "text": [
      "100%|██████████| 29/29 [00:55<00:00,  1.90s/it]\n"
     ]
    },
    {
     "name": "stdout",
     "output_type": "stream",
     "text": [
      "Epoch 28/50 - Train Loss: 0.3576 - Train Fbeta: 0.6214\n",
      "Valid Loss: 0.4874 - Valid Fbeta: 0.8000 - Valid MCC: 0.5945702060048522\n",
      "              precision    recall  f1-score   support\n",
      "\n",
      "           0       0.78      0.96      0.86       218\n",
      "           1       0.90      0.55      0.69       130\n",
      "\n",
      "    accuracy                           0.81       348\n",
      "   macro avg       0.84      0.76      0.77       348\n",
      "weighted avg       0.83      0.81      0.80       348\n",
      "\n",
      "Updated best model: epoch 28\n"
     ]
    },
    {
     "name": "stderr",
     "output_type": "stream",
     "text": [
      "100%|██████████| 29/29 [00:55<00:00,  1.90s/it]\n"
     ]
    },
    {
     "name": "stdout",
     "output_type": "stream",
     "text": [
      "Epoch 29/50 - Train Loss: 0.3571 - Train Fbeta: 0.6309\n",
      "Valid Loss: 0.4726 - Valid Fbeta: 0.7117 - Valid MCC: 0.5091686605134443\n",
      "              precision    recall  f1-score   support\n",
      "\n",
      "           0       0.79      0.87      0.83       218\n",
      "           1       0.74      0.62      0.67       130\n",
      "\n",
      "    accuracy                           0.78       348\n",
      "   macro avg       0.77      0.74      0.75       348\n",
      "weighted avg       0.77      0.78      0.77       348\n",
      "\n"
     ]
    },
    {
     "name": "stderr",
     "output_type": "stream",
     "text": [
      "100%|██████████| 29/29 [00:54<00:00,  1.90s/it]\n"
     ]
    },
    {
     "name": "stdout",
     "output_type": "stream",
     "text": [
      "Epoch 30/50 - Train Loss: 0.3348 - Train Fbeta: 0.6403\n",
      "Valid Loss: 0.4858 - Valid Fbeta: 0.7029 - Valid MCC: 0.5169553287644766\n",
      "              precision    recall  f1-score   support\n",
      "\n",
      "           0       0.81      0.83      0.82       218\n",
      "           1       0.71      0.68      0.69       130\n",
      "\n",
      "    accuracy                           0.78       348\n",
      "   macro avg       0.76      0.76      0.76       348\n",
      "weighted avg       0.77      0.78      0.77       348\n",
      "\n"
     ]
    },
    {
     "name": "stderr",
     "output_type": "stream",
     "text": [
      "100%|██████████| 29/29 [00:55<00:00,  1.90s/it]\n"
     ]
    },
    {
     "name": "stdout",
     "output_type": "stream",
     "text": [
      "Epoch 31/50 - Train Loss: 0.3154 - Train Fbeta: 0.6496\n",
      "Valid Loss: 0.4404 - Valid Fbeta: 0.7576 - Valid MCC: 0.5880484571893909\n",
      "              precision    recall  f1-score   support\n",
      "\n",
      "           0       0.83      0.88      0.85       218\n",
      "           1       0.78      0.69      0.73       130\n",
      "\n",
      "    accuracy                           0.81       348\n",
      "   macro avg       0.80      0.79      0.79       348\n",
      "weighted avg       0.81      0.81      0.81       348\n",
      "\n"
     ]
    },
    {
     "name": "stderr",
     "output_type": "stream",
     "text": [
      "100%|██████████| 29/29 [00:55<00:00,  1.90s/it]\n"
     ]
    },
    {
     "name": "stdout",
     "output_type": "stream",
     "text": [
      "Epoch 32/50 - Train Loss: 0.3052 - Train Fbeta: 0.6580\n",
      "Valid Loss: 0.4525 - Valid Fbeta: 0.7509 - Valid MCC: 0.5747867440061105\n",
      "              precision    recall  f1-score   support\n",
      "\n",
      "           0       0.82      0.88      0.85       218\n",
      "           1       0.77      0.68      0.72       130\n",
      "\n",
      "    accuracy                           0.80       348\n",
      "   macro avg       0.80      0.78      0.79       348\n",
      "weighted avg       0.80      0.80      0.80       348\n",
      "\n"
     ]
    },
    {
     "name": "stderr",
     "output_type": "stream",
     "text": [
      "100%|██████████| 29/29 [00:54<00:00,  1.90s/it]\n"
     ]
    },
    {
     "name": "stdout",
     "output_type": "stream",
     "text": [
      "Epoch 33/50 - Train Loss: 0.2969 - Train Fbeta: 0.6663\n",
      "Valid Loss: 0.4395 - Valid Fbeta: 0.7854 - Valid MCC: 0.5994654530288472\n",
      "              precision    recall  f1-score   support\n",
      "\n",
      "           0       0.81      0.93      0.86       218\n",
      "           1       0.84      0.63      0.72       130\n",
      "\n",
      "    accuracy                           0.82       348\n",
      "   macro avg       0.82      0.78      0.79       348\n",
      "weighted avg       0.82      0.82      0.81       348\n",
      "\n"
     ]
    },
    {
     "name": "stderr",
     "output_type": "stream",
     "text": [
      "100%|██████████| 29/29 [00:55<00:00,  1.90s/it]\n"
     ]
    },
    {
     "name": "stdout",
     "output_type": "stream",
     "text": [
      "Epoch 34/50 - Train Loss: 0.2839 - Train Fbeta: 0.6739\n",
      "Valid Loss: 0.5949 - Valid Fbeta: 0.6693 - Valid MCC: 0.5127553371966818\n",
      "              precision    recall  f1-score   support\n",
      "\n",
      "           0       0.85      0.74      0.79       218\n",
      "           1       0.65      0.78      0.71       130\n",
      "\n",
      "    accuracy                           0.76       348\n",
      "   macro avg       0.75      0.76      0.75       348\n",
      "weighted avg       0.78      0.76      0.76       348\n",
      "\n"
     ]
    },
    {
     "name": "stderr",
     "output_type": "stream",
     "text": [
      "100%|██████████| 29/29 [00:55<00:00,  1.90s/it]\n"
     ]
    },
    {
     "name": "stdout",
     "output_type": "stream",
     "text": [
      "Epoch 35/50 - Train Loss: 0.2998 - Train Fbeta: 0.6808\n",
      "Valid Loss: 0.4702 - Valid Fbeta: 0.8039 - Valid MCC: 0.6201797046499385\n",
      "              precision    recall  f1-score   support\n",
      "\n",
      "           0       0.81      0.94      0.87       218\n",
      "           1       0.86      0.63      0.73       130\n",
      "\n",
      "    accuracy                           0.82       348\n",
      "   macro avg       0.84      0.79      0.80       348\n",
      "weighted avg       0.83      0.82      0.82       348\n",
      "\n",
      "Updated best model: epoch 35\n"
     ]
    },
    {
     "name": "stderr",
     "output_type": "stream",
     "text": [
      "100%|██████████| 29/29 [00:55<00:00,  1.90s/it]\n"
     ]
    },
    {
     "name": "stdout",
     "output_type": "stream",
     "text": [
      "Epoch 36/50 - Train Loss: 0.2612 - Train Fbeta: 0.6879\n",
      "Valid Loss: 0.4853 - Valid Fbeta: 0.7686 - Valid MCC: 0.6153105890423989\n",
      "              precision    recall  f1-score   support\n",
      "\n",
      "           0       0.85      0.88      0.86       218\n",
      "           1       0.78      0.73      0.75       130\n",
      "\n",
      "    accuracy                           0.82       348\n",
      "   macro avg       0.81      0.80      0.81       348\n",
      "weighted avg       0.82      0.82      0.82       348\n",
      "\n"
     ]
    },
    {
     "name": "stderr",
     "output_type": "stream",
     "text": [
      "100%|██████████| 29/29 [00:55<00:00,  1.90s/it]\n"
     ]
    },
    {
     "name": "stdout",
     "output_type": "stream",
     "text": [
      "Epoch 37/50 - Train Loss: 0.2418 - Train Fbeta: 0.6949\n",
      "Valid Loss: 0.4797 - Valid Fbeta: 0.7692 - Valid MCC: 0.5858952332459788\n",
      "              precision    recall  f1-score   support\n",
      "\n",
      "           0       0.81      0.91      0.86       218\n",
      "           1       0.81      0.65      0.72       130\n",
      "\n",
      "    accuracy                           0.81       348\n",
      "   macro avg       0.81      0.78      0.79       348\n",
      "weighted avg       0.81      0.81      0.81       348\n",
      "\n"
     ]
    },
    {
     "name": "stderr",
     "output_type": "stream",
     "text": [
      "100%|██████████| 29/29 [00:55<00:00,  1.90s/it]\n"
     ]
    },
    {
     "name": "stdout",
     "output_type": "stream",
     "text": [
      "Epoch 38/50 - Train Loss: 0.2833 - Train Fbeta: 0.7006\n",
      "Valid Loss: 0.4781 - Valid Fbeta: 0.7977 - Valid MCC: 0.6131991576775931\n",
      "              precision    recall  f1-score   support\n",
      "\n",
      "           0       0.81      0.94      0.87       218\n",
      "           1       0.85      0.63      0.73       130\n",
      "\n",
      "    accuracy                           0.82       348\n",
      "   macro avg       0.83      0.78      0.80       348\n",
      "weighted avg       0.83      0.82      0.81       348\n",
      "\n"
     ]
    },
    {
     "name": "stderr",
     "output_type": "stream",
     "text": [
      "100%|██████████| 29/29 [00:55<00:00,  1.90s/it]\n"
     ]
    },
    {
     "name": "stdout",
     "output_type": "stream",
     "text": [
      "Epoch 39/50 - Train Loss: 0.2324 - Train Fbeta: 0.7072\n",
      "Valid Loss: 0.5030 - Valid Fbeta: 0.7904 - Valid MCC: 0.6315754413431673\n",
      "              precision    recall  f1-score   support\n",
      "\n",
      "           0       0.84      0.90      0.87       218\n",
      "           1       0.81      0.71      0.76       130\n",
      "\n",
      "    accuracy                           0.83       348\n",
      "   macro avg       0.83      0.81      0.81       348\n",
      "weighted avg       0.83      0.83      0.83       348\n",
      "\n"
     ]
    },
    {
     "name": "stderr",
     "output_type": "stream",
     "text": [
      "100%|██████████| 29/29 [00:55<00:00,  1.90s/it]\n"
     ]
    },
    {
     "name": "stdout",
     "output_type": "stream",
     "text": [
      "Epoch 40/50 - Train Loss: 0.2080 - Train Fbeta: 0.7137\n",
      "Valid Loss: 0.5247 - Valid Fbeta: 0.7367 - Valid MCC: 0.5744744361651659\n",
      "              precision    recall  f1-score   support\n",
      "\n",
      "           0       0.84      0.85      0.84       218\n",
      "           1       0.74      0.72      0.73       130\n",
      "\n",
      "    accuracy                           0.80       348\n",
      "   macro avg       0.79      0.79      0.79       348\n",
      "weighted avg       0.80      0.80      0.80       348\n",
      "\n"
     ]
    },
    {
     "name": "stderr",
     "output_type": "stream",
     "text": [
      "100%|██████████| 29/29 [00:55<00:00,  1.90s/it]\n"
     ]
    },
    {
     "name": "stdout",
     "output_type": "stream",
     "text": [
      "Epoch 41/50 - Train Loss: 0.1863 - Train Fbeta: 0.7200\n",
      "Valid Loss: 0.5191 - Valid Fbeta: 0.7258 - Valid MCC: 0.576169900128941\n",
      "              precision    recall  f1-score   support\n",
      "\n",
      "           0       0.85      0.82      0.84       218\n",
      "           1       0.72      0.76      0.74       130\n",
      "\n",
      "    accuracy                           0.80       348\n",
      "   macro avg       0.78      0.79      0.79       348\n",
      "weighted avg       0.80      0.80      0.80       348\n",
      "\n"
     ]
    },
    {
     "name": "stderr",
     "output_type": "stream",
     "text": [
      "100%|██████████| 29/29 [00:54<00:00,  1.90s/it]\n"
     ]
    },
    {
     "name": "stdout",
     "output_type": "stream",
     "text": [
      "Epoch 42/50 - Train Loss: 0.1560 - Train Fbeta: 0.7265\n",
      "Valid Loss: 0.5244 - Valid Fbeta: 0.7692 - Valid MCC: 0.6072471922682537\n",
      "              precision    recall  f1-score   support\n",
      "\n",
      "           0       0.84      0.89      0.86       218\n",
      "           1       0.79      0.71      0.74       130\n",
      "\n",
      "    accuracy                           0.82       348\n",
      "   macro avg       0.81      0.80      0.80       348\n",
      "weighted avg       0.82      0.82      0.82       348\n",
      "\n"
     ]
    },
    {
     "name": "stderr",
     "output_type": "stream",
     "text": [
      "100%|██████████| 29/29 [00:55<00:00,  1.90s/it]\n"
     ]
    },
    {
     "name": "stdout",
     "output_type": "stream",
     "text": [
      "Epoch 43/50 - Train Loss: 0.1625 - Train Fbeta: 0.7328\n",
      "Valid Loss: 0.5613 - Valid Fbeta: 0.7850 - Valid MCC: 0.6254133668646593\n",
      "              precision    recall  f1-score   support\n",
      "\n",
      "           0       0.84      0.90      0.87       218\n",
      "           1       0.81      0.71      0.75       130\n",
      "\n",
      "    accuracy                           0.83       348\n",
      "   macro avg       0.82      0.80      0.81       348\n",
      "weighted avg       0.83      0.83      0.82       348\n",
      "\n"
     ]
    },
    {
     "name": "stderr",
     "output_type": "stream",
     "text": [
      "100%|██████████| 29/29 [00:55<00:00,  1.90s/it]\n"
     ]
    },
    {
     "name": "stdout",
     "output_type": "stream",
     "text": [
      "Epoch 44/50 - Train Loss: 0.1362 - Train Fbeta: 0.7390\n",
      "Valid Loss: 0.5701 - Valid Fbeta: 0.7541 - Valid MCC: 0.5895347016350253\n",
      "              precision    recall  f1-score   support\n",
      "\n",
      "           0       0.83      0.87      0.85       218\n",
      "           1       0.77      0.71      0.74       130\n",
      "\n",
      "    accuracy                           0.81       348\n",
      "   macro avg       0.80      0.79      0.79       348\n",
      "weighted avg       0.81      0.81      0.81       348\n",
      "\n"
     ]
    },
    {
     "name": "stderr",
     "output_type": "stream",
     "text": [
      "100%|██████████| 29/29 [00:55<00:00,  1.90s/it]\n"
     ]
    },
    {
     "name": "stdout",
     "output_type": "stream",
     "text": [
      "Epoch 45/50 - Train Loss: 0.1238 - Train Fbeta: 0.7450\n",
      "Valid Loss: 0.6738 - Valid Fbeta: 0.7196 - Valid MCC: 0.5623940145371064\n",
      "              precision    recall  f1-score   support\n",
      "\n",
      "           0       0.84      0.82      0.83       218\n",
      "           1       0.71      0.75      0.73       130\n",
      "\n",
      "    accuracy                           0.79       348\n",
      "   macro avg       0.78      0.78      0.78       348\n",
      "weighted avg       0.80      0.79      0.79       348\n",
      "\n"
     ]
    },
    {
     "name": "stderr",
     "output_type": "stream",
     "text": [
      "100%|██████████| 29/29 [00:55<00:00,  1.90s/it]\n"
     ]
    },
    {
     "name": "stdout",
     "output_type": "stream",
     "text": [
      "Epoch 46/50 - Train Loss: 0.0899 - Train Fbeta: 0.7511\n",
      "Valid Loss: 0.7243 - Valid Fbeta: 0.7302 - Valid MCC: 0.5609370952735007\n",
      "              precision    recall  f1-score   support\n",
      "\n",
      "           0       0.83      0.85      0.84       218\n",
      "           1       0.74      0.71      0.72       130\n",
      "\n",
      "    accuracy                           0.80       348\n",
      "   macro avg       0.78      0.78      0.78       348\n",
      "weighted avg       0.79      0.80      0.80       348\n",
      "\n"
     ]
    },
    {
     "name": "stderr",
     "output_type": "stream",
     "text": [
      "100%|██████████| 29/29 [00:55<00:00,  1.90s/it]\n"
     ]
    },
    {
     "name": "stdout",
     "output_type": "stream",
     "text": [
      "Epoch 47/50 - Train Loss: 0.1215 - Train Fbeta: 0.7563\n",
      "Valid Loss: 0.6685 - Valid Fbeta: 0.7295 - Valid MCC: 0.5934839334987331\n",
      "              precision    recall  f1-score   support\n",
      "\n",
      "           0       0.87      0.81      0.84       218\n",
      "           1       0.72      0.79      0.75       130\n",
      "\n",
      "    accuracy                           0.80       348\n",
      "   macro avg       0.79      0.80      0.80       348\n",
      "weighted avg       0.81      0.80      0.81       348\n",
      "\n"
     ]
    },
    {
     "name": "stderr",
     "output_type": "stream",
     "text": [
      "100%|██████████| 29/29 [00:55<00:00,  1.90s/it]\n"
     ]
    },
    {
     "name": "stdout",
     "output_type": "stream",
     "text": [
      "Epoch 48/50 - Train Loss: 0.1125 - Train Fbeta: 0.7615\n",
      "Valid Loss: 0.7604 - Valid Fbeta: 0.7632 - Valid MCC: 0.586520650811533\n",
      "              precision    recall  f1-score   support\n",
      "\n",
      "           0       0.82      0.89      0.86       218\n",
      "           1       0.79      0.67      0.72       130\n",
      "\n",
      "    accuracy                           0.81       348\n",
      "   macro avg       0.81      0.78      0.79       348\n",
      "weighted avg       0.81      0.81      0.81       348\n",
      "\n"
     ]
    },
    {
     "name": "stderr",
     "output_type": "stream",
     "text": [
      "100%|██████████| 29/29 [00:55<00:00,  1.90s/it]\n"
     ]
    },
    {
     "name": "stdout",
     "output_type": "stream",
     "text": [
      "Epoch 49/50 - Train Loss: 0.1112 - Train Fbeta: 0.7664\n",
      "Valid Loss: 0.7442 - Valid Fbeta: 0.7840 - Valid MCC: 0.6185774219369887\n",
      "              precision    recall  f1-score   support\n",
      "\n",
      "           0       0.83      0.90      0.87       218\n",
      "           1       0.81      0.69      0.75       130\n",
      "\n",
      "    accuracy                           0.82       348\n",
      "   macro avg       0.82      0.80      0.81       348\n",
      "weighted avg       0.82      0.82      0.82       348\n",
      "\n"
     ]
    },
    {
     "name": "stderr",
     "output_type": "stream",
     "text": [
      "100%|██████████| 29/29 [00:55<00:00,  1.90s/it]\n"
     ]
    },
    {
     "name": "stdout",
     "output_type": "stream",
     "text": [
      "Epoch 50/50 - Train Loss: 0.0870 - Train Fbeta: 0.7715\n",
      "Valid Loss: 0.8488 - Valid Fbeta: 0.6972 - Valid MCC: 0.5401922268039268\n",
      "              precision    recall  f1-score   support\n",
      "\n",
      "           0       0.85      0.79      0.82       218\n",
      "           1       0.68      0.76      0.72       130\n",
      "\n",
      "    accuracy                           0.78       348\n",
      "   macro avg       0.77      0.78      0.77       348\n",
      "weighted avg       0.79      0.78      0.78       348\n",
      "\n",
      "Test model:\n",
      "Valid Loss: 0.5655 - Valid Fbeta: 0.7274 - Valid MCC: 0.5333354092181162\n",
      "              precision    recall  f1-score   support\n",
      "\n",
      "           0       0.80      0.88      0.84       436\n",
      "           1       0.75      0.64      0.69       261\n",
      "\n",
      "    accuracy                           0.79       697\n",
      "   macro avg       0.78      0.76      0.76       697\n",
      "weighted avg       0.78      0.79      0.78       697\n",
      "\n",
      "Test Loss: 0.5655 - Test Fbeta: 0.7274\n"
     ]
    }
   ],
   "source": [
    "convnext_model = ConvNeXtBaseModel()\n",
    "criterion = nn.CrossEntropyLoss()\n",
    "optimizer = optim.AdamW(convnext_model.parameters(), lr=LEARNING_RATE)\n",
    "model_path = \"model_results/convnext_model_50.pt\"\n",
    "\n",
    "if os.path.isfile(model_path):\n",
    "    print(\"Evaluate model\")\n",
    "    convnext_model.load_state_dict(torch.load(model_path, map_location=torch.device(device)))\n",
    "    print(\"Validation data:\")\n",
    "    validate_model(convnext_model, validation_loader)\n",
    "    print(\"Test data:\")\n",
    "    validate_model(convnext_model, test_loader)\n",
    "else:\n",
    "    print(\"Train model\")\n",
    "    model, train_loss_values, train_f_beta_values, validation_loss_values, validation_f_beta_values = train(convnext_model, model_path, train_loader, validation_loader, test_loader, criterion, optimizer, 50)\n",
    "    np.save(\"model_results/convnext_model_50_train_loss\", train_loss_values)\n",
    "    np.save(\"model_results/convnext_model_50_train_f_beta\", train_f_beta_values)\n",
    "    np.save(\"model_results/convnext_model_50_valid_loss\", validation_loss_values)\n",
    "    np.save(\"model_results/convnext_model_50_valid_f_beta\", validation_f_beta_values)"
   ]
  }
 ],
 "metadata": {
  "kernelspec": {
   "display_name": "Python 3 (ipykernel)",
   "language": "python",
   "name": "python3"
  },
  "language_info": {
   "codemirror_mode": {
    "name": "ipython",
    "version": 3
   },
   "file_extension": ".py",
   "mimetype": "text/x-python",
   "name": "python",
   "nbconvert_exporter": "python",
   "pygments_lexer": "ipython3",
   "version": "3.9.7"
  }
 },
 "nbformat": 4,
 "nbformat_minor": 4
}