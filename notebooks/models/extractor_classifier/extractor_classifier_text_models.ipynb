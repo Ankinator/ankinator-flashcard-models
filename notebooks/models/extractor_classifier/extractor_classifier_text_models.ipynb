{
 "cells": [
  {
   "cell_type": "markdown",
   "source": [
    "# WIP, ignore this notebook"
   ],
   "metadata": {
    "collapsed": false,
    "pycharm": {
     "name": "#%% md\n"
    }
   }
  },
  {
   "cell_type": "code",
   "execution_count": 2,
   "outputs": [],
   "source": [
    "import pandas as pd\n",
    "from tqdm import tqdm\n",
    "import numpy as np\n",
    "import os\n",
    "from torch.utils.data import Dataset\n",
    "import torch\n",
    "from transformers import AutoTokenizer, AutoModelForSequenceClassification\n",
    "from torch.utils.data import Dataset\n",
    "import torch.nn.functional as F\n",
    "\n",
    "from sklearn.metrics import accuracy_score, fbeta_score, classification_report\n",
    "\n",
    "from PIL import Image\n",
    "import numpy as np\n",
    "import os\n",
    "\n",
    "import torch\n",
    "from torch.utils.data import Dataset\n",
    "import torch.optim as optim\n",
    "import torch.nn as nn\n",
    "from torchvision import transforms\n",
    "\n",
    "from sklearn.metrics import classification_report, fbeta_score\n",
    "\n",
    "from tqdm import tqdm\n",
    "import torch.nn.functional as F"
   ],
   "metadata": {
    "collapsed": false,
    "pycharm": {
     "name": "#%%\n"
    }
   }
  },
  {
   "cell_type": "code",
   "execution_count": 13,
   "id": "b56dd439-716e-43d0-8a66-04ad1b2364e9",
   "metadata": {
    "tags": [],
    "pycharm": {
     "name": "#%%\n"
    }
   },
   "outputs": [],
   "source": [
    "# Define hyperparameters\n",
    "BATCH_SIZE = 16\n",
    "LEARNING_RATE = 0.0005"
   ]
  },
  {
   "cell_type": "code",
   "execution_count": 12,
   "id": "da6e9748-0af8-4f8c-9e4f-f79b15083b72",
   "metadata": {
    "tags": [],
    "pycharm": {
     "name": "#%%\n"
    }
   },
   "outputs": [
    {
     "name": "stdout",
     "output_type": "stream",
     "text": [
      "cpu\n"
     ]
    }
   ],
   "source": [
    "# Set the device\n",
    "device = \"cpu\"\n",
    "if torch.cuda.is_available():\n",
    "    device =  \"cuda\"\n",
    "elif torch.backends.mps.is_available():\n",
    "    device = \"mps\" # Use M1 Mac GPU\n",
    "    device = \"cpu\"\n",
    "print(device)"
   ]
  },
  {
   "cell_type": "code",
   "execution_count": 7,
   "id": "6374b607-50df-4336-9884-e2cf287afa66",
   "metadata": {
    "tags": [],
    "pycharm": {
     "name": "#%%\n"
    }
   },
   "outputs": [],
   "source": [
    "def read_from_csv(filename):\n",
    "    df = pd.read_csv(filename)\n",
    "    data = [(str(row['Text']), row['Label']) for _, row in df.iterrows() if len(str(row['Text'])) >= 3 and str(row['Text']) != \"\"]\n",
    "    return data\n",
    "\n",
    "# Example usage:\n",
    "train_list= read_from_csv('../../../datasets/extractor_classifier/train_data_text.csv')\n",
    "validation_list = read_from_csv('../../../datasets/extractor_classifier/validation_data_text.csv')\n",
    "test_list = read_from_csv('../../../datasets/extractor_classifier/test_data_text.csv')"
   ]
  },
  {
   "cell_type": "code",
   "execution_count": 8,
   "id": "06226e90-7000-43b3-a5d4-2574740057e4",
   "metadata": {
    "tags": [],
    "pycharm": {
     "name": "#%%\n"
    }
   },
   "outputs": [],
   "source": [
    "class ExtractorClassifierDataset(Dataset):\n",
    "    def __init__(self, data):\n",
    "        self.data = data\n",
    "\n",
    "    def __len__(self):\n",
    "        return len(self.data)\n",
    "\n",
    "    def __getitem__(self, idx):\n",
    "        text, label = self. data[idx]\n",
    "        label_tensor = torch.zeros(2)\n",
    "        label_tensor[label] = 1\n",
    "        return text, label_tensor\n",
    "\n",
    "# Define the train/validation/test datasets\n",
    "train_data = ExtractorClassifierDataset(train_list)\n",
    "validation_data = ExtractorClassifierDataset(validation_list)\n",
    "test_data = ExtractorClassifierDataset(test_list)"
   ]
  },
  {
   "cell_type": "code",
   "execution_count": 14,
   "id": "51341502-2952-4c2d-b98c-7a96fe5ea419",
   "metadata": {
    "pycharm": {
     "name": "#%%\n"
    }
   },
   "outputs": [],
   "source": [
    "# Define the dataloaders for each dataset\n",
    "train_loader = torch.utils.data.DataLoader(train_data, batch_size=BATCH_SIZE, shuffle=True, )\n",
    "validation_loader = torch.utils.data.DataLoader(validation_data, batch_size=BATCH_SIZE, shuffle=True)\n",
    "test_loader = torch.utils.data.DataLoader(test_data, batch_size=BATCH_SIZE, shuffle=True)"
   ]
  },
  {
   "cell_type": "code",
   "execution_count": 10,
   "outputs": [],
   "source": [
    "def train(model, model_path, tokenizer, train_loader, validation_loader, test_loader, criterion, optimizer, epochs):\n",
    "\n",
    "    model.to(device)\n",
    "\n",
    "    # Define variables to track the best validation accuracy and the corresponding model state\n",
    "    best_valid_f_beta = 0.0\n",
    "    train_loss_values = []\n",
    "    validation_loss_values = []\n",
    "    train_f_beta_values = []\n",
    "    validation_f_beta_values = []\n",
    "\n",
    "    train_true_labels = []\n",
    "    train_predicted_labels = []\n",
    "\n",
    "    for epoch in range(epochs):\n",
    "        # Train the model for one epoch\n",
    "        train_loss = 0.0\n",
    "        model.train()\n",
    "        for texts, labels in tqdm(train_loader):\n",
    "            inputs = tokenizer.batch_encode_plus(texts, return_tensors=\"pt\", truncation=True, padding=True)\n",
    "            inputs = inputs.to(device)\n",
    "            labels = labels.to(device).to(torch.float32)\n",
    "\n",
    "            optimizer.zero_grad()\n",
    "            outputs = model(**inputs)\n",
    "            loss = criterion(outputs.logits, labels)\n",
    "            train_loss += loss.item() * len(texts)\n",
    "            loss.backward()\n",
    "            optimizer.step()\n",
    "\n",
    "            outputs = F.softmax(outputs.logits, dim=1)\n",
    "            _, predicted = torch.max(outputs.data, 1)\n",
    "            _, labels = torch.max(labels.data, 1)\n",
    "\n",
    "            train_predicted_labels.extend(predicted.detach().cpu())\n",
    "            train_true_labels.extend(labels.detach().cpu())\n",
    "\n",
    "        train_loss = train_loss / len(train_loader.dataset)\n",
    "        train_loss_values.append(train_loss)\n",
    "\n",
    "        train_f_beta = fbeta_score(train_true_labels, train_predicted_labels, average=\"binary\", beta=0.5)\n",
    "        train_f_beta_values.append(train_f_beta)\n",
    "\n",
    "        print(f\"Epoch {epoch+1}/{epochs} - \"\n",
    "              f\"Train Loss: {train_loss:.4f} - Train Fbeta: {train_f_beta:.4f}\")\n",
    "\n",
    "        # Evaluate the model on the validation set\n",
    "        validation_loss, validation_f_beta = validate_model(model, validation_loader, tokenizer)\n",
    "        validation_loss_values.append(validation_loss)\n",
    "        validation_f_beta_values.append(validation_f_beta)\n",
    "\n",
    "        # Save the model state if the current validation accuracy is better than the previous best\n",
    "        if validation_f_beta > best_valid_f_beta:\n",
    "            best_valid_f_beta = validation_f_beta\n",
    "            print(f\"Updated best model: epoch {epoch+1}\")\n",
    "            model.save_pretrained(model_path)\n",
    "\n",
    "    # Load the best model state and evaluate on the test set\n",
    "    model.load_state_dict(torch.load(model_path, map_location=torch.device(device)))\n",
    "    print(\"Test model:\")\n",
    "    test_loss, test_f_beta = validate_model(model, test_loader, tokenizer)\n",
    "    print(f\"Test Loss: {test_loss:.4f} - Test Fbeta: {test_f_beta:.4f}\")\n",
    "\n",
    "    return model, train_loss_values, train_f_beta_values, validation_loss_values, validation_f_beta_values\n",
    "\n",
    "def validate_model(model, data_loader, tokenizer):\n",
    "    model.to(device)\n",
    "    model.eval()\n",
    "\n",
    "    valid_loss = 0.0\n",
    "    valid_true_labels = []\n",
    "    valid_predicted_labels = []\n",
    "\n",
    "    with torch.no_grad():\n",
    "        for texts, labels in data_loader:\n",
    "            inputs = tokenizer.batch_encode_plus(texts, return_tensors=\"pt\", truncation=True, padding=True)\n",
    "            inputs = inputs.to(device)\n",
    "            labels = labels.to(device).to(torch.float32)\n",
    "            outputs = model(**inputs)\n",
    "\n",
    "            loss = criterion(outputs.logits, labels)\n",
    "            valid_loss += loss.item() * len(texts)\n",
    "\n",
    "            outputs = F.softmax(outputs.logits, dim=1)\n",
    "            _, predicted = torch.max(outputs.data, 1)\n",
    "            _, labels = torch.max(labels.data, 1)\n",
    "\n",
    "            valid_predicted_labels.extend(predicted.detach().cpu())\n",
    "            valid_true_labels.extend(labels.detach().cpu())\n",
    "\n",
    "    f_beta_score = fbeta_score(valid_true_labels, valid_predicted_labels, average=\"binary\", beta=0.5)\n",
    "    valid_loss = valid_loss / len(data_loader.dataset)\n",
    "\n",
    "    print(f\"Valid Loss: {valid_loss:.4f} - Valid Fbeta: {f_beta_score:.4f}\")\n",
    "    print(classification_report(valid_true_labels, valid_predicted_labels))\n",
    "    return valid_loss, f_beta_score"
   ],
   "metadata": {
    "collapsed": false,
    "pycharm": {
     "name": "#%%\n"
    }
   }
  },
  {
   "cell_type": "code",
   "execution_count": 15,
   "id": "e28e047e-f95a-454c-aea2-b756bb987ca4",
   "metadata": {
    "tags": [],
    "pycharm": {
     "name": "#%%\n"
    }
   },
   "outputs": [
    {
     "name": "stderr",
     "output_type": "stream",
     "text": [
      "Some weights of the model checkpoint at roberta-base were not used when initializing RobertaForSequenceClassification: ['lm_head.dense.weight', 'lm_head.dense.bias', 'lm_head.layer_norm.weight', 'lm_head.layer_norm.bias', 'lm_head.bias']\n",
      "- This IS expected if you are initializing RobertaForSequenceClassification from the checkpoint of a model trained on another task or with another architecture (e.g. initializing a BertForSequenceClassification model from a BertForPreTraining model).\n",
      "- This IS NOT expected if you are initializing RobertaForSequenceClassification from the checkpoint of a model that you expect to be exactly identical (initializing a BertForSequenceClassification model from a BertForSequenceClassification model).\n",
      "Some weights of RobertaForSequenceClassification were not initialized from the model checkpoint at roberta-base and are newly initialized: ['classifier.out_proj.bias', 'classifier.dense.weight', 'classifier.out_proj.weight', 'classifier.dense.bias']\n",
      "You should probably TRAIN this model on a down-stream task to be able to use it for predictions and inference.\n"
     ]
    },
    {
     "name": "stdout",
     "output_type": "stream",
     "text": [
      "Train model\n"
     ]
    },
    {
     "name": "stderr",
     "output_type": "stream",
     "text": [
      " 22%|██▏       | 24/110 [05:10<18:31, 12.93s/it]\n"
     ]
    },
    {
     "ename": "KeyboardInterrupt",
     "evalue": "",
     "output_type": "error",
     "traceback": [
      "\u001B[0;31m---------------------------------------------------------------------------\u001B[0m",
      "\u001B[0;31mKeyboardInterrupt\u001B[0m                         Traceback (most recent call last)",
      "Cell \u001B[0;32mIn[15], line 16\u001B[0m\n\u001B[1;32m     14\u001B[0m \u001B[38;5;28;01melse\u001B[39;00m:\n\u001B[1;32m     15\u001B[0m     \u001B[38;5;28mprint\u001B[39m(\u001B[38;5;124m\"\u001B[39m\u001B[38;5;124mTrain model\u001B[39m\u001B[38;5;124m\"\u001B[39m)\n\u001B[0;32m---> 16\u001B[0m     model, train_loss_values, train_f_beta_values, validation_loss_values, validation_f_beta_values \u001B[38;5;241m=\u001B[39m \u001B[43mtrain\u001B[49m\u001B[43m(\u001B[49m\u001B[43mmodel\u001B[49m\u001B[43m,\u001B[49m\u001B[43m \u001B[49m\u001B[43mmodel_path\u001B[49m\u001B[43m,\u001B[49m\u001B[43m \u001B[49m\u001B[43mtokenizer\u001B[49m\u001B[43m,\u001B[49m\u001B[43m \u001B[49m\u001B[43mtrain_loader\u001B[49m\u001B[43m,\u001B[49m\u001B[43m \u001B[49m\u001B[43mvalidation_loader\u001B[49m\u001B[43m,\u001B[49m\u001B[43m \u001B[49m\u001B[43mtest_loader\u001B[49m\u001B[43m,\u001B[49m\u001B[43m \u001B[49m\u001B[43mcriterion\u001B[49m\u001B[43m,\u001B[49m\u001B[43m \u001B[49m\u001B[43moptimizer\u001B[49m\u001B[43m,\u001B[49m\u001B[43m \u001B[49m\u001B[38;5;241;43m50\u001B[39;49m\u001B[43m)\u001B[49m\n\u001B[1;32m     17\u001B[0m     np\u001B[38;5;241m.\u001B[39msave(\u001B[38;5;124m\"\u001B[39m\u001B[38;5;124mmodel_roberta/roberta_train_loss\u001B[39m\u001B[38;5;124m\"\u001B[39m, train_loss_values)\n\u001B[1;32m     18\u001B[0m     np\u001B[38;5;241m.\u001B[39msave(\u001B[38;5;124m\"\u001B[39m\u001B[38;5;124mmodel_roberta/roberta_train_f_beta\u001B[39m\u001B[38;5;124m\"\u001B[39m, train_f_beta_values)\n",
      "Cell \u001B[0;32mIn[10], line 28\u001B[0m, in \u001B[0;36mtrain\u001B[0;34m(model, model_path, tokenizer, train_loader, validation_loader, test_loader, criterion, optimizer, epochs)\u001B[0m\n\u001B[1;32m     26\u001B[0m loss \u001B[38;5;241m=\u001B[39m criterion(outputs\u001B[38;5;241m.\u001B[39mlogits, labels)\n\u001B[1;32m     27\u001B[0m train_loss \u001B[38;5;241m+\u001B[39m\u001B[38;5;241m=\u001B[39m loss\u001B[38;5;241m.\u001B[39mitem() \u001B[38;5;241m*\u001B[39m \u001B[38;5;28mlen\u001B[39m(texts)\n\u001B[0;32m---> 28\u001B[0m \u001B[43mloss\u001B[49m\u001B[38;5;241;43m.\u001B[39;49m\u001B[43mbackward\u001B[49m\u001B[43m(\u001B[49m\u001B[43m)\u001B[49m\n\u001B[1;32m     29\u001B[0m optimizer\u001B[38;5;241m.\u001B[39mstep()\n\u001B[1;32m     31\u001B[0m outputs \u001B[38;5;241m=\u001B[39m F\u001B[38;5;241m.\u001B[39msoftmax(outputs\u001B[38;5;241m.\u001B[39mlogits, dim\u001B[38;5;241m=\u001B[39m\u001B[38;5;241m1\u001B[39m)\n",
      "File \u001B[0;32m~/opt/miniconda3/envs/ankinator/lib/python3.10/site-packages/torch/_tensor.py:487\u001B[0m, in \u001B[0;36mTensor.backward\u001B[0;34m(self, gradient, retain_graph, create_graph, inputs)\u001B[0m\n\u001B[1;32m    477\u001B[0m \u001B[38;5;28;01mif\u001B[39;00m has_torch_function_unary(\u001B[38;5;28mself\u001B[39m):\n\u001B[1;32m    478\u001B[0m     \u001B[38;5;28;01mreturn\u001B[39;00m handle_torch_function(\n\u001B[1;32m    479\u001B[0m         Tensor\u001B[38;5;241m.\u001B[39mbackward,\n\u001B[1;32m    480\u001B[0m         (\u001B[38;5;28mself\u001B[39m,),\n\u001B[0;32m   (...)\u001B[0m\n\u001B[1;32m    485\u001B[0m         inputs\u001B[38;5;241m=\u001B[39minputs,\n\u001B[1;32m    486\u001B[0m     )\n\u001B[0;32m--> 487\u001B[0m \u001B[43mtorch\u001B[49m\u001B[38;5;241;43m.\u001B[39;49m\u001B[43mautograd\u001B[49m\u001B[38;5;241;43m.\u001B[39;49m\u001B[43mbackward\u001B[49m\u001B[43m(\u001B[49m\n\u001B[1;32m    488\u001B[0m \u001B[43m    \u001B[49m\u001B[38;5;28;43mself\u001B[39;49m\u001B[43m,\u001B[49m\u001B[43m \u001B[49m\u001B[43mgradient\u001B[49m\u001B[43m,\u001B[49m\u001B[43m \u001B[49m\u001B[43mretain_graph\u001B[49m\u001B[43m,\u001B[49m\u001B[43m \u001B[49m\u001B[43mcreate_graph\u001B[49m\u001B[43m,\u001B[49m\u001B[43m \u001B[49m\u001B[43minputs\u001B[49m\u001B[38;5;241;43m=\u001B[39;49m\u001B[43minputs\u001B[49m\n\u001B[1;32m    489\u001B[0m \u001B[43m\u001B[49m\u001B[43m)\u001B[49m\n",
      "File \u001B[0;32m~/opt/miniconda3/envs/ankinator/lib/python3.10/site-packages/torch/autograd/__init__.py:200\u001B[0m, in \u001B[0;36mbackward\u001B[0;34m(tensors, grad_tensors, retain_graph, create_graph, grad_variables, inputs)\u001B[0m\n\u001B[1;32m    195\u001B[0m     retain_graph \u001B[38;5;241m=\u001B[39m create_graph\n\u001B[1;32m    197\u001B[0m \u001B[38;5;66;03m# The reason we repeat same the comment below is that\u001B[39;00m\n\u001B[1;32m    198\u001B[0m \u001B[38;5;66;03m# some Python versions print out the first line of a multi-line function\u001B[39;00m\n\u001B[1;32m    199\u001B[0m \u001B[38;5;66;03m# calls in the traceback and some print out the last line\u001B[39;00m\n\u001B[0;32m--> 200\u001B[0m \u001B[43mVariable\u001B[49m\u001B[38;5;241;43m.\u001B[39;49m\u001B[43m_execution_engine\u001B[49m\u001B[38;5;241;43m.\u001B[39;49m\u001B[43mrun_backward\u001B[49m\u001B[43m(\u001B[49m\u001B[43m  \u001B[49m\u001B[38;5;66;43;03m# Calls into the C++ engine to run the backward pass\u001B[39;49;00m\n\u001B[1;32m    201\u001B[0m \u001B[43m    \u001B[49m\u001B[43mtensors\u001B[49m\u001B[43m,\u001B[49m\u001B[43m \u001B[49m\u001B[43mgrad_tensors_\u001B[49m\u001B[43m,\u001B[49m\u001B[43m \u001B[49m\u001B[43mretain_graph\u001B[49m\u001B[43m,\u001B[49m\u001B[43m \u001B[49m\u001B[43mcreate_graph\u001B[49m\u001B[43m,\u001B[49m\u001B[43m \u001B[49m\u001B[43minputs\u001B[49m\u001B[43m,\u001B[49m\n\u001B[1;32m    202\u001B[0m \u001B[43m    \u001B[49m\u001B[43mallow_unreachable\u001B[49m\u001B[38;5;241;43m=\u001B[39;49m\u001B[38;5;28;43;01mTrue\u001B[39;49;00m\u001B[43m,\u001B[49m\u001B[43m \u001B[49m\u001B[43maccumulate_grad\u001B[49m\u001B[38;5;241;43m=\u001B[39;49m\u001B[38;5;28;43;01mTrue\u001B[39;49;00m\u001B[43m)\u001B[49m\n",
      "\u001B[0;31mKeyboardInterrupt\u001B[0m: "
     ]
    }
   ],
   "source": [
    "tokenizer = AutoTokenizer.from_pretrained(\"roberta-base\")\n",
    "model = AutoModelForSequenceClassification.from_pretrained(\"roberta-base\", num_labels=2)\n",
    "criterion = nn.CrossEntropyLoss()\n",
    "optimizer = torch.optim.AdamW(model.parameters(), lr=LEARNING_RATE)\n",
    "model_path = \"model_roberta\"\n",
    "\n",
    "if os.path.isfile(model_path):\n",
    "    print(\"Evaluate model\")\n",
    "    model.from_pretrained(model_path)\n",
    "    print(\"Validation data:\")\n",
    "    validate_model(model, validation_loader, tokenizer)\n",
    "    print(\"Test data:\")\n",
    "    validate_model(model, test_loader, tokenizer)\n",
    "else:\n",
    "    print(\"Train model\")\n",
    "    model, train_loss_values, train_f_beta_values, validation_loss_values, validation_f_beta_values = train(model, model_path, tokenizer, train_loader, validation_loader, test_loader, criterion, optimizer, 50)\n",
    "    np.save(\"model_roberta/roberta_train_loss\", train_loss_values)\n",
    "    np.save(\"model_roberta/roberta_train_f_beta\", train_f_beta_values)\n",
    "    np.save(\"model_roberta/rroberta_valid_loss\", validation_loss_values)\n",
    "    np.save(\"model_roberta/roberta_valid_f_beta\", validation_f_beta_values)"
   ]
  }
 ],
 "metadata": {
  "kernelspec": {
   "display_name": "Python 3 (ipykernel)",
   "language": "python",
   "name": "python3"
  },
  "language_info": {
   "codemirror_mode": {
    "name": "ipython",
    "version": 3
   },
   "file_extension": ".py",
   "mimetype": "text/x-python",
   "name": "python",
   "nbconvert_exporter": "python",
   "pygments_lexer": "ipython3",
   "version": "3.9.7"
  }
 },
 "nbformat": 4,
 "nbformat_minor": 5
}