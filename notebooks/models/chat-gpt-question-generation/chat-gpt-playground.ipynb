{
 "cells": [
  {
   "cell_type": "markdown",
   "source": [
    "# Notebook for playing with Chat GPT for question generation"
   ],
   "metadata": {
    "collapsed": false
   }
  },
  {
   "cell_type": "code",
   "execution_count": 7,
   "outputs": [],
   "source": [
    "import requests\n",
    "import os\n",
    "from dotenv import load_dotenv\n",
    "import openai\n",
    "\n",
    "load_dotenv()\n",
    "openai.api_key = os.getenv(\"OPENAI-API-KEY\")"
   ],
   "metadata": {
    "collapsed": false
   }
  },
  {
   "cell_type": "code",
   "execution_count": 9,
   "outputs": [],
   "source": [
    "def chatGPT(prompt):\n",
    "  completion = openai.ChatCompletion.create(\n",
    "  model=\"gpt-3.5-turbo\",\n",
    "  messages=[\n",
    "  {\"role\": \"user\", \"content\": prompt}\n",
    "  ]\n",
    "  )\n",
    "  return print(completion.choices[0].message.content)"
   ],
   "metadata": {
    "collapsed": false
   }
  },
  {
   "cell_type": "markdown",
   "source": [
    "GPT 3 is asked to generate a question for a given input"
   ],
   "metadata": {
    "collapsed": false
   }
  },
  {
   "cell_type": "code",
   "execution_count": 14,
   "outputs": [
    {
     "name": "stdout",
     "output_type": "stream",
     "text": [
      "What is malware and what are its possible goals?\n"
     ]
    }
   ],
   "source": [
    "card_back = \"\"\"Definition of Malware\n",
    "• Malware = short for malicious software\n",
    "• Refers to any software with malicious intention\n",
    "• Possible goals of malware\n",
    "  – Disrupt computer operations\n",
    "  – Steal sensitive information\n",
    "  – Gain access– Display unwanted advertising\"\"\"\n",
    "\n",
    "chatGPT(\"Generate a question in a flashcard style for the following content: \" + card_back)"
   ],
   "metadata": {
    "collapsed": false
   }
  },
  {
   "cell_type": "markdown",
   "source": [
    "Does work nicely for the given example input. We try harder ones."
   ],
   "metadata": {
    "collapsed": false
   }
  },
  {
   "cell_type": "code",
   "execution_count": 16,
   "outputs": [
    {
     "name": "stdout",
     "output_type": "stream",
     "text": [
      "What are the different methods of distribution for malware during phase 2 of the cyber attack cycle?\n"
     ]
    }
   ],
   "source": [
    "card_back = \"\"\"Phase 2: Distribution\n",
    "Development Distribution Infection\n",
    "• Goal of malware is to be executed on a victim’s system\n",
    "• Requires that it is distributed to its intended targets\n",
    "• Variety of delivery methods\n",
    "– Delivery over e-mail, e.g., scam mails\n",
    "– Physical delivery, e.g., USB stick\n",
    "– Delivery over websites, e.g., fake website,\n",
    "compromised website\n",
    "\"\"\"\n",
    "\n",
    "chatGPT(\"Generate a question in a flashcard style for the following content: \" + card_back)"
   ],
   "metadata": {
    "collapsed": false
   }
  },
  {
   "cell_type": "code",
   "execution_count": 18,
   "outputs": [
    {
     "name": "stdout",
     "output_type": "stream",
     "text": [
      "What are some possible challenges that malware may face during the infection phase?\n"
     ]
    }
   ],
   "source": [
    "card_back = \"\"\"Phase 3: Infection\n",
    "Development Distribution Infection Post-Infection\n",
    "• Once malware reached its target, it aims to infect it\n",
    "• Possible challenges – Antivirus software\n",
    "– Software bugs\n",
    "– Inappropriate execution environment\n",
    "Prof. Dr. Frederik Armknecht - Chair of Computer Science IV\n",
    "Selected Topics in IT-Security 6\n",
    "\"\"\"\n",
    "\n",
    "chatGPT(\"Generate a question in a flashcard style for the following content: \" + card_back)"
   ],
   "metadata": {
    "collapsed": false
   }
  }
 ],
 "metadata": {
  "kernelspec": {
   "display_name": "Python 3",
   "language": "python",
   "name": "python3"
  },
  "language_info": {
   "codemirror_mode": {
    "name": "ipython",
    "version": 2
   },
   "file_extension": ".py",
   "mimetype": "text/x-python",
   "name": "python",
   "nbconvert_exporter": "python",
   "pygments_lexer": "ipython2",
   "version": "2.7.6"
  }
 },
 "nbformat": 4,
 "nbformat_minor": 0
}
