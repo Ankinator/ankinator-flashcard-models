{
 "cells": [
  {
   "cell_type": "code",
   "execution_count": 4,
   "outputs": [
    {
     "data": {
      "text/plain": "[(0,\n  'Selected Topics in IT-Security\\r\\nProf. Dr. Frederik Armknecht - Chair of Computer Science IV \\r\\nThreat Model',\n  'Fealitet\\nSelected Topics in IT-Security BB OF MANNHEIM\\n\\nProf. Dr. Frederik Armknecht - Chair of Computer Science IV and Mathematics\\n\\nSr SS [= «es — ae\\nme\\n\\n2 Threat Model\\n\\n“a 1 fils\\n\\nshal 24] if | 7 a\\nrile.\\n\\n',\n  <PIL.Image.Image image mode=RGB size=1921x1081>),\n (1,\n  'Simple Model\\r\\n1. User(s)\\r\\n• Access the system resp. resources \\r\\nof the system\\r\\n2. System\\r\\n• PC, server, smart phone, etc.\\r\\n3. Network connection\\r\\n• Connects the system to the \\r\\noutside\\r\\n4. Attacker\\r\\nSelected Topics in IT-Security\\r\\nProf. Dr. Frederik Armknecht - Chair of Computer Science IV \\r\\n2\\r\\nUser\\r\\nNetwork System\\r\\nAccess\\r\\nAttacker',\n  'Simple Model\\n\\n1. User(s)\\n\\n* Access the system resp. resources\\nof the system\\n\\n2. System\\n* — PC, server, smart phone, etc.\\n3. Network connection\\n\\n* Connects the system to the\\noutside\\n\\n4. Attacker\\n\\nProf. Dr. Frederik Armknecht - Chair of Computer Science IV\\n\\nSelected Topics in IT-Security\\n\\nAttacker\\n\\n>\\n\\nte\\nae UNIVERSITY\\n2) OF MANNHEIM\\n\\n— School of Business Informatics\\nand Mathematics\\n\\nUser\\n\\nAccess\\n',\n  <PIL.Image.Image image mode=RGB size=1921x1081>),\n (2,\n  'IT-Security\\r\\n• Security (german: Sicherheit)\\r\\n– Aims for protection against intended attacks\\r\\n• Informal definition of security\\r\\n– A system is secure if an attacker cannot successfully attack it with reasonable \\r\\nresources and/or reasonable probability.\\r\\n• Meaningless unless we specify\\r\\n– What kind of attacker do we consider?\\r\\n– When is an attack considered to be successful?\\r\\n– What does reasonable resources/probability mean?\\r\\nSelected Topics in IT-Security\\r\\nProf. Dr. Frederik Armknecht - Chair of Computer Science IV \\r\\n3',\n  'rs\\nF UNIVERSITY\\nIT-Security BOR MANNHEIM\\n—— School of Business Informatics\\nand Mathematics\\n\\n* Security (german: Sicherheit)\\n— Aims for protection against intended attacks\\n¢ Informal definition of security\\n— Asystem is secure if an attacker cannot successfully attack it with reasonable\\nresources and/or reasonable probability.\\n¢ Meaningless unless we specify\\n— What kind of attacker do we consider?\\n— When is an attack considered to be successful?\\n— What does reasonable resources/probability mean?\\n\\nProf. Dr. Frederik Armknecht - Chair of Computer Science IV\\nSelected Topics in IT-Security 3\\n',\n  <PIL.Image.Image image mode=RGB size=1921x1081>),\n (3,\n  'Attacker - Examples\\r\\n• National agency\\r\\n• Criminal\\r\\n• Geek\\r\\n• Script kiddy\\r\\nSelected Topics in IT-Security\\r\\nProf. Dr. Frederik Armknecht - Chair of Computer Science IV \\r\\n4',\n  'ol\\nAttacker - Examples SB OF MANNHEIM\\n——— School of Business Informatics\\nand Mathematics\\n\\n* National agency\\n* Criminal\\n\\n* Geek\\n\\n* Script kiddy\\n\\nProf. Dr. Frederik Armknecht - Chair of Computer Science IV\\nSelected Topics in IT-Security 4\\n',\n  <PIL.Image.Image image mode=RGB size=1921x1081>),\n (4,\n  'Attacker Model\\r\\n• Usually specifies what the knowledge and capabilities of an attacker\\r\\n• Knowledge\\r\\n– Technical Knowledge?\\r\\n– Details of the system?\\r\\n– Insider vs. outsider attackers?\\r\\n• Capabilities\\r\\n– Resources\\r\\n– Software-only vs. physical access?\\r\\nSelected Topics in IT-Security\\r\\nProf. Dr. Frederik Armknecht - Chair of Computer Science IV \\r\\n5',\n  'te\\nAttacker Model Be OP MANNHEIM\\n\\n—— School of Business Informatics\\nand Mathematics\\n\\n¢ Usually specifies what the knowledge and capabilities of an attacker\\n* Knowledge\\n\\n— Technical Knowledge?\\n\\n— Details of the system?\\n\\n— Insider vs. outsider attackers?\\n* Capabilities\\n\\n— Resources\\n\\n— Software-only vs. physical access?\\n\\nProf. Dr. Frederik Armknecht - Chair of Computer Science IV\\n\\nSelected Topics in IT-Security 5\\n',\n  <PIL.Image.Image image mode=RGB size=1921x1081>)]"
     },
     "execution_count": 4,
     "metadata": {},
     "output_type": "execute_result"
    }
   ],
   "source": [
    "import pandas as pd\n",
    "\n",
    "from src.datageneration.extractor import extract_text\n",
    "from pypdfium2 import PdfDocument\n",
    "\n",
    "\n",
    "slide_path = \"IT-Security_all_slides_no_duplicates.pdf\"\n",
    "pdf = PdfDocument(slide_path)\n",
    "\n",
    "text = extract_text(pdf.raw, None)"
   ],
   "metadata": {
    "collapsed": false,
    "ExecuteTime": {
     "end_time": "2023-07-17T10:55:37.366057Z",
     "start_time": "2023-07-17T10:47:50.999242Z"
    }
   }
  },
  {
   "cell_type": "code",
   "execution_count": 5,
   "outputs": [],
   "source": [
    "df = pd.DataFrame(text,columns=['id','context','ocr','img'])"
   ],
   "metadata": {
    "collapsed": false,
    "ExecuteTime": {
     "end_time": "2023-07-17T10:55:37.373902Z",
     "start_time": "2023-07-17T10:55:37.372044Z"
    }
   }
  },
  {
   "cell_type": "code",
   "execution_count": 6,
   "outputs": [
    {
     "data": {
      "text/plain": "      id                                            context  \\\n0      0  Selected Topics in IT-Security\\r\\nProf. Dr. Fr...   \n1      1  Simple Model\\r\\n1. User(s)\\r\\n• Access the sys...   \n2      2  IT-Security\\r\\n• Security (german: Sicherheit)...   \n3      3  Attacker - Examples\\r\\n• National agency\\r\\n• ...   \n4      4  Attacker Model\\r\\n• Usually specifies what the...   \n..   ...                                                ...   \n591  591  Differential Privacy\\r\\nIntuition\\r\\n• Assume ...   \n592  592  Differential Privacy\\r\\nDefinition (Simplified...   \n593  593  On the Parameter \\r\\nPr  ଵ =  ≤ ఢ ⋅ Pr  ଶ = \\r...   \n594  594  Privacy Budget\\r\\n• Defines an upper bound on ...   \n595  595  Making Algorithms Differentially Private\\r\\n• ...   \n\n                                                   ocr  \\\n0    Fealitet\\nSelected Topics in IT-Security BB OF...   \n1    Simple Model\\n\\n1. User(s)\\n\\n* Access the sys...   \n2    rs\\nF UNIVERSITY\\nIT-Security BOR MANNHEIM\\n——...   \n3    ol\\nAttacker - Examples SB OF MANNHEIM\\n——— Sc...   \n4    te\\nAttacker Model Be OP MANNHEIM\\n\\n—— School...   \n..                                                 ...   \n591  te\\nGee 5 UNIVERSITY\\n\\nDifferential Privacy 8...   \n592  ol\\nDifferential Privacy Be) OF MANNHEIM\\n\\n— ...   \n593  te\\n\\nSeta UNIVERSITY\\nOn the Parameter €-2o B...   \n594  Privacy Budget\\n\\n* Defines an upper bound on ...   \n595  ot\\nMaking Algorithms Differentially Private S...   \n\n                                                   img  \n0    <PIL.Image.Image image mode=RGB size=1921x1081...  \n1    <PIL.Image.Image image mode=RGB size=1921x1081...  \n2    <PIL.Image.Image image mode=RGB size=1921x1081...  \n3    <PIL.Image.Image image mode=RGB size=1921x1081...  \n4    <PIL.Image.Image image mode=RGB size=1921x1081...  \n..                                                 ...  \n591  <PIL.Image.Image image mode=RGB size=1921x1081...  \n592  <PIL.Image.Image image mode=RGB size=1921x1081...  \n593  <PIL.Image.Image image mode=RGB size=1921x1081...  \n594  <PIL.Image.Image image mode=RGB size=1921x1081...  \n595  <PIL.Image.Image image mode=RGB size=1921x1081...  \n\n[596 rows x 4 columns]",
      "text/html": "<div>\n<style scoped>\n    .dataframe tbody tr th:only-of-type {\n        vertical-align: middle;\n    }\n\n    .dataframe tbody tr th {\n        vertical-align: top;\n    }\n\n    .dataframe thead th {\n        text-align: right;\n    }\n</style>\n<table border=\"1\" class=\"dataframe\">\n  <thead>\n    <tr style=\"text-align: right;\">\n      <th></th>\n      <th>id</th>\n      <th>context</th>\n      <th>ocr</th>\n      <th>img</th>\n    </tr>\n  </thead>\n  <tbody>\n    <tr>\n      <th>0</th>\n      <td>0</td>\n      <td>Selected Topics in IT-Security\\r\\nProf. Dr. Fr...</td>\n      <td>Fealitet\\nSelected Topics in IT-Security BB OF...</td>\n      <td>&lt;PIL.Image.Image image mode=RGB size=1921x1081...</td>\n    </tr>\n    <tr>\n      <th>1</th>\n      <td>1</td>\n      <td>Simple Model\\r\\n1. User(s)\\r\\n• Access the sys...</td>\n      <td>Simple Model\\n\\n1. User(s)\\n\\n* Access the sys...</td>\n      <td>&lt;PIL.Image.Image image mode=RGB size=1921x1081...</td>\n    </tr>\n    <tr>\n      <th>2</th>\n      <td>2</td>\n      <td>IT-Security\\r\\n• Security (german: Sicherheit)...</td>\n      <td>rs\\nF UNIVERSITY\\nIT-Security BOR MANNHEIM\\n——...</td>\n      <td>&lt;PIL.Image.Image image mode=RGB size=1921x1081...</td>\n    </tr>\n    <tr>\n      <th>3</th>\n      <td>3</td>\n      <td>Attacker - Examples\\r\\n• National agency\\r\\n• ...</td>\n      <td>ol\\nAttacker - Examples SB OF MANNHEIM\\n——— Sc...</td>\n      <td>&lt;PIL.Image.Image image mode=RGB size=1921x1081...</td>\n    </tr>\n    <tr>\n      <th>4</th>\n      <td>4</td>\n      <td>Attacker Model\\r\\n• Usually specifies what the...</td>\n      <td>te\\nAttacker Model Be OP MANNHEIM\\n\\n—— School...</td>\n      <td>&lt;PIL.Image.Image image mode=RGB size=1921x1081...</td>\n    </tr>\n    <tr>\n      <th>...</th>\n      <td>...</td>\n      <td>...</td>\n      <td>...</td>\n      <td>...</td>\n    </tr>\n    <tr>\n      <th>591</th>\n      <td>591</td>\n      <td>Differential Privacy\\r\\nIntuition\\r\\n• Assume ...</td>\n      <td>te\\nGee 5 UNIVERSITY\\n\\nDifferential Privacy 8...</td>\n      <td>&lt;PIL.Image.Image image mode=RGB size=1921x1081...</td>\n    </tr>\n    <tr>\n      <th>592</th>\n      <td>592</td>\n      <td>Differential Privacy\\r\\nDefinition (Simplified...</td>\n      <td>ol\\nDifferential Privacy Be) OF MANNHEIM\\n\\n— ...</td>\n      <td>&lt;PIL.Image.Image image mode=RGB size=1921x1081...</td>\n    </tr>\n    <tr>\n      <th>593</th>\n      <td>593</td>\n      <td>On the Parameter \\r\\nPr  ଵ =  ≤ ఢ ⋅ Pr  ଶ = \\r...</td>\n      <td>te\\n\\nSeta UNIVERSITY\\nOn the Parameter €-2o B...</td>\n      <td>&lt;PIL.Image.Image image mode=RGB size=1921x1081...</td>\n    </tr>\n    <tr>\n      <th>594</th>\n      <td>594</td>\n      <td>Privacy Budget\\r\\n• Defines an upper bound on ...</td>\n      <td>Privacy Budget\\n\\n* Defines an upper bound on ...</td>\n      <td>&lt;PIL.Image.Image image mode=RGB size=1921x1081...</td>\n    </tr>\n    <tr>\n      <th>595</th>\n      <td>595</td>\n      <td>Making Algorithms Differentially Private\\r\\n• ...</td>\n      <td>ot\\nMaking Algorithms Differentially Private S...</td>\n      <td>&lt;PIL.Image.Image image mode=RGB size=1921x1081...</td>\n    </tr>\n  </tbody>\n</table>\n<p>596 rows × 4 columns</p>\n</div>"
     },
     "execution_count": 6,
     "metadata": {},
     "output_type": "execute_result"
    }
   ],
   "source": [
    "df"
   ],
   "metadata": {
    "collapsed": false,
    "ExecuteTime": {
     "end_time": "2023-07-17T10:55:37.410159Z",
     "start_time": "2023-07-17T10:55:37.375395Z"
    }
   }
  },
  {
   "cell_type": "code",
   "execution_count": 7,
   "outputs": [],
   "source": [
    "df1 = df[['id','context']]"
   ],
   "metadata": {
    "collapsed": false,
    "ExecuteTime": {
     "end_time": "2023-07-17T10:55:37.419818Z",
     "start_time": "2023-07-17T10:55:37.409981Z"
    }
   }
  },
  {
   "cell_type": "code",
   "execution_count": 9,
   "outputs": [
    {
     "name": "stderr",
     "output_type": "stream",
     "text": [
      "/var/folders/7j/mf5p4rjs4pv7s2ctxyh2kzyr0000gn/T/ipykernel_33539/979334002.py:1: SettingWithCopyWarning: \n",
      "A value is trying to be set on a copy of a slice from a DataFrame.\n",
      "Try using .loc[row_indexer,col_indexer] = value instead\n",
      "\n",
      "See the caveats in the documentation: https://pandas.pydata.org/pandas-docs/stable/user_guide/indexing.html#returning-a-view-versus-a-copy\n",
      "  df1['id'] += 1\n"
     ]
    }
   ],
   "source": [
    "df1['id'] += 1"
   ],
   "metadata": {
    "collapsed": false,
    "ExecuteTime": {
     "end_time": "2023-07-17T10:55:55.258312Z",
     "start_time": "2023-07-17T10:55:55.249934Z"
    }
   }
  },
  {
   "cell_type": "code",
   "execution_count": 14,
   "outputs": [],
   "source": [
    "df2 = pd.read_csv('Goldstandard.csv',on_bad_lines='skip')"
   ],
   "metadata": {
    "collapsed": false,
    "ExecuteTime": {
     "end_time": "2023-07-17T10:58:44.806922Z",
     "start_time": "2023-07-17T10:58:44.801183Z"
    }
   }
  },
  {
   "cell_type": "code",
   "execution_count": 22,
   "outputs": [],
   "source": [
    "df2.rename(columns={'Page Number':'id'},inplace=True)"
   ],
   "metadata": {
    "collapsed": false,
    "ExecuteTime": {
     "end_time": "2023-07-17T11:01:34.424055Z",
     "start_time": "2023-07-17T11:01:34.413529Z"
    }
   }
  },
  {
   "cell_type": "code",
   "execution_count": 16,
   "outputs": [],
   "source": [
    "df2.drop(columns=['PDF-Name','Marked for processing','Includes Image Data','Comment'],inplace=True)"
   ],
   "metadata": {
    "collapsed": false,
    "ExecuteTime": {
     "end_time": "2023-07-17T11:00:42.691255Z",
     "start_time": "2023-07-17T11:00:42.685116Z"
    }
   }
  },
  {
   "cell_type": "code",
   "execution_count": 24,
   "outputs": [
    {
     "data": {
      "text/plain": "        id                                           Question\n0      1.0                                                NaN\n1      2.0               What does the Simple Model describe?\n2      3.0  When is a system secure? (informal definition ...\n3      4.0                 What are examples for an attacker?\n4      5.0                What does a attacker model specify?\n..     ...                                                ...\n596  594.0   What is the parameter 𝜖 and the composition t...\n597  595.0   What is the Privacy Budget? What are challenges?\n598  596.0     How to make Algorithms Differentially Private?\n599    NaN                                                NaN\n600    NaN                                                NaN\n\n[601 rows x 2 columns]",
      "text/html": "<div>\n<style scoped>\n    .dataframe tbody tr th:only-of-type {\n        vertical-align: middle;\n    }\n\n    .dataframe tbody tr th {\n        vertical-align: top;\n    }\n\n    .dataframe thead th {\n        text-align: right;\n    }\n</style>\n<table border=\"1\" class=\"dataframe\">\n  <thead>\n    <tr style=\"text-align: right;\">\n      <th></th>\n      <th>id</th>\n      <th>Question</th>\n    </tr>\n  </thead>\n  <tbody>\n    <tr>\n      <th>0</th>\n      <td>1.0</td>\n      <td>NaN</td>\n    </tr>\n    <tr>\n      <th>1</th>\n      <td>2.0</td>\n      <td>What does the Simple Model describe?</td>\n    </tr>\n    <tr>\n      <th>2</th>\n      <td>3.0</td>\n      <td>When is a system secure? (informal definition ...</td>\n    </tr>\n    <tr>\n      <th>3</th>\n      <td>4.0</td>\n      <td>What are examples for an attacker?</td>\n    </tr>\n    <tr>\n      <th>4</th>\n      <td>5.0</td>\n      <td>What does a attacker model specify?</td>\n    </tr>\n    <tr>\n      <th>...</th>\n      <td>...</td>\n      <td>...</td>\n    </tr>\n    <tr>\n      <th>596</th>\n      <td>594.0</td>\n      <td>What is the parameter 𝜖 and the composition t...</td>\n    </tr>\n    <tr>\n      <th>597</th>\n      <td>595.0</td>\n      <td>What is the Privacy Budget? What are challenges?</td>\n    </tr>\n    <tr>\n      <th>598</th>\n      <td>596.0</td>\n      <td>How to make Algorithms Differentially Private?</td>\n    </tr>\n    <tr>\n      <th>599</th>\n      <td>NaN</td>\n      <td>NaN</td>\n    </tr>\n    <tr>\n      <th>600</th>\n      <td>NaN</td>\n      <td>NaN</td>\n    </tr>\n  </tbody>\n</table>\n<p>601 rows × 2 columns</p>\n</div>"
     },
     "execution_count": 24,
     "metadata": {},
     "output_type": "execute_result"
    }
   ],
   "source": [
    "df2"
   ],
   "metadata": {
    "collapsed": false,
    "ExecuteTime": {
     "end_time": "2023-07-17T11:01:47.456943Z",
     "start_time": "2023-07-17T11:01:47.442690Z"
    }
   }
  },
  {
   "cell_type": "code",
   "execution_count": 26,
   "outputs": [],
   "source": [
    "df2.dropna(inplace=True)"
   ],
   "metadata": {
    "collapsed": false,
    "ExecuteTime": {
     "end_time": "2023-07-17T11:03:00.666282Z",
     "start_time": "2023-07-17T11:03:00.658720Z"
    }
   }
  },
  {
   "cell_type": "code",
   "execution_count": 27,
   "outputs": [],
   "source": [
    "df2['id'] = df2['id'].astype(int)"
   ],
   "metadata": {
    "collapsed": false,
    "ExecuteTime": {
     "end_time": "2023-07-17T11:03:02.678676Z",
     "start_time": "2023-07-17T11:03:02.668948Z"
    }
   }
  },
  {
   "cell_type": "code",
   "execution_count": 28,
   "outputs": [],
   "source": [
    "dff = pd.merge(df1,df2,on=['id'])"
   ],
   "metadata": {
    "collapsed": false,
    "ExecuteTime": {
     "end_time": "2023-07-17T11:03:05.825143Z",
     "start_time": "2023-07-17T11:03:05.820601Z"
    }
   }
  },
  {
   "cell_type": "code",
   "execution_count": 35,
   "outputs": [
    {
     "data": {
      "text/plain": "      id                                            context  \\\n0      2  Simple Model\\r\\n1. User(s)\\r\\n• Access the sys...   \n1      3  IT-Security\\r\\n• Security (german: Sicherheit)...   \n2      4  Attacker - Examples\\r\\n• National agency\\r\\n• ...   \n3      5  Attacker Model\\r\\n• Usually specifies what the...   \n4      6  Attack Goals\\r\\n• Stealing data\\r\\n– Credit ca...   \n..   ...                                                ...   \n451  592  Differential Privacy\\r\\nIntuition\\r\\n• Assume ...   \n452  593  Differential Privacy\\r\\nDefinition (Simplified...   \n453  594  On the Parameter \\r\\nPr  ଵ =  ≤ ఢ ⋅ Pr  ଶ = \\r...   \n454  595  Privacy Budget\\r\\n• Defines an upper bound on ...   \n455  596  Making Algorithms Differentially Private\\r\\n• ...   \n\n                                              Question  \n0                 What does the Simple Model describe?  \n1    When is a system secure? (informal definition ...  \n2                   What are examples for an attacker?  \n3                  What does a attacker model specify?  \n4      What attack goals can be considered in general?  \n..                                                 ...  \n451     What is the intuition of Differential Privacy?  \n452    What is the definition of Differential Privacy?  \n453   What is the parameter 𝜖 and the composition t...  \n454   What is the Privacy Budget? What are challenges?  \n455     How to make Algorithms Differentially Private?  \n\n[456 rows x 3 columns]",
      "text/html": "<div>\n<style scoped>\n    .dataframe tbody tr th:only-of-type {\n        vertical-align: middle;\n    }\n\n    .dataframe tbody tr th {\n        vertical-align: top;\n    }\n\n    .dataframe thead th {\n        text-align: right;\n    }\n</style>\n<table border=\"1\" class=\"dataframe\">\n  <thead>\n    <tr style=\"text-align: right;\">\n      <th></th>\n      <th>id</th>\n      <th>context</th>\n      <th>Question</th>\n    </tr>\n  </thead>\n  <tbody>\n    <tr>\n      <th>0</th>\n      <td>2</td>\n      <td>Simple Model\\r\\n1. User(s)\\r\\n• Access the sys...</td>\n      <td>What does the Simple Model describe?</td>\n    </tr>\n    <tr>\n      <th>1</th>\n      <td>3</td>\n      <td>IT-Security\\r\\n• Security (german: Sicherheit)...</td>\n      <td>When is a system secure? (informal definition ...</td>\n    </tr>\n    <tr>\n      <th>2</th>\n      <td>4</td>\n      <td>Attacker - Examples\\r\\n• National agency\\r\\n• ...</td>\n      <td>What are examples for an attacker?</td>\n    </tr>\n    <tr>\n      <th>3</th>\n      <td>5</td>\n      <td>Attacker Model\\r\\n• Usually specifies what the...</td>\n      <td>What does a attacker model specify?</td>\n    </tr>\n    <tr>\n      <th>4</th>\n      <td>6</td>\n      <td>Attack Goals\\r\\n• Stealing data\\r\\n– Credit ca...</td>\n      <td>What attack goals can be considered in general?</td>\n    </tr>\n    <tr>\n      <th>...</th>\n      <td>...</td>\n      <td>...</td>\n      <td>...</td>\n    </tr>\n    <tr>\n      <th>451</th>\n      <td>592</td>\n      <td>Differential Privacy\\r\\nIntuition\\r\\n• Assume ...</td>\n      <td>What is the intuition of Differential Privacy?</td>\n    </tr>\n    <tr>\n      <th>452</th>\n      <td>593</td>\n      <td>Differential Privacy\\r\\nDefinition (Simplified...</td>\n      <td>What is the definition of Differential Privacy?</td>\n    </tr>\n    <tr>\n      <th>453</th>\n      <td>594</td>\n      <td>On the Parameter \\r\\nPr  ଵ =  ≤ ఢ ⋅ Pr  ଶ = \\r...</td>\n      <td>What is the parameter 𝜖 and the composition t...</td>\n    </tr>\n    <tr>\n      <th>454</th>\n      <td>595</td>\n      <td>Privacy Budget\\r\\n• Defines an upper bound on ...</td>\n      <td>What is the Privacy Budget? What are challenges?</td>\n    </tr>\n    <tr>\n      <th>455</th>\n      <td>596</td>\n      <td>Making Algorithms Differentially Private\\r\\n• ...</td>\n      <td>How to make Algorithms Differentially Private?</td>\n    </tr>\n  </tbody>\n</table>\n<p>456 rows × 3 columns</p>\n</div>"
     },
     "execution_count": 35,
     "metadata": {},
     "output_type": "execute_result"
    }
   ],
   "source": [
    "dff"
   ],
   "metadata": {
    "collapsed": false,
    "ExecuteTime": {
     "end_time": "2023-07-17T11:06:28.583910Z",
     "start_time": "2023-07-17T11:06:28.576832Z"
    }
   }
  },
  {
   "cell_type": "code",
   "execution_count": 37,
   "outputs": [
    {
     "name": "stderr",
     "output_type": "stream",
     "text": [
      "/var/folders/7j/mf5p4rjs4pv7s2ctxyh2kzyr0000gn/T/ipykernel_33539/2752710523.py:2: FutureWarning: The default value of regex will change from True to False in a future version.\n",
      "  dff1[text_field] = dff1[text_field].str.replace(r\"http\\S+\", \"\")\n",
      "/var/folders/7j/mf5p4rjs4pv7s2ctxyh2kzyr0000gn/T/ipykernel_33539/2752710523.py:4: FutureWarning: The default value of regex will change from True to False in a future version.\n",
      "  dff1[text_field] = dff1[text_field].str.replace(r\"@\\S+\", \"\")\n",
      "/var/folders/7j/mf5p4rjs4pv7s2ctxyh2kzyr0000gn/T/ipykernel_33539/2752710523.py:5: FutureWarning: The default value of regex will change from True to False in a future version.\n",
      "  dff1[text_field] = dff1[text_field].str.replace(r\"[^A-Za-z0-9(),!?@\\'\\`\\\"\\_\\n]\", \" \")\n"
     ]
    }
   ],
   "source": [
    "def standardize_text(dff1, text_field):\n",
    "    dff1[text_field] = dff1[text_field].str.replace(r\"http\\S+\", \"\")\n",
    "    dff1[text_field] = dff1[text_field].str.replace(r\"http\", \"\")\n",
    "    dff1[text_field] = dff1[text_field].str.replace(r\"@\\S+\", \"\")\n",
    "    dff1[text_field] = dff1[text_field].str.replace(r\"[^A-Za-z0-9(),!?@\\'\\`\\\"\\_\\n]\", \" \")\n",
    "    dff1[text_field] = dff1[text_field].str.replace(r\"@\", \"at\")\n",
    "    dff1[text_field] = dff1[text_field].str.lower()\n",
    "    return dff1[text_field]\n",
    "\n",
    "dff['context'] = standardize_text(dff, \"context\")\n",
    "dff['Question'] = dff['Question'].str.lower()\n"
   ],
   "metadata": {
    "collapsed": false,
    "ExecuteTime": {
     "end_time": "2023-07-17T11:08:46.580271Z",
     "start_time": "2023-07-17T11:08:46.544109Z"
    }
   }
  },
  {
   "cell_type": "code",
   "execution_count": 39,
   "outputs": [],
   "source": [
    "dff.rename(columns={'Question':'question'},inplace=True)"
   ],
   "metadata": {
    "collapsed": false,
    "ExecuteTime": {
     "end_time": "2023-07-17T11:09:28.627723Z",
     "start_time": "2023-07-17T11:09:28.620556Z"
    }
   }
  },
  {
   "cell_type": "code",
   "execution_count": 41,
   "outputs": [],
   "source": [
    "dff.to_csv('gold_cleaned.csv')"
   ],
   "metadata": {
    "collapsed": false,
    "ExecuteTime": {
     "end_time": "2023-07-17T11:09:54.111534Z",
     "start_time": "2023-07-17T11:09:54.088072Z"
    }
   }
  },
  {
   "cell_type": "code",
   "execution_count": 42,
   "outputs": [
    {
     "data": {
      "text/plain": "      id                                            context  \\\n0      2  simple model \\n1  user(s) \\n  access the syste...   \n1      3  it security \\n  security (german  sicherheit) ...   \n2      4  attacker   examples \\n  national agency \\n  cr...   \n3      5  attacker model \\n  usually specifies what the ...   \n4      6  attack goals \\n  stealing data \\n  credit card...   \n..   ...                                                ...   \n451  592  differential privacy \\nintuition \\n  assume so...   \n452  593  differential privacy \\ndefinition (simplified ...   \n453  594  on the parameter  \\npr             pr       \\n...   \n454  595  privacy budget \\n  defines an upper bound on  ...   \n455  596  making algorithms differentially private \\n  d...   \n\n                                              question  \n0                 what does the simple model describe?  \n1    when is a system secure? (informal definition ...  \n2                   what are examples for an attacker?  \n3                  what does a attacker model specify?  \n4      what attack goals can be considered in general?  \n..                                                 ...  \n451     what is the intuition of differential privacy?  \n452    what is the definition of differential privacy?  \n453   what is the parameter 𝜖 and the composition t...  \n454   what is the privacy budget? what are challenges?  \n455     how to make algorithms differentially private?  \n\n[456 rows x 3 columns]",
      "text/html": "<div>\n<style scoped>\n    .dataframe tbody tr th:only-of-type {\n        vertical-align: middle;\n    }\n\n    .dataframe tbody tr th {\n        vertical-align: top;\n    }\n\n    .dataframe thead th {\n        text-align: right;\n    }\n</style>\n<table border=\"1\" class=\"dataframe\">\n  <thead>\n    <tr style=\"text-align: right;\">\n      <th></th>\n      <th>id</th>\n      <th>context</th>\n      <th>question</th>\n    </tr>\n  </thead>\n  <tbody>\n    <tr>\n      <th>0</th>\n      <td>2</td>\n      <td>simple model \\n1  user(s) \\n  access the syste...</td>\n      <td>what does the simple model describe?</td>\n    </tr>\n    <tr>\n      <th>1</th>\n      <td>3</td>\n      <td>it security \\n  security (german  sicherheit) ...</td>\n      <td>when is a system secure? (informal definition ...</td>\n    </tr>\n    <tr>\n      <th>2</th>\n      <td>4</td>\n      <td>attacker   examples \\n  national agency \\n  cr...</td>\n      <td>what are examples for an attacker?</td>\n    </tr>\n    <tr>\n      <th>3</th>\n      <td>5</td>\n      <td>attacker model \\n  usually specifies what the ...</td>\n      <td>what does a attacker model specify?</td>\n    </tr>\n    <tr>\n      <th>4</th>\n      <td>6</td>\n      <td>attack goals \\n  stealing data \\n  credit card...</td>\n      <td>what attack goals can be considered in general?</td>\n    </tr>\n    <tr>\n      <th>...</th>\n      <td>...</td>\n      <td>...</td>\n      <td>...</td>\n    </tr>\n    <tr>\n      <th>451</th>\n      <td>592</td>\n      <td>differential privacy \\nintuition \\n  assume so...</td>\n      <td>what is the intuition of differential privacy?</td>\n    </tr>\n    <tr>\n      <th>452</th>\n      <td>593</td>\n      <td>differential privacy \\ndefinition (simplified ...</td>\n      <td>what is the definition of differential privacy?</td>\n    </tr>\n    <tr>\n      <th>453</th>\n      <td>594</td>\n      <td>on the parameter  \\npr             pr       \\n...</td>\n      <td>what is the parameter 𝜖 and the composition t...</td>\n    </tr>\n    <tr>\n      <th>454</th>\n      <td>595</td>\n      <td>privacy budget \\n  defines an upper bound on  ...</td>\n      <td>what is the privacy budget? what are challenges?</td>\n    </tr>\n    <tr>\n      <th>455</th>\n      <td>596</td>\n      <td>making algorithms differentially private \\n  d...</td>\n      <td>how to make algorithms differentially private?</td>\n    </tr>\n  </tbody>\n</table>\n<p>456 rows × 3 columns</p>\n</div>"
     },
     "execution_count": 42,
     "metadata": {},
     "output_type": "execute_result"
    }
   ],
   "source": [
    "dff"
   ],
   "metadata": {
    "collapsed": false,
    "ExecuteTime": {
     "end_time": "2023-07-17T11:10:00.851189Z",
     "start_time": "2023-07-17T11:10:00.838311Z"
    }
   }
  },
  {
   "cell_type": "code",
   "execution_count": null,
   "outputs": [],
   "source": [],
   "metadata": {
    "collapsed": false
   }
  }
 ],
 "metadata": {
  "kernelspec": {
   "display_name": "Python 3",
   "language": "python",
   "name": "python3"
  },
  "language_info": {
   "codemirror_mode": {
    "name": "ipython",
    "version": 2
   },
   "file_extension": ".py",
   "mimetype": "text/x-python",
   "name": "python",
   "nbconvert_exporter": "python",
   "pygments_lexer": "ipython2",
   "version": "2.7.6"
  }
 },
 "nbformat": 4,
 "nbformat_minor": 0
}
