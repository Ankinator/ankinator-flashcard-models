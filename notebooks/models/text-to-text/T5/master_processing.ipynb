{
 "cells": [
  {
   "cell_type": "code",
   "execution_count": 1,
   "outputs": [],
   "source": [
    "import pandas as pd"
   ],
   "metadata": {
    "collapsed": false,
    "ExecuteTime": {
     "end_time": "2023-08-03T12:29:30.210120Z",
     "start_time": "2023-08-03T12:29:24.347729Z"
    }
   }
  },
  {
   "cell_type": "code",
   "execution_count": 2,
   "outputs": [],
   "source": [
    "lecture_list=['ase_combined','corporate_knowledge_management_combined','decision_support_combined', 'information_retrieval_combined','large_scale_combined','leadership_combined','machine_learning_combined','network_science_combined','it-security-all-slides_no_duplicates']"
   ],
   "metadata": {
    "collapsed": false,
    "ExecuteTime": {
     "end_time": "2023-08-03T12:29:30.216348Z",
     "start_time": "2023-08-03T12:29:30.213414Z"
    }
   }
  },
  {
   "cell_type": "code",
   "execution_count": 3,
   "outputs": [],
   "source": [
    "# reading extracted content saved in seperate files.\n",
    "data_all = []\n",
    "for file in lecture_list:\n",
    "    df = pd.read_csv(f'data/{file}.csv')\n",
    "    df['PDF-Name'] = f'{file}.pdf'\n",
    "    df['id'] += 1\n",
    "    data_all.append(df)\n",
    "content_df = pd.concat(data_all)\n"
   ],
   "metadata": {
    "collapsed": false,
    "ExecuteTime": {
     "end_time": "2023-08-03T12:29:30.430283Z",
     "start_time": "2023-08-03T12:29:30.219288Z"
    }
   }
  },
  {
   "cell_type": "code",
   "execution_count": 4,
   "outputs": [],
   "source": [
    "master_df = pd.read_csv('master_label.csv',delimiter=';',encoding = 'latin1')"
   ],
   "metadata": {
    "collapsed": false,
    "ExecuteTime": {
     "end_time": "2023-08-03T12:29:30.474699Z",
     "start_time": "2023-08-03T12:29:30.432333Z"
    }
   }
  },
  {
   "cell_type": "code",
   "execution_count": 5,
   "outputs": [],
   "source": [
    "master_df.rename(columns={'Page Number':'id','PDF-Name':'Name'},inplace=True)"
   ],
   "metadata": {
    "collapsed": false,
    "ExecuteTime": {
     "end_time": "2023-08-03T12:29:30.479208Z",
     "start_time": "2023-08-03T12:29:30.477792Z"
    }
   }
  },
  {
   "cell_type": "code",
   "execution_count": 6,
   "outputs": [],
   "source": [
    "content_df.rename(columns={'PDF-Name':'Name'},inplace=True)"
   ],
   "metadata": {
    "collapsed": false,
    "ExecuteTime": {
     "end_time": "2023-08-03T12:29:30.484910Z",
     "start_time": "2023-08-03T12:29:30.480938Z"
    }
   }
  },
  {
   "cell_type": "code",
   "execution_count": 7,
   "outputs": [],
   "source": [
    "master_df.drop(columns=['Includes Image Data','Includes formula','Title of the slide','Type of Question','Comment'],inplace=True)"
   ],
   "metadata": {
    "collapsed": false,
    "ExecuteTime": {
     "end_time": "2023-08-03T12:29:30.490760Z",
     "start_time": "2023-08-03T12:29:30.488419Z"
    }
   }
  },
  {
   "cell_type": "code",
   "execution_count": 8,
   "outputs": [
    {
     "data": {
      "text/plain": "                                          Name                       Topic  \\\n0                             ase_combined.pdf  Agile Software Engineering   \n1                             ase_combined.pdf  Agile Software Engineering   \n2                             ase_combined.pdf  Agile Software Engineering   \n3                             ase_combined.pdf  Agile Software Engineering   \n4                             ase_combined.pdf  Agile Software Engineering   \n...                                        ...                         ...   \n5734  it-security-all-slides_no_duplicates.pdf                 IT-Security   \n5735  it-security-all-slides_no_duplicates.pdf                 IT-Security   \n5736  it-security-all-slides_no_duplicates.pdf                 IT-Security   \n5737  it-security-all-slides_no_duplicates.pdf                 IT-Security   \n5738  it-security-all-slides_no_duplicates.pdf                 IT-Security   \n\n       id Marked for processing  \\\n0       1                    No   \n1       2                    No   \n2       3                    No   \n3       4                    No   \n4       5                    No   \n...   ...                   ...   \n5734  592                   Yes   \n5735  593                   Yes   \n5736  594                   Yes   \n5737  595                   Yes   \n5738  596                   Yes   \n\n                                             Question 1 Question 2 Question 3  \n0                                                   NaN        NaN        NaN  \n1                                                   NaN        NaN        NaN  \n2                                                   NaN        NaN        NaN  \n3                                                   NaN        NaN        NaN  \n4                                                   NaN        NaN        NaN  \n...                                                 ...        ...        ...  \n5734     What is the intuition of Differential Privacy?        NaN        NaN  \n5735    What is the definition of Differential Privacy?        NaN        NaN  \n5736   What is the parameter __ and the composition ...        NaN        NaN  \n5737   What is the Privacy Budget? What are challenges?        NaN        NaN  \n5738     How to make Algorithms Differentially Private?        NaN        NaN  \n\n[5739 rows x 7 columns]",
      "text/html": "<div>\n<style scoped>\n    .dataframe tbody tr th:only-of-type {\n        vertical-align: middle;\n    }\n\n    .dataframe tbody tr th {\n        vertical-align: top;\n    }\n\n    .dataframe thead th {\n        text-align: right;\n    }\n</style>\n<table border=\"1\" class=\"dataframe\">\n  <thead>\n    <tr style=\"text-align: right;\">\n      <th></th>\n      <th>Name</th>\n      <th>Topic</th>\n      <th>id</th>\n      <th>Marked for processing</th>\n      <th>Question 1</th>\n      <th>Question 2</th>\n      <th>Question 3</th>\n    </tr>\n  </thead>\n  <tbody>\n    <tr>\n      <th>0</th>\n      <td>ase_combined.pdf</td>\n      <td>Agile Software Engineering</td>\n      <td>1</td>\n      <td>No</td>\n      <td>NaN</td>\n      <td>NaN</td>\n      <td>NaN</td>\n    </tr>\n    <tr>\n      <th>1</th>\n      <td>ase_combined.pdf</td>\n      <td>Agile Software Engineering</td>\n      <td>2</td>\n      <td>No</td>\n      <td>NaN</td>\n      <td>NaN</td>\n      <td>NaN</td>\n    </tr>\n    <tr>\n      <th>2</th>\n      <td>ase_combined.pdf</td>\n      <td>Agile Software Engineering</td>\n      <td>3</td>\n      <td>No</td>\n      <td>NaN</td>\n      <td>NaN</td>\n      <td>NaN</td>\n    </tr>\n    <tr>\n      <th>3</th>\n      <td>ase_combined.pdf</td>\n      <td>Agile Software Engineering</td>\n      <td>4</td>\n      <td>No</td>\n      <td>NaN</td>\n      <td>NaN</td>\n      <td>NaN</td>\n    </tr>\n    <tr>\n      <th>4</th>\n      <td>ase_combined.pdf</td>\n      <td>Agile Software Engineering</td>\n      <td>5</td>\n      <td>No</td>\n      <td>NaN</td>\n      <td>NaN</td>\n      <td>NaN</td>\n    </tr>\n    <tr>\n      <th>...</th>\n      <td>...</td>\n      <td>...</td>\n      <td>...</td>\n      <td>...</td>\n      <td>...</td>\n      <td>...</td>\n      <td>...</td>\n    </tr>\n    <tr>\n      <th>5734</th>\n      <td>it-security-all-slides_no_duplicates.pdf</td>\n      <td>IT-Security</td>\n      <td>592</td>\n      <td>Yes</td>\n      <td>What is the intuition of Differential Privacy?</td>\n      <td>NaN</td>\n      <td>NaN</td>\n    </tr>\n    <tr>\n      <th>5735</th>\n      <td>it-security-all-slides_no_duplicates.pdf</td>\n      <td>IT-Security</td>\n      <td>593</td>\n      <td>Yes</td>\n      <td>What is the definition of Differential Privacy?</td>\n      <td>NaN</td>\n      <td>NaN</td>\n    </tr>\n    <tr>\n      <th>5736</th>\n      <td>it-security-all-slides_no_duplicates.pdf</td>\n      <td>IT-Security</td>\n      <td>594</td>\n      <td>Yes</td>\n      <td>What is the parameter __ and the composition ...</td>\n      <td>NaN</td>\n      <td>NaN</td>\n    </tr>\n    <tr>\n      <th>5737</th>\n      <td>it-security-all-slides_no_duplicates.pdf</td>\n      <td>IT-Security</td>\n      <td>595</td>\n      <td>Yes</td>\n      <td>What is the Privacy Budget? What are challenges?</td>\n      <td>NaN</td>\n      <td>NaN</td>\n    </tr>\n    <tr>\n      <th>5738</th>\n      <td>it-security-all-slides_no_duplicates.pdf</td>\n      <td>IT-Security</td>\n      <td>596</td>\n      <td>Yes</td>\n      <td>How to make Algorithms Differentially Private?</td>\n      <td>NaN</td>\n      <td>NaN</td>\n    </tr>\n  </tbody>\n</table>\n<p>5739 rows × 7 columns</p>\n</div>"
     },
     "execution_count": 8,
     "metadata": {},
     "output_type": "execute_result"
    }
   ],
   "source": [
    "master_df"
   ],
   "metadata": {
    "collapsed": false,
    "ExecuteTime": {
     "end_time": "2023-08-03T12:29:30.528462Z",
     "start_time": "2023-08-03T12:29:30.492057Z"
    }
   }
  },
  {
   "cell_type": "code",
   "execution_count": 9,
   "outputs": [
    {
     "data": {
      "text/plain": "     Unnamed: 0   id                                            context  \\\n0             0    1  1\\r\\nSoftware Engineering Group 1\\r\\nAdvanced ...   \n1             1    2  2\\r\\nSoftware Engineering Group 2\\r\\nSoftware ...   \n2             2    3  3\\r\\nSoftware Engineering Group 3\\r\\nSpectacul...   \n3             3    4  4\\r\\nSoftware Engineering Group 4\\r\\nSpectacul...   \n4             4    5  5\\r\\nSoftware Engineering Group 5\\r\\nCost of S...   \n..          ...  ...                                                ...   \n591         591  592  Differential Privacy\\r\\nIntuition\\r\\n• Assume ...   \n592         592  593  Differential Privacy\\r\\nDefinition (Simplified...   \n593         593  594  On the Parameter \\r\\nPr  ଵ =  ≤ ఢ ⋅ Pr  ଶ = \\r...   \n594         594  595  Privacy Budget\\r\\n• Defines an upper bound on ...   \n595         595  596  Making Algorithms Differentially Private\\r\\n• ...   \n\n                                                   ocr  \\\n0    Advanced Software\\nEngineering\\n\\n1. Introduct...   \n1    Software Drives our Modern Civilisation\\n\\nwil...   \n2    Spectacular Software Failures (1/2)\\n\\nTHERAC-...   \n3    Spectacular Software Failures (2/2)\\n\\nNorthea...   \n4    Cost of Software Failures\\n\\n= 2002: NIST repo...   \n..                                                 ...   \n591  te\\nGee 5 UNIVERSITY\\n\\nDifferential Privacy 8...   \n592  ol\\nDifferential Privacy Be) OF MANNHEIM\\n\\n— ...   \n593  te\\n\\nSeta UNIVERSITY\\nOn the Parameter €-2o B...   \n594  Privacy Budget\\n\\n* Defines an upper bound on ...   \n595  ot\\nMaking Algorithms Differentially Private S...   \n\n                                                   img  \\\n0    <PIL.Image.Image image mode=RGB size=1434x1076...   \n1    <PIL.Image.Image image mode=RGB size=1434x1076...   \n2    <PIL.Image.Image image mode=RGB size=1434x1076...   \n3    <PIL.Image.Image image mode=RGB size=1434x1076...   \n4    <PIL.Image.Image image mode=RGB size=1434x1076...   \n..                                                 ...   \n591  <PIL.Image.Image image mode=RGB size=1921x1081...   \n592  <PIL.Image.Image image mode=RGB size=1921x1081...   \n593  <PIL.Image.Image image mode=RGB size=1921x1081...   \n594  <PIL.Image.Image image mode=RGB size=1921x1081...   \n595  <PIL.Image.Image image mode=RGB size=1921x1081...   \n\n                                         Name  \n0                            ase_combined.pdf  \n1                            ase_combined.pdf  \n2                            ase_combined.pdf  \n3                            ase_combined.pdf  \n4                            ase_combined.pdf  \n..                                        ...  \n591  it-security-all-slides_no_duplicates.pdf  \n592  it-security-all-slides_no_duplicates.pdf  \n593  it-security-all-slides_no_duplicates.pdf  \n594  it-security-all-slides_no_duplicates.pdf  \n595  it-security-all-slides_no_duplicates.pdf  \n\n[3488 rows x 6 columns]",
      "text/html": "<div>\n<style scoped>\n    .dataframe tbody tr th:only-of-type {\n        vertical-align: middle;\n    }\n\n    .dataframe tbody tr th {\n        vertical-align: top;\n    }\n\n    .dataframe thead th {\n        text-align: right;\n    }\n</style>\n<table border=\"1\" class=\"dataframe\">\n  <thead>\n    <tr style=\"text-align: right;\">\n      <th></th>\n      <th>Unnamed: 0</th>\n      <th>id</th>\n      <th>context</th>\n      <th>ocr</th>\n      <th>img</th>\n      <th>Name</th>\n    </tr>\n  </thead>\n  <tbody>\n    <tr>\n      <th>0</th>\n      <td>0</td>\n      <td>1</td>\n      <td>1\\r\\nSoftware Engineering Group 1\\r\\nAdvanced ...</td>\n      <td>Advanced Software\\nEngineering\\n\\n1. Introduct...</td>\n      <td>&lt;PIL.Image.Image image mode=RGB size=1434x1076...</td>\n      <td>ase_combined.pdf</td>\n    </tr>\n    <tr>\n      <th>1</th>\n      <td>1</td>\n      <td>2</td>\n      <td>2\\r\\nSoftware Engineering Group 2\\r\\nSoftware ...</td>\n      <td>Software Drives our Modern Civilisation\\n\\nwil...</td>\n      <td>&lt;PIL.Image.Image image mode=RGB size=1434x1076...</td>\n      <td>ase_combined.pdf</td>\n    </tr>\n    <tr>\n      <th>2</th>\n      <td>2</td>\n      <td>3</td>\n      <td>3\\r\\nSoftware Engineering Group 3\\r\\nSpectacul...</td>\n      <td>Spectacular Software Failures (1/2)\\n\\nTHERAC-...</td>\n      <td>&lt;PIL.Image.Image image mode=RGB size=1434x1076...</td>\n      <td>ase_combined.pdf</td>\n    </tr>\n    <tr>\n      <th>3</th>\n      <td>3</td>\n      <td>4</td>\n      <td>4\\r\\nSoftware Engineering Group 4\\r\\nSpectacul...</td>\n      <td>Spectacular Software Failures (2/2)\\n\\nNorthea...</td>\n      <td>&lt;PIL.Image.Image image mode=RGB size=1434x1076...</td>\n      <td>ase_combined.pdf</td>\n    </tr>\n    <tr>\n      <th>4</th>\n      <td>4</td>\n      <td>5</td>\n      <td>5\\r\\nSoftware Engineering Group 5\\r\\nCost of S...</td>\n      <td>Cost of Software Failures\\n\\n= 2002: NIST repo...</td>\n      <td>&lt;PIL.Image.Image image mode=RGB size=1434x1076...</td>\n      <td>ase_combined.pdf</td>\n    </tr>\n    <tr>\n      <th>...</th>\n      <td>...</td>\n      <td>...</td>\n      <td>...</td>\n      <td>...</td>\n      <td>...</td>\n      <td>...</td>\n    </tr>\n    <tr>\n      <th>591</th>\n      <td>591</td>\n      <td>592</td>\n      <td>Differential Privacy\\r\\nIntuition\\r\\n• Assume ...</td>\n      <td>te\\nGee 5 UNIVERSITY\\n\\nDifferential Privacy 8...</td>\n      <td>&lt;PIL.Image.Image image mode=RGB size=1921x1081...</td>\n      <td>it-security-all-slides_no_duplicates.pdf</td>\n    </tr>\n    <tr>\n      <th>592</th>\n      <td>592</td>\n      <td>593</td>\n      <td>Differential Privacy\\r\\nDefinition (Simplified...</td>\n      <td>ol\\nDifferential Privacy Be) OF MANNHEIM\\n\\n— ...</td>\n      <td>&lt;PIL.Image.Image image mode=RGB size=1921x1081...</td>\n      <td>it-security-all-slides_no_duplicates.pdf</td>\n    </tr>\n    <tr>\n      <th>593</th>\n      <td>593</td>\n      <td>594</td>\n      <td>On the Parameter \\r\\nPr  ଵ =  ≤ ఢ ⋅ Pr  ଶ = \\r...</td>\n      <td>te\\n\\nSeta UNIVERSITY\\nOn the Parameter €-2o B...</td>\n      <td>&lt;PIL.Image.Image image mode=RGB size=1921x1081...</td>\n      <td>it-security-all-slides_no_duplicates.pdf</td>\n    </tr>\n    <tr>\n      <th>594</th>\n      <td>594</td>\n      <td>595</td>\n      <td>Privacy Budget\\r\\n• Defines an upper bound on ...</td>\n      <td>Privacy Budget\\n\\n* Defines an upper bound on ...</td>\n      <td>&lt;PIL.Image.Image image mode=RGB size=1921x1081...</td>\n      <td>it-security-all-slides_no_duplicates.pdf</td>\n    </tr>\n    <tr>\n      <th>595</th>\n      <td>595</td>\n      <td>596</td>\n      <td>Making Algorithms Differentially Private\\r\\n• ...</td>\n      <td>ot\\nMaking Algorithms Differentially Private S...</td>\n      <td>&lt;PIL.Image.Image image mode=RGB size=1921x1081...</td>\n      <td>it-security-all-slides_no_duplicates.pdf</td>\n    </tr>\n  </tbody>\n</table>\n<p>3488 rows × 6 columns</p>\n</div>"
     },
     "execution_count": 9,
     "metadata": {},
     "output_type": "execute_result"
    }
   ],
   "source": [
    "content_df"
   ],
   "metadata": {
    "collapsed": false,
    "ExecuteTime": {
     "end_time": "2023-08-03T12:29:30.539989Z",
     "start_time": "2023-08-03T12:29:30.536085Z"
    }
   }
  },
  {
   "cell_type": "code",
   "execution_count": 10,
   "outputs": [],
   "source": [
    "master_df['id'] = master_df['id'].astype(int) #making sure id's are integers"
   ],
   "metadata": {
    "collapsed": false,
    "ExecuteTime": {
     "end_time": "2023-08-03T12:29:30.644947Z",
     "start_time": "2023-08-03T12:29:30.539421Z"
    }
   }
  },
  {
   "cell_type": "code",
   "execution_count": 11,
   "outputs": [],
   "source": [
    "#merging content and labelled df using unique id within lecture and name of pdf\n",
    "new = []\n",
    "for file in lecture_list:\n",
    "    data = pd.merge(content_df,master_df.query(f'Name==\"{file}.pdf\"'),on=['Name','id'])\n",
    "    new.append(data)\n",
    "merged_df = pd.concat(new)\n"
   ],
   "metadata": {
    "collapsed": false,
    "ExecuteTime": {
     "end_time": "2023-08-03T12:29:30.707488Z",
     "start_time": "2023-08-03T12:29:30.562006Z"
    }
   }
  },
  {
   "cell_type": "code",
   "execution_count": 12,
   "outputs": [
    {
     "data": {
      "text/plain": "     Unnamed: 0   id                                            context  \\\n0             0    1  1\\r\\nSoftware Engineering Group 1\\r\\nAdvanced ...   \n1             1    2  2\\r\\nSoftware Engineering Group 2\\r\\nSoftware ...   \n2             2    3  3\\r\\nSoftware Engineering Group 3\\r\\nSpectacul...   \n3             3    4  4\\r\\nSoftware Engineering Group 4\\r\\nSpectacul...   \n4             4    5  5\\r\\nSoftware Engineering Group 5\\r\\nCost of S...   \n..          ...  ...                                                ...   \n591         591  592  Differential Privacy\\r\\nIntuition\\r\\n• Assume ...   \n592         592  593  Differential Privacy\\r\\nDefinition (Simplified...   \n593         593  594  On the Parameter \\r\\nPr  ଵ =  ≤ ఢ ⋅ Pr  ଶ = \\r...   \n594         594  595  Privacy Budget\\r\\n• Defines an upper bound on ...   \n595         595  596  Making Algorithms Differentially Private\\r\\n• ...   \n\n                                                   ocr  \\\n0    Advanced Software\\nEngineering\\n\\n1. Introduct...   \n1    Software Drives our Modern Civilisation\\n\\nwil...   \n2    Spectacular Software Failures (1/2)\\n\\nTHERAC-...   \n3    Spectacular Software Failures (2/2)\\n\\nNorthea...   \n4    Cost of Software Failures\\n\\n= 2002: NIST repo...   \n..                                                 ...   \n591  te\\nGee 5 UNIVERSITY\\n\\nDifferential Privacy 8...   \n592  ol\\nDifferential Privacy Be) OF MANNHEIM\\n\\n— ...   \n593  te\\n\\nSeta UNIVERSITY\\nOn the Parameter €-2o B...   \n594  Privacy Budget\\n\\n* Defines an upper bound on ...   \n595  ot\\nMaking Algorithms Differentially Private S...   \n\n                                                   img  \\\n0    <PIL.Image.Image image mode=RGB size=1434x1076...   \n1    <PIL.Image.Image image mode=RGB size=1434x1076...   \n2    <PIL.Image.Image image mode=RGB size=1434x1076...   \n3    <PIL.Image.Image image mode=RGB size=1434x1076...   \n4    <PIL.Image.Image image mode=RGB size=1434x1076...   \n..                                                 ...   \n591  <PIL.Image.Image image mode=RGB size=1921x1081...   \n592  <PIL.Image.Image image mode=RGB size=1921x1081...   \n593  <PIL.Image.Image image mode=RGB size=1921x1081...   \n594  <PIL.Image.Image image mode=RGB size=1921x1081...   \n595  <PIL.Image.Image image mode=RGB size=1921x1081...   \n\n                                         Name                       Topic  \\\n0                            ase_combined.pdf  Agile Software Engineering   \n1                            ase_combined.pdf  Agile Software Engineering   \n2                            ase_combined.pdf  Agile Software Engineering   \n3                            ase_combined.pdf  Agile Software Engineering   \n4                            ase_combined.pdf  Agile Software Engineering   \n..                                        ...                         ...   \n591  it-security-all-slides_no_duplicates.pdf                 IT-Security   \n592  it-security-all-slides_no_duplicates.pdf                 IT-Security   \n593  it-security-all-slides_no_duplicates.pdf                 IT-Security   \n594  it-security-all-slides_no_duplicates.pdf                 IT-Security   \n595  it-security-all-slides_no_duplicates.pdf                 IT-Security   \n\n    Marked for processing                                         Question 1  \\\n0                      No                                                NaN   \n1                      No                                                NaN   \n2                      No                                                NaN   \n3                      No                                                NaN   \n4                      No                                                NaN   \n..                    ...                                                ...   \n591                   Yes     What is the intuition of Differential Privacy?   \n592                   Yes    What is the definition of Differential Privacy?   \n593                   Yes   What is the parameter __ and the composition ...   \n594                   Yes   What is the Privacy Budget? What are challenges?   \n595                   Yes     How to make Algorithms Differentially Private?   \n\n    Question 2 Question 3  \n0          NaN        NaN  \n1          NaN        NaN  \n2          NaN        NaN  \n3          NaN        NaN  \n4          NaN        NaN  \n..         ...        ...  \n591        NaN        NaN  \n592        NaN        NaN  \n593        NaN        NaN  \n594        NaN        NaN  \n595        NaN        NaN  \n\n[3488 rows x 11 columns]",
      "text/html": "<div>\n<style scoped>\n    .dataframe tbody tr th:only-of-type {\n        vertical-align: middle;\n    }\n\n    .dataframe tbody tr th {\n        vertical-align: top;\n    }\n\n    .dataframe thead th {\n        text-align: right;\n    }\n</style>\n<table border=\"1\" class=\"dataframe\">\n  <thead>\n    <tr style=\"text-align: right;\">\n      <th></th>\n      <th>Unnamed: 0</th>\n      <th>id</th>\n      <th>context</th>\n      <th>ocr</th>\n      <th>img</th>\n      <th>Name</th>\n      <th>Topic</th>\n      <th>Marked for processing</th>\n      <th>Question 1</th>\n      <th>Question 2</th>\n      <th>Question 3</th>\n    </tr>\n  </thead>\n  <tbody>\n    <tr>\n      <th>0</th>\n      <td>0</td>\n      <td>1</td>\n      <td>1\\r\\nSoftware Engineering Group 1\\r\\nAdvanced ...</td>\n      <td>Advanced Software\\nEngineering\\n\\n1. Introduct...</td>\n      <td>&lt;PIL.Image.Image image mode=RGB size=1434x1076...</td>\n      <td>ase_combined.pdf</td>\n      <td>Agile Software Engineering</td>\n      <td>No</td>\n      <td>NaN</td>\n      <td>NaN</td>\n      <td>NaN</td>\n    </tr>\n    <tr>\n      <th>1</th>\n      <td>1</td>\n      <td>2</td>\n      <td>2\\r\\nSoftware Engineering Group 2\\r\\nSoftware ...</td>\n      <td>Software Drives our Modern Civilisation\\n\\nwil...</td>\n      <td>&lt;PIL.Image.Image image mode=RGB size=1434x1076...</td>\n      <td>ase_combined.pdf</td>\n      <td>Agile Software Engineering</td>\n      <td>No</td>\n      <td>NaN</td>\n      <td>NaN</td>\n      <td>NaN</td>\n    </tr>\n    <tr>\n      <th>2</th>\n      <td>2</td>\n      <td>3</td>\n      <td>3\\r\\nSoftware Engineering Group 3\\r\\nSpectacul...</td>\n      <td>Spectacular Software Failures (1/2)\\n\\nTHERAC-...</td>\n      <td>&lt;PIL.Image.Image image mode=RGB size=1434x1076...</td>\n      <td>ase_combined.pdf</td>\n      <td>Agile Software Engineering</td>\n      <td>No</td>\n      <td>NaN</td>\n      <td>NaN</td>\n      <td>NaN</td>\n    </tr>\n    <tr>\n      <th>3</th>\n      <td>3</td>\n      <td>4</td>\n      <td>4\\r\\nSoftware Engineering Group 4\\r\\nSpectacul...</td>\n      <td>Spectacular Software Failures (2/2)\\n\\nNorthea...</td>\n      <td>&lt;PIL.Image.Image image mode=RGB size=1434x1076...</td>\n      <td>ase_combined.pdf</td>\n      <td>Agile Software Engineering</td>\n      <td>No</td>\n      <td>NaN</td>\n      <td>NaN</td>\n      <td>NaN</td>\n    </tr>\n    <tr>\n      <th>4</th>\n      <td>4</td>\n      <td>5</td>\n      <td>5\\r\\nSoftware Engineering Group 5\\r\\nCost of S...</td>\n      <td>Cost of Software Failures\\n\\n= 2002: NIST repo...</td>\n      <td>&lt;PIL.Image.Image image mode=RGB size=1434x1076...</td>\n      <td>ase_combined.pdf</td>\n      <td>Agile Software Engineering</td>\n      <td>No</td>\n      <td>NaN</td>\n      <td>NaN</td>\n      <td>NaN</td>\n    </tr>\n    <tr>\n      <th>...</th>\n      <td>...</td>\n      <td>...</td>\n      <td>...</td>\n      <td>...</td>\n      <td>...</td>\n      <td>...</td>\n      <td>...</td>\n      <td>...</td>\n      <td>...</td>\n      <td>...</td>\n      <td>...</td>\n    </tr>\n    <tr>\n      <th>591</th>\n      <td>591</td>\n      <td>592</td>\n      <td>Differential Privacy\\r\\nIntuition\\r\\n• Assume ...</td>\n      <td>te\\nGee 5 UNIVERSITY\\n\\nDifferential Privacy 8...</td>\n      <td>&lt;PIL.Image.Image image mode=RGB size=1921x1081...</td>\n      <td>it-security-all-slides_no_duplicates.pdf</td>\n      <td>IT-Security</td>\n      <td>Yes</td>\n      <td>What is the intuition of Differential Privacy?</td>\n      <td>NaN</td>\n      <td>NaN</td>\n    </tr>\n    <tr>\n      <th>592</th>\n      <td>592</td>\n      <td>593</td>\n      <td>Differential Privacy\\r\\nDefinition (Simplified...</td>\n      <td>ol\\nDifferential Privacy Be) OF MANNHEIM\\n\\n— ...</td>\n      <td>&lt;PIL.Image.Image image mode=RGB size=1921x1081...</td>\n      <td>it-security-all-slides_no_duplicates.pdf</td>\n      <td>IT-Security</td>\n      <td>Yes</td>\n      <td>What is the definition of Differential Privacy?</td>\n      <td>NaN</td>\n      <td>NaN</td>\n    </tr>\n    <tr>\n      <th>593</th>\n      <td>593</td>\n      <td>594</td>\n      <td>On the Parameter \\r\\nPr  ଵ =  ≤ ఢ ⋅ Pr  ଶ = \\r...</td>\n      <td>te\\n\\nSeta UNIVERSITY\\nOn the Parameter €-2o B...</td>\n      <td>&lt;PIL.Image.Image image mode=RGB size=1921x1081...</td>\n      <td>it-security-all-slides_no_duplicates.pdf</td>\n      <td>IT-Security</td>\n      <td>Yes</td>\n      <td>What is the parameter __ and the composition ...</td>\n      <td>NaN</td>\n      <td>NaN</td>\n    </tr>\n    <tr>\n      <th>594</th>\n      <td>594</td>\n      <td>595</td>\n      <td>Privacy Budget\\r\\n• Defines an upper bound on ...</td>\n      <td>Privacy Budget\\n\\n* Defines an upper bound on ...</td>\n      <td>&lt;PIL.Image.Image image mode=RGB size=1921x1081...</td>\n      <td>it-security-all-slides_no_duplicates.pdf</td>\n      <td>IT-Security</td>\n      <td>Yes</td>\n      <td>What is the Privacy Budget? What are challenges?</td>\n      <td>NaN</td>\n      <td>NaN</td>\n    </tr>\n    <tr>\n      <th>595</th>\n      <td>595</td>\n      <td>596</td>\n      <td>Making Algorithms Differentially Private\\r\\n• ...</td>\n      <td>ot\\nMaking Algorithms Differentially Private S...</td>\n      <td>&lt;PIL.Image.Image image mode=RGB size=1921x1081...</td>\n      <td>it-security-all-slides_no_duplicates.pdf</td>\n      <td>IT-Security</td>\n      <td>Yes</td>\n      <td>How to make Algorithms Differentially Private?</td>\n      <td>NaN</td>\n      <td>NaN</td>\n    </tr>\n  </tbody>\n</table>\n<p>3488 rows × 11 columns</p>\n</div>"
     },
     "execution_count": 12,
     "metadata": {},
     "output_type": "execute_result"
    }
   ],
   "source": [
    "merged_df"
   ],
   "metadata": {
    "collapsed": false,
    "ExecuteTime": {
     "end_time": "2023-08-03T12:29:30.707799Z",
     "start_time": "2023-08-03T12:29:30.613779Z"
    }
   }
  },
  {
   "cell_type": "code",
   "execution_count": 13,
   "outputs": [
    {
     "name": "stdout",
     "output_type": "stream",
     "text": [
      "<class 'pandas.core.frame.DataFrame'>\n",
      "Int64Index: 3488 entries, 0 to 595\n",
      "Data columns (total 11 columns):\n",
      " #   Column                 Non-Null Count  Dtype \n",
      "---  ------                 --------------  ----- \n",
      " 0   Unnamed: 0             3488 non-null   int64 \n",
      " 1   id                     3488 non-null   int64 \n",
      " 2   context                3488 non-null   object\n",
      " 3   ocr                    3486 non-null   object\n",
      " 4   img                    3488 non-null   object\n",
      " 5   Name                   3488 non-null   object\n",
      " 6   Topic                  1852 non-null   object\n",
      " 7   Marked for processing  3482 non-null   object\n",
      " 8   Question 1             2182 non-null   object\n",
      " 9   Question 2             420 non-null    object\n",
      " 10  Question 3             61 non-null     object\n",
      "dtypes: int64(2), object(9)\n",
      "memory usage: 327.0+ KB\n"
     ]
    }
   ],
   "source": [
    "merged_df.info()"
   ],
   "metadata": {
    "collapsed": false,
    "ExecuteTime": {
     "end_time": "2023-08-03T12:29:30.708249Z",
     "start_time": "2023-08-03T12:29:30.623936Z"
    }
   }
  },
  {
   "cell_type": "code",
   "execution_count": 14,
   "outputs": [],
   "source": [
    "merged_df.dropna(subset='Question 1',inplace=True)"
   ],
   "metadata": {
    "collapsed": false,
    "ExecuteTime": {
     "end_time": "2023-08-03T12:29:30.708402Z",
     "start_time": "2023-08-03T12:29:30.645128Z"
    }
   }
  },
  {
   "cell_type": "code",
   "execution_count": 15,
   "outputs": [
    {
     "name": "stderr",
     "output_type": "stream",
     "text": [
      "/var/folders/7j/mf5p4rjs4pv7s2ctxyh2kzyr0000gn/T/ipykernel_40225/269196921.py:3: FutureWarning: The default value of regex will change from True to False in a future version.\n",
      "  dff1[text_field] = dff1[text_field].str.replace(r\"http\\S+\", \"\")\n",
      "/var/folders/7j/mf5p4rjs4pv7s2ctxyh2kzyr0000gn/T/ipykernel_40225/269196921.py:5: FutureWarning: The default value of regex will change from True to False in a future version.\n",
      "  dff1[text_field] = dff1[text_field].str.replace(r\"@\\S+\", \"\")\n",
      "/var/folders/7j/mf5p4rjs4pv7s2ctxyh2kzyr0000gn/T/ipykernel_40225/269196921.py:6: FutureWarning: The default value of regex will change from True to False in a future version.\n",
      "  dff1[text_field] = dff1[text_field].str.replace(r\"[^A-Za-z0-9(),!?@\\'\\`\\\"\\_\\n]\", \" \")\n"
     ]
    }
   ],
   "source": [
    "#cleaning text\n",
    "def standardize_text(dff1, text_field):\n",
    "    dff1[text_field] = dff1[text_field].str.replace(r\"http\\S+\", \"\")\n",
    "    dff1[text_field] = dff1[text_field].str.replace(r\"http\", \"\")\n",
    "    dff1[text_field] = dff1[text_field].str.replace(r\"@\\S+\", \"\")\n",
    "    dff1[text_field] = dff1[text_field].str.replace(r\"[^A-Za-z0-9(),!?@\\'\\`\\\"\\_\\n]\", \" \")\n",
    "    dff1[text_field] = dff1[text_field].str.replace(r\"@\", \"at\")\n",
    "    dff1[text_field] = dff1[text_field].str.replace('\\n','', regex=True)\n",
    "    dff1[text_field] = dff1[text_field].str.lower()\n",
    "    return dff1[text_field]\n",
    "\n",
    "merged_df['context'] = standardize_text(merged_df, \"context\")\n",
    "merged_df['Question 1'] = merged_df['Question 1'].str.lower()\n",
    "merged_df['Question 2'] = merged_df['Question 2'].str.lower()\n",
    "merged_df['Question 3'] = merged_df['Question 3'].str.lower()"
   ],
   "metadata": {
    "collapsed": false,
    "ExecuteTime": {
     "end_time": "2023-08-03T12:29:30.793166Z",
     "start_time": "2023-08-03T12:29:30.645647Z"
    }
   }
  },
  {
   "cell_type": "code",
   "execution_count": 16,
   "outputs": [],
   "source": [
    "merged_df.drop(columns=['Unnamed: 0','ocr','img','Topic'],inplace=True)"
   ],
   "metadata": {
    "collapsed": false,
    "ExecuteTime": {
     "end_time": "2023-08-03T12:29:39.496440Z",
     "start_time": "2023-08-03T12:29:39.487641Z"
    }
   }
  },
  {
   "cell_type": "code",
   "execution_count": 17,
   "outputs": [
    {
     "data": {
      "text/plain": "      id                                            context  \\\n5      6  6 software engineering group 6   verification ...   \n6      7  7 software engineering group 7 v v goals   ver...   \n7      8  8 software engineering group 8 static versus d...   \n8      9  9 software engineering group 9 relative cost o...   \n9     10  10 software engineering group 10 model driven ...   \n..   ...                                                ...   \n591  592  differential privacy intuition   assume some d...   \n592  593  differential privacy definition (simplified ve...   \n593  594  on the parameter  pr             pr         th...   \n594  595  privacy budget   defines an upper bound on  pa...   \n595  596  making algorithms differentially private   dif...   \n\n                                         Name Marked for processing  \\\n5                            ase_combined.pdf                   Yes   \n6                            ase_combined.pdf                   Yes   \n7                            ase_combined.pdf                   Yes   \n8                            ase_combined.pdf                   Yes   \n9                            ase_combined.pdf                   Yes   \n..                                        ...                   ...   \n591  it-security-all-slides_no_duplicates.pdf                   Yes   \n592  it-security-all-slides_no_duplicates.pdf                   Yes   \n593  it-security-all-slides_no_duplicates.pdf                   Yes   \n594  it-security-all-slides_no_duplicates.pdf                   Yes   \n595  it-security-all-slides_no_duplicates.pdf                   Yes   \n\n                                            Question 1  \\\n5    what is the definition of verification and val...   \n6    what are the goals of verification and validat...   \n7              what is static and what is dynamic v&v?   \n8    how the relative cost of fixing defects behave...   \n9                    what is model-driven development?   \n..                                                 ...   \n591     what is the intuition of differential privacy?   \n592    what is the definition of differential privacy?   \n593   what is the parameter __ and the composition ...   \n594   what is the privacy budget? what are challenges?   \n595     how to make algorithms differentially private?   \n\n                                            Question 2 Question 3  \n5    what are the objectives of verification and va...        NaN  \n6     on what does verification and validation depend?        NaN  \n7    how does static v&v differentiate from dynamic...        NaN  \n8                                                  NaN        NaN  \n9                                                  NaN        NaN  \n..                                                 ...        ...  \n591                                                NaN        NaN  \n592                                                NaN        NaN  \n593                                                NaN        NaN  \n594                                                NaN        NaN  \n595                                                NaN        NaN  \n\n[2182 rows x 7 columns]",
      "text/html": "<div>\n<style scoped>\n    .dataframe tbody tr th:only-of-type {\n        vertical-align: middle;\n    }\n\n    .dataframe tbody tr th {\n        vertical-align: top;\n    }\n\n    .dataframe thead th {\n        text-align: right;\n    }\n</style>\n<table border=\"1\" class=\"dataframe\">\n  <thead>\n    <tr style=\"text-align: right;\">\n      <th></th>\n      <th>id</th>\n      <th>context</th>\n      <th>Name</th>\n      <th>Marked for processing</th>\n      <th>Question 1</th>\n      <th>Question 2</th>\n      <th>Question 3</th>\n    </tr>\n  </thead>\n  <tbody>\n    <tr>\n      <th>5</th>\n      <td>6</td>\n      <td>6 software engineering group 6   verification ...</td>\n      <td>ase_combined.pdf</td>\n      <td>Yes</td>\n      <td>what is the definition of verification and val...</td>\n      <td>what are the objectives of verification and va...</td>\n      <td>NaN</td>\n    </tr>\n    <tr>\n      <th>6</th>\n      <td>7</td>\n      <td>7 software engineering group 7 v v goals   ver...</td>\n      <td>ase_combined.pdf</td>\n      <td>Yes</td>\n      <td>what are the goals of verification and validat...</td>\n      <td>on what does verification and validation depend?</td>\n      <td>NaN</td>\n    </tr>\n    <tr>\n      <th>7</th>\n      <td>8</td>\n      <td>8 software engineering group 8 static versus d...</td>\n      <td>ase_combined.pdf</td>\n      <td>Yes</td>\n      <td>what is static and what is dynamic v&amp;v?</td>\n      <td>how does static v&amp;v differentiate from dynamic...</td>\n      <td>NaN</td>\n    </tr>\n    <tr>\n      <th>8</th>\n      <td>9</td>\n      <td>9 software engineering group 9 relative cost o...</td>\n      <td>ase_combined.pdf</td>\n      <td>Yes</td>\n      <td>how the relative cost of fixing defects behave...</td>\n      <td>NaN</td>\n      <td>NaN</td>\n    </tr>\n    <tr>\n      <th>9</th>\n      <td>10</td>\n      <td>10 software engineering group 10 model driven ...</td>\n      <td>ase_combined.pdf</td>\n      <td>Yes</td>\n      <td>what is model-driven development?</td>\n      <td>NaN</td>\n      <td>NaN</td>\n    </tr>\n    <tr>\n      <th>...</th>\n      <td>...</td>\n      <td>...</td>\n      <td>...</td>\n      <td>...</td>\n      <td>...</td>\n      <td>...</td>\n      <td>...</td>\n    </tr>\n    <tr>\n      <th>591</th>\n      <td>592</td>\n      <td>differential privacy intuition   assume some d...</td>\n      <td>it-security-all-slides_no_duplicates.pdf</td>\n      <td>Yes</td>\n      <td>what is the intuition of differential privacy?</td>\n      <td>NaN</td>\n      <td>NaN</td>\n    </tr>\n    <tr>\n      <th>592</th>\n      <td>593</td>\n      <td>differential privacy definition (simplified ve...</td>\n      <td>it-security-all-slides_no_duplicates.pdf</td>\n      <td>Yes</td>\n      <td>what is the definition of differential privacy?</td>\n      <td>NaN</td>\n      <td>NaN</td>\n    </tr>\n    <tr>\n      <th>593</th>\n      <td>594</td>\n      <td>on the parameter  pr             pr         th...</td>\n      <td>it-security-all-slides_no_duplicates.pdf</td>\n      <td>Yes</td>\n      <td>what is the parameter __ and the composition ...</td>\n      <td>NaN</td>\n      <td>NaN</td>\n    </tr>\n    <tr>\n      <th>594</th>\n      <td>595</td>\n      <td>privacy budget   defines an upper bound on  pa...</td>\n      <td>it-security-all-slides_no_duplicates.pdf</td>\n      <td>Yes</td>\n      <td>what is the privacy budget? what are challenges?</td>\n      <td>NaN</td>\n      <td>NaN</td>\n    </tr>\n    <tr>\n      <th>595</th>\n      <td>596</td>\n      <td>making algorithms differentially private   dif...</td>\n      <td>it-security-all-slides_no_duplicates.pdf</td>\n      <td>Yes</td>\n      <td>how to make algorithms differentially private?</td>\n      <td>NaN</td>\n      <td>NaN</td>\n    </tr>\n  </tbody>\n</table>\n<p>2182 rows × 7 columns</p>\n</div>"
     },
     "execution_count": 17,
     "metadata": {},
     "output_type": "execute_result"
    }
   ],
   "source": [
    "merged_df"
   ],
   "metadata": {
    "collapsed": false,
    "ExecuteTime": {
     "end_time": "2023-08-03T12:29:39.825400Z",
     "start_time": "2023-08-03T12:29:39.819886Z"
    }
   }
  },
  {
   "cell_type": "code",
   "execution_count": 18,
   "outputs": [],
   "source": [
    "merged_df.reset_index(drop=True, inplace=True)"
   ],
   "metadata": {
    "collapsed": false,
    "ExecuteTime": {
     "end_time": "2023-08-03T12:29:48.652330Z",
     "start_time": "2023-08-03T12:29:48.642508Z"
    }
   }
  },
  {
   "cell_type": "code",
   "execution_count": 19,
   "outputs": [],
   "source": [
    "#Melt df to convert question columns to rows\n",
    "melted_df = pd.melt(merged_df, id_vars=['id', 'context', 'Name', 'Marked for processing'], value_vars=['Question 1', 'Question 2', 'Question 3'], var_name='New_Column', value_name='Value')"
   ],
   "metadata": {
    "collapsed": false,
    "ExecuteTime": {
     "end_time": "2023-08-03T12:29:49.425015Z",
     "start_time": "2023-08-03T12:29:49.412518Z"
    }
   }
  },
  {
   "cell_type": "code",
   "execution_count": 20,
   "outputs": [],
   "source": [
    "melted_df.sort_index(inplace=True)"
   ],
   "metadata": {
    "collapsed": false,
    "ExecuteTime": {
     "end_time": "2023-08-03T12:29:49.935584Z",
     "start_time": "2023-08-03T12:29:49.917769Z"
    }
   }
  },
  {
   "cell_type": "code",
   "execution_count": 21,
   "outputs": [],
   "source": [
    "melted_df.drop(columns='New_Column', inplace=True)"
   ],
   "metadata": {
    "collapsed": false,
    "ExecuteTime": {
     "end_time": "2023-08-03T12:29:50.301839Z",
     "start_time": "2023-08-03T12:29:50.293053Z"
    }
   }
  },
  {
   "cell_type": "code",
   "execution_count": 22,
   "outputs": [],
   "source": [
    "melted_df.reset_index(drop=True, inplace=True)"
   ],
   "metadata": {
    "collapsed": false,
    "ExecuteTime": {
     "end_time": "2023-08-03T12:29:50.625317Z",
     "start_time": "2023-08-03T12:29:50.616266Z"
    }
   }
  },
  {
   "cell_type": "code",
   "execution_count": 23,
   "outputs": [],
   "source": [
    "melted_df.dropna(subset='Value',inplace=True) #drop nan rows"
   ],
   "metadata": {
    "collapsed": false,
    "ExecuteTime": {
     "end_time": "2023-08-03T12:29:51.034378Z",
     "start_time": "2023-08-03T12:29:51.030858Z"
    }
   }
  },
  {
   "cell_type": "code",
   "execution_count": 24,
   "outputs": [
    {
     "data": {
      "text/plain": "       id                                            context  \\\n0       6  6 software engineering group 6   verification ...   \n1       7  7 software engineering group 7 v v goals   ver...   \n2       8  8 software engineering group 8 static versus d...   \n3       9  9 software engineering group 9 relative cost o...   \n4      10  10 software engineering group 10 model driven ...   \n...   ...                                                ...   \n5722    9  training experience (1)   available experience...   \n5810  158  understanding perceptrons (1)   consider the c...   \n5880  271  guttman kaiser criterion and captured energy  ...   \n5881  272  cattell s scree test   scree plot shows square...   \n5900  304  the em algorithm   the em algorithm is a frame...   \n\n                               Name Marked for processing  \\\n0                  ase_combined.pdf                   Yes   \n1                  ase_combined.pdf                   Yes   \n2                  ase_combined.pdf                   Yes   \n3                  ase_combined.pdf                   Yes   \n4                  ase_combined.pdf                   Yes   \n...                             ...                   ...   \n5722  machine_learning_combined.pdf                   Yes   \n5810  machine_learning_combined.pdf                   Yes   \n5880  machine_learning_combined.pdf                   Yes   \n5881  machine_learning_combined.pdf                   Yes   \n5900  machine_learning_combined.pdf                   Yes   \n\n                                                  Value  \n0     what is the definition of verification and val...  \n1     what are the goals of verification and validat...  \n2               what is static and what is dynamic v&v?  \n3     how the relative cost of fixing defects behave...  \n4                     what is model-driven development?  \n...                                                 ...  \n5722               define the credit assignment problem  \n5810                       what is a linear classifier?  \n5880      what are the problems of using these methods?  \n5881           what are the problems of the scree test?  \n5900          what is the key idea behind em algorithm?  \n\n[2663 rows x 5 columns]",
      "text/html": "<div>\n<style scoped>\n    .dataframe tbody tr th:only-of-type {\n        vertical-align: middle;\n    }\n\n    .dataframe tbody tr th {\n        vertical-align: top;\n    }\n\n    .dataframe thead th {\n        text-align: right;\n    }\n</style>\n<table border=\"1\" class=\"dataframe\">\n  <thead>\n    <tr style=\"text-align: right;\">\n      <th></th>\n      <th>id</th>\n      <th>context</th>\n      <th>Name</th>\n      <th>Marked for processing</th>\n      <th>Value</th>\n    </tr>\n  </thead>\n  <tbody>\n    <tr>\n      <th>0</th>\n      <td>6</td>\n      <td>6 software engineering group 6   verification ...</td>\n      <td>ase_combined.pdf</td>\n      <td>Yes</td>\n      <td>what is the definition of verification and val...</td>\n    </tr>\n    <tr>\n      <th>1</th>\n      <td>7</td>\n      <td>7 software engineering group 7 v v goals   ver...</td>\n      <td>ase_combined.pdf</td>\n      <td>Yes</td>\n      <td>what are the goals of verification and validat...</td>\n    </tr>\n    <tr>\n      <th>2</th>\n      <td>8</td>\n      <td>8 software engineering group 8 static versus d...</td>\n      <td>ase_combined.pdf</td>\n      <td>Yes</td>\n      <td>what is static and what is dynamic v&amp;v?</td>\n    </tr>\n    <tr>\n      <th>3</th>\n      <td>9</td>\n      <td>9 software engineering group 9 relative cost o...</td>\n      <td>ase_combined.pdf</td>\n      <td>Yes</td>\n      <td>how the relative cost of fixing defects behave...</td>\n    </tr>\n    <tr>\n      <th>4</th>\n      <td>10</td>\n      <td>10 software engineering group 10 model driven ...</td>\n      <td>ase_combined.pdf</td>\n      <td>Yes</td>\n      <td>what is model-driven development?</td>\n    </tr>\n    <tr>\n      <th>...</th>\n      <td>...</td>\n      <td>...</td>\n      <td>...</td>\n      <td>...</td>\n      <td>...</td>\n    </tr>\n    <tr>\n      <th>5722</th>\n      <td>9</td>\n      <td>training experience (1)   available experience...</td>\n      <td>machine_learning_combined.pdf</td>\n      <td>Yes</td>\n      <td>define the credit assignment problem</td>\n    </tr>\n    <tr>\n      <th>5810</th>\n      <td>158</td>\n      <td>understanding perceptrons (1)   consider the c...</td>\n      <td>machine_learning_combined.pdf</td>\n      <td>Yes</td>\n      <td>what is a linear classifier?</td>\n    </tr>\n    <tr>\n      <th>5880</th>\n      <td>271</td>\n      <td>guttman kaiser criterion and captured energy  ...</td>\n      <td>machine_learning_combined.pdf</td>\n      <td>Yes</td>\n      <td>what are the problems of using these methods?</td>\n    </tr>\n    <tr>\n      <th>5881</th>\n      <td>272</td>\n      <td>cattell s scree test   scree plot shows square...</td>\n      <td>machine_learning_combined.pdf</td>\n      <td>Yes</td>\n      <td>what are the problems of the scree test?</td>\n    </tr>\n    <tr>\n      <th>5900</th>\n      <td>304</td>\n      <td>the em algorithm   the em algorithm is a frame...</td>\n      <td>machine_learning_combined.pdf</td>\n      <td>Yes</td>\n      <td>what is the key idea behind em algorithm?</td>\n    </tr>\n  </tbody>\n</table>\n<p>2663 rows × 5 columns</p>\n</div>"
     },
     "execution_count": 24,
     "metadata": {},
     "output_type": "execute_result"
    }
   ],
   "source": [
    "melted_df"
   ],
   "metadata": {
    "collapsed": false,
    "ExecuteTime": {
     "end_time": "2023-08-03T12:29:53.324505Z",
     "start_time": "2023-08-03T12:29:53.318773Z"
    }
   }
  },
  {
   "cell_type": "code",
   "execution_count": 25,
   "outputs": [],
   "source": [
    "melted_df.rename(columns={'Marked for processing':'MFP','Value':'question'},inplace=True)"
   ],
   "metadata": {
    "collapsed": false,
    "ExecuteTime": {
     "end_time": "2023-08-03T12:30:10.126497Z",
     "start_time": "2023-08-03T12:30:10.116831Z"
    }
   }
  },
  {
   "cell_type": "code",
   "execution_count": 60,
   "outputs": [],
   "source": [
    "melted_df.to_csv('data/final_master_cleaned.csv')"
   ],
   "metadata": {
    "collapsed": false,
    "ExecuteTime": {
     "end_time": "2023-08-02T05:55:00.039510Z",
     "start_time": "2023-08-02T05:54:59.993194Z"
    }
   }
  }
 ],
 "metadata": {
  "kernelspec": {
   "display_name": "Python 3",
   "language": "python",
   "name": "python3"
  },
  "language_info": {
   "codemirror_mode": {
    "name": "ipython",
    "version": 2
   },
   "file_extension": ".py",
   "mimetype": "text/x-python",
   "name": "python",
   "nbconvert_exporter": "python",
   "pygments_lexer": "ipython2",
   "version": "2.7.6"
  }
 },
 "nbformat": 4,
 "nbformat_minor": 0
}
