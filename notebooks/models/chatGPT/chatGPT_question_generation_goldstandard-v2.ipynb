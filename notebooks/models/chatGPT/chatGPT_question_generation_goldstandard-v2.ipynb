{
 "cells": [
  {
   "cell_type": "markdown",
   "source": [
    "## ChatGPT model evaluation on Goldstandard-V2 dataset\n",
    "This notebook is used to experiment with different prompts for the question generation model that uses the chatGPT API from open.ai.\n",
    "First a helper function is created to call the API with the provided prompt. For this prompt different techniques are tried out and evaluated to find the best performing prompt template."
   ],
   "metadata": {
    "collapsed": false
   }
  },
  {
   "cell_type": "code",
   "execution_count": 1,
   "metadata": {
    "collapsed": true,
    "ExecuteTime": {
     "end_time": "2023-07-15T20:57:23.643929Z",
     "start_time": "2023-07-15T20:57:10.353492Z"
    }
   },
   "outputs": [
    {
     "name": "stderr",
     "output_type": "stream",
     "text": [
      "[nltk_data] Downloading package wordnet to /Users/I516258/nltk_data...\n",
      "[nltk_data]   Package wordnet is already up-to-date!\n"
     ]
    }
   ],
   "source": [
    "import os\n",
    "from dotenv import load_dotenv\n",
    "import openai\n",
    "from src.datageneration.extractor import extract_text_without_image\n",
    "from pypdfium2 import PdfDocument\n",
    "import pandas as pd\n",
    "from sklearn.model_selection import train_test_split\n",
    "from src.evaluation.eval_main import Metrics\n",
    "import nltk\n",
    "import time\n",
    "\n",
    "nltk.download('wordnet')\n",
    "\n",
    "load_dotenv()\n",
    "openai.api_key = os.getenv(\"OPENAI-API-KEY\")\n",
    "\n",
    "def chat_gpt(prompt, temperature=0):\n",
    "    completion = openai.ChatCompletion.create(\n",
    "        model=\"gpt-3.5-turbo\",\n",
    "        messages=[\n",
    "            {\"role\": \"user\", \"content\": prompt}\n",
    "        ],\n",
    "        temperature=temperature\n",
    "    )\n",
    "    return completion.choices[0].message.content"
   ]
  },
  {
   "cell_type": "markdown",
   "source": [
    "First we prepare the data for the evaluation."
   ],
   "metadata": {
    "collapsed": false
   }
  },
  {
   "cell_type": "code",
   "execution_count": 2,
   "outputs": [
    {
     "data": {
      "text/plain": "                                      PDF-name                       Topic  \\\n0                             ase_combined.pdf  Agile Software Engineering   \n1                             ase_combined.pdf  Agile Software Engineering   \n2                             ase_combined.pdf  Agile Software Engineering   \n3                             ase_combined.pdf  Agile Software Engineering   \n4                             ase_combined.pdf  Agile Software Engineering   \n...                                        ...                         ...   \n3942  it-security-all-slides_no_duplicates.pdf                 IT-Security   \n3943  it-security-all-slides_no_duplicates.pdf                 IT-Security   \n3944  it-security-all-slides_no_duplicates.pdf                 IT-Security   \n3945  it-security-all-slides_no_duplicates.pdf                 IT-Security   \n3946  it-security-all-slides_no_duplicates.pdf                 IT-Security   \n\n      Page number Marked for processing Includes image data Includes formula  \\\n0               1                    No                  No               No   \n1               2                    No                  No               No   \n2               3                    No                  No               No   \n3               4                    No                  No               No   \n4               5                    No                  No               No   \n...           ...                   ...                 ...              ...   \n3942          592                   Yes                 Yes               No   \n3943          593                   Yes                 Yes              Yes   \n3944          594                   Yes                 Yes              Yes   \n3945          595                   Yes                 Yes              Yes   \n3946          596                   Yes                 Yes               No   \n\n                                             Question 1 Question 2 Question 3  \\\n0                                                   NaN        NaN        NaN   \n1                                                   NaN        NaN        NaN   \n2                                                   NaN        NaN        NaN   \n3                                                   NaN        NaN        NaN   \n4                                                   NaN        NaN        NaN   \n...                                                 ...        ...        ...   \n3942     What is the intuition of Differential Privacy?        NaN        NaN   \n3943    What is the definition of Differential Privacy?        NaN        NaN   \n3944   What is the parameter 𝜖 and the composition t...        NaN        NaN   \n3945   What is the Privacy Budget? What are challenges?        NaN        NaN   \n3946     How to make Algorithms Differentially Private?        NaN        NaN   \n\n                                     Title of the slide Type of question  \\\n0                                                   NaN              NaN   \n1                                                   NaN              NaN   \n2                                                   NaN              NaN   \n3                                                   NaN              NaN   \n4                             Cost of Software Failures              NaN   \n...                                                 ...              ...   \n3942                     Differential Privacy Intuition              NaN   \n3943  Differential Privacy Definition (Simplified Ve...              NaN   \n3944                                 On the Parameter 𝜺              NaN   \n3945                                     Privacy Budget              NaN   \n3946           Making Algorithms Differentially Private              NaN   \n\n     Comment  \n0        NaN  \n1        NaN  \n2        NaN  \n3        NaN  \n4        NaN  \n...      ...  \n3942     NaN  \n3943     NaN  \n3944     NaN  \n3945     NaN  \n3946     NaN  \n\n[3947 rows x 12 columns]",
      "text/html": "<div>\n<style scoped>\n    .dataframe tbody tr th:only-of-type {\n        vertical-align: middle;\n    }\n\n    .dataframe tbody tr th {\n        vertical-align: top;\n    }\n\n    .dataframe thead th {\n        text-align: right;\n    }\n</style>\n<table border=\"1\" class=\"dataframe\">\n  <thead>\n    <tr style=\"text-align: right;\">\n      <th></th>\n      <th>PDF-name</th>\n      <th>Topic</th>\n      <th>Page number</th>\n      <th>Marked for processing</th>\n      <th>Includes image data</th>\n      <th>Includes formula</th>\n      <th>Question 1</th>\n      <th>Question 2</th>\n      <th>Question 3</th>\n      <th>Title of the slide</th>\n      <th>Type of question</th>\n      <th>Comment</th>\n    </tr>\n  </thead>\n  <tbody>\n    <tr>\n      <th>0</th>\n      <td>ase_combined.pdf</td>\n      <td>Agile Software Engineering</td>\n      <td>1</td>\n      <td>No</td>\n      <td>No</td>\n      <td>No</td>\n      <td>NaN</td>\n      <td>NaN</td>\n      <td>NaN</td>\n      <td>NaN</td>\n      <td>NaN</td>\n      <td>NaN</td>\n    </tr>\n    <tr>\n      <th>1</th>\n      <td>ase_combined.pdf</td>\n      <td>Agile Software Engineering</td>\n      <td>2</td>\n      <td>No</td>\n      <td>No</td>\n      <td>No</td>\n      <td>NaN</td>\n      <td>NaN</td>\n      <td>NaN</td>\n      <td>NaN</td>\n      <td>NaN</td>\n      <td>NaN</td>\n    </tr>\n    <tr>\n      <th>2</th>\n      <td>ase_combined.pdf</td>\n      <td>Agile Software Engineering</td>\n      <td>3</td>\n      <td>No</td>\n      <td>No</td>\n      <td>No</td>\n      <td>NaN</td>\n      <td>NaN</td>\n      <td>NaN</td>\n      <td>NaN</td>\n      <td>NaN</td>\n      <td>NaN</td>\n    </tr>\n    <tr>\n      <th>3</th>\n      <td>ase_combined.pdf</td>\n      <td>Agile Software Engineering</td>\n      <td>4</td>\n      <td>No</td>\n      <td>No</td>\n      <td>No</td>\n      <td>NaN</td>\n      <td>NaN</td>\n      <td>NaN</td>\n      <td>NaN</td>\n      <td>NaN</td>\n      <td>NaN</td>\n    </tr>\n    <tr>\n      <th>4</th>\n      <td>ase_combined.pdf</td>\n      <td>Agile Software Engineering</td>\n      <td>5</td>\n      <td>No</td>\n      <td>No</td>\n      <td>No</td>\n      <td>NaN</td>\n      <td>NaN</td>\n      <td>NaN</td>\n      <td>Cost of Software Failures</td>\n      <td>NaN</td>\n      <td>NaN</td>\n    </tr>\n    <tr>\n      <th>...</th>\n      <td>...</td>\n      <td>...</td>\n      <td>...</td>\n      <td>...</td>\n      <td>...</td>\n      <td>...</td>\n      <td>...</td>\n      <td>...</td>\n      <td>...</td>\n      <td>...</td>\n      <td>...</td>\n      <td>...</td>\n    </tr>\n    <tr>\n      <th>3942</th>\n      <td>it-security-all-slides_no_duplicates.pdf</td>\n      <td>IT-Security</td>\n      <td>592</td>\n      <td>Yes</td>\n      <td>Yes</td>\n      <td>No</td>\n      <td>What is the intuition of Differential Privacy?</td>\n      <td>NaN</td>\n      <td>NaN</td>\n      <td>Differential Privacy Intuition</td>\n      <td>NaN</td>\n      <td>NaN</td>\n    </tr>\n    <tr>\n      <th>3943</th>\n      <td>it-security-all-slides_no_duplicates.pdf</td>\n      <td>IT-Security</td>\n      <td>593</td>\n      <td>Yes</td>\n      <td>Yes</td>\n      <td>Yes</td>\n      <td>What is the definition of Differential Privacy?</td>\n      <td>NaN</td>\n      <td>NaN</td>\n      <td>Differential Privacy Definition (Simplified Ve...</td>\n      <td>NaN</td>\n      <td>NaN</td>\n    </tr>\n    <tr>\n      <th>3944</th>\n      <td>it-security-all-slides_no_duplicates.pdf</td>\n      <td>IT-Security</td>\n      <td>594</td>\n      <td>Yes</td>\n      <td>Yes</td>\n      <td>Yes</td>\n      <td>What is the parameter 𝜖 and the composition t...</td>\n      <td>NaN</td>\n      <td>NaN</td>\n      <td>On the Parameter 𝜺</td>\n      <td>NaN</td>\n      <td>NaN</td>\n    </tr>\n    <tr>\n      <th>3945</th>\n      <td>it-security-all-slides_no_duplicates.pdf</td>\n      <td>IT-Security</td>\n      <td>595</td>\n      <td>Yes</td>\n      <td>Yes</td>\n      <td>Yes</td>\n      <td>What is the Privacy Budget? What are challenges?</td>\n      <td>NaN</td>\n      <td>NaN</td>\n      <td>Privacy Budget</td>\n      <td>NaN</td>\n      <td>NaN</td>\n    </tr>\n    <tr>\n      <th>3946</th>\n      <td>it-security-all-slides_no_duplicates.pdf</td>\n      <td>IT-Security</td>\n      <td>596</td>\n      <td>Yes</td>\n      <td>Yes</td>\n      <td>No</td>\n      <td>How to make Algorithms Differentially Private?</td>\n      <td>NaN</td>\n      <td>NaN</td>\n      <td>Making Algorithms Differentially Private</td>\n      <td>NaN</td>\n      <td>NaN</td>\n    </tr>\n  </tbody>\n</table>\n<p>3947 rows × 12 columns</p>\n</div>"
     },
     "execution_count": 2,
     "metadata": {},
     "output_type": "execute_result"
    }
   ],
   "source": [
    "data_df = pd.read_csv(\"../../../datasets/master/Master_Labeling_cleaned.csv\", delimiter=';') # Read in csv\n",
    "data_df"
   ],
   "metadata": {
    "collapsed": false
   }
  },
  {
   "cell_type": "code",
   "execution_count": 3,
   "outputs": [
    {
     "data": {
      "text/plain": "3947"
     },
     "execution_count": 3,
     "metadata": {},
     "output_type": "execute_result"
    }
   ],
   "source": [
    "len(data_df)"
   ],
   "metadata": {
    "collapsed": false
   }
  },
  {
   "cell_type": "code",
   "execution_count": 4,
   "outputs": [
    {
     "data": {
      "text/plain": "array(['ase_combined.pdf', 'corporate_knowledge_management_combined.pdf',\n       'decision_support_combined.pdf',\n       'information_retrieval_combined.pdf', 'large_scale_combined.pdf',\n       'leadership_combined.pdf', 'machine_learning_combined.pdf',\n       'network_science_combined.pdf',\n       'it-security-all-slides_no_duplicates.pdf'], dtype=object)"
     },
     "execution_count": 4,
     "metadata": {},
     "output_type": "execute_result"
    }
   ],
   "source": [
    "data_df[\"PDF-name\"].unique() # check which pdfs are needed"
   ],
   "metadata": {
    "collapsed": false
   }
  },
  {
   "cell_type": "code",
   "execution_count": 5,
   "outputs": [
    {
     "data": {
      "text/plain": "                                      PDF-name                       Topic  \\\n5                             ase_combined.pdf  Agile Software Engineering   \n6                             ase_combined.pdf  Agile Software Engineering   \n7                             ase_combined.pdf  Agile Software Engineering   \n8                             ase_combined.pdf  Agile Software Engineering   \n9                             ase_combined.pdf  Agile Software Engineering   \n...                                        ...                         ...   \n3942  it-security-all-slides_no_duplicates.pdf                 IT-Security   \n3943  it-security-all-slides_no_duplicates.pdf                 IT-Security   \n3944  it-security-all-slides_no_duplicates.pdf                 IT-Security   \n3945  it-security-all-slides_no_duplicates.pdf                 IT-Security   \n3946  it-security-all-slides_no_duplicates.pdf                 IT-Security   \n\n      Page number                                         Question 1  \\\n5               6  What is the definition of Verification and Val...   \n6               7  What are the goals of verification and validat...   \n7               8            What is static and what is dynamic V&V?   \n8               9  How the relative cost of fixing defects behave...   \n9              10                  What is model-driven development?   \n...           ...                                                ...   \n3942          592     What is the intuition of Differential Privacy?   \n3943          593    What is the definition of Differential Privacy?   \n3944          594   What is the parameter 𝜖 and the composition t...   \n3945          595   What is the Privacy Budget? What are challenges?   \n3946          596     How to make Algorithms Differentially Private?   \n\n                                             Question 2 Question 3  \n5     What are the objectives of Verification and Va...        NaN  \n6      On what does verification and validation depend?        NaN  \n7     How does static V&V differentiate from dynamic...        NaN  \n8                                                   NaN        NaN  \n9                                                   NaN        NaN  \n...                                                 ...        ...  \n3942                                                NaN        NaN  \n3943                                                NaN        NaN  \n3944                                                NaN        NaN  \n3945                                                NaN        NaN  \n3946                                                NaN        NaN  \n\n[2182 rows x 6 columns]",
      "text/html": "<div>\n<style scoped>\n    .dataframe tbody tr th:only-of-type {\n        vertical-align: middle;\n    }\n\n    .dataframe tbody tr th {\n        vertical-align: top;\n    }\n\n    .dataframe thead th {\n        text-align: right;\n    }\n</style>\n<table border=\"1\" class=\"dataframe\">\n  <thead>\n    <tr style=\"text-align: right;\">\n      <th></th>\n      <th>PDF-name</th>\n      <th>Topic</th>\n      <th>Page number</th>\n      <th>Question 1</th>\n      <th>Question 2</th>\n      <th>Question 3</th>\n    </tr>\n  </thead>\n  <tbody>\n    <tr>\n      <th>5</th>\n      <td>ase_combined.pdf</td>\n      <td>Agile Software Engineering</td>\n      <td>6</td>\n      <td>What is the definition of Verification and Val...</td>\n      <td>What are the objectives of Verification and Va...</td>\n      <td>NaN</td>\n    </tr>\n    <tr>\n      <th>6</th>\n      <td>ase_combined.pdf</td>\n      <td>Agile Software Engineering</td>\n      <td>7</td>\n      <td>What are the goals of verification and validat...</td>\n      <td>On what does verification and validation depend?</td>\n      <td>NaN</td>\n    </tr>\n    <tr>\n      <th>7</th>\n      <td>ase_combined.pdf</td>\n      <td>Agile Software Engineering</td>\n      <td>8</td>\n      <td>What is static and what is dynamic V&amp;V?</td>\n      <td>How does static V&amp;V differentiate from dynamic...</td>\n      <td>NaN</td>\n    </tr>\n    <tr>\n      <th>8</th>\n      <td>ase_combined.pdf</td>\n      <td>Agile Software Engineering</td>\n      <td>9</td>\n      <td>How the relative cost of fixing defects behave...</td>\n      <td>NaN</td>\n      <td>NaN</td>\n    </tr>\n    <tr>\n      <th>9</th>\n      <td>ase_combined.pdf</td>\n      <td>Agile Software Engineering</td>\n      <td>10</td>\n      <td>What is model-driven development?</td>\n      <td>NaN</td>\n      <td>NaN</td>\n    </tr>\n    <tr>\n      <th>...</th>\n      <td>...</td>\n      <td>...</td>\n      <td>...</td>\n      <td>...</td>\n      <td>...</td>\n      <td>...</td>\n    </tr>\n    <tr>\n      <th>3942</th>\n      <td>it-security-all-slides_no_duplicates.pdf</td>\n      <td>IT-Security</td>\n      <td>592</td>\n      <td>What is the intuition of Differential Privacy?</td>\n      <td>NaN</td>\n      <td>NaN</td>\n    </tr>\n    <tr>\n      <th>3943</th>\n      <td>it-security-all-slides_no_duplicates.pdf</td>\n      <td>IT-Security</td>\n      <td>593</td>\n      <td>What is the definition of Differential Privacy?</td>\n      <td>NaN</td>\n      <td>NaN</td>\n    </tr>\n    <tr>\n      <th>3944</th>\n      <td>it-security-all-slides_no_duplicates.pdf</td>\n      <td>IT-Security</td>\n      <td>594</td>\n      <td>What is the parameter 𝜖 and the composition t...</td>\n      <td>NaN</td>\n      <td>NaN</td>\n    </tr>\n    <tr>\n      <th>3945</th>\n      <td>it-security-all-slides_no_duplicates.pdf</td>\n      <td>IT-Security</td>\n      <td>595</td>\n      <td>What is the Privacy Budget? What are challenges?</td>\n      <td>NaN</td>\n      <td>NaN</td>\n    </tr>\n    <tr>\n      <th>3946</th>\n      <td>it-security-all-slides_no_duplicates.pdf</td>\n      <td>IT-Security</td>\n      <td>596</td>\n      <td>How to make Algorithms Differentially Private?</td>\n      <td>NaN</td>\n      <td>NaN</td>\n    </tr>\n  </tbody>\n</table>\n<p>2182 rows × 6 columns</p>\n</div>"
     },
     "execution_count": 5,
     "metadata": {},
     "output_type": "execute_result"
    }
   ],
   "source": [
    "data_df = data_df.dropna(subset=\"Question 1\").drop(columns=[\"Marked for processing\", \"Includes image data\", \"Includes formula\", \"Type of question\", \"Title of the slide\", \"Comment\"]) # filter to include only the samples that have at least one questino, drop unnecessary slides\n",
    "data_df"
   ],
   "metadata": {
    "collapsed": false
   }
  },
  {
   "cell_type": "code",
   "execution_count": null,
   "outputs": [],
   "source": [
    "from src.image_to_text.data_preprocessing.util import extract_text\n",
    "import os\n",
    "\n",
    "# Extract the text from the pdf slides and associate them with a unique id, which consists of the pdf name and the page number of the text\n",
    "extracted_content = pd.DataFrame(columns=['PDF-Name', 'Pagenumber', 'Page-Text', 'OCR-text'])\n",
    "pdf_paths = [os.path.join(\"../../../datasets/master/slides/\", pdf_slides) for pdf_slides in data_df[\"PDF-name\"].unique()]\n",
    "for pdf_path in pdf_paths:\n",
    "\n",
    "    pdf_name = os.path.split(pdf_path)[-1]\n",
    "    #allowed_page_numbers = data_df.loc[data_df[\"PDF-Name\"] == pdf_name][\"Page Number\"].to_list() # page numbers of the current pdf in question which should be kept\n",
    "\n",
    "    # extract text\n",
    "    pdf = PdfDocument(pdf_path)\n",
    "    text = extract_text_without_image(pdf.raw)\n",
    "\n",
    "    for i in text:\n",
    "        extracted_content = extracted_content.append({'PDF-Name': pdf_name,'Pagenumber': i[0], 'Page-Text': i[1], 'OCR-text': i[2]}, ignore_index=True)\n",
    "\n",
    "    # free memory to prevent kernel dying\n",
    "    del text\n",
    "    del pdf"
   ],
   "metadata": {
    "collapsed": false,
    "pycharm": {
     "is_executing": true
    }
   }
  },
  {
   "cell_type": "code",
   "execution_count": 6,
   "outputs": [
    {
     "data": {
      "text/plain": "                                      PDF-Name  Pagenumber  \\\n0                             ase_combined.pdf           0   \n1                             ase_combined.pdf           1   \n2                             ase_combined.pdf           2   \n3                             ase_combined.pdf           3   \n4                             ase_combined.pdf           4   \n...                                        ...         ...   \n3942  it-security-all-slides_no_duplicates.pdf         591   \n3943  it-security-all-slides_no_duplicates.pdf         592   \n3944  it-security-all-slides_no_duplicates.pdf         593   \n3945  it-security-all-slides_no_duplicates.pdf         594   \n3946  it-security-all-slides_no_duplicates.pdf         595   \n\n                                              Page-Text  \\\n0     1\\r\\nSoftware Engineering Group 1\\r\\nAdvanced ...   \n1     2\\r\\nSoftware Engineering Group 2\\r\\nSoftware ...   \n2     3\\r\\nSoftware Engineering Group 3\\r\\nSpectacul...   \n3     4\\r\\nSoftware Engineering Group 4\\r\\nSpectacul...   \n4     5\\r\\nSoftware Engineering Group 5\\r\\nCost of S...   \n...                                                 ...   \n3942  Differential Privacy\\r\\nIntuition\\r\\n• Assume ...   \n3943  Differential Privacy\\r\\nDefinition (Simplified...   \n3944  On the Parameter \\r\\nPr  ଵ =  ≤ ఢ ⋅ Pr  ଶ = \\r...   \n3945  Privacy Budget\\r\\n• Defines an upper bound on ...   \n3946  Making Algorithms Differentially Private\\r\\n• ...   \n\n                                               OCR-text  \n0     Advanced Software\\nEngineering\\n\\n1. Introduct...  \n1     Software Drives our Modern Civilisation\\n\\nwil...  \n2     Spectacular Software Failures (1/2)\\n\\nTHERAC-...  \n3     Spectacular Software Failures (2/2)\\n\\nNorthea...  \n4     Cost of Software Failures\\n\\n= 2002: NIST repo...  \n...                                                 ...  \n3942  te\\nGee 5 UNIVERSITY\\n\\nDifferential Privacy 8...  \n3943  ol\\nDifferential Privacy Be) OF MANNHEIM\\n\\n— ...  \n3944  te\\n\\nSeta UNIVERSITY\\nOn the Parameter €-2o B...  \n3945  Privacy Budget\\n\\n* Defines an upper bound on ...  \n3946  ot\\nMaking Algorithms Differentially Private S...  \n\n[3947 rows x 4 columns]",
      "text/html": "<div>\n<style scoped>\n    .dataframe tbody tr th:only-of-type {\n        vertical-align: middle;\n    }\n\n    .dataframe tbody tr th {\n        vertical-align: top;\n    }\n\n    .dataframe thead th {\n        text-align: right;\n    }\n</style>\n<table border=\"1\" class=\"dataframe\">\n  <thead>\n    <tr style=\"text-align: right;\">\n      <th></th>\n      <th>PDF-Name</th>\n      <th>Pagenumber</th>\n      <th>Page-Text</th>\n      <th>OCR-text</th>\n    </tr>\n  </thead>\n  <tbody>\n    <tr>\n      <th>0</th>\n      <td>ase_combined.pdf</td>\n      <td>0</td>\n      <td>1\\r\\nSoftware Engineering Group 1\\r\\nAdvanced ...</td>\n      <td>Advanced Software\\nEngineering\\n\\n1. Introduct...</td>\n    </tr>\n    <tr>\n      <th>1</th>\n      <td>ase_combined.pdf</td>\n      <td>1</td>\n      <td>2\\r\\nSoftware Engineering Group 2\\r\\nSoftware ...</td>\n      <td>Software Drives our Modern Civilisation\\n\\nwil...</td>\n    </tr>\n    <tr>\n      <th>2</th>\n      <td>ase_combined.pdf</td>\n      <td>2</td>\n      <td>3\\r\\nSoftware Engineering Group 3\\r\\nSpectacul...</td>\n      <td>Spectacular Software Failures (1/2)\\n\\nTHERAC-...</td>\n    </tr>\n    <tr>\n      <th>3</th>\n      <td>ase_combined.pdf</td>\n      <td>3</td>\n      <td>4\\r\\nSoftware Engineering Group 4\\r\\nSpectacul...</td>\n      <td>Spectacular Software Failures (2/2)\\n\\nNorthea...</td>\n    </tr>\n    <tr>\n      <th>4</th>\n      <td>ase_combined.pdf</td>\n      <td>4</td>\n      <td>5\\r\\nSoftware Engineering Group 5\\r\\nCost of S...</td>\n      <td>Cost of Software Failures\\n\\n= 2002: NIST repo...</td>\n    </tr>\n    <tr>\n      <th>...</th>\n      <td>...</td>\n      <td>...</td>\n      <td>...</td>\n      <td>...</td>\n    </tr>\n    <tr>\n      <th>3942</th>\n      <td>it-security-all-slides_no_duplicates.pdf</td>\n      <td>591</td>\n      <td>Differential Privacy\\r\\nIntuition\\r\\n• Assume ...</td>\n      <td>te\\nGee 5 UNIVERSITY\\n\\nDifferential Privacy 8...</td>\n    </tr>\n    <tr>\n      <th>3943</th>\n      <td>it-security-all-slides_no_duplicates.pdf</td>\n      <td>592</td>\n      <td>Differential Privacy\\r\\nDefinition (Simplified...</td>\n      <td>ol\\nDifferential Privacy Be) OF MANNHEIM\\n\\n— ...</td>\n    </tr>\n    <tr>\n      <th>3944</th>\n      <td>it-security-all-slides_no_duplicates.pdf</td>\n      <td>593</td>\n      <td>On the Parameter \\r\\nPr  ଵ =  ≤ ఢ ⋅ Pr  ଶ = \\r...</td>\n      <td>te\\n\\nSeta UNIVERSITY\\nOn the Parameter €-2o B...</td>\n    </tr>\n    <tr>\n      <th>3945</th>\n      <td>it-security-all-slides_no_duplicates.pdf</td>\n      <td>594</td>\n      <td>Privacy Budget\\r\\n• Defines an upper bound on ...</td>\n      <td>Privacy Budget\\n\\n* Defines an upper bound on ...</td>\n    </tr>\n    <tr>\n      <th>3946</th>\n      <td>it-security-all-slides_no_duplicates.pdf</td>\n      <td>595</td>\n      <td>Making Algorithms Differentially Private\\r\\n• ...</td>\n      <td>ot\\nMaking Algorithms Differentially Private S...</td>\n    </tr>\n  </tbody>\n</table>\n<p>3947 rows × 4 columns</p>\n</div>"
     },
     "execution_count": 6,
     "metadata": {},
     "output_type": "execute_result"
    }
   ],
   "source": [
    "file_path = \"../../../datasets/master/extracted_text_content.csv\"\n",
    "\n",
    "# Save the DataFrame to the specified folder\n",
    "#extracted_content.to_csv(file_path, index=False)\n",
    "\n",
    "#Load the content from the folder\n",
    "extracted_content = pd.read_csv(file_path)\n",
    "\n",
    "extracted_content"
   ],
   "metadata": {
    "collapsed": false,
    "ExecuteTime": {
     "end_time": "2023-07-15T20:57:23.682075Z",
     "start_time": "2023-07-15T20:57:23.645874Z"
    }
   }
  },
  {
   "cell_type": "code",
   "execution_count": 7,
   "outputs": [
    {
     "data": {
      "text/plain": "                                      PDF-name                       Topic  \\\n0                             ase_combined.pdf  Agile Software Engineering   \n1                             ase_combined.pdf  Agile Software Engineering   \n2                             ase_combined.pdf  Agile Software Engineering   \n3                             ase_combined.pdf  Agile Software Engineering   \n4                             ase_combined.pdf  Agile Software Engineering   \n...                                        ...                         ...   \n2177  it-security-all-slides_no_duplicates.pdf                 IT-Security   \n2178  it-security-all-slides_no_duplicates.pdf                 IT-Security   \n2179  it-security-all-slides_no_duplicates.pdf                 IT-Security   \n2180  it-security-all-slides_no_duplicates.pdf                 IT-Security   \n2181  it-security-all-slides_no_duplicates.pdf                 IT-Security   \n\n      Page number                                         Question 1  \\\n0               6  What is the definition of Verification and Val...   \n1               7  What are the goals of verification and validat...   \n2               8            What is static and what is dynamic V&V?   \n3               9  How the relative cost of fixing defects behave...   \n4              10                  What is model-driven development?   \n...           ...                                                ...   \n2177          592     What is the intuition of Differential Privacy?   \n2178          593    What is the definition of Differential Privacy?   \n2179          594   What is the parameter 𝜖 and the composition t...   \n2180          595   What is the Privacy Budget? What are challenges?   \n2181          596     How to make Algorithms Differentially Private?   \n\n                                             Question 2 Question 3  \\\n0     What are the objectives of Verification and Va...        NaN   \n1      On what does verification and validation depend?        NaN   \n2     How does static V&V differentiate from dynamic...        NaN   \n3                                                   NaN        NaN   \n4                                                   NaN        NaN   \n...                                                 ...        ...   \n2177                                                NaN        NaN   \n2178                                                NaN        NaN   \n2179                                                NaN        NaN   \n2180                                                NaN        NaN   \n2181                                                NaN        NaN   \n\n                                              Page-Text  \\\n0     6\\r\\nSoftware Engineering Group 6\\r\\n■ Verific...   \n1     7\\r\\nSoftware Engineering Group 7\\r\\nV&V Goals...   \n2     8\\r\\nSoftware Engineering Group 8\\r\\nStatic ve...   \n3     9\\r\\nSoftware Engineering Group 9\\r\\nRelative ...   \n4     10\\r\\nSoftware Engineering Group 10\\r\\nModel-D...   \n...                                                 ...   \n2177  Differential Privacy\\r\\nIntuition\\r\\n• Assume ...   \n2178  Differential Privacy\\r\\nDefinition (Simplified...   \n2179  On the Parameter \\r\\nPr  ଵ =  ≤ ఢ ⋅ Pr  ଶ = \\r...   \n2180  Privacy Budget\\r\\n• Defines an upper bound on ...   \n2181  Making Algorithms Differentially Private\\r\\n• ...   \n\n                                               OCR-text  \n0     Verification and Validation (V&V)\\n\\n= Verific...  \n1     V&V Goals\\n\\n= Verification and validation sho...  \n2     Static versus Dynamic V&V\\n\\n= Software inspec...  \n3     Relative Cost of Fixing Defects\\n\\n=u The rela...  \n4     Model-Driven Development\\n\\nPlaces models at t...  \n...                                                 ...  \n2177  te\\nGee 5 UNIVERSITY\\n\\nDifferential Privacy 8...  \n2178  ol\\nDifferential Privacy Be) OF MANNHEIM\\n\\n— ...  \n2179  te\\n\\nSeta UNIVERSITY\\nOn the Parameter €-2o B...  \n2180  Privacy Budget\\n\\n* Defines an upper bound on ...  \n2181  ot\\nMaking Algorithms Differentially Private S...  \n\n[2182 rows x 8 columns]",
      "text/html": "<div>\n<style scoped>\n    .dataframe tbody tr th:only-of-type {\n        vertical-align: middle;\n    }\n\n    .dataframe tbody tr th {\n        vertical-align: top;\n    }\n\n    .dataframe thead th {\n        text-align: right;\n    }\n</style>\n<table border=\"1\" class=\"dataframe\">\n  <thead>\n    <tr style=\"text-align: right;\">\n      <th></th>\n      <th>PDF-name</th>\n      <th>Topic</th>\n      <th>Page number</th>\n      <th>Question 1</th>\n      <th>Question 2</th>\n      <th>Question 3</th>\n      <th>Page-Text</th>\n      <th>OCR-text</th>\n    </tr>\n  </thead>\n  <tbody>\n    <tr>\n      <th>0</th>\n      <td>ase_combined.pdf</td>\n      <td>Agile Software Engineering</td>\n      <td>6</td>\n      <td>What is the definition of Verification and Val...</td>\n      <td>What are the objectives of Verification and Va...</td>\n      <td>NaN</td>\n      <td>6\\r\\nSoftware Engineering Group 6\\r\\n■ Verific...</td>\n      <td>Verification and Validation (V&amp;V)\\n\\n= Verific...</td>\n    </tr>\n    <tr>\n      <th>1</th>\n      <td>ase_combined.pdf</td>\n      <td>Agile Software Engineering</td>\n      <td>7</td>\n      <td>What are the goals of verification and validat...</td>\n      <td>On what does verification and validation depend?</td>\n      <td>NaN</td>\n      <td>7\\r\\nSoftware Engineering Group 7\\r\\nV&amp;V Goals...</td>\n      <td>V&amp;V Goals\\n\\n= Verification and validation sho...</td>\n    </tr>\n    <tr>\n      <th>2</th>\n      <td>ase_combined.pdf</td>\n      <td>Agile Software Engineering</td>\n      <td>8</td>\n      <td>What is static and what is dynamic V&amp;V?</td>\n      <td>How does static V&amp;V differentiate from dynamic...</td>\n      <td>NaN</td>\n      <td>8\\r\\nSoftware Engineering Group 8\\r\\nStatic ve...</td>\n      <td>Static versus Dynamic V&amp;V\\n\\n= Software inspec...</td>\n    </tr>\n    <tr>\n      <th>3</th>\n      <td>ase_combined.pdf</td>\n      <td>Agile Software Engineering</td>\n      <td>9</td>\n      <td>How the relative cost of fixing defects behave...</td>\n      <td>NaN</td>\n      <td>NaN</td>\n      <td>9\\r\\nSoftware Engineering Group 9\\r\\nRelative ...</td>\n      <td>Relative Cost of Fixing Defects\\n\\n=u The rela...</td>\n    </tr>\n    <tr>\n      <th>4</th>\n      <td>ase_combined.pdf</td>\n      <td>Agile Software Engineering</td>\n      <td>10</td>\n      <td>What is model-driven development?</td>\n      <td>NaN</td>\n      <td>NaN</td>\n      <td>10\\r\\nSoftware Engineering Group 10\\r\\nModel-D...</td>\n      <td>Model-Driven Development\\n\\nPlaces models at t...</td>\n    </tr>\n    <tr>\n      <th>...</th>\n      <td>...</td>\n      <td>...</td>\n      <td>...</td>\n      <td>...</td>\n      <td>...</td>\n      <td>...</td>\n      <td>...</td>\n      <td>...</td>\n    </tr>\n    <tr>\n      <th>2177</th>\n      <td>it-security-all-slides_no_duplicates.pdf</td>\n      <td>IT-Security</td>\n      <td>592</td>\n      <td>What is the intuition of Differential Privacy?</td>\n      <td>NaN</td>\n      <td>NaN</td>\n      <td>Differential Privacy\\r\\nIntuition\\r\\n• Assume ...</td>\n      <td>te\\nGee 5 UNIVERSITY\\n\\nDifferential Privacy 8...</td>\n    </tr>\n    <tr>\n      <th>2178</th>\n      <td>it-security-all-slides_no_duplicates.pdf</td>\n      <td>IT-Security</td>\n      <td>593</td>\n      <td>What is the definition of Differential Privacy?</td>\n      <td>NaN</td>\n      <td>NaN</td>\n      <td>Differential Privacy\\r\\nDefinition (Simplified...</td>\n      <td>ol\\nDifferential Privacy Be) OF MANNHEIM\\n\\n— ...</td>\n    </tr>\n    <tr>\n      <th>2179</th>\n      <td>it-security-all-slides_no_duplicates.pdf</td>\n      <td>IT-Security</td>\n      <td>594</td>\n      <td>What is the parameter 𝜖 and the composition t...</td>\n      <td>NaN</td>\n      <td>NaN</td>\n      <td>On the Parameter \\r\\nPr  ଵ =  ≤ ఢ ⋅ Pr  ଶ = \\r...</td>\n      <td>te\\n\\nSeta UNIVERSITY\\nOn the Parameter €-2o B...</td>\n    </tr>\n    <tr>\n      <th>2180</th>\n      <td>it-security-all-slides_no_duplicates.pdf</td>\n      <td>IT-Security</td>\n      <td>595</td>\n      <td>What is the Privacy Budget? What are challenges?</td>\n      <td>NaN</td>\n      <td>NaN</td>\n      <td>Privacy Budget\\r\\n• Defines an upper bound on ...</td>\n      <td>Privacy Budget\\n\\n* Defines an upper bound on ...</td>\n    </tr>\n    <tr>\n      <th>2181</th>\n      <td>it-security-all-slides_no_duplicates.pdf</td>\n      <td>IT-Security</td>\n      <td>596</td>\n      <td>How to make Algorithms Differentially Private?</td>\n      <td>NaN</td>\n      <td>NaN</td>\n      <td>Making Algorithms Differentially Private\\r\\n• ...</td>\n      <td>ot\\nMaking Algorithms Differentially Private S...</td>\n    </tr>\n  </tbody>\n</table>\n<p>2182 rows × 8 columns</p>\n</div>"
     },
     "execution_count": 7,
     "metadata": {},
     "output_type": "execute_result"
    }
   ],
   "source": [
    "# merge both dataframes to delete unwanted rows\n",
    "merged_df = data_df.merge(extracted_content, left_index=True, right_index=True, how='left')\n",
    "merged_df = merged_df.drop(columns=[\"PDF-Name\", \"Pagenumber\"])\n",
    "merged_df.reset_index(inplace=True, drop=True)\n",
    "merged_df"
   ],
   "metadata": {
    "collapsed": false
   }
  },
  {
   "cell_type": "code",
   "execution_count": 8,
   "outputs": [
    {
     "name": "stdout",
     "output_type": "stream",
     "text": [
      "Lenght of test set:  437\n"
     ]
    },
    {
     "data": {
      "text/plain": "                                         PDF-name  \\\n282   corporate_knowledge_management_combined.pdf   \n479                 decision_support_combined.pdf   \n1317                      leadership_combined.pdf   \n1455                machine_learning_combined.pdf   \n507                 decision_support_combined.pdf   \n...                                           ...   \n1859     it-security-all-slides_no_duplicates.pdf   \n2039     it-security-all-slides_no_duplicates.pdf   \n548            information_retrieval_combined.pdf   \n634            information_retrieval_combined.pdf   \n1436                machine_learning_combined.pdf   \n\n                               Topic  Page number  \\\n282   Corporate Knowledge Management          253   \n479                 Decision Support          198   \n1317       Leadership and Motivation          132   \n1455                Machine Learning          170   \n507                 Decision Support          308   \n...                              ...          ...   \n1859                     IT-Security          164   \n2039                     IT-Security          403   \n548            Information Retrieval           67   \n634            Information Retrieval          172   \n1436                Machine Learning          146   \n\n                                             Question 1  \\\n282   Which views of a data cube can be used for dif...   \n479                      Explain Structural Properties.   \n1317  What are the four component that form authenti...   \n1455               Explain empirical risk minimization.   \n507                         What is the Framing Effect?   \n...                                                 ...   \n1859  What are general advices regarding potentially...   \n2039  How is the ICV calculated in the AH Protocol i...   \n548                 Why should posting sites be sorted?   \n634   How does the ranking work when relevance judge...   \n1436  What is the relationship between Bernoulli mod...   \n\n                         Question 2 Question 3  \\\n282                             NaN        NaN   \n479                             NaN        NaN   \n1317                            NaN        NaN   \n1455                            NaN        NaN   \n507   What is the Anchoring Effect?        NaN   \n...                             ...        ...   \n1859                            NaN        NaN   \n2039                            NaN        NaN   \n548                             NaN        NaN   \n634                             NaN        NaN   \n1436                            NaN        NaN   \n\n                                              Page-Text  \\\n282   Multidimensional Data Structure -\\r\\nCube\\r\\nL...   \n479   Structural Properties\\r\\nLet S be an SPN and l...   \n1317  Four components that form AL\\r\\n➢ Self-awarene...   \n1455  Empirical risk minimization with log loss\\r\\n•...   \n507   Universität Mannheim – Prof. Dr. Heiner Stucke...   \n...                                                 ...   \n1859  General Advices\\r\\n• Companies etc. usually do...   \n2039  Authentication Header (AH) Protocol\\r\\nTranspo...   \n548   21\\r\\nIR & WS, Lecture 2: Boolean Retrieval an...   \n634   30\\r\\nIR & WS, Lecture 5: Probabilistic Inform...   \n1436  Bernoulli model and odds\\r\\n• Recall the Berno...   \n\n                                               OCR-text  \n282   7. Knowledge retrieval in DW through Business ...  \n479   Structural Properties\\n\\nLet S be an SPN and l...  \n1317  ee UNIVERSITY\\n\\nFour components that form AL ...  \n1455  Empirical risk minimization with log loss\\n\\ne...  \n507   More Effects\\nee\\n\\n— framing effect:\\n\\n¢ Peo...  \n...                                                 ...  \n1859  na\\n—— Scho\\nnm\\n\\nte\\nGeneral Advices Be OP M...  \n2039  ol\\nAuthentication Header (AH) Protocol SB OF ...  \n548   The merge\\neS\\n\\n= If posting lists are sorted...  \n634   Binary independence model\\nEe\\n\" Scenario #2: ...  \n1436  Bernoulli model and odds\\n\\ne Recall the Berno...  \n\n[437 rows x 8 columns]",
      "text/html": "<div>\n<style scoped>\n    .dataframe tbody tr th:only-of-type {\n        vertical-align: middle;\n    }\n\n    .dataframe tbody tr th {\n        vertical-align: top;\n    }\n\n    .dataframe thead th {\n        text-align: right;\n    }\n</style>\n<table border=\"1\" class=\"dataframe\">\n  <thead>\n    <tr style=\"text-align: right;\">\n      <th></th>\n      <th>PDF-name</th>\n      <th>Topic</th>\n      <th>Page number</th>\n      <th>Question 1</th>\n      <th>Question 2</th>\n      <th>Question 3</th>\n      <th>Page-Text</th>\n      <th>OCR-text</th>\n    </tr>\n  </thead>\n  <tbody>\n    <tr>\n      <th>282</th>\n      <td>corporate_knowledge_management_combined.pdf</td>\n      <td>Corporate Knowledge Management</td>\n      <td>253</td>\n      <td>Which views of a data cube can be used for dif...</td>\n      <td>NaN</td>\n      <td>NaN</td>\n      <td>Multidimensional Data Structure -\\r\\nCube\\r\\nL...</td>\n      <td>7. Knowledge retrieval in DW through Business ...</td>\n    </tr>\n    <tr>\n      <th>479</th>\n      <td>decision_support_combined.pdf</td>\n      <td>Decision Support</td>\n      <td>198</td>\n      <td>Explain Structural Properties.</td>\n      <td>NaN</td>\n      <td>NaN</td>\n      <td>Structural Properties\\r\\nLet S be an SPN and l...</td>\n      <td>Structural Properties\\n\\nLet S be an SPN and l...</td>\n    </tr>\n    <tr>\n      <th>1317</th>\n      <td>leadership_combined.pdf</td>\n      <td>Leadership and Motivation</td>\n      <td>132</td>\n      <td>What are the four component that form authenti...</td>\n      <td>NaN</td>\n      <td>NaN</td>\n      <td>Four components that form AL\\r\\n➢ Self-awarene...</td>\n      <td>ee UNIVERSITY\\n\\nFour components that form AL ...</td>\n    </tr>\n    <tr>\n      <th>1455</th>\n      <td>machine_learning_combined.pdf</td>\n      <td>Machine Learning</td>\n      <td>170</td>\n      <td>Explain empirical risk minimization.</td>\n      <td>NaN</td>\n      <td>NaN</td>\n      <td>Empirical risk minimization with log loss\\r\\n•...</td>\n      <td>Empirical risk minimization with log loss\\n\\ne...</td>\n    </tr>\n    <tr>\n      <th>507</th>\n      <td>decision_support_combined.pdf</td>\n      <td>Decision Support</td>\n      <td>308</td>\n      <td>What is the Framing Effect?</td>\n      <td>What is the Anchoring Effect?</td>\n      <td>NaN</td>\n      <td>Universität Mannheim – Prof. Dr. Heiner Stucke...</td>\n      <td>More Effects\\nee\\n\\n— framing effect:\\n\\n¢ Peo...</td>\n    </tr>\n    <tr>\n      <th>...</th>\n      <td>...</td>\n      <td>...</td>\n      <td>...</td>\n      <td>...</td>\n      <td>...</td>\n      <td>...</td>\n      <td>...</td>\n      <td>...</td>\n    </tr>\n    <tr>\n      <th>1859</th>\n      <td>it-security-all-slides_no_duplicates.pdf</td>\n      <td>IT-Security</td>\n      <td>164</td>\n      <td>What are general advices regarding potentially...</td>\n      <td>NaN</td>\n      <td>NaN</td>\n      <td>General Advices\\r\\n• Companies etc. usually do...</td>\n      <td>na\\n—— Scho\\nnm\\n\\nte\\nGeneral Advices Be OP M...</td>\n    </tr>\n    <tr>\n      <th>2039</th>\n      <td>it-security-all-slides_no_duplicates.pdf</td>\n      <td>IT-Security</td>\n      <td>403</td>\n      <td>How is the ICV calculated in the AH Protocol i...</td>\n      <td>NaN</td>\n      <td>NaN</td>\n      <td>Authentication Header (AH) Protocol\\r\\nTranspo...</td>\n      <td>ol\\nAuthentication Header (AH) Protocol SB OF ...</td>\n    </tr>\n    <tr>\n      <th>548</th>\n      <td>information_retrieval_combined.pdf</td>\n      <td>Information Retrieval</td>\n      <td>67</td>\n      <td>Why should posting sites be sorted?</td>\n      <td>NaN</td>\n      <td>NaN</td>\n      <td>21\\r\\nIR &amp; WS, Lecture 2: Boolean Retrieval an...</td>\n      <td>The merge\\neS\\n\\n= If posting lists are sorted...</td>\n    </tr>\n    <tr>\n      <th>634</th>\n      <td>information_retrieval_combined.pdf</td>\n      <td>Information Retrieval</td>\n      <td>172</td>\n      <td>How does the ranking work when relevance judge...</td>\n      <td>NaN</td>\n      <td>NaN</td>\n      <td>30\\r\\nIR &amp; WS, Lecture 5: Probabilistic Inform...</td>\n      <td>Binary independence model\\nEe\\n\" Scenario #2: ...</td>\n    </tr>\n    <tr>\n      <th>1436</th>\n      <td>machine_learning_combined.pdf</td>\n      <td>Machine Learning</td>\n      <td>146</td>\n      <td>What is the relationship between Bernoulli mod...</td>\n      <td>NaN</td>\n      <td>NaN</td>\n      <td>Bernoulli model and odds\\r\\n• Recall the Berno...</td>\n      <td>Bernoulli model and odds\\n\\ne Recall the Berno...</td>\n    </tr>\n  </tbody>\n</table>\n<p>437 rows × 8 columns</p>\n</div>"
     },
     "execution_count": 8,
     "metadata": {},
     "output_type": "execute_result"
    }
   ],
   "source": [
    "# Split the DataFrame into train, validation, and test sets\n",
    "master_train_val, master_test = train_test_split(merged_df, test_size=0.2, random_state=42)\n",
    "\n",
    "print(\"Lenght of test set: \", len(master_test))\n",
    "master_test"
   ],
   "metadata": {
    "collapsed": false,
    "ExecuteTime": {
     "end_time": "2023-07-15T20:57:23.705275Z",
     "start_time": "2023-07-15T20:57:23.668105Z"
    }
   }
  },
  {
   "cell_type": "code",
   "execution_count": 9,
   "outputs": [],
   "source": [
    "# Reset the index of the DataFrame\n",
    "master_test.reset_index(inplace=True, drop=True)\n",
    "\n",
    "# this stores now the possible input for the chatGPT model\n",
    "content = master_test[[\"Topic\", \"Page-Text\", \"OCR-text\"]]\n",
    "\n",
    "# this stores the reference\n",
    "references = master_test[[\"Question 1\", \"Question 2\", \"Question 3\"]]\n",
    "\n",
    "references.to_csv(\"./refs.csv\")"
   ],
   "metadata": {
    "collapsed": false,
    "ExecuteTime": {
     "end_time": "2023-07-15T20:57:23.705712Z",
     "start_time": "2023-07-15T20:57:23.692441Z"
    }
   }
  },
  {
   "cell_type": "code",
   "execution_count": 10,
   "outputs": [
    {
     "data": {
      "text/plain": "437"
     },
     "execution_count": 10,
     "metadata": {},
     "output_type": "execute_result"
    }
   ],
   "source": [
    "len(references)"
   ],
   "metadata": {
    "collapsed": false,
    "ExecuteTime": {
     "end_time": "2023-07-15T20:57:23.885998Z",
     "start_time": "2023-07-15T20:57:23.871354Z"
    }
   }
  },
  {
   "cell_type": "code",
   "execution_count": 11,
   "outputs": [
    {
     "data": {
      "text/plain": "                              Topic  \\\n0    Corporate Knowledge Management   \n1                  Decision Support   \n2         Leadership and Motivation   \n3                  Machine Learning   \n4                  Decision Support   \n..                              ...   \n432                     IT-Security   \n433                     IT-Security   \n434           Information Retrieval   \n435           Information Retrieval   \n436                Machine Learning   \n\n                                             Page-Text  \\\n0    Multidimensional Data Structure -\\r\\nCube\\r\\nL...   \n1    Structural Properties\\r\\nLet S be an SPN and l...   \n2    Four components that form AL\\r\\n➢ Self-awarene...   \n3    Empirical risk minimization with log loss\\r\\n•...   \n4    Universität Mannheim – Prof. Dr. Heiner Stucke...   \n..                                                 ...   \n432  General Advices\\r\\n• Companies etc. usually do...   \n433  Authentication Header (AH) Protocol\\r\\nTranspo...   \n434  21\\r\\nIR & WS, Lecture 2: Boolean Retrieval an...   \n435  30\\r\\nIR & WS, Lecture 5: Probabilistic Inform...   \n436  Bernoulli model and odds\\r\\n• Recall the Berno...   \n\n                                              OCR-text  \n0    7. Knowledge retrieval in DW through Business ...  \n1    Structural Properties\\n\\nLet S be an SPN and l...  \n2    ee UNIVERSITY\\n\\nFour components that form AL ...  \n3    Empirical risk minimization with log loss\\n\\ne...  \n4    More Effects\\nee\\n\\n— framing effect:\\n\\n¢ Peo...  \n..                                                 ...  \n432  na\\n—— Scho\\nnm\\n\\nte\\nGeneral Advices Be OP M...  \n433  ol\\nAuthentication Header (AH) Protocol SB OF ...  \n434  The merge\\neS\\n\\n= If posting lists are sorted...  \n435  Binary independence model\\nEe\\n\" Scenario #2: ...  \n436  Bernoulli model and odds\\n\\ne Recall the Berno...  \n\n[437 rows x 3 columns]",
      "text/html": "<div>\n<style scoped>\n    .dataframe tbody tr th:only-of-type {\n        vertical-align: middle;\n    }\n\n    .dataframe tbody tr th {\n        vertical-align: top;\n    }\n\n    .dataframe thead th {\n        text-align: right;\n    }\n</style>\n<table border=\"1\" class=\"dataframe\">\n  <thead>\n    <tr style=\"text-align: right;\">\n      <th></th>\n      <th>Topic</th>\n      <th>Page-Text</th>\n      <th>OCR-text</th>\n    </tr>\n  </thead>\n  <tbody>\n    <tr>\n      <th>0</th>\n      <td>Corporate Knowledge Management</td>\n      <td>Multidimensional Data Structure -\\r\\nCube\\r\\nL...</td>\n      <td>7. Knowledge retrieval in DW through Business ...</td>\n    </tr>\n    <tr>\n      <th>1</th>\n      <td>Decision Support</td>\n      <td>Structural Properties\\r\\nLet S be an SPN and l...</td>\n      <td>Structural Properties\\n\\nLet S be an SPN and l...</td>\n    </tr>\n    <tr>\n      <th>2</th>\n      <td>Leadership and Motivation</td>\n      <td>Four components that form AL\\r\\n➢ Self-awarene...</td>\n      <td>ee UNIVERSITY\\n\\nFour components that form AL ...</td>\n    </tr>\n    <tr>\n      <th>3</th>\n      <td>Machine Learning</td>\n      <td>Empirical risk minimization with log loss\\r\\n•...</td>\n      <td>Empirical risk minimization with log loss\\n\\ne...</td>\n    </tr>\n    <tr>\n      <th>4</th>\n      <td>Decision Support</td>\n      <td>Universität Mannheim – Prof. Dr. Heiner Stucke...</td>\n      <td>More Effects\\nee\\n\\n— framing effect:\\n\\n¢ Peo...</td>\n    </tr>\n    <tr>\n      <th>...</th>\n      <td>...</td>\n      <td>...</td>\n      <td>...</td>\n    </tr>\n    <tr>\n      <th>432</th>\n      <td>IT-Security</td>\n      <td>General Advices\\r\\n• Companies etc. usually do...</td>\n      <td>na\\n—— Scho\\nnm\\n\\nte\\nGeneral Advices Be OP M...</td>\n    </tr>\n    <tr>\n      <th>433</th>\n      <td>IT-Security</td>\n      <td>Authentication Header (AH) Protocol\\r\\nTranspo...</td>\n      <td>ol\\nAuthentication Header (AH) Protocol SB OF ...</td>\n    </tr>\n    <tr>\n      <th>434</th>\n      <td>Information Retrieval</td>\n      <td>21\\r\\nIR &amp; WS, Lecture 2: Boolean Retrieval an...</td>\n      <td>The merge\\neS\\n\\n= If posting lists are sorted...</td>\n    </tr>\n    <tr>\n      <th>435</th>\n      <td>Information Retrieval</td>\n      <td>30\\r\\nIR &amp; WS, Lecture 5: Probabilistic Inform...</td>\n      <td>Binary independence model\\nEe\\n\" Scenario #2: ...</td>\n    </tr>\n    <tr>\n      <th>436</th>\n      <td>Machine Learning</td>\n      <td>Bernoulli model and odds\\r\\n• Recall the Berno...</td>\n      <td>Bernoulli model and odds\\n\\ne Recall the Berno...</td>\n    </tr>\n  </tbody>\n</table>\n<p>437 rows × 3 columns</p>\n</div>"
     },
     "execution_count": 11,
     "metadata": {},
     "output_type": "execute_result"
    }
   ],
   "source": [
    "content"
   ],
   "metadata": {
    "collapsed": false,
    "ExecuteTime": {
     "end_time": "2023-07-15T20:57:27.853867Z",
     "start_time": "2023-07-15T20:57:27.849595Z"
    }
   }
  },
  {
   "cell_type": "markdown",
   "source": [
    "# Prompt Engineering\n",
    "Having prepared everything it is possible to start with prompt engineering. It is started with simple prompts and continued with more complex prompts.\n",
    "\n",
    "| # | Prompt                                                                                                                                                                                                                                                                                                                                                                                                                                                                                                                                                                                                                                                                                         |\n",
    "|:-:|------------------------------------------------------------------------------------------------------------------------------------------------------------------------------------------------------------------------------------------------------------------------------------------------------------------------------------------------------------------------------------------------------------------------------------------------------------------------------------------------------------------------------------------------------------------------------------------------------------------------------------------------------------------------------------------------|\n",
    "| 1 | Generate a question in a flashcard style for the content delimited by triple backticks.<br>\\`\\`\\`{row['Page-Text']}\\`\\`\\`                                                                                                                                                                                                                                                                                                                                                                                                                                                                                                                                                                            |\n",
    "| 2 | Generate a question in a flashcard style for the content delimited by triple backticks.<br>Take into account how exam questions are normally formulated and formulate the question accordingly.<br>\\`\\`\\`{row['Page-Text']}\\`\\`\\`                                                                                                                                                                                                                                                                                                                                                                                                                                                                    |\n",
    "| 3 | Generate a question in a flashcard style for the content delimited by triple backticks.<br>When there are examples do not focus on their specifics but try to cover the overarching concept or idea.<br>\\`\\`\\`{row['Page-Text']}\\`\\`\\`                                                                                                                                                                                                                                                                                                                                                                                                                                                               |\n",
    "| 4 | Generate a question in a flashcard style for the content delimited by triple backticks.<br>Focus on concepts, definitions and key-words. <br>Take into account how exam questions are normally formulated and formulate the question accordingly. <br>When there are examples do not focus on their specifics but try to cover the overarching concept or idea. <br>\\`\\`\\`{row['Page-Text']}\\`\\`\\`                                                                                                                                                                                                                                                                                                   |\n",
    "| 5 | You are a bot to support in the generation of flashcards from lecture slides.<br>You are provided with two inputs.<br>The first input delimited by triple backticks is the text that is copied from the slides.<br>The second input delimited by triple quotation marks is retrieved with an OCR tool to extract all text from a slide.<br>Follow the below process: <br>1. Step: Compare the first input with the second input to retrieve the relevant information <br>2. Step: Generate a question for this information in a flashcard style Only return the generated question. <br>\\`\\`\\`{row['Page-Text']}\\`\\`\\` <br>\\\"\\\"\\\"{row['OCR-text']}\\\"\\\"\\\"                                             |\n",
    "| 6 | Generate a question in a flashcard style for the content delimited by triple backticks. <br>\\`\\`\\`{row['Page-Text']}\\`\\`\\` <br>Follow a similar style for generating the question as in this two examples: <br>Example 1) Input: {master_train_val.loc[0, 'Page-Text']}, question: {master_train_val.loc[0, 'Question 1']}<br>Example 2) Input: {master_train_val.loc[1, 'Page-Text']}, question: {master_train_val.loc[1, 'Question 1']}<br>Example 3) Input: {master_train_val.loc[2, 'Page-Text']}, question: {master_train_val.loc[2, 'Question 1']}                                                                                                                                             |\n",
    "| 7 | Generate a question in a flashcard style for the content delimited by triple backticks. <br>Take into account how exam questions are normally formulated and formulate the question accordingly. <br>\\`\\`\\`{row['Page-Text']}\\`\\`\\` <br>Only output the plain question.<br>Follow a similar style for generating the question as in this two examples: <br>Example 1) Input: {master_train_val.loc[0, 'Page-Text']}, question: {master_train_val.loc[0, 'Question 1']}<br>Example 2) Input: {master_train_val.loc[1, 'Page-Text']}, question: {master_train_val.loc[1, 'Question 1']}<br>Example 3) Input: {master_train_val.loc[2, 'Page-Text']}, question: {master_train_val.loc[2, 'Question 1']} |\n",
    "| 8 | Generate a question in a flashcard style for the content delimited by triple backticks.<br>The content is from the lecture {row['Topic']}.<br>Follow a similar style for generating the question as in this two examples:<br>Example 1) Input: {master_train_val.loc[0, 'Page-Text']}, question: {master_train_val.loc[0, 'Question 1']}<br>Example 2) Input: {master_train_val.loc[1, 'Page-Text']}, question: {master_train_val.loc[1, 'Question 1']}<br>Example 3) Input: {master_train_val.loc[2, 'Page-Text']}, question: {master_train_val.loc[2, 'Question 1']}<br>Only output the plain question.<br>\\`\\`\\`{row['Page-Text']}\\`\\`\\`                                                          |\n",
    "## Zero-Shot Prompting"
   ],
   "metadata": {
    "collapsed": false
   }
  },
  {
   "cell_type": "code",
   "execution_count": null,
   "outputs": [],
   "source": [
    "refs = []\n",
    "for i, row in master_test.iterrows():\n",
    "    refs.append((i, [row['Question 1'], '' if pd.isna(row['Question 2']) else row['Question 2'], '' if pd.isna(row['Question 3']) else row['Question 3']]))\n",
    "refs"
   ],
   "metadata": {
    "collapsed": false,
    "ExecuteTime": {
     "end_time": "2023-07-15T21:05:38.655472Z",
     "start_time": "2023-07-15T21:05:38.649745Z"
    },
    "pycharm": {
     "is_executing": true
    }
   }
  },
  {
   "cell_type": "markdown",
   "source": [
    "Prompt 1"
   ],
   "metadata": {
    "collapsed": false
   }
  },
  {
   "cell_type": "code",
   "execution_count": null,
   "outputs": [],
   "source": [
    "model_results = []\n",
    "# the chatGPT API is called and results are stored\n",
    "for index, row in content.iterrows():\n",
    "    if index >=0:\n",
    "        prompt = f\"\"\"\n",
    "        Generate a question in a flashcard style for the content delimited by triple backticks.\n",
    "        ```{row['Page-Text']}```\n",
    "        \"\"\"\n",
    "        question = chat_gpt(prompt)\n",
    "        model_results.append((index, [question]))\n",
    "        print(\"Generated question for index \", index, \": \", question)\n",
    "        time.sleep(1)\n",
    "\n",
    "\n",
    "print(model_results)"
   ],
   "metadata": {
    "collapsed": false,
    "ExecuteTime": {
     "end_time": "2023-07-15T21:07:33.824595Z",
     "start_time": "2023-07-15T21:07:25.869519Z"
    },
    "pycharm": {
     "is_executing": true
    }
   }
  },
  {
   "cell_type": "code",
   "execution_count": 15,
   "outputs": [],
   "source": [
    "# Save model_results to disk\n",
    "#df_model_results = pd.DataFrame(model_results, columns=[\"Index\", \"Question\"])\n",
    "#df_model_results.to_csv(\"./model_results/master/prompt1.csv\", index=False)\n",
    "\n",
    "# restore model_results\n",
    "df_model_results = pd.read_csv(\"./model_results/master/prompt1.csv\")\n",
    "model_results = [(row['Index'], [row['Question']]) for _, row in df_model_results.iterrows()]"
   ],
   "metadata": {
    "collapsed": false
   }
  },
  {
   "cell_type": "code",
   "execution_count": 18,
   "outputs": [
    {
     "name": "stderr",
     "output_type": "stream",
     "text": [
      "[nltk_data] Downloading package stopwords to\n",
      "[nltk_data]     /Users/I516258/nltk_data...\n",
      "[nltk_data]   Package stopwords is already up-to-date!\n"
     ]
    },
    {
     "name": "stdout",
     "output_type": "stream",
     "text": [
      "                 PUNCTUATION  TYPOGRAPHY  CASING  TYPOS  MISC  REDUNDANCY  \\\n",
      "ChatGPT-Prompt1          879         103       1      1     1           1   \n",
      "\n",
      "                 COLLOCATIONS  rouge1_fmeasure  rouge1_precision  \\\n",
      "ChatGPT-Prompt1             1         0.400426           0.34423   \n",
      "\n",
      "                 rouge1_recall  ...  min_r    avg_f1    max_f1  min_f1  \\\n",
      "ChatGPT-Prompt1       0.538302  ...    0.0  0.325862  0.823529     0.0   \n",
      "\n",
      "                 avg_cos_sim  max_cos_sim  min_cos_sim  avg_sem_meteor  \\\n",
      "ChatGPT-Prompt1     0.537373     0.870126    -0.036201        0.372972   \n",
      "\n",
      "                 max_sem_meteor  min_sem_meteor  \n",
      "ChatGPT-Prompt1        0.876779             0.0  \n",
      "\n",
      "[1 rows x 34 columns]\n"
     ]
    }
   ],
   "source": [
    "# Performance is evaluated\n",
    "metrics = Metrics(save_to_file=True)\n",
    "result = pd.DataFrame(\n",
    "    metrics.evaluate(model_output=model_results, references=refs),\n",
    "    index=[\"ChatGPT-Prompt1\"]\n",
    ")\n",
    "print(result)"
   ],
   "metadata": {
    "collapsed": false
   }
  },
  {
   "cell_type": "markdown",
   "source": [
    "Prompt 2"
   ],
   "metadata": {
    "collapsed": false
   }
  },
  {
   "cell_type": "code",
   "execution_count": null,
   "outputs": [],
   "source": [
    "model_results = []\n",
    "# the chatGPT API is called and results are stored\n",
    "for index, row in content.iterrows():\n",
    "    if index >=0:\n",
    "        prompt = f\"\"\"\n",
    "        Generate a question in a flashcard style for the content delimited by triple backticks.\n",
    "        Take into account how exam questions are normally formulated and formulate the question accordingly.\n",
    "        ```{row['Page-Text']}```\n",
    "        \"\"\"\n",
    "        question = chat_gpt(prompt)\n",
    "        model_results.append((index, [question]))\n",
    "        print(\"Generated question for index \", index, \": \", question)\n",
    "        time.sleep(1)\n",
    "\n",
    "print(model_results)"
   ],
   "metadata": {
    "collapsed": false,
    "pycharm": {
     "is_executing": true
    }
   }
  },
  {
   "cell_type": "code",
   "execution_count": 20,
   "outputs": [],
   "source": [
    "# Save model_results to disk\n",
    "df_model_results = pd.DataFrame(model_results, columns=[\"Index\", \"Question\"])\n",
    "df_model_results.to_csv(\"./model_results/master/prompt2.csv\", index=False)\n",
    "\n",
    "# # restore model_results\n",
    "# df_model_results = pd.read_csv(\"./model_results/prompt2.csv\")\n",
    "# model_results = [(row[\"Index\"], [row[\"Question\"]]) for _, row in df_model_results.iterrows()]"
   ],
   "metadata": {
    "collapsed": false
   }
  },
  {
   "cell_type": "code",
   "execution_count": 22,
   "outputs": [
    {
     "name": "stdout",
     "output_type": "stream",
     "text": [
      "huggingface/tokenizers: The current process just got forked, after parallelism has already been used. Disabling parallelism to avoid deadlocks...\n",
      "To disable this warning, you can either:\n",
      "\t- Avoid using `tokenizers` before the fork if possible\n",
      "\t- Explicitly set the environment variable TOKENIZERS_PARALLELISM=(true | false)\n",
      "huggingface/tokenizers: The current process just got forked, after parallelism has already been used. Disabling parallelism to avoid deadlocks...\n",
      "To disable this warning, you can either:\n",
      "\t- Avoid using `tokenizers` before the fork if possible\n",
      "\t- Explicitly set the environment variable TOKENIZERS_PARALLELISM=(true | false)\n",
      "huggingface/tokenizers: The current process just got forked, after parallelism has already been used. Disabling parallelism to avoid deadlocks...\n",
      "To disable this warning, you can either:\n",
      "\t- Avoid using `tokenizers` before the fork if possible\n",
      "\t- Explicitly set the environment variable TOKENIZERS_PARALLELISM=(true | false)\n",
      "huggingface/tokenizers: The current process just got forked, after parallelism has already been used. Disabling parallelism to avoid deadlocks...\n",
      "To disable this warning, you can either:\n",
      "\t- Avoid using `tokenizers` before the fork if possible\n",
      "\t- Explicitly set the environment variable TOKENIZERS_PARALLELISM=(true | false)\n",
      "huggingface/tokenizers: The current process just got forked, after parallelism has already been used. Disabling parallelism to avoid deadlocks...\n",
      "To disable this warning, you can either:\n",
      "\t- Avoid using `tokenizers` before the fork if possible\n",
      "\t- Explicitly set the environment variable TOKENIZERS_PARALLELISM=(true | false)\n",
      "huggingface/tokenizers: The current process just got forked, after parallelism has already been used. Disabling parallelism to avoid deadlocks...\n",
      "To disable this warning, you can either:\n",
      "\t- Avoid using `tokenizers` before the fork if possible\n",
      "\t- Explicitly set the environment variable TOKENIZERS_PARALLELISM=(true | false)\n"
     ]
    },
    {
     "name": "stderr",
     "output_type": "stream",
     "text": [
      "[nltk_data] Downloading package stopwords to\n",
      "[nltk_data]     /Users/I516258/nltk_data...\n",
      "[nltk_data]   Package stopwords is already up-to-date!\n"
     ]
    },
    {
     "name": "stdout",
     "output_type": "stream",
     "text": [
      "                 PUNCTUATION  REDUNDANCY  TYPOGRAPHY  GRAMMAR  MISC  \\\n",
      "ChatGPT-Prompt2           66           4          31        1     1   \n",
      "\n",
      "                 COLLOCATIONS  rouge1_fmeasure  rouge1_precision  \\\n",
      "ChatGPT-Prompt2             1         0.380047          0.314394   \n",
      "\n",
      "                 rouge1_recall  rouge2_fmeasure  ...  min_r   avg_f1  max_f1  \\\n",
      "ChatGPT-Prompt2       0.552623         0.205541  ...    0.0  0.40836     1.0   \n",
      "\n",
      "                 min_f1  avg_cos_sim  max_cos_sim  min_cos_sim  \\\n",
      "ChatGPT-Prompt2     0.0     0.653568     0.997026    -0.016295   \n",
      "\n",
      "                 avg_sem_meteor  max_sem_meteor  min_sem_meteor  \n",
      "ChatGPT-Prompt2        0.447554        0.999772             0.0  \n",
      "\n",
      "[1 rows x 33 columns]\n"
     ]
    }
   ],
   "source": [
    "# Performance is evaluated\n",
    "metrics = Metrics(save_to_file=True)\n",
    "result = pd.DataFrame(\n",
    "    metrics.evaluate(model_output=model_results, references=refs),\n",
    "    index=[\"ChatGPT-Prompt2\"]\n",
    ")\n",
    "print(result)"
   ],
   "metadata": {
    "collapsed": false
   }
  },
  {
   "cell_type": "markdown",
   "source": [
    "Prompt 3"
   ],
   "metadata": {
    "collapsed": false
   }
  },
  {
   "cell_type": "code",
   "execution_count": null,
   "outputs": [],
   "source": [
    "model_results = []\n",
    "# the chatGPT API is called and results are stored\n",
    "for index, row in content.iterrows():\n",
    "    if index >=0:\n",
    "        prompt = f\"\"\"\n",
    "        Generate a question in a flashcard style for the content delimited by triple backticks.\n",
    "        When there are examples do not focus on their specifics but try to cover the overarching concept or idea.\n",
    "        ```{row['Page-Text']}```\n",
    "        \"\"\"\n",
    "        question = chat_gpt(prompt)\n",
    "        model_results.append((index, [question]))\n",
    "        print(\"Generated question for index \", index, \": \", question)\n",
    "        #time.sleep(1)\n",
    "\n",
    "print(model_results)"
   ],
   "metadata": {
    "collapsed": false,
    "pycharm": {
     "is_executing": true
    }
   }
  },
  {
   "cell_type": "code",
   "execution_count": 29,
   "outputs": [],
   "source": [
    "# Save model_results to disk\n",
    "#df_model_results = pd.DataFrame(model_results, columns=[\"Index\", \"Question\"])\n",
    "#df_model_results.to_csv(\"./model_results/master/prompt3.csv\", index=False)\n",
    "\n",
    "# # restore model_results\n",
    "df_model_results = pd.read_csv(\"./model_results/master/prompt3.csv\")\n",
    "model_results = [(row[\"Index\"], [row[\"Question\"]]) for _, row in df_model_results.iterrows()]"
   ],
   "metadata": {
    "collapsed": false
   }
  },
  {
   "cell_type": "code",
   "execution_count": 30,
   "outputs": [
    {
     "name": "stdout",
     "output_type": "stream",
     "text": [
      "huggingface/tokenizers: The current process just got forked, after parallelism has already been used. Disabling parallelism to avoid deadlocks...\n",
      "To disable this warning, you can either:\n",
      "\t- Avoid using `tokenizers` before the fork if possible\n",
      "\t- Explicitly set the environment variable TOKENIZERS_PARALLELISM=(true | false)\n",
      "huggingface/tokenizers: The current process just got forked, after parallelism has already been used. Disabling parallelism to avoid deadlocks...\n",
      "To disable this warning, you can either:\n",
      "\t- Avoid using `tokenizers` before the fork if possible\n",
      "\t- Explicitly set the environment variable TOKENIZERS_PARALLELISM=(true | false)\n",
      "huggingface/tokenizers: The current process just got forked, after parallelism has already been used. Disabling parallelism to avoid deadlocks...\n",
      "To disable this warning, you can either:\n",
      "\t- Avoid using `tokenizers` before the fork if possible\n",
      "\t- Explicitly set the environment variable TOKENIZERS_PARALLELISM=(true | false)\n",
      "huggingface/tokenizers: The current process just got forked, after parallelism has already been used. Disabling parallelism to avoid deadlocks...\n",
      "To disable this warning, you can either:\n",
      "\t- Avoid using `tokenizers` before the fork if possible\n",
      "\t- Explicitly set the environment variable TOKENIZERS_PARALLELISM=(true | false)\n"
     ]
    },
    {
     "name": "stderr",
     "output_type": "stream",
     "text": [
      "[nltk_data] Downloading package stopwords to\n",
      "[nltk_data]     /Users/I516258/nltk_data...\n",
      "[nltk_data]   Package stopwords is already up-to-date!\n"
     ]
    },
    {
     "name": "stdout",
     "output_type": "stream",
     "text": [
      "                 PUNCTUATION  GRAMMAR  REDUNDANCY  MISC  COLLOCATIONS  \\\n",
      "ChatGPT-Prompt3          436        3           3     1             1   \n",
      "\n",
      "                 rouge1_fmeasure  rouge1_precision  rouge1_recall  \\\n",
      "ChatGPT-Prompt3          0.40695          0.348381       0.550657   \n",
      "\n",
      "                 rouge2_fmeasure  rouge2_precision  ...  min_r    avg_f1  \\\n",
      "ChatGPT-Prompt3         0.229023          0.193999  ...    0.0  0.393743   \n",
      "\n",
      "                   max_f1  min_f1  avg_cos_sim  max_cos_sim  min_cos_sim  \\\n",
      "ChatGPT-Prompt3  0.933333     0.0     0.604548     0.929099    -0.008836   \n",
      "\n",
      "                 avg_sem_meteor  max_sem_meteor  min_sem_meteor  \n",
      "ChatGPT-Prompt3        0.393641        0.895295             0.0  \n",
      "\n",
      "[1 rows x 32 columns]\n"
     ]
    }
   ],
   "source": [
    "# Performance is evaluated\n",
    "metrics = Metrics(save_to_file=True)\n",
    "result = pd.DataFrame(\n",
    "    metrics.evaluate(model_output=model_results, references=refs),\n",
    "    index=[\"ChatGPT-Prompt3\"]\n",
    ")\n",
    "print(result)"
   ],
   "metadata": {
    "collapsed": false
   }
  },
  {
   "cell_type": "markdown",
   "source": [
    "Prompt 4"
   ],
   "metadata": {
    "collapsed": false
   }
  },
  {
   "cell_type": "code",
   "execution_count": null,
   "outputs": [],
   "source": [
    "model_results = []\n",
    "# the chatGPT API is called and results are stored\n",
    "for index, row in content.iterrows():\n",
    "    if index >=0:\n",
    "        prompt = f\"\"\"\n",
    "        Generate a question in a flashcard style for the content delimited by triple backticks.\n",
    "        Focus on concepts, definitions and key-words.\n",
    "        Take into account how exam questions are normally formulated and formulate the question accordingly.\n",
    "        When there are examples do not focus on their specifics but try to cover the overarching concept or idea.\n",
    "        ```{row['Page-Text']}```\n",
    "        \"\"\"\n",
    "        question = chat_gpt(prompt)\n",
    "        model_results.append((index, [question]))\n",
    "        print(\"Generated question for index \", index, \": \", question)\n",
    "        #time.sleep(1)\n",
    "\n",
    "print(model_results)"
   ],
   "metadata": {
    "collapsed": false,
    "pycharm": {
     "is_executing": true
    }
   }
  },
  {
   "cell_type": "code",
   "execution_count": 17,
   "outputs": [],
   "source": [
    "# Save model_results to disk\n",
    "df_model_results = pd.DataFrame(model_results, columns=[\"Index\", \"Question\"])\n",
    "df_model_results.to_csv(\"./model_results/master/prompt4.csv\", index=False)\n",
    "\n",
    "# # restore model_results\n",
    "# df_model_results = pd.read_csv(\"./model_results/prompt4.csv\")\n",
    "# model_results = [(row[\"Index\"], [row[\"Question\"]]) for _, row in df_model_results.iterrows()]"
   ],
   "metadata": {
    "collapsed": false
   }
  },
  {
   "cell_type": "code",
   "execution_count": 18,
   "outputs": [
    {
     "name": "stdout",
     "output_type": "stream",
     "text": [
      "huggingface/tokenizers: The current process just got forked, after parallelism has already been used. Disabling parallelism to avoid deadlocks...\n",
      "To disable this warning, you can either:\n",
      "\t- Avoid using `tokenizers` before the fork if possible\n",
      "\t- Explicitly set the environment variable TOKENIZERS_PARALLELISM=(true | false)\n",
      "huggingface/tokenizers: The current process just got forked, after parallelism has already been used. Disabling parallelism to avoid deadlocks...\n",
      "To disable this warning, you can either:\n",
      "\t- Avoid using `tokenizers` before the fork if possible\n",
      "\t- Explicitly set the environment variable TOKENIZERS_PARALLELISM=(true | false)\n",
      "huggingface/tokenizers: The current process just got forked, after parallelism has already been used. Disabling parallelism to avoid deadlocks...\n",
      "To disable this warning, you can either:\n",
      "\t- Avoid using `tokenizers` before the fork if possible\n",
      "\t- Explicitly set the environment variable TOKENIZERS_PARALLELISM=(true | false)\n",
      "huggingface/tokenizers: The current process just got forked, after parallelism has already been used. Disabling parallelism to avoid deadlocks...\n",
      "To disable this warning, you can either:\n",
      "\t- Avoid using `tokenizers` before the fork if possible\n",
      "\t- Explicitly set the environment variable TOKENIZERS_PARALLELISM=(true | false)\n"
     ]
    },
    {
     "name": "stderr",
     "output_type": "stream",
     "text": [
      "[nltk_data] Downloading package stopwords to\n",
      "[nltk_data]     /Users/I516258/nltk_data...\n",
      "[nltk_data]   Package stopwords is already up-to-date!\n"
     ]
    },
    {
     "name": "stdout",
     "output_type": "stream",
     "text": [
      "                 PUNCTUATION  COMPOUNDING  GRAMMAR  REDUNDANCY  MISC  \\\n",
      "ChatGPT-Prompt4           78            1        3           2     1   \n",
      "\n",
      "                 rouge1_fmeasure  rouge1_precision  rouge1_recall  \\\n",
      "ChatGPT-Prompt4         0.403044          0.340698       0.557553   \n",
      "\n",
      "                 rouge2_fmeasure  rouge2_precision  ...  min_r    avg_f1  \\\n",
      "ChatGPT-Prompt4         0.226629          0.190137  ...    0.0  0.437449   \n",
      "\n",
      "                 max_f1  min_f1  avg_cos_sim  max_cos_sim  min_cos_sim  \\\n",
      "ChatGPT-Prompt4     1.0     0.0      0.67608          1.0     0.052027   \n",
      "\n",
      "                 avg_sem_meteor  max_sem_meteor  min_sem_meteor  \n",
      "ChatGPT-Prompt4        0.460562        0.999772             0.0  \n",
      "\n",
      "[1 rows x 32 columns]\n"
     ]
    }
   ],
   "source": [
    "# Performance is evaluated\n",
    "metrics = Metrics(save_to_file=True)\n",
    "result = pd.DataFrame(\n",
    "    metrics.evaluate(model_output=model_results, references=refs),\n",
    "    index=[\"ChatGPT-Prompt4\"]\n",
    ")\n",
    "print(result)"
   ],
   "metadata": {
    "collapsed": false
   }
  },
  {
   "cell_type": "markdown",
   "source": [
    "Prompt 5"
   ],
   "metadata": {
    "collapsed": false
   }
  },
  {
   "cell_type": "code",
   "execution_count": null,
   "outputs": [],
   "source": [
    "model_results = []\n",
    "# the chatGPT API is called and results are stored\n",
    "for index, row in content.iterrows():\n",
    "    if index >=0:\n",
    "        prompt = f\"\"\"\n",
    "        You are a bot to support in the generation of flashcards from lecture slides.\n",
    "        You are provided with two inputs. The first input delimited by triple backticks is the text that is copied from the slides.\n",
    "        The second input delimited by triple quotation marks is retrieved with an OCR tool to extract all text from a slide.\n",
    "        Follow the below process:\n",
    "        1. Step: Compare the first input with the second input to retrieve the relevant information\n",
    "        2. Step: Generate a question for this information in a flashcard style\n",
    "        Only return the generated question.\n",
    "        ```{row['Page-Text']}```\n",
    "        \\\"\\\"\\\"{row['OCR-text']}\\\"\\\"\\\"\n",
    "        \"\"\"\n",
    "        question = chat_gpt(prompt)\n",
    "        model_results.append((index, [question]))\n",
    "        print(\"Generated question for index \", index, \": \", question)\n",
    "        #time.sleep(1)\n",
    "\n",
    "print(model_results)"
   ],
   "metadata": {
    "collapsed": false,
    "pycharm": {
     "is_executing": true
    }
   }
  },
  {
   "cell_type": "code",
   "execution_count": 26,
   "outputs": [],
   "source": [
    "# Save model_results to disk\n",
    "df_model_results = pd.DataFrame(model_results, columns=[\"Index\", \"Question\"])\n",
    "df_model_results.to_csv(\"./model_results/master/prompt5.csv\", index=False)\n",
    "\n",
    "# # restore model_results\n",
    "# df_model_results = pd.read_csv(\"./model_results/prompt5.csv\")\n",
    "# model_results = [(row[\"Index\"], [row[\"Question\"]]) for _, row in df_model_results.iterrows()]"
   ],
   "metadata": {
    "collapsed": false
   }
  },
  {
   "cell_type": "code",
   "execution_count": 27,
   "outputs": [
    {
     "name": "stdout",
     "output_type": "stream",
     "text": [
      "huggingface/tokenizers: The current process just got forked, after parallelism has already been used. Disabling parallelism to avoid deadlocks...\n",
      "To disable this warning, you can either:\n",
      "\t- Avoid using `tokenizers` before the fork if possible\n",
      "\t- Explicitly set the environment variable TOKENIZERS_PARALLELISM=(true | false)\n",
      "huggingface/tokenizers: The current process just got forked, after parallelism has already been used. Disabling parallelism to avoid deadlocks...\n",
      "To disable this warning, you can either:\n",
      "\t- Avoid using `tokenizers` before the fork if possible\n",
      "\t- Explicitly set the environment variable TOKENIZERS_PARALLELISM=(true | false)\n"
     ]
    },
    {
     "name": "stderr",
     "output_type": "stream",
     "text": [
      "[nltk_data] Downloading package stopwords to\n",
      "[nltk_data]     /Users/I516258/nltk_data...\n",
      "[nltk_data]   Package stopwords is already up-to-date!\n"
     ]
    },
    {
     "name": "stdout",
     "output_type": "stream",
     "text": [
      "                 PUNCTUATION  REDUNDANCY  rouge1_fmeasure  rouge1_precision  \\\n",
      "ChatGPT-Prompt5            7           1         0.428891          0.399623   \n",
      "\n",
      "                 rouge1_recall  rouge2_fmeasure  rouge2_precision  \\\n",
      "ChatGPT-Prompt5       0.513966         0.255978          0.240079   \n",
      "\n",
      "                 rouge2_recall  rougeL_fmeasure  rougeL_precision  ...  min_r  \\\n",
      "ChatGPT-Prompt5       0.310835         0.410254          0.381506  ...    0.0   \n",
      "\n",
      "                  avg_f1  max_f1  min_f1  avg_cos_sim  max_cos_sim  \\\n",
      "ChatGPT-Prompt5  0.43746     1.0     0.0      0.64535          1.0   \n",
      "\n",
      "                 min_cos_sim  avg_sem_meteor  max_sem_meteor  min_sem_meteor  \n",
      "ChatGPT-Prompt5     0.025038        0.451646        0.999898             0.0  \n",
      "\n",
      "[1 rows x 29 columns]\n"
     ]
    }
   ],
   "source": [
    "# Performance is evaluated\n",
    "metrics = Metrics(save_to_file=True)\n",
    "result = pd.DataFrame(\n",
    "    metrics.evaluate(model_output=model_results, references=refs),\n",
    "    index=[\"ChatGPT-Prompt5\"]\n",
    ")\n",
    "print(result)"
   ],
   "metadata": {
    "collapsed": false
   }
  },
  {
   "cell_type": "markdown",
   "source": [
    "## Few-Shot"
   ],
   "metadata": {
    "collapsed": false
   }
  },
  {
   "cell_type": "markdown",
   "source": [
    "Prompt 6"
   ],
   "metadata": {
    "collapsed": false
   }
  },
  {
   "cell_type": "code",
   "execution_count": null,
   "outputs": [],
   "source": [
    "#model_results = []\n",
    "# the chatGPT API is called and results are stored\n",
    "for index, row in content.iterrows():\n",
    "    if index >=348:\n",
    "        prompt = f\"\"\"\n",
    "        Generate a question in a flashcard style for the content delimited by triple backticks.\n",
    "        Follow a similar style for generating the question as in this three examples:\n",
    "        Example 1) Input: {master_train_val.loc[0, 'Page-Text']}, question: {master_train_val.loc[0, 'Question 1']}\n",
    "        Example 2) Input: {master_train_val.loc[1, 'Page-Text']}, question: {master_train_val.loc[1, 'Question 1']}\n",
    "        Example 3) Input: {master_train_val.loc[2, 'Page-Text']}, question: {master_train_val.loc[2, 'Question 1']}\n",
    "\n",
    "        ```{row['Page-Text']}```\n",
    "        \"\"\"\n",
    "        question = chat_gpt(prompt)\n",
    "        model_results.append((index, [question]))\n",
    "        print(\"Generated question for index \", index, \": \", question)\n",
    "        time.sleep(1)\n",
    "\n",
    "print(model_results)"
   ],
   "metadata": {
    "collapsed": false,
    "pycharm": {
     "is_executing": true
    }
   }
  },
  {
   "cell_type": "code",
   "execution_count": 17,
   "outputs": [],
   "source": [
    "# Save model_results to disk\n",
    "df_model_results = pd.DataFrame(model_results, columns=[\"Index\", \"Question\"])\n",
    "df_model_results.to_csv(\"./model_results/master/prompt6.csv\", index=False)\n",
    "\n",
    "# # restore model_results\n",
    "# df_model_results = pd.read_csv(\"./model_results/prompt6.csv\")\n",
    "# model_results = [(row[\"Index\"], [row[\"Question\"]]) for _, row in df_model_results.iterrows()]"
   ],
   "metadata": {
    "collapsed": false
   }
  },
  {
   "cell_type": "code",
   "execution_count": 20,
   "outputs": [
    {
     "name": "stderr",
     "output_type": "stream",
     "text": [
      "[nltk_data] Downloading package stopwords to\n",
      "[nltk_data]     /Users/I516258/nltk_data...\n",
      "[nltk_data]   Package stopwords is already up-to-date!\n"
     ]
    },
    {
     "name": "stdout",
     "output_type": "stream",
     "text": [
      "                 PUNCTUATION  REDUNDANCY  GRAMMAR  MISC  rouge1_fmeasure  \\\n",
      "ChatGPT-Prompt6          154           2        2     2         0.357437   \n",
      "\n",
      "                 rouge1_precision  rouge1_recall  rouge2_fmeasure  \\\n",
      "ChatGPT-Prompt6          0.274812        0.58597         0.198176   \n",
      "\n",
      "                 rouge2_precision  rouge2_recall  ...  min_r    avg_f1  \\\n",
      "ChatGPT-Prompt6          0.149621       0.350631  ...    0.0  0.412628   \n",
      "\n",
      "                   max_f1  min_f1  avg_cos_sim  max_cos_sim  min_cos_sim  \\\n",
      "ChatGPT-Prompt6  0.941176     0.0      0.68714     0.970361     0.019658   \n",
      "\n",
      "                 avg_sem_meteor  max_sem_meteor  min_sem_meteor  \n",
      "ChatGPT-Prompt6        0.451798        0.983584             0.0  \n",
      "\n",
      "[1 rows x 31 columns]\n"
     ]
    }
   ],
   "source": [
    "# Performance is evaluated\n",
    "metrics = Metrics(save_to_file=True)\n",
    "result = pd.DataFrame(\n",
    "    metrics.evaluate(model_output=model_results, references=refs),\n",
    "    index=[\"ChatGPT-Prompt6\"]\n",
    ")\n",
    "print(result)"
   ],
   "metadata": {
    "collapsed": false
   }
  },
  {
   "cell_type": "markdown",
   "source": [
    "Prompt 7"
   ],
   "metadata": {
    "collapsed": false
   }
  },
  {
   "cell_type": "code",
   "execution_count": null,
   "outputs": [],
   "source": [
    "#model_results = []\n",
    "# the chatGPT API is called and results are stored\n",
    "for index, row in content.iterrows():\n",
    "    if index >=115:\n",
    "        prompt = f\"\"\"\n",
    "        Generate a question in a flashcard style for the content delimited by triple backticks.\n",
    "        Take into account how exam questions are normally formulated and formulate the question accordingly.\n",
    "        Only output the question.\n",
    "        Follow a similar style for generating the question as in this two examples:\n",
    "        Example 1) Input: {master_train_val.loc[0, 'Page-Text']}, question: {master_train_val.loc[0, 'Question 1']}\n",
    "        Example 2) Input: {master_train_val.loc[1, 'Page-Text']}, question: {master_train_val.loc[1, 'Question 1']}\n",
    "        Example 3) Input: {master_train_val.loc[2, 'Page-Text']}, question: {master_train_val.loc[2, 'Question 1']}\n",
    "        ```{row['Page-Text']}```\n",
    "        \"\"\"\n",
    "        question = chat_gpt(prompt)\n",
    "        model_results.append((index, [question]))\n",
    "        print(\"Generated question for index \", index, \": \", question)\n",
    "        #time.sleep(1)\n",
    "\n",
    "print(model_results)"
   ],
   "metadata": {
    "collapsed": false,
    "pycharm": {
     "is_executing": true
    }
   }
  },
  {
   "cell_type": "code",
   "execution_count": 41,
   "outputs": [],
   "source": [
    "# Save model_results to disk\n",
    "#df_model_results = pd.DataFrame(model_results, columns=[\"Index\", \"Question\"])\n",
    "#df_model_results.to_csv(\"./model_results/master/prompt7.csv\", index=False)\n",
    "\n",
    "# # restore model_results\n",
    "df_model_results = pd.read_csv(\"./model_results/master/prompt7.csv\")\n",
    "model_results = [(row[\"Index\"], [row[\"Question\"]]) for _, row in df_model_results.iterrows()]"
   ],
   "metadata": {
    "collapsed": false
   }
  },
  {
   "cell_type": "code",
   "execution_count": 42,
   "outputs": [
    {
     "name": "stdout",
     "output_type": "stream",
     "text": [
      "huggingface/tokenizers: The current process just got forked, after parallelism has already been used. Disabling parallelism to avoid deadlocks...\n",
      "To disable this warning, you can either:\n",
      "\t- Avoid using `tokenizers` before the fork if possible\n",
      "\t- Explicitly set the environment variable TOKENIZERS_PARALLELISM=(true | false)\n",
      "huggingface/tokenizers: The current process just got forked, after parallelism has already been used. Disabling parallelism to avoid deadlocks...\n",
      "To disable this warning, you can either:\n",
      "\t- Avoid using `tokenizers` before the fork if possible\n",
      "\t- Explicitly set the environment variable TOKENIZERS_PARALLELISM=(true | false)\n",
      "huggingface/tokenizers: The current process just got forked, after parallelism has already been used. Disabling parallelism to avoid deadlocks...\n",
      "To disable this warning, you can either:\n",
      "\t- Avoid using `tokenizers` before the fork if possible\n",
      "\t- Explicitly set the environment variable TOKENIZERS_PARALLELISM=(true | false)\n",
      "huggingface/tokenizers: The current process just got forked, after parallelism has already been used. Disabling parallelism to avoid deadlocks...\n",
      "To disable this warning, you can either:\n",
      "\t- Avoid using `tokenizers` before the fork if possible\n",
      "\t- Explicitly set the environment variable TOKENIZERS_PARALLELISM=(true | false)\n"
     ]
    },
    {
     "name": "stderr",
     "output_type": "stream",
     "text": [
      "[nltk_data] Downloading package stopwords to\n",
      "[nltk_data]     /Users/I516258/nltk_data...\n",
      "[nltk_data]   Package stopwords is already up-to-date!\n"
     ]
    },
    {
     "name": "stdout",
     "output_type": "stream",
     "text": [
      "                 PUNCTUATION  REDUNDANCY  GRAMMAR  TYPOS  MISC  COLLOCATIONS  \\\n",
      "ChatGPT-Prompt7          432           1        4      1     1             1   \n",
      "\n",
      "                 rouge1_fmeasure  rouge1_precision  rouge1_recall  \\\n",
      "ChatGPT-Prompt7          0.36601          0.288644       0.577414   \n",
      "\n",
      "                 rouge2_fmeasure  ...  min_r    avg_f1  max_f1  min_f1  \\\n",
      "ChatGPT-Prompt7         0.201854  ...    0.0  0.366995   0.875     0.0   \n",
      "\n",
      "                 avg_cos_sim  max_cos_sim  min_cos_sim  avg_sem_meteor  \\\n",
      "ChatGPT-Prompt7     0.619565     0.947759      0.02409         0.41395   \n",
      "\n",
      "                 max_sem_meteor  min_sem_meteor  \n",
      "ChatGPT-Prompt7        0.972045             0.0  \n",
      "\n",
      "[1 rows x 33 columns]\n"
     ]
    }
   ],
   "source": [
    "# Performance is evaluated\n",
    "metrics = Metrics(save_to_file=True)\n",
    "result = pd.DataFrame(\n",
    "    metrics.evaluate(model_output=model_results, references=refs),\n",
    "    index=[\"ChatGPT-Prompt7\"]\n",
    ")\n",
    "print(result)"
   ],
   "metadata": {
    "collapsed": false
   }
  },
  {
   "cell_type": "markdown",
   "source": [
    "Prompt 8"
   ],
   "metadata": {
    "collapsed": false
   }
  },
  {
   "cell_type": "code",
   "execution_count": null,
   "outputs": [],
   "source": [
    "model_results = []\n",
    "# the chatGPT API is called and results are stored\n",
    "for index, row in content.iterrows():\n",
    "    if index >=0:\n",
    "        prompt = f\"\"\"\n",
    "        Generate a question in a flashcard style for the content delimited by triple backticks.\n",
    "        The content is from the lecture {row['Topic']}.\n",
    "        Follow a similar style for generating the question as in this two examples:\n",
    "        Example 1) Input: {master_train_val.loc[0, 'Page-Text']}, question: {master_train_val.loc[0, 'Question 1']}\n",
    "        Example 2) Input: {master_train_val.loc[1, 'Page-Text']}, question: {master_train_val.loc[1, 'Question 1']}\n",
    "        Example 3) Input: {master_train_val.loc[2, 'Page-Text']}, question: {master_train_val.loc[2, 'Question 1']}\n",
    "        Only output the plain question.\n",
    "        ```{row['Page-Text']}```\n",
    "        \"\"\"\n",
    "        question = chat_gpt(prompt)\n",
    "        model_results.append((index, [question]))\n",
    "        print(\"Generated question for index \", index, \": \", question)\n",
    "        #time.sleep(1)\n",
    "\n",
    "print(model_results)"
   ],
   "metadata": {
    "collapsed": false,
    "pycharm": {
     "is_executing": true
    }
   }
  },
  {
   "cell_type": "code",
   "execution_count": 38,
   "outputs": [],
   "source": [
    "# Save model_results to disk\n",
    "df_model_results = pd.DataFrame(model_results, columns=[\"Index\", \"Question\"])\n",
    "df_model_results.to_csv(\"./model_results/master/prompt8.csv\", index=False)\n",
    "\n",
    "# # restore model_results\n",
    "# df_model_results = pd.read_csv(\"./model_results/prompt8.csv\")\n",
    "# model_results = [(row[\"Index\"], [row[\"Question\"]]) for _, row in df_model_results.iterrows()]"
   ],
   "metadata": {
    "collapsed": false
   }
  },
  {
   "cell_type": "code",
   "execution_count": 39,
   "outputs": [
    {
     "name": "stdout",
     "output_type": "stream",
     "text": [
      "huggingface/tokenizers: The current process just got forked, after parallelism has already been used. Disabling parallelism to avoid deadlocks...\n",
      "To disable this warning, you can either:\n",
      "\t- Avoid using `tokenizers` before the fork if possible\n",
      "\t- Explicitly set the environment variable TOKENIZERS_PARALLELISM=(true | false)\n",
      "huggingface/tokenizers: The current process just got forked, after parallelism has already been used. Disabling parallelism to avoid deadlocks...\n",
      "To disable this warning, you can either:\n",
      "\t- Avoid using `tokenizers` before the fork if possible\n",
      "\t- Explicitly set the environment variable TOKENIZERS_PARALLELISM=(true | false)\n"
     ]
    },
    {
     "name": "stderr",
     "output_type": "stream",
     "text": [
      "[nltk_data] Downloading package stopwords to\n",
      "[nltk_data]     /Users/I516258/nltk_data...\n",
      "[nltk_data]   Package stopwords is already up-to-date!\n"
     ]
    },
    {
     "name": "stdout",
     "output_type": "stream",
     "text": [
      "                 PUNCTUATION  TYPOS  GRAMMAR  MISC  CASING  COLLOCATIONS  \\\n",
      "ChatGPT-Prompt8          106      1        1     2       1             1   \n",
      "\n",
      "                 rouge1_fmeasure  rouge1_precision  rouge1_recall  \\\n",
      "ChatGPT-Prompt8         0.386787          0.320903       0.565459   \n",
      "\n",
      "                 rouge2_fmeasure  ...  min_r    avg_f1  max_f1  min_f1  \\\n",
      "ChatGPT-Prompt8         0.217809  ...    0.0  0.426167     1.0     0.0   \n",
      "\n",
      "                 avg_cos_sim  max_cos_sim  min_cos_sim  avg_sem_meteor  \\\n",
      "ChatGPT-Prompt8     0.672402          1.0     -0.04231        0.458501   \n",
      "\n",
      "                 max_sem_meteor  min_sem_meteor  \n",
      "ChatGPT-Prompt8        0.999898             0.0  \n",
      "\n",
      "[1 rows x 33 columns]\n"
     ]
    }
   ],
   "source": [
    "# Performance is evaluated\n",
    "metrics = Metrics(save_to_file=True)\n",
    "result = pd.DataFrame(\n",
    "    metrics.evaluate(model_output=model_results, references=refs),\n",
    "    index=[\"ChatGPT-Prompt8\"]\n",
    ")\n",
    "print(result)"
   ],
   "metadata": {
    "collapsed": false
   }
  }
 ],
 "metadata": {
  "kernelspec": {
   "display_name": "Python 3",
   "language": "python",
   "name": "python3"
  },
  "language_info": {
   "codemirror_mode": {
    "name": "ipython",
    "version": 2
   },
   "file_extension": ".py",
   "mimetype": "text/x-python",
   "name": "python",
   "nbconvert_exporter": "python",
   "pygments_lexer": "ipython2",
   "version": "2.7.6"
  }
 },
 "nbformat": 4,
 "nbformat_minor": 0
}
