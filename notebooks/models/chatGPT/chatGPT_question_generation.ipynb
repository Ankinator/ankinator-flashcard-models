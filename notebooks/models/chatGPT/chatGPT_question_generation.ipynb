{
 "cells": [
  {
   "cell_type": "markdown",
   "source": [
    "# Introduction\n",
    "This notebook is used to experiment with different prompts for the question generation model that uses the chatGPT API from open.ai.\n",
    "First a helper function is created to call the API with the provided prompt. For this prompt different techniques are tried out and evaluated to find the best performing prompt template."
   ],
   "metadata": {
    "collapsed": false
   }
  },
  {
   "cell_type": "code",
   "execution_count": 1,
   "metadata": {
    "collapsed": true,
    "ExecuteTime": {
     "end_time": "2023-07-15T20:57:23.643929Z",
     "start_time": "2023-07-15T20:57:10.353492Z"
    }
   },
   "outputs": [
    {
     "name": "stderr",
     "output_type": "stream",
     "text": [
      "[nltk_data] Downloading package wordnet to /Users/I516258/nltk_data...\n",
      "[nltk_data]   Package wordnet is already up-to-date!\n"
     ]
    }
   ],
   "source": [
    "import os\n",
    "from dotenv import load_dotenv\n",
    "import openai\n",
    "from src.datageneration.extractor import extract_text_without_image\n",
    "from pypdfium2 import PdfDocument\n",
    "import pandas as pd\n",
    "from sklearn.model_selection import train_test_split\n",
    "from src.evaluation.eval_main import Metrics\n",
    "import nltk\n",
    "import time\n",
    "\n",
    "nltk.download('wordnet')\n",
    "\n",
    "load_dotenv()\n",
    "openai.api_key = os.getenv(\"OPENAI-API-KEY\")\n",
    "\n",
    "def chat_gpt(prompt, temperature=0):\n",
    "    completion = openai.ChatCompletion.create(\n",
    "        model=\"gpt-3.5-turbo\",\n",
    "        messages=[\n",
    "            {\"role\": \"user\", \"content\": prompt}\n",
    "        ],\n",
    "        temperature=temperature\n",
    "    )\n",
    "    return completion.choices[0].message.content"
   ]
  },
  {
   "cell_type": "markdown",
   "source": [
    "First we prepare the data for the evaluation."
   ],
   "metadata": {
    "collapsed": false
   }
  },
  {
   "cell_type": "code",
   "execution_count": null,
   "outputs": [],
   "source": [
    "# # initially retrieve extracted text for each slide - only execute once\n",
    "slide_path = \"../../../datasets/IT-Security_all_slides_no_duplicates.pdf\"\n",
    "pdf = PdfDocument(slide_path)\n",
    "text = extract_text_without_image(pdf.raw)\n",
    "extracted_content = pd.DataFrame(columns=['Pagenumber', 'Page-Text', 'OCR-text'])\n",
    "for i in text:\n",
    "    extracted_content = extracted_content.append({'Pagenumber': i[0], 'Page-Text': i[1], 'OCR-text': i[2]}, ignore_index=True)\n",
    "\n",
    "# Define the file path and name\n",
    "file_path = \"../../../datasets/extracted_text_content.csv\"\n",
    "\n",
    "# Save the DataFrame to the specified folder\n",
    "extracted_content.to_csv(file_path, index=False)"
   ],
   "metadata": {
    "collapsed": false,
    "ExecuteTime": {
     "end_time": "2023-07-15T20:47:53.507464Z",
     "start_time": "2023-07-15T20:42:09.018872Z"
    }
   }
  },
  {
   "cell_type": "code",
   "execution_count": 2,
   "outputs": [
    {
     "name": "stdout",
     "output_type": "stream",
     "text": [
      "     Pagenumber                                          Page-Text  \\\n",
      "0             0  Selected Topics in IT-Security\\r\\nProf. Dr. Fr...   \n",
      "1             1  Simple Model\\r\\n1. User(s)\\r\\n• Access the sys...   \n",
      "2             2  IT-Security\\r\\n• Security (german: Sicherheit)...   \n",
      "3             3  Attacker - Examples\\r\\n• National agency\\r\\n• ...   \n",
      "4             4  Attacker Model\\r\\n• Usually specifies what the...   \n",
      "..          ...                                                ...   \n",
      "591         591  Differential Privacy\\r\\nIntuition\\r\\n• Assume ...   \n",
      "592         592  Differential Privacy\\r\\nDefinition (Simplified...   \n",
      "593         593  On the Parameter \\r\\nPr  ଵ =  ≤ ఢ ⋅ Pr  ଶ = \\r...   \n",
      "594         594  Privacy Budget\\r\\n• Defines an upper bound on ...   \n",
      "595         595  Making Algorithms Differentially Private\\r\\n• ...   \n",
      "\n",
      "                                              OCR-text  \n",
      "0    Fealitet\\nSelected Topics in IT-Security BB OF...  \n",
      "1    Simple Model\\n\\n1. User(s)\\n\\n* Access the sys...  \n",
      "2    rs\\nF UNIVERSITY\\nIT-Security BOR MANNHEIM\\n——...  \n",
      "3    ol\\nAttacker - Examples SB OF MANNHEIM\\n——— Sc...  \n",
      "4    te\\nAttacker Model Be OP MANNHEIM\\n\\n—— School...  \n",
      "..                                                 ...  \n",
      "591  te\\nGee 5 UNIVERSITY\\n\\nDifferential Privacy 8...  \n",
      "592  ol\\nDifferential Privacy Be) OF MANNHEIM\\n\\n— ...  \n",
      "593  te\\n\\nSeta UNIVERSITY\\nOn the Parameter €-2o B...  \n",
      "594  Privacy Budget\\n\\n* Defines an upper bound on ...  \n",
      "595  ot\\nMaking Algorithms Differentially Private S...  \n",
      "\n",
      "[596 rows x 3 columns]\n"
     ]
    }
   ],
   "source": [
    "# reload extracted content from file\n",
    "file_path = \"../../../datasets/extracted_text_content.csv\"\n",
    "extracted_content = pd.read_csv(file_path)\n",
    "\n",
    "print(extracted_content)"
   ],
   "metadata": {
    "collapsed": false,
    "ExecuteTime": {
     "end_time": "2023-07-15T20:57:23.682075Z",
     "start_time": "2023-07-15T20:57:23.645874Z"
    }
   }
  },
  {
   "cell_type": "code",
   "execution_count": 3,
   "outputs": [
    {
     "name": "stdout",
     "output_type": "stream",
     "text": [
      "Lenght of test set:  91\n",
      "     Pagenumber                                          Page-Text  \\\n",
      "452         452  Cookies\\r\\nAdvantages and Disadvantages\\r\\nAdv...   \n",
      "46           46  Access Control\\r\\n• Controls which authenticat...   \n",
      "475         475  XSS\\r\\n• XSS = Cross Site Scripting\\r\\n• One o...   \n",
      "471         471  Javascript\\r\\nAbilities\\r\\n• Runs on the clien...   \n",
      "200         200  Technique\\r\\n• Recall that e-mail communicatio...   \n",
      "..          ...                                                ...   \n",
      "591         591  Differential Privacy\\r\\nIntuition\\r\\n• Assume ...   \n",
      "177         177  Reference Models for Computer \\r\\nNetworks\\r\\n...   \n",
      "108         108  Passphrases\\r\\n• Good method: choose a (silly)...   \n",
      "66           66  Some Comments\\r\\n• RBAC can be based on access...   \n",
      "199         199  E-Mail Spoofing\\r\\n• Creation of email message...   \n",
      "\n",
      "                                              OCR-text  \\\n",
      "452  Cookies\\nAdvantages and Disadvantages\\n\\nAdvan...   \n",
      "46   te\\nAccess Control Be OP MANNHEIM\\n\\n—— School...   \n",
      "475  XSS\\n\\n¢ XSS = Cross Site Scripting\\n* One of ...   \n",
      "471  ol\\nH UNIVERSITY\\nJavascript BOR MANNHEIM\\n———...   \n",
      "200  te\\nae UNIVERSITY\\n2) OF MANNHEIM\\n\\n— School ...   \n",
      "..                                                 ...   \n",
      "591  te\\nGee 5 UNIVERSITY\\n\\nDifferential Privacy 8...   \n",
      "177  alt\\nReference Models for Computer BB Oh MANNG...   \n",
      "108  ol\\nPassphrases Be) OF MANNHEIM\\n\\n—— School o...   \n",
      "66   te\\nSome Comments Be OP MANNHEIM\\n\\n—— School ...   \n",
      "199  ol\\nE-Mail Spoofing Be) OF MANNHEIM\\n——— Schoo...   \n",
      "\n",
      "                                              Question  \n",
      "452  What are Advantages and Disadvantages of Cookies?  \n",
      "46                      How is Access Control defined?  \n",
      "475                                       What is XSS?  \n",
      "471              What are the Abilities of JavaScript?  \n",
      "200                  What Spoofing Technique do exist?  \n",
      "..                                                 ...  \n",
      "591     What is the intuition of Differential Privacy?  \n",
      "177  What are the two most relevant reference model...  \n",
      "108  How do Passphrases work and what is the advant...  \n",
      "66   What advantages does RBAC have (in contrast to...  \n",
      "199                           What is E-Mail Spoofing?  \n",
      "\n",
      "[91 rows x 4 columns]\n"
     ]
    }
   ],
   "source": [
    "file_path = '../../../datasets/Goldstandard.csv'\n",
    "\n",
    "goldstandard = pd.read_csv(file_path, delimiter=\";\")\n",
    "\n",
    "# Remove unnecessary columns\n",
    "goldstandard.drop(['PDF-Name', 'Comment','Page Number'], axis=1, inplace=True)\n",
    "\n",
    "# Join two DataFrames based on index\n",
    "goldstandard = extracted_content.join(goldstandard, lsuffix='_left', rsuffix='_right')\n",
    "\n",
    "# Delete records with value \"No\" and \"no\" in the \"Marked for processing\" column\n",
    "goldstandard = goldstandard[(goldstandard['Marked for processing'] != 'No')]\n",
    "\n",
    "# Remove unnecessary columns\n",
    "goldstandard.drop(['Marked for processing', 'Includes Image Data'], axis=1, inplace=True)\n",
    "\n",
    "# Split the DataFrame into train, validation, and test sets\n",
    "goldstandard_train_val, goldstandard_test = train_test_split(goldstandard, test_size=0.2, random_state=42)\n",
    "\n",
    "print(\"Lenght of test set: \", len(goldstandard_test))\n",
    "print(goldstandard_test)"
   ],
   "metadata": {
    "collapsed": false,
    "ExecuteTime": {
     "end_time": "2023-07-15T20:57:23.705275Z",
     "start_time": "2023-07-15T20:57:23.668105Z"
    }
   }
  },
  {
   "cell_type": "code",
   "execution_count": 4,
   "outputs": [],
   "source": [
    "# Reset the index of the DataFrame\n",
    "goldstandard_test = goldstandard_test.reset_index(drop=True)\n",
    "goldstandard_train_val = goldstandard_train_val.reset_index(drop=True)\n",
    "\n",
    "# this stores now the possible input for the chatGPT model\n",
    "content = goldstandard_test[[\"Page-Text\", \"OCR-text\"]]\n",
    "\n",
    "# this stores the reference\n",
    "references = goldstandard_test[[\"Question\"]]\n",
    "\n",
    "references.to_csv(\"./refs.csv\")"
   ],
   "metadata": {
    "collapsed": false,
    "ExecuteTime": {
     "end_time": "2023-07-15T20:57:23.705712Z",
     "start_time": "2023-07-15T20:57:23.692441Z"
    }
   }
  },
  {
   "cell_type": "code",
   "execution_count": 5,
   "outputs": [
    {
     "data": {
      "text/plain": "91"
     },
     "execution_count": 5,
     "metadata": {},
     "output_type": "execute_result"
    }
   ],
   "source": [
    "len(references)"
   ],
   "metadata": {
    "collapsed": false,
    "ExecuteTime": {
     "end_time": "2023-07-15T20:57:23.885998Z",
     "start_time": "2023-07-15T20:57:23.871354Z"
    }
   }
  },
  {
   "cell_type": "code",
   "execution_count": 6,
   "outputs": [
    {
     "data": {
      "text/plain": "                                            Page-Text  \\\n0   Cookies\\r\\nAdvantages and Disadvantages\\r\\nAdv...   \n1   Access Control\\r\\n• Controls which authenticat...   \n2   XSS\\r\\n• XSS = Cross Site Scripting\\r\\n• One o...   \n3   Javascript\\r\\nAbilities\\r\\n• Runs on the clien...   \n4   Technique\\r\\n• Recall that e-mail communicatio...   \n..                                                ...   \n86  Differential Privacy\\r\\nIntuition\\r\\n• Assume ...   \n87  Reference Models for Computer \\r\\nNetworks\\r\\n...   \n88  Passphrases\\r\\n• Good method: choose a (silly)...   \n89  Some Comments\\r\\n• RBAC can be based on access...   \n90  E-Mail Spoofing\\r\\n• Creation of email message...   \n\n                                             OCR-text  \n0   Cookies\\nAdvantages and Disadvantages\\n\\nAdvan...  \n1   te\\nAccess Control Be OP MANNHEIM\\n\\n—— School...  \n2   XSS\\n\\n¢ XSS = Cross Site Scripting\\n* One of ...  \n3   ol\\nH UNIVERSITY\\nJavascript BOR MANNHEIM\\n———...  \n4   te\\nae UNIVERSITY\\n2) OF MANNHEIM\\n\\n— School ...  \n..                                                ...  \n86  te\\nGee 5 UNIVERSITY\\n\\nDifferential Privacy 8...  \n87  alt\\nReference Models for Computer BB Oh MANNG...  \n88  ol\\nPassphrases Be) OF MANNHEIM\\n\\n—— School o...  \n89  te\\nSome Comments Be OP MANNHEIM\\n\\n—— School ...  \n90  ol\\nE-Mail Spoofing Be) OF MANNHEIM\\n——— Schoo...  \n\n[91 rows x 2 columns]",
      "text/html": "<div>\n<style scoped>\n    .dataframe tbody tr th:only-of-type {\n        vertical-align: middle;\n    }\n\n    .dataframe tbody tr th {\n        vertical-align: top;\n    }\n\n    .dataframe thead th {\n        text-align: right;\n    }\n</style>\n<table border=\"1\" class=\"dataframe\">\n  <thead>\n    <tr style=\"text-align: right;\">\n      <th></th>\n      <th>Page-Text</th>\n      <th>OCR-text</th>\n    </tr>\n  </thead>\n  <tbody>\n    <tr>\n      <th>0</th>\n      <td>Cookies\\r\\nAdvantages and Disadvantages\\r\\nAdv...</td>\n      <td>Cookies\\nAdvantages and Disadvantages\\n\\nAdvan...</td>\n    </tr>\n    <tr>\n      <th>1</th>\n      <td>Access Control\\r\\n• Controls which authenticat...</td>\n      <td>te\\nAccess Control Be OP MANNHEIM\\n\\n—— School...</td>\n    </tr>\n    <tr>\n      <th>2</th>\n      <td>XSS\\r\\n• XSS = Cross Site Scripting\\r\\n• One o...</td>\n      <td>XSS\\n\\n¢ XSS = Cross Site Scripting\\n* One of ...</td>\n    </tr>\n    <tr>\n      <th>3</th>\n      <td>Javascript\\r\\nAbilities\\r\\n• Runs on the clien...</td>\n      <td>ol\\nH UNIVERSITY\\nJavascript BOR MANNHEIM\\n———...</td>\n    </tr>\n    <tr>\n      <th>4</th>\n      <td>Technique\\r\\n• Recall that e-mail communicatio...</td>\n      <td>te\\nae UNIVERSITY\\n2) OF MANNHEIM\\n\\n— School ...</td>\n    </tr>\n    <tr>\n      <th>...</th>\n      <td>...</td>\n      <td>...</td>\n    </tr>\n    <tr>\n      <th>86</th>\n      <td>Differential Privacy\\r\\nIntuition\\r\\n• Assume ...</td>\n      <td>te\\nGee 5 UNIVERSITY\\n\\nDifferential Privacy 8...</td>\n    </tr>\n    <tr>\n      <th>87</th>\n      <td>Reference Models for Computer \\r\\nNetworks\\r\\n...</td>\n      <td>alt\\nReference Models for Computer BB Oh MANNG...</td>\n    </tr>\n    <tr>\n      <th>88</th>\n      <td>Passphrases\\r\\n• Good method: choose a (silly)...</td>\n      <td>ol\\nPassphrases Be) OF MANNHEIM\\n\\n—— School o...</td>\n    </tr>\n    <tr>\n      <th>89</th>\n      <td>Some Comments\\r\\n• RBAC can be based on access...</td>\n      <td>te\\nSome Comments Be OP MANNHEIM\\n\\n—— School ...</td>\n    </tr>\n    <tr>\n      <th>90</th>\n      <td>E-Mail Spoofing\\r\\n• Creation of email message...</td>\n      <td>ol\\nE-Mail Spoofing Be) OF MANNHEIM\\n——— Schoo...</td>\n    </tr>\n  </tbody>\n</table>\n<p>91 rows × 2 columns</p>\n</div>"
     },
     "execution_count": 6,
     "metadata": {},
     "output_type": "execute_result"
    }
   ],
   "source": [
    "content"
   ],
   "metadata": {
    "collapsed": false,
    "ExecuteTime": {
     "end_time": "2023-07-15T20:57:27.853867Z",
     "start_time": "2023-07-15T20:57:27.849595Z"
    }
   }
  },
  {
   "cell_type": "markdown",
   "source": [
    "# Prompt Engineering\n",
    "Having prepared everything it is possible to start with prompt engineering. It is started with simple prompts and continued with more complex prompts.\n",
    "\n",
    "| **#** | **Prompt**                                                                                                                                                                                                                                                                                                                                                                                                                                                                                                                                                                                                             | **Techniques** |\n",
    "|-------|------------------------------------------------------------------------------------------------------------------------------------------------------------------------------------------------------------------------------------------------------------------------------------------------------------------------------------------------------------------------------------------------------------------------------------------------------------------------------------------------------------------------------------------------------------------------------------------------------------------------|----------------|\n",
    "| 1     | Generate a question in a flashcard style for the content delimited by triple backticks. ```{row['Page-Text']}```                                                                                                                                                                                                                                                                                                                                                                                                                                                                                                       |                |\n",
    "| 2     | Generate a question in a flashcard style for the content delimited by triple backticks. Take into account how exam questions are normally formulated and formulate the question accordingly. ```{row['Page-Text']}```                                                                                                                                                                                                                                                                                                                                                                                                  |                |\n",
    "| 3     | Generate a question in a flashcard style for the content delimited by triple backticks. When there are examples do not focus on their specifics but try to cover the overarching concept or idea. ```{row['Page-Text']}```                                                                                                                                                                                                                                                                                                                                                                                             |                |\n",
    "| 4     | Generate a question in a flashcard style for the content delimited by triple backticks. Focus on concepts, definitions and key-words. Take into account how exam questions are normally formulated and formulate the question accordingly. When there are examples do not focus on their specifics but try to cover the overarching concept or idea. ```{row['Page-Text']}```                                                                                                                                                                                                                                          |                |\n",
    "| 5     | You are a bot to support in the generation of flashcards from lecture slides. You are provided with two inputs. The first input delimited by triple backticks is the text that is copied from the slides. The second input delimited by triple quotation marks is retrieved with an OCR tool to extract all text from a slide. Follow the below process: 1. Step: Compare the first input with the second input to retrieve the relevant information 2. Step: Generate a question for this information in a flashcard style Only return the generated question. ```{row['Page-Text']}``` \\\"\\\"\\\"{row['OCR-text']}\\\"\\\"\\\" |                |\n",
    "| 6     | Generate a question in a flashcard style for the content delimited by triple backticks. ```{row['Page-Text']}``` Follow a similar style for generating the question as in this two examples: 1) Input: {goldstandard_train_val.loc[0, 'Page-Text']}, question: {goldstandard_train_val.loc[0, 'Question']} 2) Input: {goldstandard_train_val.loc[1, 'Page-Text']}, question: {goldstandard_train_val.loc[1, 'Question']}                                                                                                                                                                                               |                |\n",
    "| 7     | Generate a question in a flashcard style for the content delimited by triple backticks. Take into account how exam questions are normally formulated and formulate the question accordingly. ```{row['Page-Text']}``` Follow a similar style for generating the question as in this two examples: 1) Input: {goldstandard_train_val.loc[0, 'Page-Text']}, question: {goldstandard_train_val.loc[0, 'Question']} 2) Input: {goldstandard_train_val.loc[1, 'Page-Text']}, question: {goldstandard_train_val.loc[1, 'Question']}                                                                                          |                |\n",
    "\n",
    "## Zero-Shot Prompting"
   ],
   "metadata": {
    "collapsed": false
   }
  },
  {
   "cell_type": "code",
   "execution_count": 7,
   "outputs": [
    {
     "data": {
      "text/plain": "[(0, ['What are Advantages and Disadvantages of Cookies?']),\n (1, ['How is Access Control defined?']),\n (2, ['What is XSS?']),\n (3, ['What are the Abilities of JavaScript?']),\n (4, ['What Spoofing Technique do exist?']),\n (5, ['How do attackers evade signature-based scanners?']),\n (6, ['What steps does the TLS protocol comprise?']),\n (7, ['How do rainbow tables work?']),\n (8, ['How is the Procedure of Proof of Work in Bitcoin?']),\n (9, ['How does the RSA Signature Scheme work?']),\n (10, ['How is the Write Rule formally defined (Chinese Wall Model)?']),\n (11, ['What is the block reward for successful mining?']),\n (12, ['How does the TCP/IP model look graphically?']),\n (13, ['What is the workflow of cookie creation/exchange?']),\n (14,\n  ['What is the shortcoming of k-anonymity and how does ℓ-Diversity and 𝒕-Closeness address it?']),\n (15, ['How can Role-Based-Access-Control be graphically represented?']),\n (16, ['What is the basic principle of Cache (storage)?']),\n (17, ['What are the relevant development languages for web applications?']),\n (18, ['What is EAP?']),\n (19, ['What enhances guessing attacks on passwords exist?']),\n (20, ['What is 2-Factor-Authentication?']),\n (21, ['What is the attack strategy of attackers?']),\n (22, ['How does Anti-Virus-Software work?']),\n (23, ['What goal has stage 1: preperation and what are possible tools?']),\n (24,\n  ['What is the solution for determining the authenticity of a Bitcoin address? What is the relationship between the Bitcoin address and the public key?']),\n (25, ['What are private networks (PN)?']),\n (26, ['What is the advantage/disadvantage of human generated passwords?']),\n (27,\n  ['What are the exemplary steps of Non-Perturbative Masking through generalization?']),\n (28,\n  ['What is the definition of Confidentiality and what is a example attack and security solution for it?']),\n (29, ['What is the block reward?']),\n (30, ['How is Bitcoin structured?']),\n (31, ['What is a click fraud attack?']),\n (32, ['What is the goal of targeted avdertisement?']),\n (33, ['What is Tailgaiting?']),\n (34, ['What is the Online Model?']),\n (35,\n  ['What are the three main methods used for Authentication and what are examples and problems of each method?']),\n (36, ['What are Transactions?']),\n (37, ['What critical functions must a VPN provide?']),\n (38, ['What is Phishing?']),\n (39, ['How do passwords work?']),\n (40, ['What is CRC?']),\n (41, ['What are common password guidelines?']),\n (42,\n  ['How can social engineering attacks happen when companies collect user data?']),\n (43, ['What does Identification mean?']),\n (44, ['What is Session Hijacking and what are countermeasures? ']),\n (45, ['What does Access Control/Authorization mean?']),\n (46, ['How is the formal definition of the Read Rule (Chines Wall Model)?']),\n (47, ['What is Multitasking and how does it work?']),\n (48, ['How can Bitcoin Addresses of Darknet Vendors be inferred?']),\n (49, ['What is Counter Mode?']),\n (50, ['What is Bitcoin and what is its goal and advantage?']),\n (51, ['What are the 3 security requirements for hash functions?']),\n (52, ['How do DDOS attacks work?']),\n (53, ['What is transperancy in relation to GDPR?']),\n (54, ['What is the Heartbleed Bug?']),\n (55, ['How does Shared Key Authentication work?']),\n (56,\n  ['What is the definition of Availability and what is a example attack and security solution for it?']),\n (57, ['What is Mining?']),\n (58, ['What is the common cryptographic Scenario?']),\n (59,\n  ['What are the exemplary steps of Perturbative Masking through adding noise?']),\n (60, ['What are Common Approaches/Protocols?']),\n (61, ['What does the Simple Model describe?']),\n (62,\n  ['What does AES stand for, what key sizes are available and where is it used for example?']),\n (63, ['What is TKIP?']),\n (64, ['What is TLS and how it the connection to http?']),\n (65, ['What is the formal definition of RBAC?']),\n (66,\n  ['What are examples for Physical Payment Systems? What are advantages and disadvantages?']),\n (67, ['What is Unauthorized Access?']),\n (68, ['What is HTTP?']),\n (69, ['How is a Virus defined?']),\n (70, ['What is an example for a Prime and Probe Attack?']),\n (71, ['How can bitcoin network check Authenticity of Transaction?']),\n (72, ['What is the worfklow of a public encryption scheme?']),\n (73, ['What is an example for a Heap Overflow Attack?']),\n (74, ['What is an examples of a CSRF Attack?']),\n (75,\n  ['How to protect against ransomware type 1 attack: encryption of data?']),\n (76,\n  ['What is a Mandatory Access Control (MAC) and what advantages/disadvantages does it have?']),\n (77, ['How are packets created in the AH Protocol in Transport Mode?']),\n (78, ['What are possible approaches to define Anonymity?']),\n (79, ['What are the stages of an Social Engineering Attack?']),\n (80, ['What is the concept of Critical Data?']),\n (81, ['What is the Heartbeat extension for TLS?']),\n (82, ['How to send messages in Tor?']),\n (83, ['What is the workflow for a key agreement protocol?']),\n (84, ['How is the formal definiton of an Access Matrix?']),\n (85,\n  ['What is the Synthetic Data approach? What are types of synthetic data?']),\n (86, ['What is the intuition of Differential Privacy?']),\n (87,\n  ['What are the two most relevant reference models and what concept do they use?']),\n (88, ['How do Passphrases work and what is the advantage?']),\n (89,\n  ['What advantages does RBAC have (in contrast to a tradition Access Matrix)?']),\n (90, ['What is E-Mail Spoofing?'])]"
     },
     "execution_count": 7,
     "metadata": {},
     "output_type": "execute_result"
    }
   ],
   "source": [
    "refs = []\n",
    "for i, q in references.iterrows():\n",
    "    refs.append((i, [q.item()]))\n",
    "refs"
   ],
   "metadata": {
    "collapsed": false,
    "ExecuteTime": {
     "end_time": "2023-07-15T21:05:38.655472Z",
     "start_time": "2023-07-15T21:05:38.649745Z"
    }
   }
  },
  {
   "cell_type": "code",
   "execution_count": 13,
   "outputs": [
    {
     "name": "stdout",
     "output_type": "stream",
     "text": [
      "Generated question for index  78 :  What are some possible approaches to achieving anonymity in IT-Security?\n",
      "Generated question for index  79 :  What are the stages of a social engineering attack?\n",
      "Generated question for index  80 :  What are examples of critical data that should be protected against attacks?\n",
      "Generated question for index  81 :  What is the basic principle of the Heartbleed Bug?\n",
      "Generated question for index  82 :  What is the encryption method used for sending messages in IT-Security?\n",
      "Generated question for index  83 :  What is the term for the process of converting a message into an unreadable form using a specific algorithm and a secret key?\n",
      "Generated question for index  84 :  What is the formal definition of an access matrix in IT-Security?\n",
      "Generated question for index  85 :  What are the three steps involved in generating synthetic data?\n",
      "Generated question for index  86 :  What is the intuition behind differential privacy and how does it prevent re-identification of records?\n",
      "Generated question for index  87 :  What are the two most relevant models for computer networks?\n",
      "Generated question for index  88 :  What is a good method for creating a passphrase?\n",
      "Generated question for index  89 :  What are some advantages of using Role-Based Access Control (RBAC)?\n",
      "Generated question for index  90 :  What is the motivation behind e-mail spoofing?\n",
      "[(0, ['What are the advantages and disadvantages of using cookies?']), (1, ['What is access control and on what levels can it exist?']), (2, ['What is XSS and how does it compromise the interaction between a user and a vulnerable web application?']), (3, ['What are some common programming features provided by client-side JavaScript?']), (4, ['What protocol is used for e-mail communication?']), (5, ['What are some techniques that viruses use to evade signature-based virus scanners?']), (6, ['What are the steps involved in the TLS protocol?']), (7, ['How can an attacker check if a given hash value is part of a chain in Rainbow Tables?']), (8, ['What is the purpose of the nonce in the Proof of Work procedure?']), (9, ['What is the purpose of the RSA Signature Scheme?']), (10, ['What are the conditions that must be met for a subject to write to an object in the given rule?']), (11, ['What is the initial block reward for successful mining in Bitcoin?']), (12, ['What are the layers of the TCP/IP model?']), (13, ['What is the purpose of a cookie in the client-server communication process?']), (14, ['What is the purpose of ℓ-diversity and -closeness in data anonymization?']), (15, ['What is the graphical representation of Role-based Access Control (RBAC)?']), (16, ['What is the purpose of a cache in a computer system?']), (17, ['What are the relevant languages for web applications and what are their respective purposes?']), (18, ['What is the purpose of Extensible Authentication Protocol (EAP)?']), (19, ['What are some approaches used in enhanced guessing attacks?']), (20, ['What is the purpose of 2-Factor Authentication and provide examples of how it is used in different scenarios?']), (21, ['What is the reasoning behind sending out millions of emails in an attack strategy?']), (22, ['What is the purpose of anti-virus software?']), (23, ['What are some possible tools that can be used during the preparation stage of gathering information about victims?']), (24, ['What is the authenticity of a Bitcoin address and how is it linked to a verification key?']), (25, ['What are some examples of private networks?']), (26, ['What are some of the most common passwords of 2021 and why are they considered weak?']), (27, ['What is the concept of non-perturbative masking and how can it be applied to generalize data?']), (28, ['What is the security solution to protect against the attack of eavesdropping?']), (29, ['What is the purpose of the coin base transaction in the mining process?']), (30, ['What is the structure of the Bitcoin network and what are its members called?']), (31, ['What is click fraud and who are the victims of this type of fraud?']), (32, ['What is the goal of targeted advertising on Facebook?']), (33, ['What is the term for when an attacker waits for someone with access to a restricted area and follows closely behind them?']), (34, ['What is the first step in the online model process?']), (35, ['What are some examples of authentication methods based on what I am?']), (36, ['What is a transaction in the context of Bitcoin?']), (37, ['What are the four critical functions that a VPN needs to provide?']), (38, ['What is the basic concept of phishing?']), (39, ['What is the purpose of using passwords for authentication?']), (40, ['What is the purpose of CRC (Cyclic Redundancy Check) in data transmission?']), (41, ['What are some common guidelines for creating strong passwords?']), (42, ['What is a social engineering attack and how does it rely on exploiting the human trust factor?']), (43, ['What is identification and how is it typically accompanied?']), (44, ['What are the countermeasures for session hijacking?']), (45, ['What is access control/authorization and how does it work in the context of an online mail service?']), (46, ['What are the conditions that must be met for a subject to read an object according to the formal definition?']), (47, ['What is multitasking and how does it work in an operating system?']), (48, ['How can Bitcoin addresses of darknet vendors be inferred using metadata leaked by reviews and structural information of the market?']), (49, ['What is the purpose of Counter Mode in encryption?']), (50, ['Who invented Bitcoin and what was their primary goal?']), (51, ['What is collision resistance in the context of security requirements?']), (52, ['What is the purpose of a Distributed Denial of Service (DDoS) attack?']), (53, ['What is the importance of transparency in data collection and processing?']), (54, ['What was the problem with the heartbeat extension that led to the Heartbleed bug?']), (55, ['What is the first step in the workflow of Shared Key Authentication?']), (56, ['What is the importance of availability in IT security and what is an example of an attack that can compromise availability?']), (57, ['What is the process of adding blocks to the blockchain and how do miners prove their investment of computational power?']), (58, ['What is the term for the act of listening in on an unprotected communication channel?']), (59, ['What is the purpose of perturbative masking in adding noise to data?']), (60, ['What are some common approaches/protocols used in IT-Security?']), (61, ['What are the components of the Simple Model in IT-Security?']), (62, ['What are the three different key sizes used in AES encryption?']), (63, ['What are the components of TKIP?']), (64, ['What protocol runs on top of HTTP to provide a secure Internet connection?']), (65, ['What is the formal definition of Role-based Access Control (RBAC)?']), (66, ['What are some examples of physical payment systems?']), (67, ['What are some examples of utilities that can be used to find the ID of a \"hidden\" network?']), (68, ['What are the characteristics of HTTP (Hypertext Transfer Protocol)?']), (69, ['What are the different classifications of viruses based on the objects they infect?']), (70, ['What is the purpose of the Meltdown Attack?']), (71, ['What is the standard cryptographic solution to ensure the authenticity of a transaction in the Bitcoin network?']), (72, ['What is the workflow of Public Key Encryption?']), (73, ['What is the purpose of the `malloc` function in the given code snippet?']), (74, ['What is the potential security vulnerability described in the given example?']), (75, ['What are some recommended measures for protecting data from malware and spam mails?']), (76, ['What is the main advantage of Mandatory Access Control (MAC) compared to Discretionary Access Control (DAC)?']), (77, ['What is the purpose of the Authentication Header (AH) protocol in transport mode?']), (78, ['What are some possible approaches to achieving anonymity in IT-Security?']), (79, ['What are the stages of a social engineering attack?']), (80, ['What are examples of critical data that should be protected against attacks?']), (81, ['What is the basic principle of the Heartbleed Bug?']), (82, ['What is the encryption method used for sending messages in IT-Security?']), (83, ['What is the term for the process of converting a message into an unreadable form using a specific algorithm and a secret key?']), (84, ['What is the formal definition of an access matrix in IT-Security?']), (85, ['What are the three steps involved in generating synthetic data?']), (86, ['What is the intuition behind differential privacy and how does it prevent re-identification of records?']), (87, ['What are the two most relevant models for computer networks?']), (88, ['What is a good method for creating a passphrase?']), (89, ['What are some advantages of using Role-Based Access Control (RBAC)?']), (90, ['What is the motivation behind e-mail spoofing?'])]\n"
     ]
    }
   ],
   "source": [
    "#model_results = []\n",
    "# the chatGPT API is called and results are stored\n",
    "for index, row in content.iterrows():\n",
    "    if index >=78:\n",
    "        prompt = f\"\"\"\n",
    "        Generate a question in a flashcard style for the content delimited by triple backticks.\n",
    "        ```{row['Page-Text']}```\n",
    "        \"\"\"\n",
    "        question = chat_gpt(prompt)\n",
    "        model_results.append((index, [question]))\n",
    "        print(\"Generated question for index \", index, \": \", question)\n",
    "        time.sleep(1)\n",
    "\n",
    "\n",
    "print(model_results)"
   ],
   "metadata": {
    "collapsed": false,
    "ExecuteTime": {
     "end_time": "2023-07-15T21:07:33.824595Z",
     "start_time": "2023-07-15T21:07:25.869519Z"
    }
   }
  },
  {
   "cell_type": "code",
   "execution_count": 16,
   "outputs": [],
   "source": [
    "# Save model_results to disk\n",
    "df_model_results = pd.DataFrame(model_results, columns=[\"Index\", \"Question\"])\n",
    "df_model_results.to_csv(\"./model_results/prompt1.csv\", index=False)\n",
    "\n",
    "# restore model_results\n",
    "df_model_results = pd.read_csv(\"./model_results/prompt1.csv\")\n",
    "model_results = [(row['Index'], [row['Question']]) for _, row in df_model_results.iterrows()]\n"
   ],
   "metadata": {
    "collapsed": false
   }
  },
  {
   "cell_type": "code",
   "execution_count": 18,
   "outputs": [
    {
     "name": "stderr",
     "output_type": "stream",
     "text": [
      "[nltk_data] Downloading package stopwords to\n",
      "[nltk_data]     /Users/I516258/nltk_data...\n",
      "[nltk_data]   Package stopwords is already up-to-date!\n"
     ]
    },
    {
     "name": "stdout",
     "output_type": "stream",
     "text": [
      "                 PUNCTUATION  MISC  GRAMMAR  rouge1_fmeasure  \\\n",
      "ChatGPT-Prompt1           15     1        1         0.445543   \n",
      "\n",
      "                 rouge1_precision  rouge1_recall  rouge2_fmeasure  \\\n",
      "ChatGPT-Prompt1           0.38389        0.60203         0.245597   \n",
      "\n",
      "                 rouge2_precision  rouge2_recall  rougeL_fmeasure  ...  min_r  \\\n",
      "ChatGPT-Prompt1          0.208953       0.348498         0.421388  ...    0.0   \n",
      "\n",
      "                  avg_f1  max_f1  min_f1  avg_cos_sim  max_cos_sim  \\\n",
      "ChatGPT-Prompt1  0.45029     1.0     0.0     0.681447     0.999843   \n",
      "\n",
      "                 min_cos_sim  avg_sem_meteor  max_sem_meteor  min_sem_meteor  \n",
      "ChatGPT-Prompt1     0.200163        0.501238        0.952193        0.073529  \n",
      "\n",
      "[1 rows x 30 columns]\n"
     ]
    }
   ],
   "source": [
    "# Performance is evaluated\n",
    "metrics = Metrics(save_to_file=True)\n",
    "result = pd.DataFrame(\n",
    "    metrics.evaluate(model_output=model_results, references=refs),\n",
    "    index=[\"ChatGPT-Prompt1\"]\n",
    ")\n",
    "print(result)"
   ],
   "metadata": {
    "collapsed": false
   }
  },
  {
   "cell_type": "code",
   "execution_count": 30,
   "outputs": [
    {
     "name": "stdout",
     "output_type": "stream",
     "text": [
      "Generated question for index  89 :  What are some advantages of using Role-Based Access Control (RBAC) based on an access matrix?\n",
      "Generated question for index  90 :  What is the motivation behind e-mail spoofing and what are some applications of this technique in IT security?\n",
      "[(0, ['What are the advantages and disadvantages of using cookies in web applications?']), (1, ['What is access control and on what levels can it exist?']), (2, ['What is XSS and how does it compromise the interaction between a user and a vulnerable web application?']), (3, ['What are some common programming features provided by client-side JavaScript?']), (4, ['What protocol is commonly used for e-mail communication?']), (5, ['What are some techniques that viruses use to evade signature-based virus scanners?']), (6, ['What is the purpose of the TLS protocol?']), (7, ['How can an attacker check if a given hash value is part of a chain in rainbow tables?']), (8, ['What is the procedure for Proof of Work in mining a block?']), (9, ['What are the steps involved in the RSA Signature Scheme?']), (10, ['What are the conditions that must be met for a subject to write to an object at a specific point in time?']), (11, ['What is the initial block reward for successful mining in Bitcoin and how often is it halved?']), (12, ['What are the layers of the TCP/IP model?']), (13, ['What is the purpose of a cookie in the client-server communication process?']), (14, ['What are the shortcomings of -anonymity and how does ℓ-diversity and -closeness address these shortcomings?']), (15, ['What is the graphical representation of Role-based Access Control (RBAC)?']), (16, ['What is the purpose of a cache in a computer system?']), (17, ['What are the relevant languages for web applications and what are their respective purposes?']), (18, ['What is the purpose of the Extensible Authentication Protocol (EAP) and how does it differ in the 2-Party-Case and the 3-Party-Case?']), (19, ['What are some approaches used in enhanced guessing attacks to decrease the number of candidates?']), (20, ['What is the purpose of using two-factor authentication?']), (21, ['What is the reasoning behind using stolen accounts, botnets, etc. to send out millions of emails in an attack strategy?']), (22, ['What is the purpose of anti-virus software and how does it detect viruses?']), (23, ['What are some possible tools that can be used during the preparation stage of gathering information about victims in IT security?']), (24, ['What is the solution to the problem of linking the verification key to a Bitcoin address?']), (25, ['What is the meaning of a private network (PN) and what are some examples of private networks?']), (26, ['What are some of the most common passwords of 2021 and why are they considered to be weak in terms of security?']), (27, ['What is the purpose of non-perturbative masking in the context of generalization?']), (28, ['What is the security solution to protect sensitive information from eavesdropping?']), (29, ['What is the purpose of the coin base transaction in the mining process?']), (30, ['What is the role of the set of nodes in the Bitcoin network?']), (31, ['What is click fraud and who are the victims of this type of attack?']), (32, ['What is the goal of targeted advertising on Facebook?']), (33, ['What is the term used to describe the act of an attacker gaining access to a restricted area by closely following behind someone who has authorized access?']), (34, ['What is the process described in the given content, where an analyst hands its algorithm to a data holder, the data holder modifies the algorithm, applies it to data, and hands the result back to the analyst?']), (35, ['What are the problems associated with authentication based on what I am?']), (36, ['What information is included in a transaction in the Bitcoin network?']), (37, ['What are the four critical functions that a VPN needs to provide?']), (38, ['What is the basic concept of phishing?']), (39, ['What is the purpose of using passwords for authentication in IT security?']), (40, ['What is the purpose of CRC (Cyclic Redundancy Check) in data communication?']), (41, ['What are some common guidelines for creating strong passwords?']), (42, ['What is a social engineering attack and how does it exploit the human trust factor?']), (43, ['What is the process of claiming an identity called and what is an example of it?']), (44, ['What are the countermeasures against session hijacking?']), (45, ['What is access control/authorization and how does it work in the context of an online mail service?']), (46, ['What are the conditions that must hold for a subject to be able to read an object at a certain point in time?']), (47, ['What is multitasking and how does it work in an operating system?']), (48, ['How can Bitcoin addresses of darknet vendors be inferred by exploiting metadata leaked by reviews and structural information of the market?']), (49, ['What is the purpose of Counter Mode in encryption?']), (50, ['What was the primary goal of inventing Bitcoin?']), (51, ['What are the three security requirements for hash functions?']), (52, ['What is the purpose of a Distributed Denial of Service (DDoS) attack?']), (53, ['What are the two key aspects that should be addressed in order to ensure transparency in data collection and processing?']), (54, ['What was the problem with the heartbeat extension that led to the Heartbleed bug?']), (55, ['What are the steps involved in the workflow of Shared Key Authentication?']), (56, ['What is the main objective of ensuring availability in IT security?']), (57, ['What is the process of adding blocks to the blockchain called, and what do miners have to provide in order to add a block?']), (58, ['What is the term for the act of listening in on an unprotected communication channel?']), (59, ['What is the purpose of perturbative masking in adding noise to data?']), (60, ['What are some common approaches or protocols used in IT-Security?']), (61, ['What are the four main components involved in a simple model of IT security?']), (62, ['What are the three different key sizes used in the Advanced Encryption Standard (AES)?']), (63, ['What are the components of TKIP (Temporal Key Integrity Protocol)?']), (64, ['What protocol runs on top of HTTP and provides a secure Internet connection?']), (65, ['What is the formal definition of Role-based Access Control (RBAC)?']), (66, ['What are the advantages and disadvantages of physical payment systems?']), (67, ['What is the potential threat associated with unauthorized access to a network, and does keeping the SSID secret provide any protection against this threat?']), (68, ['What are the characteristics of HTTP (Hypertext Transfer Protocol) in terms of data security?']), (69, ['What are some common classifications of viruses based on the objects they infect?']), (70, ['What is the purpose of the Meltdown attack and how does it exploit modern CPUs?']), (71, ['What is the standard cryptographic solution used to ensure the authenticity of a transaction in the Bitcoin network?']), (72, ['What is the workflow of public key encryption?']), (73, ['What is the purpose of the `malloc` function in the given code snippet?']), (74, ['What is the potential security vulnerability described in the given example, and how can it be exploited by an attacker?']), (75, ['What are some recommended measures for protecting against malware and spam mails?']), (76, ['What are the advantages and disadvantages of Mandatory Access Control (MAC) compared to Discretionary Access Control (DAC)?']), (77, ['What is the purpose of the Authentication Header (AH) protocol in transport mode?']), (78, ['What are some possible approaches to achieving anonymity in IT-Security?']), (79, ['What are the stages of a social engineering attack?']), (80, ['What is the definition of critical data in the context of IT security and provide examples of such data?']), (81, ['What is the purpose of the Heartbeat extension for TLS proposed in 2012?']), (82, ['What is the encryption method used for sending messages in the selected topics in IT-Security course?']), (83, ['What is the purpose of a Key Agreement Protocol?']), (84, ['What is the formal definition of an access matrix in IT-Security?']), (85, ['What are the three steps involved in generating synthetic data?']), (86, ['What is the consequence of the output of an algorithm being the same, regardless of whether a certain record is contained in the data or not, in terms of re-identification?']), (87, ['What are the two most relevant models for computer networks and which model is the focus of this lecture?']), (88, ['What is a good method for creating a passphrase with high entropy?']), (89, ['What are some advantages of using Role-Based Access Control (RBAC) based on an access matrix?']), (90, ['What is the motivation behind e-mail spoofing and what are some applications of this technique in IT security?'])]\n"
     ]
    }
   ],
   "source": [
    "#model_results = []\n",
    "# the chatGPT API is called and results are stored\n",
    "for index, row in content.iterrows():\n",
    "    if index >=89:\n",
    "        prompt = f\"\"\"\n",
    "        Generate a question in a flashcard style for the content delimited by triple backticks.\n",
    "        Take into account how exam questions are normally formulated and formulate the question accordingly.\n",
    "        ```{row['Page-Text']}```\n",
    "        \"\"\"\n",
    "        question = chat_gpt(prompt)\n",
    "        model_results.append((index, [question]))\n",
    "        print(\"Generated question for index \", index, \": \", question)\n",
    "        time.sleep(1)\n",
    "\n",
    "print(model_results)"
   ],
   "metadata": {
    "collapsed": false
   }
  },
  {
   "cell_type": "code",
   "execution_count": 31,
   "outputs": [],
   "source": [
    "# Save model_results to disk\n",
    "df_model_results = pd.DataFrame(model_results, columns=[\"Index\", \"Question\"])\n",
    "df_model_results.to_csv(\"./model_results/prompt2.csv\", index=False)\n",
    "\n",
    "# # restore model_results\n",
    "# df_model_results = pd.read_csv(\"./model_results/prompt2.csv\")\n",
    "# model_results = [(row[\"Index\"], [row[\"Question\"]]) for _, row in df_model_results.iterrows()]"
   ],
   "metadata": {
    "collapsed": false
   }
  },
  {
   "cell_type": "code",
   "execution_count": 32,
   "outputs": [
    {
     "data": {
      "text/plain": "[(0,\n  ['What are the advantages and disadvantages of using cookies in web applications?']),\n (1, ['What is access control and on what levels can it exist?']),\n (2,\n  ['What is XSS and how does it compromise the interaction between a user and a vulnerable web application?']),\n (3,\n  ['What are some common programming features provided by client-side JavaScript?']),\n (4, ['What protocol is commonly used for e-mail communication?']),\n (5,\n  ['What are some techniques that viruses use to evade signature-based virus scanners?']),\n (6, ['What is the purpose of the TLS protocol?']),\n (7,\n  ['How can an attacker check if a given hash value is part of a chain in rainbow tables?']),\n (8, ['What is the procedure for Proof of Work in mining a block?']),\n (9, ['What are the steps involved in the RSA Signature Scheme?']),\n (10,\n  ['What are the conditions that must be met for a subject to write to an object at a specific point in time?']),\n (11,\n  ['What is the initial block reward for successful mining in Bitcoin and how often is it halved?']),\n (12, ['What are the layers of the TCP/IP model?']),\n (13,\n  ['What is the purpose of a cookie in the client-server communication process?']),\n (14,\n  ['What are the shortcomings of -anonymity and how does ℓ-diversity and -closeness address these shortcomings?']),\n (15,\n  ['What is the graphical representation of Role-based Access Control (RBAC)?']),\n (16, ['What is the purpose of a cache in a computer system?']),\n (17,\n  ['What are the relevant languages for web applications and what are their respective purposes?']),\n (18,\n  ['What is the purpose of the Extensible Authentication Protocol (EAP) and how does it differ in the 2-Party-Case and the 3-Party-Case?']),\n (19,\n  ['What are some approaches used in enhanced guessing attacks to decrease the number of candidates?']),\n (20, ['What is the purpose of using two-factor authentication?']),\n (21,\n  ['What is the reasoning behind using stolen accounts, botnets, etc. to send out millions of emails in an attack strategy?']),\n (22,\n  ['What is the purpose of anti-virus software and how does it detect viruses?']),\n (23,\n  ['What are some possible tools that can be used during the preparation stage of gathering information about victims in IT security?']),\n (24,\n  ['What is the solution to the problem of linking the verification key to a Bitcoin address?']),\n (25,\n  ['What is the meaning of a private network (PN) and what are some examples of private networks?']),\n (26,\n  ['What are some of the most common passwords of 2021 and why are they considered to be weak in terms of security?']),\n (27,\n  ['What is the purpose of non-perturbative masking in the context of generalization?']),\n (28,\n  ['What is the security solution to protect sensitive information from eavesdropping?']),\n (29,\n  ['What is the purpose of the coin base transaction in the mining process?']),\n (30, ['What is the role of the set of nodes in the Bitcoin network?']),\n (31, ['What is click fraud and who are the victims of this type of attack?']),\n (32, ['What is the goal of targeted advertising on Facebook?']),\n (33,\n  ['What is the term used to describe the act of an attacker gaining access to a restricted area by closely following behind someone who has authorized access?']),\n (34,\n  ['What is the process described in the given content, where an analyst hands its algorithm to a data holder, the data holder modifies the algorithm, applies it to data, and hands the result back to the analyst?']),\n (35,\n  ['What are the problems associated with authentication based on what I am?']),\n (36,\n  ['What information is included in a transaction in the Bitcoin network?']),\n (37, ['What are the four critical functions that a VPN needs to provide?']),\n (38, ['What is the basic concept of phishing?']),\n (39,\n  ['What is the purpose of using passwords for authentication in IT security?']),\n (40,\n  ['What is the purpose of CRC (Cyclic Redundancy Check) in data communication?']),\n (41, ['What are some common guidelines for creating strong passwords?']),\n (42,\n  ['What is a social engineering attack and how does it exploit the human trust factor?']),\n (43,\n  ['What is the process of claiming an identity called and what is an example of it?']),\n (44, ['What are the countermeasures against session hijacking?']),\n (45,\n  ['What is access control/authorization and how does it work in the context of an online mail service?']),\n (46,\n  ['What are the conditions that must hold for a subject to be able to read an object at a certain point in time?']),\n (47, ['What is multitasking and how does it work in an operating system?']),\n (48,\n  ['How can Bitcoin addresses of darknet vendors be inferred by exploiting metadata leaked by reviews and structural information of the market?']),\n (49, ['What is the purpose of Counter Mode in encryption?']),\n (50, ['What was the primary goal of inventing Bitcoin?']),\n (51, ['What are the three security requirements for hash functions?']),\n (52,\n  ['What is the purpose of a Distributed Denial of Service (DDoS) attack?']),\n (53,\n  ['What are the two key aspects that should be addressed in order to ensure transparency in data collection and processing?']),\n (54,\n  ['What was the problem with the heartbeat extension that led to the Heartbleed bug?']),\n (55,\n  ['What are the steps involved in the workflow of Shared Key Authentication?']),\n (56, ['What is the main objective of ensuring availability in IT security?']),\n (57,\n  ['What is the process of adding blocks to the blockchain called, and what do miners have to provide in order to add a block?']),\n (58,\n  ['What is the term for the act of listening in on an unprotected communication channel?']),\n (59,\n  ['What is the purpose of perturbative masking in adding noise to data?']),\n (60, ['What are some common approaches or protocols used in IT-Security?']),\n (61,\n  ['What are the four main components involved in a simple model of IT security?']),\n (62,\n  ['What are the three different key sizes used in the Advanced Encryption Standard (AES)?']),\n (63, ['What are the components of TKIP (Temporal Key Integrity Protocol)?']),\n (64,\n  ['What protocol runs on top of HTTP and provides a secure Internet connection?']),\n (65, ['What is the formal definition of Role-based Access Control (RBAC)?']),\n (66,\n  ['What are the advantages and disadvantages of physical payment systems?']),\n (67,\n  ['What is the potential threat associated with unauthorized access to a network, and does keeping the SSID secret provide any protection against this threat?']),\n (68,\n  ['What are the characteristics of HTTP (Hypertext Transfer Protocol) in terms of data security?']),\n (69,\n  ['What are some common classifications of viruses based on the objects they infect?']),\n (70,\n  ['What is the purpose of the Meltdown attack and how does it exploit modern CPUs?']),\n (71,\n  ['What is the standard cryptographic solution used to ensure the authenticity of a transaction in the Bitcoin network?']),\n (72, ['What is the workflow of public key encryption?']),\n (73,\n  ['What is the purpose of the `malloc` function in the given code snippet?']),\n (74,\n  ['What is the potential security vulnerability described in the given example, and how can it be exploited by an attacker?']),\n (75,\n  ['What are some recommended measures for protecting against malware and spam mails?']),\n (76,\n  ['What are the advantages and disadvantages of Mandatory Access Control (MAC) compared to Discretionary Access Control (DAC)?']),\n (77,\n  ['What is the purpose of the Authentication Header (AH) protocol in transport mode?']),\n (78,\n  ['What are some possible approaches to achieving anonymity in IT-Security?']),\n (79, ['What are the stages of a social engineering attack?']),\n (80,\n  ['What is the definition of critical data in the context of IT security and provide examples of such data?']),\n (81,\n  ['What is the purpose of the Heartbeat extension for TLS proposed in 2012?']),\n (82,\n  ['What is the encryption method used for sending messages in the selected topics in IT-Security course?']),\n (83, ['What is the purpose of a Key Agreement Protocol?']),\n (84, ['What is the formal definition of an access matrix in IT-Security?']),\n (85, ['What are the three steps involved in generating synthetic data?']),\n (86,\n  ['What is the consequence of the output of an algorithm being the same, regardless of whether a certain record is contained in the data or not, in terms of re-identification?']),\n (87,\n  ['What are the two most relevant models for computer networks and which model is the focus of this lecture?']),\n (88, ['What is a good method for creating a passphrase with high entropy?']),\n (89,\n  ['What are some advantages of using Role-Based Access Control (RBAC) based on an access matrix?']),\n (90,\n  ['What is the motivation behind e-mail spoofing and what are some applications of this technique in IT security?'])]"
     },
     "execution_count": 32,
     "metadata": {},
     "output_type": "execute_result"
    }
   ],
   "source": [
    "model_results"
   ],
   "metadata": {
    "collapsed": false
   }
  },
  {
   "cell_type": "code",
   "execution_count": 33,
   "outputs": [
    {
     "name": "stdout",
     "output_type": "stream",
     "text": [
      "huggingface/tokenizers: The current process just got forked, after parallelism has already been used. Disabling parallelism to avoid deadlocks...\n",
      "To disable this warning, you can either:\n",
      "\t- Avoid using `tokenizers` before the fork if possible\n",
      "\t- Explicitly set the environment variable TOKENIZERS_PARALLELISM=(true | false)\n",
      "huggingface/tokenizers: The current process just got forked, after parallelism has already been used. Disabling parallelism to avoid deadlocks...\n",
      "To disable this warning, you can either:\n",
      "\t- Avoid using `tokenizers` before the fork if possible\n",
      "\t- Explicitly set the environment variable TOKENIZERS_PARALLELISM=(true | false)\n"
     ]
    },
    {
     "name": "stderr",
     "output_type": "stream",
     "text": [
      "[nltk_data] Downloading package stopwords to\n",
      "[nltk_data]     /Users/I516258/nltk_data...\n",
      "[nltk_data]   Package stopwords is already up-to-date!\n"
     ]
    },
    {
     "name": "stdout",
     "output_type": "stream",
     "text": [
      "                 PUNCTUATION  MISC  GRAMMAR  rouge1_fmeasure  \\\n",
      "ChatGPT-Prompt2           14     1        1         0.424193   \n",
      "\n",
      "                 rouge1_precision  rouge1_recall  rouge2_fmeasure  \\\n",
      "ChatGPT-Prompt2          0.357888       0.618192         0.237488   \n",
      "\n",
      "                 rouge2_precision  rouge2_recall  rougeL_fmeasure  ...  min_r  \\\n",
      "ChatGPT-Prompt2          0.198803       0.360979         0.399191  ...    0.0   \n",
      "\n",
      "                  avg_f1  max_f1  min_f1  avg_cos_sim  max_cos_sim  \\\n",
      "ChatGPT-Prompt2  0.41543     1.0     0.0     0.667354     0.999843   \n",
      "\n",
      "                 min_cos_sim  avg_sem_meteor  max_sem_meteor  min_sem_meteor  \n",
      "ChatGPT-Prompt2     0.121115        0.498779          0.9995        0.073529  \n",
      "\n",
      "[1 rows x 30 columns]\n"
     ]
    }
   ],
   "source": [
    "# Performance is evaluated\n",
    "metrics = Metrics(save_to_file=True)\n",
    "result = pd.DataFrame(\n",
    "    metrics.evaluate(model_output=model_results, references=refs),\n",
    "    index=[\"ChatGPT-Prompt2\"]\n",
    ")\n",
    "print(result)"
   ],
   "metadata": {
    "collapsed": false
   }
  },
  {
   "cell_type": "code",
   "execution_count": null,
   "outputs": [],
   "source": [
    "model_results = []\n",
    "# the chatGPT API is called and results are stored\n",
    "for index, row in content.iterrows():\n",
    "    if (index == 3):\n",
    "        break\n",
    "    prompt = f\"\"\"\n",
    "    Generate a question in a flashcard style for the content delimited by triple backticks.\n",
    "    When there are examples do not focus on their specifics but try to cover the overarching concept or idea.\n",
    "    ```{row['Page-Text']}```\n",
    "    \"\"\"\n",
    "    model_results.append((index, [chat_gpt(prompt)]))\n",
    "\n",
    "print(model_results)\n",
    "# Performance is evaluated\n",
    "metrics = Metrics(save_to_file=True)\n",
    "result = pd.DataFrame(\n",
    "    metrics.evaluate(model_output=model_results, references=refs[:3]),\n",
    "    index=[\"ChatGPT-Prompt3\"]\n",
    ")\n",
    "result"
   ],
   "metadata": {
    "collapsed": false
   }
  },
  {
   "cell_type": "code",
   "execution_count": null,
   "outputs": [],
   "source": [
    "model_results = []\n",
    "# the chatGPT API is called and results are stored\n",
    "for index, row in content.iterrows():\n",
    "    if (index == 3):\n",
    "        break\n",
    "    prompt = f\"\"\"\n",
    "    Generate a question in a flashcard style for the content delimited by triple backticks.\n",
    "    Focus on concepts, definitions and key-words.\n",
    "    Take into account how exam questions are normally formulated and formulate the question accordingly.\n",
    "    When there are examples do not focus on their specifics but try to cover the overarching concept or idea.\n",
    "    ```{row['Page-Text']}```\n",
    "    \"\"\"\n",
    "    model_results.append((index, [chat_gpt(prompt)]))\n",
    "\n",
    "print(model_results)\n",
    "# Performance is evaluated\n",
    "metrics = Metrics(save_to_file=True)\n",
    "result = pd.DataFrame(\n",
    "    metrics.evaluate(model_output=model_results, references=refs[:3]),\n",
    "    index=[\"ChatGPT-Prompt4\"]\n",
    ")\n",
    "result"
   ],
   "metadata": {
    "collapsed": false
   }
  },
  {
   "cell_type": "code",
   "execution_count": null,
   "outputs": [],
   "source": [
    "model_results = []\n",
    "# the chatGPT API is called and results are stored\n",
    "for index, row in content.iterrows():\n",
    "    if (index == 3):\n",
    "        break\n",
    "    prompt = f\"\"\"\n",
    "    You are a bot to support in the generation of flashcards from lecture slides.\n",
    "    You are provided with two inputs. The first input delimited by triple backticks is the text that is copied from the slides.\n",
    "    The second input delimited by triple quotation marks is retrieved with an OCR tool to extract all text from a slide.\n",
    "    Follow the below process:\n",
    "    1. Step: Compare the first input with the second input to retrieve the relevant information\n",
    "    2. Step: Generate a question for this information in a flashcard style\n",
    "    Only return the generated question.\n",
    "    ```{row['Page-Text']}```\n",
    "    \\\"\\\"\\\"{row['OCR-text']}\\\"\\\"\\\"\n",
    "    \"\"\"\n",
    "    model_results.append((index, [chat_gpt(prompt)]))\n",
    "\n",
    "\n",
    "print(model_results)\n",
    "# Performance is evaluated\n",
    "metrics = Metrics(save_to_file=True)\n",
    "result = pd.DataFrame(\n",
    "    metrics.evaluate(model_output=model_results, references=refs[:3]),\n",
    "    index=[\"ChatGPT-Prompt5\"]\n",
    ")\n",
    "result"
   ],
   "metadata": {
    "collapsed": false
   }
  },
  {
   "cell_type": "markdown",
   "source": [
    "## Few-Shot"
   ],
   "metadata": {
    "collapsed": false
   }
  },
  {
   "cell_type": "code",
   "execution_count": 34,
   "outputs": [
    {
     "name": "stdout",
     "output_type": "stream",
     "text": [
      "Generated question for index  0 :  What are the advantages and disadvantages of cookies?\n",
      "Generated question for index  1 :  What is access control and on what levels can it exist?\n",
      "Generated question for index  2 :  What is XSS and what does it allow an attacker to do?\n",
      "Generated question for index  3 :  What are the abilities provided by the API in client-side programming?\n",
      "Generated question for index  4 :  What is the technique that allows one to spoof the sender's address in e-mail communication?\n",
      "Generated question for index  5 :  What are some techniques used by viruses to evade signature-based virus scanners?\n",
      "Generated question for index  6 :  TLS Protocol, question: What are the steps involved in establishing encrypted communication using the TLS protocol?\n",
      "Generated question for index  7 :  What is the idea behind Rainbow Tables?\n",
      "Generated question for index  8 :  What is the procedure for the Proof of Work algorithm?\n",
      "Generated question for index  9 :  What is the workflow of an RSA Signature Scheme?\n",
      "Generated question for index  10 :  question: Under what conditions may a subject write to an object at a certain point in time?\n",
      "Generated question for index  11 :  What is the block reward for successful mining in Bitcoin and how does it change over time?\n",
      "Generated question for index  12 :  TCP/IP Model\n",
      "Selected Topics in IT-Security\n",
      "Prof. Dr. Frederik Armknecht - Chair of Computer Science IV \n",
      "6\n",
      "Application Layer\n",
      "Transport Layer\n",
      "Internet Layer\n",
      "Network Access Layer\n",
      "Application Layer\n",
      "Transport Layer\n",
      "Internet Layer\n",
      "Network Access Layer\n",
      "Media for data transfer\n",
      "Source Destination, question: What are the layers of the TCP/IP model?\n",
      "Generated question for index  13 :  What is the workflow of cookies in a client-server communication?\n",
      "Generated question for index  14 :  What are the concepts of ℓ-Diversity and -Closeness in data anonymization?\n",
      "Generated question for index  15 :  What is the graphical representation of Role-based Access Control (RBAC)?\n",
      "Generated question for index  16 :  What is the purpose of cache in a computer system?\n",
      "Generated question for index  17 :  What are the relevant languages for web applications?\n",
      "Generated question for index  18 :  What is the Extensible Authentication Protocol (EAP) and how does it support multiple authentication mechanisms?\n",
      "Generated question for index  19 :  What are the approaches used in enhanced guessing attacks?\n",
      "Generated question for index  20 :  What is the purpose of 2-Factor Authentication and provide examples of its implementation?\n",
      "Generated question for index  21 :  What is the attack strategy for sending out millions of emails in IT security?\n",
      "Generated question for index  22 :  What are the characteristics and algorithms involved in an anti-virus software?\n",
      "Generated question for index  23 :  What are the possible tools for gathering information about victims in the preparation stage of an attack?\n",
      "Generated question for index  24 :  What links the verification key to a Bitcoin address?\n",
      "Generated question for index  25 :  What are some examples of private networks?\n",
      "Generated question for index  26 :  What are the 2021 most common passwords and their respective number of uses?\n",
      "Generated question for index  27 :  What is an example of non-perturbative masking for generalization?\n",
      "Generated question for index  28 :  What is an example of a security solution for protecting sensitive information from eavesdropping attacks?\n",
      "Generated question for index  29 :  What is the purpose of the coin base transaction in the Proof of Work mining process?\n",
      "Generated question for index  30 :  What is the structure of Bitcoins and how does it build on a peer-to-peer network?\n",
      "Generated question for index  31 :  What is click fraud and who are the victims of it?\n",
      "Generated question for index  32 :  What is the goal of targeted advertising on Facebook?\n",
      "Generated question for index  33 :  What is tailgating in the context of IT security?\n",
      "Generated question for index  34 :  What is the workflow of the data holder and analyst in the online model?\n",
      "Generated question for index  35 :  What are the different methods of authentication based on?\n",
      "Generated question for index  36 :  What is a transaction in the context of Bitcoin?\n",
      "Generated question for index  37 :  What are the four critical functions that a VPN needs to provide?\n",
      "Generated question for index  38 :  What is the concept of phishing?\n",
      "Generated question for index  39 :  What is the usage of passwords in authentication?\n",
      "Generated question for index  40 :  What is the purpose of CRC (Cyclic Redundancy Check)?\n",
      "Generated question for index  41 :  What are the common password guidelines?\n",
      "Generated question for index  42 :  What are social engineering attacks and how do they rely on exploiting the human trust factor?\n",
      "Generated question for index  43 :  What is identification and how is it usually accompanied?\n",
      "Generated question for index  44 :  What are the threat and countermeasure for Session Hijacking?\n",
      "Generated question for index  45 :  What does access control/authorization refer to?\n",
      "Generated question for index  46 :  What are the conditions that allow a subject to read an object in the given formal definition?\n",
      "Generated question for index  47 :  What is the purpose of multitasking in an operating system?\n",
      "Generated question for index  48 :  What can be inferred about Bitcoin addresses of darknet vendors by exploiting metadata leaked by reviews and structural information of the market?\n",
      "Generated question for index  49 :  What is the purpose of Counter Mode in encryption?\n",
      "Generated question for index  50 :  What are the main goals and advantages of Bitcoin?\n",
      "Generated question for index  51 :  What are the security requirements for a hash function?\n",
      "Generated question for index  52 :  What is a Distributed Denial of Service (DDOS) attack?\n",
      "Generated question for index  53 :  What should be explained in clear and plain language regarding data collection and processing?\n",
      "Generated question for index  54 :  What was the problem with the heartbeat extension that led to the Heartbleed bug?\n",
      "Generated question for index  55 :  Shared Key Authentication - Workflow\n",
      "Selected Topics in IT-Security\n",
      "Prof. Dr. Frederik Armknecht - Chair of Computer Science IV \n",
      "5\n",
      "Authentication Request\n",
      "Challenge\n",
      "• Choose Challenge\n",
      "(IV,Ciphertext)\n",
      "• Choose IV\n",
      "• Create keystream\n",
      "from key and IV\n",
      "• Encrypt challenge\n",
      "by XORing with \n",
      "keystream\n",
      "• Compute keystream from \n",
      "key and IV\n",
      "• Decrypt ciphertext\n",
      "• Check if decryption equals \n",
      "challenge\n",
      "Accept/Reject\n",
      "Device Access Point, question: What are the steps involved in the shared key authentication workflow?\n",
      "Generated question for index  56 :  question: What is an example of a security solution for ensuring availability of data/services to authorized users?\n",
      "Generated question for index  57 :  What is the process of adding blocks to the blockchain and how is it executed by miners?\n",
      "Generated question for index  58 :  Common Cryptographic Scenario\n",
      "Selected Topics in IT-Security\n",
      "Prof. Dr. Frederik Armknecht - Chair of Computer Science IV \n",
      "3\n",
      "Alice Bob Unprotected Communication Channel\n",
      "Eve\n",
      "Eavesdropping\n",
      "(belauschen)\n",
      "\n",
      "Question: What is the common cryptographic scenario involving Alice, Bob, and Eve?\n",
      "Generated question for index  59 :  What is an example of perturbative masking and how is noise added to the data?\n",
      "Generated question for index  60 :  What are some common approaches/protocols used in IT-Security?\n",
      "Generated question for index  61 :  What are the components of the simple model in IT-Security?\n",
      "Generated question for index  62 :  What are the protocols that use the Advanced Encryption Standard (AES)?\n",
      "Generated question for index  63 :  What are the components of TKIP?\n",
      "Generated question for index  64 :  question: What is the relationship between HTTP and TLS in terms of providing a secure Internet connection?\n",
      "Generated question for index  65 :  What is the role-based access model given by?\n",
      "Generated question for index  66 :  What are the advantages and disadvantages of physical payment systems?\n",
      "Generated question for index  67 :  What are some examples of utilities that can be used to find the ID of a \"hidden\" network?\n",
      "Generated question for index  68 :  HTTP (Hypertext Transfer Protocol) is a \"normal\" protocol for enabling Internet connection, but it provides no security of the data. Who can listen and change the data if they have access to it?\n",
      "Generated question for index  69 :  What are the different types of viruses based on the objects they infect?\n",
      "Generated question for index  70 :  What is the impact of the Meltdown attack on the cache?\n",
      "Generated question for index  71 :  question: Why is it necessary to check the authenticity of a transaction in the Bitcoin network?\n",
      "Generated question for index  72 :  What is the workflow of the public key encryption scheme?\n",
      "Generated question for index  73 :  What is the considered program for replacing a password?\n",
      "Generated question for index  74 :  What is the risk associated with the CSRF attack described in the given content?\n",
      "Generated question for index  75 :  What are the recommended actions if you are a victim of data encryption?\n",
      "Generated question for index  76 :  What are the advantages and disadvantages of Mandatory Access Control (MAC)?\n",
      "Generated question for index  77 :  What is the purpose of the Authentication Header (AH) Protocol in transport mode?\n",
      "Generated question for index  78 :  What is the challenge in defining anonymity and can it cover aspects like quasi-identifier and data taken from different sources?\n",
      "Generated question for index  79 :  What are the stages of an attack according to the given content?\n",
      "Generated question for index  80 :  What are examples of critical data that should be protected against attacks?\n",
      "Generated question for index  81 :  What is the related example of the Heartbleed Bug?\n",
      "Generated question for index  82 :  Selected Topics in IT-Security\n",
      "Prof. Dr. Frederik Armknecht - Chair of Computer Science IV \n",
      "10\n",
      "ଵ, ଶ, ଷ\n",
      "1\n",
      "ଵ\n",
      "2\n",
      "ଶ\n",
      "3\n",
      "ଷ\n",
      "\n",
      "Question: How many layers are used to encrypt each message in the given content?\n",
      "Generated question for index  83 :  Key Agreement Protocol, question: What is the content of the flashcard?\n",
      "Generated question for index  84 :  What is the formal definition of an access matrix?\n",
      "Generated question for index  85 :  What are the three steps involved in generating synthetic data?\n",
      "Generated question for index  86 :  What is the intuition behind differential privacy?\n",
      "Generated question for index  87 :  What are the two most relevant models for computer networks and what is the focus of this lecture?\n",
      "Generated question for index  88 :  Passphrases, question: What is a good method for creating a passphrase?\n",
      "Generated question for index  89 :  What are the advantages of Role-Based Access Control (RBAC)?\n",
      "Generated question for index  90 :  What is e-mail spoofing and what are its motivations and applications?\n",
      "[(0, ['What are the advantages and disadvantages of cookies?']), (1, ['What is access control and on what levels can it exist?']), (2, ['What is XSS and what does it allow an attacker to do?']), (3, ['What are the abilities provided by the API in client-side programming?']), (4, [\"What is the technique that allows one to spoof the sender's address in e-mail communication?\"]), (5, ['What are some techniques used by viruses to evade signature-based virus scanners?']), (6, ['TLS Protocol, question: What are the steps involved in establishing encrypted communication using the TLS protocol?']), (7, ['What is the idea behind Rainbow Tables?']), (8, ['What is the procedure for the Proof of Work algorithm?']), (9, ['What is the workflow of an RSA Signature Scheme?']), (10, ['question: Under what conditions may a subject write to an object at a certain point in time?']), (11, ['What is the block reward for successful mining in Bitcoin and how does it change over time?']), (12, ['TCP/IP Model\\nSelected Topics in IT-Security\\nProf. Dr. Frederik Armknecht - Chair of Computer Science IV \\n6\\nApplication Layer\\nTransport Layer\\nInternet Layer\\nNetwork Access Layer\\nApplication Layer\\nTransport Layer\\nInternet Layer\\nNetwork Access Layer\\nMedia for data transfer\\nSource Destination, question: What are the layers of the TCP/IP model?']), (13, ['What is the workflow of cookies in a client-server communication?']), (14, ['What are the concepts of ℓ-Diversity and -Closeness in data anonymization?']), (15, ['What is the graphical representation of Role-based Access Control (RBAC)?']), (16, ['What is the purpose of cache in a computer system?']), (17, ['What are the relevant languages for web applications?']), (18, ['What is the Extensible Authentication Protocol (EAP) and how does it support multiple authentication mechanisms?']), (19, ['What are the approaches used in enhanced guessing attacks?']), (20, ['What is the purpose of 2-Factor Authentication and provide examples of its implementation?']), (21, ['What is the attack strategy for sending out millions of emails in IT security?']), (22, ['What are the characteristics and algorithms involved in an anti-virus software?']), (23, ['What are the possible tools for gathering information about victims in the preparation stage of an attack?']), (24, ['What links the verification key to a Bitcoin address?']), (25, ['What are some examples of private networks?']), (26, ['What are the 2021 most common passwords and their respective number of uses?']), (27, ['What is an example of non-perturbative masking for generalization?']), (28, ['What is an example of a security solution for protecting sensitive information from eavesdropping attacks?']), (29, ['What is the purpose of the coin base transaction in the Proof of Work mining process?']), (30, ['What is the structure of Bitcoins and how does it build on a peer-to-peer network?']), (31, ['What is click fraud and who are the victims of it?']), (32, ['What is the goal of targeted advertising on Facebook?']), (33, ['What is tailgating in the context of IT security?']), (34, ['What is the workflow of the data holder and analyst in the online model?']), (35, ['What are the different methods of authentication based on?']), (36, ['What is a transaction in the context of Bitcoin?']), (37, ['What are the four critical functions that a VPN needs to provide?']), (38, ['What is the concept of phishing?']), (39, ['What is the usage of passwords in authentication?']), (40, ['What is the purpose of CRC (Cyclic Redundancy Check)?']), (41, ['What are the common password guidelines?']), (42, ['What are social engineering attacks and how do they rely on exploiting the human trust factor?']), (43, ['What is identification and how is it usually accompanied?']), (44, ['What are the threat and countermeasure for Session Hijacking?']), (45, ['What does access control/authorization refer to?']), (46, ['What are the conditions that allow a subject to read an object in the given formal definition?']), (47, ['What is the purpose of multitasking in an operating system?']), (48, ['What can be inferred about Bitcoin addresses of darknet vendors by exploiting metadata leaked by reviews and structural information of the market?']), (49, ['What is the purpose of Counter Mode in encryption?']), (50, ['What are the main goals and advantages of Bitcoin?']), (51, ['What are the security requirements for a hash function?']), (52, ['What is a Distributed Denial of Service (DDOS) attack?']), (53, ['What should be explained in clear and plain language regarding data collection and processing?']), (54, ['What was the problem with the heartbeat extension that led to the Heartbleed bug?']), (55, ['Shared Key Authentication - Workflow\\nSelected Topics in IT-Security\\nProf. Dr. Frederik Armknecht - Chair of Computer Science IV \\n5\\nAuthentication Request\\nChallenge\\n• Choose Challenge\\n(IV,Ciphertext)\\n• Choose IV\\n• Create keystream\\nfrom key and IV\\n• Encrypt challenge\\nby XORing with \\nkeystream\\n• Compute keystream from \\nkey and IV\\n• Decrypt ciphertext\\n• Check if decryption equals \\nchallenge\\nAccept/Reject\\nDevice Access Point, question: What are the steps involved in the shared key authentication workflow?']), (56, ['question: What is an example of a security solution for ensuring availability of data/services to authorized users?']), (57, ['What is the process of adding blocks to the blockchain and how is it executed by miners?']), (58, ['Common Cryptographic Scenario\\nSelected Topics in IT-Security\\nProf. Dr. Frederik Armknecht - Chair of Computer Science IV \\n3\\nAlice Bob Unprotected Communication Channel\\nEve\\nEavesdropping\\n(belauschen)\\n\\nQuestion: What is the common cryptographic scenario involving Alice, Bob, and Eve?']), (59, ['What is an example of perturbative masking and how is noise added to the data?']), (60, ['What are some common approaches/protocols used in IT-Security?']), (61, ['What are the components of the simple model in IT-Security?']), (62, ['What are the protocols that use the Advanced Encryption Standard (AES)?']), (63, ['What are the components of TKIP?']), (64, ['question: What is the relationship between HTTP and TLS in terms of providing a secure Internet connection?']), (65, ['What is the role-based access model given by?']), (66, ['What are the advantages and disadvantages of physical payment systems?']), (67, ['What are some examples of utilities that can be used to find the ID of a \"hidden\" network?']), (68, ['HTTP (Hypertext Transfer Protocol) is a \"normal\" protocol for enabling Internet connection, but it provides no security of the data. Who can listen and change the data if they have access to it?']), (69, ['What are the different types of viruses based on the objects they infect?']), (70, ['What is the impact of the Meltdown attack on the cache?']), (71, ['question: Why is it necessary to check the authenticity of a transaction in the Bitcoin network?']), (72, ['What is the workflow of the public key encryption scheme?']), (73, ['What is the considered program for replacing a password?']), (74, ['What is the risk associated with the CSRF attack described in the given content?']), (75, ['What are the recommended actions if you are a victim of data encryption?']), (76, ['What are the advantages and disadvantages of Mandatory Access Control (MAC)?']), (77, ['What is the purpose of the Authentication Header (AH) Protocol in transport mode?']), (78, ['What is the challenge in defining anonymity and can it cover aspects like quasi-identifier and data taken from different sources?']), (79, ['What are the stages of an attack according to the given content?']), (80, ['What are examples of critical data that should be protected against attacks?']), (81, ['What is the related example of the Heartbleed Bug?']), (82, ['Selected Topics in IT-Security\\nProf. Dr. Frederik Armknecht - Chair of Computer Science IV \\n10\\nଵ, ଶ, ଷ\\n1\\nଵ\\n2\\nଶ\\n3\\nଷ\\n\\nQuestion: How many layers are used to encrypt each message in the given content?']), (83, ['Key Agreement Protocol, question: What is the content of the flashcard?']), (84, ['What is the formal definition of an access matrix?']), (85, ['What are the three steps involved in generating synthetic data?']), (86, ['What is the intuition behind differential privacy?']), (87, ['What are the two most relevant models for computer networks and what is the focus of this lecture?']), (88, ['Passphrases, question: What is a good method for creating a passphrase?']), (89, ['What are the advantages of Role-Based Access Control (RBAC)?']), (90, ['What is e-mail spoofing and what are its motivations and applications?'])]\n"
     ]
    }
   ],
   "source": [
    "model_results = []\n",
    "# the chatGPT API is called and results are stored\n",
    "for index, row in content.iterrows():\n",
    "    if index >=0:\n",
    "        prompt = f\"\"\"\n",
    "        Generate a question in a flashcard style for the content delimited by triple backticks.\n",
    "        ```{row['Page-Text']}```\n",
    "        Follow a similar style for generating the question as in this two examples:\n",
    "        1) Input: {goldstandard_train_val.loc[0, 'Page-Text']}, question: {goldstandard_train_val.loc[0, 'Question']}\n",
    "        2) Input: {goldstandard_train_val.loc[1, 'Page-Text']}, question: {goldstandard_train_val.loc[1, 'Question']}\n",
    "        \"\"\"\n",
    "        question = chat_gpt(prompt)\n",
    "        model_results.append((index, [question]))\n",
    "        print(\"Generated question for index \", index, \": \", question)\n",
    "        time.sleep(1)\n",
    "\n",
    "print(model_results)"
   ],
   "metadata": {
    "collapsed": false
   }
  },
  {
   "cell_type": "code",
   "execution_count": 35,
   "outputs": [],
   "source": [
    "# Save model_results to disk\n",
    "df_model_results = pd.DataFrame(model_results, columns=[\"Index\", \"Question\"])\n",
    "df_model_results.to_csv(\"./model_results/prompt6.csv\", index=False)\n",
    "\n",
    "# # restore model_results\n",
    "# df_model_results = pd.read_csv(\"./model_results/prompt6.csv\")\n",
    "# model_results = [(row[\"Index\"], [row[\"Question\"]]) for _, row in df_model_results.iterrows()]"
   ],
   "metadata": {
    "collapsed": false
   }
  },
  {
   "cell_type": "code",
   "execution_count": 36,
   "outputs": [
    {
     "name": "stdout",
     "output_type": "stream",
     "text": [
      "huggingface/tokenizers: The current process just got forked, after parallelism has already been used. Disabling parallelism to avoid deadlocks...\n",
      "To disable this warning, you can either:\n",
      "\t- Avoid using `tokenizers` before the fork if possible\n",
      "\t- Explicitly set the environment variable TOKENIZERS_PARALLELISM=(true | false)\n",
      "huggingface/tokenizers: The current process just got forked, after parallelism has already been used. Disabling parallelism to avoid deadlocks...\n",
      "To disable this warning, you can either:\n",
      "\t- Avoid using `tokenizers` before the fork if possible\n",
      "\t- Explicitly set the environment variable TOKENIZERS_PARALLELISM=(true | false)\n",
      "huggingface/tokenizers: The current process just got forked, after parallelism has already been used. Disabling parallelism to avoid deadlocks...\n",
      "To disable this warning, you can either:\n",
      "\t- Avoid using `tokenizers` before the fork if possible\n",
      "\t- Explicitly set the environment variable TOKENIZERS_PARALLELISM=(true | false)\n",
      "huggingface/tokenizers: The current process just got forked, after parallelism has already been used. Disabling parallelism to avoid deadlocks...\n",
      "To disable this warning, you can either:\n",
      "\t- Avoid using `tokenizers` before the fork if possible\n",
      "\t- Explicitly set the environment variable TOKENIZERS_PARALLELISM=(true | false)\n"
     ]
    },
    {
     "name": "stderr",
     "output_type": "stream",
     "text": [
      "[nltk_data] Downloading package stopwords to\n",
      "[nltk_data]     /Users/I516258/nltk_data...\n",
      "[nltk_data]   Package stopwords is already up-to-date!\n"
     ]
    },
    {
     "name": "stdout",
     "output_type": "stream",
     "text": [
      "                 PUNCTUATION  CASING  MISC  TYPOGRAPHY  rouge1_fmeasure  \\\n",
      "ChatGPT-Prompt6           10       4     1           1         0.440566   \n",
      "\n",
      "                 rouge1_precision  rouge1_recall  rouge2_fmeasure  \\\n",
      "ChatGPT-Prompt6          0.386222       0.598951         0.249332   \n",
      "\n",
      "                 rouge2_precision  rouge2_recall  ...  min_r   avg_f1  max_f1  \\\n",
      "ChatGPT-Prompt6          0.214606       0.356362  ...    0.0  0.45615     1.0   \n",
      "\n",
      "                 min_f1  avg_cos_sim  max_cos_sim  min_cos_sim  \\\n",
      "ChatGPT-Prompt6     0.0     0.698805     0.996389     0.096924   \n",
      "\n",
      "                 avg_sem_meteor  max_sem_meteor  min_sem_meteor  \n",
      "ChatGPT-Prompt6        0.503604        0.979938        0.073529  \n",
      "\n",
      "[1 rows x 31 columns]\n"
     ]
    }
   ],
   "source": [
    "# Performance is evaluated\n",
    "metrics = Metrics(save_to_file=True)\n",
    "result = pd.DataFrame(\n",
    "    metrics.evaluate(model_output=model_results, references=refs),\n",
    "    index=[\"ChatGPT-Prompt6\"]\n",
    ")\n",
    "print(result)"
   ],
   "metadata": {
    "collapsed": false
   }
  },
  {
   "cell_type": "code",
   "execution_count": 43,
   "outputs": [
    {
     "name": "stdout",
     "output_type": "stream",
     "text": [
      "Generated question for index  0 :  What are the advantages and disadvantages of using cookies?\n",
      "Generated question for index  1 :  What is access control and on which levels can it exist?\n",
      "Generated question for index  2 :  What is XSS and how does it compromise the interaction between a user and a vulnerable web application?\n",
      "Generated question for index  3 :  Question: What abilities does JavaScript provide when running on the client's side?\n",
      "Generated question for index  4 :  What is the technique that allows one to spoof the sender's address in e-mail communication?\n",
      "Generated question for index  5 :  What are some techniques used by viruses to evade signature-based scanners?\n",
      "Generated question for index  6 :  What is the content of the flashcard?\n",
      "Generated question for index  7 :  What is the idea behind Rainbow Tables?\n",
      "Generated question for index  8 :  What is the procedure for the Proof of Work algorithm in mining a block?\n",
      "Generated question for index  9 :  What is the RSA Signature Scheme and how is it used for signing and verifying messages?\n",
      "Generated question for index  10 :  Question: What are the conditions that must hold for a subject to write to an object at a certain point in time in the given rule?\n",
      "Generated question for index  11 :  What is the block reward for successful mining in Bitcoin and how does it change over time?\n",
      "Generated question for index  12 :  TCP/IP Model\n",
      "Selected Topics in IT-Security\n",
      "Prof. Dr. Frederik Armknecht - Chair of Computer Science IV \n",
      "6\n",
      "Application Layer\n",
      "Transport Layer\n",
      "Internet Layer\n",
      "Network Access Layer\n",
      "Application Layer\n",
      "Transport Layer\n",
      "Internet Layer\n",
      "Network Access Layer\n",
      "Media for data transfer\n",
      "Source Destination\n",
      "\n",
      "Question: What are the layers of the TCP/IP model?\n",
      "Generated question for index  13 :  What is the workflow for handling cookies in a client-server communication?\n",
      "Generated question for index  14 :  What are the shortcomings of -anonymity and how do ℓ-diversity and -closeness address these shortcomings?\n",
      "Generated question for index  15 :  Question: What is the graphical representation of the Role-based Access Control (RBAC) system?\n",
      "Generated question for index  16 :  question: What is the purpose of a cache in computer systems?\n",
      "Generated question for index  17 :  What are the relevant languages for web applications?\n",
      "Generated question for index  18 :  What is the purpose of the Extensible Authentication Protocol (EAP)?\n",
      "Generated question for index  19 :  What are some approaches used in enhanced guessing attacks?\n",
      "Generated question for index  20 :  What is the purpose of 2-Factor Authentication and provide examples of its implementation?\n",
      "Generated question for index  21 :  What is the attack strategy for sending out millions of emails in order to increase the chances of successful attacks?\n",
      "Generated question for index  22 :  What are the main characteristics and components of anti-virus software?\n",
      "Generated question for index  23 :  What are the possible tools for gathering information about victims during the preparation stage of an attack?\n",
      "Generated question for index  24 :  What is the solution to the problem of linking the verification key to a Bitcoin address?\n",
      "Generated question for index  25 :  What are some examples of private networks?\n",
      "Generated question for index  26 :  What are the top 10 most common passwords of 2021 and their estimated number of uses?\n",
      "Generated question for index  27 :  What is an example of non-perturbative masking for generalization?\n",
      "Generated question for index  28 :  What is the importance of confidentiality in IT security and what is an example of an attack that targets confidentiality?\n",
      "Generated question for index  29 :  What is the purpose of the coin base transaction in the Proof of Work mining process?\n",
      "Generated question for index  30 :  What is the structure of the Bitcoin network and what are its members called?\n",
      "Generated question for index  31 :  What is click fraud and who are the victims of this fraudulent activity?\n",
      "Generated question for index  32 :  What is the goal of targeted advertising on Facebook?\n",
      "Generated question for index  33 :  What is tailgating in the context of IT security?\n",
      "Generated question for index  34 :  What are the steps involved in the online model for data and algorithm exchange between an analyst and a data holder?\n",
      "Generated question for index  35 :  What are the three types of authentication methods based on in IT security?\n",
      "Generated question for index  36 :  What is a transaction in the context of Bitcoin and what information does it include?\n",
      "Generated question for index  37 :  What are the four critical functions that a VPN needs to provide?\n",
      "Generated question for index  38 :  What is the basic concept of phishing?\n",
      "Generated question for index  39 :  What is the purpose of passwords in authentication?\n",
      "Generated question for index  40 :  What is the purpose of CRC (Cyclic Redundancy Check) in error detection?\n",
      "Generated question for index  41 :  What are the common password guidelines?\n",
      "Generated question for index  42 :  What are social engineering attacks and how do they rely on exploiting the human trust factor?\n",
      "Generated question for index  43 :  What is the process that refers to claiming an identity and is usually accompanied by a second stage called authentication?\n",
      "Generated question for index  44 :  What are the attack and countermeasure for Threat 3: Session Hijacking?\n",
      "Generated question for index  45 :  What is access control/authorization in the context of IT security?\n",
      "Generated question for index  46 :  Question: What are the conditions that allow a subject to read an object in the given rule?\n",
      "Generated question for index  47 :  What is the purpose of multitasking in an operating system?\n",
      "Generated question for index  48 :  What can be inferred about Bitcoin addresses of darknet vendors by exploiting metadata leaked by reviews and structural information of the market?\n",
      "Generated question for index  49 :  What is the purpose of Counter Mode in encryption?\n",
      "Generated question for index  50 :  What is the primary goal of Bitcoin?\n",
      "Generated question for index  51 :  What are the security requirements for a hash function?\n",
      "Generated question for index  52 :  What is a Distributed Denial of Service (DDoS) attack and how does it prevent a system from functioning correctly?\n",
      "Generated question for index  53 :  What are the requirements for transparency in data collection and processing?\n",
      "Generated question for index  54 :  What was the problem with the heartbeat extension that led to the Heartbleed bug?\n",
      "Generated question for index  55 :  What is the workflow of the Shared Key Authentication process?\n",
      "Generated question for index  56 :  What is the importance of availability in IT security and what is an example of an attack that can compromise availability?\n",
      "Generated question for index  57 :  What is the process of adding blocks to the blockchain and how is it executed by miners?\n",
      "Generated question for index  58 :  Common Cryptographic Scenario\n",
      "Selected Topics in IT-Security\n",
      "Prof. Dr. Frederik Armknecht - Chair of Computer Science IV \n",
      "3\n",
      "Alice Bob Unprotected Communication Channel\n",
      "Eve\n",
      "Eavesdropping\n",
      "(belauschen)\n",
      "\n",
      "Question: In the given cryptographic scenario, what is the potential threat that Eve poses to Alice and Bob's communication?\n",
      "Generated question for index  59 :  What is the perturbative masking technique used for adding noise to the data?\n",
      "Generated question for index  60 :  Question: What are some common approaches/protocols used in IT-Security?\n",
      "Generated question for index  61 :  What are the different entities involved in the simple model of IT security?\n",
      "Generated question for index  62 :  What are the protocols that use the Advanced Encryption Standard (AES)?\n",
      "Generated question for index  63 :  What are the components of TKIP?\n",
      "Generated question for index  64 :  What is the relationship between HTTP and HTTPS?\n",
      "Generated question for index  65 :  What is the role-based access model and how is it defined?\n",
      "Generated question for index  66 :  What are the advantages and disadvantages of physical payment systems?\n",
      "Generated question for index  67 :  What is the threat associated with unauthorized access and does keeping the SSID secret help mitigate this threat?\n",
      "Generated question for index  68 :  What is the purpose of the Hypertext Transfer Protocol (HTTP) and what are its limitations in terms of data security?\n",
      "Generated question for index  69 :  What are the different types of viruses based on the objects they infect?\n",
      "Generated question for index  70 :  What is the impact of the Meltdown attack on the cache and how can it be exploited to leak information about forbidden memory?\n",
      "Generated question for index  71 :  What is the necessary condition for checking the authenticity of a transaction in the Bitcoin network?\n",
      "Generated question for index  72 :  What is the workflow of the public key encryption scheme?\n",
      "Generated question for index  73 :  What is the workflow of a symmetric key encryption scheme?\n",
      "Generated question for index  74 :  What is the potential security vulnerability described in the provided content?\n",
      "Generated question for index  75 :  What are some recommended actions to take if you are a victim of encryption?\n",
      "Generated question for index  76 :  What are the advantages and disadvantages of Mandatory Access Control (MAC)?\n",
      "Generated question for index  77 :  What is the purpose of the Authentication Header (AH) Protocol in transport mode?\n",
      "Generated question for index  78 :  What is the challenge being discussed in this content?\n",
      "Generated question for index  79 :  What are the stages of an attack in a social engineering attack?\n",
      "Generated question for index  80 :  What types of data are considered critical and should be protected against attacks?\n",
      "Generated question for index  81 :  What is the Heartbleed Bug and how does it work?\n",
      "Generated question for index  82 :  Question: How are messages encrypted in the sending messages system described in the content?\n",
      "Generated question for index  83 :  Question: What is the key agreement protocol?\n",
      "Generated question for index  84 :  What is the formal definition of an access matrix?\n",
      "Generated question for index  85 :  What are the three steps involved in generating synthetic data?\n",
      "Generated question for index  86 :  What is the intuition behind differential privacy and how does it ensure that an analyst cannot re-identify a record?\n",
      "Generated question for index  87 :  What are the two most relevant models for computer networks and what is the focus of this lecture?\n",
      "Generated question for index  88 :  What is a good method for creating passphrases?\n",
      "Generated question for index  89 :  What are the advantages of RBAC based on an access matrix?\n",
      "Generated question for index  90 :  What is e-mail spoofing and what are its motivations and applications?\n",
      "[(0, ['What are the advantages and disadvantages of using cookies?']), (1, ['What is access control and on which levels can it exist?']), (2, ['What is XSS and how does it compromise the interaction between a user and a vulnerable web application?']), (3, [\"Question: What abilities does JavaScript provide when running on the client's side?\"]), (4, [\"What is the technique that allows one to spoof the sender's address in e-mail communication?\"]), (5, ['What are some techniques used by viruses to evade signature-based scanners?']), (6, ['What is the content of the flashcard?']), (7, ['What is the idea behind Rainbow Tables?']), (8, ['What is the procedure for the Proof of Work algorithm in mining a block?']), (9, ['What is the RSA Signature Scheme and how is it used for signing and verifying messages?']), (10, ['Question: What are the conditions that must hold for a subject to write to an object at a certain point in time in the given rule?']), (11, ['What is the block reward for successful mining in Bitcoin and how does it change over time?']), (12, ['TCP/IP Model\\nSelected Topics in IT-Security\\nProf. Dr. Frederik Armknecht - Chair of Computer Science IV \\n6\\nApplication Layer\\nTransport Layer\\nInternet Layer\\nNetwork Access Layer\\nApplication Layer\\nTransport Layer\\nInternet Layer\\nNetwork Access Layer\\nMedia for data transfer\\nSource Destination\\n\\nQuestion: What are the layers of the TCP/IP model?']), (13, ['What is the workflow for handling cookies in a client-server communication?']), (14, ['What are the shortcomings of -anonymity and how do ℓ-diversity and -closeness address these shortcomings?']), (15, ['Question: What is the graphical representation of the Role-based Access Control (RBAC) system?']), (16, ['question: What is the purpose of a cache in computer systems?']), (17, ['What are the relevant languages for web applications?']), (18, ['What is the purpose of the Extensible Authentication Protocol (EAP)?']), (19, ['What are some approaches used in enhanced guessing attacks?']), (20, ['What is the purpose of 2-Factor Authentication and provide examples of its implementation?']), (21, ['What is the attack strategy for sending out millions of emails in order to increase the chances of successful attacks?']), (22, ['What are the main characteristics and components of anti-virus software?']), (23, ['What are the possible tools for gathering information about victims during the preparation stage of an attack?']), (24, ['What is the solution to the problem of linking the verification key to a Bitcoin address?']), (25, ['What are some examples of private networks?']), (26, ['What are the top 10 most common passwords of 2021 and their estimated number of uses?']), (27, ['What is an example of non-perturbative masking for generalization?']), (28, ['What is the importance of confidentiality in IT security and what is an example of an attack that targets confidentiality?']), (29, ['What is the purpose of the coin base transaction in the Proof of Work mining process?']), (30, ['What is the structure of the Bitcoin network and what are its members called?']), (31, ['What is click fraud and who are the victims of this fraudulent activity?']), (32, ['What is the goal of targeted advertising on Facebook?']), (33, ['What is tailgating in the context of IT security?']), (34, ['What are the steps involved in the online model for data and algorithm exchange between an analyst and a data holder?']), (35, ['What are the three types of authentication methods based on in IT security?']), (36, ['What is a transaction in the context of Bitcoin and what information does it include?']), (37, ['What are the four critical functions that a VPN needs to provide?']), (38, ['What is the basic concept of phishing?']), (39, ['What is the purpose of passwords in authentication?']), (40, ['What is the purpose of CRC (Cyclic Redundancy Check) in error detection?']), (41, ['What are the common password guidelines?']), (42, ['What are social engineering attacks and how do they rely on exploiting the human trust factor?']), (43, ['What is the process that refers to claiming an identity and is usually accompanied by a second stage called authentication?']), (44, ['What are the attack and countermeasure for Threat 3: Session Hijacking?']), (45, ['What is access control/authorization in the context of IT security?']), (46, ['Question: What are the conditions that allow a subject to read an object in the given rule?']), (47, ['What is the purpose of multitasking in an operating system?']), (48, ['What can be inferred about Bitcoin addresses of darknet vendors by exploiting metadata leaked by reviews and structural information of the market?']), (49, ['What is the purpose of Counter Mode in encryption?']), (50, ['What is the primary goal of Bitcoin?']), (51, ['What are the security requirements for a hash function?']), (52, ['What is a Distributed Denial of Service (DDoS) attack and how does it prevent a system from functioning correctly?']), (53, ['What are the requirements for transparency in data collection and processing?']), (54, ['What was the problem with the heartbeat extension that led to the Heartbleed bug?']), (55, ['What is the workflow of the Shared Key Authentication process?']), (56, ['What is the importance of availability in IT security and what is an example of an attack that can compromise availability?']), (57, ['What is the process of adding blocks to the blockchain and how is it executed by miners?']), (58, [\"Common Cryptographic Scenario\\nSelected Topics in IT-Security\\nProf. Dr. Frederik Armknecht - Chair of Computer Science IV \\n3\\nAlice Bob Unprotected Communication Channel\\nEve\\nEavesdropping\\n(belauschen)\\n\\nQuestion: In the given cryptographic scenario, what is the potential threat that Eve poses to Alice and Bob's communication?\"]), (59, ['What is the perturbative masking technique used for adding noise to the data?']), (60, ['Question: What are some common approaches/protocols used in IT-Security?']), (61, ['What are the different entities involved in the simple model of IT security?']), (62, ['What are the protocols that use the Advanced Encryption Standard (AES)?']), (63, ['What are the components of TKIP?']), (64, ['What is the relationship between HTTP and HTTPS?']), (65, ['What is the role-based access model and how is it defined?']), (66, ['What are the advantages and disadvantages of physical payment systems?']), (67, ['What is the threat associated with unauthorized access and does keeping the SSID secret help mitigate this threat?']), (68, ['What is the purpose of the Hypertext Transfer Protocol (HTTP) and what are its limitations in terms of data security?']), (69, ['What are the different types of viruses based on the objects they infect?']), (70, ['What is the impact of the Meltdown attack on the cache and how can it be exploited to leak information about forbidden memory?']), (71, ['What is the necessary condition for checking the authenticity of a transaction in the Bitcoin network?']), (72, ['What is the workflow of the public key encryption scheme?']), (73, ['What is the workflow of a symmetric key encryption scheme?']), (74, ['What is the potential security vulnerability described in the provided content?']), (75, ['What are some recommended actions to take if you are a victim of encryption?']), (76, ['What are the advantages and disadvantages of Mandatory Access Control (MAC)?']), (77, ['What is the purpose of the Authentication Header (AH) Protocol in transport mode?']), (78, ['What is the challenge being discussed in this content?']), (79, ['What are the stages of an attack in a social engineering attack?']), (80, ['What types of data are considered critical and should be protected against attacks?']), (81, ['What is the Heartbleed Bug and how does it work?']), (82, ['Question: How are messages encrypted in the sending messages system described in the content?']), (83, ['Question: What is the key agreement protocol?']), (84, ['What is the formal definition of an access matrix?']), (85, ['What are the three steps involved in generating synthetic data?']), (86, ['What is the intuition behind differential privacy and how does it ensure that an analyst cannot re-identify a record?']), (87, ['What are the two most relevant models for computer networks and what is the focus of this lecture?']), (88, ['What is a good method for creating passphrases?']), (89, ['What are the advantages of RBAC based on an access matrix?']), (90, ['What is e-mail spoofing and what are its motivations and applications?'])]\n"
     ]
    }
   ],
   "source": [
    "model_results = []\n",
    "# the chatGPT API is called and results are stored\n",
    "for index, row in content.iterrows():\n",
    "    if index >=0:\n",
    "        prompt = f\"\"\"\n",
    "        Generate a question in a flashcard style for the content delimited by triple backticks.\n",
    "        Take into account how exam questions are normally formulated and formulate the question accordingly.\n",
    "        ```{row['Page-Text']}```\n",
    "        Follow a similar style for generating the question as in this two examples:\n",
    "        1) Input: {goldstandard_train_val.loc[0, 'Page-Text']}, question: {goldstandard_train_val.loc[0, 'Question']}\n",
    "        2) Input: {goldstandard_train_val.loc[1, 'Page-Text']}, question: {goldstandard_train_val.loc[1, 'Question']}\n",
    "        \"\"\"\n",
    "        question = chat_gpt(prompt)\n",
    "        model_results.append((index, [question]))\n",
    "        print(\"Generated question for index \", index, \": \", question)\n",
    "        time.sleep(1)\n",
    "\n",
    "print(model_results)"
   ],
   "metadata": {
    "collapsed": false
   }
  },
  {
   "cell_type": "code",
   "execution_count": 44,
   "outputs": [],
   "source": [
    "# Save model_results to disk\n",
    "df_model_results = pd.DataFrame(model_results, columns=[\"Index\", \"Question\"])\n",
    "df_model_results.to_csv(\"./model_results/prompt7.csv\", index=False)\n",
    "\n",
    "# # restore model_results\n",
    "# df_model_results = pd.read_csv(\"./model_results/prompt7.csv\")\n",
    "# model_results = [(row[\"Index\"], [row[\"Question\"]]) for _, row in df_model_results.iterrows()]"
   ],
   "metadata": {
    "collapsed": false
   }
  },
  {
   "cell_type": "code",
   "execution_count": 48,
   "outputs": [
    {
     "data": {
      "text/plain": "91"
     },
     "execution_count": 48,
     "metadata": {},
     "output_type": "execute_result"
    }
   ],
   "source": [
    "len(model_results)"
   ],
   "metadata": {
    "collapsed": false
   }
  },
  {
   "cell_type": "code",
   "execution_count": 50,
   "outputs": [
    {
     "name": "stdout",
     "output_type": "stream",
     "text": [
      "huggingface/tokenizers: The current process just got forked, after parallelism has already been used. Disabling parallelism to avoid deadlocks...\n",
      "To disable this warning, you can either:\n",
      "\t- Avoid using `tokenizers` before the fork if possible\n",
      "\t- Explicitly set the environment variable TOKENIZERS_PARALLELISM=(true | false)\n",
      "huggingface/tokenizers: The current process just got forked, after parallelism has already been used. Disabling parallelism to avoid deadlocks...\n",
      "To disable this warning, you can either:\n",
      "\t- Avoid using `tokenizers` before the fork if possible\n",
      "\t- Explicitly set the environment variable TOKENIZERS_PARALLELISM=(true | false)\n",
      "huggingface/tokenizers: The current process just got forked, after parallelism has already been used. Disabling parallelism to avoid deadlocks...\n",
      "To disable this warning, you can either:\n",
      "\t- Avoid using `tokenizers` before the fork if possible\n",
      "\t- Explicitly set the environment variable TOKENIZERS_PARALLELISM=(true | false)\n",
      "huggingface/tokenizers: The current process just got forked, after parallelism has already been used. Disabling parallelism to avoid deadlocks...\n",
      "To disable this warning, you can either:\n",
      "\t- Avoid using `tokenizers` before the fork if possible\n",
      "\t- Explicitly set the environment variable TOKENIZERS_PARALLELISM=(true | false)\n",
      "huggingface/tokenizers: The current process just got forked, after parallelism has already been used. Disabling parallelism to avoid deadlocks...\n",
      "To disable this warning, you can either:\n",
      "\t- Avoid using `tokenizers` before the fork if possible\n",
      "\t- Explicitly set the environment variable TOKENIZERS_PARALLELISM=(true | false)\n",
      "huggingface/tokenizers: The current process just got forked, after parallelism has already been used. Disabling parallelism to avoid deadlocks...\n",
      "To disable this warning, you can either:\n",
      "\t- Avoid using `tokenizers` before the fork if possible\n",
      "\t- Explicitly set the environment variable TOKENIZERS_PARALLELISM=(true | false)\n",
      "huggingface/tokenizers: The current process just got forked, after parallelism has already been used. Disabling parallelism to avoid deadlocks...\n",
      "To disable this warning, you can either:\n",
      "\t- Avoid using `tokenizers` before the fork if possible\n",
      "\t- Explicitly set the environment variable TOKENIZERS_PARALLELISM=(true | false)\n",
      "huggingface/tokenizers: The current process just got forked, after parallelism has already been used. Disabling parallelism to avoid deadlocks...\n",
      "To disable this warning, you can either:\n",
      "\t- Avoid using `tokenizers` before the fork if possible\n",
      "\t- Explicitly set the environment variable TOKENIZERS_PARALLELISM=(true | false)\n",
      "huggingface/tokenizers: The current process just got forked, after parallelism has already been used. Disabling parallelism to avoid deadlocks...\n",
      "To disable this warning, you can either:\n",
      "\t- Avoid using `tokenizers` before the fork if possible\n",
      "\t- Explicitly set the environment variable TOKENIZERS_PARALLELISM=(true | false)\n",
      "huggingface/tokenizers: The current process just got forked, after parallelism has already been used. Disabling parallelism to avoid deadlocks...\n",
      "To disable this warning, you can either:\n",
      "\t- Avoid using `tokenizers` before the fork if possible\n",
      "\t- Explicitly set the environment variable TOKENIZERS_PARALLELISM=(true | false)\n",
      "huggingface/tokenizers: The current process just got forked, after parallelism has already been used. Disabling parallelism to avoid deadlocks...\n",
      "To disable this warning, you can either:\n",
      "\t- Avoid using `tokenizers` before the fork if possible\n",
      "\t- Explicitly set the environment variable TOKENIZERS_PARALLELISM=(true | false)\n",
      "huggingface/tokenizers: The current process just got forked, after parallelism has already been used. Disabling parallelism to avoid deadlocks...\n",
      "To disable this warning, you can either:\n",
      "\t- Avoid using `tokenizers` before the fork if possible\n",
      "\t- Explicitly set the environment variable TOKENIZERS_PARALLELISM=(true | false)\n",
      "huggingface/tokenizers: The current process just got forked, after parallelism has already been used. Disabling parallelism to avoid deadlocks...\n",
      "To disable this warning, you can either:\n",
      "\t- Avoid using `tokenizers` before the fork if possible\n",
      "\t- Explicitly set the environment variable TOKENIZERS_PARALLELISM=(true | false)\n",
      "huggingface/tokenizers: The current process just got forked, after parallelism has already been used. Disabling parallelism to avoid deadlocks...\n",
      "To disable this warning, you can either:\n",
      "\t- Avoid using `tokenizers` before the fork if possible\n",
      "\t- Explicitly set the environment variable TOKENIZERS_PARALLELISM=(true | false)\n"
     ]
    },
    {
     "name": "stderr",
     "output_type": "stream",
     "text": [
      "[nltk_data] Downloading package stopwords to\n",
      "[nltk_data]     /Users/I516258/nltk_data...\n",
      "[nltk_data]   Package stopwords is already up-to-date!\n"
     ]
    },
    {
     "name": "stdout",
     "output_type": "stream",
     "text": [
      "                 PUNCTUATION  GRAMMAR  CASING  MISC  rouge1_fmeasure  \\\n",
      "ChatGPT-Prompt7           17        1       1     1         0.435454   \n",
      "\n",
      "                 rouge1_precision  rouge1_recall  rouge2_fmeasure  \\\n",
      "ChatGPT-Prompt7          0.374773       0.610946          0.23359   \n",
      "\n",
      "                 rouge2_precision  rouge2_recall  ...  min_r    avg_f1  \\\n",
      "ChatGPT-Prompt7          0.198278       0.350348  ...    0.0  0.436784   \n",
      "\n",
      "                 max_f1  min_f1  avg_cos_sim  max_cos_sim  min_cos_sim  \\\n",
      "ChatGPT-Prompt7     1.0     0.0     0.689269     0.991066     0.060811   \n",
      "\n",
      "                 avg_sem_meteor  max_sem_meteor  min_sem_meteor  \n",
      "ChatGPT-Prompt7        0.496503         0.96699        0.073529  \n",
      "\n",
      "[1 rows x 31 columns]\n"
     ]
    }
   ],
   "source": [
    "# Performance is evaluated\n",
    "metrics = Metrics(save_to_file=True)\n",
    "result = pd.DataFrame(\n",
    "    metrics.evaluate(model_output=model_results, references=refs),\n",
    "    index=[\"ChatGPT-Prompt7\"]\n",
    ")\n",
    "print(result)"
   ],
   "metadata": {
    "collapsed": false
   }
  },
  {
   "cell_type": "markdown",
   "source": [],
   "metadata": {
    "collapsed": false
   }
  },
  {
   "cell_type": "code",
   "execution_count": null,
   "outputs": [],
   "source": [
    "#Playing with temperature\n",
    "model_results = []\n",
    "# the chatGPT API is called and results are stored\n",
    "for index, row in content.iterrows():\n",
    "    if index == 3:\n",
    "        break\n",
    "    prompt = f\"\"\"\n",
    "    Generate a question in a flashcard style for the content delimited by triple backticks.\n",
    "    ```{row['Page-Text']}```\n",
    "    \"\"\"\n",
    "    model_results.append((index, [chat_gpt(prompt, temperature=0.2)]))\n",
    "\n",
    "print(model_results)\n",
    "# Performance is evaluated\n",
    "metrics = Metrics(save_to_file=True)\n",
    "result = pd.DataFrame(\n",
    "    metrics.evaluate(model_output=model_results, references=refs[:3]),\n",
    "    index=[\"ChatGPT_Temp_Adjusted\"]\n",
    ")\n",
    "print(result)"
   ],
   "metadata": {
    "collapsed": false
   }
  }
 ],
 "metadata": {
  "kernelspec": {
   "display_name": "Python 3",
   "language": "python",
   "name": "python3"
  },
  "language_info": {
   "codemirror_mode": {
    "name": "ipython",
    "version": 2
   },
   "file_extension": ".py",
   "mimetype": "text/x-python",
   "name": "python",
   "nbconvert_exporter": "python",
   "pygments_lexer": "ipython2",
   "version": "2.7.6"
  }
 },
 "nbformat": 4,
 "nbformat_minor": 0
}
