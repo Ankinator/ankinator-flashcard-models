{
 "cells": [
  {
   "cell_type": "markdown",
   "source": [
    "# Notebook to convert the master labeling .csv to a compatible format for the Apple-VQG model"
   ],
   "metadata": {
    "collapsed": false
   }
  },
  {
   "cell_type": "code",
   "execution_count": 1,
   "metadata": {
    "collapsed": true,
    "ExecuteTime": {
     "end_time": "2023-07-26T13:36:26.149981Z",
     "start_time": "2023-07-26T13:36:20.978098Z"
    }
   },
   "outputs": [],
   "source": [
    "import pandas as pd\n",
    "from pypdfium2 import PdfDocument"
   ]
  },
  {
   "cell_type": "code",
   "execution_count": 2,
   "outputs": [
    {
     "data": {
      "text/plain": "                                      PDF-Name                       Topic  \\\n0                             ase_combined.pdf  Agile Software Engineering   \n1                             ase_combined.pdf  Agile Software Engineering   \n2                             ase_combined.pdf  Agile Software Engineering   \n3                             ase_combined.pdf  Agile Software Engineering   \n4                             ase_combined.pdf  Agile Software Engineering   \n...                                        ...                         ...   \n5734  it-security-all-slides_no_duplicates.pdf                 IT-Security   \n5735  it-security-all-slides_no_duplicates.pdf                 IT-Security   \n5736  it-security-all-slides_no_duplicates.pdf                 IT-Security   \n5737  it-security-all-slides_no_duplicates.pdf                 IT-Security   \n5738  it-security-all-slides_no_duplicates.pdf                 IT-Security   \n\n      Page Number Marked for processing Includes Image Data Includes formula  \\\n0               1                    No                 NaN              NaN   \n1               2                    No                 NaN              NaN   \n2               3                    No                 NaN              NaN   \n3               4                    No                 NaN              NaN   \n4               5                    No                  No               No   \n...           ...                   ...                 ...              ...   \n5734          592                   Yes                 Yes               No   \n5735          593                   Yes                 Yes              Yes   \n5736          594                   Yes                 Yes              Yes   \n5737          595                   Yes                 Yes              Yes   \n5738          596                   Yes                 Yes               No   \n\n                                             Question 1 Question 2 Question 3  \\\n0                                                   NaN        NaN        NaN   \n1                                                   NaN        NaN        NaN   \n2                                                   NaN        NaN        NaN   \n3                                                   NaN        NaN        NaN   \n4                                                   NaN        NaN        NaN   \n...                                                 ...        ...        ...   \n5734     What is the intuition of Differential Privacy?        NaN        NaN   \n5735    What is the definition of Differential Privacy?        NaN        NaN   \n5736   What is the parameter 𝜖 and the composition t...        NaN        NaN   \n5737   What is the Privacy Budget? What are challenges?        NaN        NaN   \n5738     How to make Algorithms Differentially Private?        NaN        NaN   \n\n                                     Title of the slide Type of Question  \\\n0                                                   NaN              NaN   \n1                                                   NaN              NaN   \n2                                                   NaN              NaN   \n3                                                   NaN              NaN   \n4                             Cost of Software Failures              NaN   \n...                                                 ...              ...   \n5734                    Differential Privacy\\nIntuition              NaN   \n5735  Differential Privacy\\nDefinition (Simplified V...              NaN   \n5736                                 On the Parameter 𝜺              NaN   \n5737                                     Privacy Budget              NaN   \n5738           Making Algorithms Differentially Private              NaN   \n\n     Comment  \n0        NaN  \n1        NaN  \n2        NaN  \n3        NaN  \n4        NaN  \n...      ...  \n5734     NaN  \n5735     NaN  \n5736     NaN  \n5737     NaN  \n5738     NaN  \n\n[5739 rows x 12 columns]",
      "text/html": "<div>\n<style scoped>\n    .dataframe tbody tr th:only-of-type {\n        vertical-align: middle;\n    }\n\n    .dataframe tbody tr th {\n        vertical-align: top;\n    }\n\n    .dataframe thead th {\n        text-align: right;\n    }\n</style>\n<table border=\"1\" class=\"dataframe\">\n  <thead>\n    <tr style=\"text-align: right;\">\n      <th></th>\n      <th>PDF-Name</th>\n      <th>Topic</th>\n      <th>Page Number</th>\n      <th>Marked for processing</th>\n      <th>Includes Image Data</th>\n      <th>Includes formula</th>\n      <th>Question 1</th>\n      <th>Question 2</th>\n      <th>Question 3</th>\n      <th>Title of the slide</th>\n      <th>Type of Question</th>\n      <th>Comment</th>\n    </tr>\n  </thead>\n  <tbody>\n    <tr>\n      <th>0</th>\n      <td>ase_combined.pdf</td>\n      <td>Agile Software Engineering</td>\n      <td>1</td>\n      <td>No</td>\n      <td>NaN</td>\n      <td>NaN</td>\n      <td>NaN</td>\n      <td>NaN</td>\n      <td>NaN</td>\n      <td>NaN</td>\n      <td>NaN</td>\n      <td>NaN</td>\n    </tr>\n    <tr>\n      <th>1</th>\n      <td>ase_combined.pdf</td>\n      <td>Agile Software Engineering</td>\n      <td>2</td>\n      <td>No</td>\n      <td>NaN</td>\n      <td>NaN</td>\n      <td>NaN</td>\n      <td>NaN</td>\n      <td>NaN</td>\n      <td>NaN</td>\n      <td>NaN</td>\n      <td>NaN</td>\n    </tr>\n    <tr>\n      <th>2</th>\n      <td>ase_combined.pdf</td>\n      <td>Agile Software Engineering</td>\n      <td>3</td>\n      <td>No</td>\n      <td>NaN</td>\n      <td>NaN</td>\n      <td>NaN</td>\n      <td>NaN</td>\n      <td>NaN</td>\n      <td>NaN</td>\n      <td>NaN</td>\n      <td>NaN</td>\n    </tr>\n    <tr>\n      <th>3</th>\n      <td>ase_combined.pdf</td>\n      <td>Agile Software Engineering</td>\n      <td>4</td>\n      <td>No</td>\n      <td>NaN</td>\n      <td>NaN</td>\n      <td>NaN</td>\n      <td>NaN</td>\n      <td>NaN</td>\n      <td>NaN</td>\n      <td>NaN</td>\n      <td>NaN</td>\n    </tr>\n    <tr>\n      <th>4</th>\n      <td>ase_combined.pdf</td>\n      <td>Agile Software Engineering</td>\n      <td>5</td>\n      <td>No</td>\n      <td>No</td>\n      <td>No</td>\n      <td>NaN</td>\n      <td>NaN</td>\n      <td>NaN</td>\n      <td>Cost of Software Failures</td>\n      <td>NaN</td>\n      <td>NaN</td>\n    </tr>\n    <tr>\n      <th>...</th>\n      <td>...</td>\n      <td>...</td>\n      <td>...</td>\n      <td>...</td>\n      <td>...</td>\n      <td>...</td>\n      <td>...</td>\n      <td>...</td>\n      <td>...</td>\n      <td>...</td>\n      <td>...</td>\n      <td>...</td>\n    </tr>\n    <tr>\n      <th>5734</th>\n      <td>it-security-all-slides_no_duplicates.pdf</td>\n      <td>IT-Security</td>\n      <td>592</td>\n      <td>Yes</td>\n      <td>Yes</td>\n      <td>No</td>\n      <td>What is the intuition of Differential Privacy?</td>\n      <td>NaN</td>\n      <td>NaN</td>\n      <td>Differential Privacy\\nIntuition</td>\n      <td>NaN</td>\n      <td>NaN</td>\n    </tr>\n    <tr>\n      <th>5735</th>\n      <td>it-security-all-slides_no_duplicates.pdf</td>\n      <td>IT-Security</td>\n      <td>593</td>\n      <td>Yes</td>\n      <td>Yes</td>\n      <td>Yes</td>\n      <td>What is the definition of Differential Privacy?</td>\n      <td>NaN</td>\n      <td>NaN</td>\n      <td>Differential Privacy\\nDefinition (Simplified V...</td>\n      <td>NaN</td>\n      <td>NaN</td>\n    </tr>\n    <tr>\n      <th>5736</th>\n      <td>it-security-all-slides_no_duplicates.pdf</td>\n      <td>IT-Security</td>\n      <td>594</td>\n      <td>Yes</td>\n      <td>Yes</td>\n      <td>Yes</td>\n      <td>What is the parameter 𝜖 and the composition t...</td>\n      <td>NaN</td>\n      <td>NaN</td>\n      <td>On the Parameter 𝜺</td>\n      <td>NaN</td>\n      <td>NaN</td>\n    </tr>\n    <tr>\n      <th>5737</th>\n      <td>it-security-all-slides_no_duplicates.pdf</td>\n      <td>IT-Security</td>\n      <td>595</td>\n      <td>Yes</td>\n      <td>Yes</td>\n      <td>Yes</td>\n      <td>What is the Privacy Budget? What are challenges?</td>\n      <td>NaN</td>\n      <td>NaN</td>\n      <td>Privacy Budget</td>\n      <td>NaN</td>\n      <td>NaN</td>\n    </tr>\n    <tr>\n      <th>5738</th>\n      <td>it-security-all-slides_no_duplicates.pdf</td>\n      <td>IT-Security</td>\n      <td>596</td>\n      <td>Yes</td>\n      <td>Yes</td>\n      <td>No</td>\n      <td>How to make Algorithms Differentially Private?</td>\n      <td>NaN</td>\n      <td>NaN</td>\n      <td>Making Algorithms Differentially Private</td>\n      <td>NaN</td>\n      <td>NaN</td>\n    </tr>\n  </tbody>\n</table>\n<p>5739 rows × 12 columns</p>\n</div>"
     },
     "execution_count": 2,
     "metadata": {},
     "output_type": "execute_result"
    }
   ],
   "source": [
    "data_df = pd.read_csv(\"../../../datasets/master/Dataset_Master.csv\")\n",
    "data_df"
   ],
   "metadata": {
    "collapsed": false,
    "ExecuteTime": {
     "end_time": "2023-07-26T13:36:27.524629Z",
     "start_time": "2023-07-26T13:36:27.475874Z"
    }
   }
  },
  {
   "cell_type": "code",
   "execution_count": 3,
   "outputs": [
    {
     "data": {
      "text/plain": "array(['ase_combined.pdf', 'corporate_knowledge_management_combined.pdf',\n       'data_mining_combined.pdf', 'database_dhbw_combined.pdf',\n       'decision_support_combined.pdf',\n       'information_retrieval_combined.pdf', 'large_scale_combined.pdf',\n       'leadership_combined.pdf', 'machine_learning_combined.pdf',\n       'management_enterprise_combined.pdf',\n       'network_science_combined.pdf', 'project_management_combined.pdf',\n       'it-security-all-slides_no_duplicates.pdf'], dtype=object)"
     },
     "execution_count": 3,
     "metadata": {},
     "output_type": "execute_result"
    }
   ],
   "source": [
    "data_df[\"PDF-Name\"].unique()"
   ],
   "metadata": {
    "collapsed": false,
    "ExecuteTime": {
     "end_time": "2023-07-26T13:36:29.898914Z",
     "start_time": "2023-07-26T13:36:29.891287Z"
    }
   }
  },
  {
   "cell_type": "code",
   "execution_count": 4,
   "outputs": [
    {
     "data": {
      "text/plain": "                                      PDF-Name  Page Number  \\\n5                             ase_combined.pdf            6   \n6                             ase_combined.pdf            7   \n7                             ase_combined.pdf            8   \n8                             ase_combined.pdf            9   \n9                             ase_combined.pdf           10   \n...                                        ...          ...   \n5734  it-security-all-slides_no_duplicates.pdf          592   \n5735  it-security-all-slides_no_duplicates.pdf          593   \n5736  it-security-all-slides_no_duplicates.pdf          594   \n5737  it-security-all-slides_no_duplicates.pdf          595   \n5738  it-security-all-slides_no_duplicates.pdf          596   \n\n                                             Question 1  \\\n5     What is the definition of Verification and Val...   \n6     What are the goals of verification and validat...   \n7               What is static and what is dynamic V&V?   \n8     How the relative cost of fixing defects behave...   \n9                     What is model-driven development?   \n...                                                 ...   \n5734     What is the intuition of Differential Privacy?   \n5735    What is the definition of Differential Privacy?   \n5736   What is the parameter 𝜖 and the composition t...   \n5737   What is the Privacy Budget? What are challenges?   \n5738     How to make Algorithms Differentially Private?   \n\n                                             Question 2 Question 3  \\\n5     What are the objectives of Verification and Va...        NaN   \n6      On what does verification and validation depend?        NaN   \n7     How does static V&V differentiate from dynamic...        NaN   \n8                                                   NaN        NaN   \n9                                                   NaN        NaN   \n...                                                 ...        ...   \n5734                                                NaN        NaN   \n5735                                                NaN        NaN   \n5736                                                NaN        NaN   \n5737                                                NaN        NaN   \n5738                                                NaN        NaN   \n\n                                     Title of the slide  \n5                     Verification and Validation (V&V)  \n6                                             V&V Goals  \n7                             Static versus Dynamic V&V  \n8                       Relative Cost of Fixing Defects  \n9                              Model-Driven Development  \n...                                                 ...  \n5734                    Differential Privacy\\nIntuition  \n5735  Differential Privacy\\nDefinition (Simplified V...  \n5736                                 On the Parameter 𝜺  \n5737                                     Privacy Budget  \n5738           Making Algorithms Differentially Private  \n\n[2182 rows x 6 columns]",
      "text/html": "<div>\n<style scoped>\n    .dataframe tbody tr th:only-of-type {\n        vertical-align: middle;\n    }\n\n    .dataframe tbody tr th {\n        vertical-align: top;\n    }\n\n    .dataframe thead th {\n        text-align: right;\n    }\n</style>\n<table border=\"1\" class=\"dataframe\">\n  <thead>\n    <tr style=\"text-align: right;\">\n      <th></th>\n      <th>PDF-Name</th>\n      <th>Page Number</th>\n      <th>Question 1</th>\n      <th>Question 2</th>\n      <th>Question 3</th>\n      <th>Title of the slide</th>\n    </tr>\n  </thead>\n  <tbody>\n    <tr>\n      <th>5</th>\n      <td>ase_combined.pdf</td>\n      <td>6</td>\n      <td>What is the definition of Verification and Val...</td>\n      <td>What are the objectives of Verification and Va...</td>\n      <td>NaN</td>\n      <td>Verification and Validation (V&amp;V)</td>\n    </tr>\n    <tr>\n      <th>6</th>\n      <td>ase_combined.pdf</td>\n      <td>7</td>\n      <td>What are the goals of verification and validat...</td>\n      <td>On what does verification and validation depend?</td>\n      <td>NaN</td>\n      <td>V&amp;V Goals</td>\n    </tr>\n    <tr>\n      <th>7</th>\n      <td>ase_combined.pdf</td>\n      <td>8</td>\n      <td>What is static and what is dynamic V&amp;V?</td>\n      <td>How does static V&amp;V differentiate from dynamic...</td>\n      <td>NaN</td>\n      <td>Static versus Dynamic V&amp;V</td>\n    </tr>\n    <tr>\n      <th>8</th>\n      <td>ase_combined.pdf</td>\n      <td>9</td>\n      <td>How the relative cost of fixing defects behave...</td>\n      <td>NaN</td>\n      <td>NaN</td>\n      <td>Relative Cost of Fixing Defects</td>\n    </tr>\n    <tr>\n      <th>9</th>\n      <td>ase_combined.pdf</td>\n      <td>10</td>\n      <td>What is model-driven development?</td>\n      <td>NaN</td>\n      <td>NaN</td>\n      <td>Model-Driven Development</td>\n    </tr>\n    <tr>\n      <th>...</th>\n      <td>...</td>\n      <td>...</td>\n      <td>...</td>\n      <td>...</td>\n      <td>...</td>\n      <td>...</td>\n    </tr>\n    <tr>\n      <th>5734</th>\n      <td>it-security-all-slides_no_duplicates.pdf</td>\n      <td>592</td>\n      <td>What is the intuition of Differential Privacy?</td>\n      <td>NaN</td>\n      <td>NaN</td>\n      <td>Differential Privacy\\nIntuition</td>\n    </tr>\n    <tr>\n      <th>5735</th>\n      <td>it-security-all-slides_no_duplicates.pdf</td>\n      <td>593</td>\n      <td>What is the definition of Differential Privacy?</td>\n      <td>NaN</td>\n      <td>NaN</td>\n      <td>Differential Privacy\\nDefinition (Simplified V...</td>\n    </tr>\n    <tr>\n      <th>5736</th>\n      <td>it-security-all-slides_no_duplicates.pdf</td>\n      <td>594</td>\n      <td>What is the parameter 𝜖 and the composition t...</td>\n      <td>NaN</td>\n      <td>NaN</td>\n      <td>On the Parameter 𝜺</td>\n    </tr>\n    <tr>\n      <th>5737</th>\n      <td>it-security-all-slides_no_duplicates.pdf</td>\n      <td>595</td>\n      <td>What is the Privacy Budget? What are challenges?</td>\n      <td>NaN</td>\n      <td>NaN</td>\n      <td>Privacy Budget</td>\n    </tr>\n    <tr>\n      <th>5738</th>\n      <td>it-security-all-slides_no_duplicates.pdf</td>\n      <td>596</td>\n      <td>How to make Algorithms Differentially Private?</td>\n      <td>NaN</td>\n      <td>NaN</td>\n      <td>Making Algorithms Differentially Private</td>\n    </tr>\n  </tbody>\n</table>\n<p>2182 rows × 6 columns</p>\n</div>"
     },
     "execution_count": 4,
     "metadata": {},
     "output_type": "execute_result"
    }
   ],
   "source": [
    "data_df = data_df.dropna(subset=\"Question 1\").drop(columns=[\"Topic\", \"Marked for processing\", \"Includes Image Data\", \"Includes formula\", \"Type of Question\", \"Comment\"])\n",
    "data_df"
   ],
   "metadata": {
    "collapsed": false,
    "ExecuteTime": {
     "end_time": "2023-07-26T13:36:33.587220Z",
     "start_time": "2023-07-26T13:36:33.564706Z"
    }
   }
  },
  {
   "cell_type": "code",
   "execution_count": null,
   "outputs": [
    {
     "name": "stderr",
     "output_type": "stream",
     "text": [
      "100%|██████████| 244/244 [00:05<00:00, 41.21it/s]\n",
      "100%|██████████| 455/455 [00:12<00:00, 35.07it/s]\n",
      "100%|██████████| 313/313 [00:07<00:00, 41.73it/s] \n",
      "100%|██████████| 375/375 [00:15<00:00, 24.98it/s]\n",
      "100%|██████████| 548/548 [00:18<00:00, 29.65it/s]\n",
      "100%|██████████| 182/182 [00:07<00:00, 25.67it/s]\n",
      "100%|██████████| 479/479 [00:03<00:00, 157.39it/s]\n",
      "100%|██████████| 755/755 [00:01<00:00, 470.02it/s]\n",
      "100%|██████████| 596/596 [00:42<00:00, 14.02it/s]\n"
     ]
    }
   ],
   "source": [
    "from src.image_to_text.data_preprocessing.util import extract_text\n",
    "from tqdm import tqdm\n",
    "import os\n",
    "\n",
    "# TODO: Kernel dies after slide-deck 9\n",
    "\n",
    "pdf_paths = [os.path.join(\"../../../datasets/master/\", pdf_slides) for pdf_slides in data_df[\"PDF-Name\"].unique()]\n",
    "image_ids = []\n",
    "for pdf_path in pdf_paths:\n",
    "\n",
    "    pdf_name = os.path.split(pdf_path)[-1]\n",
    "    allowed_page_numbers = data_df.loc[data_df[\"PDF-Name\"] == pdf_name][\"Page Number\"].to_list()\n",
    "\n",
    "    pdf = PdfDocument(pdf_path)\n",
    "    extracted_contents = extract_text(pdf.raw)\n",
    "\n",
    "    for t in tqdm(extracted_contents):\n",
    "        if t[0] in allowed_page_numbers:\n",
    "            image_id = f\"{pdf_name[:-4]}_{t[0]}\"\n",
    "            image_ids.append(image_id)\n",
    "            t[3].save(f\"../../../datasets/master/images/{image_id}.png\")\n",
    "\n",
    "data_df[\"image_id\"] = image_ids\n",
    "data_df"
   ],
   "metadata": {
    "collapsed": false,
    "ExecuteTime": {
     "start_time": "2023-07-26T13:36:36.100633Z"
    }
   }
  }
 ],
 "metadata": {
  "kernelspec": {
   "display_name": "Python 3",
   "language": "python",
   "name": "python3"
  },
  "language_info": {
   "codemirror_mode": {
    "name": "ipython",
    "version": 2
   },
   "file_extension": ".py",
   "mimetype": "text/x-python",
   "name": "python",
   "nbconvert_exporter": "python",
   "pygments_lexer": "ipython2",
   "version": "2.7.6"
  }
 },
 "nbformat": 4,
 "nbformat_minor": 0
}
