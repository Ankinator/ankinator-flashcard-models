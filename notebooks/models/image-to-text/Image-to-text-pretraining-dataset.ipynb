{
 "cells": [
  {
   "cell_type": "markdown",
   "source": [
    "# Dataset generation for Image-to-Text from Text-to-Text examples"
   ],
   "metadata": {
    "collapsed": false
   }
  },
  {
   "cell_type": "code",
   "execution_count": 3,
   "metadata": {
    "collapsed": true,
    "ExecuteTime": {
     "start_time": "2023-04-18T16:43:36.348227Z",
     "end_time": "2023-04-18T16:43:39.596053Z"
    }
   },
   "outputs": [],
   "source": [
    "import jinja2\n",
    "import os\n",
    "import pandas as pd\n",
    "from ankipandas import Collection"
   ]
  },
  {
   "cell_type": "code",
   "execution_count": 19,
   "outputs": [],
   "source": [
    "latex_jinja_env = jinja2.Environment(\n",
    "\tblock_start_string = '\\BLOCK{',\n",
    "\tblock_end_string = '}',\n",
    "\tvariable_start_string = '\\VAR{',\n",
    "\tvariable_end_string = '}',\n",
    "\tcomment_start_string = '\\#{',\n",
    "\tcomment_end_string = '}',\n",
    "\tline_statement_prefix = '%%%&',\n",
    "\tline_comment_prefix = '%#',\n",
    "\ttrim_blocks = True,\n",
    "\tautoescape = False,\n",
    "\tloader = jinja2.FileSystemLoader(\"/Users/I516998/Documents/uni - mannheim/ankinator/ankinator-flashcard-models/ressources/image-to-text-templates/\"))"
   ],
   "metadata": {
    "collapsed": false,
    "ExecuteTime": {
     "start_time": "2023-04-18T16:54:02.390104Z",
     "end_time": "2023-04-18T16:54:02.399058Z"
    }
   }
  },
  {
   "cell_type": "code",
   "execution_count": 5,
   "outputs": [
    {
     "name": "stderr",
     "output_type": "stream",
     "text": [
      "\u001B[32mINFO: Searching for database. This might take some time. You can speed this up by specifying a search path or directly entering the path to your database.\u001B[0m\n",
      "\u001B[33mWARNING: The search will stop at the first hit, so please verify that the result is correct (for example in case there might be more than one Anki installation)\u001B[0m\n"
     ]
    },
    {
     "data": {
      "text/plain": "               nguid        nmod  nusn ntags  \\\nnid                                            \n1602000315721  OC}<1  1602000342    -1    []   \n1602000342440  @e6AP  1602000365    -1    []   \n1602000391625  {]}%I  1602000443    -1    []   \n1602000443718  Q%8GO  1602000460    -1    []   \n1602000460567   Dkmc  1602000479    -1    []   \n...              ...         ...   ...   ...   \n1677937216242  C4J?7  1677938427    -1    []   \n1677938427446  w!Jw8  1677939124    -1    []   \n1677939124208  U:G#5  1677939220    -1    []   \n1677939220992  -u^ML  1677939386    -1    []   \n1677939386924  }H@9D  1677939879    -1    []   \n\n                                                           nflds    nmodel  \nnid                                                                         \n1602000315721                                      [Ananas, 620]  Standard  \n1602000342440                             [Apfel grün, lose, 11]  Standard  \n1602000391625                [Apfel rot, süß-säuerlich lose, 58]  Standard  \n1602000443718                              [Aprikosen, lose, 40]  Standard  \n1602000460567                              [Avocado, Stück, 621]  Standard  \n...                                                          ...       ...  \n1677937216242  [Nennen sie die 2 Strategien der Beurteilung v...  Standard  \n1677938427446  [Berufskrankheit, Liegt vor, wenn eine versich...  Standard  \n1677939124208  [Aufgaben der Berufsgenossenschsften, Präventi...  Standard  \n1677939220992  [Definition Arbeitsunfall, Wenn eine versicher...  Standard  \n1677939386924  [Stab-Linie Modell, <img src=\"img5018538578624...  Standard  \n\n[1806 rows x 6 columns]",
      "text/html": "<div>\n<style scoped>\n    .dataframe tbody tr th:only-of-type {\n        vertical-align: middle;\n    }\n\n    .dataframe tbody tr th {\n        vertical-align: top;\n    }\n\n    .dataframe thead th {\n        text-align: right;\n    }\n</style>\n<table border=\"1\" class=\"dataframe\">\n  <thead>\n    <tr style=\"text-align: right;\">\n      <th></th>\n      <th>nguid</th>\n      <th>nmod</th>\n      <th>nusn</th>\n      <th>ntags</th>\n      <th>nflds</th>\n      <th>nmodel</th>\n    </tr>\n    <tr>\n      <th>nid</th>\n      <th></th>\n      <th></th>\n      <th></th>\n      <th></th>\n      <th></th>\n      <th></th>\n    </tr>\n  </thead>\n  <tbody>\n    <tr>\n      <th>1602000315721</th>\n      <td>OC}&lt;1</td>\n      <td>1602000342</td>\n      <td>-1</td>\n      <td>[]</td>\n      <td>[Ananas, 620]</td>\n      <td>Standard</td>\n    </tr>\n    <tr>\n      <th>1602000342440</th>\n      <td>@e6AP</td>\n      <td>1602000365</td>\n      <td>-1</td>\n      <td>[]</td>\n      <td>[Apfel grün, lose, 11]</td>\n      <td>Standard</td>\n    </tr>\n    <tr>\n      <th>1602000391625</th>\n      <td>{]}%I</td>\n      <td>1602000443</td>\n      <td>-1</td>\n      <td>[]</td>\n      <td>[Apfel rot, süß-säuerlich lose, 58]</td>\n      <td>Standard</td>\n    </tr>\n    <tr>\n      <th>1602000443718</th>\n      <td>Q%8GO</td>\n      <td>1602000460</td>\n      <td>-1</td>\n      <td>[]</td>\n      <td>[Aprikosen, lose, 40]</td>\n      <td>Standard</td>\n    </tr>\n    <tr>\n      <th>1602000460567</th>\n      <td>Dkmc</td>\n      <td>1602000479</td>\n      <td>-1</td>\n      <td>[]</td>\n      <td>[Avocado, Stück, 621]</td>\n      <td>Standard</td>\n    </tr>\n    <tr>\n      <th>...</th>\n      <td>...</td>\n      <td>...</td>\n      <td>...</td>\n      <td>...</td>\n      <td>...</td>\n      <td>...</td>\n    </tr>\n    <tr>\n      <th>1677937216242</th>\n      <td>C4J?7</td>\n      <td>1677938427</td>\n      <td>-1</td>\n      <td>[]</td>\n      <td>[Nennen sie die 2 Strategien der Beurteilung v...</td>\n      <td>Standard</td>\n    </tr>\n    <tr>\n      <th>1677938427446</th>\n      <td>w!Jw8</td>\n      <td>1677939124</td>\n      <td>-1</td>\n      <td>[]</td>\n      <td>[Berufskrankheit, Liegt vor, wenn eine versich...</td>\n      <td>Standard</td>\n    </tr>\n    <tr>\n      <th>1677939124208</th>\n      <td>U:G#5</td>\n      <td>1677939220</td>\n      <td>-1</td>\n      <td>[]</td>\n      <td>[Aufgaben der Berufsgenossenschsften, Präventi...</td>\n      <td>Standard</td>\n    </tr>\n    <tr>\n      <th>1677939220992</th>\n      <td>-u^ML</td>\n      <td>1677939386</td>\n      <td>-1</td>\n      <td>[]</td>\n      <td>[Definition Arbeitsunfall, Wenn eine versicher...</td>\n      <td>Standard</td>\n    </tr>\n    <tr>\n      <th>1677939386924</th>\n      <td>}H@9D</td>\n      <td>1677939879</td>\n      <td>-1</td>\n      <td>[]</td>\n      <td>[Stab-Linie Modell, &lt;img src=\"img5018538578624...</td>\n      <td>Standard</td>\n    </tr>\n  </tbody>\n</table>\n<p>1806 rows × 6 columns</p>\n</div>"
     },
     "execution_count": 5,
     "metadata": {},
     "output_type": "execute_result"
    }
   ],
   "source": [
    "col = Collection()\n",
    "col.notes"
   ],
   "metadata": {
    "collapsed": false,
    "ExecuteTime": {
     "start_time": "2023-04-18T16:44:28.407857Z",
     "end_time": "2023-04-18T16:44:28.795782Z"
    }
   }
  },
  {
   "cell_type": "code",
   "execution_count": 6,
   "outputs": [
    {
     "data": {
      "text/plain": "['Apfel rot, süß-säuerlich lose', '58']"
     },
     "execution_count": 6,
     "metadata": {},
     "output_type": "execute_result"
    }
   ],
   "source": [
    "col.notes.nflds.iloc[2]"
   ],
   "metadata": {
    "collapsed": false,
    "ExecuteTime": {
     "start_time": "2023-04-18T16:45:28.822187Z",
     "end_time": "2023-04-18T16:45:28.828780Z"
    }
   }
  },
  {
   "cell_type": "code",
   "execution_count": 14,
   "outputs": [
    {
     "data": {
      "text/plain": "                                                           nflds\nnid                                                             \n1602000315721                                      [Ananas, 620]\n1602000342440                             [Apfel grün, lose, 11]\n1602000391625                [Apfel rot, süß-säuerlich lose, 58]\n1602000443718                              [Aprikosen, lose, 40]\n1602000460567                              [Avocado, Stück, 621]\n...                                                          ...\n1677937216242  [Nennen sie die 2 Strategien der Beurteilung v...\n1677938427446  [Berufskrankheit, Liegt vor, wenn eine versich...\n1677939124208  [Aufgaben der Berufsgenossenschsften, Präventi...\n1677939220992  [Definition Arbeitsunfall, Wenn eine versicher...\n1677939386924  [Stab-Linie Modell, <img src=\"img5018538578624...\n\n[1806 rows x 1 columns]",
      "text/html": "<div>\n<style scoped>\n    .dataframe tbody tr th:only-of-type {\n        vertical-align: middle;\n    }\n\n    .dataframe tbody tr th {\n        vertical-align: top;\n    }\n\n    .dataframe thead th {\n        text-align: right;\n    }\n</style>\n<table border=\"1\" class=\"dataframe\">\n  <thead>\n    <tr style=\"text-align: right;\">\n      <th></th>\n      <th>nflds</th>\n    </tr>\n    <tr>\n      <th>nid</th>\n      <th></th>\n    </tr>\n  </thead>\n  <tbody>\n    <tr>\n      <th>1602000315721</th>\n      <td>[Ananas, 620]</td>\n    </tr>\n    <tr>\n      <th>1602000342440</th>\n      <td>[Apfel grün, lose, 11]</td>\n    </tr>\n    <tr>\n      <th>1602000391625</th>\n      <td>[Apfel rot, süß-säuerlich lose, 58]</td>\n    </tr>\n    <tr>\n      <th>1602000443718</th>\n      <td>[Aprikosen, lose, 40]</td>\n    </tr>\n    <tr>\n      <th>1602000460567</th>\n      <td>[Avocado, Stück, 621]</td>\n    </tr>\n    <tr>\n      <th>...</th>\n      <td>...</td>\n    </tr>\n    <tr>\n      <th>1677937216242</th>\n      <td>[Nennen sie die 2 Strategien der Beurteilung v...</td>\n    </tr>\n    <tr>\n      <th>1677938427446</th>\n      <td>[Berufskrankheit, Liegt vor, wenn eine versich...</td>\n    </tr>\n    <tr>\n      <th>1677939124208</th>\n      <td>[Aufgaben der Berufsgenossenschsften, Präventi...</td>\n    </tr>\n    <tr>\n      <th>1677939220992</th>\n      <td>[Definition Arbeitsunfall, Wenn eine versicher...</td>\n    </tr>\n    <tr>\n      <th>1677939386924</th>\n      <td>[Stab-Linie Modell, &lt;img src=\"img5018538578624...</td>\n    </tr>\n  </tbody>\n</table>\n<p>1806 rows × 1 columns</p>\n</div>"
     },
     "execution_count": 14,
     "metadata": {},
     "output_type": "execute_result"
    }
   ],
   "source": [
    "df = pd.DataFrame(col.notes.nflds)\n",
    "df"
   ],
   "metadata": {
    "collapsed": false,
    "ExecuteTime": {
     "start_time": "2023-04-18T16:50:03.510282Z",
     "end_time": "2023-04-18T16:50:03.513827Z"
    }
   }
  },
  {
   "cell_type": "code",
   "execution_count": 33,
   "outputs": [
    {
     "data": {
      "text/plain": "                                                           nflds  \\\nnid                                                                \n1602000315721                                      [Ananas, 620]   \n1602000342440                             [Apfel grün, lose, 11]   \n1602000391625                [Apfel rot, süß-säuerlich lose, 58]   \n1602000443718                              [Aprikosen, lose, 40]   \n1602000460567                              [Avocado, Stück, 621]   \n...                                                          ...   \n1677937216242  [Nennen sie die 2 Strategien der Beurteilung v...   \n1677938427446  [Berufskrankheit, Liegt vor, wenn eine versich...   \n1677939124208  [Aufgaben der Berufsgenossenschsften, Präventi...   \n1677939220992  [Definition Arbeitsunfall, Wenn eine versicher...   \n1677939386924  [Stab-Linie Modell, <img src=\"img5018538578624...   \n\n                                                          answer  \nnid                                                               \n1602000315721                                              [620]  \n1602000342440                                               [11]  \n1602000391625                                               [58]  \n1602000443718                                               [40]  \n1602000460567                                              [621]  \n...                                                          ...  \n1677937216242                             [Präventiv, Korrektiv]  \n1677938427446  [Liegt vor, wenn eine versicherte Person wühre...  \n1677939124208       [Prävention, Rehabilitation, Entschädigung ]  \n1677939220992  [Wenn eine versicherte Person sich bei einer v...  \n1677939386924  [<img src=\"img5018538578624065929.jpg\">, Fachk...  \n\n[1806 rows x 2 columns]",
      "text/html": "<div>\n<style scoped>\n    .dataframe tbody tr th:only-of-type {\n        vertical-align: middle;\n    }\n\n    .dataframe tbody tr th {\n        vertical-align: top;\n    }\n\n    .dataframe thead th {\n        text-align: right;\n    }\n</style>\n<table border=\"1\" class=\"dataframe\">\n  <thead>\n    <tr style=\"text-align: right;\">\n      <th></th>\n      <th>nflds</th>\n      <th>answer</th>\n    </tr>\n    <tr>\n      <th>nid</th>\n      <th></th>\n      <th></th>\n    </tr>\n  </thead>\n  <tbody>\n    <tr>\n      <th>1602000315721</th>\n      <td>[Ananas, 620]</td>\n      <td>[620]</td>\n    </tr>\n    <tr>\n      <th>1602000342440</th>\n      <td>[Apfel grün, lose, 11]</td>\n      <td>[11]</td>\n    </tr>\n    <tr>\n      <th>1602000391625</th>\n      <td>[Apfel rot, süß-säuerlich lose, 58]</td>\n      <td>[58]</td>\n    </tr>\n    <tr>\n      <th>1602000443718</th>\n      <td>[Aprikosen, lose, 40]</td>\n      <td>[40]</td>\n    </tr>\n    <tr>\n      <th>1602000460567</th>\n      <td>[Avocado, Stück, 621]</td>\n      <td>[621]</td>\n    </tr>\n    <tr>\n      <th>...</th>\n      <td>...</td>\n      <td>...</td>\n    </tr>\n    <tr>\n      <th>1677937216242</th>\n      <td>[Nennen sie die 2 Strategien der Beurteilung v...</td>\n      <td>[Präventiv, Korrektiv]</td>\n    </tr>\n    <tr>\n      <th>1677938427446</th>\n      <td>[Berufskrankheit, Liegt vor, wenn eine versich...</td>\n      <td>[Liegt vor, wenn eine versicherte Person wühre...</td>\n    </tr>\n    <tr>\n      <th>1677939124208</th>\n      <td>[Aufgaben der Berufsgenossenschsften, Präventi...</td>\n      <td>[Prävention, Rehabilitation, Entschädigung ]</td>\n    </tr>\n    <tr>\n      <th>1677939220992</th>\n      <td>[Definition Arbeitsunfall, Wenn eine versicher...</td>\n      <td>[Wenn eine versicherte Person sich bei einer v...</td>\n    </tr>\n    <tr>\n      <th>1677939386924</th>\n      <td>[Stab-Linie Modell, &lt;img src=\"img5018538578624...</td>\n      <td>[&lt;img src=\"img5018538578624065929.jpg\"&gt;, Fachk...</td>\n    </tr>\n  </tbody>\n</table>\n<p>1806 rows × 2 columns</p>\n</div>"
     },
     "execution_count": 33,
     "metadata": {},
     "output_type": "execute_result"
    }
   ],
   "source": [
    "df[\"answer\"] = df.nflds.apply(lambda x: [i for i in x[1].split(\"<br>\") if i != \"\"])\n",
    "df"
   ],
   "metadata": {
    "collapsed": false,
    "ExecuteTime": {
     "start_time": "2023-04-18T17:08:23.148126Z",
     "end_time": "2023-04-18T17:08:23.152526Z"
    }
   }
  },
  {
   "cell_type": "code",
   "execution_count": 39,
   "outputs": [],
   "source": [
    "template = latex_jinja_env.get_template('Beamer/main.tex')\n",
    "render = template.render(data=df[:150])\n",
    "with open(\"test.tex\", \"w\") as f:\n",
    "\tf.write(render)"
   ],
   "metadata": {
    "collapsed": false,
    "ExecuteTime": {
     "start_time": "2023-04-18T17:30:14.305189Z",
     "end_time": "2023-04-18T17:30:14.307612Z"
    }
   }
  }
 ],
 "metadata": {
  "kernelspec": {
   "display_name": "Python 3",
   "language": "python",
   "name": "python3"
  },
  "language_info": {
   "codemirror_mode": {
    "name": "ipython",
    "version": 2
   },
   "file_extension": ".py",
   "mimetype": "text/x-python",
   "name": "python",
   "nbconvert_exporter": "python",
   "pygments_lexer": "ipython2",
   "version": "2.7.6"
  }
 },
 "nbformat": 4,
 "nbformat_minor": 0
}
