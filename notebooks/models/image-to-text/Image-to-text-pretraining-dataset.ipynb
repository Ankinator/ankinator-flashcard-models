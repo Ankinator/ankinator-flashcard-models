{
 "cells": [
  {
   "cell_type": "markdown",
   "source": [
    "# Dataset generation for Image-to-Text from Text-to-Text examples"
   ],
   "metadata": {
    "collapsed": false
   }
  },
  {
   "cell_type": "code",
   "execution_count": 1,
   "metadata": {
    "collapsed": true,
    "ExecuteTime": {
     "start_time": "2023-04-19T13:25:25.109018Z",
     "end_time": "2023-04-19T13:25:35.822528Z"
    }
   },
   "outputs": [],
   "source": [
    "import jinja2\n",
    "import os\n",
    "import pandas as pd\n",
    "from ankipandas import Collection"
   ]
  },
  {
   "cell_type": "code",
   "execution_count": 2,
   "outputs": [],
   "source": [
    "latex_jinja_env = jinja2.Environment(\n",
    "\tblock_start_string = '\\BLOCK{',\n",
    "\tblock_end_string = '}',\n",
    "\tvariable_start_string = '\\VAR{',\n",
    "\tvariable_end_string = '}',\n",
    "\tcomment_start_string = '\\#{',\n",
    "\tcomment_end_string = '}',\n",
    "\tline_statement_prefix = '%%%&',\n",
    "\tline_comment_prefix = '%#',\n",
    "\ttrim_blocks = True,\n",
    "\tautoescape = False,\n",
    "\tloader = jinja2.FileSystemLoader(\"/Users/I516998/Documents/uni - mannheim/ankinator/ankinator-flashcard-models/ressources/image-to-text-templates/\"))"
   ],
   "metadata": {
    "collapsed": false,
    "ExecuteTime": {
     "start_time": "2023-04-19T13:25:43.355286Z",
     "end_time": "2023-04-19T13:25:43.361848Z"
    }
   }
  },
  {
   "cell_type": "code",
   "execution_count": 3,
   "outputs": [
    {
     "name": "stderr",
     "output_type": "stream",
     "text": [
      "\u001B[32mINFO: Searching for database. This might take some time. You can speed this up by specifying a search path or directly entering the path to your database.\u001B[0m\n",
      "\u001B[33mWARNING: The search will stop at the first hit, so please verify that the result is correct (for example in case there might be more than one Anki installation)\u001B[0m\n"
     ]
    },
    {
     "data": {
      "text/plain": "               nguid        nmod  nusn ntags  \\\nnid                                            \n1627919721277  UXs8P  1627919797    -1    []   \n1627919797459  KsV;M  1627919913    -1    []   \n1627919913959  _JhDD  1627919958    -1    []   \n1627919958698  O,353  1627919986    -1    []   \n1627919986532  {bHQQ  1627920027    -1    []   \n...              ...         ...   ...   ...   \n1677937216242  C4J?7  1677938427    -1    []   \n1677938427446  w!Jw8  1677939124    -1    []   \n1677939124208  U:G#5  1677939220    -1    []   \n1677939220992  -u^ML  1677939386    -1    []   \n1677939386924  }H@9D  1677939879    -1    []   \n\n                                                           nflds    nmodel  \nnid                                                                         \n1627919721277                    [Gesamtkosten, Kfix+Kvar+At+Zt]  Standard  \n1627919797459  [Kalkulatorische Abschreibungen, <img src=\"img...  Standard  \n1627919913959  [Kalkulatorische Zinskosten, <img src=\"img6198...  Standard  \n1627919958698                  [Gewinnvergleichsrechnung, G=U-K]  Standard  \n1627919986532  [Rentabilitätsvergleichsrechnung, <img src=\"im...  Standard  \n...                                                          ...       ...  \n1677937216242  [Nennen sie die 2 Strategien der Beurteilung v...  Standard  \n1677938427446  [Berufskrankheit, Liegt vor, wenn eine versich...  Standard  \n1677939124208  [Aufgaben der Berufsgenossenschsften, Präventi...  Standard  \n1677939220992  [Definition Arbeitsunfall, Wenn eine versicher...  Standard  \n1677939386924  [Stab-Linie Modell, <img src=\"img5018538578624...  Standard  \n\n[1659 rows x 6 columns]",
      "text/html": "<div>\n<style scoped>\n    .dataframe tbody tr th:only-of-type {\n        vertical-align: middle;\n    }\n\n    .dataframe tbody tr th {\n        vertical-align: top;\n    }\n\n    .dataframe thead th {\n        text-align: right;\n    }\n</style>\n<table border=\"1\" class=\"dataframe\">\n  <thead>\n    <tr style=\"text-align: right;\">\n      <th></th>\n      <th>nguid</th>\n      <th>nmod</th>\n      <th>nusn</th>\n      <th>ntags</th>\n      <th>nflds</th>\n      <th>nmodel</th>\n    </tr>\n    <tr>\n      <th>nid</th>\n      <th></th>\n      <th></th>\n      <th></th>\n      <th></th>\n      <th></th>\n      <th></th>\n    </tr>\n  </thead>\n  <tbody>\n    <tr>\n      <th>1627919721277</th>\n      <td>UXs8P</td>\n      <td>1627919797</td>\n      <td>-1</td>\n      <td>[]</td>\n      <td>[Gesamtkosten, Kfix+Kvar+At+Zt]</td>\n      <td>Standard</td>\n    </tr>\n    <tr>\n      <th>1627919797459</th>\n      <td>KsV;M</td>\n      <td>1627919913</td>\n      <td>-1</td>\n      <td>[]</td>\n      <td>[Kalkulatorische Abschreibungen, &lt;img src=\"img...</td>\n      <td>Standard</td>\n    </tr>\n    <tr>\n      <th>1627919913959</th>\n      <td>_JhDD</td>\n      <td>1627919958</td>\n      <td>-1</td>\n      <td>[]</td>\n      <td>[Kalkulatorische Zinskosten, &lt;img src=\"img6198...</td>\n      <td>Standard</td>\n    </tr>\n    <tr>\n      <th>1627919958698</th>\n      <td>O,353</td>\n      <td>1627919986</td>\n      <td>-1</td>\n      <td>[]</td>\n      <td>[Gewinnvergleichsrechnung, G=U-K]</td>\n      <td>Standard</td>\n    </tr>\n    <tr>\n      <th>1627919986532</th>\n      <td>{bHQQ</td>\n      <td>1627920027</td>\n      <td>-1</td>\n      <td>[]</td>\n      <td>[Rentabilitätsvergleichsrechnung, &lt;img src=\"im...</td>\n      <td>Standard</td>\n    </tr>\n    <tr>\n      <th>...</th>\n      <td>...</td>\n      <td>...</td>\n      <td>...</td>\n      <td>...</td>\n      <td>...</td>\n      <td>...</td>\n    </tr>\n    <tr>\n      <th>1677937216242</th>\n      <td>C4J?7</td>\n      <td>1677938427</td>\n      <td>-1</td>\n      <td>[]</td>\n      <td>[Nennen sie die 2 Strategien der Beurteilung v...</td>\n      <td>Standard</td>\n    </tr>\n    <tr>\n      <th>1677938427446</th>\n      <td>w!Jw8</td>\n      <td>1677939124</td>\n      <td>-1</td>\n      <td>[]</td>\n      <td>[Berufskrankheit, Liegt vor, wenn eine versich...</td>\n      <td>Standard</td>\n    </tr>\n    <tr>\n      <th>1677939124208</th>\n      <td>U:G#5</td>\n      <td>1677939220</td>\n      <td>-1</td>\n      <td>[]</td>\n      <td>[Aufgaben der Berufsgenossenschsften, Präventi...</td>\n      <td>Standard</td>\n    </tr>\n    <tr>\n      <th>1677939220992</th>\n      <td>-u^ML</td>\n      <td>1677939386</td>\n      <td>-1</td>\n      <td>[]</td>\n      <td>[Definition Arbeitsunfall, Wenn eine versicher...</td>\n      <td>Standard</td>\n    </tr>\n    <tr>\n      <th>1677939386924</th>\n      <td>}H@9D</td>\n      <td>1677939879</td>\n      <td>-1</td>\n      <td>[]</td>\n      <td>[Stab-Linie Modell, &lt;img src=\"img5018538578624...</td>\n      <td>Standard</td>\n    </tr>\n  </tbody>\n</table>\n<p>1659 rows × 6 columns</p>\n</div>"
     },
     "execution_count": 3,
     "metadata": {},
     "output_type": "execute_result"
    }
   ],
   "source": [
    "col = Collection()\n",
    "col.notes"
   ],
   "metadata": {
    "collapsed": false,
    "ExecuteTime": {
     "start_time": "2023-04-19T13:25:45.678793Z",
     "end_time": "2023-04-19T13:25:46.206474Z"
    }
   }
  },
  {
   "cell_type": "code",
   "execution_count": 4,
   "outputs": [
    {
     "data": {
      "text/plain": "['Kalkulatorische Zinskosten', '<img src=\"img6198499762462923278.jpg\">']"
     },
     "execution_count": 4,
     "metadata": {},
     "output_type": "execute_result"
    }
   ],
   "source": [
    "col.notes.nflds.iloc[2]"
   ],
   "metadata": {
    "collapsed": false,
    "ExecuteTime": {
     "start_time": "2023-04-19T13:25:52.309605Z",
     "end_time": "2023-04-19T13:25:52.319607Z"
    }
   }
  },
  {
   "cell_type": "code",
   "execution_count": 5,
   "outputs": [
    {
     "data": {
      "text/plain": "                                                           nflds\nnid                                                             \n1627919721277                    [Gesamtkosten, Kfix+Kvar+At+Zt]\n1627919797459  [Kalkulatorische Abschreibungen, <img src=\"img...\n1627919913959  [Kalkulatorische Zinskosten, <img src=\"img6198...\n1627919958698                  [Gewinnvergleichsrechnung, G=U-K]\n1627919986532  [Rentabilitätsvergleichsrechnung, <img src=\"im...\n...                                                          ...\n1677937216242  [Nennen sie die 2 Strategien der Beurteilung v...\n1677938427446  [Berufskrankheit, Liegt vor, wenn eine versich...\n1677939124208  [Aufgaben der Berufsgenossenschsften, Präventi...\n1677939220992  [Definition Arbeitsunfall, Wenn eine versicher...\n1677939386924  [Stab-Linie Modell, <img src=\"img5018538578624...\n\n[1659 rows x 1 columns]",
      "text/html": "<div>\n<style scoped>\n    .dataframe tbody tr th:only-of-type {\n        vertical-align: middle;\n    }\n\n    .dataframe tbody tr th {\n        vertical-align: top;\n    }\n\n    .dataframe thead th {\n        text-align: right;\n    }\n</style>\n<table border=\"1\" class=\"dataframe\">\n  <thead>\n    <tr style=\"text-align: right;\">\n      <th></th>\n      <th>nflds</th>\n    </tr>\n    <tr>\n      <th>nid</th>\n      <th></th>\n    </tr>\n  </thead>\n  <tbody>\n    <tr>\n      <th>1627919721277</th>\n      <td>[Gesamtkosten, Kfix+Kvar+At+Zt]</td>\n    </tr>\n    <tr>\n      <th>1627919797459</th>\n      <td>[Kalkulatorische Abschreibungen, &lt;img src=\"img...</td>\n    </tr>\n    <tr>\n      <th>1627919913959</th>\n      <td>[Kalkulatorische Zinskosten, &lt;img src=\"img6198...</td>\n    </tr>\n    <tr>\n      <th>1627919958698</th>\n      <td>[Gewinnvergleichsrechnung, G=U-K]</td>\n    </tr>\n    <tr>\n      <th>1627919986532</th>\n      <td>[Rentabilitätsvergleichsrechnung, &lt;img src=\"im...</td>\n    </tr>\n    <tr>\n      <th>...</th>\n      <td>...</td>\n    </tr>\n    <tr>\n      <th>1677937216242</th>\n      <td>[Nennen sie die 2 Strategien der Beurteilung v...</td>\n    </tr>\n    <tr>\n      <th>1677938427446</th>\n      <td>[Berufskrankheit, Liegt vor, wenn eine versich...</td>\n    </tr>\n    <tr>\n      <th>1677939124208</th>\n      <td>[Aufgaben der Berufsgenossenschsften, Präventi...</td>\n    </tr>\n    <tr>\n      <th>1677939220992</th>\n      <td>[Definition Arbeitsunfall, Wenn eine versicher...</td>\n    </tr>\n    <tr>\n      <th>1677939386924</th>\n      <td>[Stab-Linie Modell, &lt;img src=\"img5018538578624...</td>\n    </tr>\n  </tbody>\n</table>\n<p>1659 rows × 1 columns</p>\n</div>"
     },
     "execution_count": 5,
     "metadata": {},
     "output_type": "execute_result"
    }
   ],
   "source": [
    "df = pd.DataFrame(col.notes.nflds)\n",
    "df"
   ],
   "metadata": {
    "collapsed": false,
    "ExecuteTime": {
     "start_time": "2023-04-19T13:25:56.997110Z",
     "end_time": "2023-04-19T13:25:57.002528Z"
    }
   }
  },
  {
   "cell_type": "code",
   "execution_count": 6,
   "outputs": [
    {
     "data": {
      "text/plain": "                                                           nflds  \\\nnid                                                                \n1627919721277                    [Gesamtkosten, Kfix+Kvar+At+Zt]   \n1627919797459  [Kalkulatorische Abschreibungen, <img src=\"img...   \n1627919913959  [Kalkulatorische Zinskosten, <img src=\"img6198...   \n1627919958698                  [Gewinnvergleichsrechnung, G=U-K]   \n1627919986532  [Rentabilitätsvergleichsrechnung, <img src=\"im...   \n...                                                          ...   \n1677937216242  [Nennen sie die 2 Strategien der Beurteilung v...   \n1677938427446  [Berufskrankheit, Liegt vor, wenn eine versich...   \n1677939124208  [Aufgaben der Berufsgenossenschsften, Präventi...   \n1677939220992  [Definition Arbeitsunfall, Wenn eine versicher...   \n1677939386924  [Stab-Linie Modell, <img src=\"img5018538578624...   \n\n                                                          answer  \nnid                                                               \n1627919721277                                  [Kfix+Kvar+At+Zt]  \n1627919797459           [<img src=\"img1963991816782229408.jpg\">]  \n1627919913959           [<img src=\"img6198499762462923278.jpg\">]  \n1627919958698                                            [G=U-K]  \n1627919986532            [<img src=\"img816191628497522554.jpg\">]  \n...                                                          ...  \n1677937216242                             [Präventiv, Korrektiv]  \n1677938427446  [Liegt vor, wenn eine versicherte Person wühre...  \n1677939124208       [Prävention, Rehabilitation, Entschädigung ]  \n1677939220992  [Wenn eine versicherte Person sich bei einer v...  \n1677939386924  [<img src=\"img5018538578624065929.jpg\">, Fachk...  \n\n[1659 rows x 2 columns]",
      "text/html": "<div>\n<style scoped>\n    .dataframe tbody tr th:only-of-type {\n        vertical-align: middle;\n    }\n\n    .dataframe tbody tr th {\n        vertical-align: top;\n    }\n\n    .dataframe thead th {\n        text-align: right;\n    }\n</style>\n<table border=\"1\" class=\"dataframe\">\n  <thead>\n    <tr style=\"text-align: right;\">\n      <th></th>\n      <th>nflds</th>\n      <th>answer</th>\n    </tr>\n    <tr>\n      <th>nid</th>\n      <th></th>\n      <th></th>\n    </tr>\n  </thead>\n  <tbody>\n    <tr>\n      <th>1627919721277</th>\n      <td>[Gesamtkosten, Kfix+Kvar+At+Zt]</td>\n      <td>[Kfix+Kvar+At+Zt]</td>\n    </tr>\n    <tr>\n      <th>1627919797459</th>\n      <td>[Kalkulatorische Abschreibungen, &lt;img src=\"img...</td>\n      <td>[&lt;img src=\"img1963991816782229408.jpg\"&gt;]</td>\n    </tr>\n    <tr>\n      <th>1627919913959</th>\n      <td>[Kalkulatorische Zinskosten, &lt;img src=\"img6198...</td>\n      <td>[&lt;img src=\"img6198499762462923278.jpg\"&gt;]</td>\n    </tr>\n    <tr>\n      <th>1627919958698</th>\n      <td>[Gewinnvergleichsrechnung, G=U-K]</td>\n      <td>[G=U-K]</td>\n    </tr>\n    <tr>\n      <th>1627919986532</th>\n      <td>[Rentabilitätsvergleichsrechnung, &lt;img src=\"im...</td>\n      <td>[&lt;img src=\"img816191628497522554.jpg\"&gt;]</td>\n    </tr>\n    <tr>\n      <th>...</th>\n      <td>...</td>\n      <td>...</td>\n    </tr>\n    <tr>\n      <th>1677937216242</th>\n      <td>[Nennen sie die 2 Strategien der Beurteilung v...</td>\n      <td>[Präventiv, Korrektiv]</td>\n    </tr>\n    <tr>\n      <th>1677938427446</th>\n      <td>[Berufskrankheit, Liegt vor, wenn eine versich...</td>\n      <td>[Liegt vor, wenn eine versicherte Person wühre...</td>\n    </tr>\n    <tr>\n      <th>1677939124208</th>\n      <td>[Aufgaben der Berufsgenossenschsften, Präventi...</td>\n      <td>[Prävention, Rehabilitation, Entschädigung ]</td>\n    </tr>\n    <tr>\n      <th>1677939220992</th>\n      <td>[Definition Arbeitsunfall, Wenn eine versicher...</td>\n      <td>[Wenn eine versicherte Person sich bei einer v...</td>\n    </tr>\n    <tr>\n      <th>1677939386924</th>\n      <td>[Stab-Linie Modell, &lt;img src=\"img5018538578624...</td>\n      <td>[&lt;img src=\"img5018538578624065929.jpg\"&gt;, Fachk...</td>\n    </tr>\n  </tbody>\n</table>\n<p>1659 rows × 2 columns</p>\n</div>"
     },
     "execution_count": 6,
     "metadata": {},
     "output_type": "execute_result"
    }
   ],
   "source": [
    "df[\"answer\"] = df.nflds.apply(lambda x: [i for i in x[1].split(\"<br>\") if i != \"\"])\n",
    "df"
   ],
   "metadata": {
    "collapsed": false,
    "ExecuteTime": {
     "start_time": "2023-04-19T13:26:03.105196Z",
     "end_time": "2023-04-19T13:26:03.108430Z"
    }
   }
  },
  {
   "cell_type": "code",
   "execution_count": 7,
   "outputs": [],
   "source": [
    "template = latex_jinja_env.get_template('Beamer/main.tex')\n",
    "render = template.render(data=df[:10])\n",
    "with open(\"test.tex\", \"w\") as f:\n",
    "\tf.write(render)"
   ],
   "metadata": {
    "collapsed": false,
    "ExecuteTime": {
     "start_time": "2023-04-19T13:26:09.990095Z",
     "end_time": "2023-04-19T13:26:10.037612Z"
    }
   }
  },
  {
   "cell_type": "code",
   "execution_count": 12,
   "outputs": [
    {
     "data": {
      "text/plain": "PosixPath('/Users/I516998/Library/Application Support/Anki2/User 1/collection.anki2')"
     },
     "execution_count": 12,
     "metadata": {},
     "output_type": "execute_result"
    }
   ],
   "source": [
    "col.path"
   ],
   "metadata": {
    "collapsed": false,
    "ExecuteTime": {
     "start_time": "2023-04-19T13:41:00.199726Z",
     "end_time": "2023-04-19T13:41:00.204334Z"
    }
   }
  },
  {
   "cell_type": "markdown",
   "source": [
    "The images of the slide decks are stored in a subdirectory besides the actual collection database"
   ],
   "metadata": {
    "collapsed": false
   }
  },
  {
   "cell_type": "code",
   "execution_count": 25,
   "outputs": [
    {
     "data": {
      "text/plain": "['img3364925077400417586.jpg',\n 'paste-6de5a2748c762469a526888903e05f07820b51c6.jpg',\n 'img215392971176289397.jpg',\n 'img2508146734327055485.jpg',\n 'paste-3715b9be46160f2ec3a1f4a4de0f770947e88f2f.jpg',\n 'Bildschirmfoto 2022-10-11 um 12.08.26.png',\n 'Bildschirmfoto 2022-10-11 um 17.22.39.png',\n 'paste-de4048c13c84204281e5c94014b596370952b36e.jpg',\n 'paste-e2f40208f6374808149330f2123fc8812e619658.jpg',\n 'paste-d228eaf95b182e0099bdbdf85d204be389214477.jpg',\n 'Bildschirmfoto 2022-10-11 um 13.02.24.png',\n 'Bildschirmfoto 2022-09-21 um 11.36.10.png',\n 'Bildschirmfoto 2023-01-03 um 14.59.48.png',\n 'Bildschirmfoto 2022-11-23 um 13.02.00.png',\n 'img975019157587045245.jpg',\n 'paste-6e46f444ce30c5721f5a33cb5d70a53a36f9c584.jpg',\n 'img5435919014300553541.jpg',\n 'Bildschirmfoto 2023-01-03 um 15.00.03.png',\n 'img5765838193858908159.jpg',\n 'paste-6c088e6040ba7898aa11c8c21d402283617da4c9.jpg',\n 'Bildschirmfoto 2022-09-26 um 16.36.59.png',\n 'paste-5e767d7b7e0cb78bd60d965a77841cd8eb0b1cb8.jpg',\n 'paste-5acb016c74fbc00cf897e7be5e243a3e13a28505.jpg',\n 'paste-08388fed4910f40a29cc3ca9ecefb0c9dea779b0.jpg',\n 'Bildschirmfoto 2022-11-11 um 16.59.34.png',\n 'paste-4b7cf5d2bc414d8f3806d2c9376ed02a0ccb66f9.jpg',\n 'img5087973709685647224.jpg',\n 'Bildschirmfoto 2023-01-06 um 15.36.32.png',\n 'paste-f453ff4e3f25fbf2b25c98996e1fd57495d4c2cf.jpg',\n 'img3535031075684756134.jpg',\n 'paste-a9aa6a45a6c775f2313836fe214e29fd2e601382.jpg',\n 'paste-9d34063b0a133a9df1e4fb8cc9cb33ff5dfef58b.jpg',\n 'paste-2874651dbe4375f2ee46e5e2f30cad8a87ab57be.jpg',\n 'img7298347679591563130.jpg',\n 'img7860459893370782041.jpg',\n 'paste-89dbc34d3803ee8968d215806aa4d61a381552de.jpg',\n 'paste-cf54e5647343c4bf22470fef2e417c99f0b7ead9.jpg',\n 'img2092111447105193981.jpg',\n 'paste-172235b4c4748a2ef13e1dab89114464ed9e3e18.jpg',\n 'paste-9001d429e116913ec79d799fd1f9aed4aabc23a8.jpg',\n 'paste-e5204fd2034a361b7bb3c772e6499b657e33e10d.jpg',\n 'img7387305191732861610.jpg',\n 'img4955501983881624075.jpg',\n 'Bildschirmfoto 2022-09-26 um 15.35.02.png',\n 'Bildschirmfoto 2022-09-26 um 16.19.47.png',\n 'paste-3df47cfc78cbcd723c7082dbfb5c9e7ee914bbd3.jpg',\n 'Bildschirmfoto 2023-01-30 um 10.12.41.png',\n 'Bildschirmfoto 2022-09-28 um 23.15.21.png',\n 'paste-afc424fbb6667b3f24aa5e2dc52293e25e3255ca.jpg',\n 'Bildschirmfoto 2023-02-04 um 12.06.11.png',\n 'paste-8a14256f6771db38b28cc2d066188808ad8734f2.jpg',\n 'img2725029130207736222.jpg',\n 'Bildschirmfoto 2022-11-11 um 16.53.42.png',\n 'paste-ce4d50d72abb9c6b532bf94e9ae55b5affa60c8b.jpg',\n '300px-RAID_4.svg.png',\n 'paste-0452ef449f40f483e0445fa71a051d10beb921ae.jpg',\n 'img1844434170634361061.jpg',\n 'paste-fdceb322549ee253abebe12ad6e8c2b67e81e671.jpg',\n 'paste-77f00884be88b3ca1cced919ef725fc0be584704.jpg',\n 'img575149739844665286.jpg',\n 'img3105253672352086891.jpg',\n 'paste-abb5c2cabb0693e54ed55771b4cb9a9b91f1c2b2.jpg',\n 'paste-6210673c5fc2282d6d75bc5338334984b994012c.jpg',\n 'img5024543253194916568.jpg',\n 'img7624100696557564669.jpg',\n 'image-45db37487146d9d5f7917a9754f9da632f978ca7.png',\n 'Bildschirmfoto 2022-10-11 um 12.11.11.png',\n 'Bildschirmfoto 2022-10-11 um 15.23.04.png',\n 'img674224451194535186.jpg',\n 'img3155029952092373378.jpg',\n 'paste-fb15e01bd7319d4b682c5ceb68fef472541116c1.jpg',\n 'img6381290615392288878.jpg',\n 'Bildschirmfoto 2023-01-06 um 15.52.14.png',\n 'paste-4fd6d903f8ba25cd8e5b42a0d9720fe167a27f43.jpg',\n 'img6342221131236279820.jpg',\n 'img8611235772270881992.jpg',\n 'Bildschirmfoto 2022-09-28 um 21.24.47.png',\n 'img295896826956620220.jpg',\n 'paste-b7e0606e8a6204e4ddce2bde22b87e3713681286.jpg',\n 'paste-ad130535a2096d1de5e1cd90d8de6d29b3f64e08.jpg',\n 'img5003809063171366718.jpg',\n 'paste-94668ae17daa403d24c2c206994db5cb450877f3.jpg',\n 'img1058273733205024411.jpg',\n 'img1603177206773386512.jpg',\n 'paste-004861274932b8cdd078ddae3f7861b3d41d0c19.jpg',\n 'img2839204673960453060.jpg',\n 'img6063616201099554411.jpg',\n 'paste-d89fffb8bee65f2c05ffb247e842d4640f3b9d0c.jpg',\n 'Bildschirmfoto 2022-10-11 um 12.42.48.png',\n 'img6508148348170042369.jpg',\n 'paste-551180c1698453208d4776f304a45bcd72f988c4.jpg',\n 'img6209679356791583661.jpg',\n 'Bildschirmfoto 2023-01-30 um 10.12.51.png',\n 'paste-a79ce444c9c06c725e3435891630f255960a8ddd.jpg',\n '300px-RAID_5.svg.png',\n 'img4079933088116596153.jpg',\n 'Bildschirmfoto 2022-09-28 um 21.16.37.png',\n 'img8417322660249962554.jpg',\n 'paste-ea7ab003863e1d604178456b769bfa51451b255e.jpg',\n 'img1913854068513466310.jpg',\n 'paste-88de09976c66632d28744a4907feffbbf4f630e3.jpg',\n 'paste-dcd3becb70e2e6ed99900eccfbdb29791b6ba7df.jpg',\n 'image-2f8649070fea63721f938a7f7a63b027f3f5c9c9.png',\n 'img6213268564838646614.jpg',\n 'paste-2f3a9c10e85749e5239a5a950be55cb6aded5213.jpg',\n 'img604315609941367486.jpg',\n 'paste-efa0018c8d3016aae001bd903ba322c0013afbbe.jpg',\n 'img4457276675425416607.jpg',\n 'paste-2d02b36d7b6d0545b71ac490e80714bfb399b32a.jpg',\n 'Bildschirmfoto 2023-01-29 um 16.34.45.png',\n 'Bildschirmfoto 2022-09-28 um 21.29.04.png',\n 'img1963991816782229408.jpg',\n 'paste-fdae9995bb68819d9094c0d86f51b0b8f73b6dd7.jpg',\n 'img404337859277052286.jpg',\n 'Bildschirmfoto 2022-09-28 um 21.18.18.png',\n 'paste-3d89a214e31c99ea995bb6b45ad087bf16793685.jpg',\n 'paste-81e6835e8e13310905803ac17c1d04db9ea62ee4.jpg',\n 'img3563727479963715995.jpg',\n 'paste-46cc1f4c7c94ee193bff57bfeeb9168673ca173b.jpg',\n 'paste-46a88e33f6ee922ea7e1ee64ffd96e2fff65ac73.jpg',\n 'Bildschirmfoto 2023-01-29 um 17.57.32.png',\n 'paste-dd66f211084d1b4126834595f2b82e15ffc4f893.jpg',\n 'Bildschirmfoto 2023-01-29 um 17.18.42.png',\n 'Bildschirmfoto 2023-01-06 um 15.59.23.png',\n 'img8623580756496215278.jpg',\n 'img8586311027211236611.jpg',\n 'paste-c84f9075d7a88f655eec571bc1c0b2b00cafc105.jpg',\n 'Bildschirmfoto 2023-01-06 um 12.59.53.png',\n 'Bildschirmfoto 2023-01-09 um 13.20.42.png',\n 'img3360053424931545684.jpg',\n 'img7723728124240978484.jpg',\n 'img4464656561506579547.jpg',\n 'Bildschirmfoto 2022-09-28 um 21.32.35.png',\n 'paste-dc3ebcc6ff70c93bfa72f4bedc0f13ed98b88a41.jpg',\n 'img807959781689941209.jpg',\n 'img2225391585954926665.jpg',\n 'img6992079051075251177.jpg',\n 'Bildschirmfoto 2022-09-15 um 13.42.38.png',\n 'paste-f3f50c4f727b7e95421dae096828fb5dfb787145.jpg',\n 'Bildschirmfoto 2022-10-11 um 12.18.27.png',\n 'Bildschirmfoto 2022-09-28 um 23.17.23.png',\n 'paste-7b5a9d185a0e5f64aaf14a84dd7d5411bf03e5de.jpg',\n 'paste-7c2333f4ce1af06cccb6f9f4b12733982c8a2698.jpg',\n 'paste-6fbe7a96a4f9021f7ae4fed9b5c4974edd351e1e.jpg',\n 'img6600421730944679943.jpg',\n 'image-7909c792e66290c955dc0a002fbbc99bc8d94da5.png',\n 'img527686641624662746.jpg',\n 'img9039724954348666440.jpg',\n 'img1918354605289647638.jpg',\n 'paste-18afbdc6c094b0dd02ae67991fe9f36beaf39dda.jpg',\n 'Bildschirmfoto 2022-09-28 um 21.18.42.png',\n 'img50794720308936637.jpg',\n 'paste-c93c1e57d17af79d97abbc9d68d5782210dbc732.jpg',\n 'paste-d7e73d83d57ba09241c24a69d9b0bf4448bf4992.jpg',\n 'Bildschirmfoto 2022-10-11 um 16.52.51.png',\n 'Bildschirmfoto 2022-11-01 um 15.49.11.png',\n 'paste-ef2ee0603239062b2ad4b1c6103b9dca02386410.jpg',\n 'img1878190916869420365.jpg',\n 'Bildschirmfoto 2023-02-01 um 15.03.28.png',\n 'paste-e8b0c7de116e5f9e981dd957ac3aee60c2372837.jpg',\n 'Bildschirmfoto 2023-01-30 um 16.22.52.png',\n 'Bildschirmfoto 2023-01-30 um 12.46.23.png',\n 'img8509426281760944356.jpg',\n 'paste-ad7943d4a306d1276023b5cb95f8fdacb1b02606.jpg',\n 'img52145628627610158.jpg',\n 'Bildschirmfoto 2022-09-28 um 21.10.33.png',\n 'Bildschirmfoto 2022-09-28 um 23.20.04.png',\n 'img342716503036666088.jpg',\n 'paste-afc3ae5058b21d44d8e955f04f3227a532fd7d38.jpg',\n 'img6180989447104983762.jpg',\n 'paste-f5b7f928cf76cef7d977e91019a2a4b58e45199f.jpg',\n 'img5207297591629214564.jpg',\n 'img8273403634246863073.jpg',\n 'paste-33e280c3a51356d04f330c9514ff0f9d988b5b12.jpg',\n 'paste-f106e5bd69f680b4d1b0f1d75fbbe879fb63a57e.jpg',\n 'Bildschirmfoto 2023-01-30 um 10.52.00.png',\n 'paste-0d50ebfc1f939964122a55e63c047c8323ba0bf0.jpg',\n 'paste-9e88e62d35217150b436f2a6196aa7348a7ace43.jpg',\n 'Bildschirmfoto 2023-01-06 um 15.55.51.png',\n 'Bildschirmfoto 2022-10-23 um 10.27.25.png',\n 'Bildschirmfoto 2023-01-03 um 15.05.50.png',\n 'Bildschirmfoto 2023-01-29 um 18.05.09.png',\n 'img5301577611131610972.jpg',\n 'paste-6f263c49e8f42bf60a774e8a6c9a049479616bee.jpg',\n 'img2795973069000002824.jpg',\n 'img2136724737121933747.jpg',\n 'paste-463339bc3afd7e8afbd54f4946c6c880fd4d4bdc.jpg',\n 'img2070427017049046492.jpg',\n 'Bildschirmfoto 2022-09-28 um 21.08.50.png',\n 'paste-a73cc26ceae82e45904acf9f721586655d35c905.jpg',\n 'paste-1ad614122e39669b06c8d9de84cd6f83e3f58f8f.jpg',\n 'img1710589577545477715.jpg',\n 'paste-8059a89fb7653d5440c6924b7cca103d63592f8e.jpg',\n 'paste-cd7fd5b57d3cca73cbd3eed6d1298de0d98e3bdd.jpg',\n 'img4778279323356636258.jpg',\n 'paste-ebdda5801120697913e9b9439f825b3dc1deaff8.jpg',\n 'paste-27f4f7a4ee1dfa8fb4f10a0a7f0ad0652eef7e81.jpg',\n 'paste-9eeb3f4b676409b4086658c84d6400e69201f8a0.jpg',\n 'paste-11f04e8fa75ede8990528fb360ed224a27a99f80.jpg',\n 'paste-08d9db500c7aa713758612b246e55a59ea6f8d53.jpg',\n 'img5269568806252710749.jpg',\n 'img7148503818878948477.jpg',\n 'img632669422270913131.jpg',\n 'Bildschirmfoto 2022-10-11 um 13.01.15.png',\n 'paste-f2ed7b05fee9eec7c9b74ef51f47f2bfe6880f56.jpg',\n 'paste-dc94c54c26fb96da54cbaf68f851c4607b97c038.jpg',\n 'Bildschirmfoto 2023-01-30 um 10.18.56.png',\n 'paste-4abfe751b4ec84c15d5aa8162770bf85d6dbca28.jpg',\n 'img8043712675439352343.jpg',\n 'img5240834646208121505.jpg',\n 'Bildschirmfoto 2023-01-29 um 17.04.22.png',\n 'paste-4ecc482feb24e21c38987628664e35786283a47e.jpg',\n 'paste-5790b15e9e88a99494d6bfb7e3be7471326ce586.jpg',\n 'img7647835416044308515.jpg',\n 'paste-822a6ffd4df52c89e510342772ed13f5bd7884cb.jpg',\n 'paste-63f0034c474bf8717b90f8248877ae67009d6e10.jpg',\n 'Bildschirmfoto 2023-01-29 um 18.02.13.png',\n 'img3140933321436732550.jpg',\n 'paste-d9545b3bfab72a690ef2c4c88e3cc098a9ae2b45.jpg',\n 'Bildschirmfoto 2023-02-04 um 12.36.16.png',\n 'Bildschirmfoto 2023-01-06 um 15.35.07.png',\n 'paste-ca1e7f08a8c1e13796d757df44ddbbe72014360d.jpg',\n 'Bildschirmfoto 2022-09-21 um 11.16.38.png',\n 'img6871965820759583788.jpg',\n 'img9139203124758012556.jpg',\n 'Bildschirmfoto 2022-09-28 um 21.15.10.png',\n 'paste-58b2fad16984cbb655555b7bdb67ab7b681d8b98.jpg',\n 'img1157787941094978035.jpg',\n 'paste-e6d0fd2e0e76006fb464572edc018fe0b8210e8c.jpg',\n 'Bildschirmfoto 2022-11-23 um 19.19.26.png',\n 'img3479737243347082685.jpg',\n 'paste-69145a49a0d2c99a7aa065414c935079157aacb6.jpg',\n 'paste-0a3e00fbffae5d69c943134e1b88a932bd57d346.jpg',\n 'paste-0d79bd4beb60044a7e8add17cc38e1f3eaa78b3f.jpg',\n 'paste-28c07239e67df143aaf011f2f5db743bcd412064.jpg',\n 'Bildschirmfoto 2023-01-29 um 17.53.36.png',\n 'Bildschirmfoto 2022-11-11 um 16.39.15.png',\n 'Bildschirmfoto 2022-09-28 um 23.18.13.png',\n 'img8544966834789239070.jpg',\n 'Bildschirmfoto 2022-10-20 um 14.03.36.png',\n 'img8629459084360296837.jpg',\n 'img492513830173706810.jpg',\n 'Bildschirmfoto 2022-11-01 um 15.50.23.png',\n 'img8476758750244428131.jpg',\n 'img7424717825182870842.jpg',\n 'Bildschirmfoto 2022-10-16 um 10.39.31.png',\n 'paste-be1e580b04e8eda5bcfd683763086d2a7461393c.jpg',\n 'img758409713893331183.jpg',\n 'paste-33a1301cd559ba6129a323bc9d087ccdc951328a.jpg',\n 'Bildschirmfoto 2022-09-26 um 14.58.03.png',\n 'Bildschirmfoto 2023-01-30 um 10.51.43.png',\n 'Bildschirmfoto 2022-09-21 um 11.33.50.png',\n 'img5119553164663321126.jpg',\n 'img6730972955762682902.jpg',\n 'paste-794b77fa8ea9b0535d182a49630e62ea9db6f1f5.jpg',\n 'Bildschirmfoto 2022-10-11 um 15.16.24.png',\n 'img8559596549418819920.jpg',\n 'paste-ca2b74277277c591de6815c10acaa1db4937466c.jpg',\n 'paste-c752c000e8eaf9d91cc5cf844f1ab8122e34f38f.jpg',\n 'Bildschirmfoto 2023-01-07 um 16.50.34.png',\n 'img2351264712889164620.jpg',\n 'Bildschirmfoto 2023-01-30 um 11.47.46.png',\n 'Bildschirmfoto 2023-01-06 um 13.20.36.png',\n 'img1426974243029795533.jpg',\n 'img3203732803504961182.jpg',\n 'img8559147181738842745.jpg',\n 'paste-0822d968667a6d18142619cc9372497b8610ea99.jpg',\n 'Bildschirmfoto 2022-09-21 um 11.37.36.png',\n 'paste-54ffeae359fd252be0e313eef38a9f2200db31a0.jpg',\n 'Bildschirmfoto 2023-02-03 um 09.55.45.png',\n 'paste-55717073f880abe3f7f04fc3875611b68ec09d80.jpg',\n 'img4602150364689668104.jpg',\n 'paste-2b81154039a0fb91032c8c9296bb93aadb971582.jpg',\n 'img8608825578963105513.jpg',\n 'img1751999793452194112.jpg',\n 'img2079538057667589205.jpg',\n 'paste-07da002b826142e877c59743ada7d202bd7f000c.jpg',\n 'Bildschirmfoto 2023-01-30 um 12.46.33.png',\n 'paste-a943b316c7b9abc6162363ae3f71e58cdf6ba372.jpg',\n 'paste-7c42014b81aed8a47cc5b52bde7eb2e65e99a474.jpg',\n 'Bildschirmfoto 2022-10-20 um 15.01.52.png',\n 'paste-a16ea99282f879aa903ea82e17310d9f42fb2435.jpg',\n 'img3971938724884213812.jpg',\n 'paste-09aabf9511b666190ea2749cbd1cd5e81672ca72.jpg',\n 'image-0a9614154db41c2ebd6b3d30c33a1fb425c96c48.png',\n 'img2903300120946625274.jpg',\n 'paste-01a210908ff3d12ce835c27c6ef961aebe3207ad.jpg',\n 'image-4939730c1ac0c2af290e1660f30782aa507cf7e8.png',\n 'Bildschirmfoto 2023-01-30 um 11.47.53.png',\n 'Bildschirmfoto 2023-01-06 um 13.08.36.png',\n 'img8436070651118151415.jpg',\n 'paste-623b2fc855c1ccd8e2917ace86fd29b7293d1f57.jpg',\n 'Bildschirmfoto 2023-01-06 um 15.48.20.png',\n 'image-ef994671bb0c8ac6883de922a7ea246535a2d2e4.png',\n 'paste-ba53a9d1237edbc46a08e8e3671075133622489a.jpg',\n 'img7464202366468965619.jpg',\n 'paste-01072e2087553a15b00c8ee2d7247737ea100d12.jpg',\n 'paste-c38c5a58dd2c2b1e4975fc9b911be2680c96ba5d.jpg',\n 'img5278661368488018207.jpg',\n 'Bildschirmfoto 2022-10-11 um 12.54.55.png',\n 'paste-3c5c7584954a87dc6e5a60a04daa2c6dae27e702.jpg',\n 'img6974748008076676669.jpg',\n 'paste-48fb9daaeb220ac2408bf5f0d1b123093bcf17d6.jpg',\n 'paste-fb225c99b2a265fbbee68fc8e41e8a3e314239e7.jpg',\n '300px-RAID_3.svg.png',\n 'paste-760f8bdead62fa0cdc496a45e7c524e9ffd1cee1.jpg',\n 'Bildschirmfoto 2023-01-29 um 17.54.18.png',\n 'Bildschirmfoto 2023-01-09 um 13.20.04.png',\n 'paste-bd1a587474efd168959b2282641f9e2d7e4f64fb.jpg',\n 'img8699595733733703348.jpg',\n 'Bildschirmfoto 2022-10-11 um 15.41.04.png',\n 'paste-ce07972b1233a98a902e0cafc872db67a497a8b3.jpg',\n 'img3608973729222922535.jpg',\n 'Bildschirmfoto 2022-09-28 um 23.20.30.png',\n 'img7347753548700374353.jpg',\n 'paste-78dd0539efe3cc97130ed2c36c914ec75e5d454d.jpg',\n 'img1970006901952693998.jpg',\n 'paste-6ddbfee74454ff41f58a57f88b9973fa05501ece.jpg',\n 'paste-83f399b55d721045fddf9d11151524fa540d8b0e.jpg',\n 'Bildschirmfoto 2023-01-06 um 13.17.46.png',\n 'paste-a92486830a9d376c35485b0950793e0e13046557.jpg',\n 'img1300489607124405770.jpg',\n 'img2072914604036040733.jpg',\n 'paste-595b1d13e7ed7f5e7b7ec4cd5d782c4f0a991eed.jpg',\n 'Bildschirmfoto 2022-10-16 um 11.09.01.png',\n 'img7803165609936347462.jpg',\n 'Bildschirmfoto 2022-10-11 um 15.20.14.png',\n 'paste-87e2b125b78042a6d9a385cd471b52e9eded4dbb.jpg',\n 'paste-0db5c103f82afecca1f2543e688e932fbf428c20.jpg',\n 'paste-032aa8e58c848066a91377effaa7feb86b795525.jpg',\n 'paste-51463b14d4426e06e1b785cfdc5603ad3ad38219.jpg',\n 'img6404352223392317653.jpg',\n 'paste-a38b5dfa326b1a0a0da534731af0a52de0038b83.jpg',\n 'Bildschirmfoto 2023-01-29 um 16.34.15.png',\n 'img4366320952469223561.jpg',\n 'paste-8d954567473d27f324801a21526134154a275392.jpg',\n 'img3307622951431745582.jpg',\n 'img8420023671091990483.jpg',\n 'img7960803321639598579.jpg',\n 'Bildschirmfoto 2023-01-30 um 11.12.48.png',\n 'img8619437816587693926.jpg',\n 'paste-b8411b2abe7f23769c93795925f0c434d293841e.jpg',\n 'paste-2b554f73704adab4e640ef7cb9b6238f79fa3777.jpg',\n 'img2205843441576543087.jpg',\n 'img3377758410168689421.jpg',\n 'paste-2b617df9cb5a9185cbef5148f1fc14d6fda860af.jpg',\n 'img8222217253768808903.jpg',\n 'paste-07b3b694139771cf1df77d98aa5a1568f7a30e16.jpg',\n 'paste-bdca5e0c985f35bd746caa8af0ec2b74061191a8.jpg',\n 'paste-cf04c9ceb494d755c46b400e5bbab79c049c9470.jpg',\n 'Bildschirmfoto 2022-10-16 um 11.26.37.png',\n 'Bildschirmfoto 2022-09-28 um 21.28.00.png',\n 'image-b2270d0f1c0b65a6cf0c5a0a1c079674c8cf0dae.png',\n 'Bildschirmfoto 2023-01-30 um 11.55.49.png',\n 'paste-7c7a07a6bd8679964ec90101abe23e4eb58aa21b.jpg',\n 'img5374982749803762437.jpg',\n 'paste-15b3d02fd6af808862d887dae40b719bff56e731.jpg',\n 'paste-fecf64dd622f07199a49e314b0e5fcf1468acc65.jpg',\n 'paste-84f578d414f155a1fc32e71b71112b6820e0d8bb.jpg',\n 'paste-ad94820a30a4284ee0f27f2a162199b0829cb7dc.jpg',\n 'Bildschirmfoto 2023-01-06 um 12.50.32.png',\n 'Bildschirmfoto 2022-09-28 um 21.31.21.png',\n 'paste-e80c4e3f974d36b9fcb7008f9c7283b203d3a432.jpg',\n 'Bildschirm\\xadfoto 2022-11-27 um 13.35.19.png',\n 'Bildschirmfoto 2023-02-01 um 15.03.37.png',\n 'paste-8fef99b8f101a0a5b778a64c5c88c6f65b520dac.jpg',\n 'paste-0975df2af8bc0bde449a51ec58c093e620264da8.jpg',\n 'img4647291255965927514.jpg',\n 'Bildschirmfoto 2023-01-06 um 15.53.12.png',\n 'paste-e5e766fd72a82058435694d24f7ef4669ec556d8.jpg',\n 'Bildschirmfoto 2022-09-21 um 11.34.41.png',\n 'img2865082707979991056.jpg',\n 'Bildschirmfoto 2023-01-07 um 16.53.57.png',\n 'paste-ef128ab78df47553f689be762a9a1c33e75842a8.jpg',\n 'paste-7d47791f66ab605e86d34fa9709ecd5bf1b39f6b.jpg',\n 'Bildschirmfoto 2022-10-11 um 13.04.39.png',\n 'paste-460d4dafaead9e625d035730b1a4d6eff963dea2.jpg',\n 'Bildschirmfoto 2023-01-30 um 10.55.17.png',\n 'Bildschirmfoto 2023-01-06 um 13.08.05.png',\n 'img13095018683887477.jpg',\n 'Bildschirmfoto 2023-01-06 um 15.35.22.png',\n 'paste-7e52ccc57cbe490a286913c263aa11d7d1c3340c.jpg',\n 'paste-3e4fff3f461bb4701dacb2d7d6c26d0a3a913c75.jpg',\n 'paste-3124edbf87c324de781625aff786c5ff46ed518c.jpg',\n 'Bildschirmfoto 2023-01-29 um 16.33.31.png',\n 'paste-a22f59e9bd2b137d3b4d33d86e17ba1895d0cc77.jpg',\n 'img3806626865646412528.jpg',\n 'paste-af128e8904661216795713ef87a8daf9183633b2.jpg',\n 'img6042410958402642054.jpg',\n 'paste-aeabe6dbecff0b37eeb9e4e880b6d3a6a440eab3.jpg',\n 'paste-584c2da44c747ee492645b896926bc191686c3a7.jpg',\n 'paste-2286d7cd090575bd73a1b6683a6725935ff1abea.jpg',\n 'img2173926681079083188.jpg',\n 'paste-5b36f7c50da8f7dd0493b8dd2768e8470573d5c5.jpg',\n 'img7991818881070564713.jpg',\n 'paste-2cc14876a5e20435033666ddf7815e8441d10c99.jpg',\n 'paste-b2bd2abc228749300a62e09c645823b6cfb4f33f.jpg',\n 'img4333930500736648296.jpg',\n 'image-60ca01bdccb293a49e7e6deaf15572d3eaa80085.png',\n 'paste-f74ba5057d4abd67f3d2ba8a5d4f7b9c77135eb8.jpg',\n 'paste-9738808864fdb47af372daf21fe2db70cf470794.jpg',\n 'Bildschirmfoto 2022-09-28 um 23.16.37.png',\n 'paste-50fcaef8c2e055c958b381c7585becd7d845958a.jpg',\n 'paste-a2f77c7d6cd2170ea682d1eb1b7f532bedce0963.jpg',\n 'paste-7590b3bfbbebb6e9863bf059f204db8ddaac0a35.jpg',\n 'img8350067523351161643.jpg',\n 'paste-16d08413bb1c9953b0a48c7f90831d373d48b168.jpg',\n 'paste-6a728acd48bda34f9e351bf328b826ceb8f85657.jpg',\n 'paste-d8238e25af2316fe61da69fc228105c6a27c3e05.jpg',\n 'paste-39a7ea82366babe9b05fe254745e2c3edb01cc33.jpg',\n 'img3974229742760914545.jpg',\n 'Bildschirmfoto 2023-01-30 um 10.57.03.png',\n 'img4622516812879728354.jpg',\n 'paste-60131b18409f206b29242cb5b966d1ce099385ea.jpg',\n 'img4827752993490893914.jpg',\n 'paste-66fde2dc7f9cfab78afb12755c057dedb4938b08.jpg',\n 'paste-695546ec9e1e1d2f16787d1d85bfc5a4b6867b26.jpg',\n 'paste-f1661040943363dca68a186dcc7406fd4374b262.jpg',\n 'paste-59196fa0f8fd51fc4f848f601260ed2f0dc631c2.jpg',\n 'paste-5cbd79b65b07e56718b6b83819e20dcd297bda45.jpg',\n 'Bildschirmfoto 2022-09-21 um 11.22.08.png',\n 'paste-1161af8aa23125325143424b4b60268cf098d4d6.jpg',\n 'paste-850772565bd6709c0b4847c5add0692fb84de9f1.jpg',\n 'paste-4c6f60eb7da67fcd55c21c554cfaf3d87cba850d.jpg',\n 'img6602071578114699451.jpg',\n 'Bildschirmfoto 2022-09-15 um 13.33.51.png',\n 'img1541694571785150617.jpg',\n 'img2678022455124712416.jpg',\n 'Bildschirmfoto 2022-11-11 um 16.13.25.png',\n 'img3408274160010113958.jpg',\n 'img2666972517455349087.jpg',\n 'Bildschirmfoto 2023-02-02 um 16.12.12.png',\n 'img4593919072417901750.jpg',\n 'paste-64f61d220cc933cd47eb64210d0216d217b5814f.jpg',\n 'paste-c731362eff113f4527f7e74faa124cff9d5653a8.jpg',\n 'Bildschirmfoto 2022-10-16 um 10.41.36.png',\n 'paste-02830b27ed2761d12efa5f95a05bfc8985b398be.jpg',\n 'paste-1e93d5635759ecd028479c7e623869705b176d8f.jpg',\n 'Bildschirmfoto 2022-09-28 um 21.11.42.png',\n 'paste-6163a4f5645f54aff79bc4048ad21333cb28d45e.jpg',\n 'Bildschirmfoto 2023-01-03 um 15.06.18.png',\n 'paste-f906eeb491bcc8e57a64193efb43978f528bf3c1.jpg',\n 'img826948142288479274.jpg',\n 'Bildschirmfoto 2023-01-07 um 16.52.10.png',\n 'img9000719233675480630.jpg',\n 'paste-35e7ffc86c7aabeb2245271653d916136ccc6fa4.jpg',\n 'paste-9efa81abdfaacb8704d9a4b883cd64763ca666f6.jpg',\n 'paste-af944546cbd0c768db8b6b604a5c03d88544b23e.jpg',\n 'Bildschirmfoto 2023-01-29 um 17.53.29.png',\n 'img603450184796109488.jpg',\n 'Bildschirmfoto 2023-01-06 um 13.09.57.png',\n 'img4791069336614457193.jpg',\n 'img992529242716381473.jpg',\n 'paste-7968431a30504c81b05ef94dc872d3e81814aae1.jpg',\n 'Bildschirmfoto 2023-01-06 um 15.32.11.png',\n 'Bildschirmfoto 2022-09-15 um 13.35.33.png',\n 'paste-c2d6ef4891e7a99dc90d47d51165d0568e3179ea.jpg',\n 'Bildschirmfoto 2023-01-07 um 16.57.46.png',\n 'Bildschirmfoto 2022-09-15 um 14.04.10.png',\n 'paste-cb9c4c9b3c7af2f78f095c560fc7756949ea8779.jpg',\n 'img6553902016469141756.jpg',\n 'paste-de5245d2de6b2e6517f145cf42345e1fe792cd2e.jpg',\n 'Bildschirmfoto 2022-10-16 um 11.43.36.png',\n 'paste-29c21013a4bb5b119770c38e893ba13bacd9207b.jpg',\n 'img3243622531907793007.jpg',\n 'img4180724236643440669.jpg',\n 'paste-b2864a40709c67130061830c621461cdf87afe86.jpg',\n 'Bildschirmfoto 2023-01-29 um 18.04.36.png',\n 'paste-f94afc1e397d71af07b1db37d3bf375a13a8caf9.jpg',\n 'paste-3002e71cce9adcbd236528d0f7fe60b614076958.jpg',\n 'paste-9bc5fd2a89fd2ee856fbc6b87de3243367d1cc96.jpg',\n 'Bildschirmfoto 2022-09-26 um 15.31.44.png',\n 'paste-30f75f1f804afada4c8a590a2212bd31f41bec28.jpg',\n 'Bildschirmfoto 2023-01-30 um 10.11.26.png',\n 'Bildschirmfoto 2023-01-07 um 17.15.14.png',\n 'paste-a7198203020f9da4c0c32d75b3723326ec99a86e.jpg',\n 'Bildschirmfoto 2022-10-11 um 12.46.36.png',\n 'image-d55f55707c73d3891369c8c553659b01a3311740.png',\n 'paste-51786d0a6118ad0e770259db2a15c39173d389fc.jpg',\n 'img3488154690458807905.jpg',\n 'Bildschirmfoto 2022-09-15 um 13.01.51.png',\n 'img572932084152350471.jpg',\n 'Bildschirmfoto 2023-01-30 um 10.19.57.png',\n 'paste-51c27fa6c192693946baf47943a0202e5f0a63cd.jpg',\n 'img3238205123631721729.jpg',\n 'paste-48bbd226343ae93f3bbe9ba4341e4288dc0e51f7.jpg',\n 'paste-48c6588e4d9e2b5faa8756fb3db795a279a4f5cb.jpg',\n 'img5018538578624065929.jpg',\n 'Bildschirmfoto 2022-09-21 um 11.30.47.png',\n 'paste-ebe2a3bec58175d00f4ca0251a781ba1eb2a8bd5.jpg',\n 'paste-f9f14b736b06eed6ff21d5fae91c3447eba4fca3.jpg',\n 'paste-fec7cbb0fcf81e40a27b2342ec5566bd1204fd23.jpg',\n 'paste-80eabf9045a2a9a92a2005884e6d9bbcd671c92c.jpg',\n 'img1016667514237396004.jpg',\n 'Bildschirmfoto 2023-01-06 um 13.23.23.png',\n 'Bildschirmfoto 2023-02-04 um 12.37.11.png',\n 'paste-c1cc4ca7bd182bc432c7cdca6d864dc209350496.jpg',\n 'paste-f452b3974eb9e1428c30bb52631139eb0ad63d87.jpg',\n 'paste-144ff68070e2b9852ee4ee2ef61c301ffb119642.jpg',\n 'paste-cf806d8cf82e37e1f9a1d37662c4119470093056.jpg',\n 'Bildschirmfoto 2023-01-30 um 11.10.12.png',\n 'Bildschirmfoto 2022-09-28 um 23.15.00.png',\n 'img1384748025338037963.jpg',\n 'paste-ecab948a61c383dcc55ed1a44d6d7fed5d2a5b95.jpg',\n 'img7963052542352816794.jpg',\n 'img1168662391210337834.jpg',\n 'paste-4476375e80191dcd2700065014e51d4dde8c80a6.jpg',\n 'img2071491201227969905.jpg',\n 'img2011067252395769544.jpg',\n 'paste-4fdfea194f5d6151baf41dea6307b41b4f01ce8d.jpg',\n 'Bildschirmfoto 2023-01-06 um 13.10.07.png',\n 'paste-19913b9ab8f387ba9890e523de343c478319bbee.jpg',\n 'paste-55e26e8d6ccd69fc1ba8f4dbc2cc350cc3e090e9.jpg',\n 'img4972201952102541415.jpg',\n 'Bildschirmfoto 2022-09-28 um 21.09.47.png',\n 'img8380354398245441706.jpg',\n 'img4033745349226268570.jpg',\n 'Bildschirmfoto 2022-09-28 um 21.14.02.png',\n 'paste-66a9f0fa174dbc179197b18643020b863f9bbc75.jpg',\n 'Bildschirmfoto 2023-01-29 um 16.35.23.png',\n 'Bildschirmfoto 2022-10-11 um 16.41.51.png',\n 'img4780470074833556872.jpg',\n 'img7330068746680850088.jpg',\n 'paste-41c0cfb6b8876e9b258efd2be5685f77c82c3441.jpg',\n 'PNKF0NsKQsMFIpqOaRAdAAFBqDme4z1vQjzbVBDzg1dmD_3wXIXd5Y6IqneH1sE-bVAh9B2g7vSO2Ix13Llu7JXqkdZXjYJ9hj3H21a-aEKf9ABUnZI.png',\n 'paste-47b76398c4a709a4eff5b43583a59fbe80c80f98.jpg',\n 'paste-06d398edcf85aba7010f12d309317af380a99a11.jpg',\n 'paste-fdc889e9fa0d61909e4e67218b1ef9055b574d4d.jpg',\n 'img2330234242906708482.jpg',\n 'Bildschirmfoto 2023-02-02 um 16.27.18.png',\n 'paste-2e6f41ef708b5b0d7f714f86e8cfd402173018bb.jpg',\n 'paste-1e2c9c5e8f3c9db444056748a6913ef7ef8d065c.jpg',\n 'Bildschirmfoto 2022-09-26 um 16.24.47.png',\n 'Bildschirmfoto 2023-01-09 um 13.14.49.png',\n 'paste-2bc2995ea13014dcce4358048c2c8306328065af.jpg',\n 'Bildschirmfoto 2022-10-11 um 16.40.15.png',\n 'paste-a26681cd1804e166932aaa97d496f486615e5e66.jpg',\n 'paste-cf3feb17cc37b3d06d3bbf6dfb5f252e54a61850.jpg',\n 'Bildschirmfoto 2022-10-11 um 12.16.01.png',\n 'Bildschirmfoto 2022-11-01 um 15.55.44.png',\n 'img8166294333388571460.jpg',\n 'Bildschirmfoto 2023-01-06 um 13.02.17.png',\n 'image-433b56172a96c65f963fc6a6f9e15ecefca3c96b.png',\n 'Bildschirmfoto 2022-09-28 um 22.08.23.png',\n 'Bildschirmfoto 2022-09-26 um 14.58.54.png',\n 'Bildschirmfoto 2022-09-26 um 16.49.46.png',\n 'image-64c771e8211adce57e8a6ea56aa73b8a03faeed5.png',\n 'paste-f146fc7931b5a175d8cb625d31316de555db283a.jpg',\n 'img1444150476482618047.jpg',\n 'Bildschirmfoto 2023-01-07 um 16.52.58.png',\n 'paste-86a758c76ab137ed607a0eecb63d22454871394c.jpg',\n 'Bildschirmfoto 2022-10-11 um 15.28.01.png',\n 'img2345162774797570480.jpg',\n 'paste-7cdb89daebd121cb2768515f1cf860411f7630e2.jpg',\n 'paste-5018c8072901e6ca35fa29778c9dff31cff768f2.jpg',\n 'img7856721232436278353.jpg',\n 'image-36ed6232a5b0bbfd83f6ff59b15c00d51b048617.png',\n 'paste-6de6edf74006853ecd8576118efbfeb6700ea8a5.jpg',\n 'Bildschirmfoto 2023-01-30 um 12.42.16.png',\n 'img394746988988963405.jpg',\n 'Bildschirmfoto 2023-01-06 um 12.49.48.png',\n 'paste-1683773955d771a66c2ba71e38c26eef6c4b65e9.jpg',\n 'paste-4c509b01c6cb247b2b5b6f35e394b8c5937c29e0.jpg',\n 'paste-055ff4890cccbbfdc8b7ed41ba6101d54373d1c7.jpg',\n 'img5089068217936499399.jpg',\n 'paste-c6192b1e091f393d3ba32935fb756f0460f02bb7.jpg',\n 'Bildschirmfoto 2022-11-23 um 19.17.48.png',\n 'Bildschirmfoto 2022-10-20 um 14.15.39.png',\n 'Bildschirmfoto 2023-01-06 um 13.12.07.png',\n 'Bildschirmfoto 2022-09-21 um 11.16.45.png',\n 'img8168960627413803901.jpg',\n 'paste-17b18d82761977563eba4fa8ca2352d50f4ebc7a.jpg',\n 'paste-3e7d46a374a0c3ed0a36c68309266ae5a81f8d82.jpg',\n 'Bildschirmfoto 2022-09-26 um 16.29.14.png',\n 'paste-7b6dfea4954947a357b3c809985022d840087315.jpg',\n 'Bildschirmfoto 2023-01-30 um 11.02.14.png',\n 'img6198499762462923278.jpg',\n 'img411934721060613731.jpg',\n 'Bildschirmfoto 2022-09-28 um 21.13.24.png',\n 'img1879412642540800749.jpg',\n 'img1906080333729559248.jpg',\n 'img4017105029270189568.jpg',\n 'img3698045871804139829.jpg',\n 'img4985526543331598077.jpg',\n 'img433160940437691139.jpg',\n 'img6917240902685262185.jpg',\n 'CodeCogsEqn.gif',\n 'img4390904293988560039.jpg',\n 'img7563718182746965637.jpg',\n 'paste-b5da9c390822558225d6d7ecdc1fa5a1ca562b68.jpg',\n 'img1586682114946342816.jpg',\n 'paste-efd5dc5ccafc1e2dc82b0dab9e9c1e632f38cfab.jpg',\n 'paste-7c28391003e37833aa1e472d50d044dede015ece.jpg',\n 'img7258401884471535373.jpg',\n 'Bildschirmfoto 2022-09-26 um 15.21.51.png',\n 'img4610769368882521779.jpg',\n 'paste-83ef3af89284fee1d9a8d6e6767ccb9fb1784529.jpg',\n 'Bildschirmfoto 2022-09-15 um 13.42.25.png',\n 'Bildschirmfoto 2022-09-28 um 21.18.04.png',\n 'img2265042845515365257.jpg',\n 'paste-8e62a943083bd36a866b948eceb5d0e1daf57b92.jpg',\n 'Bildschirmfoto 2023-01-06 um 13.02.29.png',\n 'paste-ecf92cdeedb4ef3e4f76769b18ec60a35f590a4e.jpg',\n 'img4812587603710560804.jpg',\n 'paste-2d05b6773fc644c7d10be096d800a1ba04311eb9.jpg',\n 'paste-0b5752ea3ddb49e4b11972075ccb33008dbc7f49.jpg']"
     },
     "execution_count": 25,
     "metadata": {},
     "output_type": "execute_result"
    }
   ],
   "source": [
    "os.listdir(os.path.join(col.path.parent.as_posix(), \"collection.media\"))"
   ],
   "metadata": {
    "collapsed": false,
    "ExecuteTime": {
     "start_time": "2023-04-19T13:46:26.385385Z",
     "end_time": "2023-04-19T13:46:26.396987Z"
    }
   }
  }
 ],
 "metadata": {
  "kernelspec": {
   "display_name": "Python 3",
   "language": "python",
   "name": "python3"
  },
  "language_info": {
   "codemirror_mode": {
    "name": "ipython",
    "version": 2
   },
   "file_extension": ".py",
   "mimetype": "text/x-python",
   "name": "python",
   "nbconvert_exporter": "python",
   "pygments_lexer": "ipython2",
   "version": "2.7.6"
  }
 },
 "nbformat": 4,
 "nbformat_minor": 0
}
