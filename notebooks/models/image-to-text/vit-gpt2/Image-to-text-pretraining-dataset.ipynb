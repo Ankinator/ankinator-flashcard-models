{
 "cells": [
  {
   "cell_type": "markdown",
   "source": [
    "# Dataset generation for Image-to-Text from Text-to-Text examples\n",
    "- This notebook briefly covers how the synthetic slides have been generated.\n",
    "- The synthetic slides feature:\n",
    "\t- PDFs with over 4000 pages\n",
    "\t- Each PDF uses a unique latex beamer theme\n",
    "\t- This acts as a form of data augmentation as the labels are the same but the image input looks different even though it holds the same data -> maybe find a better sounding explanation here\n",
    "- How it works brief overview:\n",
    "\t- Latex Beamer Templates have been adapted to include instructions for the templating engine Jinja2\n",
    "\t- These Templates can then be read with Jinja2 which will execute said instructions and produce a new .tex file\n",
    "\t- Which is then compiled into a PDF\n",
    "- Maybe include a listing with a latex template with jinja instructions as example and briefly explain how they work"
   ],
   "metadata": {
    "collapsed": false
   }
  },
  {
   "cell_type": "code",
   "execution_count": 8,
   "metadata": {
    "collapsed": true,
    "ExecuteTime": {
     "start_time": "2023-04-20T10:35:57.135077Z",
     "end_time": "2023-04-20T10:35:58.381252Z"
    }
   },
   "outputs": [],
   "source": [
    "import jinja2\n",
    "import os\n",
    "import pandas as pd\n",
    "from ankipandas import Collection\n",
    "import swifter"
   ]
  },
  {
   "cell_type": "code",
   "execution_count": 2,
   "outputs": [],
   "source": [
    "# setup jinja environment and define how a block, variable etc. looks\n",
    "latex_jinja_env = jinja2.Environment(\n",
    "\tblock_start_string = '\\BLOCK{',\n",
    "\tblock_end_string = '}',\n",
    "\tvariable_start_string = '\\VAR{',\n",
    "\tvariable_end_string = '}',\n",
    "\tcomment_start_string = '\\#{',\n",
    "\tcomment_end_string = '}',\n",
    "\tline_statement_prefix = '%%%&',\n",
    "\tline_comment_prefix = '%',\n",
    "\ttrim_blocks = True,\n",
    "\tautoescape = False,\n",
    "\tloader = jinja2.FileSystemLoader(\"/Users/I516998/Documents/uni - mannheim/ankinator/ankinator-flashcard-models/ressources/image-to-text-templates/\"))"
   ],
   "metadata": {
    "collapsed": false,
    "ExecuteTime": {
     "start_time": "2023-04-20T10:34:52.966832Z",
     "end_time": "2023-04-20T10:34:52.970795Z"
    }
   }
  },
  {
   "cell_type": "code",
   "execution_count": 3,
   "outputs": [
    {
     "name": "stderr",
     "output_type": "stream",
     "text": [
      "\u001B[32mINFO: Searching for database. This might take some time. You can speed this up by specifying a search path or directly entering the path to your database.\u001B[0m\n",
      "\u001B[33mWARNING: The search will stop at the first hit, so please verify that the result is correct (for example in case there might be more than one Anki installation)\u001B[0m\n"
     ]
    },
    {
     "data": {
      "text/plain": "               nguid        nmod  nusn ntags  \\\nnid                                            \n1627919721277  UXs8P  1627919797    -1    []   \n1627919797459  KsV;M  1627919913    -1    []   \n1627919913959  _JhDD  1627919958    -1    []   \n1627919958698  O,353  1627919986    -1    []   \n1627919986532  {bHQQ  1627920027    -1    []   \n...              ...         ...   ...   ...   \n1677937216242  C4J?7  1677938427    -1    []   \n1677938427446  w!Jw8  1677939124    -1    []   \n1677939124208  U:G#5  1677939220    -1    []   \n1677939220992  -u^ML  1677939386    -1    []   \n1677939386924  }H@9D  1677939879    -1    []   \n\n                                                           nflds    nmodel  \nnid                                                                         \n1627919721277                    [Gesamtkosten, Kfix+Kvar+At+Zt]  Standard  \n1627919797459  [Kalkulatorische Abschreibungen, <img src=\"img...  Standard  \n1627919913959  [Kalkulatorische Zinskosten, <img src=\"img6198...  Standard  \n1627919958698                  [Gewinnvergleichsrechnung, G=U-K]  Standard  \n1627919986532  [Rentabilitätsvergleichsrechnung, <img src=\"im...  Standard  \n...                                                          ...       ...  \n1677937216242  [Nennen sie die 2 Strategien der Beurteilung v...  Standard  \n1677938427446  [Berufskrankheit, Liegt vor, wenn eine versich...  Standard  \n1677939124208  [Aufgaben der Berufsgenossenschsften, Präventi...  Standard  \n1677939220992  [Definition Arbeitsunfall, Wenn eine versicher...  Standard  \n1677939386924  [Stab-Linie Modell, <img src=\"img5018538578624...  Standard  \n\n[1659 rows x 6 columns]",
      "text/html": "<div>\n<style scoped>\n    .dataframe tbody tr th:only-of-type {\n        vertical-align: middle;\n    }\n\n    .dataframe tbody tr th {\n        vertical-align: top;\n    }\n\n    .dataframe thead th {\n        text-align: right;\n    }\n</style>\n<table border=\"1\" class=\"dataframe\">\n  <thead>\n    <tr style=\"text-align: right;\">\n      <th></th>\n      <th>nguid</th>\n      <th>nmod</th>\n      <th>nusn</th>\n      <th>ntags</th>\n      <th>nflds</th>\n      <th>nmodel</th>\n    </tr>\n    <tr>\n      <th>nid</th>\n      <th></th>\n      <th></th>\n      <th></th>\n      <th></th>\n      <th></th>\n      <th></th>\n    </tr>\n  </thead>\n  <tbody>\n    <tr>\n      <th>1627919721277</th>\n      <td>UXs8P</td>\n      <td>1627919797</td>\n      <td>-1</td>\n      <td>[]</td>\n      <td>[Gesamtkosten, Kfix+Kvar+At+Zt]</td>\n      <td>Standard</td>\n    </tr>\n    <tr>\n      <th>1627919797459</th>\n      <td>KsV;M</td>\n      <td>1627919913</td>\n      <td>-1</td>\n      <td>[]</td>\n      <td>[Kalkulatorische Abschreibungen, &lt;img src=\"img...</td>\n      <td>Standard</td>\n    </tr>\n    <tr>\n      <th>1627919913959</th>\n      <td>_JhDD</td>\n      <td>1627919958</td>\n      <td>-1</td>\n      <td>[]</td>\n      <td>[Kalkulatorische Zinskosten, &lt;img src=\"img6198...</td>\n      <td>Standard</td>\n    </tr>\n    <tr>\n      <th>1627919958698</th>\n      <td>O,353</td>\n      <td>1627919986</td>\n      <td>-1</td>\n      <td>[]</td>\n      <td>[Gewinnvergleichsrechnung, G=U-K]</td>\n      <td>Standard</td>\n    </tr>\n    <tr>\n      <th>1627919986532</th>\n      <td>{bHQQ</td>\n      <td>1627920027</td>\n      <td>-1</td>\n      <td>[]</td>\n      <td>[Rentabilitätsvergleichsrechnung, &lt;img src=\"im...</td>\n      <td>Standard</td>\n    </tr>\n    <tr>\n      <th>...</th>\n      <td>...</td>\n      <td>...</td>\n      <td>...</td>\n      <td>...</td>\n      <td>...</td>\n      <td>...</td>\n    </tr>\n    <tr>\n      <th>1677937216242</th>\n      <td>C4J?7</td>\n      <td>1677938427</td>\n      <td>-1</td>\n      <td>[]</td>\n      <td>[Nennen sie die 2 Strategien der Beurteilung v...</td>\n      <td>Standard</td>\n    </tr>\n    <tr>\n      <th>1677938427446</th>\n      <td>w!Jw8</td>\n      <td>1677939124</td>\n      <td>-1</td>\n      <td>[]</td>\n      <td>[Berufskrankheit, Liegt vor, wenn eine versich...</td>\n      <td>Standard</td>\n    </tr>\n    <tr>\n      <th>1677939124208</th>\n      <td>U:G#5</td>\n      <td>1677939220</td>\n      <td>-1</td>\n      <td>[]</td>\n      <td>[Aufgaben der Berufsgenossenschsften, Präventi...</td>\n      <td>Standard</td>\n    </tr>\n    <tr>\n      <th>1677939220992</th>\n      <td>-u^ML</td>\n      <td>1677939386</td>\n      <td>-1</td>\n      <td>[]</td>\n      <td>[Definition Arbeitsunfall, Wenn eine versicher...</td>\n      <td>Standard</td>\n    </tr>\n    <tr>\n      <th>1677939386924</th>\n      <td>}H@9D</td>\n      <td>1677939879</td>\n      <td>-1</td>\n      <td>[]</td>\n      <td>[Stab-Linie Modell, &lt;img src=\"img5018538578624...</td>\n      <td>Standard</td>\n    </tr>\n  </tbody>\n</table>\n<p>1659 rows × 6 columns</p>\n</div>"
     },
     "execution_count": 3,
     "metadata": {},
     "output_type": "execute_result"
    }
   ],
   "source": [
    "col = Collection()\n",
    "col.notes"
   ],
   "metadata": {
    "collapsed": false,
    "ExecuteTime": {
     "start_time": "2023-04-20T10:34:56.376550Z",
     "end_time": "2023-04-20T10:34:56.776163Z"
    }
   }
  },
  {
   "cell_type": "code",
   "execution_count": 4,
   "outputs": [
    {
     "data": {
      "text/plain": "['Kalkulatorische Zinskosten', '<img src=\"img6198499762462923278.jpg\">']"
     },
     "execution_count": 4,
     "metadata": {},
     "output_type": "execute_result"
    }
   ],
   "source": [
    "col.notes.nflds.iloc[2]"
   ],
   "metadata": {
    "collapsed": false,
    "ExecuteTime": {
     "start_time": "2023-04-19T13:25:52.309605Z",
     "end_time": "2023-04-19T13:25:52.319607Z"
    }
   }
  },
  {
   "cell_type": "code",
   "execution_count": 4,
   "outputs": [
    {
     "data": {
      "text/plain": "                                                           nflds\nnid                                                             \n1627919721277                    [Gesamtkosten, Kfix+Kvar+At+Zt]\n1627919797459  [Kalkulatorische Abschreibungen, <img src=\"img...\n1627919913959  [Kalkulatorische Zinskosten, <img src=\"img6198...\n1627919958698                  [Gewinnvergleichsrechnung, G=U-K]\n1627919986532  [Rentabilitätsvergleichsrechnung, <img src=\"im...\n...                                                          ...\n1677937216242  [Nennen sie die 2 Strategien der Beurteilung v...\n1677938427446  [Berufskrankheit, Liegt vor, wenn eine versich...\n1677939124208  [Aufgaben der Berufsgenossenschsften, Präventi...\n1677939220992  [Definition Arbeitsunfall, Wenn eine versicher...\n1677939386924  [Stab-Linie Modell, <img src=\"img5018538578624...\n\n[1659 rows x 1 columns]",
      "text/html": "<div>\n<style scoped>\n    .dataframe tbody tr th:only-of-type {\n        vertical-align: middle;\n    }\n\n    .dataframe tbody tr th {\n        vertical-align: top;\n    }\n\n    .dataframe thead th {\n        text-align: right;\n    }\n</style>\n<table border=\"1\" class=\"dataframe\">\n  <thead>\n    <tr style=\"text-align: right;\">\n      <th></th>\n      <th>nflds</th>\n    </tr>\n    <tr>\n      <th>nid</th>\n      <th></th>\n    </tr>\n  </thead>\n  <tbody>\n    <tr>\n      <th>1627919721277</th>\n      <td>[Gesamtkosten, Kfix+Kvar+At+Zt]</td>\n    </tr>\n    <tr>\n      <th>1627919797459</th>\n      <td>[Kalkulatorische Abschreibungen, &lt;img src=\"img...</td>\n    </tr>\n    <tr>\n      <th>1627919913959</th>\n      <td>[Kalkulatorische Zinskosten, &lt;img src=\"img6198...</td>\n    </tr>\n    <tr>\n      <th>1627919958698</th>\n      <td>[Gewinnvergleichsrechnung, G=U-K]</td>\n    </tr>\n    <tr>\n      <th>1627919986532</th>\n      <td>[Rentabilitätsvergleichsrechnung, &lt;img src=\"im...</td>\n    </tr>\n    <tr>\n      <th>...</th>\n      <td>...</td>\n    </tr>\n    <tr>\n      <th>1677937216242</th>\n      <td>[Nennen sie die 2 Strategien der Beurteilung v...</td>\n    </tr>\n    <tr>\n      <th>1677938427446</th>\n      <td>[Berufskrankheit, Liegt vor, wenn eine versich...</td>\n    </tr>\n    <tr>\n      <th>1677939124208</th>\n      <td>[Aufgaben der Berufsgenossenschsften, Präventi...</td>\n    </tr>\n    <tr>\n      <th>1677939220992</th>\n      <td>[Definition Arbeitsunfall, Wenn eine versicher...</td>\n    </tr>\n    <tr>\n      <th>1677939386924</th>\n      <td>[Stab-Linie Modell, &lt;img src=\"img5018538578624...</td>\n    </tr>\n  </tbody>\n</table>\n<p>1659 rows × 1 columns</p>\n</div>"
     },
     "execution_count": 4,
     "metadata": {},
     "output_type": "execute_result"
    }
   ],
   "source": [
    "df = pd.DataFrame(col.notes.nflds) # extract anki data from anki database\n",
    "df"
   ],
   "metadata": {
    "collapsed": false,
    "ExecuteTime": {
     "start_time": "2023-04-20T10:35:00.242873Z",
     "end_time": "2023-04-20T10:35:00.247099Z"
    }
   }
  },
  {
   "cell_type": "code",
   "execution_count": 5,
   "outputs": [],
   "source": [
    "from typing import List, Union\n",
    "import regex as re\n",
    "from bs4 import BeautifulSoup\n",
    "\n",
    "# function to clean the answers of the flashcards\n",
    "def process_answers(x: List[str]) -> Union[List[str], None]:\n",
    "\tif re.match(r'.*<br>.*', x[1]): # check for newlines, if newline, then the answers are split to mimic bulletpoints on the slides\n",
    "\t\tinputs = x[1].split('<br>')\n",
    "\t\tx = [BeautifulSoup(i, features=\"lxml\").text for i in inputs if not re.match(r'<img src=\".*\">', i) and BeautifulSoup(i, features=\"lxml\").text != \"\"] # Only clean answers of additional styling if they don't include an image or if it would result in an empty string\n",
    "\t\tif len(x) == 0:\n",
    "\t\t\treturn None\n",
    "\t\treturn x\n",
    "\telse:\n",
    "\t\tx = [BeautifulSoup(x[1], features=\"lxml\").text] # clean data that doesn't include line breaks\n",
    "\t\tif x[0] != \"\": # only return non empty answers, the others include images\n",
    "\t\t\treturn x\n",
    "\t\telse: return None\n"
   ],
   "metadata": {
    "collapsed": false,
    "ExecuteTime": {
     "start_time": "2023-04-20T10:35:03.556040Z",
     "end_time": "2023-04-20T10:35:04.153248Z"
    }
   }
  },
  {
   "cell_type": "code",
   "execution_count": 37,
   "outputs": [],
   "source": [
    "import cv2\n",
    "from typing import Union\n",
    "\n",
    "def process_images(x: List[str]) -> Union[str,None]:\n",
    "\tcol_media_path: str = os.path.join(col.path.parent.as_posix(), \"collection.media\") # load media collection from anki\n",
    "\tif re.match(r'.*<img src=\".*[.](jpg|png)\">', x[1]): # check if an image is present\n",
    "\t\tsoup = BeautifulSoup(x[1])\n",
    "\n",
    "\t\tx = []\n",
    "\t\tfor img_tag in soup.find_all(\"img\"): # extract all image tags from anki html\n",
    "\t\t\tfull_image_path = os.path.join(col_media_path, img_tag.get(\"src\")) # get image path\n",
    "\t\t\tif os.path.exists(full_image_path) and re.match(r'.*[.](jpg|png)', img_tag.get(\"src\")): # check if image actually exist on disk, sometime anki has missing references\n",
    "\t\t\t\timage = cv2.imread(full_image_path) # read in image\n",
    "\t\t\t\tif image.shape[0] > image.shape[1]: # check if image is horizontal or vertical and convert it to horizontal to reduce latex page overflow errors\n",
    "\t\t\t\t\tcv2.imwrite(os.path.join(col_media_path, soup.find(\"img\").get(\"src\")),\n",
    "\t\t\t\t\t\t\t\tcv2.rotate(image, cv2.ROTATE_90_COUNTERCLOCKWISE))\n",
    "\n",
    "\t\t\t\tx.append('\\includegraphics[width=0.9\\\\textwidth,height=0.9\\\\textheight,keepaspectratio]{'+ full_image_path + '}') # append latex instructions on how to include the image to result\n",
    "\t\tif len(x) == 0:\n",
    "\t\t\treturn None\n",
    "\t\treturn x\n",
    "\n",
    "\treturn None"
   ],
   "metadata": {
    "collapsed": false,
    "ExecuteTime": {
     "start_time": "2023-04-20T11:13:03.689015Z",
     "end_time": "2023-04-20T11:13:03.692192Z"
    }
   }
  },
  {
   "cell_type": "code",
   "execution_count": 38,
   "outputs": [
    {
     "data": {
      "text/plain": "Pandas Apply:   0%|          | 0/1654 [00:00<?, ?it/s]",
      "application/vnd.jupyter.widget-view+json": {
       "version_major": 2,
       "version_minor": 0,
       "model_id": "a7738c3ee06d475983572f59c26adaf6"
      }
     },
     "metadata": {},
     "output_type": "display_data"
    },
    {
     "name": "stderr",
     "output_type": "stream",
     "text": [
      "/opt/homebrew/Caskroom/miniconda/base/envs/ankinator/lib/python3.9/site-packages/bs4/__init__.py:435: MarkupResemblesLocatorWarning: The input looks more like a filename than markup. You may want to open this file and pass the filehandle into Beautiful Soup.\n",
      "  warnings.warn(\n"
     ]
    },
    {
     "data": {
      "text/plain": "Pandas Apply:   0%|          | 0/1654 [00:00<?, ?it/s]",
      "application/vnd.jupyter.widget-view+json": {
       "version_major": 2,
       "version_minor": 0,
       "model_id": "35c4bce5e99240bdb1a60e863756e888"
      }
     },
     "metadata": {},
     "output_type": "display_data"
    },
    {
     "data": {
      "text/plain": "                                                           nflds  \\\nnid                                                                \n1627919721277                    [Gesamtkosten, Kfix+Kvar+At+Zt]   \n1627919797459  [Kalkulatorische Abschreibungen, <img src=\"img...   \n1627919913959  [Kalkulatorische Zinskosten, <img src=\"img6198...   \n1627919958698                  [Gewinnvergleichsrechnung, G=U-K]   \n1627920027341  [Amortisationsrechnung (statisch), <img src=\"i...   \n...                                                          ...   \n1677937216242  [Nennen sie die 2 Strategien der Beurteilung v...   \n1677938427446  [Berufskrankheit, Liegt vor, wenn eine versich...   \n1677939124208  [Aufgaben der Berufsgenossenschsften, Präventi...   \n1677939220992  [Definition Arbeitsunfall, Wenn eine versicher...   \n1677939386924  [Stab-Linie Modell, <img src=\"img5018538578624...   \n\n                                                          answer  \\\nnid                                                                \n1627919721277                                  [Kfix+Kvar+At+Zt]   \n1627919797459                                               None   \n1627919913959                                               None   \n1627919958698                                            [G=U-K]   \n1627920027341                                               None   \n...                                                          ...   \n1677937216242                             [Präventiv, Korrektiv]   \n1677938427446  [Liegt vor, wenn eine versicherte Person wühre...   \n1677939124208       [Prävention, Rehabilitation, Entschädigung ]   \n1677939220992  [Wenn eine versicherte Person sich bei einer v...   \n1677939386924  [Fachkräfte für Arbeitssicherheit und Sicherhe...   \n\n                                                          images  \nnid                                                               \n1627919721277                                               None  \n1627919797459  [\\includegraphics[width=0.9\\textwidth,height=0...  \n1627919913959  [\\includegraphics[width=0.9\\textwidth,height=0...  \n1627919958698                                               None  \n1627920027341  [\\includegraphics[width=0.9\\textwidth,height=0...  \n...                                                          ...  \n1677937216242                                               None  \n1677938427446                                               None  \n1677939124208                                               None  \n1677939220992                                               None  \n1677939386924  [\\includegraphics[width=0.9\\textwidth,height=0...  \n\n[1654 rows x 3 columns]",
      "text/html": "<div>\n<style scoped>\n    .dataframe tbody tr th:only-of-type {\n        vertical-align: middle;\n    }\n\n    .dataframe tbody tr th {\n        vertical-align: top;\n    }\n\n    .dataframe thead th {\n        text-align: right;\n    }\n</style>\n<table border=\"1\" class=\"dataframe\">\n  <thead>\n    <tr style=\"text-align: right;\">\n      <th></th>\n      <th>nflds</th>\n      <th>answer</th>\n      <th>images</th>\n    </tr>\n    <tr>\n      <th>nid</th>\n      <th></th>\n      <th></th>\n      <th></th>\n    </tr>\n  </thead>\n  <tbody>\n    <tr>\n      <th>1627919721277</th>\n      <td>[Gesamtkosten, Kfix+Kvar+At+Zt]</td>\n      <td>[Kfix+Kvar+At+Zt]</td>\n      <td>None</td>\n    </tr>\n    <tr>\n      <th>1627919797459</th>\n      <td>[Kalkulatorische Abschreibungen, &lt;img src=\"img...</td>\n      <td>None</td>\n      <td>[\\includegraphics[width=0.9\\textwidth,height=0...</td>\n    </tr>\n    <tr>\n      <th>1627919913959</th>\n      <td>[Kalkulatorische Zinskosten, &lt;img src=\"img6198...</td>\n      <td>None</td>\n      <td>[\\includegraphics[width=0.9\\textwidth,height=0...</td>\n    </tr>\n    <tr>\n      <th>1627919958698</th>\n      <td>[Gewinnvergleichsrechnung, G=U-K]</td>\n      <td>[G=U-K]</td>\n      <td>None</td>\n    </tr>\n    <tr>\n      <th>1627920027341</th>\n      <td>[Amortisationsrechnung (statisch), &lt;img src=\"i...</td>\n      <td>None</td>\n      <td>[\\includegraphics[width=0.9\\textwidth,height=0...</td>\n    </tr>\n    <tr>\n      <th>...</th>\n      <td>...</td>\n      <td>...</td>\n      <td>...</td>\n    </tr>\n    <tr>\n      <th>1677937216242</th>\n      <td>[Nennen sie die 2 Strategien der Beurteilung v...</td>\n      <td>[Präventiv, Korrektiv]</td>\n      <td>None</td>\n    </tr>\n    <tr>\n      <th>1677938427446</th>\n      <td>[Berufskrankheit, Liegt vor, wenn eine versich...</td>\n      <td>[Liegt vor, wenn eine versicherte Person wühre...</td>\n      <td>None</td>\n    </tr>\n    <tr>\n      <th>1677939124208</th>\n      <td>[Aufgaben der Berufsgenossenschsften, Präventi...</td>\n      <td>[Prävention, Rehabilitation, Entschädigung ]</td>\n      <td>None</td>\n    </tr>\n    <tr>\n      <th>1677939220992</th>\n      <td>[Definition Arbeitsunfall, Wenn eine versicher...</td>\n      <td>[Wenn eine versicherte Person sich bei einer v...</td>\n      <td>None</td>\n    </tr>\n    <tr>\n      <th>1677939386924</th>\n      <td>[Stab-Linie Modell, &lt;img src=\"img5018538578624...</td>\n      <td>[Fachkräfte für Arbeitssicherheit und Sicherhe...</td>\n      <td>[\\includegraphics[width=0.9\\textwidth,height=0...</td>\n    </tr>\n  </tbody>\n</table>\n<p>1654 rows × 3 columns</p>\n</div>"
     },
     "execution_count": 38,
     "metadata": {},
     "output_type": "execute_result"
    }
   ],
   "source": [
    "# Apply functions to the actual data\n",
    "df[\"answer\"] = df.nflds.swifter.apply(lambda x: process_answers(x))\n",
    "df[\"images\"] = df.nflds.swifter.apply(lambda x: process_images(x))\n",
    "df"
   ],
   "metadata": {
    "collapsed": false,
    "ExecuteTime": {
     "start_time": "2023-04-20T11:13:06.379242Z",
     "end_time": "2023-04-20T11:13:13.136643Z"
    }
   }
  },
  {
   "cell_type": "code",
   "execution_count": 15,
   "outputs": [
    {
     "data": {
      "text/plain": "                                                           nflds answer images\nnid                                                                           \n1627919986532  [Rentabilitätsvergleichsrechnung, <img src=\"im...   None   None\n1663752845592  [What is Power?, <img src=\"Bildschirmfoto 2022...   None   None\n1664197142201  [What is the Trait approach + the Great Man Th...   None   None\n1666439292330  [What is a Spark DataSet/DataFrame?<br><ul><li...   None   None\n1669627005248  [Subsumption Tree Input Domain Characterizatio...   None   None",
      "text/html": "<div>\n<style scoped>\n    .dataframe tbody tr th:only-of-type {\n        vertical-align: middle;\n    }\n\n    .dataframe tbody tr th {\n        vertical-align: top;\n    }\n\n    .dataframe thead th {\n        text-align: right;\n    }\n</style>\n<table border=\"1\" class=\"dataframe\">\n  <thead>\n    <tr style=\"text-align: right;\">\n      <th></th>\n      <th>nflds</th>\n      <th>answer</th>\n      <th>images</th>\n    </tr>\n    <tr>\n      <th>nid</th>\n      <th></th>\n      <th></th>\n      <th></th>\n    </tr>\n  </thead>\n  <tbody>\n    <tr>\n      <th>1627919986532</th>\n      <td>[Rentabilitätsvergleichsrechnung, &lt;img src=\"im...</td>\n      <td>None</td>\n      <td>None</td>\n    </tr>\n    <tr>\n      <th>1663752845592</th>\n      <td>[What is Power?, &lt;img src=\"Bildschirmfoto 2022...</td>\n      <td>None</td>\n      <td>None</td>\n    </tr>\n    <tr>\n      <th>1664197142201</th>\n      <td>[What is the Trait approach + the Great Man Th...</td>\n      <td>None</td>\n      <td>None</td>\n    </tr>\n    <tr>\n      <th>1666439292330</th>\n      <td>[What is a Spark DataSet/DataFrame?&lt;br&gt;&lt;ul&gt;&lt;li...</td>\n      <td>None</td>\n      <td>None</td>\n    </tr>\n    <tr>\n      <th>1669627005248</th>\n      <td>[Subsumption Tree Input Domain Characterizatio...</td>\n      <td>None</td>\n      <td>None</td>\n    </tr>\n  </tbody>\n</table>\n</div>"
     },
     "execution_count": 15,
     "metadata": {},
     "output_type": "execute_result"
    }
   ],
   "source": [
    "df.loc[(df.answer.isnull()) & (df.images.isnull())]"
   ],
   "metadata": {
    "collapsed": false,
    "ExecuteTime": {
     "start_time": "2023-04-20T10:45:28.791307Z",
     "end_time": "2023-04-20T10:45:28.794629Z"
    }
   }
  },
  {
   "cell_type": "code",
   "execution_count": 39,
   "outputs": [
    {
     "data": {
      "text/plain": "                                                           nflds  \\\nnid                                                                \n1627919721277                    [Gesamtkosten, Kfix+Kvar+At+Zt]   \n1627919797459  [Kalkulatorische Abschreibungen, <img src=\"img...   \n1627919913959  [Kalkulatorische Zinskosten, <img src=\"img6198...   \n1627919958698                  [Gewinnvergleichsrechnung, G=U-K]   \n1627920027341  [Amortisationsrechnung (statisch), <img src=\"i...   \n...                                                          ...   \n1677937216242  [Nennen sie die 2 Strategien der Beurteilung v...   \n1677938427446  [Berufskrankheit, Liegt vor, wenn eine versich...   \n1677939124208  [Aufgaben der Berufsgenossenschsften, Präventi...   \n1677939220992  [Definition Arbeitsunfall, Wenn eine versicher...   \n1677939386924  [Stab-Linie Modell, <img src=\"img5018538578624...   \n\n                                                          answer  \\\nnid                                                                \n1627919721277                                  [Kfix+Kvar+At+Zt]   \n1627919797459                                               None   \n1627919913959                                               None   \n1627919958698                                            [G=U-K]   \n1627920027341                                               None   \n...                                                          ...   \n1677937216242                             [Präventiv, Korrektiv]   \n1677938427446  [Liegt vor, wenn eine versicherte Person wühre...   \n1677939124208       [Prävention, Rehabilitation, Entschädigung ]   \n1677939220992  [Wenn eine versicherte Person sich bei einer v...   \n1677939386924  [Fachkräfte für Arbeitssicherheit und Sicherhe...   \n\n                                                          images  \nnid                                                               \n1627919721277                                               None  \n1627919797459  [\\includegraphics[width=0.9\\textwidth,height=0...  \n1627919913959  [\\includegraphics[width=0.9\\textwidth,height=0...  \n1627919958698                                               None  \n1627920027341  [\\includegraphics[width=0.9\\textwidth,height=0...  \n...                                                          ...  \n1677937216242                                               None  \n1677938427446                                               None  \n1677939124208                                               None  \n1677939220992                                               None  \n1677939386924  [\\includegraphics[width=0.9\\textwidth,height=0...  \n\n[1654 rows x 3 columns]",
      "text/html": "<div>\n<style scoped>\n    .dataframe tbody tr th:only-of-type {\n        vertical-align: middle;\n    }\n\n    .dataframe tbody tr th {\n        vertical-align: top;\n    }\n\n    .dataframe thead th {\n        text-align: right;\n    }\n</style>\n<table border=\"1\" class=\"dataframe\">\n  <thead>\n    <tr style=\"text-align: right;\">\n      <th></th>\n      <th>nflds</th>\n      <th>answer</th>\n      <th>images</th>\n    </tr>\n    <tr>\n      <th>nid</th>\n      <th></th>\n      <th></th>\n      <th></th>\n    </tr>\n  </thead>\n  <tbody>\n    <tr>\n      <th>1627919721277</th>\n      <td>[Gesamtkosten, Kfix+Kvar+At+Zt]</td>\n      <td>[Kfix+Kvar+At+Zt]</td>\n      <td>None</td>\n    </tr>\n    <tr>\n      <th>1627919797459</th>\n      <td>[Kalkulatorische Abschreibungen, &lt;img src=\"img...</td>\n      <td>None</td>\n      <td>[\\includegraphics[width=0.9\\textwidth,height=0...</td>\n    </tr>\n    <tr>\n      <th>1627919913959</th>\n      <td>[Kalkulatorische Zinskosten, &lt;img src=\"img6198...</td>\n      <td>None</td>\n      <td>[\\includegraphics[width=0.9\\textwidth,height=0...</td>\n    </tr>\n    <tr>\n      <th>1627919958698</th>\n      <td>[Gewinnvergleichsrechnung, G=U-K]</td>\n      <td>[G=U-K]</td>\n      <td>None</td>\n    </tr>\n    <tr>\n      <th>1627920027341</th>\n      <td>[Amortisationsrechnung (statisch), &lt;img src=\"i...</td>\n      <td>None</td>\n      <td>[\\includegraphics[width=0.9\\textwidth,height=0...</td>\n    </tr>\n    <tr>\n      <th>...</th>\n      <td>...</td>\n      <td>...</td>\n      <td>...</td>\n    </tr>\n    <tr>\n      <th>1677937216242</th>\n      <td>[Nennen sie die 2 Strategien der Beurteilung v...</td>\n      <td>[Präventiv, Korrektiv]</td>\n      <td>None</td>\n    </tr>\n    <tr>\n      <th>1677938427446</th>\n      <td>[Berufskrankheit, Liegt vor, wenn eine versich...</td>\n      <td>[Liegt vor, wenn eine versicherte Person wühre...</td>\n      <td>None</td>\n    </tr>\n    <tr>\n      <th>1677939124208</th>\n      <td>[Aufgaben der Berufsgenossenschsften, Präventi...</td>\n      <td>[Prävention, Rehabilitation, Entschädigung ]</td>\n      <td>None</td>\n    </tr>\n    <tr>\n      <th>1677939220992</th>\n      <td>[Definition Arbeitsunfall, Wenn eine versicher...</td>\n      <td>[Wenn eine versicherte Person sich bei einer v...</td>\n      <td>None</td>\n    </tr>\n    <tr>\n      <th>1677939386924</th>\n      <td>[Stab-Linie Modell, &lt;img src=\"img5018538578624...</td>\n      <td>[Fachkräfte für Arbeitssicherheit und Sicherhe...</td>\n      <td>[\\includegraphics[width=0.9\\textwidth,height=0...</td>\n    </tr>\n  </tbody>\n</table>\n<p>1654 rows × 3 columns</p>\n</div>"
     },
     "execution_count": 39,
     "metadata": {},
     "output_type": "execute_result"
    }
   ],
   "source": [
    "df.drop(df.loc[(df.answer.isnull()) & (df.images.isnull())].index, inplace=True) # Filter results which can't be processed because of missing references etc.\n",
    "df"
   ],
   "metadata": {
    "collapsed": false,
    "ExecuteTime": {
     "start_time": "2023-04-20T11:13:16.320321Z",
     "end_time": "2023-04-20T11:13:16.322451Z"
    }
   }
  },
  {
   "cell_type": "code",
   "execution_count": 57,
   "outputs": [
    {
     "data": {
      "text/plain": "Pandas Apply:   0%|          | 0/1654 [00:00<?, ?it/s]",
      "application/vnd.jupyter.widget-view+json": {
       "version_major": 2,
       "version_minor": 0,
       "model_id": "ec395ad922f847df81e823dac6de83a6"
      }
     },
     "metadata": {},
     "output_type": "display_data"
    },
    {
     "data": {
      "text/plain": "                                                        Question  \\\nnid                                                                \n1627919721277                                       Gesamtkosten   \n1627919797459                     Kalkulatorische Abschreibungen   \n1627919913959                         Kalkulatorische Zinskosten   \n1627919958698                           Gewinnvergleichsrechnung   \n1627920027341                   Amortisationsrechnung (statisch)   \n...                                                          ...   \n1677937216242  Nennen sie die 2 Strategien der Beurteilung vo...   \n1677938427446                                    Berufskrankheit   \n1677939124208                Aufgaben der Berufsgenossenschsften   \n1677939220992                           Definition Arbeitsunfall   \n1677939386924                                  Stab-Linie Modell   \n\n                                                          Answer  \nnid                                                               \n1627919721277                                    Kfix+Kvar+At+Zt  \n1627919797459             <img src=\"img1963991816782229408.jpg\">  \n1627919913959             <img src=\"img6198499762462923278.jpg\">  \n1627919958698                                              G=U-K  \n1627920027341             <img src=\"img8608825578963105513.jpg\">  \n...                                                          ...  \n1677937216242                             Präventiv<br>Korrektiv  \n1677938427446  Liegt vor, wenn eine versicherte Person wühren...  \n1677939124208     Prävention<br>Rehabilitation<br>Entschädigung   \n1677939220992  Wenn eine versicherte Person sich bei einer ve...  \n1677939386924  <img src=\"img5018538578624065929.jpg\"><br><br>...  \n\n[1654 rows x 2 columns]",
      "text/html": "<div>\n<style scoped>\n    .dataframe tbody tr th:only-of-type {\n        vertical-align: middle;\n    }\n\n    .dataframe tbody tr th {\n        vertical-align: top;\n    }\n\n    .dataframe thead th {\n        text-align: right;\n    }\n</style>\n<table border=\"1\" class=\"dataframe\">\n  <thead>\n    <tr style=\"text-align: right;\">\n      <th></th>\n      <th>Question</th>\n      <th>Answer</th>\n    </tr>\n    <tr>\n      <th>nid</th>\n      <th></th>\n      <th></th>\n    </tr>\n  </thead>\n  <tbody>\n    <tr>\n      <th>1627919721277</th>\n      <td>Gesamtkosten</td>\n      <td>Kfix+Kvar+At+Zt</td>\n    </tr>\n    <tr>\n      <th>1627919797459</th>\n      <td>Kalkulatorische Abschreibungen</td>\n      <td>&lt;img src=\"img1963991816782229408.jpg\"&gt;</td>\n    </tr>\n    <tr>\n      <th>1627919913959</th>\n      <td>Kalkulatorische Zinskosten</td>\n      <td>&lt;img src=\"img6198499762462923278.jpg\"&gt;</td>\n    </tr>\n    <tr>\n      <th>1627919958698</th>\n      <td>Gewinnvergleichsrechnung</td>\n      <td>G=U-K</td>\n    </tr>\n    <tr>\n      <th>1627920027341</th>\n      <td>Amortisationsrechnung (statisch)</td>\n      <td>&lt;img src=\"img8608825578963105513.jpg\"&gt;</td>\n    </tr>\n    <tr>\n      <th>...</th>\n      <td>...</td>\n      <td>...</td>\n    </tr>\n    <tr>\n      <th>1677937216242</th>\n      <td>Nennen sie die 2 Strategien der Beurteilung vo...</td>\n      <td>Präventiv&lt;br&gt;Korrektiv</td>\n    </tr>\n    <tr>\n      <th>1677938427446</th>\n      <td>Berufskrankheit</td>\n      <td>Liegt vor, wenn eine versicherte Person wühren...</td>\n    </tr>\n    <tr>\n      <th>1677939124208</th>\n      <td>Aufgaben der Berufsgenossenschsften</td>\n      <td>Prävention&lt;br&gt;Rehabilitation&lt;br&gt;Entschädigung</td>\n    </tr>\n    <tr>\n      <th>1677939220992</th>\n      <td>Definition Arbeitsunfall</td>\n      <td>Wenn eine versicherte Person sich bei einer ve...</td>\n    </tr>\n    <tr>\n      <th>1677939386924</th>\n      <td>Stab-Linie Modell</td>\n      <td>&lt;img src=\"img5018538578624065929.jpg\"&gt;&lt;br&gt;&lt;br&gt;...</td>\n    </tr>\n  </tbody>\n</table>\n<p>1654 rows × 2 columns</p>\n</div>"
     },
     "execution_count": 57,
     "metadata": {},
     "output_type": "execute_result"
    }
   ],
   "source": [
    "df.nflds.swifter.apply(pd.Series).rename(columns={0: \"Question\", 1: \"Answer\"}) # split data into columns"
   ],
   "metadata": {
    "collapsed": false,
    "ExecuteTime": {
     "start_time": "2023-04-20T16:19:22.145708Z",
     "end_time": "2023-04-20T16:19:22.229657Z"
    }
   }
  },
  {
   "cell_type": "code",
   "execution_count": 50,
   "outputs": [],
   "source": [
    "template = latex_jinja_env.get_template('English-LaTeX-beamer-template-EMC_IMT_FEIT_OVGU_Stimulate/main.tex') # load latex template with jinja instructions\n",
    "output_path = \"../../../ressources/image-to-text-templates/English-LaTeX-beamer-template-EMC_IMT_FEIT_OVGU_Stimulate/test.tex\" # define output path\n",
    "render = template.render(data=df.iloc[50:70]) # Render new latex file from latex template with jinja\n",
    "with open(output_path, \"w\") as f:\n",
    "\tf.write(render) # write latex code to file"
   ],
   "metadata": {
    "collapsed": false,
    "ExecuteTime": {
     "start_time": "2023-04-20T11:45:48.684277Z",
     "end_time": "2023-04-20T11:45:48.709212Z"
    }
   }
  },
  {
   "cell_type": "code",
   "execution_count": 51,
   "outputs": [
    {
     "name": "stdout",
     "output_type": "stream",
     "text": [
      "This is pdfTeX, Version 3.141592653-2.6-1.40.25 (TeX Live 2023) (preloaded format=pdflatex)\n",
      " restricted \\write18 enabled.\n",
      "entering extended mode\n",
      "\n",
      "(../../../ressources/image-to-text-templates/English-LaTeX-beamer-template-EMC_\n",
      "IMT_FEIT_OVGU_Stimulate/test.tex\n",
      "LaTeX2e <2022-11-01> patch level 1\n",
      "L3 programming layer <2023-02-22>\n",
      "(/usr/local/texlive/2023/texmf-dist/tex/latex/beamer/beamer.cls\n",
      "Document Class: beamer 2023/02/20 v3.69 A class for typesetting presentations\n",
      "(/usr/local/texlive/2023/texmf-dist/tex/latex/beamer/beamerbasemodes.sty\n",
      "(/usr/local/texlive/2023/texmf-dist/tex/latex/etoolbox/etoolbox.sty)\n",
      "(/usr/local/texlive/2023/texmf-dist/tex/latex/beamer/beamerbasedecode.sty))\n",
      "(/usr/local/texlive/2023/texmf-dist/tex/generic/iftex/iftex.sty)\n",
      "(/usr/local/texlive/2023/texmf-dist/tex/latex/beamer/beamerbaseoptions.sty\n",
      "(/usr/local/texlive/2023/texmf-dist/tex/latex/graphics/keyval.sty))\n",
      "(/usr/local/texlive/2023/texmf-dist/tex/latex/geometry/geometry.sty\n",
      "(/usr/local/texlive/2023/texmf-dist/tex/generic/iftex/ifvtex.sty))\n",
      "(/usr/local/texlive/2023/texmf-dist/tex/latex/pgf/math/pgfmath.sty\n",
      "(/usr/local/texlive/2023/texmf-dist/tex/latex/pgf/utilities/pgfrcs.sty\n",
      "(/usr/local/texlive/2023/texmf-dist/tex/generic/pgf/utilities/pgfutil-common.te\n",
      "x)\n",
      "(/usr/local/texlive/2023/texmf-dist/tex/generic/pgf/utilities/pgfutil-latex.def\n",
      ") (/usr/local/texlive/2023/texmf-dist/tex/generic/pgf/utilities/pgfrcs.code.tex\n",
      "(/usr/local/texlive/2023/texmf-dist/tex/generic/pgf/pgf.revision.tex)))\n",
      "(/usr/local/texlive/2023/texmf-dist/tex/latex/pgf/utilities/pgfkeys.sty\n",
      "(/usr/local/texlive/2023/texmf-dist/tex/generic/pgf/utilities/pgfkeys.code.tex\n",
      "(/usr/local/texlive/2023/texmf-dist/tex/generic/pgf/utilities/pgfkeyslibraryfil\n",
      "tered.code.tex)))\n",
      "(/usr/local/texlive/2023/texmf-dist/tex/generic/pgf/math/pgfmath.code.tex\n",
      "(/usr/local/texlive/2023/texmf-dist/tex/generic/pgf/math/pgfmathutil.code.tex)\n",
      "(/usr/local/texlive/2023/texmf-dist/tex/generic/pgf/math/pgfmathparser.code.tex\n",
      ")\n",
      "(/usr/local/texlive/2023/texmf-dist/tex/generic/pgf/math/pgfmathfunctions.code.\n",
      "tex)\n",
      "(/usr/local/texlive/2023/texmf-dist/tex/generic/pgf/math/pgfmathfunctions.basic\n",
      ".code.tex)\n",
      "(/usr/local/texlive/2023/texmf-dist/tex/generic/pgf/math/pgfmathfunctions.trigo\n",
      "nometric.code.tex)\n",
      "(/usr/local/texlive/2023/texmf-dist/tex/generic/pgf/math/pgfmathfunctions.rando\n",
      "m.code.tex)\n",
      "(/usr/local/texlive/2023/texmf-dist/tex/generic/pgf/math/pgfmathfunctions.compa\n",
      "rison.code.tex)\n",
      "(/usr/local/texlive/2023/texmf-dist/tex/generic/pgf/math/pgfmathfunctions.base.\n",
      "code.tex)\n",
      "(/usr/local/texlive/2023/texmf-dist/tex/generic/pgf/math/pgfmathfunctions.round\n",
      ".code.tex)\n",
      "(/usr/local/texlive/2023/texmf-dist/tex/generic/pgf/math/pgfmathfunctions.misc.\n",
      "code.tex)\n",
      "(/usr/local/texlive/2023/texmf-dist/tex/generic/pgf/math/pgfmathfunctions.integ\n",
      "erarithmetics.code.tex)\n",
      "(/usr/local/texlive/2023/texmf-dist/tex/generic/pgf/math/pgfmathcalc.code.tex)\n",
      "(/usr/local/texlive/2023/texmf-dist/tex/generic/pgf/math/pgfmathfloat.code.tex)\n",
      ")) (/usr/local/texlive/2023/texmf-dist/tex/latex/base/size11.clo)\n",
      "(/usr/local/texlive/2023/texmf-dist/tex/latex/pgf/basiclayer/pgfcore.sty\n",
      "(/usr/local/texlive/2023/texmf-dist/tex/latex/graphics/graphicx.sty\n",
      "(/usr/local/texlive/2023/texmf-dist/tex/latex/graphics/graphics.sty\n",
      "(/usr/local/texlive/2023/texmf-dist/tex/latex/graphics/trig.sty)\n",
      "(/usr/local/texlive/2023/texmf-dist/tex/latex/graphics-cfg/graphics.cfg)\n",
      "(/usr/local/texlive/2023/texmf-dist/tex/latex/graphics-def/pdftex.def)))\n",
      "(/usr/local/texlive/2023/texmf-dist/tex/latex/pgf/systemlayer/pgfsys.sty\n",
      "(/usr/local/texlive/2023/texmf-dist/tex/generic/pgf/systemlayer/pgfsys.code.tex\n",
      "(/usr/local/texlive/2023/texmf-dist/tex/generic/pgf/systemlayer/pgf.cfg)\n",
      "(/usr/local/texlive/2023/texmf-dist/tex/generic/pgf/systemlayer/pgfsys-pdftex.d\n",
      "ef\n",
      "(/usr/local/texlive/2023/texmf-dist/tex/generic/pgf/systemlayer/pgfsys-common-p\n",
      "df.def)))\n",
      "(/usr/local/texlive/2023/texmf-dist/tex/generic/pgf/systemlayer/pgfsyssoftpath.\n",
      "code.tex)\n",
      "(/usr/local/texlive/2023/texmf-dist/tex/generic/pgf/systemlayer/pgfsysprotocol.\n",
      "code.tex)) (/usr/local/texlive/2023/texmf-dist/tex/latex/xcolor/xcolor.sty\n",
      "(/usr/local/texlive/2023/texmf-dist/tex/latex/graphics-cfg/color.cfg)\n",
      "(/usr/local/texlive/2023/texmf-dist/tex/latex/graphics/mathcolor.ltx))\n",
      "(/usr/local/texlive/2023/texmf-dist/tex/generic/pgf/basiclayer/pgfcore.code.tex\n",
      "(/usr/local/texlive/2023/texmf-dist/tex/generic/pgf/math/pgfint.code.tex)\n",
      "(/usr/local/texlive/2023/texmf-dist/tex/generic/pgf/basiclayer/pgfcorepoints.co\n",
      "de.tex)\n",
      "(/usr/local/texlive/2023/texmf-dist/tex/generic/pgf/basiclayer/pgfcorepathconst\n",
      "ruct.code.tex)\n",
      "(/usr/local/texlive/2023/texmf-dist/tex/generic/pgf/basiclayer/pgfcorepathusage\n",
      ".code.tex)\n",
      "(/usr/local/texlive/2023/texmf-dist/tex/generic/pgf/basiclayer/pgfcorescopes.co\n",
      "de.tex)\n",
      "(/usr/local/texlive/2023/texmf-dist/tex/generic/pgf/basiclayer/pgfcoregraphicst\n",
      "ate.code.tex)\n",
      "(/usr/local/texlive/2023/texmf-dist/tex/generic/pgf/basiclayer/pgfcoretransform\n",
      "ations.code.tex)\n",
      "(/usr/local/texlive/2023/texmf-dist/tex/generic/pgf/basiclayer/pgfcorequick.cod\n",
      "e.tex)\n",
      "(/usr/local/texlive/2023/texmf-dist/tex/generic/pgf/basiclayer/pgfcoreobjects.c\n",
      "ode.tex)\n",
      "(/usr/local/texlive/2023/texmf-dist/tex/generic/pgf/basiclayer/pgfcorepathproce\n",
      "ssing.code.tex)\n",
      "(/usr/local/texlive/2023/texmf-dist/tex/generic/pgf/basiclayer/pgfcorearrows.co\n",
      "de.tex)\n",
      "(/usr/local/texlive/2023/texmf-dist/tex/generic/pgf/basiclayer/pgfcoreshade.cod\n",
      "e.tex)\n",
      "(/usr/local/texlive/2023/texmf-dist/tex/generic/pgf/basiclayer/pgfcoreimage.cod\n",
      "e.tex)\n",
      "(/usr/local/texlive/2023/texmf-dist/tex/generic/pgf/basiclayer/pgfcoreexternal.\n",
      "code.tex)\n",
      "(/usr/local/texlive/2023/texmf-dist/tex/generic/pgf/basiclayer/pgfcorelayers.co\n",
      "de.tex)\n",
      "(/usr/local/texlive/2023/texmf-dist/tex/generic/pgf/basiclayer/pgfcoretranspare\n",
      "ncy.code.tex)\n",
      "(/usr/local/texlive/2023/texmf-dist/tex/generic/pgf/basiclayer/pgfcorepatterns.\n",
      "code.tex)\n",
      "(/usr/local/texlive/2023/texmf-dist/tex/generic/pgf/basiclayer/pgfcorerdf.code.\n",
      "tex))) (/usr/local/texlive/2023/texmf-dist/tex/latex/pgf/utilities/xxcolor.sty)\n",
      " (/usr/local/texlive/2023/texmf-dist/tex/latex/base/atbegshi-ltx.sty)\n",
      "(/usr/local/texlive/2023/texmf-dist/tex/latex/hyperref/hyperref.sty\n",
      "(/usr/local/texlive/2023/texmf-dist/tex/generic/ltxcmds/ltxcmds.sty)\n",
      "(/usr/local/texlive/2023/texmf-dist/tex/generic/pdftexcmds/pdftexcmds.sty\n",
      "(/usr/local/texlive/2023/texmf-dist/tex/generic/infwarerr/infwarerr.sty))\n",
      "(/usr/local/texlive/2023/texmf-dist/tex/latex/kvsetkeys/kvsetkeys.sty)\n",
      "(/usr/local/texlive/2023/texmf-dist/tex/generic/kvdefinekeys/kvdefinekeys.sty)\n",
      "(/usr/local/texlive/2023/texmf-dist/tex/generic/pdfescape/pdfescape.sty)\n",
      "(/usr/local/texlive/2023/texmf-dist/tex/latex/hycolor/hycolor.sty)\n",
      "(/usr/local/texlive/2023/texmf-dist/tex/latex/letltxmacro/letltxmacro.sty)\n",
      "(/usr/local/texlive/2023/texmf-dist/tex/latex/auxhook/auxhook.sty)\n",
      "(/usr/local/texlive/2023/texmf-dist/tex/latex/hyperref/nameref.sty\n",
      "(/usr/local/texlive/2023/texmf-dist/tex/latex/refcount/refcount.sty)\n",
      "(/usr/local/texlive/2023/texmf-dist/tex/generic/gettitlestring/gettitlestring.s\n",
      "ty (/usr/local/texlive/2023/texmf-dist/tex/latex/kvoptions/kvoptions.sty)))\n",
      "(/usr/local/texlive/2023/texmf-dist/tex/latex/hyperref/pd1enc.def)\n",
      "(/usr/local/texlive/2023/texmf-dist/tex/generic/intcalc/intcalc.sty)\n",
      "(/usr/local/texlive/2023/texmf-dist/tex/generic/etexcmds/etexcmds.sty)\n",
      "(/usr/local/texlive/2023/texmf-dist/tex/latex/hyperref/puenc.def)\n",
      "(/usr/local/texlive/2023/texmf-dist/tex/latex/url/url.sty)\n",
      "(/usr/local/texlive/2023/texmf-dist/tex/generic/bitset/bitset.sty\n",
      "(/usr/local/texlive/2023/texmf-dist/tex/generic/bigintcalc/bigintcalc.sty))\n",
      "\n",
      "Package hyperref Message: Stopped early.\n",
      "\n",
      ") (/usr/local/texlive/2023/texmf-dist/tex/latex/hyperref/hpdftex.def\n",
      "(/usr/local/texlive/2023/texmf-dist/tex/latex/base/atveryend-ltx.sty)\n",
      "(/usr/local/texlive/2023/texmf-dist/tex/latex/rerunfilecheck/rerunfilecheck.sty\n",
      "\n",
      "(/usr/local/texlive/2023/texmf-dist/tex/generic/uniquecounter/uniquecounter.sty\n",
      "))) (/usr/local/texlive/2023/texmf-dist/tex/latex/beamer/beamerbaserequires.sty\n",
      "\n",
      "(/usr/local/texlive/2023/texmf-dist/tex/latex/beamer/beamerbasecompatibility.st\n",
      "y) (/usr/local/texlive/2023/texmf-dist/tex/latex/beamer/beamerbasefont.sty\n",
      "(/usr/local/texlive/2023/texmf-dist/tex/latex/amsfonts/amssymb.sty\n",
      "(/usr/local/texlive/2023/texmf-dist/tex/latex/amsfonts/amsfonts.sty))\n",
      "(/usr/local/texlive/2023/texmf-dist/tex/latex/sansmathaccent/sansmathaccent.sty\n",
      "(/usr/local/texlive/2023/texmf-dist/tex/latex/koma-script/scrlfile.sty\n",
      "(/usr/local/texlive/2023/texmf-dist/tex/latex/koma-script/scrlfile-hook.sty\n",
      "(/usr/local/texlive/2023/texmf-dist/tex/latex/koma-script/scrlogo.sty)))))\n",
      "(/usr/local/texlive/2023/texmf-dist/tex/latex/beamer/beamerbasetranslator.sty\n",
      "(/usr/local/texlive/2023/texmf-dist/tex/latex/translator/translator.sty))\n",
      "(/usr/local/texlive/2023/texmf-dist/tex/latex/beamer/beamerbasemisc.sty)\n",
      "(/usr/local/texlive/2023/texmf-dist/tex/latex/beamer/beamerbasetwoscreens.sty)\n",
      "(/usr/local/texlive/2023/texmf-dist/tex/latex/beamer/beamerbaseoverlay.sty)\n",
      "(/usr/local/texlive/2023/texmf-dist/tex/latex/beamer/beamerbasetitle.sty)\n",
      "(/usr/local/texlive/2023/texmf-dist/tex/latex/beamer/beamerbasesection.sty)\n",
      "(/usr/local/texlive/2023/texmf-dist/tex/latex/beamer/beamerbaseframe.sty)\n",
      "(/usr/local/texlive/2023/texmf-dist/tex/latex/beamer/beamerbaseverbatim.sty)\n",
      "(/usr/local/texlive/2023/texmf-dist/tex/latex/beamer/beamerbaseframesize.sty)\n",
      "(/usr/local/texlive/2023/texmf-dist/tex/latex/beamer/beamerbaseframecomponents.\n",
      "sty) (/usr/local/texlive/2023/texmf-dist/tex/latex/beamer/beamerbasecolor.sty)\n",
      "(/usr/local/texlive/2023/texmf-dist/tex/latex/beamer/beamerbasenotes.sty)\n",
      "(/usr/local/texlive/2023/texmf-dist/tex/latex/beamer/beamerbasetoc.sty)\n",
      "(/usr/local/texlive/2023/texmf-dist/tex/latex/beamer/beamerbasetemplates.sty\n",
      "(/usr/local/texlive/2023/texmf-dist/tex/latex/beamer/beamerbaseauxtemplates.sty\n",
      "(/usr/local/texlive/2023/texmf-dist/tex/latex/beamer/beamerbaseboxes.sty)))\n",
      "(/usr/local/texlive/2023/texmf-dist/tex/latex/beamer/beamerbaselocalstructure.s\n",
      "ty (/usr/local/texlive/2023/texmf-dist/tex/latex/tools/enumerate.sty))\n",
      "(/usr/local/texlive/2023/texmf-dist/tex/latex/beamer/beamerbasenavigation.sty\n",
      "(/usr/local/texlive/2023/texmf-dist/tex/latex/beamer/beamerbasenavigationsymbol\n",
      "s.tex))\n",
      "(/usr/local/texlive/2023/texmf-dist/tex/latex/beamer/beamerbasetheorems.sty\n",
      "(/usr/local/texlive/2023/texmf-dist/tex/latex/amsmath/amsmath.sty\n",
      "For additional information on amsmath, use the `?' option.\n",
      "(/usr/local/texlive/2023/texmf-dist/tex/latex/amsmath/amstext.sty\n",
      "(/usr/local/texlive/2023/texmf-dist/tex/latex/amsmath/amsgen.sty))\n",
      "(/usr/local/texlive/2023/texmf-dist/tex/latex/amsmath/amsbsy.sty)\n",
      "(/usr/local/texlive/2023/texmf-dist/tex/latex/amsmath/amsopn.sty))\n",
      "(/usr/local/texlive/2023/texmf-dist/tex/latex/amscls/amsthm.sty))\n",
      "(/usr/local/texlive/2023/texmf-dist/tex/latex/beamer/beamerbasethemes.sty))\n",
      "(/usr/local/texlive/2023/texmf-dist/tex/latex/beamer/beamerthemedefault.sty\n",
      "(/usr/local/texlive/2023/texmf-dist/tex/latex/beamer/beamerfontthemedefault.sty\n",
      ")\n",
      "(/usr/local/texlive/2023/texmf-dist/tex/latex/beamer/beamercolorthemedefault.st\n",
      "y)\n",
      "(/usr/local/texlive/2023/texmf-dist/tex/latex/beamer/beamerinnerthemedefault.st\n",
      "y)\n",
      "(/usr/local/texlive/2023/texmf-dist/tex/latex/beamer/beamerouterthemedefault.st\n",
      "y))) (./packages.tex\n",
      "(/usr/local/texlive/2023/texmf-dist/tex/latex/base/inputenc.sty)\n",
      "(/usr/local/texlive/2023/texmf-dist/tex/latex/base/fontenc.sty)\n",
      "(/usr/local/texlive/2023/texmf-dist/tex/generic/babel/babel.sty\n",
      "(/usr/local/texlive/2023/texmf-dist/tex/generic/babel/txtbabel.def)\n",
      "(/usr/local/texlive/2023/texmf-dist/tex/generic/babel-english/english.ldf))\n",
      "(/usr/local/texlive/2023/texmf-dist/tex/generic/babel/locale/en/babel-english.t\n",
      "ex) (/usr/local/texlive/2023/texmf-dist/tex/latex/pgfplots/pgfplots.sty\n",
      "(/usr/local/texlive/2023/texmf-dist/tex/generic/pgfplots/pgfplots.revision.tex)\n",
      "(/usr/local/texlive/2023/texmf-dist/tex/latex/pgf/frontendlayer/tikz.sty\n",
      "(/usr/local/texlive/2023/texmf-dist/tex/latex/pgf/basiclayer/pgf.sty\n",
      "(/usr/local/texlive/2023/texmf-dist/tex/generic/pgf/modules/pgfmoduleshapes.cod\n",
      "e.tex)\n",
      "(/usr/local/texlive/2023/texmf-dist/tex/generic/pgf/modules/pgfmoduleplot.code.\n",
      "tex)\n",
      "(/usr/local/texlive/2023/texmf-dist/tex/latex/pgf/compatibility/pgfcomp-version\n",
      "-0-65.sty)\n",
      "(/usr/local/texlive/2023/texmf-dist/tex/latex/pgf/compatibility/pgfcomp-version\n",
      "-1-18.sty))\n",
      "(/usr/local/texlive/2023/texmf-dist/tex/latex/pgf/utilities/pgffor.sty\n",
      "(/usr/local/texlive/2023/texmf-dist/tex/generic/pgf/utilities/pgffor.code.tex))\n",
      "\n",
      "(/usr/local/texlive/2023/texmf-dist/tex/generic/pgf/frontendlayer/tikz/tikz.cod\n",
      "e.tex\n",
      "(/usr/local/texlive/2023/texmf-dist/tex/generic/pgf/libraries/pgflibraryplothan\n",
      "dlers.code.tex)\n",
      "(/usr/local/texlive/2023/texmf-dist/tex/generic/pgf/modules/pgfmodulematrix.cod\n",
      "e.tex)\n",
      "(/usr/local/texlive/2023/texmf-dist/tex/generic/pgf/frontendlayer/tikz/librarie\n",
      "s/tikzlibrarytopaths.code.tex)))\n",
      "(/usr/local/texlive/2023/texmf-dist/tex/generic/pgfplots/pgfplots.code.tex\n",
      "(/usr/local/texlive/2023/texmf-dist/tex/generic/pgfplots/pgfplotscore.code.tex\n",
      "(/usr/local/texlive/2023/texmf-dist/tex/generic/pgfplots/sys/pgfplotssysgeneric\n",
      ".code.tex))\n",
      "(/usr/local/texlive/2023/texmf-dist/tex/generic/pgfplots/libs/pgfplotslibrary.c\n",
      "ode.tex)\n",
      "(/usr/local/texlive/2023/texmf-dist/tex/generic/pgfplots/oldpgfcompatib/pgfplot\n",
      "soldpgfsupp_loader.code.tex\n",
      "(/usr/local/texlive/2023/texmf-dist/tex/generic/pgf/libraries/pgflibraryfpu.cod\n",
      "e.tex)\n",
      "Package pgfplots: loading complementary utilities for your pgf version...\n",
      "\n",
      "(/usr/local/texlive/2023/texmf-dist/tex/generic/pgfplots/oldpgfcompatib/pgfplot\n",
      "soldpgfsupp_pgfutil-common-lists.tex))\n",
      "(/usr/local/texlive/2023/texmf-dist/tex/generic/pgfplots/util/pgfplotsutil.code\n",
      ".tex\n",
      "(/usr/local/texlive/2023/texmf-dist/tex/generic/pgfplots/liststructure/pgfplots\n",
      "liststructure.code.tex)\n",
      "(/usr/local/texlive/2023/texmf-dist/tex/generic/pgfplots/liststructure/pgfplots\n",
      "liststructureext.code.tex)\n",
      "(/usr/local/texlive/2023/texmf-dist/tex/generic/pgfplots/liststructure/pgfplots\n",
      "array.code.tex)\n",
      "(/usr/local/texlive/2023/texmf-dist/tex/generic/pgfplots/liststructure/pgfplots\n",
      "matrix.code.tex)\n",
      "(/usr/local/texlive/2023/texmf-dist/tex/generic/pgfplots/numtable/pgfplotstable\n",
      "shared.code.tex)\n",
      "(/usr/local/texlive/2023/texmf-dist/tex/generic/pgfplots/liststructure/pgfplots\n",
      "deque.code.tex)\n",
      "(/usr/local/texlive/2023/texmf-dist/tex/generic/pgfplots/util/pgfplotsbinary.co\n",
      "de.tex\n",
      "(/usr/local/texlive/2023/texmf-dist/tex/generic/pgfplots/util/pgfplotsbinary.da\n",
      "ta.code.tex))\n",
      "(/usr/local/texlive/2023/texmf-dist/tex/generic/pgfplots/util/pgfplotsutil.verb\n",
      ".code.tex)\n",
      "(/usr/local/texlive/2023/texmf-dist/tex/generic/pgfplots/libs/pgflibrarypgfplot\n",
      "s.surfshading.code.tex\n",
      "(/usr/local/texlive/2023/texmf-dist/tex/generic/pgfplots/sys/pgflibrarypgfplots\n",
      ".surfshading.pgfsys-pdftex.def)))\n",
      "(/usr/local/texlive/2023/texmf-dist/tex/generic/pgfplots/util/pgfplotscolormap.\n",
      "code.tex\n",
      "(/usr/local/texlive/2023/texmf-dist/tex/generic/pgfplots/util/pgfplotscolor.cod\n",
      "e.tex))\n",
      "(/usr/local/texlive/2023/texmf-dist/tex/generic/pgfplots/pgfplotsstackedplots.c\n",
      "ode.tex)\n",
      "(/usr/local/texlive/2023/texmf-dist/tex/generic/pgfplots/pgfplotsplothandlers.c\n",
      "ode.tex\n",
      "(/usr/local/texlive/2023/texmf-dist/tex/generic/pgfplots/pgfplotsmeshplothandle\n",
      "r.code.tex\n",
      "(/usr/local/texlive/2023/texmf-dist/tex/generic/pgfplots/pgfplotsmeshplotimage.\n",
      "code.tex)))\n",
      "(/usr/local/texlive/2023/texmf-dist/tex/generic/pgfplots/pgfplots.scaling.code.\n",
      "tex)\n",
      "(/usr/local/texlive/2023/texmf-dist/tex/generic/pgfplots/pgfplotscoordprocessin\n",
      "g.code.tex)\n",
      "(/usr/local/texlive/2023/texmf-dist/tex/generic/pgfplots/pgfplots.errorbars.cod\n",
      "e.tex)\n",
      "(/usr/local/texlive/2023/texmf-dist/tex/generic/pgfplots/pgfplots.markers.code.\n",
      "tex)\n",
      "(/usr/local/texlive/2023/texmf-dist/tex/generic/pgfplots/pgfplotsticks.code.tex\n",
      ")\n",
      "(/usr/local/texlive/2023/texmf-dist/tex/generic/pgfplots/pgfplots.paths.code.te\n",
      "x)\n",
      "(/usr/local/texlive/2023/texmf-dist/tex/generic/pgf/frontendlayer/tikz/librarie\n",
      "s/tikzlibrarydecorations.code.tex\n",
      "(/usr/local/texlive/2023/texmf-dist/tex/generic/pgf/modules/pgfmoduledecoration\n",
      "s.code.tex))\n",
      "(/usr/local/texlive/2023/texmf-dist/tex/generic/pgf/frontendlayer/tikz/librarie\n",
      "s/tikzlibrarydecorations.pathmorphing.code.tex\n",
      "(/usr/local/texlive/2023/texmf-dist/tex/generic/pgf/libraries/decorations/pgfli\n",
      "brarydecorations.pathmorphing.code.tex))\n",
      "(/usr/local/texlive/2023/texmf-dist/tex/generic/pgf/frontendlayer/tikz/librarie\n",
      "s/tikzlibrarydecorations.pathreplacing.code.tex\n",
      "(/usr/local/texlive/2023/texmf-dist/tex/generic/pgf/libraries/decorations/pgfli\n",
      "brarydecorations.pathreplacing.code.tex))\n",
      "(/usr/local/texlive/2023/texmf-dist/tex/generic/pgfplots/libs/tikzlibrarypgfplo\n",
      "ts.contourlua.code.tex))\n",
      "(/usr/local/texlive/2023/texmf-dist/tex/generic/pgf/frontendlayer/tikz/librarie\n",
      "s/tikzlibraryplotmarks.code.tex\n",
      "(/usr/local/texlive/2023/texmf-dist/tex/generic/pgf/libraries/pgflibraryplotmar\n",
      "ks.code.tex)))\n",
      "(/usr/local/texlive/2023/texmf-dist/tex/latex/siunitx/siunitx.sty\n",
      "(/usr/local/texlive/2023/texmf-dist/tex/latex/translations/translations.sty)\n",
      "(/usr/local/texlive/2023/texmf-dist/tex/latex/tools/array.sty))\n",
      "(/usr/local/texlive/2023/texmf-dist/tex/latex/beamer/multimedia.sty\n",
      "(/usr/local/texlive/2023/texmf-dist/tex/generic/iftex/ifpdf.sty))\n",
      "(/usr/local/texlive/2023/texmf-dist/tex/latex/float/float.sty)\n",
      "(/usr/local/texlive/2023/texmf-dist/tex/latex/setspace/setspace.sty)\n",
      "(/usr/local/texlive/2023/texmf-dist/tex/latex/l3packages/xfrac/xfrac.sty\n",
      "(/usr/local/texlive/2023/texmf-dist/tex/latex/l3kernel/expl3.sty\n",
      "(/usr/local/texlive/2023/texmf-dist/tex/latex/l3backend/l3backend-pdftex.def))\n",
      "(/usr/local/texlive/2023/texmf-dist/tex/latex/l3packages/l3keys2e/l3keys2e.sty)\n",
      " (/usr/local/texlive/2023/texmf-dist/tex/latex/base/textcomp.sty)\n",
      "(/usr/local/texlive/2023/texmf-dist/tex/latex/l3packages/xparse/xparse.sty)\n",
      "(/usr/local/texlive/2023/texmf-dist/tex/latex/l3packages/xtemplate/xtemplate.st\n",
      "y)) (/usr/local/texlive/2023/texmf-dist/tex/latex/booktabs/booktabs.sty)\n",
      "(/usr/local/texlive/2023/texmf-dist/tex/latex/csquotes/csquotes.sty\n",
      "(/usr/local/texlive/2023/texmf-dist/tex/latex/csquotes/csquotes.def)\n",
      "(/usr/local/texlive/2023/texmf-dist/tex/latex/csquotes/csquotes.cfg))\n",
      "(/usr/local/texlive/2023/texmf-dist/tex/latex/biblatex/biblatex.sty\n",
      "(/usr/local/texlive/2023/texmf-dist/tex/latex/logreq/logreq.sty\n",
      "(/usr/local/texlive/2023/texmf-dist/tex/latex/logreq/logreq.def))\n",
      "(/usr/local/texlive/2023/texmf-dist/tex/latex/base/ifthen.sty)\n",
      "(/usr/local/texlive/2023/texmf-dist/tex/latex/biblatex/blx-dm.def)\n",
      "(/usr/local/texlive/2023/texmf-dist/tex/latex/biblatex/blx-compat.def)\n",
      "(/usr/local/texlive/2023/texmf-dist/tex/latex/biblatex/biblatex.def)\n",
      "(/usr/local/texlive/2023/texmf-dist/tex/latex/biblatex-ieee/ieee.bbx\n",
      "(/usr/local/texlive/2023/texmf-dist/tex/latex/biblatex/bbx/numeric-comp.bbx\n",
      "(/usr/local/texlive/2023/texmf-dist/tex/latex/biblatex/bbx/numeric.bbx\n",
      "(/usr/local/texlive/2023/texmf-dist/tex/latex/biblatex/bbx/standard.bbx))))\n",
      "(/usr/local/texlive/2023/texmf-dist/tex/latex/biblatex-ieee/ieee.cbx\n",
      "(/usr/local/texlive/2023/texmf-dist/tex/latex/biblatex/cbx/numeric-comp.cbx))\n",
      "(/usr/local/texlive/2023/texmf-dist/tex/latex/biblatex/biblatex.cfg)\n",
      "(/usr/local/texlive/2023/texmf-dist/tex/latex/biblatex/blx-case-expl3.sty)))\n",
      "(./beamer_ovgu_169.sty\n",
      "(/usr/local/texlive/2023/texmf-dist/tex/latex/beamer/beamerouterthememiniframes\n",
      ".sty) (/usr/local/texlive/2023/texmf-dist/tex/latex/psnfss/times.sty)\n",
      "(/usr/local/texlive/2023/texmf-dist/tex/latex/beamer/beamerfontthemeserif.sty))\n",
      "(/usr/local/texlive/2023/texmf-dist/tex/latex/psnfss/t1phv.fd)\n",
      "(/Users/I516998/Documents/uni - mannheim/ankinator/ankinator-flashcard-models/o\n",
      "ut/test.aux)\n",
      "*geometry* driver: auto-detecting\n",
      "*geometry* detected driver: pdftex\n",
      "(/usr/local/texlive/2023/texmf-dist/tex/context/base/mkii/supp-pdf.mkii\n",
      "[Loading MPS to PDF converter (version 2006.09.02).]\n",
      ") (/usr/local/texlive/2023/texmf-dist/tex/latex/epstopdf-pkg/epstopdf-base.sty\n",
      "(/usr/local/texlive/2023/texmf-dist/tex/latex/latexconfig/epstopdf-sys.cfg))\n",
      "(/Users/I516998/Documents/uni - mannheim/ankinator/ankinator-flashcard-models/o\n",
      "ut/test.out)\n",
      "(/Users/I516998/Documents/uni - mannheim/ankinator/ankinator-flashcard-models/o\n",
      "ut/test.out)\n",
      "(/usr/local/texlive/2023/texmf-dist/tex/latex/translator/translator-basic-dicti\n",
      "onary-English.dict)\n",
      "(/usr/local/texlive/2023/texmf-dist/tex/latex/translator/translator-bibliograph\n",
      "y-dictionary-English.dict)\n",
      "(/usr/local/texlive/2023/texmf-dist/tex/latex/translator/translator-environment\n",
      "-dictionary-English.dict)\n",
      "(/usr/local/texlive/2023/texmf-dist/tex/latex/translator/translator-months-dict\n",
      "ionary-English.dict)\n",
      "(/usr/local/texlive/2023/texmf-dist/tex/latex/translator/translator-numbers-dic\n",
      "tionary-English.dict)\n",
      "(/usr/local/texlive/2023/texmf-dist/tex/latex/translator/translator-theorem-dic\n",
      "tionary-English.dict)\n",
      "Package pgfplots notification 'compat/show suggested version=true': document ha\n",
      "s been generated with the most recent feature set (\\pgfplotsset{compat=1.18}).\n",
      "\n",
      "\n",
      "(/usr/local/texlive/2023/texmf-dist/tex/latex/translations/translations-basic-d\n",
      "ictionary-english.trsl)\n",
      "(/usr/local/texlive/2023/texmf-dist/tex/latex/biblatex/lbx/english.lbx)\n",
      "No file test.bbl.\n",
      "\n",
      "(/Users/I516998/Documents/uni - mannheim/ankinator/ankinator-flashcard-models/o\n",
      "ut/test.nav) (/usr/local/texlive/2023/texmf-dist/tex/latex/amsfonts/umsa.fd)\n",
      "(/usr/local/texlive/2023/texmf-dist/tex/latex/amsfonts/umsb.fd)\n",
      "(/usr/local/texlive/2023/texmf-dist/tex/latex/psnfss/t1ptm.fd) [1{/usr/local/te\n",
      "xlive/2023/texmf-var/fonts/map/pdftex/updmap/pdftex.map}{/usr/local/texlive/202\n",
      "3/texmf-dist/fonts/enc/dvips/base/8r.enc} <./logos//OVGU_SIGN_druck.pdf>]\n",
      "(/usr/local/texlive/2023/texmf-dist/tex/latex/psnfss/ts1phv.fd) [2] [3]\n",
      "Overfull \\vbox (14.62408pt too high) detected at line 73\n",
      "[4 </Users/I516998/Library/Application Support/Anki2/User 1/collection.media/im\n",
      "age-45db37487146d9d5f7917a9754f9da632f978ca7.png>]\n",
      "Overfull \\vbox (14.62408pt too high) detected at line 83\n",
      "[5 </Users/I516998/Library/Application Support/Anki2/User 1/collection.media/im\n",
      "age-0a9614154db41c2ebd6b3d30c33a1fb425c96c48.png>]\n",
      "Overfull \\vbox (421.89499pt too high) detected at line 95\n",
      "[6 </Users/I516998/Library/Application Support/Anki2/User 1/collection.media/im\n",
      "age-ef994671bb0c8ac6883de922a7ea246535a2d2e4.png> </Users/I516998/Library/Appli\n",
      "cation Support/Anki2/User 1/collection.media/image-60ca01bdccb293a49e7e6deaf155\n",
      "72d3eaa80085.png> </Users/I516998/Library/Application Support/Anki2/User 1/coll\n",
      "ection.media/image-2f8649070fea63721f938a7f7a63b027f3f5c9c9.png>]\n",
      "Overfull \\vbox (14.62408pt too high) detected at line 105\n",
      "[7 </Users/I516998/Library/Application Support/Anki2/User 1/collection.media/im\n",
      "age-433b56172a96c65f963fc6a6f9e15ecefca3c96b.png>] [8] [9] [10] [11] [12]\n",
      "[13] [14] [15] [16] [17] [18] [19] [20]\n",
      "(/Users/I516998/Documents/uni - mannheim/ankinator/ankinator-flashcard-models/o\n",
      "ut/test.aux)\n",
      "\n",
      "LaTeX Warning: There were undefined references.\n",
      "\n",
      "\n",
      "Package biblatex Warning: Please (re)run Biber on the file:\n",
      "(biblatex)                test\n",
      "(biblatex)                and rerun LaTeX afterwards.\n",
      "\n",
      " )\n",
      "(see the transcript file for additional information)</usr/local/texlive/2023/te\n",
      "xmf-dist/fonts/type1/public/amsfonts/symbols/msam10.pfb></usr/local/texlive/202\n",
      "3/texmf-dist/fonts/type1/urw/helvetic/uhvr8a.pfb>\n",
      "Output written on \"/Users/I516998/Documents/uni - mannheim/ankinator/ankinator-\n",
      "flashcard-models/out/test.pdf\" (20 pages, 8364924 bytes).\n",
      "SyncTeX written on /Users/I516998/Documents/uni - mannheim/ankinator/ankinator-flashcard-models/out/test.synctex.gz.\n",
      "Transcript written on \"/Users/I516998/Documents/uni - mannheim/ankinator/ankina\n",
      "tor-flashcard-models/out/test.log\".\n"
     ]
    },
    {
     "data": {
      "text/plain": "0"
     },
     "execution_count": 51,
     "metadata": {},
     "output_type": "execute_result"
    }
   ],
   "source": [
    "import os\n",
    "\n",
    "cwd = \"../../../ressources/image-to-text-templates/English-LaTeX-beamer-template-EMC_IMT_FEIT_OVGU_Stimulate/\"\n",
    "# compile produced latex file\n",
    "os.system(f'cd {cwd} && pdflatex -file-line-error -interaction=nonstopmode -synctex=1 -output-format=pdf \"-output-directory=/Users/I516998/Documents/uni - mannheim/ankinator/ankinator-flashcard-models/out\" {output_path}')"
   ],
   "metadata": {
    "collapsed": false,
    "ExecuteTime": {
     "start_time": "2023-04-20T11:45:51.613033Z",
     "end_time": "2023-04-20T11:45:55.060218Z"
    }
   }
  },
  {
   "cell_type": "markdown",
   "source": [
    "- The above process covers the generation of the synthetic slids. Of course this is not the final code, I converted this notebook in a easy to use class which can be executed in the background and automatically produces the slides from multiple templates. The class can be found here: src/datageneration/pdf_slide_generator.py. It is readable and documented, so you can take a look at it and see if you can find more additional valuable information than what is included in this notebook"
   ],
   "metadata": {
    "collapsed": false
   }
  }
 ],
 "metadata": {
  "kernelspec": {
   "display_name": "Python 3",
   "language": "python",
   "name": "python3"
  },
  "language_info": {
   "codemirror_mode": {
    "name": "ipython",
    "version": 2
   },
   "file_extension": ".py",
   "mimetype": "text/x-python",
   "name": "python",
   "nbconvert_exporter": "python",
   "pygments_lexer": "ipython2",
   "version": "2.7.6"
  }
 },
 "nbformat": 4,
 "nbformat_minor": 0
}
